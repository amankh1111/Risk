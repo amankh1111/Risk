{
 "cells": [
  {
   "cell_type": "markdown",
   "metadata": {},
   "source": [
    "<span style=\"font-size:30pt;font-weight:bold\">Home Credit Python Scoring Workflow v.0.7.0</font>\n",
    "\n",
    "**Copyright:**\n",
    "\n",
    "© 2017-2018, Pavel Sůva, Marek Teller, Martin Kotek, Jan Zeller, Marek Mukenšnabl, Kirill Odintsov, Jan Hynek, Elena Kuchina and Home Credit & Finance Bank Limited Liability Company, Moscow, Russia – all rights reserved\n",
    "\n",
    "Licensed under the Apache License, Version 2.0 (the \"License\");\n",
    "you may not use this file except in compliance with the [License](http://www.apache.org/licenses/LICENSE-2.0)\n",
    "\n",
    "Unless required by applicable law or agreed to in writing, software\n",
    "distributed under the License is distributed on an \"AS IS\" BASIS,\n",
    "WITHOUT WARRANTIES OR CONDITIONS OF ANY KIND, either express or implied.\n",
    "See the License for the specific language governing permissions and\n",
    "limitations under the License.\n",
    "\n",
    "\n",
    "**Contributors:**\n",
    "- Pavel Sůva (HCI Research & Development)\n",
    "- Sergey Gerasimov (HCRU Scoring & Big Data)\n",
    "- Valentina Kalenichenko (HCRU Scoring & Big Data)\n",
    "- Marek Teller (HCI Research & Development)\n",
    "- Martin Kotek (HCCN Risk Decision & Big Data)\n",
    "- Jan Zeller\n",
    "- Marek Mukenšnabl (HCI Research & Development)\n",
    "- Anatoliy Glushenko (HCRU Scoring & Big Data)\n",
    "- Kirill Odintsov (HCI Research & Development)\n",
    "- Jan Hynek (HCI Research & Development)\n",
    "- Elena Kuchina (HCI Research & Development)\n",
    "- Dmitry Gorev (HCRU Scoring & Big Data)"
   ]
  },
  {
   "cell_type": "markdown",
   "metadata": {},
   "source": [
    "# Import packages\n",
    "\n",
    "## List of packages\n",
    "- `time`, datetime - ability to get current time for logs\n",
    "- `math` - basic mathematical functions (as logarithm etc.))\n",
    "- `random` - generate random selection from probability distributions\n",
    "- `NumPy` - for scientific, mathematical, numerical calculations\n",
    "- `Scipy` - for clustering and correlation calculations\n",
    "- `Pandas` - for efficient work with large data structures (you need pandas **version 0.23 or higher**)\n",
    "- `cx_Oracle` and sqlalchemy - for loading data from Oracle database (DWH etc.)\n",
    "- `scikit`-learn - all important machine learning (and statistical) algorithms used for training the models\n",
    "- `matplotlib` - for plotting the charts\n",
    "- `seaborn` - for statistical visualisations\n",
    "- `os` - for setting output paths for generated image files\n",
    "- `pickle` - to save models to external files\n",
    "- `tqdm` - intelligent progress bar\n",
    "- `tkinter` - for interactive Interactions tool GUI\n",
    "- `xgboost` - gradient boosting used for feature selection before regression\n",
    "\n",
    "**If any of these packages is missing, you have to install it from the Anaconda prompt using command *conda install packagename* where *packagename* is the name of the installed package.**\n",
    "\n",
    "There is another package called *scoring*, which is distributed along with this workflow. **The folder *scoring* must be located in the same folder as this workflow for the package to be loaded correctly.** Alternatively, you can locate it somewhere else and then use *sys.path.insert()* to map this location.\n",
    "\n",
    "## Other important prerequisites\n",
    "\n",
    "For the grouping some **extensions for Jupyter must be installed and enabled before Jupyter is started and the notebook is loaded**. These extensions are Javascripts running in the browser, so it is necessary to have a compatibile browser. Generally, Chrome is OK, Internet Explorer 11 is NOT OK. To install the extensions, run this in your Anaconda prompt:\n",
    "\n",
    "- `conda install ipywidgets`\n",
    "- `jupyter nbextension enable --py --sys-prefix widgetsnbextension`\n",
    "- `conda config --add channels conda-forge`\n",
    "- `conda install qgrid` \n",
    "- `jupyter nbextension enable --py --sys-prefix qgrid`\n",
    "- `conda install tqdm`\n",
    "\n",
    "Please, make sure that qgrid library that you installed in this step is **verison 1.0.3 or higher**. \n",
    "\n",
    "To be able to connect to Oracle database (to get the data directly from your DWH) you need a compatibile Oracle driver to be installed on your computer. **With 64-bit Python, you need to have 64-bit Oracle driver installed.** Before you install the driver, you need to have Java 8 JDK (JRE is not enough) installed on your computer."
   ]
  },
  {
   "cell_type": "code",
   "execution_count": 1,
   "metadata": {},
   "outputs": [],
   "source": [
    "import time\n",
    "import datetime\n",
    "import operator\n",
    "import math\n",
    "import random\n",
    "import numpy as np\n",
    "import pandas as pd\n",
    "# import cx_Oracle\n",
    "import matplotlib\n",
    "import matplotlib.pyplot as plt\n",
    "import seaborn as sns\n",
    "import os.path\n",
    "import pickle\n",
    "import gc\n",
    "from tqdm import tqdm_notebook as tqdm\n",
    "#import tkinter\n",
    "#import xgboost as xgb\n",
    "\n",
    "import sys\n",
    "\n",
    "sys.path.append(r\"C:\\Users\\aman.khatri91425\\Desktop\\HomeCredit\\UW\\Scoring Workflow\")\n",
    "import scoring\n",
    "#import importlib\n",
    "#importlib.reload(scoring)\n",
    "\n",
    "# import warnings\n",
    "# warnings.filterwarnings('ignore')\n",
    "os.chdir(r\"C:\\Users\\aman.khatri91425\\Desktop\\HomeCredit\\UW\\Airtel\\GM Combiner\")"
   ]
  },
  {
   "cell_type": "markdown",
   "metadata": {},
   "source": [
    "Set general technical parameters and paths."
   ]
  },
  {
   "cell_type": "code",
   "execution_count": 2,
   "metadata": {},
   "outputs": [],
   "source": [
    "sns.set()\n",
    "%matplotlib inline\n",
    "%config InlineBackend.close_figures=True\n",
    "from IPython.display import display, Markdown\n",
    "pd.options.display.max_columns = None\n",
    "pd.options.display.max_rows = 15\n",
    "output_folder = 'documentation'\n",
    "\n",
    "if not os.path.exists(output_folder): os.makedirs(output_folder)\n",
    "if not os.path.exists(output_folder+'/performance'): os.makedirs(output_folder+'/performance')\n",
    "if not os.path.exists(output_folder+'/predictors'): os.makedirs(output_folder+'/predictors')\n",
    "if not os.path.exists(output_folder+'/stability'): os.makedirs(output_folder+'/stability')\n",
    "if not os.path.exists(output_folder+'/stability_short'): os.makedirs(output_folder+'/stability_short')\n",
    "if not os.path.exists(output_folder+'/analysis'): os.makedirs(output_folder+'/analysis')\n",
    "if not os.path.exists(output_folder+'/model'): os.makedirs(output_folder+'/model')\n",
    "if not os.path.exists(output_folder+'/nan_share'): os.makedirs(output_folder+'/nan_share')\n",
    "scoring.check_version('0.7.0')"
   ]
  },
  {
   "cell_type": "markdown",
   "metadata": {},
   "source": [
    "# Input data\n",
    "\n",
    "## Import data\n",
    "Importing data from a CSV file. It is important to set the following parameters:\n",
    "\n",
    "encoding: usually 'utf-8' or windows-xxxx on Windows machines, where xxxx is 1250 for Central Europe, 1251 for Cyrilic etc.\n",
    "sep: separator of columns in the file\n",
    "decimal: decimal dot or coma\n",
    "index_col: which columns is used as index - should be the unique credit case identifier\n",
    "\n",
    "**Defining NA values:** In different datasets, there can be different values to be considered *N/A*. By default, we set only blank fields to be considered *N/A*, however you might want to change it and add values like *'NA'*, *'NAN'*, *'null'* to be also considered *N/A*. User parameter `na_values` for this."
   ]
  },
  {
   "cell_type": "code",
   "execution_count": 4,
   "metadata": {},
   "outputs": [
    {
     "name": "stdout",
     "output_type": "stream",
     "text": [
      "Data loaded on 2021-03-16 14:38:07\n"
     ]
    }
   ],
   "source": [
    "from scoring import db\n",
    "data = db.read_csv(os.getcwd()+r'\\Data Files\\export_with_backscored.CSV', sep = ',', decimal = '.',\n",
    "                   optimize_types=True, encoding = 'utf-8', index_col = 'SKP_CREDIT_CASE', low_memory = False,\n",
    "                   keep_default_na = False, na_values = [''])\n",
    "print('Data loaded on',datetime.datetime.fromtimestamp(time.time()).strftime('%Y-%m-%d %H:%M:%S'))"
   ]
  },
  {
   "cell_type": "markdown",
   "metadata": {},
   "source": [
    "The data need to have index column which has unique value per each row. If not, it can cause some problems later. Run this to deal with such rows:"
   ]
  },
  {
   "cell_type": "code",
   "execution_count": 7,
   "metadata": {},
   "outputs": [
    {
     "name": "stdout",
     "output_type": "stream",
     "text": [
      "CD    172403\n",
      "Name: PRODUCT_GROUP, dtype: int64\n",
      "N    172403\n",
      "Name: CLIENT_EXI_3M, dtype: int64\n",
      "Approved    172403\n",
      "Name: DECISION_OVERALL, dtype: int64\n",
      "0    169169\n",
      "1      3234\n",
      "Name: FLAG_1PCT_PHANTOM, dtype: int64\n"
     ]
    }
   ],
   "source": [
    "df= data.dropna(subset = ['AIRTEL_SCORE'])\n",
    "print(df.PRODUCT_GROUP.value_counts())\n",
    "print(df.CLIENT_EXI_3M.value_counts())\n",
    "print(df.DECISION_OVERALL.value_counts())\n",
    "print(df.FLAG_1PCT_PHANTOM.value_counts())\n"
   ]
  },
  {
   "cell_type": "code",
   "execution_count": 8,
   "metadata": {},
   "outputs": [
    {
     "data": {
      "text/html": [
       "<div>\n",
       "<style scoped>\n",
       "    .dataframe tbody tr th:only-of-type {\n",
       "        vertical-align: middle;\n",
       "    }\n",
       "\n",
       "    .dataframe tbody tr th {\n",
       "        vertical-align: top;\n",
       "    }\n",
       "\n",
       "    .dataframe thead th {\n",
       "        text-align: right;\n",
       "    }\n",
       "</style>\n",
       "<table border=\"1\" class=\"dataframe\">\n",
       "  <thead>\n",
       "    <tr style=\"text-align: right;\">\n",
       "      <th></th>\n",
       "      <th>TIME_DECISION_DATE</th>\n",
       "      <th>DECISION_MONTH</th>\n",
       "      <th>PRODUCT_GROUP</th>\n",
       "      <th>CLIENT_EXI_3M</th>\n",
       "      <th>NTC_FLAG</th>\n",
       "      <th>RISK_SCORE</th>\n",
       "      <th>DECISION_OVERALL</th>\n",
       "      <th>RISK_FPD10</th>\n",
       "      <th>RISK_FPD30</th>\n",
       "      <th>RISK_FSPD30</th>\n",
       "      <th>RISK_FSTPD30</th>\n",
       "      <th>FLAG_1PCT_PHANTOM</th>\n",
       "      <th>RISK_AGRF10</th>\n",
       "      <th>RISK_AGRF30</th>\n",
       "      <th>RISK_AGRF60</th>\n",
       "      <th>RISK_AGRF90</th>\n",
       "      <th>AIRTEL_SCORE</th>\n",
       "      <th>REJECT_TYPE</th>\n",
       "    </tr>\n",
       "    <tr>\n",
       "      <th>SKP_CREDIT_CASE</th>\n",
       "      <th></th>\n",
       "      <th></th>\n",
       "      <th></th>\n",
       "      <th></th>\n",
       "      <th></th>\n",
       "      <th></th>\n",
       "      <th></th>\n",
       "      <th></th>\n",
       "      <th></th>\n",
       "      <th></th>\n",
       "      <th></th>\n",
       "      <th></th>\n",
       "      <th></th>\n",
       "      <th></th>\n",
       "      <th></th>\n",
       "      <th></th>\n",
       "      <th></th>\n",
       "      <th></th>\n",
       "    </tr>\n",
       "  </thead>\n",
       "  <tbody>\n",
       "    <tr>\n",
       "      <th>305534571</th>\n",
       "      <td>05-06-20</td>\n",
       "      <td>01-06-20</td>\n",
       "      <td>CD</td>\n",
       "      <td>N</td>\n",
       "      <td>Others</td>\n",
       "      <td>NaN</td>\n",
       "      <td>Approved</td>\n",
       "      <td>0</td>\n",
       "      <td>0</td>\n",
       "      <td>0</td>\n",
       "      <td>0</td>\n",
       "      <td>0</td>\n",
       "      <td>1</td>\n",
       "      <td>1</td>\n",
       "      <td>1</td>\n",
       "      <td>1</td>\n",
       "      <td>NaN</td>\n",
       "      <td>SCORE_REJECT</td>\n",
       "    </tr>\n",
       "    <tr>\n",
       "      <th>305542545</th>\n",
       "      <td>01-06-20</td>\n",
       "      <td>01-06-20</td>\n",
       "      <td>CD</td>\n",
       "      <td>N</td>\n",
       "      <td>Others</td>\n",
       "      <td>NaN</td>\n",
       "      <td>Approved</td>\n",
       "      <td>0</td>\n",
       "      <td>0</td>\n",
       "      <td>1</td>\n",
       "      <td>1</td>\n",
       "      <td>0</td>\n",
       "      <td>1</td>\n",
       "      <td>1</td>\n",
       "      <td>1</td>\n",
       "      <td>1</td>\n",
       "      <td>NaN</td>\n",
       "      <td>SCORE_REJECT</td>\n",
       "    </tr>\n",
       "    <tr>\n",
       "      <th>305499118</th>\n",
       "      <td>01-06-20</td>\n",
       "      <td>01-06-20</td>\n",
       "      <td>CD</td>\n",
       "      <td>N</td>\n",
       "      <td>NTC</td>\n",
       "      <td>NaN</td>\n",
       "      <td>Approved</td>\n",
       "      <td>0</td>\n",
       "      <td>0</td>\n",
       "      <td>0</td>\n",
       "      <td>0</td>\n",
       "      <td>0</td>\n",
       "      <td>1</td>\n",
       "      <td>1</td>\n",
       "      <td>1</td>\n",
       "      <td>1</td>\n",
       "      <td>NaN</td>\n",
       "      <td>SCORE_REJECT</td>\n",
       "    </tr>\n",
       "    <tr>\n",
       "      <th>305501630</th>\n",
       "      <td>01-06-20</td>\n",
       "      <td>01-06-20</td>\n",
       "      <td>CD</td>\n",
       "      <td>N</td>\n",
       "      <td>Others</td>\n",
       "      <td>NaN</td>\n",
       "      <td>Approved</td>\n",
       "      <td>1</td>\n",
       "      <td>1</td>\n",
       "      <td>1</td>\n",
       "      <td>1</td>\n",
       "      <td>0</td>\n",
       "      <td>1</td>\n",
       "      <td>1</td>\n",
       "      <td>1</td>\n",
       "      <td>1</td>\n",
       "      <td>NaN</td>\n",
       "      <td>SCORE_REJECT</td>\n",
       "    </tr>\n",
       "    <tr>\n",
       "      <th>305431258</th>\n",
       "      <td>01-06-20</td>\n",
       "      <td>01-06-20</td>\n",
       "      <td>CD</td>\n",
       "      <td>N</td>\n",
       "      <td>Others</td>\n",
       "      <td>NaN</td>\n",
       "      <td>Approved</td>\n",
       "      <td>0</td>\n",
       "      <td>0</td>\n",
       "      <td>0</td>\n",
       "      <td>0</td>\n",
       "      <td>0</td>\n",
       "      <td>1</td>\n",
       "      <td>1</td>\n",
       "      <td>1</td>\n",
       "      <td>1</td>\n",
       "      <td>NaN</td>\n",
       "      <td>SCORE_REJECT</td>\n",
       "    </tr>\n",
       "  </tbody>\n",
       "</table>\n",
       "</div>"
      ],
      "text/plain": [
       "                TIME_DECISION_DATE DECISION_MONTH PRODUCT_GROUP CLIENT_EXI_3M  \\\n",
       "SKP_CREDIT_CASE                                                                 \n",
       "305534571                 05-06-20       01-06-20            CD             N   \n",
       "305542545                 01-06-20       01-06-20            CD             N   \n",
       "305499118                 01-06-20       01-06-20            CD             N   \n",
       "305501630                 01-06-20       01-06-20            CD             N   \n",
       "305431258                 01-06-20       01-06-20            CD             N   \n",
       "\n",
       "                NTC_FLAG  RISK_SCORE DECISION_OVERALL  RISK_FPD10  RISK_FPD30  \\\n",
       "SKP_CREDIT_CASE                                                                 \n",
       "305534571         Others         NaN         Approved           0           0   \n",
       "305542545         Others         NaN         Approved           0           0   \n",
       "305499118            NTC         NaN         Approved           0           0   \n",
       "305501630         Others         NaN         Approved           1           1   \n",
       "305431258         Others         NaN         Approved           0           0   \n",
       "\n",
       "                 RISK_FSPD30  RISK_FSTPD30  FLAG_1PCT_PHANTOM  RISK_AGRF10  \\\n",
       "SKP_CREDIT_CASE                                                              \n",
       "305534571                  0             0                  0            1   \n",
       "305542545                  1             1                  0            1   \n",
       "305499118                  0             0                  0            1   \n",
       "305501630                  1             1                  0            1   \n",
       "305431258                  0             0                  0            1   \n",
       "\n",
       "                 RISK_AGRF30  RISK_AGRF60  RISK_AGRF90  AIRTEL_SCORE  \\\n",
       "SKP_CREDIT_CASE                                                        \n",
       "305534571                  1            1            1           NaN   \n",
       "305542545                  1            1            1           NaN   \n",
       "305499118                  1            1            1           NaN   \n",
       "305501630                  1            1            1           NaN   \n",
       "305431258                  1            1            1           NaN   \n",
       "\n",
       "                  REJECT_TYPE  \n",
       "SKP_CREDIT_CASE                \n",
       "305534571        SCORE_REJECT  \n",
       "305542545        SCORE_REJECT  \n",
       "305499118        SCORE_REJECT  \n",
       "305501630        SCORE_REJECT  \n",
       "305431258        SCORE_REJECT  "
      ]
     },
     "execution_count": 8,
     "metadata": {},
     "output_type": "execute_result"
    }
   ],
   "source": [
    "data.head()"
   ]
  },
  {
   "cell_type": "code",
   "execution_count": 6,
   "metadata": {},
   "outputs": [],
   "source": [
    "data = data [data[\"RISK_AGRF30\"]==1]\n",
    "data= data[[\"TIME_DECISION_DATE\",\"AIRTEL_SCORE\",\"RISK_FPD30\"]]"
   ]
  },
  {
   "cell_type": "code",
   "execution_count": 7,
   "metadata": {},
   "outputs": [],
   "source": [
    "# data.info()"
   ]
  },
  {
   "cell_type": "code",
   "execution_count": 8,
   "metadata": {},
   "outputs": [],
   "source": [
    "#Option 1: remove rows with duplicated index\n",
    "data=data[~data.index.duplicated(keep='first')]\n",
    "\n",
    "#Option 2: reset index\n",
    "#data.reset_index(inplace=True)"
   ]
  },
  {
   "cell_type": "markdown",
   "metadata": {},
   "source": [
    "Optionally the data can be loaded also from a database. The function read_sql uses cache, so the data don't have to be downloaded from the database repeatedly. The cache will be located in a new folder called **db_cache**."
   ]
  },
  {
   "cell_type": "code",
   "execution_count": 9,
   "metadata": {
    "code_folding": []
   },
   "outputs": [],
   "source": [
    "# from sqlalchemy import create_engine\n",
    "#engine = create_engine('oracle://PAVELS[GP_HQ_RISK]:xxx@(DESCRIPTION=(ADDRESS=(PROTOCOL=TCP)(HOST=DBDWHRU.HOMECREDIT.RU)(PORT=1521))(CONNECT_DATA=(SERVICE_NAME=DWHRU)))', echo=False)"
   ]
  },
  {
   "cell_type": "code",
   "execution_count": 10,
   "metadata": {},
   "outputs": [],
   "source": [
    "#from scoring.db import read_sql\n",
    "#ru_data = read_sql('select * from owner_dwh.f_application_tt where rownum<11',engine, index_col = 'sk_application')\n",
    "#print('Data loaded on',datetime.datetime.fromtimestamp(time.time()).strftime('%Y-%m-%d %H:%M:%S'))"
   ]
  },
  {
   "cell_type": "markdown",
   "metadata": {},
   "source": [
    "If you need to download data from the database again (and not from cache), use the parameter refresh:"
   ]
  },
  {
   "cell_type": "code",
   "execution_count": 11,
   "metadata": {},
   "outputs": [],
   "source": [
    "#from scoring.db import read_sql\n",
    "#data = read_sql('select * from owner_dwh.f_application_base_tt where rownum=1',engine, index_col = 'skp_application',refresh=True)\n",
    "#print('Data loaded on',datetime.datetime.fromtimestamp(time.time()).strftime('%Y-%m-%d %H:%M:%S'))"
   ]
  },
  {
   "cell_type": "code",
   "execution_count": 12,
   "metadata": {},
   "outputs": [
    {
     "name": "stdout",
     "output_type": "stream",
     "text": [
      "Number of rows: 304167\n",
      "Number of columns: 3\n"
     ]
    }
   ],
   "source": [
    "print('Number of rows:',data.shape[0])\n",
    "print('Number of columns:',data.shape[1])"
   ]
  },
  {
   "cell_type": "markdown",
   "metadata": {},
   "source": [
    "## Metadata definitions\n",
    "Assigning ID column, target column, time column and month column. The month column don't have to exist in the dataset, it will be created later in this workflow."
   ]
  },
  {
   "cell_type": "code",
   "execution_count": 13,
   "metadata": {},
   "outputs": [],
   "source": [
    "### THESE COLUMNS MUST BE INCLUDED IN THE DATA SET ###\n",
    "#name of the target column\n",
    "col_target = \"RISK_FPD30\"\n",
    "#name of the time column\n",
    "col_time = \"TIME_DECISION_DATE\"\n",
    "\n",
    "### THESE COLUMNS DON'T HAVE TO BE INCLUDED IN THE DATA SET AND ARE CREATED AUTOMATICALLY LATER ###\n",
    "#name of the base column\n",
    "col_base = \"BASE\"\n",
    "#name of the month column\n",
    "col_month = \"MONTH\"\n",
    "#name of the day column\n",
    "col_day = \"DAY\"\n",
    "#name of the weight column - CURRENTLY COMMENTED OUT BECAUSE OF REASONS MENTIONED LATER\n",
    "col_weight = 'WEIGHT'\n",
    "#name of the reject column - only use if exists in your data, used for reject inference analysis\n",
    "col_reject = 'REJECTED'"
   ]
  },
  {
   "cell_type": "code",
   "execution_count": 14,
   "metadata": {},
   "outputs": [],
   "source": [
    "pd.DataFrame.from_records([['col_time',col_time],['col_month',col_month],['col_day',col_day],['col_target',col_target],['col_base',col_base]]) \\\n",
    ".to_csv(output_folder+'/model/metadata.csv',index=0,header=None)\n",
    "\n",
    "data[col_target] = data[col_target].astype(np.float)"
   ]
  },
  {
   "cell_type": "markdown",
   "metadata": {},
   "source": [
    "If you don't have base column in your data set, the following code adds it (based on if target is filled)."
   ]
  },
  {
   "cell_type": "code",
   "execution_count": 15,
   "metadata": {},
   "outputs": [
    {
     "name": "stdout",
     "output_type": "stream",
     "text": [
      "Column BASE added/modified. Number of columns: 4\n"
     ]
    }
   ],
   "source": [
    "if col_base not in data:\n",
    "    data[col_base] = 0\n",
    "    data.loc[data[col_target]==0,col_base] = 1\n",
    "    data.loc[data[col_target]==1,col_base] = 1\n",
    "    print('Column',col_base,'added/modified. Number of columns:',data.shape[1])\n",
    "else:\n",
    "    print('Column',col_base,'already exists.')"
   ]
  },
  {
   "cell_type": "markdown",
   "metadata": {},
   "source": [
    "If you don't have weight column in your data set, the following code adds it, with value = 1 for each row. **The weights are currently supported by Data Exploration, Interactive Grouping and Model Selection (L1 regression and Stepwise) classes, but not by all functions in the workflow. This is why they are commented out now (can be uncommented by the user).**"
   ]
  },
  {
   "cell_type": "code",
   "execution_count": 16,
   "metadata": {},
   "outputs": [],
   "source": [
    "# if col_weight not in data:\n",
    "#    data[col_weight] = 1\n",
    "#    print('Column',col_weight,'added/modified. Number of columns:',data.shape[1])\n",
    "# else:\n",
    "#    print('Column',col_weight,'already exists.')"
   ]
  },
  {
   "cell_type": "markdown",
   "metadata": {},
   "source": [
    "Create the month and day column from the time column is doing the following\n",
    "- take the time column and tell in which format the time is saved in - **you need to specify this in variable *dtime_input_format*** (see https://docs.python.org/3/library/time.html#time.strftime for reference)\n",
    "- strip the format just to year, month, day string\n",
    "- convert the string to number\n",
    "- the new column will be added to the dataset as day\n",
    "- truncate this column to just year and month and add it to dataset as month"
   ]
  },
  {
   "cell_type": "code",
   "execution_count": 17,
   "metadata": {},
   "outputs": [],
   "source": [
    "dtime_input_format = '%d-%m-%y'"
   ]
  },
  {
   "cell_type": "code",
   "execution_count": 18,
   "metadata": {},
   "outputs": [
    {
     "name": "stdout",
     "output_type": "stream",
     "text": [
      "Columns DAY and MONTH added/modified. Number of columns: 6\n"
     ]
    }
   ],
   "source": [
    "data[col_day] = list(pd.to_numeric(pd.to_datetime(data[col_time], format=dtime_input_format).dt.strftime('%Y%m%d')))\n",
    "data[col_month] = data[col_day].apply(lambda x: math.trunc(x/100))\n",
    "data[col_time] = pd.to_datetime(data[col_time], format = dtime_input_format)\n",
    "print('Columns',col_day,'and',col_month,'added/modified. Number of columns:',data.shape[1])"
   ]
  },
  {
   "cell_type": "code",
   "execution_count": 19,
   "metadata": {},
   "outputs": [
    {
     "data": {
      "text/html": [
       "<div>\n",
       "<style scoped>\n",
       "    .dataframe tbody tr th:only-of-type {\n",
       "        vertical-align: middle;\n",
       "    }\n",
       "\n",
       "    .dataframe tbody tr th {\n",
       "        vertical-align: top;\n",
       "    }\n",
       "\n",
       "    .dataframe thead th {\n",
       "        text-align: right;\n",
       "    }\n",
       "</style>\n",
       "<table border=\"1\" class=\"dataframe\">\n",
       "  <thead>\n",
       "    <tr style=\"text-align: right;\">\n",
       "      <th></th>\n",
       "      <th>TIME_DECISION_DATE</th>\n",
       "      <th>AIRTEL_SCORE</th>\n",
       "      <th>RISK_FPD30</th>\n",
       "      <th>BASE</th>\n",
       "      <th>DAY</th>\n",
       "      <th>MONTH</th>\n",
       "    </tr>\n",
       "    <tr>\n",
       "      <th>SKP_CREDIT_CASE</th>\n",
       "      <th></th>\n",
       "      <th></th>\n",
       "      <th></th>\n",
       "      <th></th>\n",
       "      <th></th>\n",
       "      <th></th>\n",
       "    </tr>\n",
       "  </thead>\n",
       "  <tbody>\n",
       "    <tr>\n",
       "      <th>305534571</th>\n",
       "      <td>2020-06-05</td>\n",
       "      <td>NaN</td>\n",
       "      <td>0.0</td>\n",
       "      <td>1</td>\n",
       "      <td>20200605</td>\n",
       "      <td>202006</td>\n",
       "    </tr>\n",
       "    <tr>\n",
       "      <th>305542545</th>\n",
       "      <td>2020-06-01</td>\n",
       "      <td>NaN</td>\n",
       "      <td>0.0</td>\n",
       "      <td>1</td>\n",
       "      <td>20200601</td>\n",
       "      <td>202006</td>\n",
       "    </tr>\n",
       "    <tr>\n",
       "      <th>305499118</th>\n",
       "      <td>2020-06-01</td>\n",
       "      <td>NaN</td>\n",
       "      <td>0.0</td>\n",
       "      <td>1</td>\n",
       "      <td>20200601</td>\n",
       "      <td>202006</td>\n",
       "    </tr>\n",
       "    <tr>\n",
       "      <th>305501630</th>\n",
       "      <td>2020-06-01</td>\n",
       "      <td>NaN</td>\n",
       "      <td>1.0</td>\n",
       "      <td>1</td>\n",
       "      <td>20200601</td>\n",
       "      <td>202006</td>\n",
       "    </tr>\n",
       "    <tr>\n",
       "      <th>305431258</th>\n",
       "      <td>2020-06-01</td>\n",
       "      <td>NaN</td>\n",
       "      <td>0.0</td>\n",
       "      <td>1</td>\n",
       "      <td>20200601</td>\n",
       "      <td>202006</td>\n",
       "    </tr>\n",
       "  </tbody>\n",
       "</table>\n",
       "</div>"
      ],
      "text/plain": [
       "                TIME_DECISION_DATE  AIRTEL_SCORE  RISK_FPD30  BASE       DAY  \\\n",
       "SKP_CREDIT_CASE                                                                \n",
       "305534571               2020-06-05           NaN         0.0     1  20200605   \n",
       "305542545               2020-06-01           NaN         0.0     1  20200601   \n",
       "305499118               2020-06-01           NaN         0.0     1  20200601   \n",
       "305501630               2020-06-01           NaN         1.0     1  20200601   \n",
       "305431258               2020-06-01           NaN         0.0     1  20200601   \n",
       "\n",
       "                  MONTH  \n",
       "SKP_CREDIT_CASE          \n",
       "305534571        202006  \n",
       "305542545        202006  \n",
       "305499118        202006  \n",
       "305501630        202006  \n",
       "305431258        202006  "
      ]
     },
     "execution_count": 19,
     "metadata": {},
     "output_type": "execute_result"
    }
   ],
   "source": [
    "data.head(5)"
   ]
  },
  {
   "cell_type": "markdown",
   "metadata": {},
   "source": [
    "Load the predictors list from a csv file. The csv should have just one column, without any header, containing the name of the variables that should be used as predictors.\n",
    "\n",
    "Support for boolean predictors in **not** currently implemented. Convert boolean predictors to object to use them.\n",
    "\n",
    "`s = s.apply(lambda value: str(value) if not np.isnan(value) else value).astype('object')`"
   ]
  },
  {
   "cell_type": "code",
   "execution_count": 20,
   "metadata": {},
   "outputs": [
    {
     "data": {
      "text/plain": [
       "Index(['TIME_DECISION_DATE', 'AIRTEL_SCORE', 'RISK_FPD30', 'BASE', 'DAY',\n",
       "       'MONTH'],\n",
       "      dtype='object')"
      ]
     },
     "execution_count": 20,
     "metadata": {},
     "output_type": "execute_result"
    }
   ],
   "source": [
    "data.columns"
   ]
  },
  {
   "cell_type": "code",
   "execution_count": 21,
   "metadata": {},
   "outputs": [
    {
     "name": "stdout",
     "output_type": "stream",
     "text": [
      "List of numerical predictors: [1]\n",
      "\n",
      "AIRTEL_SCORE                        float64\n",
      "\n",
      "List of categorical predictors: [0]\n",
      "\n"
     ]
    }
   ],
   "source": [
    "from scoring.data_manipulation import split_predictors_bytype\n",
    "\n",
    "cols_pred = list(['AIRTEL_SCORE'])\n",
    "\n",
    "cols_pred, cols_pred_num, cols_pred_cat = split_predictors_bytype(data,\n",
    "                                                                  pred_list=cols_pred,\n",
    "                                                                  non_pred_list= [],\n",
    "                                                                  optimize_types=True,\n",
    "                                                                  convert_bool2int=True)"
   ]
  },
  {
   "cell_type": "markdown",
   "metadata": {},
   "source": [
    "**Please check if all predictors were categorized correctly.** \n",
    "`Category` dtype is now used for categorical columns for memory efficiency. This means it will not be editable as *string*. If you need to edit values of a categorical column convert it to *string* using this syntax:\n",
    "\n",
    "`data['Column name'] = data['Column name'].astype(str)`"
   ]
  },
  {
   "cell_type": "markdown",
   "metadata": {},
   "source": [
    "\n",
    "\n",
    "## Data exploration"
   ]
  },
  {
   "cell_type": "code",
   "execution_count": 22,
   "metadata": {},
   "outputs": [
    {
     "name": "stderr",
     "output_type": "stream",
     "text": [
      "C:\\Users\\aman.khatri91425\\AppData\\Local\\Continuum\\anaconda3\\lib\\site-packages\\ipykernel_launcher.py:1: FutureWarning: Treating datetime data as categorical rather than numeric in `.describe` is deprecated and will be removed in a future version of pandas. Specify `datetime_is_numeric=True` to silence this warning and adopt the future behavior now.\n",
      "  \"\"\"Entry point for launching an IPython kernel.\n"
     ]
    },
    {
     "data": {
      "text/html": [
       "<div>\n",
       "<style scoped>\n",
       "    .dataframe tbody tr th:only-of-type {\n",
       "        vertical-align: middle;\n",
       "    }\n",
       "\n",
       "    .dataframe tbody tr th {\n",
       "        vertical-align: top;\n",
       "    }\n",
       "\n",
       "    .dataframe thead th {\n",
       "        text-align: right;\n",
       "    }\n",
       "</style>\n",
       "<table border=\"1\" class=\"dataframe\">\n",
       "  <thead>\n",
       "    <tr style=\"text-align: right;\">\n",
       "      <th></th>\n",
       "      <th>count</th>\n",
       "      <th>unique</th>\n",
       "      <th>top</th>\n",
       "      <th>freq</th>\n",
       "      <th>first</th>\n",
       "      <th>last</th>\n",
       "      <th>mean</th>\n",
       "      <th>std</th>\n",
       "      <th>min</th>\n",
       "      <th>25%</th>\n",
       "      <th>50%</th>\n",
       "      <th>75%</th>\n",
       "      <th>max</th>\n",
       "    </tr>\n",
       "  </thead>\n",
       "  <tbody>\n",
       "    <tr>\n",
       "      <th>TIME_DECISION_DATE</th>\n",
       "      <td>304167</td>\n",
       "      <td>96</td>\n",
       "      <td>2020-12-13</td>\n",
       "      <td>6388</td>\n",
       "      <td>2020-06-01</td>\n",
       "      <td>2020-12-31</td>\n",
       "      <td>NaN</td>\n",
       "      <td>NaN</td>\n",
       "      <td>NaN</td>\n",
       "      <td>NaN</td>\n",
       "      <td>NaN</td>\n",
       "      <td>NaN</td>\n",
       "      <td>NaN</td>\n",
       "    </tr>\n",
       "    <tr>\n",
       "      <th>AIRTEL_SCORE</th>\n",
       "      <td>61598</td>\n",
       "      <td>NaN</td>\n",
       "      <td>NaT</td>\n",
       "      <td>NaN</td>\n",
       "      <td>NaT</td>\n",
       "      <td>NaT</td>\n",
       "      <td>0.125004</td>\n",
       "      <td>0.0626806</td>\n",
       "      <td>0.0161839</td>\n",
       "      <td>0.0786155</td>\n",
       "      <td>0.111817</td>\n",
       "      <td>0.158139</td>\n",
       "      <td>0.493155</td>\n",
       "    </tr>\n",
       "    <tr>\n",
       "      <th>RISK_FPD30</th>\n",
       "      <td>304167</td>\n",
       "      <td>NaN</td>\n",
       "      <td>NaT</td>\n",
       "      <td>NaN</td>\n",
       "      <td>NaT</td>\n",
       "      <td>NaT</td>\n",
       "      <td>0.0248515</td>\n",
       "      <td>0.155673</td>\n",
       "      <td>0</td>\n",
       "      <td>0</td>\n",
       "      <td>0</td>\n",
       "      <td>0</td>\n",
       "      <td>1</td>\n",
       "    </tr>\n",
       "    <tr>\n",
       "      <th>BASE</th>\n",
       "      <td>304167</td>\n",
       "      <td>NaN</td>\n",
       "      <td>NaT</td>\n",
       "      <td>NaN</td>\n",
       "      <td>NaT</td>\n",
       "      <td>NaT</td>\n",
       "      <td>1</td>\n",
       "      <td>0</td>\n",
       "      <td>1</td>\n",
       "      <td>1</td>\n",
       "      <td>1</td>\n",
       "      <td>1</td>\n",
       "      <td>1</td>\n",
       "    </tr>\n",
       "    <tr>\n",
       "      <th>DAY</th>\n",
       "      <td>304167</td>\n",
       "      <td>NaN</td>\n",
       "      <td>NaT</td>\n",
       "      <td>NaN</td>\n",
       "      <td>NaT</td>\n",
       "      <td>NaT</td>\n",
       "      <td>2.02008e+07</td>\n",
       "      <td>254.761</td>\n",
       "      <td>2.02006e+07</td>\n",
       "      <td>2.02006e+07</td>\n",
       "      <td>2.02007e+07</td>\n",
       "      <td>2.02011e+07</td>\n",
       "      <td>2.02012e+07</td>\n",
       "    </tr>\n",
       "    <tr>\n",
       "      <th>MONTH</th>\n",
       "      <td>304167</td>\n",
       "      <td>NaN</td>\n",
       "      <td>NaT</td>\n",
       "      <td>NaN</td>\n",
       "      <td>NaT</td>\n",
       "      <td>NaT</td>\n",
       "      <td>202008</td>\n",
       "      <td>2.55346</td>\n",
       "      <td>202006</td>\n",
       "      <td>202006</td>\n",
       "      <td>202007</td>\n",
       "      <td>202011</td>\n",
       "      <td>202012</td>\n",
       "    </tr>\n",
       "  </tbody>\n",
       "</table>\n",
       "</div>"
      ],
      "text/plain": [
       "                     count unique        top  freq      first       last  \\\n",
       "TIME_DECISION_DATE  304167     96 2020-12-13  6388 2020-06-01 2020-12-31   \n",
       "AIRTEL_SCORE         61598    NaN        NaT   NaN        NaT        NaT   \n",
       "RISK_FPD30          304167    NaN        NaT   NaN        NaT        NaT   \n",
       "BASE                304167    NaN        NaT   NaN        NaT        NaT   \n",
       "DAY                 304167    NaN        NaT   NaN        NaT        NaT   \n",
       "MONTH               304167    NaN        NaT   NaN        NaT        NaT   \n",
       "\n",
       "                           mean        std          min          25%  \\\n",
       "TIME_DECISION_DATE          NaN        NaN          NaN          NaN   \n",
       "AIRTEL_SCORE           0.125004  0.0626806    0.0161839    0.0786155   \n",
       "RISK_FPD30            0.0248515   0.155673            0            0   \n",
       "BASE                          1          0            1            1   \n",
       "DAY                 2.02008e+07    254.761  2.02006e+07  2.02006e+07   \n",
       "MONTH                    202008    2.55346       202006       202006   \n",
       "\n",
       "                            50%          75%          max  \n",
       "TIME_DECISION_DATE          NaN          NaN          NaN  \n",
       "AIRTEL_SCORE           0.111817     0.158139     0.493155  \n",
       "RISK_FPD30                    0            0            1  \n",
       "BASE                          1            1            1  \n",
       "DAY                 2.02007e+07  2.02011e+07  2.02012e+07  \n",
       "MONTH                    202007       202011       202012  "
      ]
     },
     "metadata": {},
     "output_type": "display_data"
    }
   ],
   "source": [
    "descrip = data.describe(include='all').transpose()\n",
    "pd.options.display.max_rows = 1000\n",
    "display(descrip)\n",
    "pd.options.display.max_rows = 15"
   ]
  },
  {
   "cell_type": "markdown",
   "metadata": {},
   "source": [
    "**explore_numerical** and **explore_categorical** functions give graphical data exploratory analyses. They can also output into html files. You just need to specify the folder for output.\n",
    "\n",
    "If you want the detailed legacy HTML output (v0.4.3) comment-out the cell below\n",
    "\n",
    "These functions analyze only the part of data where target is not null even if it is not explicitly specified."
   ]
  },
  {
   "cell_type": "code",
   "execution_count": 23,
   "metadata": {},
   "outputs": [
    {
     "data": {
      "text/plain": [
       "(304167, 1)"
      ]
     },
     "execution_count": 23,
     "metadata": {},
     "output_type": "execute_result"
    }
   ],
   "source": [
    "data[cols_pred].shape"
   ]
  },
  {
   "cell_type": "code",
   "execution_count": 27,
   "metadata": {},
   "outputs": [
    {
     "name": "stderr",
     "output_type": "stream",
     "text": [
      "C:\\Users\\aman.khatri91425\\AppData\\Local\\Continuum\\anaconda3\\lib\\site-packages\\ipykernel_launcher.py:4: TqdmDeprecationWarning: This function will be removed in tqdm==5.0.0\n",
      "Please use `tqdm.notebook.tqdm` instead of `tqdm.tqdm_notebook`\n",
      "  after removing the cwd from sys.path.\n"
     ]
    },
    {
     "data": {
      "application/vnd.jupyter.widget-view+json": {
       "model_id": "",
       "version_major": 2,
       "version_minor": 0
      },
      "text/plain": [
       "HBox(children=(FloatProgress(value=0.0, max=1.0), HTML(value='')))"
      ]
     },
     "metadata": {},
     "output_type": "display_data"
    },
    {
     "name": "stderr",
     "output_type": "stream",
     "text": [
      "C:\\Users\\aman.khatri91425\\AppData\\Local\\Continuum\\anaconda3\\lib\\site-packages\\seaborn\\_decorators.py:43: FutureWarning: Pass the following variable as a keyword arg: x. From version 0.12, the only valid positional argument will be `data`, and passing other arguments without an explicit keyword will result in an error or misinterpretation.\n",
      "  FutureWarning\n",
      "C:\\Users\\aman.khatri91425\\AppData\\Local\\Continuum\\anaconda3\\lib\\site-packages\\seaborn\\distributions.py:2551: FutureWarning: `distplot` is a deprecated function and will be removed in a future version. Please adapt your code to use either `displot` (a figure-level function with similar flexibility) or `histplot` (an axes-level function for histograms).\n",
      "  warnings.warn(msg, FutureWarning)\n",
      "C:\\Users\\aman.khatri91425\\AppData\\Local\\Continuum\\anaconda3\\lib\\site-packages\\seaborn\\distributions.py:2551: FutureWarning: `distplot` is a deprecated function and will be removed in a future version. Please adapt your code to use either `displot` (a figure-level function with similar flexibility) or `histplot` (an axes-level function for histograms).\n",
      "  warnings.warn(msg, FutureWarning)\n",
      "C:\\Users\\aman.khatri91425\\AppData\\Local\\Continuum\\anaconda3\\lib\\site-packages\\seaborn\\distributions.py:2551: FutureWarning: `distplot` is a deprecated function and will be removed in a future version. Please adapt your code to use either `displot` (a figure-level function with similar flexibility) or `histplot` (an axes-level function for histograms).\n",
      "  warnings.warn(msg, FutureWarning)\n"
     ]
    },
    {
     "data": {
      "text/html": [
       "<a href=exp\\_exploration.html target=\"_blank\">Link to Exploration file:  <b>exp\\_exploration.html</b></a>"
      ],
      "text/plain": [
       "<IPython.core.display.HTML object>"
      ]
     },
     "metadata": {},
     "output_type": "display_data"
    }
   ],
   "source": [
    "from scoring.data_exploration import explore_categorical, explore_numerical, join_explorations\n",
    "\n",
    "explored_columns = list()\n",
    "for name, column in tqdm(data[cols_pred].iloc[0:200000,].iteritems(), total=len(cols_pred), leave=False):\n",
    "    if name in cols_pred_num[:]:\n",
    "        if (column.count() > 0) and (column.max() != column.min()):\n",
    "            explore_numerical(column, data[col_target].iloc[0:200000,], weightCol=None, htmlOut=True, ntbOut=False, outFolder='exp')\n",
    "            explored_columns.append(name)\n",
    "    if name in cols_pred_cat[:]:\n",
    "        if (column.count() > 0) and (len(set(column.unique()) - {np.nan}) > 1):\n",
    "            explore_categorical(column, data[col_target].iloc[0:200000,], weightCol=None, htmlOut=True, ntbOut=False, outFolder='exp')\n",
    "            explored_columns.append(name)\n",
    "            \n",
    "#comment out the line below if you didn't generate html files in this cell        \n",
    "join_explorations(explored_columns, filename = '_exploration.html', outFolder='exp', weighted=False)  "
   ]
  },
  {
   "cell_type": "markdown",
   "metadata": {},
   "source": [
    "**explore_df** function creates a simple text report about the important variable. The report can be then printed either to the screen or to a file.\n",
    "\n",
    "In the following code, only such part of data that has col_base = 1 is analyzed. You can remove the condition if you wish."
   ]
  },
  {
   "cell_type": "code",
   "execution_count": 24,
   "metadata": {},
   "outputs": [],
   "source": [
    "from scoring.data_exploration import explore_df\n",
    "st = explore_df(data[data[col_base]==1],col_month,col_target,cols_pred)\n",
    "print(st, file=open(\"data_exp.txt\", \"w\", encoding='utf-8'))\n",
    "# print(st)"
   ]
  },
  {
   "cell_type": "markdown",
   "metadata": {},
   "source": [
    "**Default rate in time**: Simple visualisation of observation count and default rate in time"
   ]
  },
  {
   "cell_type": "code",
   "execution_count": 25,
   "metadata": {},
   "outputs": [
    {
     "data": {
      "image/png": "[encoded data removed]",
      "text/plain": [
       "<Figure size 432x288 with 2 Axes>"
      ]
     },
     "metadata": {
      "needs_background": "light"
     },
     "output_type": "display_data"
    }
   ],
   "source": [
    "from scoring.plot import plot_dataset\n",
    "plot_dataset(data,\n",
    "             month_col=col_month,\n",
    "             def_col=col_target,\n",
    "             title='Count and bad rate',\n",
    "             base_col=col_base,\n",
    "             #weightCol=col_weight,\n",
    "             savepath=output_folder+'/analysis/',\n",
    "             zeroYlim=True)"
   ]
  },
  {
   "cell_type": "markdown",
   "metadata": {},
   "source": [
    "**NaN share by month** for each variable in dataset:"
   ]
  },
  {
   "cell_type": "code",
   "execution_count": 26,
   "metadata": {},
   "outputs": [
    {
     "name": "stdout",
     "output_type": "stream",
     "text": [
      "Calculating NaN shares...\n",
      "Making images...\n"
     ]
    },
    {
     "data": {
      "application/vnd.jupyter.widget-view+json": {
       "model_id": "5e3e831b21994e39b2cc6f7eaead74d3",
       "version_major": 2,
       "version_minor": 0
      },
      "text/plain": [
       "HBox(children=(FloatProgress(value=0.0, max=2.0), HTML(value='')))"
      ]
     },
     "metadata": {},
     "output_type": "display_data"
    },
    {
     "data": {
      "image/png": "[encoded data removed]",
      "text/plain": [
       "<Figure size 432x288 with 1 Axes>"
      ]
     },
     "metadata": {
      "needs_background": "light"
     },
     "output_type": "display_data"
    },
    {
     "data": {
      "image/png": "[encoded data removed]",
      "text/plain": [
       "<Figure size 432x288 with 1 Axes>"
      ]
     },
     "metadata": {
      "needs_background": "light"
     },
     "output_type": "display_data"
    },
    {
     "name": "stdout",
     "output_type": "stream",
     "text": [
      "\n"
     ]
    },
    {
     "data": {
      "text/html": [
       "<div>\n",
       "<style scoped>\n",
       "    .dataframe tbody tr th:only-of-type {\n",
       "        vertical-align: middle;\n",
       "    }\n",
       "\n",
       "    .dataframe tbody tr th {\n",
       "        vertical-align: top;\n",
       "    }\n",
       "\n",
       "    .dataframe thead th {\n",
       "        text-align: right;\n",
       "    }\n",
       "</style>\n",
       "<table border=\"1\" class=\"dataframe\">\n",
       "  <thead>\n",
       "    <tr style=\"text-align: right;\">\n",
       "      <th>MONTH</th>\n",
       "      <th>202006</th>\n",
       "      <th>202007</th>\n",
       "      <th>202011</th>\n",
       "      <th>202012</th>\n",
       "    </tr>\n",
       "  </thead>\n",
       "  <tbody>\n",
       "    <tr>\n",
       "      <th>AIRTEL_SCORE</th>\n",
       "      <td>0.849</td>\n",
       "      <td>0.867</td>\n",
       "      <td>0.765</td>\n",
       "      <td>0.652</td>\n",
       "    </tr>\n",
       "    <tr>\n",
       "      <th>MONTH</th>\n",
       "      <td>0.000</td>\n",
       "      <td>0.000</td>\n",
       "      <td>0.000</td>\n",
       "      <td>0.000</td>\n",
       "    </tr>\n",
       "  </tbody>\n",
       "</table>\n",
       "</div>"
      ],
      "text/plain": [
       "MONTH         202006  202007  202011  202012\n",
       "AIRTEL_SCORE   0.849   0.867   0.765   0.652\n",
       "MONTH          0.000   0.000   0.000   0.000"
      ]
     },
     "metadata": {},
     "output_type": "display_data"
    }
   ],
   "source": [
    "from scoring.data_exploration import nan_share_development\n",
    "\n",
    "nan_table = nan_share_development(data[cols_pred + [col_month]], col_month, \n",
    "                                  make_images=True, show_images=True, output_path=output_folder+'/nan_share/')\n",
    "display(nan_table)"
   ]
  },
  {
   "cell_type": "markdown",
   "metadata": {},
   "source": [
    "## Data split\n",
    "\n",
    "- Split data into five parts (in time training, in time validation, in time test, out of time, historical out of time)\n",
    "- Adds a new column indicating to which part the observations belong\n",
    "- The *splitting_points* (first date of train and first date of out of time sample) can be adjusted (there can be any number of such splitting points) - it should correspond to values of column specified by *time_column* parameter\n",
    "- For each time split, you can create multiple random splits (i.e. train/valid/test), the ratio of sizes of these splits is set by parameter *sample_sizes*\n",
    "- The random splits can be stratified by multiple variables, which are specified in a list - argument to *stratify_by_columns* parameter\n",
    "- Set the random seed so the results are replicable"
   ]
  },
  {
   "cell_type": "code",
   "execution_count": 27,
   "metadata": {
    "code_folding": []
   },
   "outputs": [
    {
     "name": "stdout",
     "output_type": "stream",
     "text": [
      "hoot    199,661 rows\n",
      "train   62,703 rows\n",
      "valid   20,901 rows\n",
      "test    20,902 rows\n",
      "oot     0 rows\n"
     ]
    }
   ],
   "source": [
    "from scoring.data_manipulation import data_sample_time_split\n",
    "\n",
    "data['data_type'] = data_sample_time_split(data, \n",
    "                           time_column = col_month,\n",
    "                           splitting_points = [202008, 202101],\n",
    "                           sample_sizes = [[ 1    ],[ 0.6   , 0.2   , 0.2  ],[ 1   ]],\n",
    "                           sample_names = [['hoot'],['train','valid','test'],['oot']],\n",
    "                           stratify_by_columns = [col_month,col_target],\n",
    "                           random_seed = 1234)"
   ]
  },
  {
   "cell_type": "markdown",
   "metadata": {},
   "source": [
    "Masks: boolean vectors corresponding to rows in the datasets. True if an row is observable and its data type belongs to given sample."
   ]
  },
  {
   "cell_type": "code",
   "execution_count": 28,
   "metadata": {},
   "outputs": [],
   "source": [
    "train_mask = (data['data_type'] == 'train') & (data[col_base] == 1) \n",
    "valid_mask = (data['data_type'] == 'valid') & (data[col_base] == 1) \n",
    "test_mask = (data['data_type'] == 'test') & (data[col_base] == 1) \n",
    "oot_mask = (data['data_type'] == 'oot') & (data[col_base] == 1) \n",
    "hoot_mask = (data['data_type'] == 'hoot') & (data[col_base] == 1) "
   ]
  },
  {
   "cell_type": "code",
   "execution_count": 29,
   "metadata": {},
   "outputs": [
    {
     "data": {
      "text/plain": [
       "SKP_CREDIT_CASE\n",
       "305534571    False\n",
       "305542545    False\n",
       "305499118    False\n",
       "305501630    False\n",
       "305431258    False\n",
       "             ...  \n",
       "330362627    False\n",
       "330490987     True\n",
       "330475950     True\n",
       "330457397    False\n",
       "330800239     True\n",
       "Length: 304167, dtype: bool"
      ]
     },
     "execution_count": 29,
     "metadata": {},
     "output_type": "execute_result"
    }
   ],
   "source": [
    "train_mask"
   ]
  },
  {
   "cell_type": "markdown",
   "metadata": {},
   "source": [
    "Data summary (number of defaults, number in base, number of observations, default rate) by month and by sample"
   ]
  },
  {
   "cell_type": "code",
   "execution_count": 30,
   "metadata": {},
   "outputs": [
    {
     "data": {
      "text/html": [
       "<div>\n",
       "<style scoped>\n",
       "    .dataframe tbody tr th:only-of-type {\n",
       "        vertical-align: middle;\n",
       "    }\n",
       "\n",
       "    .dataframe tbody tr th {\n",
       "        vertical-align: top;\n",
       "    }\n",
       "\n",
       "    .dataframe thead th {\n",
       "        text-align: right;\n",
       "    }\n",
       "</style>\n",
       "<table border=\"1\" class=\"dataframe\">\n",
       "  <thead>\n",
       "    <tr style=\"text-align: right;\">\n",
       "      <th></th>\n",
       "      <th></th>\n",
       "      <th>RISK_FPD30</th>\n",
       "      <th>BASE</th>\n",
       "      <th>Rows</th>\n",
       "      <th>RISK_FPD30 rate</th>\n",
       "    </tr>\n",
       "    <tr>\n",
       "      <th>MONTH</th>\n",
       "      <th>data_type</th>\n",
       "      <th></th>\n",
       "      <th></th>\n",
       "      <th></th>\n",
       "      <th></th>\n",
       "    </tr>\n",
       "  </thead>\n",
       "  <tbody>\n",
       "    <tr>\n",
       "      <th>202006</th>\n",
       "      <th>hoot</th>\n",
       "      <td>3683.0</td>\n",
       "      <td>111416</td>\n",
       "      <td>111416</td>\n",
       "      <td>0.033056</td>\n",
       "    </tr>\n",
       "    <tr>\n",
       "      <th>202007</th>\n",
       "      <th>hoot</th>\n",
       "      <td>2381.0</td>\n",
       "      <td>88245</td>\n",
       "      <td>88245</td>\n",
       "      <td>0.026982</td>\n",
       "    </tr>\n",
       "    <tr>\n",
       "      <th rowspan=\"3\" valign=\"top\">202011</th>\n",
       "      <th>test</th>\n",
       "      <td>89.0</td>\n",
       "      <td>5795</td>\n",
       "      <td>5795</td>\n",
       "      <td>0.015358</td>\n",
       "    </tr>\n",
       "    <tr>\n",
       "      <th>train</th>\n",
       "      <td>267.0</td>\n",
       "      <td>17383</td>\n",
       "      <td>17383</td>\n",
       "      <td>0.015360</td>\n",
       "    </tr>\n",
       "    <tr>\n",
       "      <th>valid</th>\n",
       "      <td>89.0</td>\n",
       "      <td>5794</td>\n",
       "      <td>5794</td>\n",
       "      <td>0.015361</td>\n",
       "    </tr>\n",
       "    <tr>\n",
       "      <th rowspan=\"3\" valign=\"top\">202012</th>\n",
       "      <th>test</th>\n",
       "      <td>210.0</td>\n",
       "      <td>15107</td>\n",
       "      <td>15107</td>\n",
       "      <td>0.013901</td>\n",
       "    </tr>\n",
       "    <tr>\n",
       "      <th>train</th>\n",
       "      <td>630.0</td>\n",
       "      <td>45320</td>\n",
       "      <td>45320</td>\n",
       "      <td>0.013901</td>\n",
       "    </tr>\n",
       "    <tr>\n",
       "      <th>valid</th>\n",
       "      <td>210.0</td>\n",
       "      <td>15107</td>\n",
       "      <td>15107</td>\n",
       "      <td>0.013901</td>\n",
       "    </tr>\n",
       "  </tbody>\n",
       "</table>\n",
       "</div>"
      ],
      "text/plain": [
       "                  RISK_FPD30    BASE    Rows  RISK_FPD30 rate\n",
       "MONTH  data_type                                             \n",
       "202006 hoot           3683.0  111416  111416         0.033056\n",
       "202007 hoot           2381.0   88245   88245         0.026982\n",
       "202011 test             89.0    5795    5795         0.015358\n",
       "       train           267.0   17383   17383         0.015360\n",
       "       valid            89.0    5794    5794         0.015361\n",
       "202012 test            210.0   15107   15107         0.013901\n",
       "       train           630.0   45320   45320         0.013901\n",
       "       valid           210.0   15107   15107         0.013901"
      ]
     },
     "metadata": {},
     "output_type": "display_data"
    },
    {
     "data": {
      "text/html": [
       "<div>\n",
       "<style scoped>\n",
       "    .dataframe tbody tr th:only-of-type {\n",
       "        vertical-align: middle;\n",
       "    }\n",
       "\n",
       "    .dataframe tbody tr th {\n",
       "        vertical-align: top;\n",
       "    }\n",
       "\n",
       "    .dataframe thead tr th {\n",
       "        text-align: left;\n",
       "    }\n",
       "\n",
       "    .dataframe thead tr:last-of-type th {\n",
       "        text-align: right;\n",
       "    }\n",
       "</style>\n",
       "<table border=\"1\" class=\"dataframe\">\n",
       "  <thead>\n",
       "    <tr>\n",
       "      <th></th>\n",
       "      <th colspan=\"4\" halign=\"left\">RISK_FPD30</th>\n",
       "      <th colspan=\"4\" halign=\"left\">BASE</th>\n",
       "      <th colspan=\"4\" halign=\"left\">Rows</th>\n",
       "      <th colspan=\"4\" halign=\"left\">RISK_FPD30 rate</th>\n",
       "    </tr>\n",
       "    <tr>\n",
       "      <th>data_type</th>\n",
       "      <th>hoot</th>\n",
       "      <th>test</th>\n",
       "      <th>train</th>\n",
       "      <th>valid</th>\n",
       "      <th>hoot</th>\n",
       "      <th>test</th>\n",
       "      <th>train</th>\n",
       "      <th>valid</th>\n",
       "      <th>hoot</th>\n",
       "      <th>test</th>\n",
       "      <th>train</th>\n",
       "      <th>valid</th>\n",
       "      <th>hoot</th>\n",
       "      <th>test</th>\n",
       "      <th>train</th>\n",
       "      <th>valid</th>\n",
       "    </tr>\n",
       "    <tr>\n",
       "      <th>MONTH</th>\n",
       "      <th></th>\n",
       "      <th></th>\n",
       "      <th></th>\n",
       "      <th></th>\n",
       "      <th></th>\n",
       "      <th></th>\n",
       "      <th></th>\n",
       "      <th></th>\n",
       "      <th></th>\n",
       "      <th></th>\n",
       "      <th></th>\n",
       "      <th></th>\n",
       "      <th></th>\n",
       "      <th></th>\n",
       "      <th></th>\n",
       "      <th></th>\n",
       "    </tr>\n",
       "  </thead>\n",
       "  <tbody>\n",
       "    <tr>\n",
       "      <th>202006</th>\n",
       "      <td>3683.0</td>\n",
       "      <td>NaN</td>\n",
       "      <td>NaN</td>\n",
       "      <td>NaN</td>\n",
       "      <td>111416.0</td>\n",
       "      <td>NaN</td>\n",
       "      <td>NaN</td>\n",
       "      <td>NaN</td>\n",
       "      <td>111416.0</td>\n",
       "      <td>NaN</td>\n",
       "      <td>NaN</td>\n",
       "      <td>NaN</td>\n",
       "      <td>0.033056</td>\n",
       "      <td>NaN</td>\n",
       "      <td>NaN</td>\n",
       "      <td>NaN</td>\n",
       "    </tr>\n",
       "    <tr>\n",
       "      <th>202007</th>\n",
       "      <td>2381.0</td>\n",
       "      <td>NaN</td>\n",
       "      <td>NaN</td>\n",
       "      <td>NaN</td>\n",
       "      <td>88245.0</td>\n",
       "      <td>NaN</td>\n",
       "      <td>NaN</td>\n",
       "      <td>NaN</td>\n",
       "      <td>88245.0</td>\n",
       "      <td>NaN</td>\n",
       "      <td>NaN</td>\n",
       "      <td>NaN</td>\n",
       "      <td>0.026982</td>\n",
       "      <td>NaN</td>\n",
       "      <td>NaN</td>\n",
       "      <td>NaN</td>\n",
       "    </tr>\n",
       "    <tr>\n",
       "      <th>202011</th>\n",
       "      <td>NaN</td>\n",
       "      <td>89.0</td>\n",
       "      <td>267.0</td>\n",
       "      <td>89.0</td>\n",
       "      <td>NaN</td>\n",
       "      <td>5795.0</td>\n",
       "      <td>17383.0</td>\n",
       "      <td>5794.0</td>\n",
       "      <td>NaN</td>\n",
       "      <td>5795.0</td>\n",
       "      <td>17383.0</td>\n",
       "      <td>5794.0</td>\n",
       "      <td>NaN</td>\n",
       "      <td>0.015358</td>\n",
       "      <td>0.015360</td>\n",
       "      <td>0.015361</td>\n",
       "    </tr>\n",
       "    <tr>\n",
       "      <th>202012</th>\n",
       "      <td>NaN</td>\n",
       "      <td>210.0</td>\n",
       "      <td>630.0</td>\n",
       "      <td>210.0</td>\n",
       "      <td>NaN</td>\n",
       "      <td>15107.0</td>\n",
       "      <td>45320.0</td>\n",
       "      <td>15107.0</td>\n",
       "      <td>NaN</td>\n",
       "      <td>15107.0</td>\n",
       "      <td>45320.0</td>\n",
       "      <td>15107.0</td>\n",
       "      <td>NaN</td>\n",
       "      <td>0.013901</td>\n",
       "      <td>0.013901</td>\n",
       "      <td>0.013901</td>\n",
       "    </tr>\n",
       "  </tbody>\n",
       "</table>\n",
       "</div>"
      ],
      "text/plain": [
       "          RISK_FPD30                           BASE                    \\\n",
       "data_type       hoot   test  train  valid      hoot     test    train   \n",
       "MONTH                                                                   \n",
       "202006        3683.0    NaN    NaN    NaN  111416.0      NaN      NaN   \n",
       "202007        2381.0    NaN    NaN    NaN   88245.0      NaN      NaN   \n",
       "202011           NaN   89.0  267.0   89.0       NaN   5795.0  17383.0   \n",
       "202012           NaN  210.0  630.0  210.0       NaN  15107.0  45320.0   \n",
       "\n",
       "                        Rows                            RISK_FPD30 rate  \\\n",
       "data_type    valid      hoot     test    train    valid            hoot   \n",
       "MONTH                                                                     \n",
       "202006         NaN  111416.0      NaN      NaN      NaN        0.033056   \n",
       "202007         NaN   88245.0      NaN      NaN      NaN        0.026982   \n",
       "202011      5794.0       NaN   5795.0  17383.0   5794.0             NaN   \n",
       "202012     15107.0       NaN  15107.0  45320.0  15107.0             NaN   \n",
       "\n",
       "                                         \n",
       "data_type      test     train     valid  \n",
       "MONTH                                    \n",
       "202006          NaN       NaN       NaN  \n",
       "202007          NaN       NaN       NaN  \n",
       "202011     0.015358  0.015360  0.015361  \n",
       "202012     0.013901  0.013901  0.013901  "
      ]
     },
     "metadata": {},
     "output_type": "display_data"
    }
   ],
   "source": [
    "data_summary = data.groupby([col_month,'data_type']).aggregate({\n",
    "    col_target:'sum',col_base:['sum','count']\n",
    "})\n",
    "data_summary.columns = [col_target,col_base,'Rows']\n",
    "data_summary[col_target+' rate'] = data_summary[col_target]/data_summary[col_base]\n",
    "display(data_summary)\n",
    "\n",
    "data_summary = data_summary.reset_index(level='data_type').pivot(columns='data_type')\n",
    "display(data_summary)\n",
    "data_summary.to_csv(output_folder+'/analysis/summary.csv')"
   ]
  },
  {
   "cell_type": "markdown",
   "metadata": {},
   "source": [
    "# Grouping and WOE transformation of variables"
   ]
  },
  {
   "cell_type": "markdown",
   "metadata": {},
   "source": [
    "Don't use such variables which have only 0 or 1 unique levels. Grouping doesn't work for them."
   ]
  },
  {
   "cell_type": "code",
   "execution_count": 31,
   "metadata": {},
   "outputs": [
    {
     "name": "stderr",
     "output_type": "stream",
     "text": [
      "C:\\Users\\aman.khatri91425\\AppData\\Local\\Continuum\\anaconda3\\lib\\site-packages\\ipykernel_launcher.py:2: TqdmDeprecationWarning: This function will be removed in tqdm==5.0.0\n",
      "Please use `tqdm.notebook.tqdm` instead of `tqdm.tqdm_notebook`\n",
      "  \n"
     ]
    },
    {
     "data": {
      "application/vnd.jupyter.widget-view+json": {
       "model_id": "9022acea115c49eda0130a1f644c0e94",
       "version_major": 2,
       "version_minor": 0
      },
      "text/plain": [
       "HBox(children=(FloatProgress(value=0.0, max=1.0), HTML(value='')))"
      ]
     },
     "metadata": {},
     "output_type": "display_data"
    },
    {
     "name": "stdout",
     "output_type": "stream",
     "text": [
      "\n",
      "All predictors have more than 1 unique level.\n"
     ]
    }
   ],
   "source": [
    "cols_del = list()\n",
    "for name, column in tqdm(data[train_mask][cols_pred].iteritems(), total=len(cols_pred)):\n",
    "    if name in cols_pred_num:\n",
    "        if (column.count() == 0) or (column.max() == column.min()):\n",
    "            cols_del.append(name)\n",
    "            cols_pred_num.remove(name)\n",
    "    if name in cols_pred_cat:\n",
    "        if (column.count() == 0) or (len(set(column.unique()) - {np.nan}) <= 1):\n",
    "            cols_del.append(name)\n",
    "            cols_pred_cat.remove(name)\n",
    "            \n",
    "cols_pred = cols_pred_num + cols_pred_cat\n",
    "\n",
    "if len(cols_del) > 0:\n",
    "    print('Variables', cols_del, 'will not be further used as they have only 1 unique level.')\n",
    "else:\n",
    "    print('All predictors have more than 1 unique level.')\n",
    "del cols_del"
   ]
  },
  {
   "cell_type": "code",
   "execution_count": 32,
   "metadata": {},
   "outputs": [
    {
     "name": "stderr",
     "output_type": "stream",
     "text": [
      "C:\\Users\\aman.khatri91425\\AppData\\Local\\Continuum\\anaconda3\\lib\\site-packages\\ipykernel_launcher.py:1: TqdmDeprecationWarning: This function will be removed in tqdm==5.0.0\n",
      "Please use `tqdm.notebook.tqdm` instead of `tqdm.tqdm_notebook`\n",
      "  \"\"\"Entry point for launching an IPython kernel.\n"
     ]
    },
    {
     "data": {
      "application/vnd.jupyter.widget-view+json": {
       "model_id": "",
       "version_major": 2,
       "version_minor": 0
      },
      "text/plain": [
       "HBox(children=(FloatProgress(value=0.0, max=1.0), HTML(value='')))"
      ]
     },
     "metadata": {},
     "output_type": "display_data"
    }
   ],
   "source": [
    "for name, column in tqdm(data[cols_pred_num].iteritems(), total=len(cols_pred_num), leave=False):\n",
    "    if np.any(np.isinf(column.values)):\n",
    "            print('{} containes INF values. Please deal with them.'.format(name))\n",
    "\n",
    "# data['predictor'].replace(to_replace=np.inf, value=<good idea>, inplace=True)"
   ]
  },
  {
   "cell_type": "markdown",
   "metadata": {},
   "source": [
    "There are two options how to group your variables. \n",
    "1. Automatic grouping groups the variables using a decision tree. User can't change the grouping in any interactive way. The grouping can be saved into external file using its method *save()*. \n",
    "2. Interactive grouping is suitable for smaller numbers of variables. User can control which values of each varible will enter which group. The grouping can be saved into external file using the interactive environment."
   ]
  },
  {
   "cell_type": "markdown",
   "metadata": {},
   "source": [
    "## Automatic Grouping\n",
    "The grouping uses decision tree algorithm and the grouping is supervised based on the target variable. In the following code:\n",
    "\n",
    "A new instance of **Grouping** class is created. There are two important parameters:\n",
    " - *colums*: list of numerical columns to be grouped\n",
    " - *cat_columns*: list of categorical columns to be grouped\n",
    " - *group_count*: (maximal) number of final groups of each variable\n",
    " - *min_samples*: minimal number of observations in each group of each numerical variable\n",
    " - *min_samples_cat*: minimal number of observations in each group of each categorical variable"
   ]
  },
  {
   "cell_type": "code",
   "execution_count": 45,
   "metadata": {},
   "outputs": [],
   "source": [
    "from scoring.grouping import Grouping\n",
    "\n",
    "grouping = Grouping(columns = sorted(cols_pred_num),\n",
    "                    cat_columns = sorted(cols_pred_cat),\n",
    "                    group_count=3, \n",
    "                    min_samples=4000, \n",
    "                    min_samples_cat=4000)"
   ]
  },
  {
   "cell_type": "code",
   "execution_count": 46,
   "metadata": {},
   "outputs": [
    {
     "data": {
      "application/vnd.jupyter.widget-view+json": {
       "model_id": "33a52e8ef0d84fbda0c168c2c0154d15",
       "version_major": 2,
       "version_minor": 0
      },
      "text/plain": [
       "HBox(children=(FloatProgress(value=0.0, max=1.0), HTML(value='')))"
      ]
     },
     "metadata": {},
     "output_type": "display_data"
    },
    {
     "name": "stdout",
     "output_type": "stream",
     "text": [
      "\n"
     ]
    }
   ],
   "source": [
    "grouping.fit(data[train_mask][cols_pred],\n",
    "             data[train_mask][col_target],\n",
    "          #   w=data[train_mask][col_weight],\n",
    "            progress_bar=True, category_limit=10000);\n",
    "\n",
    "# if len(grouping.bins_data_) > 0:\n",
    "#     for v,g in grouping.bins_data_.items():\n",
    "#         print('Variable:',v)\n",
    "#         print('Bins:',g['bins'])\n",
    "#         print('WOEs:',g['woes'])\n",
    "#         if v in cols_pred_num:\n",
    "#             print('nan WOE:',g['nan_woe'])\n",
    "#         if v in cols_pred_cat:\n",
    "#             print('WOE for unknown values:',g['unknown_woe'])\n",
    "#         print()"
   ]
  },
  {
   "cell_type": "markdown",
   "metadata": {},
   "source": [
    "Save grouping to an external file."
   ]
  },
  {
   "cell_type": "code",
   "execution_count": 47,
   "metadata": {},
   "outputs": [
    {
     "data": {
      "text/plain": [
       "'Grouping saved on 2021-03-16 14:42:33 to file myGrouping'"
      ]
     },
     "metadata": {},
     "output_type": "display_data"
    }
   ],
   "source": [
    "model_filename = 'myGrouping'\n",
    "grouping.save(model_filename)\n",
    "# print('Grouping data saved to file',model_filename)"
   ]
  },
  {
   "cell_type": "markdown",
   "metadata": {},
   "source": [
    "## Interactive Grouping (beta)\n",
    "**This is a beta version which means it should work well in most cases but sometimes it can be unstable. Please inform us about any issues you find**\n",
    "\n",
    "**KNOWN ISSUES:**\n",
    "- If zoom level in the web browser is set to something else than 100%, the charts might get broken.\n",
    "\n",
    "A new instance of **InteractiveGrouping** class is created. There are two important parameters:\n",
    " - *colums*: list of numerical columns to be grouped\n",
    " - *cat_columns*: list of categorical columns to be grouped\n",
    " - *group_count*: (maximal) number of final groups of each variable\n",
    " - *min_samples*: minimal number of observations in each group of each numerical variable\n",
    " - *min_samples_cat*: minimal number of observations in each group of each categorical variable"
   ]
  },
  {
   "cell_type": "code",
   "execution_count": 48,
   "metadata": {},
   "outputs": [],
   "source": [
    "USE_INTERATIVE_GROUPING = False"
   ]
  },
  {
   "cell_type": "code",
   "execution_count": 49,
   "metadata": {
    "code_folding": []
   },
   "outputs": [],
   "source": [
    "if USE_INTERATIVE_GROUPING:\n",
    "    from scoring.grouping import Grouping, InteractiveGrouping\n",
    "\n",
    "    grouping = InteractiveGrouping(columns = sorted(cols_pred_num),\n",
    "                                   cat_columns = sorted(cols_pred_cat),\n",
    "                                   group_count=4,\n",
    "                                   min_samples=100, \n",
    "                                   min_samples_cat=100,\n",
    "                                   woe_smooth_coef=0.001)"
   ]
  },
  {
   "cell_type": "markdown",
   "metadata": {},
   "source": [
    "Then you open the interactive environment using **display** method. The important parameters are:\n",
    " - *train_t*: training dataset the grouping should be based on\n",
    " - *colums*: list of numerical columns to be grouped and displayed\n",
    " - *cat_columns*: list of categorical columns to be grouped and displayed\n",
    " - *target_column*: as the grouping is supervised and calculates WOE values, you need to specify the target column name\n",
    " - *w_column*: vector of weights of obervation (if not filled, grouping behaves as there are equal weights)\n",
    " - *filename*: use only if you want to load a grouping that you created and saved previously\n",
    " - *group_count*: (maximal) number of final groups of each variable\n",
    " - *min_samples*: minimal number of observations in each group of each numerical variable\n",
    " - *min_samples_cat*: minimal number of observations in each group of each categorical variable\n",
    "\n",
    "In the interactive environment, you can see four sections. From top to bottom:\n",
    "- **Chart section**: \n",
    " - For **numerical variables**, there is chart with equifrequncy fine classing (observations as bars, default rate as line), equidistant fine classing and the final groups.\n",
    " - For **categorical varibles** there is chart with each of the original categorical values and a chart with the final groups.\n",
    "- **Variable section**: here you can choose tab with varible which you want to edit. \n",
    " - For **numerical variables**, the tab contains of the borders of the final groups. You can edit these borders, add new with [+] button and remove them with [-] button. You can also manually set WOE for nulls. There is also a button to perform automatic grouping on the selected variable.\n",
    " - For **categorical variables**, the tab contains of two tables. In the top table, you can see some statistics for each of the categorical values. In the rightmost column, there is the number of group which is assigned to the category. You can edit this value (doubleclick on it) to change the grouping. In the bottom table you can see statistics for the groups. It is not editable. There is also a button to perform automatic grouping on the selected variable.\n",
    "- **Save section**: here you can save the grouping. Edit the file name and click the [Apply and Save] button.\n",
    "- **Settings section**: If you perform automatic grouping on some varible, the grouping algorithm uses some parameters. These parameters can be set here. You can set how many final groups do you want to have and what is their minimal size."
   ]
  },
  {
   "cell_type": "code",
   "execution_count": 50,
   "metadata": {},
   "outputs": [],
   "source": [
    "if USE_INTERATIVE_GROUPING:\n",
    "    sns.reset_orig()\n",
    "    %matplotlib notebook\n",
    "    %config InlineBackend.close_figures=False\n",
    "\n",
    "    grouping.display(train_t = data[train_mask][cols_pred_num+cols_pred_cat+[col_target]],\n",
    "                     #train_t = data[train_mask][cols_pred_num+cols_pred_cat+[col_target]+[col_weight]], #for call with weight\n",
    "                     columns = sorted(cols_pred_num),\n",
    "                     cat_columns = sorted(cols_pred_cat),\n",
    "                     target_column = col_target,\n",
    "                     #w_column = col_weight,\n",
    "    #                  filename = 'myIntGrouping',\n",
    "                     bin_count=20,\n",
    "                     woe_smooth_coef=0.001,\n",
    "                     group_count=5,\n",
    "                     min_samples=100,\n",
    "                     min_samples_cat=100)"
   ]
  },
  {
   "cell_type": "markdown",
   "metadata": {},
   "source": [
    "Don't forget to *Apply and Save* your changes."
   ]
  },
  {
   "cell_type": "code",
   "execution_count": 51,
   "metadata": {},
   "outputs": [],
   "source": [
    "#reset the graphical environment to be used by the normal non-interactive charts\n",
    "sns.set()\n",
    "%matplotlib inline\n",
    "%config InlineBackend.close_figures=True"
   ]
  },
  {
   "cell_type": "markdown",
   "metadata": {},
   "source": [
    "Load the grouping from a file (don't forget to set the right filename) and add the WOE columns to the original dataset."
   ]
  },
  {
   "cell_type": "code",
   "execution_count": 52,
   "metadata": {},
   "outputs": [],
   "source": [
    "# from scoring.grouping import Grouping\n",
    "# grouping = Grouping(columns = sorted(cols_pred_num),\n",
    "#                     cat_columns = sorted(cols_pred_cat),\n",
    "#                     group_count=5, \n",
    "#                     min_samples=100, \n",
    "#                     min_samples_cat=100) \n",
    "# g_filename = 'myIntGrouping'\n",
    "# grouping.load(g_filename)"
   ]
  },
  {
   "cell_type": "markdown",
   "metadata": {},
   "source": [
    "## Apply the grouping to the dataset"
   ]
  },
  {
   "cell_type": "markdown",
   "metadata": {},
   "source": [
    "### WOE transformation"
   ]
  },
  {
   "cell_type": "markdown",
   "metadata": {},
   "source": [
    "Don't forget to apply the grouping to the data. *Grouping.transform()* method now automatically renames columns with proper suffix. If you need to transform just subset of columns use parameter *columns_to_transform=\\[...\\]*."
   ]
  },
  {
   "cell_type": "code",
   "execution_count": 53,
   "metadata": {},
   "outputs": [
    {
     "data": {
      "application/vnd.jupyter.widget-view+json": {
       "model_id": "79408a04f91640d380031dd32f76c065",
       "version_major": 2,
       "version_minor": 0
      },
      "text/plain": [
       "HBox(children=(FloatProgress(value=0.0, max=1.0), HTML(value='')))"
      ]
     },
     "metadata": {},
     "output_type": "display_data"
    },
    {
     "name": "stdout",
     "output_type": "stream",
     "text": [
      "\n"
     ]
    }
   ],
   "source": [
    "data_woe = grouping.transform(data, transform_to='woe', progress_bar=True)"
   ]
  },
  {
   "cell_type": "markdown",
   "metadata": {},
   "source": [
    "### Dummy transformation\n",
    "\n",
    "**Optional:** Transformation to dummy variables. Use if you want to use \"full\" regression instead of WOE regression"
   ]
  },
  {
   "cell_type": "code",
   "execution_count": 54,
   "metadata": {},
   "outputs": [
    {
     "data": {
      "application/vnd.jupyter.widget-view+json": {
       "model_id": "aa72ead63e0f42bebba527524e369ec3",
       "version_major": 2,
       "version_minor": 0
      },
      "text/plain": [
       "HBox(children=(FloatProgress(value=0.0, max=1.0), HTML(value='')))"
      ]
     },
     "metadata": {},
     "output_type": "display_data"
    },
    {
     "name": "stdout",
     "output_type": "stream",
     "text": [
      "\n"
     ]
    }
   ],
   "source": [
    "data_dummy = grouping.transform(data, transform_to='dummy', progress_bar=True)"
   ]
  },
  {
   "cell_type": "markdown",
   "metadata": {},
   "source": [
    "### Categorical variables transformation\n",
    "\n",
    "**Optional:** Transformation to categorical variables. Name of categories instead of WOE values - not useful for modelling."
   ]
  },
  {
   "cell_type": "code",
   "execution_count": 55,
   "metadata": {},
   "outputs": [],
   "source": [
    "# data_shortnames = grouping.transform(data, transform_to='shortnames', progress_bar=True)"
   ]
  },
  {
   "cell_type": "markdown",
   "metadata": {},
   "source": [
    "Plot the fitted WOEs."
   ]
  },
  {
   "cell_type": "code",
   "execution_count": 56,
   "metadata": {},
   "outputs": [
    {
     "data": {
      "text/markdown": [
       "***"
      ],
      "text/plain": [
       "<IPython.core.display.Markdown object>"
      ]
     },
     "metadata": {},
     "output_type": "display_data"
    },
    {
     "data": {
      "text/markdown": [
       "### AIRTEL_SCORE"
      ],
      "text/plain": [
       "<IPython.core.display.Markdown object>"
      ]
     },
     "metadata": {},
     "output_type": "display_data"
    },
    {
     "data": {
      "text/html": [
       "<div>\n",
       "<style scoped>\n",
       "    .dataframe tbody tr th:only-of-type {\n",
       "        vertical-align: middle;\n",
       "    }\n",
       "\n",
       "    .dataframe tbody tr th {\n",
       "        vertical-align: top;\n",
       "    }\n",
       "\n",
       "    .dataframe thead th {\n",
       "        text-align: right;\n",
       "    }\n",
       "</style>\n",
       "<table border=\"1\" class=\"dataframe\">\n",
       "  <thead>\n",
       "    <tr style=\"text-align: right;\">\n",
       "      <th></th>\n",
       "      <th>CNT_TOTAL</th>\n",
       "      <th>CNT_DEF</th>\n",
       "      <th>DEF_RATE</th>\n",
       "      <th>DIST_BAD</th>\n",
       "      <th>DIST_GOOD</th>\n",
       "      <th>WOE</th>\n",
       "      <th>WOE_check</th>\n",
       "      <th>SHARE</th>\n",
       "    </tr>\n",
       "    <tr>\n",
       "      <th>BIN_AIRTEL_SCORE</th>\n",
       "      <th></th>\n",
       "      <th></th>\n",
       "      <th></th>\n",
       "      <th></th>\n",
       "      <th></th>\n",
       "      <th></th>\n",
       "      <th></th>\n",
       "      <th></th>\n",
       "    </tr>\n",
       "  </thead>\n",
       "  <tbody>\n",
       "    <tr>\n",
       "      <th>[-inf, 0.1301)</th>\n",
       "      <td>11284.0</td>\n",
       "      <td>104.0</td>\n",
       "      <td>0.0092</td>\n",
       "      <td>0.1159</td>\n",
       "      <td>0.1809</td>\n",
       "      <td>0.4093</td>\n",
       "      <td>0.4448</td>\n",
       "      <td>0.1800</td>\n",
       "    </tr>\n",
       "    <tr>\n",
       "      <th>[0.1301, 0.1795)</th>\n",
       "      <td>4525.0</td>\n",
       "      <td>89.0</td>\n",
       "      <td>0.0197</td>\n",
       "      <td>0.0992</td>\n",
       "      <td>0.0718</td>\n",
       "      <td>-0.3058</td>\n",
       "      <td>-0.3238</td>\n",
       "      <td>0.0722</td>\n",
       "    </tr>\n",
       "    <tr>\n",
       "      <th>[0.1795, inf)</th>\n",
       "      <td>4032.0</td>\n",
       "      <td>102.0</td>\n",
       "      <td>0.0253</td>\n",
       "      <td>0.1137</td>\n",
       "      <td>0.0636</td>\n",
       "      <td>-0.5525</td>\n",
       "      <td>-0.5813</td>\n",
       "      <td>0.0643</td>\n",
       "    </tr>\n",
       "    <tr>\n",
       "      <th>nan</th>\n",
       "      <td>42862.0</td>\n",
       "      <td>602.0</td>\n",
       "      <td>0.0140</td>\n",
       "      <td>0.6711</td>\n",
       "      <td>0.6838</td>\n",
       "      <td>0.0174</td>\n",
       "      <td>0.0186</td>\n",
       "      <td>0.6836</td>\n",
       "    </tr>\n",
       "  </tbody>\n",
       "</table>\n",
       "</div>"
      ],
      "text/plain": [
       "                  CNT_TOTAL  CNT_DEF  DEF_RATE  DIST_BAD  DIST_GOOD     WOE  \\\n",
       "BIN_AIRTEL_SCORE                                                              \n",
       "[-inf, 0.1301)      11284.0    104.0    0.0092    0.1159     0.1809  0.4093   \n",
       "[0.1301, 0.1795)     4525.0     89.0    0.0197    0.0992     0.0718 -0.3058   \n",
       "[0.1795, inf)        4032.0    102.0    0.0253    0.1137     0.0636 -0.5525   \n",
       "nan                 42862.0    602.0    0.0140    0.6711     0.6838  0.0174   \n",
       "\n",
       "                  WOE_check   SHARE  \n",
       "BIN_AIRTEL_SCORE                     \n",
       "[-inf, 0.1301)       0.4448  0.1800  \n",
       "[0.1301, 0.1795)    -0.3238  0.0722  \n",
       "[0.1795, inf)       -0.5813  0.0643  \n",
       "nan                  0.0186  0.6836  "
      ]
     },
     "metadata": {},
     "output_type": "display_data"
    },
    {
     "name": "stdout",
     "output_type": "stream",
     "text": [
      "IV: 0.0671\n",
      "Gini: 12.15\n"
     ]
    },
    {
     "data": {
      "image/png": "[encoded data removed]",
      "text/plain": [
       "<Figure size 720x360 with 2 Axes>"
      ]
     },
     "metadata": {
      "needs_background": "light"
     },
     "output_type": "display_data"
    }
   ],
   "source": [
    "grouping.plot_bins(data=data, cols_pred_num=cols_pred_num, cols_pred_cat=cols_pred_cat,\n",
    "                    mask=train_mask, col_target=col_target, output_folder=output_folder, col_weight=None)"
   ]
  },
  {
   "cell_type": "markdown",
   "metadata": {},
   "source": [
    "## Add the transformed variables to the data set"
   ]
  },
  {
   "cell_type": "markdown",
   "metadata": {},
   "source": [
    "### WOE variables\n",
    "\n",
    "Add WOE variabes to the data set."
   ]
  },
  {
   "cell_type": "code",
   "execution_count": 103,
   "metadata": {},
   "outputs": [
    {
     "data": {
      "text/html": [
       "<div>\n",
       "<style scoped>\n",
       "    .dataframe tbody tr th:only-of-type {\n",
       "        vertical-align: middle;\n",
       "    }\n",
       "\n",
       "    .dataframe tbody tr th {\n",
       "        vertical-align: top;\n",
       "    }\n",
       "\n",
       "    .dataframe thead th {\n",
       "        text-align: right;\n",
       "    }\n",
       "</style>\n",
       "<table border=\"1\" class=\"dataframe\">\n",
       "  <thead>\n",
       "    <tr style=\"text-align: right;\">\n",
       "      <th></th>\n",
       "      <th>TIME_DECISION_DATE</th>\n",
       "      <th>AIRTEL_SCORE</th>\n",
       "      <th>RISK_FPD30</th>\n",
       "      <th>BASE</th>\n",
       "      <th>DAY</th>\n",
       "      <th>MONTH</th>\n",
       "      <th>data_type</th>\n",
       "      <th>AIRTEL_SCORE_DMY_0</th>\n",
       "      <th>AIRTEL_SCORE_DMY_1</th>\n",
       "      <th>AIRTEL_SCORE_DMY_2</th>\n",
       "      <th>AIRTEL_SCORE_DMY_3</th>\n",
       "      <th>AIRTEL_SCORE_DMY_NaN</th>\n",
       "      <th>ones</th>\n",
       "      <th>AIRTEL_SCORE_WOE</th>\n",
       "    </tr>\n",
       "    <tr>\n",
       "      <th>SKP_CREDIT_CASE</th>\n",
       "      <th></th>\n",
       "      <th></th>\n",
       "      <th></th>\n",
       "      <th></th>\n",
       "      <th></th>\n",
       "      <th></th>\n",
       "      <th></th>\n",
       "      <th></th>\n",
       "      <th></th>\n",
       "      <th></th>\n",
       "      <th></th>\n",
       "      <th></th>\n",
       "      <th></th>\n",
       "      <th></th>\n",
       "    </tr>\n",
       "  </thead>\n",
       "  <tbody>\n",
       "    <tr>\n",
       "      <th>305534571</th>\n",
       "      <td>2020-06-05</td>\n",
       "      <td>NaN</td>\n",
       "      <td>0.0</td>\n",
       "      <td>1</td>\n",
       "      <td>20200605</td>\n",
       "      <td>202006</td>\n",
       "      <td>hoot</td>\n",
       "      <td>0</td>\n",
       "      <td>0</td>\n",
       "      <td>0</td>\n",
       "      <td>0</td>\n",
       "      <td>1</td>\n",
       "      <td>1</td>\n",
       "      <td>-0.019566</td>\n",
       "    </tr>\n",
       "    <tr>\n",
       "      <th>305542545</th>\n",
       "      <td>2020-06-01</td>\n",
       "      <td>NaN</td>\n",
       "      <td>0.0</td>\n",
       "      <td>1</td>\n",
       "      <td>20200601</td>\n",
       "      <td>202006</td>\n",
       "      <td>hoot</td>\n",
       "      <td>0</td>\n",
       "      <td>0</td>\n",
       "      <td>0</td>\n",
       "      <td>0</td>\n",
       "      <td>1</td>\n",
       "      <td>1</td>\n",
       "      <td>-0.019566</td>\n",
       "    </tr>\n",
       "    <tr>\n",
       "      <th>305499118</th>\n",
       "      <td>2020-06-01</td>\n",
       "      <td>NaN</td>\n",
       "      <td>0.0</td>\n",
       "      <td>1</td>\n",
       "      <td>20200601</td>\n",
       "      <td>202006</td>\n",
       "      <td>hoot</td>\n",
       "      <td>0</td>\n",
       "      <td>0</td>\n",
       "      <td>0</td>\n",
       "      <td>0</td>\n",
       "      <td>1</td>\n",
       "      <td>1</td>\n",
       "      <td>-0.019566</td>\n",
       "    </tr>\n",
       "    <tr>\n",
       "      <th>305501630</th>\n",
       "      <td>2020-06-01</td>\n",
       "      <td>NaN</td>\n",
       "      <td>1.0</td>\n",
       "      <td>1</td>\n",
       "      <td>20200601</td>\n",
       "      <td>202006</td>\n",
       "      <td>hoot</td>\n",
       "      <td>0</td>\n",
       "      <td>0</td>\n",
       "      <td>0</td>\n",
       "      <td>0</td>\n",
       "      <td>1</td>\n",
       "      <td>1</td>\n",
       "      <td>-0.019566</td>\n",
       "    </tr>\n",
       "    <tr>\n",
       "      <th>305431258</th>\n",
       "      <td>2020-06-01</td>\n",
       "      <td>NaN</td>\n",
       "      <td>0.0</td>\n",
       "      <td>1</td>\n",
       "      <td>20200601</td>\n",
       "      <td>202006</td>\n",
       "      <td>hoot</td>\n",
       "      <td>0</td>\n",
       "      <td>0</td>\n",
       "      <td>0</td>\n",
       "      <td>0</td>\n",
       "      <td>1</td>\n",
       "      <td>1</td>\n",
       "      <td>-0.019566</td>\n",
       "    </tr>\n",
       "  </tbody>\n",
       "</table>\n",
       "</div>"
      ],
      "text/plain": [
       "                TIME_DECISION_DATE  AIRTEL_SCORE  RISK_FPD30  BASE       DAY  \\\n",
       "SKP_CREDIT_CASE                                                                \n",
       "305534571               2020-06-05           NaN         0.0     1  20200605   \n",
       "305542545               2020-06-01           NaN         0.0     1  20200601   \n",
       "305499118               2020-06-01           NaN         0.0     1  20200601   \n",
       "305501630               2020-06-01           NaN         1.0     1  20200601   \n",
       "305431258               2020-06-01           NaN         0.0     1  20200601   \n",
       "\n",
       "                  MONTH data_type  AIRTEL_SCORE_DMY_0  AIRTEL_SCORE_DMY_1  \\\n",
       "SKP_CREDIT_CASE                                                             \n",
       "305534571        202006      hoot                   0                   0   \n",
       "305542545        202006      hoot                   0                   0   \n",
       "305499118        202006      hoot                   0                   0   \n",
       "305501630        202006      hoot                   0                   0   \n",
       "305431258        202006      hoot                   0                   0   \n",
       "\n",
       "                 AIRTEL_SCORE_DMY_2  AIRTEL_SCORE_DMY_3  AIRTEL_SCORE_DMY_NaN  \\\n",
       "SKP_CREDIT_CASE                                                                 \n",
       "305534571                         0                   0                     1   \n",
       "305542545                         0                   0                     1   \n",
       "305499118                         0                   0                     1   \n",
       "305501630                         0                   0                     1   \n",
       "305431258                         0                   0                     1   \n",
       "\n",
       "                 ones  AIRTEL_SCORE_WOE  \n",
       "SKP_CREDIT_CASE                          \n",
       "305534571           1         -0.019566  \n",
       "305542545           1         -0.019566  \n",
       "305499118           1         -0.019566  \n",
       "305501630           1         -0.019566  \n",
       "305431258           1         -0.019566  "
      ]
     },
     "execution_count": 103,
     "metadata": {},
     "output_type": "execute_result"
    }
   ],
   "source": [
    "data.head()"
   ]
  },
  {
   "cell_type": "code",
   "execution_count": 104,
   "metadata": {},
   "outputs": [
    {
     "name": "stdout",
     "output_type": "stream",
     "text": [
      "Column AIRTEL_SCORE_WOE dropped as it already existed in the data set.\n",
      "Added WOE variables. Number of columns: 14\n"
     ]
    }
   ],
   "source": [
    "woe_columns_to_replace = list()\n",
    "for column in data_woe.columns:\n",
    "    if column in data:\n",
    "        woe_columns_to_replace.append(column)\n",
    "        print('Column', column ,'dropped as it already existed in the data set.')\n",
    "data = data.drop(woe_columns_to_replace, axis='columns')\n",
    "data = data.join(data_woe)\n",
    "\n",
    "del data_woe\n",
    "gc.collect()\n",
    "\n",
    "print('Added WOE variables. Number of columns:',data.shape[1])\n",
    "cols_woe = [s + '_WOE' for s in cols_pred]"
   ]
  },
  {
   "cell_type": "code",
   "execution_count": 105,
   "metadata": {},
   "outputs": [],
   "source": [
    "data[[\"TIME_DECISION_DATE\",\"AIRTEL_SCORE\",\"AIRTEL_SCORE_WOE\"]].to_csv(os.getcwd()+r\"\\Data Files\\airtel_woe.csv\")\n"
   ]
  },
  {
   "cell_type": "code",
   "execution_count": 106,
   "metadata": {},
   "outputs": [],
   "source": [
    "data[[\"TIME_DECISION_DATE\",\"AIRTEL_SCORE\",\"AIRTEL_SCORE_WOE\"]].to_pickle(os.getcwd()+r\"\\Data Files\\airtel_woe.pkl\")"
   ]
  },
  {
   "cell_type": "markdown",
   "metadata": {},
   "source": [
    "### Dummy variables\n",
    "\n",
    "**Optional.**"
   ]
  },
  {
   "cell_type": "code",
   "execution_count": 107,
   "metadata": {},
   "outputs": [
    {
     "name": "stdout",
     "output_type": "stream",
     "text": [
      "Column AIRTEL_SCORE_DMY_0 dropped as it already existed in the data set.\n",
      "Column AIRTEL_SCORE_DMY_1 dropped as it already existed in the data set.\n",
      "Column AIRTEL_SCORE_DMY_2 dropped as it already existed in the data set.\n",
      "Column AIRTEL_SCORE_DMY_3 dropped as it already existed in the data set.\n",
      "Column AIRTEL_SCORE_DMY_NaN dropped as it already existed in the data set.\n",
      "Added dummy variables. Number of columns: 14\n"
     ]
    }
   ],
   "source": [
    "dummy_columns_to_replace = list()\n",
    "for column in data_dummy.columns:\n",
    "    if column in data:\n",
    "        dummy_columns_to_replace.append(column)\n",
    "        print('Column', column ,'dropped as it already existed in the data set.')\n",
    "data = data.drop(dummy_columns_to_replace, axis='columns')\n",
    "data = data.join(data_dummy)\n",
    "\n",
    "del data_dummy\n",
    "gc.collect()\n",
    "\n",
    "print('Added dummy variables. Number of columns:',data.shape[1])"
   ]
  },
  {
   "cell_type": "markdown",
   "metadata": {},
   "source": [
    "#  Feature selection\n",
    "\n",
    "First remove WOE variables with one WOE value only - they will have no predictive power."
   ]
  },
  {
   "cell_type": "code",
   "execution_count": 108,
   "metadata": {},
   "outputs": [
    {
     "name": "stdout",
     "output_type": "stream",
     "text": [
      "All predictors have more than 1 unique WOE level.\n"
     ]
    }
   ],
   "source": [
    "cols_del = list()\n",
    "for name, column in data[train_mask][cols_woe].iteritems():\n",
    "    if (column.count() == 0) or (column.max() == column.min()):\n",
    "        cols_del.append(name)\n",
    "        cols_woe.remove(name)\n",
    "\n",
    "if len(cols_del) > 0:\n",
    "    print('Variables',cols_del,'will not be further used as they have only 1 unique WOE level.')\n",
    "else:\n",
    "    print('All predictors have more than 1 unique WOE level.')"
   ]
  },
  {
   "cell_type": "markdown",
   "metadata": {},
   "source": [
    "## Predictor power analysis\n",
    "\n",
    "Calculates IV and Gini of each predictor, sorts the predictors by their power. The power is calculated for each of the samples (train, validate, test, OOT, H.OOT). **If one or more of the samples are empty, comment the according part of the code.**"
   ]
  },
  {
   "cell_type": "code",
   "execution_count": 109,
   "metadata": {},
   "outputs": [
    {
     "ename": "ValueError",
     "evalue": "Only one class present in y_true. ROC AUC score is not defined in that case.",
     "output_type": "error",
     "traceback": [
      "\u001b[1;31m---------------------------------------------------------------------------\u001b[0m",
      "\u001b[1;31mValueError\u001b[0m                                Traceback (most recent call last)",
      "\u001b[1;32m<ipython-input-109-cf20fc1cb5b2>\u001b[0m in \u001b[0;36m<module>\u001b[1;34m\u001b[0m\n\u001b[0;32m     11\u001b[0m                     \u001b[1;33m,\u001b[0m\u001b[1;34m'Gini Test'\u001b[0m\u001b[1;33m:\u001b[0m\u001b[0mgini\u001b[0m\u001b[1;33m(\u001b[0m\u001b[0mdata\u001b[0m\u001b[1;33m.\u001b[0m\u001b[0mloc\u001b[0m\u001b[1;33m[\u001b[0m\u001b[0mtest_mask\u001b[0m\u001b[1;33m,\u001b[0m\u001b[0mcol_target\u001b[0m\u001b[1;33m]\u001b[0m\u001b[1;33m,\u001b[0m\u001b[1;33m-\u001b[0m\u001b[0mdata\u001b[0m\u001b[1;33m.\u001b[0m\u001b[0mloc\u001b[0m\u001b[1;33m[\u001b[0m\u001b[0mtest_mask\u001b[0m\u001b[1;33m,\u001b[0m\u001b[0mcols_woe\u001b[0m\u001b[1;33m[\u001b[0m\u001b[0mj\u001b[0m\u001b[1;33m]\u001b[0m\u001b[1;33m]\u001b[0m\u001b[1;33m)\u001b[0m\u001b[1;33m\u001b[0m\u001b[1;33m\u001b[0m\u001b[0m\n\u001b[0;32m     12\u001b[0m                     \u001b[1;33m,\u001b[0m\u001b[1;34m'IV OOT'\u001b[0m\u001b[1;33m:\u001b[0m\u001b[0miv\u001b[0m\u001b[1;33m(\u001b[0m\u001b[0mdata\u001b[0m\u001b[1;33m.\u001b[0m\u001b[0mloc\u001b[0m\u001b[1;33m[\u001b[0m\u001b[0moot_mask\u001b[0m\u001b[1;33m,\u001b[0m\u001b[0mcol_target\u001b[0m\u001b[1;33m]\u001b[0m\u001b[1;33m,\u001b[0m\u001b[0mdata\u001b[0m\u001b[1;33m.\u001b[0m\u001b[0mloc\u001b[0m\u001b[1;33m[\u001b[0m\u001b[0moot_mask\u001b[0m\u001b[1;33m,\u001b[0m\u001b[0mcols_woe\u001b[0m\u001b[1;33m[\u001b[0m\u001b[0mj\u001b[0m\u001b[1;33m]\u001b[0m\u001b[1;33m]\u001b[0m\u001b[1;33m)\u001b[0m\u001b[1;33m\u001b[0m\u001b[1;33m\u001b[0m\u001b[0m\n\u001b[1;32m---> 13\u001b[1;33m                     \u001b[1;33m,\u001b[0m\u001b[1;34m'Gini OOT'\u001b[0m\u001b[1;33m:\u001b[0m\u001b[0mgini\u001b[0m\u001b[1;33m(\u001b[0m\u001b[0mdata\u001b[0m\u001b[1;33m.\u001b[0m\u001b[0mloc\u001b[0m\u001b[1;33m[\u001b[0m\u001b[0moot_mask\u001b[0m\u001b[1;33m,\u001b[0m\u001b[0mcol_target\u001b[0m\u001b[1;33m]\u001b[0m\u001b[1;33m,\u001b[0m\u001b[1;33m-\u001b[0m\u001b[0mdata\u001b[0m\u001b[1;33m.\u001b[0m\u001b[0mloc\u001b[0m\u001b[1;33m[\u001b[0m\u001b[0moot_mask\u001b[0m\u001b[1;33m,\u001b[0m\u001b[0mcols_woe\u001b[0m\u001b[1;33m[\u001b[0m\u001b[0mj\u001b[0m\u001b[1;33m]\u001b[0m\u001b[1;33m]\u001b[0m\u001b[1;33m)\u001b[0m\u001b[1;33m\u001b[0m\u001b[1;33m\u001b[0m\u001b[0m\n\u001b[0m\u001b[0;32m     14\u001b[0m \u001b[1;31m#                     ,'IV HOOT':iv(data.loc[hoot_mask,col_target],data.loc[hoot_mask,cols_woe[j]])\u001b[0m\u001b[1;33m\u001b[0m\u001b[1;33m\u001b[0m\u001b[1;33m\u001b[0m\u001b[0m\n\u001b[0;32m     15\u001b[0m \u001b[1;31m#                     ,'Gini HOOT':gini(data.loc[hoot_mask,col_target],-data.loc[hoot_mask,cols_woe[j]])\u001b[0m\u001b[1;33m\u001b[0m\u001b[1;33m\u001b[0m\u001b[1;33m\u001b[0m\u001b[0m\n",
      "\u001b[1;32m~\\Desktop\\HomeCredit\\UW\\Scoring Workflow\\scoring\\metrics.py\u001b[0m in \u001b[0;36mgini\u001b[1;34m(y_true, y_pred, sample_weight)\u001b[0m\n\u001b[0;32m     52\u001b[0m \u001b[1;33m\u001b[0m\u001b[0m\n\u001b[0;32m     53\u001b[0m     \"\"\"\n\u001b[1;32m---> 54\u001b[1;33m     \u001b[1;32mreturn\u001b[0m \u001b[1;36m2\u001b[0m\u001b[1;33m*\u001b[0m\u001b[0mroc_auc_score\u001b[0m\u001b[1;33m(\u001b[0m\u001b[0my_true\u001b[0m\u001b[1;33m,\u001b[0m \u001b[0my_pred\u001b[0m\u001b[1;33m,\u001b[0m \u001b[0msample_weight\u001b[0m\u001b[1;33m=\u001b[0m\u001b[0msample_weight\u001b[0m\u001b[1;33m)\u001b[0m\u001b[1;33m-\u001b[0m\u001b[1;36m1\u001b[0m\u001b[1;33m\u001b[0m\u001b[1;33m\u001b[0m\u001b[0m\n\u001b[0m\u001b[0;32m     55\u001b[0m \u001b[1;33m\u001b[0m\u001b[0m\n\u001b[0;32m     56\u001b[0m \u001b[1;33m\u001b[0m\u001b[0m\n",
      "\u001b[1;32m~\\AppData\\Local\\Continuum\\anaconda3\\lib\\site-packages\\sklearn\\utils\\validation.py\u001b[0m in \u001b[0;36minner_f\u001b[1;34m(*args, **kwargs)\u001b[0m\n\u001b[0;32m     61\u001b[0m             \u001b[0mextra_args\u001b[0m \u001b[1;33m=\u001b[0m \u001b[0mlen\u001b[0m\u001b[1;33m(\u001b[0m\u001b[0margs\u001b[0m\u001b[1;33m)\u001b[0m \u001b[1;33m-\u001b[0m \u001b[0mlen\u001b[0m\u001b[1;33m(\u001b[0m\u001b[0mall_args\u001b[0m\u001b[1;33m)\u001b[0m\u001b[1;33m\u001b[0m\u001b[1;33m\u001b[0m\u001b[0m\n\u001b[0;32m     62\u001b[0m             \u001b[1;32mif\u001b[0m \u001b[0mextra_args\u001b[0m \u001b[1;33m<=\u001b[0m \u001b[1;36m0\u001b[0m\u001b[1;33m:\u001b[0m\u001b[1;33m\u001b[0m\u001b[1;33m\u001b[0m\u001b[0m\n\u001b[1;32m---> 63\u001b[1;33m                 \u001b[1;32mreturn\u001b[0m \u001b[0mf\u001b[0m\u001b[1;33m(\u001b[0m\u001b[1;33m*\u001b[0m\u001b[0margs\u001b[0m\u001b[1;33m,\u001b[0m \u001b[1;33m**\u001b[0m\u001b[0mkwargs\u001b[0m\u001b[1;33m)\u001b[0m\u001b[1;33m\u001b[0m\u001b[1;33m\u001b[0m\u001b[0m\n\u001b[0m\u001b[0;32m     64\u001b[0m \u001b[1;33m\u001b[0m\u001b[0m\n\u001b[0;32m     65\u001b[0m             \u001b[1;31m# extra_args > 0\u001b[0m\u001b[1;33m\u001b[0m\u001b[1;33m\u001b[0m\u001b[1;33m\u001b[0m\u001b[0m\n",
      "\u001b[1;32m~\\AppData\\Local\\Continuum\\anaconda3\\lib\\site-packages\\sklearn\\metrics\\_ranking.py\u001b[0m in \u001b[0;36mroc_auc_score\u001b[1;34m(y_true, y_score, average, sample_weight, max_fpr, multi_class, labels)\u001b[0m\n\u001b[0;32m    543\u001b[0m                                              max_fpr=max_fpr),\n\u001b[0;32m    544\u001b[0m                                      \u001b[0my_true\u001b[0m\u001b[1;33m,\u001b[0m \u001b[0my_score\u001b[0m\u001b[1;33m,\u001b[0m \u001b[0maverage\u001b[0m\u001b[1;33m,\u001b[0m\u001b[1;33m\u001b[0m\u001b[1;33m\u001b[0m\u001b[0m\n\u001b[1;32m--> 545\u001b[1;33m                                      sample_weight=sample_weight)\n\u001b[0m\u001b[0;32m    546\u001b[0m     \u001b[1;32melse\u001b[0m\u001b[1;33m:\u001b[0m  \u001b[1;31m# multilabel-indicator\u001b[0m\u001b[1;33m\u001b[0m\u001b[1;33m\u001b[0m\u001b[0m\n\u001b[0;32m    547\u001b[0m         return _average_binary_score(partial(_binary_roc_auc_score,\n",
      "\u001b[1;32m~\\AppData\\Local\\Continuum\\anaconda3\\lib\\site-packages\\sklearn\\metrics\\_base.py\u001b[0m in \u001b[0;36m_average_binary_score\u001b[1;34m(binary_metric, y_true, y_score, average, sample_weight)\u001b[0m\n\u001b[0;32m     75\u001b[0m \u001b[1;33m\u001b[0m\u001b[0m\n\u001b[0;32m     76\u001b[0m     \u001b[1;32mif\u001b[0m \u001b[0my_type\u001b[0m \u001b[1;33m==\u001b[0m \u001b[1;34m\"binary\"\u001b[0m\u001b[1;33m:\u001b[0m\u001b[1;33m\u001b[0m\u001b[1;33m\u001b[0m\u001b[0m\n\u001b[1;32m---> 77\u001b[1;33m         \u001b[1;32mreturn\u001b[0m \u001b[0mbinary_metric\u001b[0m\u001b[1;33m(\u001b[0m\u001b[0my_true\u001b[0m\u001b[1;33m,\u001b[0m \u001b[0my_score\u001b[0m\u001b[1;33m,\u001b[0m \u001b[0msample_weight\u001b[0m\u001b[1;33m=\u001b[0m\u001b[0msample_weight\u001b[0m\u001b[1;33m)\u001b[0m\u001b[1;33m\u001b[0m\u001b[1;33m\u001b[0m\u001b[0m\n\u001b[0m\u001b[0;32m     78\u001b[0m \u001b[1;33m\u001b[0m\u001b[0m\n\u001b[0;32m     79\u001b[0m     \u001b[0mcheck_consistent_length\u001b[0m\u001b[1;33m(\u001b[0m\u001b[0my_true\u001b[0m\u001b[1;33m,\u001b[0m \u001b[0my_score\u001b[0m\u001b[1;33m,\u001b[0m \u001b[0msample_weight\u001b[0m\u001b[1;33m)\u001b[0m\u001b[1;33m\u001b[0m\u001b[1;33m\u001b[0m\u001b[0m\n",
      "\u001b[1;32m~\\AppData\\Local\\Continuum\\anaconda3\\lib\\site-packages\\sklearn\\metrics\\_ranking.py\u001b[0m in \u001b[0;36m_binary_roc_auc_score\u001b[1;34m(y_true, y_score, sample_weight, max_fpr)\u001b[0m\n\u001b[0;32m    325\u001b[0m     \u001b[1;34m\"\"\"Binary roc auc score.\"\"\"\u001b[0m\u001b[1;33m\u001b[0m\u001b[1;33m\u001b[0m\u001b[0m\n\u001b[0;32m    326\u001b[0m     \u001b[1;32mif\u001b[0m \u001b[0mlen\u001b[0m\u001b[1;33m(\u001b[0m\u001b[0mnp\u001b[0m\u001b[1;33m.\u001b[0m\u001b[0munique\u001b[0m\u001b[1;33m(\u001b[0m\u001b[0my_true\u001b[0m\u001b[1;33m)\u001b[0m\u001b[1;33m)\u001b[0m \u001b[1;33m!=\u001b[0m \u001b[1;36m2\u001b[0m\u001b[1;33m:\u001b[0m\u001b[1;33m\u001b[0m\u001b[1;33m\u001b[0m\u001b[0m\n\u001b[1;32m--> 327\u001b[1;33m         raise ValueError(\"Only one class present in y_true. ROC AUC score \"\n\u001b[0m\u001b[0;32m    328\u001b[0m                          \"is not defined in that case.\")\n\u001b[0;32m    329\u001b[0m \u001b[1;33m\u001b[0m\u001b[0m\n",
      "\u001b[1;31mValueError\u001b[0m: Only one class present in y_true. ROC AUC score is not defined in that case."
     ]
    }
   ],
   "source": [
    "from scoring.metrics import iv,gini,lift\n",
    "\n",
    "power_tab = []\n",
    "for j in range(0,len(cols_woe)):\n",
    "    power_tab.append({'Name':cols_woe[j]\n",
    "                    ,'IV Train':iv(data.loc[train_mask,col_target],data.loc[train_mask,cols_woe[j]])\n",
    "                    ,'Gini Train':gini(data.loc[train_mask,col_target],-data.loc[train_mask,cols_woe[j]])\n",
    "                    ,'IV Validate':iv(data.loc[valid_mask,col_target],data.loc[valid_mask,cols_woe[j]])\n",
    "                    ,'Gini Validate':gini(data.loc[valid_mask,col_target],-data.loc[valid_mask,cols_woe[j]])\n",
    "                    ,'IV Test':iv(data.loc[test_mask,col_target],data.loc[test_mask,cols_woe[j]])\n",
    "                    ,'Gini Test':gini(data.loc[test_mask,col_target],-data.loc[test_mask,cols_woe[j]])\n",
    "                    ,'IV OOT':iv(data.loc[oot_mask,col_target],data.loc[oot_mask,cols_woe[j]])\n",
    "                    ,'Gini OOT':gini(data.loc[oot_mask,col_target],-data.loc[oot_mask,cols_woe[j]])\n",
    "#                     ,'IV HOOT':iv(data.loc[hoot_mask,col_target],data.loc[hoot_mask,cols_woe[j]])\n",
    "#                     ,'Gini HOOT':gini(data.loc[hoot_mask,col_target],-data.loc[hoot_mask,cols_woe[j]])\n",
    "                         })\n",
    "power_out = pd.DataFrame.from_records(power_tab)\n",
    "power_out = power_out.set_index('Name')\n",
    "power_out = power_out.sort_values('Gini Train',ascending=False)\n",
    "\n",
    "pd.options.display.max_rows = 1000\n",
    "display(power_out)\n",
    "pd.options.display.max_rows = 15\n",
    "power_out.to_csv(output_folder+'/predictors/covariates.csv')"
   ]
  },
  {
   "cell_type": "markdown",
   "metadata": {},
   "source": [
    "## Time stability of predictors"
   ]
  },
  {
   "cell_type": "markdown",
   "metadata": {},
   "source": [
    "### Stability charts"
   ]
  },
  {
   "cell_type": "markdown",
   "metadata": {},
   "source": [
    "Set metadata for the stability charts. Two types of charts will be drawn:\n",
    "- Stability of default rate, for which the variables with default and with base need to be set\n",
    "- Stability of population, for which the variable with observation count needs to be set"
   ]
  },
  {
   "cell_type": "code",
   "execution_count": 110,
   "metadata": {},
   "outputs": [],
   "source": [
    "target_for_default = col_target\n",
    "base_for_default = col_base\n",
    "data['ones'] = 1\n",
    "obs_for_population = col_base"
   ]
  },
  {
   "cell_type": "code",
   "execution_count": 111,
   "metadata": {},
   "outputs": [
    {
     "data": {
      "text/html": [
       "<div>\n",
       "<style scoped>\n",
       "    .dataframe tbody tr th:only-of-type {\n",
       "        vertical-align: middle;\n",
       "    }\n",
       "\n",
       "    .dataframe tbody tr th {\n",
       "        vertical-align: top;\n",
       "    }\n",
       "\n",
       "    .dataframe thead th {\n",
       "        text-align: right;\n",
       "    }\n",
       "</style>\n",
       "<table border=\"1\" class=\"dataframe\">\n",
       "  <thead>\n",
       "    <tr style=\"text-align: right;\">\n",
       "      <th></th>\n",
       "      <th>TIME_DECISION_DATE</th>\n",
       "      <th>AIRTEL_SCORE</th>\n",
       "      <th>RISK_FPD30</th>\n",
       "      <th>BASE</th>\n",
       "      <th>DAY</th>\n",
       "      <th>MONTH</th>\n",
       "      <th>data_type</th>\n",
       "      <th>ones</th>\n",
       "      <th>AIRTEL_SCORE_WOE</th>\n",
       "      <th>AIRTEL_SCORE_DMY_0</th>\n",
       "      <th>AIRTEL_SCORE_DMY_1</th>\n",
       "      <th>AIRTEL_SCORE_DMY_2</th>\n",
       "      <th>AIRTEL_SCORE_DMY_3</th>\n",
       "      <th>AIRTEL_SCORE_DMY_NaN</th>\n",
       "    </tr>\n",
       "    <tr>\n",
       "      <th>SKP_CREDIT_CASE</th>\n",
       "      <th></th>\n",
       "      <th></th>\n",
       "      <th></th>\n",
       "      <th></th>\n",
       "      <th></th>\n",
       "      <th></th>\n",
       "      <th></th>\n",
       "      <th></th>\n",
       "      <th></th>\n",
       "      <th></th>\n",
       "      <th></th>\n",
       "      <th></th>\n",
       "      <th></th>\n",
       "      <th></th>\n",
       "    </tr>\n",
       "  </thead>\n",
       "  <tbody>\n",
       "    <tr>\n",
       "      <th>305534571</th>\n",
       "      <td>2020-06-05</td>\n",
       "      <td>NaN</td>\n",
       "      <td>0.0</td>\n",
       "      <td>1</td>\n",
       "      <td>20200605</td>\n",
       "      <td>202006</td>\n",
       "      <td>hoot</td>\n",
       "      <td>1</td>\n",
       "      <td>-0.019566</td>\n",
       "      <td>0</td>\n",
       "      <td>0</td>\n",
       "      <td>0</td>\n",
       "      <td>0</td>\n",
       "      <td>1</td>\n",
       "    </tr>\n",
       "    <tr>\n",
       "      <th>305542545</th>\n",
       "      <td>2020-06-01</td>\n",
       "      <td>NaN</td>\n",
       "      <td>0.0</td>\n",
       "      <td>1</td>\n",
       "      <td>20200601</td>\n",
       "      <td>202006</td>\n",
       "      <td>hoot</td>\n",
       "      <td>1</td>\n",
       "      <td>-0.019566</td>\n",
       "      <td>0</td>\n",
       "      <td>0</td>\n",
       "      <td>0</td>\n",
       "      <td>0</td>\n",
       "      <td>1</td>\n",
       "    </tr>\n",
       "    <tr>\n",
       "      <th>305499118</th>\n",
       "      <td>2020-06-01</td>\n",
       "      <td>NaN</td>\n",
       "      <td>0.0</td>\n",
       "      <td>1</td>\n",
       "      <td>20200601</td>\n",
       "      <td>202006</td>\n",
       "      <td>hoot</td>\n",
       "      <td>1</td>\n",
       "      <td>-0.019566</td>\n",
       "      <td>0</td>\n",
       "      <td>0</td>\n",
       "      <td>0</td>\n",
       "      <td>0</td>\n",
       "      <td>1</td>\n",
       "    </tr>\n",
       "    <tr>\n",
       "      <th>305501630</th>\n",
       "      <td>2020-06-01</td>\n",
       "      <td>NaN</td>\n",
       "      <td>1.0</td>\n",
       "      <td>1</td>\n",
       "      <td>20200601</td>\n",
       "      <td>202006</td>\n",
       "      <td>hoot</td>\n",
       "      <td>1</td>\n",
       "      <td>-0.019566</td>\n",
       "      <td>0</td>\n",
       "      <td>0</td>\n",
       "      <td>0</td>\n",
       "      <td>0</td>\n",
       "      <td>1</td>\n",
       "    </tr>\n",
       "    <tr>\n",
       "      <th>305431258</th>\n",
       "      <td>2020-06-01</td>\n",
       "      <td>NaN</td>\n",
       "      <td>0.0</td>\n",
       "      <td>1</td>\n",
       "      <td>20200601</td>\n",
       "      <td>202006</td>\n",
       "      <td>hoot</td>\n",
       "      <td>1</td>\n",
       "      <td>-0.019566</td>\n",
       "      <td>0</td>\n",
       "      <td>0</td>\n",
       "      <td>0</td>\n",
       "      <td>0</td>\n",
       "      <td>1</td>\n",
       "    </tr>\n",
       "  </tbody>\n",
       "</table>\n",
       "</div>"
      ],
      "text/plain": [
       "                TIME_DECISION_DATE  AIRTEL_SCORE  RISK_FPD30  BASE       DAY  \\\n",
       "SKP_CREDIT_CASE                                                                \n",
       "305534571               2020-06-05           NaN         0.0     1  20200605   \n",
       "305542545               2020-06-01           NaN         0.0     1  20200601   \n",
       "305499118               2020-06-01           NaN         0.0     1  20200601   \n",
       "305501630               2020-06-01           NaN         1.0     1  20200601   \n",
       "305431258               2020-06-01           NaN         0.0     1  20200601   \n",
       "\n",
       "                  MONTH data_type  ones  AIRTEL_SCORE_WOE  AIRTEL_SCORE_DMY_0  \\\n",
       "SKP_CREDIT_CASE                                                                 \n",
       "305534571        202006      hoot     1         -0.019566                   0   \n",
       "305542545        202006      hoot     1         -0.019566                   0   \n",
       "305499118        202006      hoot     1         -0.019566                   0   \n",
       "305501630        202006      hoot     1         -0.019566                   0   \n",
       "305431258        202006      hoot     1         -0.019566                   0   \n",
       "\n",
       "                 AIRTEL_SCORE_DMY_1  AIRTEL_SCORE_DMY_2  AIRTEL_SCORE_DMY_3  \\\n",
       "SKP_CREDIT_CASE                                                               \n",
       "305534571                         0                   0                   0   \n",
       "305542545                         0                   0                   0   \n",
       "305499118                         0                   0                   0   \n",
       "305501630                         0                   0                   0   \n",
       "305431258                         0                   0                   0   \n",
       "\n",
       "                 AIRTEL_SCORE_DMY_NaN  \n",
       "SKP_CREDIT_CASE                        \n",
       "305534571                           1  \n",
       "305542545                           1  \n",
       "305499118                           1  \n",
       "305501630                           1  \n",
       "305431258                           1  "
      ]
     },
     "execution_count": 111,
     "metadata": {},
     "output_type": "execute_result"
    }
   ],
   "source": [
    "data.head()"
   ]
  },
  {
   "cell_type": "code",
   "execution_count": 112,
   "metadata": {},
   "outputs": [
    {
     "data": {
      "image/png": "[encoded data removed]",
      "text/plain": [
       "<Figure size 1296x864 with 2 Axes>"
      ]
     },
     "metadata": {},
     "output_type": "display_data"
    }
   ],
   "source": [
    "from scoring.plot import stability_chart\n",
    "\n",
    "# clf = modelSW\n",
    "list_pred = ['AIRTEL_SCORE_WOE']\n",
    "# for col in list(clf.final_predictors_):\n",
    "for col in list_pred:\n",
    "    \n",
    "    stability_chart(binvar = data[col],\n",
    "                    target = data[target_for_default],\n",
    "                    base = data[base_for_default],\n",
    "                    obs = data[obs_for_population],\n",
    "                    month = data[col_month],\n",
    "#                    weight = data[col_weight],\n",
    "                    grouping=grouping, # comment this out for old plots with WOE values\n",
    "                    savepath = output_folder+'/stability/'+col+'_')"
   ]
  },
  {
   "cell_type": "markdown",
   "metadata": {},
   "source": [
    "### Stability Index\n",
    "\n",
    "The following code calculates two versions of Elena's Stability Index, which are defined as follows.\n",
    "\n",
    "**v1** \n",
    "1. Compute the bad rates in each category for each month\n",
    "2. Compute the rank of each category within each month based on the bad rate\n",
    "3. Compute the frequency of each position / rank within each category from step 2\n",
    "4. Compute the ratios of the most frequent position / rank within each category from step 3\n",
    "5. Compute average of the ratios from step 4\n",
    "\n",
    "**v2**\n",
    "1. Compute the bad rates in each category for each month\n",
    "2. Compute the rank of each category within each month based on the bad rate\n",
    "3. Compute the frequency of each position / rank through all categories from step 2 and the corresponding ratios\n",
    "4. Compute the product of the ratios within each position / rank from step 3\n",
    "5. Compute average of the products from step 4\n",
    "\n",
    "*Note: Both version can give \"false positives\" (indicating that variable is unstable) for U-shaped variables.*"
   ]
  },
  {
   "cell_type": "code",
   "execution_count": 113,
   "metadata": {},
   "outputs": [
    {
     "data": {
      "text/html": [
       "<div>\n",
       "<style scoped>\n",
       "    .dataframe tbody tr th:only-of-type {\n",
       "        vertical-align: middle;\n",
       "    }\n",
       "\n",
       "    .dataframe tbody tr th {\n",
       "        vertical-align: top;\n",
       "    }\n",
       "\n",
       "    .dataframe thead tr th {\n",
       "        text-align: left;\n",
       "    }\n",
       "\n",
       "    .dataframe thead tr:last-of-type th {\n",
       "        text-align: right;\n",
       "    }\n",
       "</style>\n",
       "<table border=\"1\" class=\"dataframe\">\n",
       "  <thead>\n",
       "    <tr>\n",
       "      <th></th>\n",
       "      <th colspan=\"10\" halign=\"left\">Index value</th>\n",
       "    </tr>\n",
       "    <tr>\n",
       "      <th>Index version</th>\n",
       "      <th colspan=\"5\" halign=\"left\">v1</th>\n",
       "      <th colspan=\"5\" halign=\"left\">v2</th>\n",
       "    </tr>\n",
       "    <tr>\n",
       "      <th>Sample</th>\n",
       "      <th>hoot</th>\n",
       "      <th>oot</th>\n",
       "      <th>test</th>\n",
       "      <th>train</th>\n",
       "      <th>valid</th>\n",
       "      <th>hoot</th>\n",
       "      <th>oot</th>\n",
       "      <th>test</th>\n",
       "      <th>train</th>\n",
       "      <th>valid</th>\n",
       "    </tr>\n",
       "    <tr>\n",
       "      <th>Name</th>\n",
       "      <th></th>\n",
       "      <th></th>\n",
       "      <th></th>\n",
       "      <th></th>\n",
       "      <th></th>\n",
       "      <th></th>\n",
       "      <th></th>\n",
       "      <th></th>\n",
       "      <th></th>\n",
       "      <th></th>\n",
       "    </tr>\n",
       "  </thead>\n",
       "  <tbody>\n",
       "    <tr>\n",
       "      <th>AIRTEL_SCORE_WOE</th>\n",
       "      <td>1.0</td>\n",
       "      <td>1.0</td>\n",
       "      <td>0.6</td>\n",
       "      <td>0.8</td>\n",
       "      <td>0.5</td>\n",
       "      <td>1.0</td>\n",
       "      <td>0.00032</td>\n",
       "      <td>0.4</td>\n",
       "      <td>0.7</td>\n",
       "      <td>0.25</td>\n",
       "    </tr>\n",
       "  </tbody>\n",
       "</table>\n",
       "</div>"
      ],
      "text/plain": [
       "                 Index value                                                 \\\n",
       "Index version             v1                         v2                       \n",
       "Sample                  hoot  oot test train valid hoot      oot test train   \n",
       "Name                                                                          \n",
       "AIRTEL_SCORE_WOE         1.0  1.0  0.6   0.8   0.5  1.0  0.00032  0.4   0.7   \n",
       "\n",
       "                        \n",
       "Index version           \n",
       "Sample           valid  \n",
       "Name                    \n",
       "AIRTEL_SCORE_WOE  0.25  "
      ]
     },
     "metadata": {},
     "output_type": "display_data"
    }
   ],
   "source": [
    "from scoring.stability_index import stability_index_value\n",
    "\n",
    "stability_tab = []\n",
    "\n",
    "# for pred in clf.final_predictors_:\n",
    "for pred in list_pred:\n",
    "\n",
    "    for mask in ['train_mask', 'valid_mask', 'test_mask', 'oot_mask', 'hoot_mask']:\n",
    "        for ver in ['v1', 'v2']:\n",
    "            stability_tab.append({'Name':pred, 'Sample':mask[:-5], 'Index version':ver, 'Index value':\n",
    "                                 stability_index_value(data[eval(mask)], pred, col_target, col_base, col_month)[ver]})\n",
    "\n",
    "stability_tab = pd.DataFrame(stability_tab)\n",
    "stability_tab = stability_tab.groupby(['Name','Index version','Sample'])[['Index value']].mean().unstack(level=[1,2])\n",
    "\n",
    "pd.options.display.max_rows = 1000\n",
    "display(stability_tab)\n",
    "stability_tab.to_csv(output_folder+'/stability/stability_index.csv')"
   ]
  },
  {
   "cell_type": "markdown",
   "metadata": {},
   "source": [
    "### PSI"
   ]
  },
  {
   "cell_type": "code",
   "execution_count": 114,
   "metadata": {},
   "outputs": [
    {
     "name": "stdout",
     "output_type": "stream",
     "text": [
      "Month run: variable AIRTEL_SCORE_WOE is proceed. Done variables: 0/0\n"
     ]
    },
    {
     "data": {
      "text/html": [
       "<div>\n",
       "<style scoped>\n",
       "    .dataframe tbody tr th:only-of-type {\n",
       "        vertical-align: middle;\n",
       "    }\n",
       "\n",
       "    .dataframe tbody tr th {\n",
       "        vertical-align: top;\n",
       "    }\n",
       "\n",
       "    .dataframe thead th {\n",
       "        text-align: right;\n",
       "    }\n",
       "</style>\n",
       "<table border=\"1\" class=\"dataframe\">\n",
       "  <thead>\n",
       "    <tr style=\"text-align: right;\">\n",
       "      <th></th>\n",
       "      <th>Variable</th>\n",
       "      <th>PSI avg per month</th>\n",
       "    </tr>\n",
       "  </thead>\n",
       "  <tbody>\n",
       "    <tr>\n",
       "      <th>0</th>\n",
       "      <td>AIRTEL_SCORE_WOE</td>\n",
       "      <td>0.030307</td>\n",
       "    </tr>\n",
       "  </tbody>\n",
       "</table>\n",
       "</div>"
      ],
      "text/plain": [
       "           Variable  PSI avg per month\n",
       "0  AIRTEL_SCORE_WOE           0.030307"
      ]
     },
     "metadata": {},
     "output_type": "display_data"
    }
   ],
   "source": [
    "from scoring.stability_index import psi_calc_df\n",
    "monthly_psi, masked_psi = psi_calc_df(data, cols_pred_psi=list_pred, col_month='MONTH')\n",
    "display(monthly_psi)"
   ]
  },
  {
   "cell_type": "code",
   "execution_count": null,
   "metadata": {},
   "outputs": [],
   "source": []
  },
  {
   "cell_type": "code",
   "execution_count": null,
   "metadata": {},
   "outputs": [],
   "source": []
  },
  {
   "cell_type": "code",
   "execution_count": null,
   "metadata": {},
   "outputs": [],
   "source": []
  }
 ],
 "metadata": {
  "kernelspec": {
   "display_name": "Python 3",
   "language": "python",
   "name": "python3"
  },
  "language_info": {
   "codemirror_mode": {
    "name": "ipython",
    "version": 3
   },
   "file_extension": ".py",
   "mimetype": "text/x-python",
   "name": "python",
   "nbconvert_exporter": "python",
   "pygments_lexer": "ipython3",
   "version": "3.7.3"
  },
  "toc": {
   "base_numbering": 1,
   "nav_menu": {},
   "number_sections": true,
   "sideBar": true,
   "skip_h1_title": false,
   "title_cell": "Table of Contents",
   "title_sidebar": "Contents",
   "toc_cell": false,
   "toc_position": {
    "height": "calc(100% - 180px)",
    "left": "10px",
    "top": "150px",
    "width": "384px"
   },
   "toc_section_display": true,
   "toc_window_display": true
  },
  "varInspector": {
   "cols": {
    "lenName": 16,
    "lenType": 16,
    "lenVar": 40
   },
   "kernels_config": {
    "python": {
     "delete_cmd_postfix": "",
     "delete_cmd_prefix": "del ",
     "library": "var_list.py",
     "varRefreshCmd": "print(var_dic_list())"
    },
    "r": {
     "delete_cmd_postfix": ") ",
     "delete_cmd_prefix": "rm(",
     "library": "var_list.r",
     "varRefreshCmd": "cat(var_dic_list()) "
    }
   },
   "position": {
    "height": "638px",
    "left": "1569px",
    "right": "20px",
    "top": "72px",
    "width": "289px"
   },
   "types_to_exclude": [
    "module",
    "function",
    "builtin_function_or_method",
    "instance",
    "_Feature"
   ],
   "window_display": false
  }
 },
 "nbformat": 4,
 "nbformat_minor": 2
}
