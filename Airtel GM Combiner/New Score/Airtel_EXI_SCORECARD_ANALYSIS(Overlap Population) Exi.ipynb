{
 "cells": [
  {
   "cell_type": "code",
   "execution_count": 1,
   "metadata": {},
   "outputs": [],
   "source": [
    "import xgboost as xgb\n",
    "import numpy as np\n",
    "import pandas as pd\n",
    "import time\n",
    "import pickle\n",
    "import os\n",
    "from math import log\n",
    "import matplotlib.pyplot as plt\n",
    "\n",
    "import sklearn\n",
    "from sklearn.model_selection import train_test_split, GridSearchCV, RandomizedSearchCV, ParameterGrid,StratifiedKFold, cross_val_score\n",
    "\n",
    "from sklearn import metrics \n",
    "from sklearn.metrics import confusion_matrix, precision_recall_curve, average_precision_score, brier_score_loss, f1_score, log_loss,auc,roc_curve,auc, roc_auc_score\n",
    "\n",
    "from sklearn.linear_model import LogisticRegression, LogisticRegressionCV\n",
    "from sklearn.ensemble import RandomForestClassifier\n",
    "\n",
    "from sklearn.decomposition import PCA\n",
    "#from sklearn.utils.fixes import signature\n",
    "\n",
    "from datetime import datetime\n",
    "\n",
    "import warnings\n",
    "warnings.filterwarnings(\"ignore\", category=DeprecationWarning)\n",
    "\n",
    "import seaborn as sns"
   ]
  },
  {
   "cell_type": "code",
   "execution_count": 2,
   "metadata": {},
   "outputs": [],
   "source": [
    "os.chdir(r\"C:\\Users\\aman.khatri91425\\Desktop\\HomeCredit\\UW\\New Airtel Score\")"
   ]
  },
  {
   "cell_type": "markdown",
   "metadata": {},
   "source": [
    "# Read Data"
   ]
  },
  {
   "cell_type": "code",
   "execution_count": 3,
   "metadata": {},
   "outputs": [],
   "source": [
    "# df = pd.read_parquet('supervised_airtel_20210319')\n",
    "# df.to_csv(\"upload_airtel_scores.csv\", index = False)"
   ]
  },
  {
   "cell_type": "code",
   "execution_count": 4,
   "metadata": {},
   "outputs": [],
   "source": [
    "##read datasets\n",
    "df=pd.read_csv(os.getcwd()+r\"\\Data Files\\export_v1.csv\")\n",
    "df['TIME_DECISION_DATE'] = pd.to_datetime(df['TIME_DECISION_DATE'], format = '%d-%m-%y')"
   ]
  },
  {
   "cell_type": "code",
   "execution_count": 5,
   "metadata": {},
   "outputs": [],
   "source": [
    "df.dropna(subset = ['RISK_SCORE'], inplace = True)"
   ]
  },
  {
   "cell_type": "markdown",
   "metadata": {},
   "source": [
    "# Exi Clients"
   ]
  },
  {
   "cell_type": "code",
   "execution_count": 6,
   "metadata": {},
   "outputs": [],
   "source": [
    "df= df[df.CLIENT_EXI_3M == 'Y']"
   ]
  },
  {
   "cell_type": "markdown",
   "metadata": {},
   "source": [
    "# Define Key Functions"
   ]
  },
  {
   "cell_type": "code",
   "execution_count": 7,
   "metadata": {},
   "outputs": [],
   "source": [
    "def jitter(a_series, noise_reduction=1000000):\n",
    "    return (np.random.random(len(a_series))*a_series.std()/noise_reduction)-(a_series.std()/(2*noise_reduction))"
   ]
  },
  {
   "cell_type": "code",
   "execution_count": 8,
   "metadata": {},
   "outputs": [],
   "source": [
    "def lift_and_gain_df(data=None,target=None, prob=None, bucket = 10):\n",
    "    data['target0'] = 1 - data[target]\n",
    "    data['bucket'] = pd.qcut(data[prob]+jitter(data[prob]), bucket)\n",
    "    grouped = data.groupby('bucket', as_index = False)\n",
    "    liftstable = pd.DataFrame()\n",
    "    liftstable['min_prob'] = grouped.agg(['min'])[prob].iloc[:,0]\n",
    "    liftstable['max_prob'] = grouped.agg(['max'])[prob].iloc[:,0]\n",
    "    liftstable['total']   = grouped.agg(['count'])[target].iloc[:,0]\n",
    "    liftstable['bads']   = round(grouped.agg(['sum'])[target].iloc[:,0])\n",
    "    liftstable['goods'] = round(grouped.agg(['sum'])['target0'].iloc[:,0])\n",
    "    liftstable['%base'] = (liftstable.total / data[target].count())\n",
    "    liftstable = liftstable.sort_values(by=\"min_prob\", ascending=False).reset_index(drop = True)\n",
    "    liftstable['cum%_base'] = (liftstable.total / data[target].count()).cumsum()\n",
    "    liftstable['%bads'] = (liftstable['bads'] / data[target].sum())\n",
    "    liftstable['%goods'] = (liftstable['goods'] / data['target0'].sum())\n",
    "    liftstable['cum%_bads']=(liftstable['bads'] / data[target].sum()).cumsum()\n",
    "    liftstable['cum%_goods']=(liftstable['bads'] / data['target0'].sum()).cumsum()\n",
    "\n",
    "    \n",
    "    liftstable['lift'] = np.round(liftstable['%bads']/liftstable['%base'] , 3)\n",
    "    liftstable['cum_lift'] = np.round(liftstable['cum%_bads']/liftstable['cum%_base'] , 3)\n",
    "\n",
    "    #Formating\n",
    "    liftstable['%base']= liftstable['%base'].apply('{0:.2%}'.format)\n",
    "    liftstable['%bads']= liftstable['%bads'].apply('{0:.2%}'.format)\n",
    "    liftstable['%goods']= liftstable['%goods'].apply('{0:.2%}'.format)\n",
    "    liftstable['cum%_bads']= liftstable['cum%_bads'].apply('{0:.2%}'.format)\n",
    "    liftstable['cum%_goods']= liftstable['cum%_goods'].apply('{0:.2%}'.format)\n",
    "    liftstable['cum%_base'] = liftstable['cum%_base'].apply('{0:.2%}'.format)\n",
    "\n",
    "    liftstable.index = range(1,11)\n",
    "    liftstable.index.rename('Decile', inplace=True)\n",
    "    pd.set_option('display.max_columns', 13)\n",
    "    return(liftstable)"
   ]
  },
  {
   "cell_type": "code",
   "execution_count": 9,
   "metadata": {},
   "outputs": [],
   "source": [
    "def logit(x): \n",
    "    return np.log(x/(1-x))"
   ]
  },
  {
   "cell_type": "markdown",
   "metadata": {},
   "source": [
    "# Combine GM Old Airtel"
   ]
  },
  {
   "cell_type": "code",
   "execution_count": 10,
   "metadata": {},
   "outputs": [
    {
     "data": {
      "text/html": [
       "<div>\n",
       "<style scoped>\n",
       "    .dataframe tbody tr th:only-of-type {\n",
       "        vertical-align: middle;\n",
       "    }\n",
       "\n",
       "    .dataframe tbody tr th {\n",
       "        vertical-align: top;\n",
       "    }\n",
       "\n",
       "    .dataframe thead th {\n",
       "        text-align: right;\n",
       "    }\n",
       "</style>\n",
       "<table border=\"1\" class=\"dataframe\">\n",
       "  <thead>\n",
       "    <tr style=\"text-align: right;\">\n",
       "      <th></th>\n",
       "      <th>SKP_CREDIT_CASE</th>\n",
       "      <th>TIME_DECISION_DATE</th>\n",
       "      <th>DECISION_MONTH</th>\n",
       "      <th>PRODUCT_GROUP</th>\n",
       "      <th>CLIENT_EXI_3M</th>\n",
       "      <th>NTC_FLAG</th>\n",
       "      <th>RISK_SCORE</th>\n",
       "      <th>DECISION_OVERALL</th>\n",
       "      <th>RISK_FPD10</th>\n",
       "      <th>RISK_FPD30</th>\n",
       "      <th>RISK_FSPD30</th>\n",
       "      <th>RISK_FSTPD30</th>\n",
       "      <th>FLAG_1PCT_PHANTOM</th>\n",
       "      <th>RISK_AGRF10</th>\n",
       "      <th>RISK_AGRF30</th>\n",
       "      <th>RISK_AGRF60</th>\n",
       "      <th>RISK_AGRF90</th>\n",
       "      <th>AIRTEL_SCORE</th>\n",
       "      <th>REJECT_TYPE</th>\n",
       "      <th>NEW_AIRTEL_SCORE</th>\n",
       "    </tr>\n",
       "  </thead>\n",
       "  <tbody>\n",
       "    <tr>\n",
       "      <th>10817</th>\n",
       "      <td>327384676</td>\n",
       "      <td>2020-11-25</td>\n",
       "      <td>01-11-20</td>\n",
       "      <td>CD</td>\n",
       "      <td>Y</td>\n",
       "      <td>Others</td>\n",
       "      <td>0.046409</td>\n",
       "      <td>Approved</td>\n",
       "      <td>0</td>\n",
       "      <td>0</td>\n",
       "      <td>0</td>\n",
       "      <td>0</td>\n",
       "      <td>0</td>\n",
       "      <td>1</td>\n",
       "      <td>1</td>\n",
       "      <td>1</td>\n",
       "      <td>1</td>\n",
       "      <td>0.094464</td>\n",
       "      <td>SCORE_REJECT</td>\n",
       "      <td>0.063293</td>\n",
       "    </tr>\n",
       "    <tr>\n",
       "      <th>10823</th>\n",
       "      <td>327384742</td>\n",
       "      <td>2020-11-25</td>\n",
       "      <td>01-11-20</td>\n",
       "      <td>CD</td>\n",
       "      <td>Y</td>\n",
       "      <td>Others</td>\n",
       "      <td>0.023582</td>\n",
       "      <td>Approved</td>\n",
       "      <td>0</td>\n",
       "      <td>0</td>\n",
       "      <td>0</td>\n",
       "      <td>0</td>\n",
       "      <td>0</td>\n",
       "      <td>1</td>\n",
       "      <td>1</td>\n",
       "      <td>1</td>\n",
       "      <td>1</td>\n",
       "      <td>0.046950</td>\n",
       "      <td>SCORE_REJECT</td>\n",
       "      <td>0.030533</td>\n",
       "    </tr>\n",
       "    <tr>\n",
       "      <th>10826</th>\n",
       "      <td>327385104</td>\n",
       "      <td>2020-11-25</td>\n",
       "      <td>01-11-20</td>\n",
       "      <td>CD</td>\n",
       "      <td>Y</td>\n",
       "      <td>Others</td>\n",
       "      <td>0.036627</td>\n",
       "      <td>Approved</td>\n",
       "      <td>0</td>\n",
       "      <td>0</td>\n",
       "      <td>0</td>\n",
       "      <td>0</td>\n",
       "      <td>0</td>\n",
       "      <td>1</td>\n",
       "      <td>1</td>\n",
       "      <td>1</td>\n",
       "      <td>1</td>\n",
       "      <td>0.090897</td>\n",
       "      <td>SCORE_REJECT</td>\n",
       "      <td>0.113220</td>\n",
       "    </tr>\n",
       "    <tr>\n",
       "      <th>10827</th>\n",
       "      <td>327384780</td>\n",
       "      <td>2020-11-25</td>\n",
       "      <td>01-11-20</td>\n",
       "      <td>CD</td>\n",
       "      <td>Y</td>\n",
       "      <td>Others</td>\n",
       "      <td>0.032935</td>\n",
       "      <td>Approved</td>\n",
       "      <td>0</td>\n",
       "      <td>0</td>\n",
       "      <td>0</td>\n",
       "      <td>0</td>\n",
       "      <td>0</td>\n",
       "      <td>1</td>\n",
       "      <td>1</td>\n",
       "      <td>1</td>\n",
       "      <td>1</td>\n",
       "      <td>0.098163</td>\n",
       "      <td>SCORE_REJECT</td>\n",
       "      <td>0.051340</td>\n",
       "    </tr>\n",
       "    <tr>\n",
       "      <th>10828</th>\n",
       "      <td>327384794</td>\n",
       "      <td>2020-11-25</td>\n",
       "      <td>01-11-20</td>\n",
       "      <td>CD</td>\n",
       "      <td>Y</td>\n",
       "      <td>Others</td>\n",
       "      <td>0.019581</td>\n",
       "      <td>Approved</td>\n",
       "      <td>0</td>\n",
       "      <td>0</td>\n",
       "      <td>0</td>\n",
       "      <td>0</td>\n",
       "      <td>0</td>\n",
       "      <td>1</td>\n",
       "      <td>1</td>\n",
       "      <td>1</td>\n",
       "      <td>1</td>\n",
       "      <td>0.062797</td>\n",
       "      <td>SCORE_REJECT</td>\n",
       "      <td>0.026566</td>\n",
       "    </tr>\n",
       "  </tbody>\n",
       "</table>\n",
       "</div>"
      ],
      "text/plain": [
       "       SKP_CREDIT_CASE TIME_DECISION_DATE DECISION_MONTH PRODUCT_GROUP  \\\n",
       "10817        327384676         2020-11-25       01-11-20            CD   \n",
       "10823        327384742         2020-11-25       01-11-20            CD   \n",
       "10826        327385104         2020-11-25       01-11-20            CD   \n",
       "10827        327384780         2020-11-25       01-11-20            CD   \n",
       "10828        327384794         2020-11-25       01-11-20            CD   \n",
       "\n",
       "      CLIENT_EXI_3M NTC_FLAG  RISK_SCORE DECISION_OVERALL  RISK_FPD10  \\\n",
       "10817             Y   Others    0.046409         Approved           0   \n",
       "10823             Y   Others    0.023582         Approved           0   \n",
       "10826             Y   Others    0.036627         Approved           0   \n",
       "10827             Y   Others    0.032935         Approved           0   \n",
       "10828             Y   Others    0.019581         Approved           0   \n",
       "\n",
       "       RISK_FPD30  RISK_FSPD30  RISK_FSTPD30  FLAG_1PCT_PHANTOM  RISK_AGRF10  \\\n",
       "10817           0            0             0                  0            1   \n",
       "10823           0            0             0                  0            1   \n",
       "10826           0            0             0                  0            1   \n",
       "10827           0            0             0                  0            1   \n",
       "10828           0            0             0                  0            1   \n",
       "\n",
       "       RISK_AGRF30  RISK_AGRF60  RISK_AGRF90  AIRTEL_SCORE   REJECT_TYPE  \\\n",
       "10817            1            1            1      0.094464  SCORE_REJECT   \n",
       "10823            1            1            1      0.046950  SCORE_REJECT   \n",
       "10826            1            1            1      0.090897  SCORE_REJECT   \n",
       "10827            1            1            1      0.098163  SCORE_REJECT   \n",
       "10828            1            1            1      0.062797  SCORE_REJECT   \n",
       "\n",
       "       NEW_AIRTEL_SCORE  \n",
       "10817          0.063293  \n",
       "10823          0.030533  \n",
       "10826          0.113220  \n",
       "10827          0.051340  \n",
       "10828          0.026566  "
      ]
     },
     "execution_count": 10,
     "metadata": {},
     "output_type": "execute_result"
    }
   ],
   "source": [
    "df.head()"
   ]
  },
  {
   "cell_type": "code",
   "execution_count": 11,
   "metadata": {},
   "outputs": [
    {
     "data": {
      "text/plain": [
       "01-01-21    23339\n",
       "01-12-20    21023\n",
       "01-11-20     3398\n",
       "01-02-21     1401\n",
       "Name: DECISION_MONTH, dtype: int64"
      ]
     },
     "execution_count": 11,
     "metadata": {},
     "output_type": "execute_result"
    }
   ],
   "source": [
    "df.DECISION_MONTH.value_counts()"
   ]
  },
  {
   "cell_type": "code",
   "execution_count": 12,
   "metadata": {},
   "outputs": [
    {
     "name": "stderr",
     "output_type": "stream",
     "text": [
      "C:\\Users\\aman.khatri91425\\AppData\\Local\\Continuum\\anaconda3\\lib\\site-packages\\ipykernel_launcher.py:1: FutureWarning: The pandas.datetime class is deprecated and will be removed from pandas in a future version. Import from datetime module instead.\n",
      "  \"\"\"Entry point for launching an IPython kernel.\n",
      "C:\\Users\\aman.khatri91425\\AppData\\Local\\Continuum\\anaconda3\\lib\\site-packages\\ipykernel_launcher.py:2: FutureWarning: The pandas.datetime class is deprecated and will be removed from pandas in a future version. Import from datetime module instead.\n",
      "  \n",
      "C:\\Users\\aman.khatri91425\\AppData\\Local\\Continuum\\anaconda3\\lib\\site-packages\\ipykernel_launcher.py:3: FutureWarning: The pandas.datetime class is deprecated and will be removed from pandas in a future version. Import from datetime module instead.\n",
      "  This is separate from the ipykernel package so we can avoid doing imports until\n",
      "C:\\Users\\aman.khatri91425\\AppData\\Local\\Continuum\\anaconda3\\lib\\site-packages\\ipykernel_launcher.py:4: FutureWarning: The pandas.datetime class is deprecated and will be removed from pandas in a future version. Import from datetime module instead.\n",
      "  after removing the cwd from sys.path.\n"
     ]
    }
   ],
   "source": [
    "train_start = pd.datetime(2020,6,1)\n",
    "train_end = pd.datetime(2020,12,31)\n",
    "test_start = pd.datetime(2021,1,1)\n",
    "test_end = pd.datetime(2021,1,31)\n",
    "hcc_score='RISK_SCORE'\n",
    "target = 'RISK_FPD30'\n",
    "observable = 'RISK_AGRF30'\n",
    "TIME_DECISION_DATE = \"TIME_DECISION_DATE\""
   ]
  },
  {
   "cell_type": "code",
   "execution_count": 13,
   "metadata": {},
   "outputs": [
    {
     "name": "stdout",
     "output_type": "stream",
     "text": [
      "Event rate in train set : 0.41%\n",
      "Train set shape: (7326, 22)\n",
      "Event rate in test set : 0.52%\n",
      "Test set shape: (23339, 22)\n",
      "Event rate in validation set : 0.46%\n",
      "validation set shape: (17095, 22)\n",
      "Train GINI 0.1582419590643276\n",
      "Test GINI 0.44969242302032697\n",
      "validation GINI 0.35430030000165735\n"
     ]
    }
   ],
   "source": [
    "df[\"RISK_SCORE_LIN\"] = logit(df[\"RISK_SCORE\"])\n",
    "df[\"AIRTEL_SCORE_LIN\"] = logit(df[\"AIRTEL_SCORE\"])\n",
    "\n",
    "x_columns=['RISK_SCORE_LIN','AIRTEL_SCORE_LIN']\n",
    "y_column = target\n",
    "seed = 2\n",
    "\n",
    "df.dropna(subset = [hcc_score], inplace = True)\n",
    "\n",
    "X_train_all = df[(df.TIME_DECISION_DATE>=train_start) & (df.TIME_DECISION_DATE<=train_end)]\n",
    "y_train_all = df[(df.TIME_DECISION_DATE>=train_start) & (df.TIME_DECISION_DATE<=train_end)][y_column]\n",
    "\n",
    "X_test = df[(df.TIME_DECISION_DATE>=test_start) & (df.TIME_DECISION_DATE<=test_end)]\n",
    "y_test = df[(df.TIME_DECISION_DATE>=test_start) & (df.TIME_DECISION_DATE<=test_end)][y_column]\n",
    "\n",
    "X_train, X_valid, y_train, y_valid = train_test_split(X_train_all, y_train_all, test_size = 0.7, random_state = seed)\n",
    "\n",
    "##event rate\n",
    "print(\"Event rate in train set :\", '{:,.2%}'.format(sum(y_train) / len(y_train)))\n",
    "print(\"Train set shape:\",X_train.shape)\n",
    "print(\"Event rate in test set :\", '{:,.2%}'.format(sum(y_test) / len(y_test)))\n",
    "print(\"Test set shape:\",X_test.shape)\n",
    "print(\"Event rate in validation set :\", '{:,.2%}'.format(sum(y_valid) / len(y_valid)))\n",
    "print(\"validation set shape:\",X_valid.shape)\n",
    "print(\"Train GINI\",  roc_auc_score(y_train, X_train[hcc_score])*2 -1)\n",
    "print(\"Test GINI\",  roc_auc_score(y_test, X_test[hcc_score])*2 -1)\n",
    "print(\"validation GINI\",  roc_auc_score(y_valid, X_valid[hcc_score])*2 -1)"
   ]
  },
  {
   "cell_type": "markdown",
   "metadata": {},
   "source": [
    "## L1 Penalty Hyper Parameter Optimization"
   ]
  },
  {
   "cell_type": "code",
   "execution_count": 14,
   "metadata": {},
   "outputs": [],
   "source": [
    "param_grid = {'C':np.exp(np.arange(-3,4,0.01))}"
   ]
  },
  {
   "cell_type": "code",
   "execution_count": 15,
   "metadata": {},
   "outputs": [],
   "source": [
    "kfolds = StratifiedKFold(3, random_state=1, shuffle = True)\n",
    "comb=LogisticRegression(penalty = 'l1', solver = 'liblinear')\n",
    "\n",
    "rcv = RandomizedSearchCV(estimator = comb, param_distributions=param_grid, scoring=['roc_auc'], n_iter = 30,\n",
    "    cv=kfolds.split(X_train[x_columns],y_train), verbose=0, random_state=1,\n",
    "    refit = 'roc_auc', return_train_score=True, error_score = 0)"
   ]
  },
  {
   "cell_type": "code",
   "execution_count": 16,
   "metadata": {},
   "outputs": [
    {
     "name": "stdout",
     "output_type": "stream",
     "text": [
      "Randomized search..\n",
      "Randomized search time: 1.8969454765319824\n"
     ]
    }
   ],
   "source": [
    "#Calculate Gini Lift Logistic Regression\n",
    "print(\"Randomized search..\")\n",
    "\n",
    "search_time_start = time.time()\n",
    "rcv.fit(X_train[x_columns], y_train)\n",
    "print(\"Randomized search time:\", time.time() - search_time_start)\n",
    "params = rcv.best_params_   #get best parameters\n",
    "dic=rcv.cv_results_    #provides scoring results for each iteration, 50 in this case, mean values can be used "
   ]
  },
  {
   "cell_type": "code",
   "execution_count": 17,
   "metadata": {},
   "outputs": [
    {
     "name": "stdout",
     "output_type": "stream",
     "text": [
      "{'C': 0.11191674861732694}\n"
     ]
    },
    {
     "data": {
      "image/png": "[encoded data removed]",
      "text/plain": [
       "<Figure size 432x288 with 1 Axes>"
      ]
     },
     "metadata": {
      "needs_background": "light"
     },
     "output_type": "display_data"
    }
   ],
   "source": [
    "tmp1= pd.DataFrame(dic)[[\"param_C\",\"mean_test_roc_auc\",\"mean_train_roc_auc\"]].sort_values(by = 'param_C')\n",
    "tmp1.plot(x=\"param_C\")\n",
    "print(params)"
   ]
  },
  {
   "cell_type": "markdown",
   "metadata": {},
   "source": [
    "## Logistic With optimized Hyperparameters "
   ]
  },
  {
   "cell_type": "code",
   "execution_count": 18,
   "metadata": {},
   "outputs": [
    {
     "name": "stdout",
     "output_type": "stream",
     "text": [
      "Train GINI(COMBINED_SCORE) 0.238\n",
      "Valid GINI(COMBINED_SCORE) 0.349\n",
      "Test GINI(COMBINED_SCORE) 0.444\n",
      "Train GINI(RISK_SCORE) 0.158\n",
      "Valid GINI(RISK_SCORE) 0.354\n",
      "Test GINI(RISK_SCORE) 0.450\n"
     ]
    }
   ],
   "source": [
    "from sklearn.linear_model import LogisticRegression\n",
    "\n",
    "bst = LogisticRegression(penalty = 'l1', C=params['C'], solver='liblinear')\n",
    "\n",
    "bst.fit(X_train[x_columns], y_train)\n",
    "\n",
    "ypred_train = bst.predict_proba(X_train[x_columns])[:, 1]\n",
    "ypred_valid = bst.predict_proba(X_valid[x_columns])[:, 1]\n",
    "ypred_test = bst.predict_proba(X_test[x_columns])[:, 1]\n",
    "\n",
    "print(\"Train GINI(COMBINED_SCORE) %.3f\" % (2*roc_auc_score(y_train, ypred_train)-1))\n",
    "print(\"Valid GINI(COMBINED_SCORE) %.3f\" % (2*roc_auc_score(y_valid, ypred_valid)-1))\n",
    "print(\"Test GINI(COMBINED_SCORE) %.3f\" % (2*roc_auc_score(y_test, ypred_test)-1))\n",
    "\n",
    "print(\"Train GINI(RISK_SCORE) %.3f\" % (2*roc_auc_score(y_train, X_train[hcc_score])-1))\n",
    "print(\"Valid GINI(RISK_SCORE) %.3f\" % (2*roc_auc_score(y_valid, X_valid[hcc_score])-1))\n",
    "print(\"Test GINI(RISK_SCORE) %.3f\" % (2*roc_auc_score(y_test, X_test[hcc_score])-1))\n"
   ]
  },
  {
   "cell_type": "code",
   "execution_count": 19,
   "metadata": {},
   "outputs": [
    {
     "data": {
      "text/html": [
       "<div>\n",
       "<style scoped>\n",
       "    .dataframe tbody tr th:only-of-type {\n",
       "        vertical-align: middle;\n",
       "    }\n",
       "\n",
       "    .dataframe tbody tr th {\n",
       "        vertical-align: top;\n",
       "    }\n",
       "\n",
       "    .dataframe thead th {\n",
       "        text-align: right;\n",
       "    }\n",
       "</style>\n",
       "<table border=\"1\" class=\"dataframe\">\n",
       "  <thead>\n",
       "    <tr style=\"text-align: right;\">\n",
       "      <th></th>\n",
       "      <th>column</th>\n",
       "      <th>coeffecient</th>\n",
       "    </tr>\n",
       "  </thead>\n",
       "  <tbody>\n",
       "    <tr>\n",
       "      <th>0</th>\n",
       "      <td>RISK_SCORE_LIN</td>\n",
       "      <td>0.825358</td>\n",
       "    </tr>\n",
       "    <tr>\n",
       "      <th>1</th>\n",
       "      <td>AIRTEL_SCORE_LIN</td>\n",
       "      <td>1.287445</td>\n",
       "    </tr>\n",
       "  </tbody>\n",
       "</table>\n",
       "</div>"
      ],
      "text/plain": [
       "             column  coeffecient\n",
       "0    RISK_SCORE_LIN     0.825358\n",
       "1  AIRTEL_SCORE_LIN     1.287445"
      ]
     },
     "execution_count": 19,
     "metadata": {},
     "output_type": "execute_result"
    }
   ],
   "source": [
    "pd.DataFrame({\"column\":x_columns,\"coeffecient\":bst.coef_[0]})"
   ]
  },
  {
   "cell_type": "code",
   "execution_count": 20,
   "metadata": {},
   "outputs": [
    {
     "data": {
      "text/plain": [
       "array([-0.32164313])"
      ]
     },
     "execution_count": 20,
     "metadata": {},
     "output_type": "execute_result"
    }
   ],
   "source": [
    "bst.intercept_"
   ]
  },
  {
   "cell_type": "code",
   "execution_count": 21,
   "metadata": {},
   "outputs": [],
   "source": [
    "df[\"COMBINED_SCORE_OLD_AIR\"] =  bst.predict_proba(df[x_columns])[:, 1]"
   ]
  },
  {
   "cell_type": "code",
   "execution_count": null,
   "metadata": {},
   "outputs": [],
   "source": []
  },
  {
   "cell_type": "markdown",
   "metadata": {},
   "source": [
    "# Combine GM New Airtel"
   ]
  },
  {
   "cell_type": "code",
   "execution_count": 22,
   "metadata": {},
   "outputs": [
    {
     "data": {
      "text/html": [
       "<div>\n",
       "<style scoped>\n",
       "    .dataframe tbody tr th:only-of-type {\n",
       "        vertical-align: middle;\n",
       "    }\n",
       "\n",
       "    .dataframe tbody tr th {\n",
       "        vertical-align: top;\n",
       "    }\n",
       "\n",
       "    .dataframe thead th {\n",
       "        text-align: right;\n",
       "    }\n",
       "</style>\n",
       "<table border=\"1\" class=\"dataframe\">\n",
       "  <thead>\n",
       "    <tr style=\"text-align: right;\">\n",
       "      <th></th>\n",
       "      <th>SKP_CREDIT_CASE</th>\n",
       "      <th>TIME_DECISION_DATE</th>\n",
       "      <th>DECISION_MONTH</th>\n",
       "      <th>PRODUCT_GROUP</th>\n",
       "      <th>CLIENT_EXI_3M</th>\n",
       "      <th>NTC_FLAG</th>\n",
       "      <th>RISK_SCORE</th>\n",
       "      <th>DECISION_OVERALL</th>\n",
       "      <th>RISK_FPD10</th>\n",
       "      <th>RISK_FPD30</th>\n",
       "      <th>...</th>\n",
       "      <th>RISK_AGRF10</th>\n",
       "      <th>RISK_AGRF30</th>\n",
       "      <th>RISK_AGRF60</th>\n",
       "      <th>RISK_AGRF90</th>\n",
       "      <th>AIRTEL_SCORE</th>\n",
       "      <th>REJECT_TYPE</th>\n",
       "      <th>NEW_AIRTEL_SCORE</th>\n",
       "      <th>RISK_SCORE_LIN</th>\n",
       "      <th>AIRTEL_SCORE_LIN</th>\n",
       "      <th>COMBINED_SCORE_OLD_AIR</th>\n",
       "    </tr>\n",
       "  </thead>\n",
       "  <tbody>\n",
       "    <tr>\n",
       "      <th>10817</th>\n",
       "      <td>327384676</td>\n",
       "      <td>2020-11-25</td>\n",
       "      <td>01-11-20</td>\n",
       "      <td>CD</td>\n",
       "      <td>Y</td>\n",
       "      <td>Others</td>\n",
       "      <td>0.046409</td>\n",
       "      <td>Approved</td>\n",
       "      <td>0</td>\n",
       "      <td>0</td>\n",
       "      <td>...</td>\n",
       "      <td>1</td>\n",
       "      <td>1</td>\n",
       "      <td>1</td>\n",
       "      <td>1</td>\n",
       "      <td>0.094464</td>\n",
       "      <td>SCORE_REJECT</td>\n",
       "      <td>0.063293</td>\n",
       "      <td>-3.022735</td>\n",
       "      <td>-2.260311</td>\n",
       "      <td>0.003248</td>\n",
       "    </tr>\n",
       "    <tr>\n",
       "      <th>10823</th>\n",
       "      <td>327384742</td>\n",
       "      <td>2020-11-25</td>\n",
       "      <td>01-11-20</td>\n",
       "      <td>CD</td>\n",
       "      <td>Y</td>\n",
       "      <td>Others</td>\n",
       "      <td>0.023582</td>\n",
       "      <td>Approved</td>\n",
       "      <td>0</td>\n",
       "      <td>0</td>\n",
       "      <td>...</td>\n",
       "      <td>1</td>\n",
       "      <td>1</td>\n",
       "      <td>1</td>\n",
       "      <td>1</td>\n",
       "      <td>0.046950</td>\n",
       "      <td>SCORE_REJECT</td>\n",
       "      <td>0.030533</td>\n",
       "      <td>-3.723396</td>\n",
       "      <td>-3.010577</td>\n",
       "      <td>0.000695</td>\n",
       "    </tr>\n",
       "    <tr>\n",
       "      <th>10826</th>\n",
       "      <td>327385104</td>\n",
       "      <td>2020-11-25</td>\n",
       "      <td>01-11-20</td>\n",
       "      <td>CD</td>\n",
       "      <td>Y</td>\n",
       "      <td>Others</td>\n",
       "      <td>0.036627</td>\n",
       "      <td>Approved</td>\n",
       "      <td>0</td>\n",
       "      <td>0</td>\n",
       "      <td>...</td>\n",
       "      <td>1</td>\n",
       "      <td>1</td>\n",
       "      <td>1</td>\n",
       "      <td>1</td>\n",
       "      <td>0.090897</td>\n",
       "      <td>SCORE_REJECT</td>\n",
       "      <td>0.113220</td>\n",
       "      <td>-3.269668</td>\n",
       "      <td>-2.302730</td>\n",
       "      <td>0.002510</td>\n",
       "    </tr>\n",
       "    <tr>\n",
       "      <th>10827</th>\n",
       "      <td>327384780</td>\n",
       "      <td>2020-11-25</td>\n",
       "      <td>01-11-20</td>\n",
       "      <td>CD</td>\n",
       "      <td>Y</td>\n",
       "      <td>Others</td>\n",
       "      <td>0.032935</td>\n",
       "      <td>Approved</td>\n",
       "      <td>0</td>\n",
       "      <td>0</td>\n",
       "      <td>...</td>\n",
       "      <td>1</td>\n",
       "      <td>1</td>\n",
       "      <td>1</td>\n",
       "      <td>1</td>\n",
       "      <td>0.098163</td>\n",
       "      <td>SCORE_REJECT</td>\n",
       "      <td>0.051340</td>\n",
       "      <td>-3.379720</td>\n",
       "      <td>-2.217803</td>\n",
       "      <td>0.002557</td>\n",
       "    </tr>\n",
       "    <tr>\n",
       "      <th>10828</th>\n",
       "      <td>327384794</td>\n",
       "      <td>2020-11-25</td>\n",
       "      <td>01-11-20</td>\n",
       "      <td>CD</td>\n",
       "      <td>Y</td>\n",
       "      <td>Others</td>\n",
       "      <td>0.019581</td>\n",
       "      <td>Approved</td>\n",
       "      <td>0</td>\n",
       "      <td>0</td>\n",
       "      <td>...</td>\n",
       "      <td>1</td>\n",
       "      <td>1</td>\n",
       "      <td>1</td>\n",
       "      <td>1</td>\n",
       "      <td>0.062797</td>\n",
       "      <td>SCORE_REJECT</td>\n",
       "      <td>0.026566</td>\n",
       "      <td>-3.913405</td>\n",
       "      <td>-2.702988</td>\n",
       "      <td>0.000883</td>\n",
       "    </tr>\n",
       "  </tbody>\n",
       "</table>\n",
       "<p>5 rows × 23 columns</p>\n",
       "</div>"
      ],
      "text/plain": [
       "       SKP_CREDIT_CASE TIME_DECISION_DATE DECISION_MONTH PRODUCT_GROUP  \\\n",
       "10817        327384676         2020-11-25       01-11-20            CD   \n",
       "10823        327384742         2020-11-25       01-11-20            CD   \n",
       "10826        327385104         2020-11-25       01-11-20            CD   \n",
       "10827        327384780         2020-11-25       01-11-20            CD   \n",
       "10828        327384794         2020-11-25       01-11-20            CD   \n",
       "\n",
       "      CLIENT_EXI_3M NTC_FLAG  RISK_SCORE DECISION_OVERALL  RISK_FPD10  \\\n",
       "10817             Y   Others    0.046409         Approved           0   \n",
       "10823             Y   Others    0.023582         Approved           0   \n",
       "10826             Y   Others    0.036627         Approved           0   \n",
       "10827             Y   Others    0.032935         Approved           0   \n",
       "10828             Y   Others    0.019581         Approved           0   \n",
       "\n",
       "       RISK_FPD30  ...  RISK_AGRF10  RISK_AGRF30  RISK_AGRF60  RISK_AGRF90  \\\n",
       "10817           0  ...            1            1            1            1   \n",
       "10823           0  ...            1            1            1            1   \n",
       "10826           0  ...            1            1            1            1   \n",
       "10827           0  ...            1            1            1            1   \n",
       "10828           0  ...            1            1            1            1   \n",
       "\n",
       "       AIRTEL_SCORE   REJECT_TYPE  NEW_AIRTEL_SCORE  RISK_SCORE_LIN  \\\n",
       "10817      0.094464  SCORE_REJECT          0.063293       -3.022735   \n",
       "10823      0.046950  SCORE_REJECT          0.030533       -3.723396   \n",
       "10826      0.090897  SCORE_REJECT          0.113220       -3.269668   \n",
       "10827      0.098163  SCORE_REJECT          0.051340       -3.379720   \n",
       "10828      0.062797  SCORE_REJECT          0.026566       -3.913405   \n",
       "\n",
       "      AIRTEL_SCORE_LIN  COMBINED_SCORE_OLD_AIR  \n",
       "10817        -2.260311                0.003248  \n",
       "10823        -3.010577                0.000695  \n",
       "10826        -2.302730                0.002510  \n",
       "10827        -2.217803                0.002557  \n",
       "10828        -2.702988                0.000883  \n",
       "\n",
       "[5 rows x 23 columns]"
      ]
     },
     "execution_count": 22,
     "metadata": {},
     "output_type": "execute_result"
    }
   ],
   "source": [
    "df.head()"
   ]
  },
  {
   "cell_type": "code",
   "execution_count": 23,
   "metadata": {},
   "outputs": [
    {
     "data": {
      "text/plain": [
       "01-01-21    23339\n",
       "01-12-20    21023\n",
       "01-11-20     3398\n",
       "01-02-21     1401\n",
       "Name: DECISION_MONTH, dtype: int64"
      ]
     },
     "execution_count": 23,
     "metadata": {},
     "output_type": "execute_result"
    }
   ],
   "source": [
    "df.DECISION_MONTH.value_counts()"
   ]
  },
  {
   "cell_type": "code",
   "execution_count": 24,
   "metadata": {},
   "outputs": [
    {
     "name": "stderr",
     "output_type": "stream",
     "text": [
      "C:\\Users\\aman.khatri91425\\AppData\\Local\\Continuum\\anaconda3\\lib\\site-packages\\ipykernel_launcher.py:1: FutureWarning: The pandas.datetime class is deprecated and will be removed from pandas in a future version. Import from datetime module instead.\n",
      "  \"\"\"Entry point for launching an IPython kernel.\n",
      "C:\\Users\\aman.khatri91425\\AppData\\Local\\Continuum\\anaconda3\\lib\\site-packages\\ipykernel_launcher.py:2: FutureWarning: The pandas.datetime class is deprecated and will be removed from pandas in a future version. Import from datetime module instead.\n",
      "  \n",
      "C:\\Users\\aman.khatri91425\\AppData\\Local\\Continuum\\anaconda3\\lib\\site-packages\\ipykernel_launcher.py:3: FutureWarning: The pandas.datetime class is deprecated and will be removed from pandas in a future version. Import from datetime module instead.\n",
      "  This is separate from the ipykernel package so we can avoid doing imports until\n",
      "C:\\Users\\aman.khatri91425\\AppData\\Local\\Continuum\\anaconda3\\lib\\site-packages\\ipykernel_launcher.py:4: FutureWarning: The pandas.datetime class is deprecated and will be removed from pandas in a future version. Import from datetime module instead.\n",
      "  after removing the cwd from sys.path.\n"
     ]
    }
   ],
   "source": [
    "train_start = pd.datetime(2020,6,1)\n",
    "train_end = pd.datetime(2020,12,31)\n",
    "test_start = pd.datetime(2021,1,1)\n",
    "test_end = pd.datetime(2021,1,31)\n",
    "hcc_score='RISK_SCORE'\n",
    "target = 'RISK_FPD30'\n",
    "observable = 'RISK_AGRF30'\n",
    "TIME_DECISION_DATE = \"TIME_DECISION_DATE\""
   ]
  },
  {
   "cell_type": "code",
   "execution_count": 25,
   "metadata": {},
   "outputs": [
    {
     "name": "stdout",
     "output_type": "stream",
     "text": [
      "Event rate in train set : 0.41%\n",
      "Train set shape: (7326, 24)\n",
      "Event rate in test set : 0.52%\n",
      "Test set shape: (23339, 24)\n",
      "Event rate in validation set : 0.46%\n",
      "validation set shape: (17095, 24)\n",
      "Train GINI 0.1582419590643276\n",
      "Test GINI 0.44969242302032697\n",
      "validation GINI 0.35430030000165735\n"
     ]
    }
   ],
   "source": [
    "df[\"RISK_SCORE_LIN\"] = logit(df[\"RISK_SCORE\"])\n",
    "df[\"NEW_AIRTEL_SCORE_LIN\"] = logit(df[\"NEW_AIRTEL_SCORE\"])\n",
    "\n",
    "x_columns=['RISK_SCORE_LIN','NEW_AIRTEL_SCORE_LIN']\n",
    "y_column = target\n",
    "seed = 2\n",
    "\n",
    "df.dropna(subset = [hcc_score], inplace = True)\n",
    "\n",
    "X_train_all = df[(df.TIME_DECISION_DATE>=train_start) & (df.TIME_DECISION_DATE<=train_end)]\n",
    "y_train_all = df[(df.TIME_DECISION_DATE>=train_start) & (df.TIME_DECISION_DATE<=train_end)][y_column]\n",
    "\n",
    "X_test = df[(df.TIME_DECISION_DATE>=test_start) & (df.TIME_DECISION_DATE<=test_end)]\n",
    "y_test = df[(df.TIME_DECISION_DATE>=test_start) & (df.TIME_DECISION_DATE<=test_end)][y_column]\n",
    "\n",
    "X_train, X_valid, y_train, y_valid = train_test_split(X_train_all, y_train_all, test_size = 0.7, random_state = seed)\n",
    "\n",
    "##event rate\n",
    "print(\"Event rate in train set :\", '{:,.2%}'.format(sum(y_train) / len(y_train)))\n",
    "print(\"Train set shape:\",X_train.shape)\n",
    "print(\"Event rate in test set :\", '{:,.2%}'.format(sum(y_test) / len(y_test)))\n",
    "print(\"Test set shape:\",X_test.shape)\n",
    "print(\"Event rate in validation set :\", '{:,.2%}'.format(sum(y_valid) / len(y_valid)))\n",
    "print(\"validation set shape:\",X_valid.shape)\n",
    "print(\"Train GINI\",  roc_auc_score(y_train, X_train[hcc_score])*2 -1)\n",
    "print(\"Test GINI\",  roc_auc_score(y_test, X_test[hcc_score])*2 -1)\n",
    "print(\"validation GINI\",  roc_auc_score(y_valid, X_valid[hcc_score])*2 -1)"
   ]
  },
  {
   "cell_type": "markdown",
   "metadata": {},
   "source": [
    "## L1 Penalty Hyper Parameter Optimization"
   ]
  },
  {
   "cell_type": "code",
   "execution_count": 26,
   "metadata": {},
   "outputs": [],
   "source": [
    "param_grid = {'C':np.exp(np.arange(-3,4,0.01))}"
   ]
  },
  {
   "cell_type": "code",
   "execution_count": 27,
   "metadata": {},
   "outputs": [],
   "source": [
    "kfolds = StratifiedKFold(3, random_state=1, shuffle = True)\n",
    "comb=LogisticRegression(penalty = 'l1', solver = 'liblinear')\n",
    "\n",
    "rcv = RandomizedSearchCV(estimator = comb, param_distributions=param_grid, scoring=['roc_auc'], n_iter = 30,\n",
    "    cv=kfolds.split(X_train[x_columns],y_train), verbose=0, random_state=1,\n",
    "    refit = 'roc_auc', return_train_score=True, error_score = 0)"
   ]
  },
  {
   "cell_type": "code",
   "execution_count": 28,
   "metadata": {},
   "outputs": [
    {
     "name": "stdout",
     "output_type": "stream",
     "text": [
      "Randomized search..\n",
      "Randomized search time: 2.0083842277526855\n"
     ]
    }
   ],
   "source": [
    "#Calculate Gini Lift Logistic Regression\n",
    "print(\"Randomized search..\")\n",
    "\n",
    "search_time_start = time.time()\n",
    "rcv.fit(X_train[x_columns], y_train)\n",
    "print(\"Randomized search time:\", time.time() - search_time_start)\n",
    "params = rcv.best_params_   #get best parameters\n",
    "dic=rcv.cv_results_    #provides scoring results for each iteration, 50 in this case, mean values can be used "
   ]
  },
  {
   "cell_type": "code",
   "execution_count": 29,
   "metadata": {},
   "outputs": [
    {
     "name": "stdout",
     "output_type": "stream",
     "text": [
      "{'C': 0.06266200474215285}\n"
     ]
    },
    {
     "data": {
      "image/png": "[encoded data removed]",
      "text/plain": [
       "<Figure size 432x288 with 1 Axes>"
      ]
     },
     "metadata": {
      "needs_background": "light"
     },
     "output_type": "display_data"
    }
   ],
   "source": [
    "tmp1= pd.DataFrame(dic)[[\"param_C\",\"mean_test_roc_auc\",\"mean_train_roc_auc\"]].sort_values(by = 'param_C')\n",
    "tmp1.plot(x=\"param_C\")\n",
    "print(params)"
   ]
  },
  {
   "cell_type": "markdown",
   "metadata": {},
   "source": [
    "## Logistic With optimized Hyperparameters "
   ]
  },
  {
   "cell_type": "code",
   "execution_count": 30,
   "metadata": {},
   "outputs": [
    {
     "name": "stdout",
     "output_type": "stream",
     "text": [
      "Train GINI(COMBINED_SCORE) 0.257\n",
      "Valid GINI(COMBINED_SCORE) 0.428\n",
      "Test GINI(COMBINED_SCORE) 0.538\n",
      "Train GINI(RISK_SCORE) 0.158\n",
      "Valid GINI(RISK_SCORE) 0.354\n",
      "Test GINI(RISK_SCORE) 0.450\n"
     ]
    }
   ],
   "source": [
    "from sklearn.linear_model import LogisticRegression\n",
    "\n",
    "bst = LogisticRegression(penalty = 'l1', C=params['C'], solver='liblinear')\n",
    "\n",
    "bst.fit(X_train[x_columns], y_train)\n",
    "\n",
    "ypred_train = bst.predict_proba(X_train[x_columns])[:, 1]\n",
    "ypred_valid = bst.predict_proba(X_valid[x_columns])[:, 1]\n",
    "ypred_test = bst.predict_proba(X_test[x_columns])[:, 1]\n",
    "\n",
    "print(\"Train GINI(COMBINED_SCORE) %.3f\" % (2*roc_auc_score(y_train, ypred_train)-1))\n",
    "print(\"Valid GINI(COMBINED_SCORE) %.3f\" % (2*roc_auc_score(y_valid, ypred_valid)-1))\n",
    "print(\"Test GINI(COMBINED_SCORE) %.3f\" % (2*roc_auc_score(y_test, ypred_test)-1))\n",
    "\n",
    "print(\"Train GINI(RISK_SCORE) %.3f\" % (2*roc_auc_score(y_train, X_train[hcc_score])-1))\n",
    "print(\"Valid GINI(RISK_SCORE) %.3f\" % (2*roc_auc_score(y_valid, X_valid[hcc_score])-1))\n",
    "print(\"Test GINI(RISK_SCORE) %.3f\" % (2*roc_auc_score(y_test, X_test[hcc_score])-1))\n"
   ]
  },
  {
   "cell_type": "code",
   "execution_count": 31,
   "metadata": {},
   "outputs": [
    {
     "data": {
      "text/html": [
       "<div>\n",
       "<style scoped>\n",
       "    .dataframe tbody tr th:only-of-type {\n",
       "        vertical-align: middle;\n",
       "    }\n",
       "\n",
       "    .dataframe tbody tr th {\n",
       "        vertical-align: top;\n",
       "    }\n",
       "\n",
       "    .dataframe thead th {\n",
       "        text-align: right;\n",
       "    }\n",
       "</style>\n",
       "<table border=\"1\" class=\"dataframe\">\n",
       "  <thead>\n",
       "    <tr style=\"text-align: right;\">\n",
       "      <th></th>\n",
       "      <th>column</th>\n",
       "      <th>coeffecient</th>\n",
       "    </tr>\n",
       "  </thead>\n",
       "  <tbody>\n",
       "    <tr>\n",
       "      <th>0</th>\n",
       "      <td>RISK_SCORE_LIN</td>\n",
       "      <td>0.625963</td>\n",
       "    </tr>\n",
       "    <tr>\n",
       "      <th>1</th>\n",
       "      <td>NEW_AIRTEL_SCORE_LIN</td>\n",
       "      <td>1.133905</td>\n",
       "    </tr>\n",
       "  </tbody>\n",
       "</table>\n",
       "</div>"
      ],
      "text/plain": [
       "                 column  coeffecient\n",
       "0        RISK_SCORE_LIN     0.625963\n",
       "1  NEW_AIRTEL_SCORE_LIN     1.133905"
      ]
     },
     "execution_count": 31,
     "metadata": {},
     "output_type": "execute_result"
    }
   ],
   "source": [
    "pd.DataFrame({\"column\":x_columns,\"coeffecient\":bst.coef_[0]})"
   ]
  },
  {
   "cell_type": "code",
   "execution_count": 32,
   "metadata": {},
   "outputs": [
    {
     "data": {
      "text/plain": [
       "array([0.])"
      ]
     },
     "execution_count": 32,
     "metadata": {},
     "output_type": "execute_result"
    }
   ],
   "source": [
    "bst.intercept_"
   ]
  },
  {
   "cell_type": "code",
   "execution_count": 33,
   "metadata": {},
   "outputs": [],
   "source": [
    "df[\"COMBINED_SCORE_NEW_AIR\"] =  bst.predict_proba(df[x_columns])[:, 1]"
   ]
  },
  {
   "cell_type": "code",
   "execution_count": null,
   "metadata": {},
   "outputs": [],
   "source": []
  },
  {
   "cell_type": "code",
   "execution_count": 34,
   "metadata": {},
   "outputs": [
    {
     "data": {
      "text/plain": [
       "Index(['SKP_CREDIT_CASE', 'TIME_DECISION_DATE', 'DECISION_MONTH',\n",
       "       'PRODUCT_GROUP', 'CLIENT_EXI_3M', 'NTC_FLAG', 'RISK_SCORE',\n",
       "       'DECISION_OVERALL', 'RISK_FPD10', 'RISK_FPD30', 'RISK_FSPD30',\n",
       "       'RISK_FSTPD30', 'FLAG_1PCT_PHANTOM', 'RISK_AGRF10', 'RISK_AGRF30',\n",
       "       'RISK_AGRF60', 'RISK_AGRF90', 'AIRTEL_SCORE', 'REJECT_TYPE',\n",
       "       'NEW_AIRTEL_SCORE', 'RISK_SCORE_LIN', 'AIRTEL_SCORE_LIN',\n",
       "       'COMBINED_SCORE_OLD_AIR', 'NEW_AIRTEL_SCORE_LIN',\n",
       "       'COMBINED_SCORE_NEW_AIR'],\n",
       "      dtype='object')"
      ]
     },
     "execution_count": 34,
     "metadata": {},
     "output_type": "execute_result"
    }
   ],
   "source": [
    "df.columns"
   ]
  },
  {
   "cell_type": "markdown",
   "metadata": {},
   "source": [
    "### Gini Chart"
   ]
  },
  {
   "cell_type": "code",
   "execution_count": 47,
   "metadata": {},
   "outputs": [
    {
     "data": {
      "image/png": "[encoded data removed]",
      "text/plain": [
       "<Figure size 504x504 with 1 Axes>"
      ]
     },
     "metadata": {},
     "output_type": "display_data"
    }
   ],
   "source": [
    "from sklearn.metrics import roc_auc_score, roc_curve, auc\n",
    "\n",
    "fig = plt.figure(figsize = (7,7))\n",
    "ax1 = fig.add_subplot(1, 1, 1)\n",
    "\n",
    "lw = 1\n",
    "fpr, tpr, thresholds = roc_curve(df[target],df[\"COMBINED_SCORE_OLD_AIR\"])\n",
    "roc_auc = auc(fpr, tpr)\n",
    "ax1.plot(fpr, tpr, color='red', lw=lw, label='COMBINED_SCORE_OLD_AIR (gini = %0.2f)' % ((2*roc_auc-1)*100))\n",
    "\n",
    "fpr, tpr, thresholds = roc_curve(df[target],df[\"COMBINED_SCORE_NEW_AIR\"])\n",
    "roc_auc = auc(fpr, tpr)\n",
    "ax1.plot(fpr, tpr, color='red', lw=lw, label='COMBINED_SCORE_NEW_AIR (gini = %0.2f)' % ((2*roc_auc-1)*100))\n",
    "\n",
    "\n",
    "fpr, tpr, thresholds = roc_curve(df[target],df[\"RISK_SCORE\"])\n",
    "roc_auc = auc(fpr, tpr)\n",
    "ax1.plot(fpr, tpr, color='blue', lw=lw, label=\"RISK_SCORE\"+' (gini = %0.2f)' % ((2*roc_auc-1)*100))\n",
    "\n",
    "fpr, tpr, thresholds = roc_curve(df[target],df[\"AIRTEL_SCORE\"])\n",
    "roc_auc = auc(fpr, tpr)\n",
    "ax1.plot(fpr, tpr, color='green', lw=lw, label='OLD_AIRTEL_SCORE (gini = %0.2f)' % ((2*roc_auc-1)*100))\n",
    "\n",
    "fpr, tpr, thresholds = roc_curve(df[target],df[\"NEW_AIRTEL_SCORE\"])\n",
    "roc_auc = auc(fpr, tpr)\n",
    "ax1.plot(fpr, tpr, color='green', lw=lw, label='NEW_AIRTEL_SCORE (gini = %0.2f)' % ((2*roc_auc-1)*100))\n",
    "\n",
    "\n",
    "ax1.plot([0, 1], [0, 1], color='navy', lw=lw, linestyle='--')\n",
    "plt.xlim([0.0, 1.0])\n",
    "plt.ylim([0.0, 1.0])\n",
    "plt.xlabel('False Positive Rate')\n",
    "plt.ylabel('True Positive Rate')\n",
    "plt.title('ROC Exi Clients ' + target)\n",
    "plt.legend(loc=\"lower right\")\n",
    "plt.show()"
   ]
  },
  {
   "cell_type": "markdown",
   "metadata": {},
   "source": [
    "### MOM GINI"
   ]
  },
  {
   "cell_type": "code",
   "execution_count": 40,
   "metadata": {},
   "outputs": [
    {
     "data": {
      "text/plain": [
       "array(['01-11-20', '01-12-20', '01-01-21', '01-02-21'], dtype=object)"
      ]
     },
     "execution_count": 40,
     "metadata": {},
     "output_type": "execute_result"
    }
   ],
   "source": [
    "df[\"DECISION_MONTH\"].unique()"
   ]
  },
  {
   "cell_type": "code",
   "execution_count": 41,
   "metadata": {},
   "outputs": [],
   "source": [
    "gini_dic = {}\n",
    "for x in ['01-11-20', '01-12-20', '01-01-21','01-02-21']:\n",
    "    try:\n",
    "        if \"MONTH\" not in gini_dic:\n",
    "            gini_dic[\"MONTH\"] = []\n",
    "        if \"AIRTEL_SCORE\" not in gini_dic: \n",
    "            gini_dic[\"AIRTEL_SCORE\"] = []\n",
    "        if \"NEW_AIRTEL_SCORE\" not in gini_dic: \n",
    "            gini_dic[\"NEW_AIRTEL_SCORE\"] = []\n",
    "        if \"COMBINED_SCORE_NEW_AIR\" not in gini_dic: \n",
    "            gini_dic[\"COMBINED_SCORE_NEW_AIR\"] = []\n",
    "        if \"COMBINED_SCORE_OLD_AIR\" not in gini_dic: \n",
    "            gini_dic[\"COMBINED_SCORE_OLD_AIR\"] = []\n",
    "        if \"RISK_SCORE\" not in gini_dic: \n",
    "            gini_dic[\"RISK_SCORE\"] = []\n",
    "        \n",
    "        gini_dic[\"AIRTEL_SCORE\"].append((2*roc_auc_score(df[df[\"DECISION_MONTH\"]==x][target],df[df[\"DECISION_MONTH\"]==x][\"AIRTEL_SCORE\"])-1)*100)\n",
    "        gini_dic[\"NEW_AIRTEL_SCORE\"].append((2*roc_auc_score(df[df[\"DECISION_MONTH\"]==x][target],df[df[\"DECISION_MONTH\"]==x][\"NEW_AIRTEL_SCORE\"])-1)*100)\n",
    "        gini_dic[\"COMBINED_SCORE_NEW_AIR\"].append((2*roc_auc_score(df[df[\"DECISION_MONTH\"]==x][target],df[df[\"DECISION_MONTH\"]==x][\"COMBINED_SCORE_NEW_AIR\"])-1)*100)\n",
    "        gini_dic[\"COMBINED_SCORE_OLD_AIR\"].append((2*roc_auc_score(df[df[\"DECISION_MONTH\"]==x][target],df[df[\"DECISION_MONTH\"]==x][\"COMBINED_SCORE_OLD_AIR\"])-1)*100)\n",
    "        gini_dic[\"RISK_SCORE\"].append((2*roc_auc_score(df[df[\"DECISION_MONTH\"]==x][target],df[df[\"DECISION_MONTH\"]==x][\"RISK_SCORE\"])-1)*100)\n",
    "        gini_dic[\"MONTH\"].append(x)\n",
    "#         for y in PREDICTOR_LIST:\n",
    "#             if y not in gini_dic:\n",
    "#                   gini_dic[y] = []\n",
    "#             gini_dic[y].append(((2*roc_auc_score(df[df[\"MONTH\"]==x][\"RISK_FSTQPD30\"],df[df[\"MONTH\"]==x][y])-1)*100))\n",
    "    except: \n",
    "        print(\"ERROR\")\n",
    "\n",
    "gini_df = pd.DataFrame(gini_dic)\n",
    "gini_df.sort_values(by = \"MONTH\",inplace = True)\n",
    "gini_df.reset_index(inplace = True)\n",
    "gini_df = gini_df.sort_values(by = 'index')"
   ]
  },
  {
   "cell_type": "code",
   "execution_count": 42,
   "metadata": {},
   "outputs": [
    {
     "data": {
      "image/png": "[encoded data removed]",
      "text/plain": [
       "<Figure size 720x360 with 1 Axes>"
      ]
     },
     "metadata": {},
     "output_type": "display_data"
    }
   ],
   "source": [
    "fig = plt.figure(figsize = (10,5))\n",
    "ax1 = fig.add_subplot(1, 1, 1)\n",
    "ax1.plot(gini_df[\"MONTH\"],gini_df[\"AIRTEL_SCORE\"], marker='o', scaley = False, label = \"OLD_AIRTEL_SCORE\")\n",
    "ax1.plot(gini_df[\"MONTH\"],gini_df[\"NEW_AIRTEL_SCORE\"], marker='o', scaley = False, label = \"NEW_AIRTEL_SCORE\")\n",
    "ax1.plot(gini_df[\"MONTH\"],gini_df[\"RISK_SCORE\"], marker='o', scaley = False, label = \"RISK_SCORE\")\n",
    "ax1.plot(gini_df[\"MONTH\"],gini_df[\"COMBINED_SCORE_NEW_AIR\"], marker='o', scaley = False, label= \"COMBINED_SCORE_NEW_AIR\")\n",
    "ax1.plot(gini_df[\"MONTH\"],gini_df[\"COMBINED_SCORE_OLD_AIR\"], marker='o', scaley = False, label= \"COMBINED_SCORE_OLD_AIR\")\n",
    "\n",
    "\n",
    "for i, txt in enumerate(gini_df[\"AIRTEL_SCORE\"]):\n",
    "    plt.annotate(\"{:.1f}\".format(txt), (gini_df[\"MONTH\"][i], gini_df[\"AIRTEL_SCORE\"][i]+0.9))\n",
    "for i, txt in enumerate(gini_df[\"NEW_AIRTEL_SCORE\"]):\n",
    "    plt.annotate(\"{:.1f}\".format(txt), (gini_df[\"MONTH\"][i], gini_df[\"NEW_AIRTEL_SCORE\"][i]+0.9))\n",
    "for i, txt in enumerate(gini_df[\"RISK_SCORE\"]):\n",
    "    plt.annotate(\"{:.1f}\".format(txt), (gini_df[\"MONTH\"][i], gini_df[\"RISK_SCORE\"][i]-1.9))\n",
    "for i, txt in enumerate(gini_df[\"COMBINED_SCORE_OLD_AIR\"]):\n",
    "    plt.annotate(\"{:.1f}\".format(txt), (gini_df[\"MONTH\"][i], gini_df[\"COMBINED_SCORE_OLD_AIR\"][i]+0.9))\n",
    "for i, txt in enumerate(gini_df[\"COMBINED_SCORE_NEW_AIR\"]):\n",
    "    plt.annotate(\"{:.1f}\".format(txt), (gini_df[\"MONTH\"][i], gini_df[\"COMBINED_SCORE_NEW_AIR\"][i]+0.9))\n",
    "\n",
    "plt.legend(loc='upper right', borderaxespad=0.1)\n",
    "plt.ylim(0,100)\n",
    "plt.ylabel(\"GINI\")\n",
    "plt.xlabel(\"MONTH\")\n",
    "plt.yticks(np.arange(0,100,2))\n",
    "ax1.set_title(\"MOM Gini\" + target)\n",
    "plt.show()"
   ]
  },
  {
   "cell_type": "code",
   "execution_count": null,
   "metadata": {},
   "outputs": [],
   "source": []
  },
  {
   "cell_type": "markdown",
   "metadata": {},
   "source": [
    "## Lifts and Gains Chart"
   ]
  },
  {
   "cell_type": "code",
   "execution_count": 43,
   "metadata": {},
   "outputs": [],
   "source": [
    "#cum%_bads is gain_score\n",
    "combined_score_new_air_lift = lift_and_gain_df(data=df,target=target, prob='COMBINED_SCORE_NEW_AIR', bucket=10)\n",
    "combined_score_old_air_lift = lift_and_gain_df(data=df,target=target, prob='COMBINED_SCORE_OLD_AIR', bucket=10)\n",
    "risk_score_lift = lift_and_gain_df(data=df,target=target, prob=\"RISK_SCORE\", bucket=10)\n",
    "old_airtel_score_lift = lift_and_gain_df(data=df,target=target, prob=\"AIRTEL_SCORE\", bucket=10)\n",
    "new_airtel_score_lift = lift_and_gain_df(data=df,target=target, prob=\"NEW_AIRTEL_SCORE\", bucket=10)"
   ]
  },
  {
   "cell_type": "markdown",
   "metadata": {},
   "source": [
    "### Cumulative Lift Chart "
   ]
  },
  {
   "cell_type": "code",
   "execution_count": 44,
   "metadata": {},
   "outputs": [
    {
     "data": {
      "image/png": "[encoded data removed]",
      "text/plain": [
       "<Figure size 504x504 with 1 Axes>"
      ]
     },
     "metadata": {},
     "output_type": "display_data"
    }
   ],
   "source": [
    "fig = plt.figure(figsize = [7,7])\n",
    "ax1 = fig.add_subplot(1,1,1)\n",
    "\n",
    "\n",
    "    \n",
    "ax1.plot(combined_score_new_air_lift.index,combined_score_new_air_lift[\"cum_lift\"], label = \"combined_score_new_air\", marker='o')\n",
    "for i, txt in enumerate(combined_score_new_air_lift[\"cum_lift\"]):\n",
    "    plt.annotate(\"{:.2f}\".format(txt), (combined_score_new_air_lift.index[i], combined_score_new_air_lift[\"cum_lift\"][i+1]))\n",
    "\n",
    "ax1.plot(combined_score_old_air_lift.index,combined_score_old_air_lift[\"cum_lift\"], label = \"combined_score_old_air\", marker='o')\n",
    "for i, txt in enumerate(combined_score_old_air_lift[\"cum_lift\"]):\n",
    "    plt.annotate(\"{:.2f}\".format(txt), (combined_score_old_air_lift.index[i], combined_score_old_air_lift[\"cum_lift\"][i+1]))\n",
    "\n",
    "    \n",
    "ax1.plot(risk_score_lift.index,risk_score_lift[\"cum_lift\"], label = \"RISK_SCORE\", marker='o')\n",
    "for i, txt in enumerate(risk_score_lift[\"cum_lift\"]):\n",
    "    plt.annotate(\"{:.2f}\".format(txt), (risk_score_lift.index[i], risk_score_lift[\"cum_lift\"][i+1]))\n",
    "    \n",
    "ax1.plot(old_airtel_score_lift.index,old_airtel_score_lift[\"cum_lift\"], label = \"old_airtel_score\", marker='o')\n",
    "for i, txt in enumerate(old_airtel_score_lift[\"cum_lift\"]):\n",
    "    plt.annotate(\"{:.2f}\".format(txt), (old_airtel_score_lift.index[i], old_airtel_score_lift[\"cum_lift\"][i+1]-0.05))\n",
    "\n",
    "ax1.plot(new_airtel_score_lift.index,new_airtel_score_lift[\"cum_lift\"], label = \"new_airtel_score\", marker='o')\n",
    "for i, txt in enumerate(new_airtel_score_lift[\"cum_lift\"]):\n",
    "    plt.annotate(\"{:.2f}\".format(txt), (new_airtel_score_lift.index[i], new_airtel_score_lift[\"cum_lift\"][i+1]-0.05))\n",
    "\n",
    "\n",
    "ax1.plot(np.arange(1,11,1),[1,1,1,1,1,1,1,1,1,1], label = 'random', marker='o')\n",
    "\n",
    "plt.legend(loc='lower right', borderaxespad=0.1)\n",
    "plt.xlabel(\"Decile\")\n",
    "plt.ylabel(\"Lift\")\n",
    "\n",
    "ax1.set_title(\"Cumulative Lift Chart \"+target)\n",
    "plt.show()    \n"
   ]
  },
  {
   "cell_type": "code",
   "execution_count": null,
   "metadata": {},
   "outputs": [],
   "source": []
  },
  {
   "cell_type": "markdown",
   "metadata": {},
   "source": [
    "# Population Shift"
   ]
  },
  {
   "cell_type": "code",
   "execution_count": 45,
   "metadata": {},
   "outputs": [
    {
     "data": {
      "image/png": "[encoded data removed]",
      "text/plain": [
       "<Figure size 432x288 with 1 Axes>"
      ]
     },
     "metadata": {},
     "output_type": "display_data"
    }
   ],
   "source": [
    "sns.set_style(\"white\")\n",
    "plot = sns.kdeplot(df[\"AIRTEL_SCORE\"], shade=True, label = 'Old_Airtel_Score' )\n",
    "plot = sns.kdeplot(df[\"NEW_AIRTEL_SCORE\"], shade=True, label = 'NEW_Airtel_Score' )\n",
    "plot.set(yticklabels=[], xticklabels = [])\n",
    "sns.despine(left=True)\n",
    "plt.legend()\n",
    "plt.show()\n"
   ]
  },
  {
   "cell_type": "code",
   "execution_count": null,
   "metadata": {},
   "outputs": [],
   "source": []
  },
  {
   "cell_type": "markdown",
   "metadata": {},
   "source": [
    "# Correlation Chart"
   ]
  },
  {
   "cell_type": "code",
   "execution_count": 46,
   "metadata": {},
   "outputs": [
    {
     "data": {
      "text/plain": [
       "<AxesSubplot:>"
      ]
     },
     "execution_count": 46,
     "metadata": {},
     "output_type": "execute_result"
    },
    {
     "data": {
      "image/png": "[encoded data removed]",
      "text/plain": [
       "<Figure size 720x576 with 2 Axes>"
      ]
     },
     "metadata": {},
     "output_type": "display_data"
    }
   ],
   "source": [
    "import seaborn as sns\n",
    "\n",
    "columns = [\"RISK_SCORE\",\"NEW_AIRTEL_SCORE\",\"AIRTEL_SCORE\", \"COMBINED_SCORE_NEW_AIR\",\"COMBINED_SCORE_OLD_AIR\"]\n",
    "\n",
    "f, ax = plt.subplots(figsize=(10, 8))\n",
    "corr = df[columns].corr()\n",
    "sns.heatmap(corr, mask=np.zeros_like(corr, dtype=np.bool), cmap=sns.diverging_palette(220, 10, as_cmap=True),\n",
    "            square=True, ax=ax, annot = True)"
   ]
  },
  {
   "cell_type": "code",
   "execution_count": null,
   "metadata": {},
   "outputs": [],
   "source": []
  },
  {
   "cell_type": "code",
   "execution_count": null,
   "metadata": {},
   "outputs": [],
   "source": []
  },
  {
   "cell_type": "code",
   "execution_count": null,
   "metadata": {},
   "outputs": [],
   "source": []
  }
 ],
 "metadata": {
  "kernelspec": {
   "display_name": "Python 3",
   "language": "python",
   "name": "python3"
  },
  "language_info": {
   "codemirror_mode": {
    "name": "ipython",
    "version": 3
   },
   "file_extension": ".py",
   "mimetype": "text/x-python",
   "name": "python",
   "nbconvert_exporter": "python",
   "pygments_lexer": "ipython3",
   "version": "3.7.3"
  }
 },
 "nbformat": 4,
 "nbformat_minor": 2
}
