{
 "cells": [
  {
   "cell_type": "code",
   "execution_count": 1,
   "metadata": {},
   "outputs": [],
   "source": [
    "import pandas as pd \n",
    "import numpy as np\n",
    "from sklearn.tree import DecisionTreeClassifier\n",
    "from sklearn.model_selection import cross_val_score\n",
    "from sklearn.metrics import roc_auc_score\n",
    "from sklearn import tree\n",
    "import os\n",
    "import pydotplus\n",
    "\n",
    "os.chdir(r\"C:\\Users\\aman.khatri91425\\Desktop\\HomeCredit\\UW\\RGS\")"
   ]
  },
  {
   "cell_type": "markdown",
   "metadata": {},
   "source": [
    "# Read Data"
   ]
  },
  {
   "cell_type": "code",
   "execution_count": 2,
   "metadata": {},
   "outputs": [],
   "source": [
    "df = pd.read_csv(os.getcwd()+r\"\\Data Files\\base_dump_new2.csv\")"
   ]
  },
  {
   "cell_type": "code",
   "execution_count": 3,
   "metadata": {},
   "outputs": [
    {
     "data": {
      "text/html": [
       "<div>\n",
       "<style scoped>\n",
       "    .dataframe tbody tr th:only-of-type {\n",
       "        vertical-align: middle;\n",
       "    }\n",
       "\n",
       "    .dataframe tbody tr th {\n",
       "        vertical-align: top;\n",
       "    }\n",
       "\n",
       "    .dataframe thead th {\n",
       "        text-align: right;\n",
       "    }\n",
       "</style>\n",
       "<table border=\"1\" class=\"dataframe\">\n",
       "  <thead>\n",
       "    <tr style=\"text-align: right;\">\n",
       "      <th></th>\n",
       "      <th>SKP_CREDIT_CASE</th>\n",
       "      <th>DECISION_OVERALL</th>\n",
       "      <th>TIME_CREATION_DATE</th>\n",
       "      <th>PRODUCT_GOODS_TYPE</th>\n",
       "      <th>PRODUCT_CREDIT_TYPE</th>\n",
       "      <th>AMT_CREDIT</th>\n",
       "      <th>POS_MAR20_GM_EXI</th>\n",
       "      <th>DP_PCT</th>\n",
       "      <th>POS_GSPN_V2</th>\n",
       "      <th>CLIENT_EMI</th>\n",
       "      <th>...</th>\n",
       "      <th>RISK_AGRF120</th>\n",
       "      <th>RISK_AGRF150</th>\n",
       "      <th>RISK_FPD30</th>\n",
       "      <th>RISK_FSPD30</th>\n",
       "      <th>RISK_FSTPD30</th>\n",
       "      <th>RISK_FSTQPD30</th>\n",
       "      <th>RISK_FSTQPD60</th>\n",
       "      <th>FLAG_1PCT_PHANTOM</th>\n",
       "      <th>DECISION_REASON_GROUP</th>\n",
       "      <th>SCORE_CB</th>\n",
       "    </tr>\n",
       "  </thead>\n",
       "  <tbody>\n",
       "    <tr>\n",
       "      <th>0</th>\n",
       "      <td>280774731</td>\n",
       "      <td>Rejected</td>\n",
       "      <td>01-11-19</td>\n",
       "      <td>c_Mob_Tab</td>\n",
       "      <td>ZERO</td>\n",
       "      <td>17598</td>\n",
       "      <td>NaN</td>\n",
       "      <td>0.267</td>\n",
       "      <td>2.0</td>\n",
       "      <td>3143</td>\n",
       "      <td>...</td>\n",
       "      <td>0</td>\n",
       "      <td>0</td>\n",
       "      <td>0</td>\n",
       "      <td>0</td>\n",
       "      <td>0</td>\n",
       "      <td>0</td>\n",
       "      <td>0</td>\n",
       "      <td>0</td>\n",
       "      <td>PRELIM_RGS</td>\n",
       "      <td>710.0</td>\n",
       "    </tr>\n",
       "    <tr>\n",
       "      <th>1</th>\n",
       "      <td>280774739</td>\n",
       "      <td>Approved</td>\n",
       "      <td>01-11-19</td>\n",
       "      <td>c_Mob_Tab</td>\n",
       "      <td>ZERO</td>\n",
       "      <td>11990</td>\n",
       "      <td>NaN</td>\n",
       "      <td>0.334</td>\n",
       "      <td>1.0</td>\n",
       "      <td>1291</td>\n",
       "      <td>...</td>\n",
       "      <td>1</td>\n",
       "      <td>1</td>\n",
       "      <td>0</td>\n",
       "      <td>0</td>\n",
       "      <td>0</td>\n",
       "      <td>0</td>\n",
       "      <td>0</td>\n",
       "      <td>0</td>\n",
       "      <td>PRE_RGS</td>\n",
       "      <td>664.0</td>\n",
       "    </tr>\n",
       "    <tr>\n",
       "      <th>2</th>\n",
       "      <td>280774750</td>\n",
       "      <td>Approved</td>\n",
       "      <td>01-11-19</td>\n",
       "      <td>c_Mob_Tab</td>\n",
       "      <td>STANDARD</td>\n",
       "      <td>11299</td>\n",
       "      <td>0.092093</td>\n",
       "      <td>0.372</td>\n",
       "      <td>NaN</td>\n",
       "      <td>1526</td>\n",
       "      <td>...</td>\n",
       "      <td>1</td>\n",
       "      <td>1</td>\n",
       "      <td>0</td>\n",
       "      <td>0</td>\n",
       "      <td>0</td>\n",
       "      <td>0</td>\n",
       "      <td>0</td>\n",
       "      <td>0</td>\n",
       "      <td>PRE_RGS</td>\n",
       "      <td>1.0</td>\n",
       "    </tr>\n",
       "    <tr>\n",
       "      <th>3</th>\n",
       "      <td>280774847</td>\n",
       "      <td>Approved</td>\n",
       "      <td>01-11-19</td>\n",
       "      <td>c_Mob_Tab</td>\n",
       "      <td>ZERO</td>\n",
       "      <td>13099</td>\n",
       "      <td>0.009076</td>\n",
       "      <td>0.229</td>\n",
       "      <td>3.0</td>\n",
       "      <td>2340</td>\n",
       "      <td>...</td>\n",
       "      <td>1</td>\n",
       "      <td>1</td>\n",
       "      <td>0</td>\n",
       "      <td>0</td>\n",
       "      <td>0</td>\n",
       "      <td>0</td>\n",
       "      <td>0</td>\n",
       "      <td>0</td>\n",
       "      <td>PRE_RGS</td>\n",
       "      <td>710.0</td>\n",
       "    </tr>\n",
       "    <tr>\n",
       "      <th>4</th>\n",
       "      <td>280774867</td>\n",
       "      <td>Approved</td>\n",
       "      <td>01-11-19</td>\n",
       "      <td>c_Mob_Tab</td>\n",
       "      <td>ZERO</td>\n",
       "      <td>10289</td>\n",
       "      <td>NaN</td>\n",
       "      <td>0.265</td>\n",
       "      <td>2.0</td>\n",
       "      <td>1838</td>\n",
       "      <td>...</td>\n",
       "      <td>1</td>\n",
       "      <td>1</td>\n",
       "      <td>0</td>\n",
       "      <td>0</td>\n",
       "      <td>0</td>\n",
       "      <td>0</td>\n",
       "      <td>0</td>\n",
       "      <td>0</td>\n",
       "      <td>PRE_RGS</td>\n",
       "      <td>709.0</td>\n",
       "    </tr>\n",
       "  </tbody>\n",
       "</table>\n",
       "<p>5 rows × 25 columns</p>\n",
       "</div>"
      ],
      "text/plain": [
       "   SKP_CREDIT_CASE DECISION_OVERALL TIME_CREATION_DATE PRODUCT_GOODS_TYPE  \\\n",
       "0        280774731         Rejected           01-11-19          c_Mob_Tab   \n",
       "1        280774739         Approved           01-11-19          c_Mob_Tab   \n",
       "2        280774750         Approved           01-11-19          c_Mob_Tab   \n",
       "3        280774847         Approved           01-11-19          c_Mob_Tab   \n",
       "4        280774867         Approved           01-11-19          c_Mob_Tab   \n",
       "\n",
       "  PRODUCT_CREDIT_TYPE  AMT_CREDIT  POS_MAR20_GM_EXI  DP_PCT  POS_GSPN_V2  \\\n",
       "0                ZERO       17598               NaN   0.267          2.0   \n",
       "1                ZERO       11990               NaN   0.334          1.0   \n",
       "2            STANDARD       11299          0.092093   0.372          NaN   \n",
       "3                ZERO       13099          0.009076   0.229          3.0   \n",
       "4                ZERO       10289               NaN   0.265          2.0   \n",
       "\n",
       "   CLIENT_EMI  ... RISK_AGRF120  RISK_AGRF150  RISK_FPD30  RISK_FSPD30  \\\n",
       "0        3143  ...            0             0           0            0   \n",
       "1        1291  ...            1             1           0            0   \n",
       "2        1526  ...            1             1           0            0   \n",
       "3        2340  ...            1             1           0            0   \n",
       "4        1838  ...            1             1           0            0   \n",
       "\n",
       "   RISK_FSTPD30  RISK_FSTQPD30  RISK_FSTQPD60  FLAG_1PCT_PHANTOM  \\\n",
       "0             0              0              0                  0   \n",
       "1             0              0              0                  0   \n",
       "2             0              0              0                  0   \n",
       "3             0              0              0                  0   \n",
       "4             0              0              0                  0   \n",
       "\n",
       "   DECISION_REASON_GROUP  SCORE_CB  \n",
       "0             PRELIM_RGS     710.0  \n",
       "1                PRE_RGS     664.0  \n",
       "2                PRE_RGS       1.0  \n",
       "3                PRE_RGS     710.0  \n",
       "4                PRE_RGS     709.0  \n",
       "\n",
       "[5 rows x 25 columns]"
      ]
     },
     "execution_count": 3,
     "metadata": {},
     "output_type": "execute_result"
    }
   ],
   "source": [
    "df.head()"
   ]
  },
  {
   "cell_type": "markdown",
   "metadata": {},
   "source": [
    "# Define Key Variables"
   ]
  },
  {
   "cell_type": "code",
   "execution_count": 4,
   "metadata": {},
   "outputs": [
    {
     "name": "stderr",
     "output_type": "stream",
     "text": [
      "C:\\Users\\aman.khatri91425\\AppData\\Local\\Continuum\\anaconda3\\lib\\site-packages\\ipykernel_launcher.py:4: FutureWarning: The pandas.datetime class is deprecated and will be removed from pandas in a future version. Import from datetime module instead.\n",
      "  after removing the cwd from sys.path.\n",
      "C:\\Users\\aman.khatri91425\\AppData\\Local\\Continuum\\anaconda3\\lib\\site-packages\\ipykernel_launcher.py:5: FutureWarning: The pandas.datetime class is deprecated and will be removed from pandas in a future version. Import from datetime module instead.\n",
      "  \"\"\"\n"
     ]
    }
   ],
   "source": [
    "TARGET = 'RISK_FSTPD30'\n",
    "DATE = 'TIME_CREATION_DATE'\n",
    "SCORE = 'POS_MAR20_GM_EXI'\n",
    "TRAIN_START_DATE = pd.datetime(2019,11,1)\n",
    "TRAIN_END_DATE = pd.datetime(2020,8,1)\n",
    "\n",
    "FEATURES = ['PRODUCT_GOODS_TYPE', 'PRODUCT_CREDIT_TYPE', 'AMT_CREDIT',\n",
    "       'POS_MAR20_GM_EXI', 'DP_PCT', 'POS_GSPN_V2', 'CLIENT_EMI', 'POS_TYPE',\n",
    "        'SCORE_CB']"
   ]
  },
  {
   "cell_type": "markdown",
   "metadata": {},
   "source": [
    "# Clean Data"
   ]
  },
  {
   "cell_type": "code",
   "execution_count": 5,
   "metadata": {},
   "outputs": [],
   "source": [
    "df[DATE] = pd.to_datetime(df[DATE],format='%d-%m-%y')\n",
    "df[\"MONTH\"] = df[DATE].dt.strftime('%y-%m')"
   ]
  },
  {
   "cell_type": "code",
   "execution_count": 6,
   "metadata": {},
   "outputs": [],
   "source": [
    "df = df.dropna(subset=[SCORE,'SCORE_CB','POS_GSPN_V2'])\n",
    "df = df[df.DECISION_OVERALL == 'Approved']"
   ]
  },
  {
   "cell_type": "code",
   "execution_count": 7,
   "metadata": {},
   "outputs": [],
   "source": [
    "CATEGORICAL_FEATURES = [key for key in dict(df[FEATURES].dtypes) if dict(df[FEATURES].dtypes)[key] in ['object']] "
   ]
  },
  {
   "cell_type": "code",
   "execution_count": 8,
   "metadata": {},
   "outputs": [],
   "source": [
    "for x in CATEGORICAL_FEATURES:\n",
    "    dummy = pd.get_dummies(df[x])\n",
    "    dummy.columns = [y+\"_\"+x for y in dummy.columns]\n",
    "    df = pd.concat([df, dummy], axis=1)"
   ]
  },
  {
   "cell_type": "code",
   "execution_count": 9,
   "metadata": {},
   "outputs": [
    {
     "data": {
      "text/plain": [
       "19-11    15557\n",
       "20-07    39910\n",
       "20-08    57979\n",
       "20-09    86471\n",
       "20-10    73656\n",
       "20-11    99348\n",
       "20-12    61903\n",
       "Name: MONTH, dtype: int64"
      ]
     },
     "execution_count": 9,
     "metadata": {},
     "output_type": "execute_result"
    }
   ],
   "source": [
    "df.MONTH.value_counts().sort_index()"
   ]
  },
  {
   "cell_type": "code",
   "execution_count": 10,
   "metadata": {
    "scrolled": true
   },
   "outputs": [
    {
     "data": {
      "text/plain": [
       "Index(['SKP_CREDIT_CASE', 'DECISION_OVERALL', 'TIME_CREATION_DATE',\n",
       "       'PRODUCT_GOODS_TYPE', 'PRODUCT_CREDIT_TYPE', 'AMT_CREDIT',\n",
       "       'POS_MAR20_GM_EXI', 'DP_PCT', 'POS_GSPN_V2', 'CLIENT_EMI', 'POS_TYPE',\n",
       "       'SCORE_FEB19_WITH_CIBIL', 'RISK_AGRF30', 'RISK_AGRF60', 'RISK_AGRF90',\n",
       "       'RISK_AGRF120', 'RISK_AGRF150', 'RISK_FPD30', 'RISK_FSPD30',\n",
       "       'RISK_FSTPD30', 'RISK_FSTQPD30', 'RISK_FSTQPD60', 'FLAG_1PCT_PHANTOM',\n",
       "       'DECISION_REASON_GROUP', 'SCORE_CB', 'MONTH', 'a_TW_PRODUCT_GOODS_TYPE',\n",
       "       'c_Mob_Tab_PRODUCT_GOODS_TYPE', 'd_CP_PRODUCT_GOODS_TYPE',\n",
       "       'e_HA_PRODUCT_GOODS_TYPE', '2X0_PRODUCT_CREDIT_TYPE',\n",
       "       'STANDARD_PRODUCT_CREDIT_TYPE', 'ZERO_PRODUCT_CREDIT_TYPE',\n",
       "       'AP_POS_TYPE', 'Aldi_POS_TYPE', 'Satellite_POS_TYPE', 'UDAAN_POS_TYPE',\n",
       "       'XNA_POS_TYPE'],\n",
       "      dtype='object')"
      ]
     },
     "execution_count": 10,
     "metadata": {},
     "output_type": "execute_result"
    }
   ],
   "source": [
    "df.columns"
   ]
  },
  {
   "cell_type": "code",
   "execution_count": 11,
   "metadata": {},
   "outputs": [],
   "source": [
    "FINAL_FEATURES = ['POS_MAR20_GM_EXI', 'DP_PCT', 'POS_GSPN_V2', 'CLIENT_EMI', 'AMT_CREDIT',\n",
    "                    'a_TW_PRODUCT_GOODS_TYPE', 'c_Mob_Tab_PRODUCT_GOODS_TYPE', 'd_CP_PRODUCT_GOODS_TYPE', \n",
    "                  'e_HA_PRODUCT_GOODS_TYPE', \n",
    "                  '2X0_PRODUCT_CREDIT_TYPE', 'STANDARD_PRODUCT_CREDIT_TYPE', 'ZERO_PRODUCT_CREDIT_TYPE', \n",
    "                  'AP_POS_TYPE', 'Aldi_POS_TYPE', 'Satellite_POS_TYPE', 'UDAAN_POS_TYPE','XNA_POS_TYPE',\n",
    "                'SCORE_CB']"
   ]
  },
  {
   "cell_type": "markdown",
   "metadata": {},
   "source": [
    "# Train Set"
   ]
  },
  {
   "cell_type": "code",
   "execution_count": 12,
   "metadata": {},
   "outputs": [],
   "source": [
    "df_train = df[(df[DATE]>=(TRAIN_START_DATE))&(df[DATE]<(TRAIN_END_DATE))]"
   ]
  },
  {
   "cell_type": "code",
   "execution_count": 13,
   "metadata": {},
   "outputs": [
    {
     "data": {
      "text/plain": [
       "(55467, 38)"
      ]
     },
     "execution_count": 13,
     "metadata": {},
     "output_type": "execute_result"
    }
   ],
   "source": [
    "df_train.shape"
   ]
  },
  {
   "cell_type": "markdown",
   "metadata": {},
   "source": [
    "# Decision Tree"
   ]
  },
  {
   "cell_type": "markdown",
   "metadata": {},
   "source": [
    "## Optimize tree depth"
   ]
  },
  {
   "cell_type": "markdown",
   "metadata": {},
   "source": [
    "### Cross Validation Gini with Tree Depth"
   ]
  },
  {
   "cell_type": "code",
   "execution_count": 14,
   "metadata": {},
   "outputs": [
    {
     "name": "stdout",
     "output_type": "stream",
     "text": [
      "[(1, 0.58431605786498), (2, 0.6611789011213698), (3, 0.6803767733511565), (4, 0.6890101464710691), (5, 0.6911816694716485), (6, 0.6889957561484187), (7, 0.6896813734707182), (8, 0.6832676519784031), (9, 0.6780959174496537)]\n"
     ]
    }
   ],
   "source": [
    "depth= []\n",
    "for i in range(1,10):\n",
    "    clf = DecisionTreeClassifier(max_depth=i, min_samples_leaf = 500)\n",
    "    # Perform 7-fold cross validation \n",
    "    scores = cross_val_score(clf, df_train[FINAL_FEATURES], df_train[TARGET], cv=10,scoring='roc_auc',n_jobs=-1)\n",
    "    depth.append((i,scores.mean()))\n",
    "print(depth)"
   ]
  },
  {
   "cell_type": "markdown",
   "metadata": {},
   "source": [
    "# Fit model with best n"
   ]
  },
  {
   "cell_type": "code",
   "execution_count": 15,
   "metadata": {},
   "outputs": [
    {
     "data": {
      "text/plain": [
       "DecisionTreeClassifier(max_depth=4, min_samples_leaf=500, random_state=0)"
      ]
     },
     "execution_count": 15,
     "metadata": {},
     "output_type": "execute_result"
    }
   ],
   "source": [
    "clf = DecisionTreeClassifier(random_state=0, max_depth=4, min_samples_leaf = 500)\n",
    "clf.fit(df_train[FINAL_FEATURES], df_train[TARGET])"
   ]
  },
  {
   "cell_type": "code",
   "execution_count": 16,
   "metadata": {},
   "outputs": [],
   "source": [
    "df[\"PRED_PROB\"]=clf.predict_proba(df[FINAL_FEATURES])[:,1]"
   ]
  },
  {
   "cell_type": "code",
   "execution_count": 17,
   "metadata": {},
   "outputs": [],
   "source": [
    "# Create DOT data\n",
    "dot_data = tree.export_graphviz(clf, out_file=None, \n",
    "                                feature_names=FINAL_FEATURES,  \n",
    "                                class_names=TARGET, proportion = True)\n",
    "# Draw graph\n",
    "graph = pydotplus.graph_from_dot_data(dot_data)  \n",
    "\n",
    "# Show graph ---Not working due to graphViz\n",
    "#Image(graph.create_png())"
   ]
  },
  {
   "cell_type": "code",
   "execution_count": 18,
   "metadata": {
    "scrolled": true
   },
   "outputs": [
    {
     "name": "stdout",
     "output_type": "stream",
     "text": [
      "digraph Tree {\n",
      "node [shape=box] ;\n",
      "0 [label=\"POS_MAR20_GM_EXI <= 0.079\\ngini = 0.047\\nsamples = 100.0%\\nvalue = [0.976, 0.024]\\nclass = R\"] ;\n",
      "1 [label=\"POS_MAR20_GM_EXI <= 0.034\\ngini = 0.038\\nsamples = 91.1%\\nvalue = [0.981, 0.019]\\nclass = R\"] ;\n",
      "0 -> 1 [labeldistance=2.5, labelangle=45, headlabel=\"True\"] ;\n",
      "2 [label=\"POS_MAR20_GM_EXI <= 0.02\\ngini = 0.026\\nsamples = 63.1%\\nvalue = [0.987, 0.013]\\nclass = R\"] ;\n",
      "1 -> 2 ;\n",
      "3 [label=\"ZERO_PRODUCT_CREDIT_TYPE <= 0.5\\ngini = 0.018\\nsamples = 38.0%\\nvalue = [0.991, 0.009]\\nclass = R\"] ;\n",
      "2 -> 3 ;\n",
      "4 [label=\"gini = 0.026\\nsamples = 13.6%\\nvalue = [0.987, 0.013]\\nclass = R\"] ;\n",
      "3 -> 4 ;\n",
      "5 [label=\"gini = 0.014\\nsamples = 24.4%\\nvalue = [0.993, 0.007]\\nclass = R\"] ;\n",
      "3 -> 5 ;\n",
      "6 [label=\"POS_GSPN_V2 <= 1.5\\ngini = 0.038\\nsamples = 25.1%\\nvalue = [0.981, 0.019]\\nclass = R\"] ;\n",
      "2 -> 6 ;\n",
      "7 [label=\"gini = 0.024\\nsamples = 8.6%\\nvalue = [0.988, 0.012]\\nclass = R\"] ;\n",
      "6 -> 7 ;\n",
      "8 [label=\"gini = 0.045\\nsamples = 16.5%\\nvalue = [0.977, 0.023]\\nclass = R\"] ;\n",
      "6 -> 8 ;\n",
      "9 [label=\"CLIENT_EMI <= 2707.5\\ngini = 0.064\\nsamples = 28.0%\\nvalue = [0.967, 0.033]\\nclass = R\"] ;\n",
      "1 -> 9 ;\n",
      "10 [label=\"POS_GSPN_V2 <= 1.5\\ngini = 0.061\\nsamples = 27.0%\\nvalue = [0.968, 0.032]\\nclass = R\"] ;\n",
      "9 -> 10 ;\n",
      "11 [label=\"gini = 0.045\\nsamples = 9.0%\\nvalue = [0.977, 0.023]\\nclass = R\"] ;\n",
      "10 -> 11 ;\n",
      "12 [label=\"gini = 0.07\\nsamples = 17.9%\\nvalue = [0.964, 0.036]\\nclass = R\"] ;\n",
      "10 -> 12 ;\n",
      "13 [label=\"gini = 0.137\\nsamples = 1.0%\\nvalue = [0.926, 0.074]\\nclass = R\"] ;\n",
      "9 -> 13 ;\n",
      "14 [label=\"POS_MAR20_GM_EXI <= 0.181\\ngini = 0.132\\nsamples = 8.9%\\nvalue = [0.929, 0.071]\\nclass = R\"] ;\n",
      "0 -> 14 [labeldistance=2.5, labelangle=-45, headlabel=\"False\"] ;\n",
      "15 [label=\"SCORE_CB <= 682.5\\ngini = 0.115\\nsamples = 8.0%\\nvalue = [0.939, 0.061]\\nclass = R\"] ;\n",
      "14 -> 15 ;\n",
      "16 [label=\"gini = 0.165\\nsamples = 1.5%\\nvalue = [0.909, 0.091]\\nclass = R\"] ;\n",
      "15 -> 16 ;\n",
      "17 [label=\"DP_PCT <= 0.315\\ngini = 0.103\\nsamples = 6.5%\\nvalue = [0.945, 0.055]\\nclass = R\"] ;\n",
      "15 -> 17 ;\n",
      "18 [label=\"gini = 0.12\\nsamples = 3.4%\\nvalue = [0.936, 0.064]\\nclass = R\"] ;\n",
      "17 -> 18 ;\n",
      "19 [label=\"gini = 0.084\\nsamples = 3.1%\\nvalue = [0.956, 0.044]\\nclass = R\"] ;\n",
      "17 -> 19 ;\n",
      "20 [label=\"gini = 0.262\\nsamples = 0.9%\\nvalue = [0.845, 0.155]\\nclass = R\"] ;\n",
      "14 -> 20 ;\n",
      "}\n"
     ]
    }
   ],
   "source": [
    "print(dot_data)\n",
    "# copy this to editor window on http://www.webgraphviz.com/ to create chart"
   ]
  },
  {
   "cell_type": "code",
   "execution_count": null,
   "metadata": {},
   "outputs": [],
   "source": []
  },
  {
   "cell_type": "code",
   "execution_count": null,
   "metadata": {},
   "outputs": [],
   "source": []
  },
  {
   "cell_type": "markdown",
   "metadata": {},
   "source": [
    "# Variable Importance"
   ]
  },
  {
   "cell_type": "code",
   "execution_count": 25,
   "metadata": {},
   "outputs": [
    {
     "data": {
      "text/plain": [
       "DecisionTreeClassifier(max_depth=10, min_samples_leaf=500, random_state=0)"
      ]
     },
     "execution_count": 25,
     "metadata": {},
     "output_type": "execute_result"
    }
   ],
   "source": [
    "clf = DecisionTreeClassifier(random_state=0, max_depth=10, min_samples_leaf = 500)\n",
    "clf.fit(df_train[FINAL_FEATURES], df_train[TARGET])"
   ]
  },
  {
   "cell_type": "code",
   "execution_count": null,
   "metadata": {},
   "outputs": [],
   "source": [
    "df.sort_values()"
   ]
  },
  {
   "cell_type": "code",
   "execution_count": 30,
   "metadata": {},
   "outputs": [
    {
     "data": {
      "text/html": [
       "<div>\n",
       "<style scoped>\n",
       "    .dataframe tbody tr th:only-of-type {\n",
       "        vertical-align: middle;\n",
       "    }\n",
       "\n",
       "    .dataframe tbody tr th {\n",
       "        vertical-align: top;\n",
       "    }\n",
       "\n",
       "    .dataframe thead th {\n",
       "        text-align: right;\n",
       "    }\n",
       "</style>\n",
       "<table border=\"1\" class=\"dataframe\">\n",
       "  <thead>\n",
       "    <tr style=\"text-align: right;\">\n",
       "      <th></th>\n",
       "      <th>FEATURES</th>\n",
       "      <th>IMPORTANCE</th>\n",
       "    </tr>\n",
       "  </thead>\n",
       "  <tbody>\n",
       "    <tr>\n",
       "      <th>0</th>\n",
       "      <td>POS_MAR20_GM_EXI</td>\n",
       "      <td>0.720244</td>\n",
       "    </tr>\n",
       "    <tr>\n",
       "      <th>17</th>\n",
       "      <td>SCORE_CB</td>\n",
       "      <td>0.077979</td>\n",
       "    </tr>\n",
       "    <tr>\n",
       "      <th>1</th>\n",
       "      <td>DP_PCT</td>\n",
       "      <td>0.065192</td>\n",
       "    </tr>\n",
       "    <tr>\n",
       "      <th>3</th>\n",
       "      <td>CLIENT_EMI</td>\n",
       "      <td>0.054662</td>\n",
       "    </tr>\n",
       "    <tr>\n",
       "      <th>2</th>\n",
       "      <td>POS_GSPN_V2</td>\n",
       "      <td>0.038919</td>\n",
       "    </tr>\n",
       "    <tr>\n",
       "      <th>13</th>\n",
       "      <td>Aldi_POS_TYPE</td>\n",
       "      <td>0.015755</td>\n",
       "    </tr>\n",
       "    <tr>\n",
       "      <th>11</th>\n",
       "      <td>ZERO_PRODUCT_CREDIT_TYPE</td>\n",
       "      <td>0.010139</td>\n",
       "    </tr>\n",
       "    <tr>\n",
       "      <th>4</th>\n",
       "      <td>AMT_CREDIT</td>\n",
       "      <td>0.006487</td>\n",
       "    </tr>\n",
       "    <tr>\n",
       "      <th>12</th>\n",
       "      <td>AP_POS_TYPE</td>\n",
       "      <td>0.005616</td>\n",
       "    </tr>\n",
       "    <tr>\n",
       "      <th>10</th>\n",
       "      <td>STANDARD_PRODUCT_CREDIT_TYPE</td>\n",
       "      <td>0.005008</td>\n",
       "    </tr>\n",
       "    <tr>\n",
       "      <th>5</th>\n",
       "      <td>a_TW_PRODUCT_GOODS_TYPE</td>\n",
       "      <td>0.000000</td>\n",
       "    </tr>\n",
       "    <tr>\n",
       "      <th>6</th>\n",
       "      <td>c_Mob_Tab_PRODUCT_GOODS_TYPE</td>\n",
       "      <td>0.000000</td>\n",
       "    </tr>\n",
       "    <tr>\n",
       "      <th>7</th>\n",
       "      <td>d_CP_PRODUCT_GOODS_TYPE</td>\n",
       "      <td>0.000000</td>\n",
       "    </tr>\n",
       "    <tr>\n",
       "      <th>8</th>\n",
       "      <td>e_HA_PRODUCT_GOODS_TYPE</td>\n",
       "      <td>0.000000</td>\n",
       "    </tr>\n",
       "    <tr>\n",
       "      <th>14</th>\n",
       "      <td>Satellite_POS_TYPE</td>\n",
       "      <td>0.000000</td>\n",
       "    </tr>\n",
       "    <tr>\n",
       "      <th>15</th>\n",
       "      <td>UDAAN_POS_TYPE</td>\n",
       "      <td>0.000000</td>\n",
       "    </tr>\n",
       "    <tr>\n",
       "      <th>16</th>\n",
       "      <td>XNA_POS_TYPE</td>\n",
       "      <td>0.000000</td>\n",
       "    </tr>\n",
       "    <tr>\n",
       "      <th>9</th>\n",
       "      <td>2X0_PRODUCT_CREDIT_TYPE</td>\n",
       "      <td>0.000000</td>\n",
       "    </tr>\n",
       "  </tbody>\n",
       "</table>\n",
       "</div>"
      ],
      "text/plain": [
       "                        FEATURES  IMPORTANCE\n",
       "0               POS_MAR20_GM_EXI    0.720244\n",
       "17                      SCORE_CB    0.077979\n",
       "1                         DP_PCT    0.065192\n",
       "3                     CLIENT_EMI    0.054662\n",
       "2                    POS_GSPN_V2    0.038919\n",
       "13                 Aldi_POS_TYPE    0.015755\n",
       "11      ZERO_PRODUCT_CREDIT_TYPE    0.010139\n",
       "4                     AMT_CREDIT    0.006487\n",
       "12                   AP_POS_TYPE    0.005616\n",
       "10  STANDARD_PRODUCT_CREDIT_TYPE    0.005008\n",
       "5        a_TW_PRODUCT_GOODS_TYPE    0.000000\n",
       "6   c_Mob_Tab_PRODUCT_GOODS_TYPE    0.000000\n",
       "7        d_CP_PRODUCT_GOODS_TYPE    0.000000\n",
       "8        e_HA_PRODUCT_GOODS_TYPE    0.000000\n",
       "14            Satellite_POS_TYPE    0.000000\n",
       "15                UDAAN_POS_TYPE    0.000000\n",
       "16                  XNA_POS_TYPE    0.000000\n",
       "9        2X0_PRODUCT_CREDIT_TYPE    0.000000"
      ]
     },
     "execution_count": 30,
     "metadata": {},
     "output_type": "execute_result"
    }
   ],
   "source": [
    "pd.DataFrame({'FEATURES':FINAL_FEATURES, 'IMPORTANCE':clf.feature_importances_}).sort_values(by='IMPORTANCE', ascending=False)"
   ]
  },
  {
   "cell_type": "code",
   "execution_count": 20,
   "metadata": {},
   "outputs": [
    {
     "name": "stdout",
     "output_type": "stream",
     "text": [
      "Feature: 0, Score: 0.86281\n",
      "Feature: 1, Score: 0.01492\n",
      "Feature: 2, Score: 0.03833\n",
      "Feature: 3, Score: 0.03997\n",
      "Feature: 4, Score: 0.00000\n",
      "Feature: 5, Score: 0.00000\n",
      "Feature: 6, Score: 0.00000\n",
      "Feature: 7, Score: 0.00000\n",
      "Feature: 8, Score: 0.00000\n",
      "Feature: 9, Score: 0.00000\n",
      "Feature: 10, Score: 0.00000\n",
      "Feature: 11, Score: 0.00799\n",
      "Feature: 12, Score: 0.00000\n",
      "Feature: 13, Score: 0.00000\n",
      "Feature: 14, Score: 0.00000\n",
      "Feature: 15, Score: 0.00000\n",
      "Feature: 16, Score: 0.00000\n",
      "Feature: 17, Score: 0.03599\n"
     ]
    },
    {
     "data": {
      "image/png": "[encoded data removed]",
      "text/plain": [
       "<Figure size 432x288 with 1 Axes>"
      ]
     },
     "metadata": {
      "needs_background": "light"
     },
     "output_type": "display_data"
    }
   ],
   "source": [
    "from matplotlib import pyplot\n",
    "# define dataset\n",
    "# get importance\n",
    "importance = clf.feature_importances_\n",
    "# summarize feature importance\n",
    "for i,v in enumerate(importance):\n",
    "    print('Feature: %0d, Score: %.5f' % (i,v))\n",
    "# plot feature importance\n",
    "pyplot.bar([x for x in range(len(importance))], importance)\n",
    "pyplot.show()"
   ]
  },
  {
   "cell_type": "code",
   "execution_count": null,
   "metadata": {},
   "outputs": [],
   "source": []
  },
  {
   "cell_type": "code",
   "execution_count": null,
   "metadata": {},
   "outputs": [],
   "source": []
  },
  {
   "cell_type": "markdown",
   "metadata": {},
   "source": [
    "# Archieve"
   ]
  },
  {
   "cell_type": "markdown",
   "metadata": {},
   "source": [
    "# SQL Script"
   ]
  },
  {
   "cell_type": "code",
   "execution_count": 28,
   "metadata": {},
   "outputs": [],
   "source": [
    "from sklearn.tree import export_text"
   ]
  },
  {
   "cell_type": "code",
   "execution_count": null,
   "metadata": {},
   "outputs": [],
   "source": [
    "def get_lineage(tree, feature_names):\n",
    "     left      = tree.tree_.children_left\n",
    "     right     = tree.tree_.children_right\n",
    "     threshold = tree.tree_.threshold\n",
    "     features  = [feature_names[i] for i in tree.tree_.feature]\n",
    "\n",
    "     # get ids of child nodes\n",
    "     idx = np.argwhere(left == -1)[:,0]     \n",
    "\n",
    "     def recurse(left, right, child, lineage=None):          \n",
    "          if lineage is None:\n",
    "               lineage = [child]\n",
    "          if child in left:\n",
    "               parent = np.where(left == child)[0].item()\n",
    "               split = 'l'\n",
    "          else:\n",
    "               parent = np.where(right == child)[0].item()\n",
    "               split = 'r'\n",
    "\n",
    "          lineage.append((parent, split, threshold[parent], features[parent]))\n",
    "\n",
    "          if parent == 0:\n",
    "               lineage.reverse()\n",
    "               return lineage\n",
    "          else:\n",
    "               return recurse(left, right, parent, lineage)\n",
    "\n",
    "     for child in idx:\n",
    "          for node in recurse(left, right, child):\n",
    "               print node"
   ]
  },
  {
   "cell_type": "code",
   "execution_count": 36,
   "metadata": {},
   "outputs": [],
   "source": [
    "def get_code(tree, feature_names, tabdepth=0):\n",
    "    left      = tree.tree_.children_left\n",
    "    right     = tree.tree_.children_right\n",
    "    threshold = tree.tree_.threshold\n",
    "    features  = [feature_names[i] for i in tree.tree_.feature]\n",
    "    value = tree.tree_.value\n",
    "#     print(\"AK\",left)\n",
    "#     print(\"AK\",right)\n",
    "#     print(\"AK\",threshold)\n",
    "#     print(\"AK\",features)\n",
    "#     print(\"AK\",value)\n",
    "    \n",
    "    \n",
    "\n",
    "    def recurse(left, right, threshold, features, node, tabdepth=0):\n",
    "            if (threshold[node] != -2):\n",
    "                    print('\\t' * tabdepth)\n",
    "                    print(\"if ( \" + features[node] + \" <= \" + str(threshold[node]) + \" ) {\")\n",
    "                    if left[node] != -1:\n",
    "                            recurse (left, right, threshold, features,left[node], tabdepth+1)\n",
    "                    print('\\t' * tabdepth)\n",
    "                    print (\"} else {\")\n",
    "                    if right[node] != -1:\n",
    "                            recurse (left, right, threshold, features,right[node], tabdepth+1)\n",
    "                    print ('\\t' * tabdepth)\n",
    "                    print (\"}\")\n",
    "            else:\n",
    "                    print ('\\t' * tabdepth)\n",
    "                    print (\"return \" + str(value[node]))\n",
    "\n",
    "    recurse(left, right, threshold, features, 0)"
   ]
  },
  {
   "cell_type": "code",
   "execution_count": 37,
   "metadata": {},
   "outputs": [
    {
     "data": {
      "text/plain": [
       "DecisionTreeClassifier(max_depth=2, min_samples_leaf=500, random_state=0)"
      ]
     },
     "execution_count": 37,
     "metadata": {},
     "output_type": "execute_result"
    }
   ],
   "source": [
    "clf = DecisionTreeClassifier(random_state=0, max_depth=2, min_samples_leaf = 500)\n",
    "clf.fit(df_train[FINAL_FEATURES], df_train[TARGET])"
   ]
  },
  {
   "cell_type": "code",
   "execution_count": 38,
   "metadata": {
    "scrolled": true
   },
   "outputs": [
    {
     "name": "stdout",
     "output_type": "stream",
     "text": [
      "AK [ 1  2 -1 -1  5 -1 -1]\n",
      "AK [ 4  3 -1 -1  6 -1 -1]\n",
      "AK [ 0.07930014  0.03438504 -2.         -2.          0.18095641 -2.\n",
      " -2.        ]\n",
      "AK ['POS_MAR20_GM_EXI', 'POS_MAR20_GM_EXI', 'XNA_POS_TYPE', 'XNA_POS_TYPE', 'POS_MAR20_GM_EXI', 'XNA_POS_TYPE', 'XNA_POS_TYPE']\n",
      "AK [[[54141.  1326.]]\n",
      "\n",
      " [[49556.   976.]]\n",
      "\n",
      " [[34553.   460.]]\n",
      "\n",
      " [[15003.   516.]]\n",
      "\n",
      " [[ 4585.   350.]]\n",
      "\n",
      " [[ 4154.   271.]]\n",
      "\n",
      " [[  431.    79.]]]\n",
      "\n",
      "if ( POS_MAR20_GM_EXI <= 0.07930013537406921 ) {\n",
      "\t\n",
      "if ( POS_MAR20_GM_EXI <= 0.034385040402412415 ) {\n",
      "\t\t\n",
      "return [[34553.   460.]]\n",
      "\t\n",
      "} else {\n",
      "\t\t\n",
      "return [[15003.   516.]]\n",
      "\t\n",
      "}\n",
      "\n",
      "} else {\n",
      "\t\n",
      "if ( POS_MAR20_GM_EXI <= 0.1809564083814621 ) {\n",
      "\t\t\n",
      "return [[4154.  271.]]\n",
      "\t\n",
      "} else {\n",
      "\t\t\n",
      "return [[431.  79.]]\n",
      "\t\n",
      "}\n",
      "\n",
      "}\n"
     ]
    }
   ],
   "source": [
    "get_code(clf, FINAL_FEATURES)"
   ]
  },
  {
   "cell_type": "code",
   "execution_count": null,
   "metadata": {},
   "outputs": [],
   "source": []
  },
  {
   "cell_type": "markdown",
   "metadata": {},
   "source": [
    "# MOM Gini"
   ]
  },
  {
   "cell_type": "code",
   "execution_count": 334,
   "metadata": {},
   "outputs": [],
   "source": [
    "# gini_dic = {}\n",
    "# predictor_list = []\n",
    "# target_variable = TARGET\n",
    "# for x in df[\"MONTH\"].unique():\n",
    "#     try:\n",
    "#         if \"MONTH\" not in gini_dic:\n",
    "#             gini_dic[\"MONTH\"] = []\n",
    "#         if \"GM\" not in gini_dic: \n",
    "#             gini_dic[\"GM\"] = []\n",
    "#         if \"RGS\" not in gini_dic: \n",
    "#             gini_dic[\"RGS\"] = []\n",
    "        \n",
    "#         gini_dic[\"GM\"].append((2*roc_auc_score(df[df[\"MONTH\"]==x][target_variable],df[df[\"MONTH\"]==x][SCORE])-1)*100)\n",
    "#         gini_dic[\"RGS\"].append((2*roc_auc_score(df[df[\"MONTH\"]==x][target_variable],df[df[\"MONTH\"]==x][\"PRED_PROB\"])-1)*100)\n",
    "#         gini_dic[\"MONTH\"].append(x)\n",
    "#     except: \n",
    "#         print(\"ERROR\")\n",
    "\n",
    "# gini_df = pd.DataFrame(gini_dic)\n",
    "# gini_df.sort_values(by = \"MONTH\",inplace = True)\n",
    "# gini_df.reset_index(inplace = True)"
   ]
  },
  {
   "cell_type": "code",
   "execution_count": 335,
   "metadata": {},
   "outputs": [],
   "source": [
    "# import matplotlib.pyplot as plt\n",
    "# fig = plt.figure(figsize = (10,5))\n",
    "# ax1 = fig.add_subplot(1, 1, 1)\n",
    "# ax1.plot(gini_df[\"MONTH\"],gini_df[\"GM\"], marker='o', scaley = False, label = \"GM\")\n",
    "# ax1.plot(gini_df[\"MONTH\"],gini_df[\"RGS\"], marker='o', scaley = False, label = \"RGS\")\n",
    "# # ax1.plot(gini_df[\"MONTH_STR\"],gini_df[combined_score_only_fnf_flag], marker='o', scaley = False, label = combined_score_only_fnf_flag)\n",
    "# # for y in predictor_list:\n",
    "# #     ax1.plot(gini_df[\"MONTH_STR\"],gini_df[y], marker='o', scaley = False, label = y)\n",
    "\n",
    "\n",
    "# for i, txt in enumerate(gini_df[\"GM\"]):\n",
    "#     plt.annotate(\"{:.1f}\".format(txt), (gini_df[\"MONTH\"][i], gini_df[\"GM\"][i]-0.8))\n",
    "# for i, txt in enumerate(gini_df[\"RGS\"]):\n",
    "#     plt.annotate(\"{:.1f}\".format(txt), (gini_df[\"MONTH\"][i], gini_df[\"RGS\"][i]+1.2))\n",
    "    \n",
    "# # for i, txt in enumerate(gini_df[combined_score_only_fnf_flag]):\n",
    "# #     plt.annotate(\"{:.1f}\".format(txt), (gini_df[\"MONTH_STR\"][i], gini_df[combined_score_only_fnf_flag][i]+1.6))\n",
    "\n",
    "# # for y in predictor_list:\n",
    "# #     for i, txt in enumerate(gini_df[y]):\n",
    "# #         plt.annotate(\"{:.1f}\".format(txt), (gini_df[\"MONTH_STR\"][i], gini_df[y][i]+1))\n",
    "\n",
    "    \n",
    "# plt.legend(loc='lower right', borderaxespad=0.1)\n",
    "# plt.ylim(30,50)\n",
    "# plt.ylabel(\"GINI\")\n",
    "# plt.xlabel(\"MONTH\")\n",
    "# plt.yticks(np.arange(30,50,2))\n",
    "# ax1.set_title(\"MOM Gini (Approved) With Risk Predictors:\")\n",
    "# plt.show()"
   ]
  },
  {
   "cell_type": "code",
   "execution_count": null,
   "metadata": {},
   "outputs": [],
   "source": []
  }
 ],
 "metadata": {
  "kernelspec": {
   "display_name": "Python 3",
   "language": "python",
   "name": "python3"
  },
  "language_info": {
   "codemirror_mode": {
    "name": "ipython",
    "version": 3
   },
   "file_extension": ".py",
   "mimetype": "text/x-python",
   "name": "python",
   "nbconvert_exporter": "python",
   "pygments_lexer": "ipython3",
   "version": "3.7.3"
  }
 },
 "nbformat": 4,
 "nbformat_minor": 2
}
