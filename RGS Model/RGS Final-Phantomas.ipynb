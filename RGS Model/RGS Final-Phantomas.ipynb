{
 "cells": [
  {
   "cell_type": "code",
   "execution_count": 128,
   "metadata": {},
   "outputs": [],
   "source": [
    "import pandas as pd \n",
    "import numpy as np\n",
    "from sklearn.tree import DecisionTreeClassifier\n",
    "from sklearn.model_selection import cross_val_score\n",
    "from sklearn.metrics import roc_auc_score\n",
    "from sklearn import tree\n",
    "import os\n",
    "import pydotplus\n",
    "\n",
    "os.chdir(r\"C:\\Users\\aman.khatri91425\\Desktop\\HomeCredit\\UW\\RGS\")"
   ]
  },
  {
   "cell_type": "markdown",
   "metadata": {},
   "source": [
    "# Read Data"
   ]
  },
  {
   "cell_type": "code",
   "execution_count": 129,
   "metadata": {},
   "outputs": [],
   "source": [
    "df = pd.read_csv(os.getcwd()+r\"\\Data Files\\base_dump_new2.csv\")"
   ]
  },
  {
   "cell_type": "code",
   "execution_count": 130,
   "metadata": {},
   "outputs": [
    {
     "data": {
      "text/html": [
       "<div>\n",
       "<style scoped>\n",
       "    .dataframe tbody tr th:only-of-type {\n",
       "        vertical-align: middle;\n",
       "    }\n",
       "\n",
       "    .dataframe tbody tr th {\n",
       "        vertical-align: top;\n",
       "    }\n",
       "\n",
       "    .dataframe thead th {\n",
       "        text-align: right;\n",
       "    }\n",
       "</style>\n",
       "<table border=\"1\" class=\"dataframe\">\n",
       "  <thead>\n",
       "    <tr style=\"text-align: right;\">\n",
       "      <th></th>\n",
       "      <th>SKP_CREDIT_CASE</th>\n",
       "      <th>DECISION_OVERALL</th>\n",
       "      <th>TIME_CREATION_DATE</th>\n",
       "      <th>PRODUCT_GOODS_TYPE</th>\n",
       "      <th>PRODUCT_CREDIT_TYPE</th>\n",
       "      <th>AMT_CREDIT</th>\n",
       "      <th>POS_MAR20_GM_EXI</th>\n",
       "      <th>DP_PCT</th>\n",
       "      <th>POS_GSPN_V2</th>\n",
       "      <th>CLIENT_EMI</th>\n",
       "      <th>...</th>\n",
       "      <th>RISK_AGRF120</th>\n",
       "      <th>RISK_AGRF150</th>\n",
       "      <th>RISK_FPD30</th>\n",
       "      <th>RISK_FSPD30</th>\n",
       "      <th>RISK_FSTPD30</th>\n",
       "      <th>RISK_FSTQPD30</th>\n",
       "      <th>RISK_FSTQPD60</th>\n",
       "      <th>FLAG_1PCT_PHANTOM</th>\n",
       "      <th>DECISION_REASON_GROUP</th>\n",
       "      <th>SCORE_CB</th>\n",
       "    </tr>\n",
       "  </thead>\n",
       "  <tbody>\n",
       "    <tr>\n",
       "      <th>0</th>\n",
       "      <td>280774731</td>\n",
       "      <td>Rejected</td>\n",
       "      <td>01-11-19</td>\n",
       "      <td>c_Mob_Tab</td>\n",
       "      <td>ZERO</td>\n",
       "      <td>17598</td>\n",
       "      <td>NaN</td>\n",
       "      <td>0.267</td>\n",
       "      <td>2.0</td>\n",
       "      <td>3143</td>\n",
       "      <td>...</td>\n",
       "      <td>0</td>\n",
       "      <td>0</td>\n",
       "      <td>0</td>\n",
       "      <td>0</td>\n",
       "      <td>0</td>\n",
       "      <td>0</td>\n",
       "      <td>0</td>\n",
       "      <td>0</td>\n",
       "      <td>PRELIM_RGS</td>\n",
       "      <td>710.0</td>\n",
       "    </tr>\n",
       "    <tr>\n",
       "      <th>1</th>\n",
       "      <td>280774739</td>\n",
       "      <td>Approved</td>\n",
       "      <td>01-11-19</td>\n",
       "      <td>c_Mob_Tab</td>\n",
       "      <td>ZERO</td>\n",
       "      <td>11990</td>\n",
       "      <td>NaN</td>\n",
       "      <td>0.334</td>\n",
       "      <td>1.0</td>\n",
       "      <td>1291</td>\n",
       "      <td>...</td>\n",
       "      <td>1</td>\n",
       "      <td>1</td>\n",
       "      <td>0</td>\n",
       "      <td>0</td>\n",
       "      <td>0</td>\n",
       "      <td>0</td>\n",
       "      <td>0</td>\n",
       "      <td>0</td>\n",
       "      <td>PRE_RGS</td>\n",
       "      <td>664.0</td>\n",
       "    </tr>\n",
       "    <tr>\n",
       "      <th>2</th>\n",
       "      <td>280774750</td>\n",
       "      <td>Approved</td>\n",
       "      <td>01-11-19</td>\n",
       "      <td>c_Mob_Tab</td>\n",
       "      <td>STANDARD</td>\n",
       "      <td>11299</td>\n",
       "      <td>0.092093</td>\n",
       "      <td>0.372</td>\n",
       "      <td>NaN</td>\n",
       "      <td>1526</td>\n",
       "      <td>...</td>\n",
       "      <td>1</td>\n",
       "      <td>1</td>\n",
       "      <td>0</td>\n",
       "      <td>0</td>\n",
       "      <td>0</td>\n",
       "      <td>0</td>\n",
       "      <td>0</td>\n",
       "      <td>0</td>\n",
       "      <td>PRE_RGS</td>\n",
       "      <td>1.0</td>\n",
       "    </tr>\n",
       "    <tr>\n",
       "      <th>3</th>\n",
       "      <td>280774847</td>\n",
       "      <td>Approved</td>\n",
       "      <td>01-11-19</td>\n",
       "      <td>c_Mob_Tab</td>\n",
       "      <td>ZERO</td>\n",
       "      <td>13099</td>\n",
       "      <td>0.009076</td>\n",
       "      <td>0.229</td>\n",
       "      <td>3.0</td>\n",
       "      <td>2340</td>\n",
       "      <td>...</td>\n",
       "      <td>1</td>\n",
       "      <td>1</td>\n",
       "      <td>0</td>\n",
       "      <td>0</td>\n",
       "      <td>0</td>\n",
       "      <td>0</td>\n",
       "      <td>0</td>\n",
       "      <td>0</td>\n",
       "      <td>PRE_RGS</td>\n",
       "      <td>710.0</td>\n",
       "    </tr>\n",
       "    <tr>\n",
       "      <th>4</th>\n",
       "      <td>280774867</td>\n",
       "      <td>Approved</td>\n",
       "      <td>01-11-19</td>\n",
       "      <td>c_Mob_Tab</td>\n",
       "      <td>ZERO</td>\n",
       "      <td>10289</td>\n",
       "      <td>NaN</td>\n",
       "      <td>0.265</td>\n",
       "      <td>2.0</td>\n",
       "      <td>1838</td>\n",
       "      <td>...</td>\n",
       "      <td>1</td>\n",
       "      <td>1</td>\n",
       "      <td>0</td>\n",
       "      <td>0</td>\n",
       "      <td>0</td>\n",
       "      <td>0</td>\n",
       "      <td>0</td>\n",
       "      <td>0</td>\n",
       "      <td>PRE_RGS</td>\n",
       "      <td>709.0</td>\n",
       "    </tr>\n",
       "  </tbody>\n",
       "</table>\n",
       "<p>5 rows × 25 columns</p>\n",
       "</div>"
      ],
      "text/plain": [
       "   SKP_CREDIT_CASE DECISION_OVERALL TIME_CREATION_DATE PRODUCT_GOODS_TYPE  \\\n",
       "0        280774731         Rejected           01-11-19          c_Mob_Tab   \n",
       "1        280774739         Approved           01-11-19          c_Mob_Tab   \n",
       "2        280774750         Approved           01-11-19          c_Mob_Tab   \n",
       "3        280774847         Approved           01-11-19          c_Mob_Tab   \n",
       "4        280774867         Approved           01-11-19          c_Mob_Tab   \n",
       "\n",
       "  PRODUCT_CREDIT_TYPE  AMT_CREDIT  POS_MAR20_GM_EXI  DP_PCT  POS_GSPN_V2  \\\n",
       "0                ZERO       17598               NaN   0.267          2.0   \n",
       "1                ZERO       11990               NaN   0.334          1.0   \n",
       "2            STANDARD       11299          0.092093   0.372          NaN   \n",
       "3                ZERO       13099          0.009076   0.229          3.0   \n",
       "4                ZERO       10289               NaN   0.265          2.0   \n",
       "\n",
       "   CLIENT_EMI  ... RISK_AGRF120  RISK_AGRF150  RISK_FPD30  RISK_FSPD30  \\\n",
       "0        3143  ...            0             0           0            0   \n",
       "1        1291  ...            1             1           0            0   \n",
       "2        1526  ...            1             1           0            0   \n",
       "3        2340  ...            1             1           0            0   \n",
       "4        1838  ...            1             1           0            0   \n",
       "\n",
       "   RISK_FSTPD30  RISK_FSTQPD30  RISK_FSTQPD60  FLAG_1PCT_PHANTOM  \\\n",
       "0             0              0              0                  0   \n",
       "1             0              0              0                  0   \n",
       "2             0              0              0                  0   \n",
       "3             0              0              0                  0   \n",
       "4             0              0              0                  0   \n",
       "\n",
       "   DECISION_REASON_GROUP  SCORE_CB  \n",
       "0             PRELIM_RGS     710.0  \n",
       "1                PRE_RGS     664.0  \n",
       "2                PRE_RGS       1.0  \n",
       "3                PRE_RGS     710.0  \n",
       "4                PRE_RGS     709.0  \n",
       "\n",
       "[5 rows x 25 columns]"
      ]
     },
     "execution_count": 130,
     "metadata": {},
     "output_type": "execute_result"
    }
   ],
   "source": [
    "df.head()"
   ]
  },
  {
   "cell_type": "markdown",
   "metadata": {},
   "source": [
    "# Define Key Variables"
   ]
  },
  {
   "cell_type": "code",
   "execution_count": 131,
   "metadata": {},
   "outputs": [
    {
     "name": "stderr",
     "output_type": "stream",
     "text": [
      "C:\\Users\\aman.khatri91425\\AppData\\Local\\Continuum\\anaconda3\\lib\\site-packages\\ipykernel_launcher.py:4: FutureWarning: The pandas.datetime class is deprecated and will be removed from pandas in a future version. Import from datetime module instead.\n",
      "  after removing the cwd from sys.path.\n",
      "C:\\Users\\aman.khatri91425\\AppData\\Local\\Continuum\\anaconda3\\lib\\site-packages\\ipykernel_launcher.py:5: FutureWarning: The pandas.datetime class is deprecated and will be removed from pandas in a future version. Import from datetime module instead.\n",
      "  \"\"\"\n"
     ]
    }
   ],
   "source": [
    "TARGET = 'RISK_FSTPD30'\n",
    "DATE = 'TIME_CREATION_DATE'\n",
    "SCORE = 'POS_MAR20_GM_EXI'\n",
    "TRAIN_START_DATE = pd.datetime(2019,11,1)\n",
    "TRAIN_END_DATE = pd.datetime(2020,12,1)\n",
    "\n",
    "FEATURES = ['PRODUCT_GOODS_TYPE', 'PRODUCT_CREDIT_TYPE', 'AMT_CREDIT',\n",
    "       'POS_MAR20_GM_EXI', 'DP_PCT', 'POS_GSPN_V2', 'CLIENT_EMI', 'POS_TYPE',\n",
    "        'SCORE_CB']"
   ]
  },
  {
   "cell_type": "markdown",
   "metadata": {},
   "source": [
    "# Clean Data"
   ]
  },
  {
   "cell_type": "code",
   "execution_count": 132,
   "metadata": {},
   "outputs": [],
   "source": [
    "df[DATE] = pd.to_datetime(df[DATE],format='%d-%m-%y')\n",
    "df[\"MONTH\"] = df[DATE].dt.strftime('%y-%m')"
   ]
  },
  {
   "cell_type": "code",
   "execution_count": 133,
   "metadata": {},
   "outputs": [],
   "source": [
    "df = df.dropna(subset=[SCORE,'SCORE_CB','POS_GSPN_V2'])\n",
    "df = df[df.DECISION_OVERALL == 'Approved']"
   ]
  },
  {
   "cell_type": "code",
   "execution_count": 134,
   "metadata": {},
   "outputs": [],
   "source": [
    "CATEGORICAL_FEATURES = [key for key in dict(df[FEATURES].dtypes) if dict(df[FEATURES].dtypes)[key] in ['object']] "
   ]
  },
  {
   "cell_type": "code",
   "execution_count": 135,
   "metadata": {},
   "outputs": [],
   "source": [
    "for x in CATEGORICAL_FEATURES:\n",
    "    dummy = pd.get_dummies(df[x])\n",
    "    dummy.columns = [y+\"_\"+x for y in dummy.columns]\n",
    "    df = pd.concat([df, dummy], axis=1)"
   ]
  },
  {
   "cell_type": "code",
   "execution_count": 136,
   "metadata": {},
   "outputs": [
    {
     "data": {
      "text/plain": [
       "19-11    15557\n",
       "20-07    39910\n",
       "20-08    57979\n",
       "20-09    86471\n",
       "20-10    73656\n",
       "20-11    99348\n",
       "20-12    61903\n",
       "Name: MONTH, dtype: int64"
      ]
     },
     "execution_count": 136,
     "metadata": {},
     "output_type": "execute_result"
    }
   ],
   "source": [
    "df.MONTH.value_counts().sort_index()"
   ]
  },
  {
   "cell_type": "code",
   "execution_count": 137,
   "metadata": {
    "scrolled": true
   },
   "outputs": [
    {
     "data": {
      "text/plain": [
       "Index(['SKP_CREDIT_CASE', 'DECISION_OVERALL', 'TIME_CREATION_DATE',\n",
       "       'PRODUCT_GOODS_TYPE', 'PRODUCT_CREDIT_TYPE', 'AMT_CREDIT',\n",
       "       'POS_MAR20_GM_EXI', 'DP_PCT', 'POS_GSPN_V2', 'CLIENT_EMI', 'POS_TYPE',\n",
       "       'SCORE_FEB19_WITH_CIBIL', 'RISK_AGRF30', 'RISK_AGRF60', 'RISK_AGRF90',\n",
       "       'RISK_AGRF120', 'RISK_AGRF150', 'RISK_FPD30', 'RISK_FSPD30',\n",
       "       'RISK_FSTPD30', 'RISK_FSTQPD30', 'RISK_FSTQPD60', 'FLAG_1PCT_PHANTOM',\n",
       "       'DECISION_REASON_GROUP', 'SCORE_CB', 'MONTH', 'a_TW_PRODUCT_GOODS_TYPE',\n",
       "       'c_Mob_Tab_PRODUCT_GOODS_TYPE', 'd_CP_PRODUCT_GOODS_TYPE',\n",
       "       'e_HA_PRODUCT_GOODS_TYPE', '2X0_PRODUCT_CREDIT_TYPE',\n",
       "       'STANDARD_PRODUCT_CREDIT_TYPE', 'ZERO_PRODUCT_CREDIT_TYPE',\n",
       "       'AP_POS_TYPE', 'Aldi_POS_TYPE', 'Satellite_POS_TYPE', 'UDAAN_POS_TYPE',\n",
       "       'XNA_POS_TYPE'],\n",
       "      dtype='object')"
      ]
     },
     "execution_count": 137,
     "metadata": {},
     "output_type": "execute_result"
    }
   ],
   "source": [
    "df.columns"
   ]
  },
  {
   "cell_type": "code",
   "execution_count": 138,
   "metadata": {},
   "outputs": [],
   "source": [
    "FINAL_FEATURES = ['POS_MAR20_GM_EXI', 'DP_PCT', 'POS_GSPN_V2', 'CLIENT_EMI', 'AMT_CREDIT',\n",
    "                    'a_TW_PRODUCT_GOODS_TYPE', 'c_Mob_Tab_PRODUCT_GOODS_TYPE', 'd_CP_PRODUCT_GOODS_TYPE', \n",
    "                  'e_HA_PRODUCT_GOODS_TYPE', \n",
    "                  '2X0_PRODUCT_CREDIT_TYPE', 'STANDARD_PRODUCT_CREDIT_TYPE', 'ZERO_PRODUCT_CREDIT_TYPE', \n",
    "                  'AP_POS_TYPE', 'Aldi_POS_TYPE', 'Satellite_POS_TYPE', 'UDAAN_POS_TYPE','XNA_POS_TYPE',\n",
    "                'SCORE_CB']"
   ]
  },
  {
   "cell_type": "markdown",
   "metadata": {},
   "source": [
    "# Train Set"
   ]
  },
  {
   "cell_type": "code",
   "execution_count": 139,
   "metadata": {},
   "outputs": [],
   "source": [
    "df_train = df[(df[DATE]>=(TRAIN_START_DATE))&(df[DATE]<(TRAIN_END_DATE))]\n",
    "df_train = df_train[df_train.RISK_AGRF90 == 1]\n",
    "\n",
    "df_test = df[(df[DATE]>=(TRAIN_START_DATE))&(df[DATE]<(TRAIN_END_DATE))]\n",
    "df_test = df_train[df_train.RISK_AGRF30 == 1]\n"
   ]
  },
  {
   "cell_type": "code",
   "execution_count": 140,
   "metadata": {},
   "outputs": [
    {
     "data": {
      "text/plain": [
       "20-11    1865\n",
       "20-09    1678\n",
       "20-10    1404\n",
       "20-12    1197\n",
       "20-08    1097\n",
       "20-07     930\n",
       "19-11     260\n",
       "Name: MONTH, dtype: int64"
      ]
     },
     "execution_count": 140,
     "metadata": {},
     "output_type": "execute_result"
    }
   ],
   "source": [
    "df[df.FLAG_1PCT_PHANTOM==1][\"MONTH\"].value_counts()"
   ]
  },
  {
   "cell_type": "code",
   "execution_count": 141,
   "metadata": {},
   "outputs": [
    {
     "data": {
      "text/plain": [
       "0    94532\n",
       "1     1959\n",
       "Name: FLAG_1PCT_PHANTOM, dtype: int64"
      ]
     },
     "execution_count": 141,
     "metadata": {},
     "output_type": "execute_result"
    }
   ],
   "source": [
    "df_train.FLAG_1PCT_PHANTOM.value_counts()"
   ]
  },
  {
   "cell_type": "code",
   "execution_count": 142,
   "metadata": {},
   "outputs": [
    {
     "data": {
      "text/plain": [
       "(96491, 38)"
      ]
     },
     "execution_count": 142,
     "metadata": {},
     "output_type": "execute_result"
    }
   ],
   "source": [
    "df_train.shape"
   ]
  },
  {
   "cell_type": "markdown",
   "metadata": {},
   "source": [
    "# Decision Tree"
   ]
  },
  {
   "cell_type": "markdown",
   "metadata": {},
   "source": [
    "## Optimize tree depth"
   ]
  },
  {
   "cell_type": "markdown",
   "metadata": {},
   "source": [
    "### Cross Validation Gini with Tree Depth"
   ]
  },
  {
   "cell_type": "code",
   "execution_count": 144,
   "metadata": {},
   "outputs": [
    {
     "name": "stdout",
     "output_type": "stream",
     "text": [
      "[(1, 0.6065407745308774), (2, 0.665662684820305), (3, 0.6823373128143312), (4, 0.6868186431981249), (5, 0.684953284205335), (6, 0.680067242553473), (7, 0.6715843061426389), (8, 0.6543656569755523), (9, 0.6425110858728094), (10, 0.6328656155933023), (11, 0.616909399429429), (12, 0.6094934332910126), (13, 0.6001784467115527), (14, 0.5935459487223956), (15, 0.5904264501531148), (16, 0.5870155261160939), (17, 0.5859190249378804), (18, 0.5837954001952022), (19, 0.5819432748489517)]\n"
     ]
    }
   ],
   "source": [
    "depth= []\n",
    "for i in range(1,20):\n",
    "    clf = DecisionTreeClassifier(max_depth=i, min_samples_leaf = 50)\n",
    "    clf.fit(df_test[FINAL_FEATURES],df_test[TARGET])\n",
    "    # Perform 7-fold cross validation \n",
    "    scores = cross_val_score(clf, df_train[FINAL_FEATURES], df_train[TARGET], cv=5,scoring='roc_auc',n_jobs=-1)\n",
    "#     scores = 2*roc_auc_score(df_test[TARGET],clf.predict_proba(df_test[FINAL_FEATURES])[:,1])-1\n",
    "    depth.append((i,scores.mean()))\n",
    "print(depth)"
   ]
  },
  {
   "cell_type": "markdown",
   "metadata": {},
   "source": [
    "# Fit model with best n"
   ]
  },
  {
   "cell_type": "code",
   "execution_count": 145,
   "metadata": {},
   "outputs": [
    {
     "data": {
      "text/plain": [
       "DecisionTreeClassifier(max_depth=5, min_samples_leaf=50, random_state=0)"
      ]
     },
     "execution_count": 145,
     "metadata": {},
     "output_type": "execute_result"
    }
   ],
   "source": [
    "clf = DecisionTreeClassifier(random_state=0, max_depth=5, min_samples_leaf = 50)\n",
    "clf.fit(df_train[FINAL_FEATURES], df_train[TARGET])"
   ]
  },
  {
   "cell_type": "code",
   "execution_count": 146,
   "metadata": {},
   "outputs": [],
   "source": [
    "df[\"PRED_PROB\"]=clf.predict_proba(df[FINAL_FEATURES])[:,1]"
   ]
  },
  {
   "cell_type": "code",
   "execution_count": 147,
   "metadata": {},
   "outputs": [],
   "source": [
    "# Create DOT data\n",
    "dot_data = tree.export_graphviz(clf, out_file=None, \n",
    "                                feature_names=FINAL_FEATURES,  \n",
    "                                class_names=TARGET, proportion = True)\n",
    "# Draw graph\n",
    "graph = pydotplus.graph_from_dot_data(dot_data)  \n",
    "\n",
    "# Show graph ---Not working due to graphViz\n",
    "#Image(graph.create_png())"
   ]
  },
  {
   "cell_type": "code",
   "execution_count": 148,
   "metadata": {},
   "outputs": [
    {
     "name": "stdout",
     "output_type": "stream",
     "text": [
      "digraph Tree {\n",
      "node [shape=box] ;\n",
      "0 [label=\"POS_MAR20_GM_EXI <= 0.063\\ngini = 0.044\\nsamples = 100.0%\\nvalue = [0.977, 0.023]\\nclass = R\"] ;\n",
      "1 [label=\"POS_MAR20_GM_EXI <= 0.034\\ngini = 0.034\\nsamples = 85.8%\\nvalue = [0.983, 0.017]\\nclass = R\"] ;\n",
      "0 -> 1 [labeldistance=2.5, labelangle=45, headlabel=\"True\"] ;\n",
      "2 [label=\"POS_MAR20_GM_EXI <= 0.02\\ngini = 0.024\\nsamples = 61.8%\\nvalue = [0.988, 0.012]\\nclass = R\"] ;\n",
      "1 -> 2 ;\n",
      "3 [label=\"DP_PCT <= 0.008\\ngini = 0.017\\nsamples = 37.8%\\nvalue = [0.991, 0.009]\\nclass = R\"] ;\n",
      "2 -> 3 ;\n",
      "4 [label=\"POS_MAR20_GM_EXI <= 0.017\\ngini = 0.056\\nsamples = 0.6%\\nvalue = [0.971, 0.029]\\nclass = R\"] ;\n",
      "3 -> 4 ;\n",
      "5 [label=\"gini = 0.068\\nsamples = 0.5%\\nvalue = [0.965, 0.035]\\nclass = R\"] ;\n",
      "4 -> 5 ;\n",
      "6 [label=\"gini = 0.0\\nsamples = 0.1%\\nvalue = [1.0, 0.0]\\nclass = R\"] ;\n",
      "4 -> 6 ;\n",
      "7 [label=\"POS_MAR20_GM_EXI <= 0.013\\ngini = 0.016\\nsamples = 37.1%\\nvalue = [0.992, 0.008]\\nclass = R\"] ;\n",
      "3 -> 7 ;\n",
      "8 [label=\"gini = 0.012\\nsamples = 20.3%\\nvalue = [0.994, 0.006]\\nclass = R\"] ;\n",
      "7 -> 8 ;\n",
      "9 [label=\"gini = 0.021\\nsamples = 16.9%\\nvalue = [0.989, 0.011]\\nclass = R\"] ;\n",
      "7 -> 9 ;\n",
      "10 [label=\"POS_GSPN_V2 <= 1.5\\ngini = 0.035\\nsamples = 24.0%\\nvalue = [0.982, 0.018]\\nclass = R\"] ;\n",
      "2 -> 10 ;\n",
      "11 [label=\"DP_PCT <= 0.294\\ngini = 0.024\\nsamples = 8.0%\\nvalue = [0.988, 0.012]\\nclass = R\"] ;\n",
      "10 -> 11 ;\n",
      "12 [label=\"gini = 0.031\\nsamples = 4.3%\\nvalue = [0.984, 0.016]\\nclass = R\"] ;\n",
      "11 -> 12 ;\n",
      "13 [label=\"gini = 0.015\\nsamples = 3.7%\\nvalue = [0.993, 0.007]\\nclass = R\"] ;\n",
      "11 -> 13 ;\n",
      "14 [label=\"CLIENT_EMI <= 2964.5\\ngini = 0.041\\nsamples = 16.0%\\nvalue = [0.979, 0.021]\\nclass = R\"] ;\n",
      "10 -> 14 ;\n",
      "15 [label=\"gini = 0.039\\nsamples = 15.7%\\nvalue = [0.98, 0.02]\\nclass = R\"] ;\n",
      "14 -> 15 ;\n",
      "16 [label=\"gini = 0.11\\nsamples = 0.3%\\nvalue = [0.942, 0.058]\\nclass = R\"] ;\n",
      "14 -> 16 ;\n",
      "17 [label=\"CLIENT_EMI <= 2707.5\\ngini = 0.058\\nsamples = 24.0%\\nvalue = [0.97, 0.03]\\nclass = R\"] ;\n",
      "1 -> 17 ;\n",
      "18 [label=\"POS_GSPN_V2 <= 1.5\\ngini = 0.055\\nsamples = 22.8%\\nvalue = [0.972, 0.028]\\nclass = R\"] ;\n",
      "17 -> 18 ;\n",
      "19 [label=\"POS_MAR20_GM_EXI <= 0.034\\ngini = 0.042\\nsamples = 7.5%\\nvalue = [0.979, 0.021]\\nclass = R\"] ;\n",
      "18 -> 19 ;\n",
      "20 [label=\"gini = 0.122\\nsamples = 0.1%\\nvalue = [0.935, 0.065]\\nclass = R\"] ;\n",
      "19 -> 20 ;\n",
      "21 [label=\"gini = 0.041\\nsamples = 7.4%\\nvalue = [0.979, 0.021]\\nclass = R\"] ;\n",
      "19 -> 21 ;\n",
      "22 [label=\"SCORE_CB <= 721.5\\ngini = 0.061\\nsamples = 15.3%\\nvalue = [0.969, 0.031]\\nclass = R\"] ;\n",
      "18 -> 22 ;\n",
      "23 [label=\"gini = 0.079\\nsamples = 3.9%\\nvalue = [0.959, 0.041]\\nclass = R\"] ;\n",
      "22 -> 23 ;\n",
      "24 [label=\"gini = 0.055\\nsamples = 11.4%\\nvalue = [0.972, 0.028]\\nclass = R\"] ;\n",
      "22 -> 24 ;\n",
      "25 [label=\"AMT_CREDIT <= 14466.0\\ngini = 0.116\\nsamples = 1.2%\\nvalue = [0.938, 0.062]\\nclass = R\"] ;\n",
      "17 -> 25 ;\n",
      "26 [label=\"gini = 0.298\\nsamples = 0.1%\\nvalue = [0.818, 0.182]\\nclass = R\"] ;\n",
      "25 -> 26 ;\n",
      "27 [label=\"POS_GSPN_V2 <= 1.5\\ngini = 0.105\\nsamples = 1.1%\\nvalue = [0.944, 0.056]\\nclass = R\"] ;\n",
      "25 -> 27 ;\n",
      "28 [label=\"gini = 0.035\\nsamples = 0.3%\\nvalue = [0.982, 0.018]\\nclass = R\"] ;\n",
      "27 -> 28 ;\n",
      "29 [label=\"gini = 0.135\\nsamples = 0.8%\\nvalue = [0.927, 0.073]\\nclass = R\"] ;\n",
      "27 -> 29 ;\n",
      "30 [label=\"POS_MAR20_GM_EXI <= 0.202\\ngini = 0.107\\nsamples = 14.2%\\nvalue = [0.943, 0.057]\\nclass = R\"] ;\n",
      "0 -> 30 [labeldistance=2.5, labelangle=-45, headlabel=\"False\"] ;\n",
      "31 [label=\"POS_MAR20_GM_EXI <= 0.091\\ngini = 0.098\\nsamples = 13.7%\\nvalue = [0.948, 0.052]\\nclass = R\"] ;\n",
      "30 -> 31 ;\n",
      "32 [label=\"AP_POS_TYPE <= 0.5\\ngini = 0.081\\nsamples = 7.9%\\nvalue = [0.958, 0.042]\\nclass = R\"] ;\n",
      "31 -> 32 ;\n",
      "33 [label=\"POS_MAR20_GM_EXI <= 0.086\\ngini = 0.102\\nsamples = 2.7%\\nvalue = [0.946, 0.054]\\nclass = R\"] ;\n",
      "32 -> 33 ;\n",
      "34 [label=\"gini = 0.109\\nsamples = 2.4%\\nvalue = [0.942, 0.058]\\nclass = R\"] ;\n",
      "33 -> 34 ;\n",
      "35 [label=\"gini = 0.037\\nsamples = 0.3%\\nvalue = [0.981, 0.019]\\nclass = R\"] ;\n",
      "33 -> 35 ;\n",
      "36 [label=\"DP_PCT <= 0.014\\ngini = 0.07\\nsamples = 5.2%\\nvalue = [0.964, 0.036]\\nclass = R\"] ;\n",
      "32 -> 36 ;\n",
      "37 [label=\"gini = 0.216\\nsamples = 0.1%\\nvalue = [0.877, 0.123]\\nclass = R\"] ;\n",
      "36 -> 37 ;\n",
      "38 [label=\"gini = 0.067\\nsamples = 5.1%\\nvalue = [0.965, 0.035]\\nclass = R\"] ;\n",
      "36 -> 38 ;\n",
      "39 [label=\"SCORE_CB <= 706.5\\ngini = 0.121\\nsamples = 5.8%\\nvalue = [0.936, 0.064]\\nclass = R\"] ;\n",
      "31 -> 39 ;\n",
      "40 [label=\"AP_POS_TYPE <= 0.5\\ngini = 0.161\\nsamples = 1.5%\\nvalue = [0.911, 0.089]\\nclass = R\"] ;\n",
      "39 -> 40 ;\n",
      "41 [label=\"gini = 0.222\\nsamples = 0.4%\\nvalue = [0.873, 0.127]\\nclass = R\"] ;\n",
      "40 -> 41 ;\n",
      "42 [label=\"gini = 0.134\\nsamples = 1.1%\\nvalue = [0.928, 0.072]\\nclass = R\"] ;\n",
      "40 -> 42 ;\n",
      "43 [label=\"DP_PCT <= 0.224\\ngini = 0.106\\nsamples = 4.3%\\nvalue = [0.944, 0.056]\\nclass = R\"] ;\n",
      "39 -> 43 ;\n",
      "44 [label=\"gini = 0.167\\nsamples = 0.5%\\nvalue = [0.908, 0.092]\\nclass = R\"] ;\n",
      "43 -> 44 ;\n",
      "45 [label=\"gini = 0.097\\nsamples = 3.8%\\nvalue = [0.949, 0.051]\\nclass = R\"] ;\n",
      "43 -> 45 ;\n",
      "46 [label=\"SCORE_CB <= 675.5\\ngini = 0.291\\nsamples = 0.6%\\nvalue = [0.823, 0.177]\\nclass = R\"] ;\n",
      "30 -> 46 ;\n",
      "47 [label=\"POS_MAR20_GM_EXI <= 0.331\\ngini = 0.369\\nsamples = 0.2%\\nvalue = [0.756, 0.244]\\nclass = R\"] ;\n",
      "46 -> 47 ;\n",
      "48 [label=\"CLIENT_EMI <= 1633.0\\ngini = 0.309\\nsamples = 0.1%\\nvalue = [0.809, 0.191]\\nclass = R\"] ;\n",
      "47 -> 48 ;\n",
      "49 [label=\"gini = 0.18\\nsamples = 0.1%\\nvalue = [0.9, 0.1]\\nclass = R\"] ;\n",
      "48 -> 49 ;\n",
      "50 [label=\"gini = 0.391\\nsamples = 0.1%\\nvalue = [0.733, 0.267]\\nclass = R\"] ;\n",
      "48 -> 50 ;\n",
      "51 [label=\"gini = 0.456\\nsamples = 0.1%\\nvalue = [0.648, 0.352]\\nclass = R\"] ;\n",
      "47 -> 51 ;\n",
      "52 [label=\"CLIENT_EMI <= 1409.0\\ngini = 0.251\\nsamples = 0.4%\\nvalue = [0.853, 0.147]\\nclass = R\"] ;\n",
      "46 -> 52 ;\n",
      "53 [label=\"gini = 0.346\\nsamples = 0.1%\\nvalue = [0.778, 0.222]\\nclass = R\"] ;\n",
      "52 -> 53 ;\n",
      "54 [label=\"CLIENT_EMI <= 2095.5\\ngini = 0.221\\nsamples = 0.3%\\nvalue = [0.874, 0.126]\\nclass = R\"] ;\n",
      "52 -> 54 ;\n",
      "55 [label=\"gini = 0.179\\nsamples = 0.2%\\nvalue = [0.9, 0.1]\\nclass = R\"] ;\n",
      "54 -> 55 ;\n",
      "56 [label=\"gini = 0.314\\nsamples = 0.1%\\nvalue = [0.805, 0.195]\\nclass = R\"] ;\n",
      "54 -> 56 ;\n",
      "}\n"
     ]
    }
   ],
   "source": [
    "print(dot_data)\n",
    "# copy this to editor window on http://www.webgraphviz.com/ to create chart"
   ]
  },
  {
   "cell_type": "code",
   "execution_count": null,
   "metadata": {},
   "outputs": [],
   "source": []
  },
  {
   "cell_type": "code",
   "execution_count": null,
   "metadata": {},
   "outputs": [],
   "source": []
  },
  {
   "cell_type": "markdown",
   "metadata": {},
   "source": [
    "# Archieve"
   ]
  },
  {
   "cell_type": "markdown",
   "metadata": {},
   "source": [
    "# SQL Script"
   ]
  },
  {
   "cell_type": "code",
   "execution_count": 28,
   "metadata": {},
   "outputs": [],
   "source": [
    "from sklearn.tree import export_text"
   ]
  },
  {
   "cell_type": "code",
   "execution_count": null,
   "metadata": {},
   "outputs": [],
   "source": [
    "def get_lineage(tree, feature_names):\n",
    "     left      = tree.tree_.children_left\n",
    "     right     = tree.tree_.children_right\n",
    "     threshold = tree.tree_.threshold\n",
    "     features  = [feature_names[i] for i in tree.tree_.feature]\n",
    "\n",
    "     # get ids of child nodes\n",
    "     idx = np.argwhere(left == -1)[:,0]     \n",
    "\n",
    "     def recurse(left, right, child, lineage=None):          \n",
    "          if lineage is None:\n",
    "               lineage = [child]\n",
    "          if child in left:\n",
    "               parent = np.where(left == child)[0].item()\n",
    "               split = 'l'\n",
    "          else:\n",
    "               parent = np.where(right == child)[0].item()\n",
    "               split = 'r'\n",
    "\n",
    "          lineage.append((parent, split, threshold[parent], features[parent]))\n",
    "\n",
    "          if parent == 0:\n",
    "               lineage.reverse()\n",
    "               return lineage\n",
    "          else:\n",
    "               return recurse(left, right, parent, lineage)\n",
    "\n",
    "     for child in idx:\n",
    "          for node in recurse(left, right, child):\n",
    "               print node"
   ]
  },
  {
   "cell_type": "code",
   "execution_count": 36,
   "metadata": {},
   "outputs": [],
   "source": [
    "def get_code(tree, feature_names, tabdepth=0):\n",
    "    left      = tree.tree_.children_left\n",
    "    right     = tree.tree_.children_right\n",
    "    threshold = tree.tree_.threshold\n",
    "    features  = [feature_names[i] for i in tree.tree_.feature]\n",
    "    value = tree.tree_.value\n",
    "#     print(\"AK\",left)\n",
    "#     print(\"AK\",right)\n",
    "#     print(\"AK\",threshold)\n",
    "#     print(\"AK\",features)\n",
    "#     print(\"AK\",value)\n",
    "    \n",
    "    \n",
    "\n",
    "    def recurse(left, right, threshold, features, node, tabdepth=0):\n",
    "            if (threshold[node] != -2):\n",
    "                    print('\\t' * tabdepth)\n",
    "                    print(\"if ( \" + features[node] + \" <= \" + str(threshold[node]) + \" ) {\")\n",
    "                    if left[node] != -1:\n",
    "                            recurse (left, right, threshold, features,left[node], tabdepth+1)\n",
    "                    print('\\t' * tabdepth)\n",
    "                    print (\"} else {\")\n",
    "                    if right[node] != -1:\n",
    "                            recurse (left, right, threshold, features,right[node], tabdepth+1)\n",
    "                    print ('\\t' * tabdepth)\n",
    "                    print (\"}\")\n",
    "            else:\n",
    "                    print ('\\t' * tabdepth)\n",
    "                    print (\"return \" + str(value[node]))\n",
    "\n",
    "    recurse(left, right, threshold, features, 0)"
   ]
  },
  {
   "cell_type": "code",
   "execution_count": 37,
   "metadata": {},
   "outputs": [
    {
     "data": {
      "text/plain": [
       "DecisionTreeClassifier(max_depth=2, min_samples_leaf=500, random_state=0)"
      ]
     },
     "execution_count": 37,
     "metadata": {},
     "output_type": "execute_result"
    }
   ],
   "source": [
    "clf = DecisionTreeClassifier(random_state=0, max_depth=2, min_samples_leaf = 500)\n",
    "clf.fit(df_train[FINAL_FEATURES], df_train[TARGET])"
   ]
  },
  {
   "cell_type": "code",
   "execution_count": 38,
   "metadata": {
    "scrolled": true
   },
   "outputs": [
    {
     "name": "stdout",
     "output_type": "stream",
     "text": [
      "AK [ 1  2 -1 -1  5 -1 -1]\n",
      "AK [ 4  3 -1 -1  6 -1 -1]\n",
      "AK [ 0.07930014  0.03438504 -2.         -2.          0.18095641 -2.\n",
      " -2.        ]\n",
      "AK ['POS_MAR20_GM_EXI', 'POS_MAR20_GM_EXI', 'XNA_POS_TYPE', 'XNA_POS_TYPE', 'POS_MAR20_GM_EXI', 'XNA_POS_TYPE', 'XNA_POS_TYPE']\n",
      "AK [[[54141.  1326.]]\n",
      "\n",
      " [[49556.   976.]]\n",
      "\n",
      " [[34553.   460.]]\n",
      "\n",
      " [[15003.   516.]]\n",
      "\n",
      " [[ 4585.   350.]]\n",
      "\n",
      " [[ 4154.   271.]]\n",
      "\n",
      " [[  431.    79.]]]\n",
      "\n",
      "if ( POS_MAR20_GM_EXI <= 0.07930013537406921 ) {\n",
      "\t\n",
      "if ( POS_MAR20_GM_EXI <= 0.034385040402412415 ) {\n",
      "\t\t\n",
      "return [[34553.   460.]]\n",
      "\t\n",
      "} else {\n",
      "\t\t\n",
      "return [[15003.   516.]]\n",
      "\t\n",
      "}\n",
      "\n",
      "} else {\n",
      "\t\n",
      "if ( POS_MAR20_GM_EXI <= 0.1809564083814621 ) {\n",
      "\t\t\n",
      "return [[4154.  271.]]\n",
      "\t\n",
      "} else {\n",
      "\t\t\n",
      "return [[431.  79.]]\n",
      "\t\n",
      "}\n",
      "\n",
      "}\n"
     ]
    }
   ],
   "source": [
    "get_code(clf, FINAL_FEATURES)"
   ]
  },
  {
   "cell_type": "code",
   "execution_count": null,
   "metadata": {},
   "outputs": [],
   "source": []
  },
  {
   "cell_type": "markdown",
   "metadata": {},
   "source": [
    "# MOM Gini"
   ]
  },
  {
   "cell_type": "code",
   "execution_count": 334,
   "metadata": {},
   "outputs": [],
   "source": [
    "# gini_dic = {}\n",
    "# predictor_list = []\n",
    "# target_variable = TARGET\n",
    "# for x in df[\"MONTH\"].unique():\n",
    "#     try:\n",
    "#         if \"MONTH\" not in gini_dic:\n",
    "#             gini_dic[\"MONTH\"] = []\n",
    "#         if \"GM\" not in gini_dic: \n",
    "#             gini_dic[\"GM\"] = []\n",
    "#         if \"RGS\" not in gini_dic: \n",
    "#             gini_dic[\"RGS\"] = []\n",
    "        \n",
    "#         gini_dic[\"GM\"].append((2*roc_auc_score(df[df[\"MONTH\"]==x][target_variable],df[df[\"MONTH\"]==x][SCORE])-1)*100)\n",
    "#         gini_dic[\"RGS\"].append((2*roc_auc_score(df[df[\"MONTH\"]==x][target_variable],df[df[\"MONTH\"]==x][\"PRED_PROB\"])-1)*100)\n",
    "#         gini_dic[\"MONTH\"].append(x)\n",
    "#     except: \n",
    "#         print(\"ERROR\")\n",
    "\n",
    "# gini_df = pd.DataFrame(gini_dic)\n",
    "# gini_df.sort_values(by = \"MONTH\",inplace = True)\n",
    "# gini_df.reset_index(inplace = True)"
   ]
  },
  {
   "cell_type": "code",
   "execution_count": 335,
   "metadata": {},
   "outputs": [],
   "source": [
    "# import matplotlib.pyplot as plt\n",
    "# fig = plt.figure(figsize = (10,5))\n",
    "# ax1 = fig.add_subplot(1, 1, 1)\n",
    "# ax1.plot(gini_df[\"MONTH\"],gini_df[\"GM\"], marker='o', scaley = False, label = \"GM\")\n",
    "# ax1.plot(gini_df[\"MONTH\"],gini_df[\"RGS\"], marker='o', scaley = False, label = \"RGS\")\n",
    "# # ax1.plot(gini_df[\"MONTH_STR\"],gini_df[combined_score_only_fnf_flag], marker='o', scaley = False, label = combined_score_only_fnf_flag)\n",
    "# # for y in predictor_list:\n",
    "# #     ax1.plot(gini_df[\"MONTH_STR\"],gini_df[y], marker='o', scaley = False, label = y)\n",
    "\n",
    "\n",
    "# for i, txt in enumerate(gini_df[\"GM\"]):\n",
    "#     plt.annotate(\"{:.1f}\".format(txt), (gini_df[\"MONTH\"][i], gini_df[\"GM\"][i]-0.8))\n",
    "# for i, txt in enumerate(gini_df[\"RGS\"]):\n",
    "#     plt.annotate(\"{:.1f}\".format(txt), (gini_df[\"MONTH\"][i], gini_df[\"RGS\"][i]+1.2))\n",
    "    \n",
    "# # for i, txt in enumerate(gini_df[combined_score_only_fnf_flag]):\n",
    "# #     plt.annotate(\"{:.1f}\".format(txt), (gini_df[\"MONTH_STR\"][i], gini_df[combined_score_only_fnf_flag][i]+1.6))\n",
    "\n",
    "# # for y in predictor_list:\n",
    "# #     for i, txt in enumerate(gini_df[y]):\n",
    "# #         plt.annotate(\"{:.1f}\".format(txt), (gini_df[\"MONTH_STR\"][i], gini_df[y][i]+1))\n",
    "\n",
    "    \n",
    "# plt.legend(loc='lower right', borderaxespad=0.1)\n",
    "# plt.ylim(30,50)\n",
    "# plt.ylabel(\"GINI\")\n",
    "# plt.xlabel(\"MONTH\")\n",
    "# plt.yticks(np.arange(30,50,2))\n",
    "# ax1.set_title(\"MOM Gini (Approved) With Risk Predictors:\")\n",
    "# plt.show()"
   ]
  },
  {
   "cell_type": "code",
   "execution_count": null,
   "metadata": {},
   "outputs": [],
   "source": []
  }
 ],
 "metadata": {
  "kernelspec": {
   "display_name": "Python 3",
   "language": "python",
   "name": "python3"
  },
  "language_info": {
   "codemirror_mode": {
    "name": "ipython",
    "version": 3
   },
   "file_extension": ".py",
   "mimetype": "text/x-python",
   "name": "python",
   "nbconvert_exporter": "python",
   "pygments_lexer": "ipython3",
   "version": "3.7.3"
  }
 },
 "nbformat": 4,
 "nbformat_minor": 2
}
