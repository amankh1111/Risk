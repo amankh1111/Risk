{
 "cells": [
  {
   "cell_type": "code",
   "execution_count": 2,
   "metadata": {},
   "outputs": [],
   "source": [
    "import pandas as pd \n",
    "import numpy as np\n",
    "from sklearn.tree import DecisionTreeClassifier\n",
    "from sklearn.model_selection import cross_val_score\n",
    "from sklearn.metrics import roc_auc_score\n",
    "from sklearn import tree\n",
    "import os\n",
    "import pydotplus\n",
    "\n",
    "os.chdir(r\"C:\\Users\\aman.khatri91425\\Desktop\\HomeCredit\\UW\\RGS New Cust\")"
   ]
  },
  {
   "cell_type": "markdown",
   "metadata": {},
   "source": [
    "# Read Data"
   ]
  },
  {
   "cell_type": "code",
   "execution_count": 3,
   "metadata": {},
   "outputs": [],
   "source": [
    "df = pd.read_csv(os.getcwd()+r\"\\Data Files\\export.csv\")"
   ]
  },
  {
   "cell_type": "code",
   "execution_count": 4,
   "metadata": {},
   "outputs": [
    {
     "data": {
      "text/html": [
       "<div>\n",
       "<style scoped>\n",
       "    .dataframe tbody tr th:only-of-type {\n",
       "        vertical-align: middle;\n",
       "    }\n",
       "\n",
       "    .dataframe tbody tr th {\n",
       "        vertical-align: top;\n",
       "    }\n",
       "\n",
       "    .dataframe thead th {\n",
       "        text-align: right;\n",
       "    }\n",
       "</style>\n",
       "<table border=\"1\" class=\"dataframe\">\n",
       "  <thead>\n",
       "    <tr style=\"text-align: right;\">\n",
       "      <th></th>\n",
       "      <th>SKP_CREDIT_CASE</th>\n",
       "      <th>DECISION_OVERALL</th>\n",
       "      <th>TIME_CREATION_DATE</th>\n",
       "      <th>DP_PCT</th>\n",
       "      <th>PRODUCT_GOODS_TYPE</th>\n",
       "      <th>PRODUCT_CREDIT_TYPE</th>\n",
       "      <th>AMT_CREDIT</th>\n",
       "      <th>POS_TYPE</th>\n",
       "      <th>POS_GSPN_V2</th>\n",
       "      <th>PAYU_SEGMENT</th>\n",
       "      <th>...</th>\n",
       "      <th>RISK_AGRF90</th>\n",
       "      <th>RISK_AGRF120</th>\n",
       "      <th>RISK_AGRF150</th>\n",
       "      <th>RISK_FPD30</th>\n",
       "      <th>RISK_FSPD30</th>\n",
       "      <th>RISK_FSTPD30</th>\n",
       "      <th>RISK_FSTQPD30</th>\n",
       "      <th>RISK_FSTQPD60</th>\n",
       "      <th>FLAG_1PCT_PHANTOM</th>\n",
       "      <th>DECISION_REASON_GROUP</th>\n",
       "    </tr>\n",
       "  </thead>\n",
       "  <tbody>\n",
       "    <tr>\n",
       "      <th>0</th>\n",
       "      <td>323183003</td>\n",
       "      <td>Rejected</td>\n",
       "      <td>15-10-20</td>\n",
       "      <td>0.423</td>\n",
       "      <td>c_Mob_Tab</td>\n",
       "      <td>ZERO</td>\n",
       "      <td>14989</td>\n",
       "      <td>Satellite</td>\n",
       "      <td>2.0</td>\n",
       "      <td>NOT_FOUND</td>\n",
       "      <td>...</td>\n",
       "      <td>0</td>\n",
       "      <td>0</td>\n",
       "      <td>0</td>\n",
       "      <td>0</td>\n",
       "      <td>0</td>\n",
       "      <td>0</td>\n",
       "      <td>0</td>\n",
       "      <td>0</td>\n",
       "      <td>0</td>\n",
       "      <td>PRE_RGS</td>\n",
       "    </tr>\n",
       "    <tr>\n",
       "      <th>1</th>\n",
       "      <td>323183097</td>\n",
       "      <td>Rejected</td>\n",
       "      <td>15-10-20</td>\n",
       "      <td>0.355</td>\n",
       "      <td>e_HA</td>\n",
       "      <td>ZERO</td>\n",
       "      <td>19354</td>\n",
       "      <td>Satellite</td>\n",
       "      <td>2.0</td>\n",
       "      <td>FOUND_DORMANT</td>\n",
       "      <td>...</td>\n",
       "      <td>0</td>\n",
       "      <td>0</td>\n",
       "      <td>0</td>\n",
       "      <td>0</td>\n",
       "      <td>0</td>\n",
       "      <td>0</td>\n",
       "      <td>0</td>\n",
       "      <td>0</td>\n",
       "      <td>0</td>\n",
       "      <td>PRE_RGS</td>\n",
       "    </tr>\n",
       "    <tr>\n",
       "      <th>2</th>\n",
       "      <td>323183106</td>\n",
       "      <td>Rejected</td>\n",
       "      <td>15-10-20</td>\n",
       "      <td>0.330</td>\n",
       "      <td>c_Mob_Tab</td>\n",
       "      <td>STANDARD</td>\n",
       "      <td>6689</td>\n",
       "      <td>Aldi</td>\n",
       "      <td>2.0</td>\n",
       "      <td>NOT_FOUND</td>\n",
       "      <td>...</td>\n",
       "      <td>0</td>\n",
       "      <td>0</td>\n",
       "      <td>0</td>\n",
       "      <td>0</td>\n",
       "      <td>0</td>\n",
       "      <td>0</td>\n",
       "      <td>0</td>\n",
       "      <td>0</td>\n",
       "      <td>0</td>\n",
       "      <td>PRE_RGS</td>\n",
       "    </tr>\n",
       "    <tr>\n",
       "      <th>3</th>\n",
       "      <td>323183114</td>\n",
       "      <td>Approved</td>\n",
       "      <td>15-10-20</td>\n",
       "      <td>0.387</td>\n",
       "      <td>c_Mob_Tab</td>\n",
       "      <td>STANDARD</td>\n",
       "      <td>9199</td>\n",
       "      <td>AP</td>\n",
       "      <td>1.0</td>\n",
       "      <td>NOT_FOUND</td>\n",
       "      <td>...</td>\n",
       "      <td>0</td>\n",
       "      <td>0</td>\n",
       "      <td>0</td>\n",
       "      <td>0</td>\n",
       "      <td>0</td>\n",
       "      <td>0</td>\n",
       "      <td>0</td>\n",
       "      <td>0</td>\n",
       "      <td>0</td>\n",
       "      <td>PRE_RGS</td>\n",
       "    </tr>\n",
       "    <tr>\n",
       "      <th>4</th>\n",
       "      <td>323183120</td>\n",
       "      <td>Approved</td>\n",
       "      <td>15-10-20</td>\n",
       "      <td>0.277</td>\n",
       "      <td>c_Mob_Tab</td>\n",
       "      <td>STANDARD</td>\n",
       "      <td>14099</td>\n",
       "      <td>Satellite</td>\n",
       "      <td>1.0</td>\n",
       "      <td>NOT_FOUND</td>\n",
       "      <td>...</td>\n",
       "      <td>0</td>\n",
       "      <td>0</td>\n",
       "      <td>0</td>\n",
       "      <td>0</td>\n",
       "      <td>0</td>\n",
       "      <td>0</td>\n",
       "      <td>0</td>\n",
       "      <td>0</td>\n",
       "      <td>0</td>\n",
       "      <td>PRE_RGS</td>\n",
       "    </tr>\n",
       "  </tbody>\n",
       "</table>\n",
       "<p>5 rows × 29 columns</p>\n",
       "</div>"
      ],
      "text/plain": [
       "   SKP_CREDIT_CASE DECISION_OVERALL TIME_CREATION_DATE  DP_PCT  \\\n",
       "0        323183003         Rejected           15-10-20   0.423   \n",
       "1        323183097         Rejected           15-10-20   0.355   \n",
       "2        323183106         Rejected           15-10-20   0.330   \n",
       "3        323183114         Approved           15-10-20   0.387   \n",
       "4        323183120         Approved           15-10-20   0.277   \n",
       "\n",
       "  PRODUCT_GOODS_TYPE PRODUCT_CREDIT_TYPE  AMT_CREDIT   POS_TYPE  POS_GSPN_V2  \\\n",
       "0          c_Mob_Tab                ZERO       14989  Satellite          2.0   \n",
       "1               e_HA                ZERO       19354  Satellite          2.0   \n",
       "2          c_Mob_Tab            STANDARD        6689       Aldi          2.0   \n",
       "3          c_Mob_Tab            STANDARD        9199         AP          1.0   \n",
       "4          c_Mob_Tab            STANDARD       14099  Satellite          1.0   \n",
       "\n",
       "    PAYU_SEGMENT  ...  RISK_AGRF90  RISK_AGRF120  RISK_AGRF150  RISK_FPD30  \\\n",
       "0      NOT_FOUND  ...            0             0             0           0   \n",
       "1  FOUND_DORMANT  ...            0             0             0           0   \n",
       "2      NOT_FOUND  ...            0             0             0           0   \n",
       "3      NOT_FOUND  ...            0             0             0           0   \n",
       "4      NOT_FOUND  ...            0             0             0           0   \n",
       "\n",
       "   RISK_FSPD30 RISK_FSTPD30 RISK_FSTQPD30  RISK_FSTQPD60  FLAG_1PCT_PHANTOM  \\\n",
       "0            0            0             0              0                  0   \n",
       "1            0            0             0              0                  0   \n",
       "2            0            0             0              0                  0   \n",
       "3            0            0             0              0                  0   \n",
       "4            0            0             0              0                  0   \n",
       "\n",
       "   DECISION_REASON_GROUP  \n",
       "0                PRE_RGS  \n",
       "1                PRE_RGS  \n",
       "2                PRE_RGS  \n",
       "3                PRE_RGS  \n",
       "4                PRE_RGS  \n",
       "\n",
       "[5 rows x 29 columns]"
      ]
     },
     "execution_count": 4,
     "metadata": {},
     "output_type": "execute_result"
    }
   ],
   "source": [
    "df.head()"
   ]
  },
  {
   "cell_type": "code",
   "execution_count": 5,
   "metadata": {},
   "outputs": [
    {
     "data": {
      "text/plain": [
       "Index(['SKP_CREDIT_CASE', 'DECISION_OVERALL', 'TIME_CREATION_DATE', 'DP_PCT',\n",
       "       'PRODUCT_GOODS_TYPE', 'PRODUCT_CREDIT_TYPE', 'AMT_CREDIT', 'POS_TYPE',\n",
       "       'POS_GSPN_V2', 'PAYU_SEGMENT', 'CLIENT_EMI', 'ACC_TERM', 'SCORE_CB',\n",
       "       'SCORE_APSC_NOV18', 'POS_AUG20_GM', 'POS_KA', 'SEG_ID', 'RISK_AGRF30',\n",
       "       'RISK_AGRF60', 'RISK_AGRF90', 'RISK_AGRF120', 'RISK_AGRF150',\n",
       "       'RISK_FPD30', 'RISK_FSPD30', 'RISK_FSTPD30', 'RISK_FSTQPD30',\n",
       "       'RISK_FSTQPD60', 'FLAG_1PCT_PHANTOM', 'DECISION_REASON_GROUP'],\n",
       "      dtype='object')"
      ]
     },
     "execution_count": 5,
     "metadata": {},
     "output_type": "execute_result"
    }
   ],
   "source": [
    "df.columns"
   ]
  },
  {
   "cell_type": "markdown",
   "metadata": {},
   "source": [
    "# Define Key Variables"
   ]
  },
  {
   "cell_type": "code",
   "execution_count": 7,
   "metadata": {},
   "outputs": [
    {
     "name": "stderr",
     "output_type": "stream",
     "text": [
      "C:\\Users\\aman.khatri91425\\AppData\\Local\\Continuum\\anaconda3\\lib\\site-packages\\ipykernel_launcher.py:4: FutureWarning: The pandas.datetime class is deprecated and will be removed from pandas in a future version. Import from datetime module instead.\n",
      "  after removing the cwd from sys.path.\n",
      "C:\\Users\\aman.khatri91425\\AppData\\Local\\Continuum\\anaconda3\\lib\\site-packages\\ipykernel_launcher.py:5: FutureWarning: The pandas.datetime class is deprecated and will be removed from pandas in a future version. Import from datetime module instead.\n",
      "  \"\"\"\n"
     ]
    }
   ],
   "source": [
    "TARGET = 'RISK_FPD30'\n",
    "DATE = 'TIME_CREATION_DATE'\n",
    "SCORE = 'POS_AUG20_GM'\n",
    "TRAIN_START_DATE = pd.datetime(2020,10,15)\n",
    "TRAIN_END_DATE = pd.datetime(2020,10,31)\n",
    "\n",
    "FEATURES = ['DP_PCT','PRODUCT_GOODS_TYPE', 'PRODUCT_CREDIT_TYPE', 'AMT_CREDIT', 'POS_TYPE',\n",
    "       'POS_GSPN_V2', 'PAYU_SEGMENT', 'CLIENT_EMI', 'ACC_TERM', 'SCORE_CB',\n",
    "       'POS_AUG20_GM', 'POS_KA', 'SEG_ID']"
   ]
  },
  {
   "cell_type": "markdown",
   "metadata": {},
   "source": [
    "# Clean Data"
   ]
  },
  {
   "cell_type": "code",
   "execution_count": 8,
   "metadata": {},
   "outputs": [],
   "source": [
    "df[DATE] = pd.to_datetime(df[DATE],format='%d-%m-%y')\n",
    "df[\"MONTH\"] = df[DATE].dt.strftime('%y-%m')"
   ]
  },
  {
   "cell_type": "code",
   "execution_count": 9,
   "metadata": {},
   "outputs": [],
   "source": [
    "df = df.dropna(subset=[SCORE,'SCORE_CB','POS_GSPN_V2'])\n",
    "df = df[df.DECISION_OVERALL == 'Approved']"
   ]
  },
  {
   "cell_type": "code",
   "execution_count": 10,
   "metadata": {},
   "outputs": [],
   "source": [
    "CATEGORICAL_FEATURES = [key for key in dict(df[FEATURES].dtypes) if dict(df[FEATURES].dtypes)[key] in ['object']] "
   ]
  },
  {
   "cell_type": "code",
   "execution_count": 11,
   "metadata": {},
   "outputs": [
    {
     "data": {
      "text/plain": [
       "['PRODUCT_GOODS_TYPE',\n",
       " 'PRODUCT_CREDIT_TYPE',\n",
       " 'POS_TYPE',\n",
       " 'PAYU_SEGMENT',\n",
       " 'POS_KA',\n",
       " 'SEG_ID']"
      ]
     },
     "execution_count": 11,
     "metadata": {},
     "output_type": "execute_result"
    }
   ],
   "source": [
    "CATEGORICAL_FEATURES"
   ]
  },
  {
   "cell_type": "code",
   "execution_count": 12,
   "metadata": {},
   "outputs": [],
   "source": [
    "for x in CATEGORICAL_FEATURES:\n",
    "    dummy = pd.get_dummies(df[x])\n",
    "    dummy.columns = [y+\"_\"+x for y in dummy.columns]\n",
    "    df = pd.concat([df, dummy], axis=1)"
   ]
  },
  {
   "cell_type": "code",
   "execution_count": 13,
   "metadata": {},
   "outputs": [
    {
     "data": {
      "text/plain": [
       "20-10     70580\n",
       "20-11    187031\n",
       "20-12    142660\n",
       "21-01     99985\n",
       "Name: MONTH, dtype: int64"
      ]
     },
     "execution_count": 13,
     "metadata": {},
     "output_type": "execute_result"
    }
   ],
   "source": [
    "df.MONTH.value_counts().sort_index()"
   ]
  },
  {
   "cell_type": "code",
   "execution_count": 14,
   "metadata": {
    "scrolled": true
   },
   "outputs": [
    {
     "data": {
      "text/plain": [
       "Index(['SKP_CREDIT_CASE', 'DECISION_OVERALL', 'TIME_CREATION_DATE', 'DP_PCT',\n",
       "       'PRODUCT_GOODS_TYPE', 'PRODUCT_CREDIT_TYPE', 'AMT_CREDIT', 'POS_TYPE',\n",
       "       'POS_GSPN_V2', 'PAYU_SEGMENT', 'CLIENT_EMI', 'ACC_TERM', 'SCORE_CB',\n",
       "       'SCORE_APSC_NOV18', 'POS_AUG20_GM', 'POS_KA', 'SEG_ID', 'RISK_AGRF30',\n",
       "       'RISK_AGRF60', 'RISK_AGRF90', 'RISK_AGRF120', 'RISK_AGRF150',\n",
       "       'RISK_FPD30', 'RISK_FSPD30', 'RISK_FSTPD30', 'RISK_FSTQPD30',\n",
       "       'RISK_FSTQPD60', 'FLAG_1PCT_PHANTOM', 'DECISION_REASON_GROUP', 'MONTH',\n",
       "       'a_TW_PRODUCT_GOODS_TYPE', 'c_Mob_Tab_PRODUCT_GOODS_TYPE',\n",
       "       'd_CP_PRODUCT_GOODS_TYPE', 'e_HA_PRODUCT_GOODS_TYPE',\n",
       "       'f_Furniture_PRODUCT_GOODS_TYPE', '2X0_PRODUCT_CREDIT_TYPE',\n",
       "       'STANDARD_PRODUCT_CREDIT_TYPE', 'ZERO_PRODUCT_CREDIT_TYPE',\n",
       "       'AP_POS_TYPE', 'Aldi_POS_TYPE', 'Satellite_POS_TYPE', 'UDAAN_POS_TYPE',\n",
       "       'XNA_POS_TYPE', 'FOUND_ACTIVE_PAYU_SEGMENT',\n",
       "       'FOUND_DORMANT_PAYU_SEGMENT', 'NOT_FOUND_PAYU_SEGMENT', 'KA_POS_KA',\n",
       "       'NKA_POS_KA', 'ONL_POS_KA', 'Desirable_SEG_ID', 'Good to keeep_SEG_ID',\n",
       "       'Undesirable_SEG_ID'],\n",
       "      dtype='object')"
      ]
     },
     "execution_count": 14,
     "metadata": {},
     "output_type": "execute_result"
    }
   ],
   "source": [
    "df.columns"
   ]
  },
  {
   "cell_type": "code",
   "execution_count": 15,
   "metadata": {},
   "outputs": [],
   "source": [
    "FINAL_FEATURES = ['DP_PCT', 'POS_GSPN_V2', 'CLIENT_EMI', 'ACC_TERM', 'SCORE_CB','POS_AUG20_GM',\n",
    "                  'a_TW_PRODUCT_GOODS_TYPE', 'c_Mob_Tab_PRODUCT_GOODS_TYPE','d_CP_PRODUCT_GOODS_TYPE', 'e_HA_PRODUCT_GOODS_TYPE',\n",
    "       'f_Furniture_PRODUCT_GOODS_TYPE', '2X0_PRODUCT_CREDIT_TYPE','STANDARD_PRODUCT_CREDIT_TYPE', 'ZERO_PRODUCT_CREDIT_TYPE',\n",
    "       'AP_POS_TYPE', 'Aldi_POS_TYPE', 'Satellite_POS_TYPE', 'UDAAN_POS_TYPE', 'XNA_POS_TYPE', 'FOUND_ACTIVE_PAYU_SEGMENT',\n",
    "       'FOUND_DORMANT_PAYU_SEGMENT', 'NOT_FOUND_PAYU_SEGMENT', 'KA_POS_KA',\n",
    "       'NKA_POS_KA', 'ONL_POS_KA', 'Desirable_SEG_ID', 'Good to keeep_SEG_ID','Undesirable_SEG_ID']"
   ]
  },
  {
   "cell_type": "markdown",
   "metadata": {},
   "source": [
    "# Train Set"
   ]
  },
  {
   "cell_type": "code",
   "execution_count": 16,
   "metadata": {},
   "outputs": [],
   "source": [
    "df_train = df[(df[DATE]>=(TRAIN_START_DATE))&(df[DATE]<(TRAIN_END_DATE))]"
   ]
  },
  {
   "cell_type": "code",
   "execution_count": 17,
   "metadata": {},
   "outputs": [
    {
     "data": {
      "text/plain": [
       "(67677, 52)"
      ]
     },
     "execution_count": 17,
     "metadata": {},
     "output_type": "execute_result"
    }
   ],
   "source": [
    "df_train.shape"
   ]
  },
  {
   "cell_type": "markdown",
   "metadata": {},
   "source": [
    "# Decision Tree"
   ]
  },
  {
   "cell_type": "markdown",
   "metadata": {},
   "source": [
    "## Optimize tree depth"
   ]
  },
  {
   "cell_type": "markdown",
   "metadata": {},
   "source": [
    "### Cross Validation Gini with Tree Depth"
   ]
  },
  {
   "cell_type": "code",
   "execution_count": 18,
   "metadata": {},
   "outputs": [
    {
     "name": "stdout",
     "output_type": "stream",
     "text": [
      "[(1, 0.5598471890228055), (2, 0.5964276218011535), (3, 0.6177227470635908), (4, 0.6222696267894012), (5, 0.6168447315862814), (6, 0.61564928166729), (7, 0.613513645589587), (8, 0.6123937430624589), (9, 0.6104091920886159)]\n"
     ]
    }
   ],
   "source": [
    "depth= []\n",
    "for i in range(1,10):\n",
    "    clf = DecisionTreeClassifier(max_depth=i, min_samples_leaf = 1000)\n",
    "    # Perform 7-fold cross validation \n",
    "    scores = cross_val_score(clf, df_train[FINAL_FEATURES], df_train[TARGET], cv=10,scoring='roc_auc',n_jobs=-1)\n",
    "    depth.append((i,scores.mean()))\n",
    "print(depth)"
   ]
  },
  {
   "cell_type": "markdown",
   "metadata": {},
   "source": [
    "# Fit model with best n"
   ]
  },
  {
   "cell_type": "code",
   "execution_count": 23,
   "metadata": {},
   "outputs": [
    {
     "data": {
      "text/plain": [
       "DecisionTreeClassifier(max_depth=4, min_samples_leaf=1000, random_state=0)"
      ]
     },
     "execution_count": 23,
     "metadata": {},
     "output_type": "execute_result"
    }
   ],
   "source": [
    "clf = DecisionTreeClassifier(random_state=0, max_depth=4, min_samples_leaf = 1000)\n",
    "clf.fit(df_train[FINAL_FEATURES], df_train[TARGET])"
   ]
  },
  {
   "cell_type": "code",
   "execution_count": 24,
   "metadata": {},
   "outputs": [],
   "source": [
    "df[\"PRED_PROB\"]=clf.predict_proba(df[FINAL_FEATURES])[:,1]"
   ]
  },
  {
   "cell_type": "code",
   "execution_count": 25,
   "metadata": {},
   "outputs": [],
   "source": [
    "# Create DOT data\n",
    "dot_data = tree.export_graphviz(clf, out_file=None, \n",
    "                                feature_names=FINAL_FEATURES,  \n",
    "                                class_names=TARGET, proportion = True)\n",
    "# Draw graph\n",
    "graph = pydotplus.graph_from_dot_data(dot_data)  \n",
    "\n",
    "# Show graph ---Not working due to graphViz\n",
    "#Image(graph.create_png())"
   ]
  },
  {
   "cell_type": "code",
   "execution_count": 26,
   "metadata": {
    "scrolled": true
   },
   "outputs": [
    {
     "name": "stdout",
     "output_type": "stream",
     "text": [
      "digraph Tree {\n",
      "node [shape=box] ;\n",
      "0 [label=\"POS_AUG20_GM <= 0.033\\ngini = 0.03\\nsamples = 100.0%\\nvalue = [0.985, 0.015]\\nclass = R\"] ;\n",
      "1 [label=\"POS_AUG20_GM <= 0.01\\ngini = 0.026\\nsamples = 87.3%\\nvalue = [0.987, 0.013]\\nclass = R\"] ;\n",
      "0 -> 1 [labeldistance=2.5, labelangle=45, headlabel=\"True\"] ;\n",
      "2 [label=\"POS_AUG20_GM <= 0.007\\ngini = 0.016\\nsamples = 27.2%\\nvalue = [0.992, 0.008]\\nclass = R\"] ;\n",
      "1 -> 2 ;\n",
      "3 [label=\"FOUND_ACTIVE_PAYU_SEGMENT <= 0.5\\ngini = 0.011\\nsamples = 14.5%\\nvalue = [0.994, 0.006]\\nclass = R\"] ;\n",
      "2 -> 3 ;\n",
      "4 [label=\"gini = 0.01\\nsamples = 11.8%\\nvalue = [0.995, 0.005]\\nclass = R\"] ;\n",
      "3 -> 4 ;\n",
      "5 [label=\"gini = 0.017\\nsamples = 2.7%\\nvalue = [0.991, 0.009]\\nclass = R\"] ;\n",
      "3 -> 5 ;\n",
      "6 [label=\"AP_POS_TYPE <= 0.5\\ngini = 0.021\\nsamples = 12.7%\\nvalue = [0.99, 0.01]\\nclass = R\"] ;\n",
      "2 -> 6 ;\n",
      "7 [label=\"gini = 0.032\\nsamples = 3.0%\\nvalue = [0.984, 0.016]\\nclass = R\"] ;\n",
      "6 -> 7 ;\n",
      "8 [label=\"gini = 0.017\\nsamples = 9.6%\\nvalue = [0.991, 0.009]\\nclass = R\"] ;\n",
      "6 -> 8 ;\n",
      "9 [label=\"POS_GSPN_V2 <= 1.5\\ngini = 0.031\\nsamples = 60.1%\\nvalue = [0.984, 0.016]\\nclass = R\"] ;\n",
      "1 -> 9 ;\n",
      "10 [label=\"AP_POS_TYPE <= 0.5\\ngini = 0.024\\nsamples = 28.4%\\nvalue = [0.988, 0.012]\\nclass = R\"] ;\n",
      "9 -> 10 ;\n",
      "11 [label=\"gini = 0.042\\nsamples = 2.6%\\nvalue = [0.979, 0.021]\\nclass = R\"] ;\n",
      "10 -> 11 ;\n",
      "12 [label=\"gini = 0.022\\nsamples = 25.8%\\nvalue = [0.989, 0.011]\\nclass = R\"] ;\n",
      "10 -> 12 ;\n",
      "13 [label=\"CLIENT_EMI <= 1651.5\\ngini = 0.037\\nsamples = 31.7%\\nvalue = [0.981, 0.019]\\nclass = R\"] ;\n",
      "9 -> 13 ;\n",
      "14 [label=\"gini = 0.031\\nsamples = 16.6%\\nvalue = [0.984, 0.016]\\nclass = R\"] ;\n",
      "13 -> 14 ;\n",
      "15 [label=\"gini = 0.044\\nsamples = 15.2%\\nvalue = [0.977, 0.023]\\nclass = R\"] ;\n",
      "13 -> 15 ;\n",
      "16 [label=\"POS_AUG20_GM <= 0.075\\ngini = 0.058\\nsamples = 12.7%\\nvalue = [0.97, 0.03]\\nclass = R\"] ;\n",
      "0 -> 16 [labeldistance=2.5, labelangle=-45, headlabel=\"False\"] ;\n",
      "17 [label=\"CLIENT_EMI <= 1516.5\\ngini = 0.054\\nsamples = 11.2%\\nvalue = [0.972, 0.028]\\nclass = R\"] ;\n",
      "16 -> 17 ;\n",
      "18 [label=\"gini = 0.072\\nsamples = 2.2%\\nvalue = [0.963, 0.037]\\nclass = R\"] ;\n",
      "17 -> 18 ;\n",
      "19 [label=\"CLIENT_EMI <= 1839.5\\ngini = 0.049\\nsamples = 9.0%\\nvalue = [0.975, 0.025]\\nclass = R\"] ;\n",
      "17 -> 19 ;\n",
      "20 [label=\"gini = 0.036\\nsamples = 4.1%\\nvalue = [0.982, 0.018]\\nclass = R\"] ;\n",
      "19 -> 20 ;\n",
      "21 [label=\"gini = 0.06\\nsamples = 4.9%\\nvalue = [0.969, 0.031]\\nclass = R\"] ;\n",
      "19 -> 21 ;\n",
      "22 [label=\"gini = 0.092\\nsamples = 1.6%\\nvalue = [0.951, 0.049]\\nclass = R\"] ;\n",
      "16 -> 22 ;\n",
      "}\n"
     ]
    }
   ],
   "source": [
    "print(dot_data)\n",
    "# copy this to editor window on http://www.webgraphviz.com/ to create chart"
   ]
  },
  {
   "cell_type": "code",
   "execution_count": null,
   "metadata": {},
   "outputs": [],
   "source": []
  },
  {
   "cell_type": "code",
   "execution_count": null,
   "metadata": {},
   "outputs": [],
   "source": []
  },
  {
   "cell_type": "markdown",
   "metadata": {},
   "source": [
    "# Variable Importance"
   ]
  },
  {
   "cell_type": "code",
   "execution_count": 30,
   "metadata": {},
   "outputs": [
    {
     "data": {
      "text/plain": [
       "DecisionTreeClassifier(max_depth=10, min_samples_leaf=1000, random_state=0)"
      ]
     },
     "execution_count": 30,
     "metadata": {},
     "output_type": "execute_result"
    }
   ],
   "source": [
    "clf = DecisionTreeClassifier(random_state=0, max_depth=10, min_samples_leaf = 1000)\n",
    "clf.fit(df_train[FINAL_FEATURES], df_train[TARGET])"
   ]
  },
  {
   "cell_type": "code",
   "execution_count": 31,
   "metadata": {},
   "outputs": [
    {
     "data": {
      "text/html": [
       "<div>\n",
       "<style scoped>\n",
       "    .dataframe tbody tr th:only-of-type {\n",
       "        vertical-align: middle;\n",
       "    }\n",
       "\n",
       "    .dataframe tbody tr th {\n",
       "        vertical-align: top;\n",
       "    }\n",
       "\n",
       "    .dataframe thead th {\n",
       "        text-align: right;\n",
       "    }\n",
       "</style>\n",
       "<table border=\"1\" class=\"dataframe\">\n",
       "  <thead>\n",
       "    <tr style=\"text-align: right;\">\n",
       "      <th></th>\n",
       "      <th>FEATURES</th>\n",
       "      <th>IMPORTANCE</th>\n",
       "    </tr>\n",
       "  </thead>\n",
       "  <tbody>\n",
       "    <tr>\n",
       "      <th>5</th>\n",
       "      <td>POS_AUG20_GM</td>\n",
       "      <td>0.533219</td>\n",
       "    </tr>\n",
       "    <tr>\n",
       "      <th>2</th>\n",
       "      <td>CLIENT_EMI</td>\n",
       "      <td>0.185563</td>\n",
       "    </tr>\n",
       "    <tr>\n",
       "      <th>0</th>\n",
       "      <td>DP_PCT</td>\n",
       "      <td>0.098306</td>\n",
       "    </tr>\n",
       "    <tr>\n",
       "      <th>1</th>\n",
       "      <td>POS_GSPN_V2</td>\n",
       "      <td>0.070747</td>\n",
       "    </tr>\n",
       "    <tr>\n",
       "      <th>14</th>\n",
       "      <td>AP_POS_TYPE</td>\n",
       "      <td>0.063336</td>\n",
       "    </tr>\n",
       "    <tr>\n",
       "      <th>12</th>\n",
       "      <td>STANDARD_PRODUCT_CREDIT_TYPE</td>\n",
       "      <td>0.036283</td>\n",
       "    </tr>\n",
       "    <tr>\n",
       "      <th>27</th>\n",
       "      <td>Undesirable_SEG_ID</td>\n",
       "      <td>0.005453</td>\n",
       "    </tr>\n",
       "    <tr>\n",
       "      <th>3</th>\n",
       "      <td>ACC_TERM</td>\n",
       "      <td>0.004108</td>\n",
       "    </tr>\n",
       "    <tr>\n",
       "      <th>19</th>\n",
       "      <td>FOUND_ACTIVE_PAYU_SEGMENT</td>\n",
       "      <td>0.002984</td>\n",
       "    </tr>\n",
       "    <tr>\n",
       "      <th>18</th>\n",
       "      <td>XNA_POS_TYPE</td>\n",
       "      <td>0.000000</td>\n",
       "    </tr>\n",
       "    <tr>\n",
       "      <th>26</th>\n",
       "      <td>Good to keeep_SEG_ID</td>\n",
       "      <td>0.000000</td>\n",
       "    </tr>\n",
       "    <tr>\n",
       "      <th>25</th>\n",
       "      <td>Desirable_SEG_ID</td>\n",
       "      <td>0.000000</td>\n",
       "    </tr>\n",
       "    <tr>\n",
       "      <th>24</th>\n",
       "      <td>ONL_POS_KA</td>\n",
       "      <td>0.000000</td>\n",
       "    </tr>\n",
       "    <tr>\n",
       "      <th>23</th>\n",
       "      <td>NKA_POS_KA</td>\n",
       "      <td>0.000000</td>\n",
       "    </tr>\n",
       "    <tr>\n",
       "      <th>22</th>\n",
       "      <td>KA_POS_KA</td>\n",
       "      <td>0.000000</td>\n",
       "    </tr>\n",
       "    <tr>\n",
       "      <th>21</th>\n",
       "      <td>NOT_FOUND_PAYU_SEGMENT</td>\n",
       "      <td>0.000000</td>\n",
       "    </tr>\n",
       "    <tr>\n",
       "      <th>20</th>\n",
       "      <td>FOUND_DORMANT_PAYU_SEGMENT</td>\n",
       "      <td>0.000000</td>\n",
       "    </tr>\n",
       "    <tr>\n",
       "      <th>4</th>\n",
       "      <td>SCORE_CB</td>\n",
       "      <td>0.000000</td>\n",
       "    </tr>\n",
       "    <tr>\n",
       "      <th>17</th>\n",
       "      <td>UDAAN_POS_TYPE</td>\n",
       "      <td>0.000000</td>\n",
       "    </tr>\n",
       "    <tr>\n",
       "      <th>6</th>\n",
       "      <td>a_TW_PRODUCT_GOODS_TYPE</td>\n",
       "      <td>0.000000</td>\n",
       "    </tr>\n",
       "    <tr>\n",
       "      <th>15</th>\n",
       "      <td>Aldi_POS_TYPE</td>\n",
       "      <td>0.000000</td>\n",
       "    </tr>\n",
       "    <tr>\n",
       "      <th>13</th>\n",
       "      <td>ZERO_PRODUCT_CREDIT_TYPE</td>\n",
       "      <td>0.000000</td>\n",
       "    </tr>\n",
       "    <tr>\n",
       "      <th>11</th>\n",
       "      <td>2X0_PRODUCT_CREDIT_TYPE</td>\n",
       "      <td>0.000000</td>\n",
       "    </tr>\n",
       "    <tr>\n",
       "      <th>10</th>\n",
       "      <td>f_Furniture_PRODUCT_GOODS_TYPE</td>\n",
       "      <td>0.000000</td>\n",
       "    </tr>\n",
       "    <tr>\n",
       "      <th>9</th>\n",
       "      <td>e_HA_PRODUCT_GOODS_TYPE</td>\n",
       "      <td>0.000000</td>\n",
       "    </tr>\n",
       "    <tr>\n",
       "      <th>8</th>\n",
       "      <td>d_CP_PRODUCT_GOODS_TYPE</td>\n",
       "      <td>0.000000</td>\n",
       "    </tr>\n",
       "    <tr>\n",
       "      <th>7</th>\n",
       "      <td>c_Mob_Tab_PRODUCT_GOODS_TYPE</td>\n",
       "      <td>0.000000</td>\n",
       "    </tr>\n",
       "    <tr>\n",
       "      <th>16</th>\n",
       "      <td>Satellite_POS_TYPE</td>\n",
       "      <td>0.000000</td>\n",
       "    </tr>\n",
       "  </tbody>\n",
       "</table>\n",
       "</div>"
      ],
      "text/plain": [
       "                          FEATURES  IMPORTANCE\n",
       "5                     POS_AUG20_GM    0.533219\n",
       "2                       CLIENT_EMI    0.185563\n",
       "0                           DP_PCT    0.098306\n",
       "1                      POS_GSPN_V2    0.070747\n",
       "14                     AP_POS_TYPE    0.063336\n",
       "12    STANDARD_PRODUCT_CREDIT_TYPE    0.036283\n",
       "27              Undesirable_SEG_ID    0.005453\n",
       "3                         ACC_TERM    0.004108\n",
       "19       FOUND_ACTIVE_PAYU_SEGMENT    0.002984\n",
       "18                    XNA_POS_TYPE    0.000000\n",
       "26            Good to keeep_SEG_ID    0.000000\n",
       "25                Desirable_SEG_ID    0.000000\n",
       "24                      ONL_POS_KA    0.000000\n",
       "23                      NKA_POS_KA    0.000000\n",
       "22                       KA_POS_KA    0.000000\n",
       "21          NOT_FOUND_PAYU_SEGMENT    0.000000\n",
       "20      FOUND_DORMANT_PAYU_SEGMENT    0.000000\n",
       "4                         SCORE_CB    0.000000\n",
       "17                  UDAAN_POS_TYPE    0.000000\n",
       "6          a_TW_PRODUCT_GOODS_TYPE    0.000000\n",
       "15                   Aldi_POS_TYPE    0.000000\n",
       "13        ZERO_PRODUCT_CREDIT_TYPE    0.000000\n",
       "11         2X0_PRODUCT_CREDIT_TYPE    0.000000\n",
       "10  f_Furniture_PRODUCT_GOODS_TYPE    0.000000\n",
       "9          e_HA_PRODUCT_GOODS_TYPE    0.000000\n",
       "8          d_CP_PRODUCT_GOODS_TYPE    0.000000\n",
       "7     c_Mob_Tab_PRODUCT_GOODS_TYPE    0.000000\n",
       "16              Satellite_POS_TYPE    0.000000"
      ]
     },
     "execution_count": 31,
     "metadata": {},
     "output_type": "execute_result"
    }
   ],
   "source": [
    "pd.DataFrame({'FEATURES':FINAL_FEATURES, 'IMPORTANCE':clf.feature_importances_}).sort_values(by='IMPORTANCE', ascending=False)"
   ]
  },
  {
   "cell_type": "code",
   "execution_count": 32,
   "metadata": {},
   "outputs": [
    {
     "name": "stdout",
     "output_type": "stream",
     "text": [
      "Feature: 0, Score: 0.09831\n",
      "Feature: 1, Score: 0.07075\n",
      "Feature: 2, Score: 0.18556\n",
      "Feature: 3, Score: 0.00411\n",
      "Feature: 4, Score: 0.00000\n",
      "Feature: 5, Score: 0.53322\n",
      "Feature: 6, Score: 0.00000\n",
      "Feature: 7, Score: 0.00000\n",
      "Feature: 8, Score: 0.00000\n",
      "Feature: 9, Score: 0.00000\n",
      "Feature: 10, Score: 0.00000\n",
      "Feature: 11, Score: 0.00000\n",
      "Feature: 12, Score: 0.03628\n",
      "Feature: 13, Score: 0.00000\n",
      "Feature: 14, Score: 0.06334\n",
      "Feature: 15, Score: 0.00000\n",
      "Feature: 16, Score: 0.00000\n",
      "Feature: 17, Score: 0.00000\n",
      "Feature: 18, Score: 0.00000\n",
      "Feature: 19, Score: 0.00298\n",
      "Feature: 20, Score: 0.00000\n",
      "Feature: 21, Score: 0.00000\n",
      "Feature: 22, Score: 0.00000\n",
      "Feature: 23, Score: 0.00000\n",
      "Feature: 24, Score: 0.00000\n",
      "Feature: 25, Score: 0.00000\n",
      "Feature: 26, Score: 0.00000\n",
      "Feature: 27, Score: 0.00545\n"
     ]
    },
    {
     "data": {
      "image/png": "[encoded data removed]",
      "text/plain": [
       "<Figure size 432x288 with 1 Axes>"
      ]
     },
     "metadata": {
      "needs_background": "light"
     },
     "output_type": "display_data"
    }
   ],
   "source": [
    "from matplotlib import pyplot\n",
    "# define dataset\n",
    "# get importance\n",
    "importance = clf.feature_importances_\n",
    "# summarize feature importance\n",
    "for i,v in enumerate(importance):\n",
    "    print('Feature: %0d, Score: %.5f' % (i,v))\n",
    "# plot feature importance\n",
    "pyplot.bar([x for x in range(len(importance))], importance)\n",
    "pyplot.show()"
   ]
  },
  {
   "cell_type": "code",
   "execution_count": null,
   "metadata": {},
   "outputs": [],
   "source": []
  },
  {
   "cell_type": "markdown",
   "metadata": {},
   "source": [
    "# Archieve"
   ]
  },
  {
   "cell_type": "markdown",
   "metadata": {},
   "source": [
    "# SQL Script"
   ]
  },
  {
   "cell_type": "code",
   "execution_count": 33,
   "metadata": {},
   "outputs": [],
   "source": [
    "from sklearn.tree import export_text"
   ]
  },
  {
   "cell_type": "code",
   "execution_count": 34,
   "metadata": {},
   "outputs": [
    {
     "ename": "SyntaxError",
     "evalue": "Missing parentheses in call to 'print'. Did you mean print(node)? (<ipython-input-34-104c216b393c>, line 30)",
     "output_type": "error",
     "traceback": [
      "\u001b[1;36m  File \u001b[1;32m\"<ipython-input-34-104c216b393c>\"\u001b[1;36m, line \u001b[1;32m30\u001b[0m\n\u001b[1;33m    print node\u001b[0m\n\u001b[1;37m             ^\u001b[0m\n\u001b[1;31mSyntaxError\u001b[0m\u001b[1;31m:\u001b[0m Missing parentheses in call to 'print'. Did you mean print(node)?\n"
     ]
    }
   ],
   "source": [
    "def get_lineage(tree, feature_names):\n",
    "     left      = tree.tree_.children_left\n",
    "     right     = tree.tree_.children_right\n",
    "     threshold = tree.tree_.threshold\n",
    "     features  = [feature_names[i] for i in tree.tree_.feature]\n",
    "\n",
    "     # get ids of child nodes\n",
    "     idx = np.argwhere(left == -1)[:,0]     \n",
    "\n",
    "     def recurse(left, right, child, lineage=None):          \n",
    "          if lineage is None:\n",
    "               lineage = [child]\n",
    "          if child in left:\n",
    "               parent = np.where(left == child)[0].item()\n",
    "               split = 'l'\n",
    "          else:\n",
    "               parent = np.where(right == child)[0].item()\n",
    "               split = 'r'\n",
    "\n",
    "          lineage.append((parent, split, threshold[parent], features[parent]))\n",
    "\n",
    "          if parent == 0:\n",
    "               lineage.reverse()\n",
    "               return lineage\n",
    "          else:\n",
    "               return recurse(left, right, parent, lineage)\n",
    "\n",
    "     for child in idx:\n",
    "          for node in recurse(left, right, child):\n",
    "               print node"
   ]
  },
  {
   "cell_type": "code",
   "execution_count": null,
   "metadata": {},
   "outputs": [],
   "source": [
    "def get_code(tree, feature_names, tabdepth=0):\n",
    "    left      = tree.tree_.children_left\n",
    "    right     = tree.tree_.children_right\n",
    "    threshold = tree.tree_.threshold\n",
    "    features  = [feature_names[i] for i in tree.tree_.feature]\n",
    "    value = tree.tree_.value\n",
    "#     print(\"AK\",left)\n",
    "#     print(\"AK\",right)\n",
    "#     print(\"AK\",threshold)\n",
    "#     print(\"AK\",features)\n",
    "#     print(\"AK\",value)\n",
    "    \n",
    "    \n",
    "\n",
    "    def recurse(left, right, threshold, features, node, tabdepth=0):\n",
    "            if (threshold[node] != -2):\n",
    "                    print('\\t' * tabdepth)\n",
    "                    print(\"if ( \" + features[node] + \" <= \" + str(threshold[node]) + \" ) {\")\n",
    "                    if left[node] != -1:\n",
    "                            recurse (left, right, threshold, features,left[node], tabdepth+1)\n",
    "                    print('\\t' * tabdepth)\n",
    "                    print (\"} else {\")\n",
    "                    if right[node] != -1:\n",
    "                            recurse (left, right, threshold, features,right[node], tabdepth+1)\n",
    "                    print ('\\t' * tabdepth)\n",
    "                    print (\"}\")\n",
    "            else:\n",
    "                    print ('\\t' * tabdepth)\n",
    "                    print (\"return \" + str(value[node]))\n",
    "\n",
    "    recurse(left, right, threshold, features, 0)"
   ]
  },
  {
   "cell_type": "code",
   "execution_count": 35,
   "metadata": {},
   "outputs": [
    {
     "data": {
      "text/plain": [
       "DecisionTreeClassifier(max_depth=2, min_samples_leaf=500, random_state=0)"
      ]
     },
     "execution_count": 35,
     "metadata": {},
     "output_type": "execute_result"
    }
   ],
   "source": [
    "clf = DecisionTreeClassifier(random_state=0, max_depth=2, min_samples_leaf = 500)\n",
    "clf.fit(df_train[FINAL_FEATURES], df_train[TARGET])"
   ]
  },
  {
   "cell_type": "code",
   "execution_count": 36,
   "metadata": {
    "scrolled": true
   },
   "outputs": [
    {
     "ename": "NameError",
     "evalue": "name 'get_code' is not defined",
     "output_type": "error",
     "traceback": [
      "\u001b[1;31m---------------------------------------------------------------------------\u001b[0m",
      "\u001b[1;31mNameError\u001b[0m                                 Traceback (most recent call last)",
      "\u001b[1;32m<ipython-input-36-3d5e86ca894f>\u001b[0m in \u001b[0;36m<module>\u001b[1;34m\u001b[0m\n\u001b[1;32m----> 1\u001b[1;33m \u001b[0mget_code\u001b[0m\u001b[1;33m(\u001b[0m\u001b[0mclf\u001b[0m\u001b[1;33m,\u001b[0m \u001b[0mFINAL_FEATURES\u001b[0m\u001b[1;33m)\u001b[0m\u001b[1;33m\u001b[0m\u001b[1;33m\u001b[0m\u001b[0m\n\u001b[0m",
      "\u001b[1;31mNameError\u001b[0m: name 'get_code' is not defined"
     ]
    }
   ],
   "source": [
    "get_code(clf, FINAL_FEATURES)"
   ]
  },
  {
   "cell_type": "code",
   "execution_count": null,
   "metadata": {},
   "outputs": [],
   "source": []
  },
  {
   "cell_type": "markdown",
   "metadata": {},
   "source": [
    "# MOM Gini"
   ]
  },
  {
   "cell_type": "code",
   "execution_count": 37,
   "metadata": {},
   "outputs": [
    {
     "name": "stdout",
     "output_type": "stream",
     "text": [
      "ERROR\n",
      "ERROR\n"
     ]
    }
   ],
   "source": [
    "gini_dic = {}\n",
    "predictor_list = []\n",
    "target_variable = TARGET\n",
    "for x in df[\"MONTH\"].unique():\n",
    "    try:\n",
    "        if \"MONTH\" not in gini_dic:\n",
    "            gini_dic[\"MONTH\"] = []\n",
    "        if \"GM\" not in gini_dic: \n",
    "            gini_dic[\"GM\"] = []\n",
    "        if \"RGS\" not in gini_dic: \n",
    "            gini_dic[\"RGS\"] = []\n",
    "        \n",
    "        gini_dic[\"GM\"].append((2*roc_auc_score(df[df[\"MONTH\"]==x][target_variable],df[df[\"MONTH\"]==x][SCORE])-1)*100)\n",
    "        gini_dic[\"RGS\"].append((2*roc_auc_score(df[df[\"MONTH\"]==x][target_variable],df[df[\"MONTH\"]==x][\"PRED_PROB\"])-1)*100)\n",
    "        gini_dic[\"MONTH\"].append(x)\n",
    "    except: \n",
    "        print(\"ERROR\")\n",
    "\n",
    "gini_df = pd.DataFrame(gini_dic)\n",
    "gini_df.sort_values(by = \"MONTH\",inplace = True)\n",
    "gini_df.reset_index(inplace = True)"
   ]
  },
  {
   "cell_type": "code",
   "execution_count": 38,
   "metadata": {},
   "outputs": [
    {
     "data": {
      "image/png": "[encoded data removed]",
      "text/plain": [
       "<Figure size 720x360 with 1 Axes>"
      ]
     },
     "metadata": {
      "needs_background": "light"
     },
     "output_type": "display_data"
    }
   ],
   "source": [
    "import matplotlib.pyplot as plt\n",
    "fig = plt.figure(figsize = (10,5))\n",
    "ax1 = fig.add_subplot(1, 1, 1)\n",
    "ax1.plot(gini_df[\"MONTH\"],gini_df[\"GM\"], marker='o', scaley = False, label = \"GM\")\n",
    "ax1.plot(gini_df[\"MONTH\"],gini_df[\"RGS\"], marker='o', scaley = False, label = \"RGS\")\n",
    "# ax1.plot(gini_df[\"MONTH_STR\"],gini_df[combined_score_only_fnf_flag], marker='o', scaley = False, label = combined_score_only_fnf_flag)\n",
    "# for y in predictor_list:\n",
    "#     ax1.plot(gini_df[\"MONTH_STR\"],gini_df[y], marker='o', scaley = False, label = y)\n",
    "\n",
    "\n",
    "for i, txt in enumerate(gini_df[\"GM\"]):\n",
    "    plt.annotate(\"{:.1f}\".format(txt), (gini_df[\"MONTH\"][i], gini_df[\"GM\"][i]-0.8))\n",
    "for i, txt in enumerate(gini_df[\"RGS\"]):\n",
    "    plt.annotate(\"{:.1f}\".format(txt), (gini_df[\"MONTH\"][i], gini_df[\"RGS\"][i]+1.2))\n",
    "    \n",
    "# for i, txt in enumerate(gini_df[combined_score_only_fnf_flag]):\n",
    "#     plt.annotate(\"{:.1f}\".format(txt), (gini_df[\"MONTH_STR\"][i], gini_df[combined_score_only_fnf_flag][i]+1.6))\n",
    "\n",
    "# for y in predictor_list:\n",
    "#     for i, txt in enumerate(gini_df[y]):\n",
    "#         plt.annotate(\"{:.1f}\".format(txt), (gini_df[\"MONTH_STR\"][i], gini_df[y][i]+1))\n",
    "\n",
    "    \n",
    "plt.legend(loc='lower right', borderaxespad=0.1)\n",
    "plt.ylim(0,40)\n",
    "plt.ylabel(\"GINI\")\n",
    "plt.xlabel(\"MONTH\")\n",
    "plt.yticks(np.arange(0,40,2))\n",
    "ax1.set_title(\"MOM Gini (Approved) With Risk Predictors:\")\n",
    "plt.show()"
   ]
  },
  {
   "cell_type": "markdown",
   "metadata": {},
   "source": [
    "# DOD Gini"
   ]
  },
  {
   "cell_type": "code",
   "execution_count": 39,
   "metadata": {},
   "outputs": [
    {
     "data": {
      "text/html": [
       "<div>\n",
       "<style scoped>\n",
       "    .dataframe tbody tr th:only-of-type {\n",
       "        vertical-align: middle;\n",
       "    }\n",
       "\n",
       "    .dataframe tbody tr th {\n",
       "        vertical-align: top;\n",
       "    }\n",
       "\n",
       "    .dataframe thead th {\n",
       "        text-align: right;\n",
       "    }\n",
       "</style>\n",
       "<table border=\"1\" class=\"dataframe\">\n",
       "  <thead>\n",
       "    <tr style=\"text-align: right;\">\n",
       "      <th></th>\n",
       "      <th>index</th>\n",
       "      <th>MONTH</th>\n",
       "      <th>GM</th>\n",
       "      <th>RGS</th>\n",
       "    </tr>\n",
       "  </thead>\n",
       "  <tbody>\n",
       "    <tr>\n",
       "      <th>0</th>\n",
       "      <td>0</td>\n",
       "      <td>20-10</td>\n",
       "      <td>22.797604</td>\n",
       "      <td>28.963060</td>\n",
       "    </tr>\n",
       "    <tr>\n",
       "      <th>1</th>\n",
       "      <td>1</td>\n",
       "      <td>20-11</td>\n",
       "      <td>21.296897</td>\n",
       "      <td>22.486924</td>\n",
       "    </tr>\n",
       "  </tbody>\n",
       "</table>\n",
       "</div>"
      ],
      "text/plain": [
       "   index  MONTH         GM        RGS\n",
       "0      0  20-10  22.797604  28.963060\n",
       "1      1  20-11  21.296897  22.486924"
      ]
     },
     "execution_count": 39,
     "metadata": {},
     "output_type": "execute_result"
    }
   ],
   "source": [
    "gini_df"
   ]
  },
  {
   "cell_type": "code",
   "execution_count": 72,
   "metadata": {},
   "outputs": [
    {
     "name": "stdout",
     "output_type": "stream",
     "text": [
      "ERROR\n",
      "ERROR\n",
      "ERROR\n",
      "ERROR\n",
      "ERROR\n",
      "ERROR\n",
      "ERROR\n",
      "ERROR\n",
      "ERROR\n",
      "ERROR\n",
      "ERROR\n",
      "ERROR\n",
      "ERROR\n",
      "ERROR\n",
      "ERROR\n",
      "ERROR\n",
      "ERROR\n",
      "ERROR\n",
      "ERROR\n",
      "ERROR\n",
      "ERROR\n",
      "ERROR\n",
      "ERROR\n",
      "ERROR\n",
      "ERROR\n",
      "ERROR\n",
      "ERROR\n",
      "ERROR\n",
      "ERROR\n",
      "ERROR\n",
      "ERROR\n",
      "ERROR\n",
      "ERROR\n",
      "ERROR\n",
      "ERROR\n",
      "ERROR\n",
      "ERROR\n",
      "ERROR\n",
      "ERROR\n",
      "ERROR\n",
      "ERROR\n",
      "ERROR\n",
      "ERROR\n",
      "ERROR\n",
      "ERROR\n",
      "ERROR\n",
      "ERROR\n",
      "ERROR\n",
      "ERROR\n",
      "ERROR\n",
      "ERROR\n",
      "ERROR\n",
      "ERROR\n",
      "ERROR\n",
      "ERROR\n",
      "ERROR\n",
      "ERROR\n",
      "ERROR\n",
      "ERROR\n",
      "ERROR\n"
     ]
    }
   ],
   "source": [
    "gini_dic = {}\n",
    "predictor_list = []\n",
    "target_variable = TARGET\n",
    "for x in df[\"TIME_CREATION_DATE\"].unique():\n",
    "    try:\n",
    "        if \"TIME_CREATION_DATE\" not in gini_dic:\n",
    "            gini_dic[\"TIME_CREATION_DATE\"] = []\n",
    "        if \"GM\" not in gini_dic: \n",
    "            gini_dic[\"GM\"] = []\n",
    "        if \"RGS\" not in gini_dic: \n",
    "            gini_dic[\"RGS\"] = []\n",
    "        \n",
    "        gini_dic[\"GM\"].append((2*roc_auc_score(df[df[\"TIME_CREATION_DATE\"]==x][target_variable],df[df[\"TIME_CREATION_DATE\"]==x][SCORE])-1)*100)\n",
    "        gini_dic[\"RGS\"].append((2*roc_auc_score(df[df[\"TIME_CREATION_DATE\"]==x][target_variable],df[df[\"TIME_CREATION_DATE\"]==x][\"PRED_PROB\"])-1)*100)\n",
    "        gini_dic[\"TIME_CREATION_DATE\"].append(x)\n",
    "    except: \n",
    "        print(\"ERROR\")\n",
    "\n",
    "gini_df = pd.DataFrame(gini_dic)\n",
    "gini_df.sort_values(by = \"TIME_CREATION_DATE\",inplace = True)\n",
    "gini_df.reset_index(inplace = True)"
   ]
  },
  {
   "cell_type": "code",
   "execution_count": 74,
   "metadata": {},
   "outputs": [
    {
     "data": {
      "image/png": "[encoded data removed]",
      "text/plain": [
       "<Figure size 720x360 with 1 Axes>"
      ]
     },
     "metadata": {
      "needs_background": "light"
     },
     "output_type": "display_data"
    }
   ],
   "source": [
    "import matplotlib.pyplot as plt\n",
    "fig = plt.figure(figsize = (10,5))\n",
    "ax1 = fig.add_subplot(1, 1, 1)\n",
    "ax1.plot(gini_df[\"TIME_CREATION_DATE\"],gini_df[\"GM\"], marker='o', scaley = False, label = \"GM\")\n",
    "ax1.plot(gini_df[\"TIME_CREATION_DATE\"],gini_df[\"RGS\"], marker='o', scaley = False, label = \"RGS\")\n",
    "# ax1.plot(gini_df[\"MONTH_STR\"],gini_df[combined_score_only_fnf_flag], marker='o', scaley = False, label = combined_score_only_fnf_flag)\n",
    "# for y in predictor_list:\n",
    "#     ax1.plot(gini_df[\"MONTH_STR\"],gini_df[y], marker='o', scaley = False, label = y)\n",
    "\n",
    "\n",
    "for i, txt in enumerate(gini_df[\"GM\"]):\n",
    "    plt.annotate(\"{:.1f}\".format(txt), (gini_df[\"TIME_CREATION_DATE\"][i], gini_df[\"GM\"][i]-0.8))\n",
    "for i, txt in enumerate(gini_df[\"RGS\"]):\n",
    "    plt.annotate(\"{:.1f}\".format(txt), (gini_df[\"TIME_CREATION_DATE\"][i], gini_df[\"RGS\"][i]+1.2))\n",
    "    \n",
    "# for i, txt in enumerate(gini_df[combined_score_only_fnf_flag]):\n",
    "#     plt.annotate(\"{:.1f}\".format(txt), (gini_df[\"MONTH_STR\"][i], gini_df[combined_score_only_fnf_flag][i]+1.6))\n",
    "\n",
    "# for y in predictor_list:\n",
    "#     for i, txt in enumerate(gini_df[y]):\n",
    "#         plt.annotate(\"{:.1f}\".format(txt), (gini_df[\"MONTH_STR\"][i], gini_df[y][i]+1))\n",
    "\n",
    "    \n",
    "plt.legend(loc='lower right', borderaxespad=0.1)\n",
    "plt.ylim(0,40)\n",
    "plt.ylabel(\"GINI\")\n",
    "plt.xlabel(\"TIME_CREATION_DATE\")\n",
    "plt.yticks(np.arange(0,40,2))\n",
    "ax1.set_title(\"MOM Gini (Approved) With Risk Predictors:\")\n",
    "plt.show()"
   ]
  },
  {
   "cell_type": "code",
   "execution_count": null,
   "metadata": {},
   "outputs": [],
   "source": []
  }
 ],
 "metadata": {
  "kernelspec": {
   "display_name": "Python 3",
   "language": "python",
   "name": "python3"
  },
  "language_info": {
   "codemirror_mode": {
    "name": "ipython",
    "version": 3
   },
   "file_extension": ".py",
   "mimetype": "text/x-python",
   "name": "python",
   "nbconvert_exporter": "python",
   "pygments_lexer": "ipython3",
   "version": "3.7.3"
  }
 },
 "nbformat": 4,
 "nbformat_minor": 2
}
