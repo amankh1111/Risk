{
 "cells": [
  {
   "cell_type": "code",
   "execution_count": 108,
   "metadata": {},
   "outputs": [],
   "source": [
    "import pandas as pd \n",
    "import numpy as np\n",
    "from sklearn.tree import DecisionTreeClassifier\n",
    "from sklearn.model_selection import cross_val_score\n",
    "from sklearn.metrics import roc_auc_score\n",
    "from sklearn import tree\n",
    "import os\n",
    "import pydotplus\n",
    "\n",
    "os.chdir(r\"C:\\Users\\aman.khatri91425\\Desktop\\HomeCredit\\UW\\RGS New Cust\")"
   ]
  },
  {
   "cell_type": "markdown",
   "metadata": {},
   "source": [
    "# Read Data"
   ]
  },
  {
   "cell_type": "code",
   "execution_count": 109,
   "metadata": {},
   "outputs": [
    {
     "name": "stderr",
     "output_type": "stream",
     "text": [
      "C:\\Users\\aman.khatri91425\\AppData\\Local\\Continuum\\anaconda3\\lib\\site-packages\\IPython\\core\\interactiveshell.py:3049: DtypeWarning: Columns (31) have mixed types.Specify dtype option on import or set low_memory=False.\n",
      "  interactivity=interactivity, compiler=compiler, result=result)\n"
     ]
    }
   ],
   "source": [
    "df = pd.read_csv(os.getcwd()+r\"\\Data Files\\phantomas_backscored.csv\")"
   ]
  },
  {
   "cell_type": "code",
   "execution_count": 110,
   "metadata": {},
   "outputs": [
    {
     "data": {
      "text/html": [
       "<div>\n",
       "<style scoped>\n",
       "    .dataframe tbody tr th:only-of-type {\n",
       "        vertical-align: middle;\n",
       "    }\n",
       "\n",
       "    .dataframe tbody tr th {\n",
       "        vertical-align: top;\n",
       "    }\n",
       "\n",
       "    .dataframe thead th {\n",
       "        text-align: right;\n",
       "    }\n",
       "</style>\n",
       "<table border=\"1\" class=\"dataframe\">\n",
       "  <thead>\n",
       "    <tr style=\"text-align: right;\">\n",
       "      <th></th>\n",
       "      <th>SKP_CREDIT_CASE</th>\n",
       "      <th>DECISION_OVERALL</th>\n",
       "      <th>TIME_CREATION_DATE</th>\n",
       "      <th>DP_PCT</th>\n",
       "      <th>PRODUCT_GOODS_TYPE</th>\n",
       "      <th>PRODUCT_CREDIT_TYPE</th>\n",
       "      <th>AMT_CREDIT</th>\n",
       "      <th>POS_TYPE</th>\n",
       "      <th>POS_GSPN_V2</th>\n",
       "      <th>PAYU_SEGMENT</th>\n",
       "      <th>...</th>\n",
       "      <th>RISK_FSPD30</th>\n",
       "      <th>RISK_FSTPD30</th>\n",
       "      <th>RISK_FSTQPD30</th>\n",
       "      <th>RISK_FSTQPD60</th>\n",
       "      <th>FLAG_1PCT_PHANTOM</th>\n",
       "      <th>DECISION_REASON_GROUP</th>\n",
       "      <th>PRODUCT_INSURANCE</th>\n",
       "      <th>VMM_FNF</th>\n",
       "      <th>PENNY_FNF</th>\n",
       "      <th>TP_FNF</th>\n",
       "    </tr>\n",
       "  </thead>\n",
       "  <tbody>\n",
       "    <tr>\n",
       "      <th>0</th>\n",
       "      <td>306282502</td>\n",
       "      <td>Approved</td>\n",
       "      <td>01-06-20</td>\n",
       "      <td>0.369</td>\n",
       "      <td>c_Mob_Tab</td>\n",
       "      <td>ZERO</td>\n",
       "      <td>10089</td>\n",
       "      <td>Satellite</td>\n",
       "      <td>1.0</td>\n",
       "      <td>NOT_FOUND</td>\n",
       "      <td>...</td>\n",
       "      <td>0</td>\n",
       "      <td>0</td>\n",
       "      <td>0</td>\n",
       "      <td>0</td>\n",
       "      <td>1</td>\n",
       "      <td>PRE_RGS</td>\n",
       "      <td>MAX_INS</td>\n",
       "      <td>NaN</td>\n",
       "      <td>NaN</td>\n",
       "      <td>NOT_FOUND</td>\n",
       "    </tr>\n",
       "    <tr>\n",
       "      <th>1</th>\n",
       "      <td>306283929</td>\n",
       "      <td>Approved</td>\n",
       "      <td>01-06-20</td>\n",
       "      <td>0.300</td>\n",
       "      <td>c_Mob_Tab</td>\n",
       "      <td>ZERO</td>\n",
       "      <td>9098</td>\n",
       "      <td>Satellite</td>\n",
       "      <td>2.0</td>\n",
       "      <td>NOT_FOUND</td>\n",
       "      <td>...</td>\n",
       "      <td>0</td>\n",
       "      <td>0</td>\n",
       "      <td>0</td>\n",
       "      <td>0</td>\n",
       "      <td>1</td>\n",
       "      <td>PRE_RGS</td>\n",
       "      <td>MAX_INS</td>\n",
       "      <td>NOT_FOUND</td>\n",
       "      <td>NaN</td>\n",
       "      <td>NOT_FOUND</td>\n",
       "    </tr>\n",
       "    <tr>\n",
       "      <th>2</th>\n",
       "      <td>306284197</td>\n",
       "      <td>Approved</td>\n",
       "      <td>01-06-20</td>\n",
       "      <td>0.318</td>\n",
       "      <td>c_Mob_Tab</td>\n",
       "      <td>STANDARD</td>\n",
       "      <td>5799</td>\n",
       "      <td>AP</td>\n",
       "      <td>NaN</td>\n",
       "      <td>NOT_FOUND</td>\n",
       "      <td>...</td>\n",
       "      <td>0</td>\n",
       "      <td>0</td>\n",
       "      <td>0</td>\n",
       "      <td>0</td>\n",
       "      <td>1</td>\n",
       "      <td>PRE_RGS</td>\n",
       "      <td>MAX_INS</td>\n",
       "      <td>NaN</td>\n",
       "      <td>SUCCESS</td>\n",
       "      <td>NOT_FOUND</td>\n",
       "    </tr>\n",
       "    <tr>\n",
       "      <th>3</th>\n",
       "      <td>306284217</td>\n",
       "      <td>Approved</td>\n",
       "      <td>01-06-20</td>\n",
       "      <td>0.401</td>\n",
       "      <td>e_HA</td>\n",
       "      <td>ZERO</td>\n",
       "      <td>17374</td>\n",
       "      <td>AP</td>\n",
       "      <td>2.0</td>\n",
       "      <td>FOUND_DORMANT</td>\n",
       "      <td>...</td>\n",
       "      <td>0</td>\n",
       "      <td>0</td>\n",
       "      <td>0</td>\n",
       "      <td>0</td>\n",
       "      <td>1</td>\n",
       "      <td>POST_RGS</td>\n",
       "      <td>NO INSURANCE</td>\n",
       "      <td>NaN</td>\n",
       "      <td>NaN</td>\n",
       "      <td>NOT_FOUND</td>\n",
       "    </tr>\n",
       "    <tr>\n",
       "      <th>4</th>\n",
       "      <td>306284405</td>\n",
       "      <td>Approved</td>\n",
       "      <td>01-06-20</td>\n",
       "      <td>0.335</td>\n",
       "      <td>c_Mob_Tab</td>\n",
       "      <td>STANDARD</td>\n",
       "      <td>12299</td>\n",
       "      <td>Satellite</td>\n",
       "      <td>2.0</td>\n",
       "      <td>NOT_FOUND</td>\n",
       "      <td>...</td>\n",
       "      <td>0</td>\n",
       "      <td>0</td>\n",
       "      <td>0</td>\n",
       "      <td>0</td>\n",
       "      <td>1</td>\n",
       "      <td>PRE_RGS</td>\n",
       "      <td>NO INSURANCE</td>\n",
       "      <td>NaN</td>\n",
       "      <td>NaN</td>\n",
       "      <td>NOT_FOUND</td>\n",
       "    </tr>\n",
       "  </tbody>\n",
       "</table>\n",
       "<p>5 rows × 33 columns</p>\n",
       "</div>"
      ],
      "text/plain": [
       "   SKP_CREDIT_CASE DECISION_OVERALL TIME_CREATION_DATE  DP_PCT  \\\n",
       "0        306282502         Approved           01-06-20   0.369   \n",
       "1        306283929         Approved           01-06-20   0.300   \n",
       "2        306284197         Approved           01-06-20   0.318   \n",
       "3        306284217         Approved           01-06-20   0.401   \n",
       "4        306284405         Approved           01-06-20   0.335   \n",
       "\n",
       "  PRODUCT_GOODS_TYPE PRODUCT_CREDIT_TYPE  AMT_CREDIT   POS_TYPE  POS_GSPN_V2  \\\n",
       "0          c_Mob_Tab                ZERO       10089  Satellite          1.0   \n",
       "1          c_Mob_Tab                ZERO        9098  Satellite          2.0   \n",
       "2          c_Mob_Tab            STANDARD        5799         AP          NaN   \n",
       "3               e_HA                ZERO       17374         AP          2.0   \n",
       "4          c_Mob_Tab            STANDARD       12299  Satellite          2.0   \n",
       "\n",
       "    PAYU_SEGMENT  ...  RISK_FSPD30  RISK_FSTPD30  RISK_FSTQPD30  \\\n",
       "0      NOT_FOUND  ...            0             0              0   \n",
       "1      NOT_FOUND  ...            0             0              0   \n",
       "2      NOT_FOUND  ...            0             0              0   \n",
       "3  FOUND_DORMANT  ...            0             0              0   \n",
       "4      NOT_FOUND  ...            0             0              0   \n",
       "\n",
       "   RISK_FSTQPD60  FLAG_1PCT_PHANTOM DECISION_REASON_GROUP PRODUCT_INSURANCE  \\\n",
       "0              0                  1               PRE_RGS           MAX_INS   \n",
       "1              0                  1               PRE_RGS           MAX_INS   \n",
       "2              0                  1               PRE_RGS           MAX_INS   \n",
       "3              0                  1              POST_RGS      NO INSURANCE   \n",
       "4              0                  1               PRE_RGS      NO INSURANCE   \n",
       "\n",
       "     VMM_FNF  PENNY_FNF     TP_FNF  \n",
       "0        NaN        NaN  NOT_FOUND  \n",
       "1  NOT_FOUND        NaN  NOT_FOUND  \n",
       "2        NaN    SUCCESS  NOT_FOUND  \n",
       "3        NaN        NaN  NOT_FOUND  \n",
       "4        NaN        NaN  NOT_FOUND  \n",
       "\n",
       "[5 rows x 33 columns]"
      ]
     },
     "execution_count": 110,
     "metadata": {},
     "output_type": "execute_result"
    }
   ],
   "source": [
    "df.head()"
   ]
  },
  {
   "cell_type": "code",
   "execution_count": 111,
   "metadata": {},
   "outputs": [
    {
     "data": {
      "text/plain": [
       "Index(['SKP_CREDIT_CASE', 'DECISION_OVERALL', 'TIME_CREATION_DATE', 'DP_PCT',\n",
       "       'PRODUCT_GOODS_TYPE', 'PRODUCT_CREDIT_TYPE', 'AMT_CREDIT', 'POS_TYPE',\n",
       "       'POS_GSPN_V2', 'PAYU_SEGMENT', 'CLIENT_EMI', 'ACC_TERM', 'SCORE_CB',\n",
       "       'SCORE_APSC_NOV18', 'POS_AUG20_GM', 'POS_KA', 'SEG_ID', 'RISK_AGRF30',\n",
       "       'RISK_AGRF60', 'RISK_AGRF90', 'RISK_AGRF120', 'RISK_AGRF150',\n",
       "       'RISK_FPD30', 'RISK_FSPD30', 'RISK_FSTPD30', 'RISK_FSTQPD30',\n",
       "       'RISK_FSTQPD60', 'FLAG_1PCT_PHANTOM', 'DECISION_REASON_GROUP',\n",
       "       'PRODUCT_INSURANCE', 'VMM_FNF', 'PENNY_FNF', 'TP_FNF'],\n",
       "      dtype='object')"
      ]
     },
     "execution_count": 111,
     "metadata": {},
     "output_type": "execute_result"
    }
   ],
   "source": [
    "df.columns"
   ]
  },
  {
   "cell_type": "code",
   "execution_count": 112,
   "metadata": {},
   "outputs": [
    {
     "data": {
      "text/plain": [
       "'01-01-21'"
      ]
     },
     "execution_count": 112,
     "metadata": {},
     "output_type": "execute_result"
    }
   ],
   "source": [
    "df.TIME_CREATION_DATE.min()"
   ]
  },
  {
   "cell_type": "markdown",
   "metadata": {},
   "source": [
    "# Define Key Variables"
   ]
  },
  {
   "cell_type": "code",
   "execution_count": 113,
   "metadata": {},
   "outputs": [
    {
     "name": "stderr",
     "output_type": "stream",
     "text": [
      "C:\\Users\\aman.khatri91425\\AppData\\Local\\Continuum\\anaconda3\\lib\\site-packages\\ipykernel_launcher.py:4: FutureWarning: The pandas.datetime class is deprecated and will be removed from pandas in a future version. Import from datetime module instead.\n",
      "  after removing the cwd from sys.path.\n",
      "C:\\Users\\aman.khatri91425\\AppData\\Local\\Continuum\\anaconda3\\lib\\site-packages\\ipykernel_launcher.py:5: FutureWarning: The pandas.datetime class is deprecated and will be removed from pandas in a future version. Import from datetime module instead.\n",
      "  \"\"\"\n"
     ]
    }
   ],
   "source": [
    "TARGET = 'RISK_FPD30'\n",
    "DATE = 'TIME_CREATION_DATE'\n",
    "SCORE = 'POS_AUG20_GM'\n",
    "TRAIN_START_DATE = pd.datetime(2020,6,1)\n",
    "TRAIN_END_DATE = pd.datetime(2020,10,15)\n",
    "\n",
    "FEATURES = ['DP_PCT','PRODUCT_GOODS_TYPE', 'PRODUCT_CREDIT_TYPE', 'AMT_CREDIT', 'POS_TYPE',\n",
    "       'POS_GSPN_V2', 'PAYU_SEGMENT', 'CLIENT_EMI', 'ACC_TERM', 'SCORE_CB',\n",
    "       'POS_AUG20_GM', 'POS_KA', 'SEG_ID', 'PRODUCT_INSURANCE', 'VMM_FNF', 'PENNY_FNF', 'TP_FNF']"
   ]
  },
  {
   "cell_type": "markdown",
   "metadata": {},
   "source": [
    "# Clean Data"
   ]
  },
  {
   "cell_type": "code",
   "execution_count": 114,
   "metadata": {},
   "outputs": [],
   "source": [
    "df[DATE] = pd.to_datetime(df[DATE],format='%d-%m-%y')\n",
    "df[\"MONTH\"] = df[DATE].dt.strftime('%y-%m')"
   ]
  },
  {
   "cell_type": "code",
   "execution_count": 115,
   "metadata": {},
   "outputs": [],
   "source": [
    "df = df.dropna(subset=[SCORE,'SCORE_CB','POS_GSPN_V2'])\n",
    "df = df[df.DECISION_OVERALL == 'Approved']"
   ]
  },
  {
   "cell_type": "code",
   "execution_count": 116,
   "metadata": {},
   "outputs": [],
   "source": [
    "CATEGORICAL_FEATURES = [key for key in dict(df[FEATURES].dtypes) if dict(df[FEATURES].dtypes)[key] in ['object']] "
   ]
  },
  {
   "cell_type": "code",
   "execution_count": 117,
   "metadata": {},
   "outputs": [
    {
     "data": {
      "text/plain": [
       "['PRODUCT_GOODS_TYPE',\n",
       " 'PRODUCT_CREDIT_TYPE',\n",
       " 'POS_TYPE',\n",
       " 'PAYU_SEGMENT',\n",
       " 'POS_KA',\n",
       " 'SEG_ID',\n",
       " 'PRODUCT_INSURANCE',\n",
       " 'VMM_FNF',\n",
       " 'PENNY_FNF',\n",
       " 'TP_FNF']"
      ]
     },
     "execution_count": 117,
     "metadata": {},
     "output_type": "execute_result"
    }
   ],
   "source": [
    "CATEGORICAL_FEATURES"
   ]
  },
  {
   "cell_type": "code",
   "execution_count": 118,
   "metadata": {},
   "outputs": [],
   "source": [
    "for x in CATEGORICAL_FEATURES:\n",
    "    dummy = pd.get_dummies(df[x])\n",
    "    dummy.columns = [y+\"_\"+x for y in dummy.columns]\n",
    "    df = pd.concat([df, dummy], axis=1)"
   ]
  },
  {
   "cell_type": "code",
   "execution_count": 119,
   "metadata": {},
   "outputs": [
    {
     "data": {
      "text/plain": [
       "20-06      1633\n",
       "20-07      2325\n",
       "20-08      2602\n",
       "20-09      3382\n",
       "20-10     67996\n",
       "20-11    187031\n",
       "20-12    142660\n",
       "21-01    115629\n",
       "Name: MONTH, dtype: int64"
      ]
     },
     "execution_count": 119,
     "metadata": {},
     "output_type": "execute_result"
    }
   ],
   "source": [
    "df.MONTH.value_counts().sort_index()"
   ]
  },
  {
   "cell_type": "code",
   "execution_count": 121,
   "metadata": {},
   "outputs": [],
   "source": [
    "FINAL_FEATURES = ['DP_PCT', 'POS_GSPN_V2', 'CLIENT_EMI', 'ACC_TERM', 'SCORE_CB','POS_AUG20_GM',\n",
    "                  'a_TW_PRODUCT_GOODS_TYPE', 'c_Mob_Tab_PRODUCT_GOODS_TYPE','d_CP_PRODUCT_GOODS_TYPE', 'e_HA_PRODUCT_GOODS_TYPE',\n",
    "       'f_Furniture_PRODUCT_GOODS_TYPE', '2X0_PRODUCT_CREDIT_TYPE','STANDARD_PRODUCT_CREDIT_TYPE', 'ZERO_PRODUCT_CREDIT_TYPE',\n",
    "       'AP_POS_TYPE', 'Aldi_POS_TYPE', 'Satellite_POS_TYPE', 'UDAAN_POS_TYPE', 'XNA_POS_TYPE', 'FOUND_ACTIVE_PAYU_SEGMENT',\n",
    "       'FOUND_DORMANT_PAYU_SEGMENT', 'NOT_FOUND_PAYU_SEGMENT', 'KA_POS_KA',\n",
    "       'NKA_POS_KA', 'ONL_POS_KA', 'Desirable_SEG_ID', 'Good to keeep_SEG_ID','Undesirable_SEG_ID',\n",
    "                 'FOUND_VMM_FNF', 'IN_PROGRESS_PENNY_FNF', 'REJECTED_PENNY_FNF', 'SUCCESS_PENNY_FNF', 'FOUND_TP_FNF'\n",
    "                 ]"
   ]
  },
  {
   "cell_type": "markdown",
   "metadata": {},
   "source": [
    "# Train Set"
   ]
  },
  {
   "cell_type": "code",
   "execution_count": 122,
   "metadata": {},
   "outputs": [],
   "source": [
    "df_train = df[(df[DATE]>=(TRAIN_START_DATE))&(df[DATE]<(TRAIN_END_DATE))]"
   ]
  },
  {
   "cell_type": "code",
   "execution_count": 123,
   "metadata": {},
   "outputs": [],
   "source": [
    "df_train = df_train[df_train.FLAG_1PCT_PHANTOM==1]"
   ]
  },
  {
   "cell_type": "code",
   "execution_count": 124,
   "metadata": {},
   "outputs": [
    {
     "data": {
      "text/plain": [
       "(11389, 122)"
      ]
     },
     "execution_count": 124,
     "metadata": {},
     "output_type": "execute_result"
    }
   ],
   "source": [
    "df_train.shape"
   ]
  },
  {
   "cell_type": "markdown",
   "metadata": {},
   "source": [
    "# Decision Tree"
   ]
  },
  {
   "cell_type": "markdown",
   "metadata": {},
   "source": [
    "## Optimize tree depth"
   ]
  },
  {
   "cell_type": "markdown",
   "metadata": {},
   "source": [
    "### Cross Validation Gini with Tree Depth"
   ]
  },
  {
   "cell_type": "code",
   "execution_count": 125,
   "metadata": {},
   "outputs": [
    {
     "name": "stdout",
     "output_type": "stream",
     "text": [
      "[(1, 0.5559399424105306), (2, 0.6187187149643897), (3, 0.6459217541397473), (4, 0.6497960574604172), (5, 0.6465512457553979), (6, 0.6303769529202055), (7, 0.6386493494971004), (8, 0.6350065332591285), (9, 0.6355473419314249)]\n"
     ]
    }
   ],
   "source": [
    "depth= []\n",
    "for i in range(1,10):\n",
    "    clf = DecisionTreeClassifier(max_depth=i, min_samples_leaf = 200)\n",
    "    # Perform 7-fold cross validation \n",
    "    scores = cross_val_score(clf, df_train[FINAL_FEATURES], df_train[TARGET], cv=10,scoring='roc_auc',n_jobs=-1)\n",
    "    depth.append((i,scores.mean()))\n",
    "print(depth)"
   ]
  },
  {
   "cell_type": "markdown",
   "metadata": {},
   "source": [
    "# Fit model with best n"
   ]
  },
  {
   "cell_type": "code",
   "execution_count": 126,
   "metadata": {},
   "outputs": [
    {
     "data": {
      "text/plain": [
       "DecisionTreeClassifier(max_depth=4, min_samples_leaf=200, random_state=0)"
      ]
     },
     "execution_count": 126,
     "metadata": {},
     "output_type": "execute_result"
    }
   ],
   "source": [
    "clf = DecisionTreeClassifier(random_state=0, max_depth=4, min_samples_leaf = 200)\n",
    "clf.fit(df_train[FINAL_FEATURES], df_train[TARGET])"
   ]
  },
  {
   "cell_type": "code",
   "execution_count": 127,
   "metadata": {},
   "outputs": [],
   "source": [
    "df[\"PRED_PROB\"]=clf.predict_proba(df[FINAL_FEATURES])[:,1]"
   ]
  },
  {
   "cell_type": "code",
   "execution_count": 128,
   "metadata": {},
   "outputs": [],
   "source": [
    "# Create DOT data\n",
    "dot_data = tree.export_graphviz(clf, out_file=None, \n",
    "                                feature_names=FINAL_FEATURES,  \n",
    "                                class_names=TARGET, proportion = True)\n",
    "# Draw graph\n",
    "graph = pydotplus.graph_from_dot_data(dot_data)  \n",
    "\n",
    "# Show graph ---Not working due to graphViz\n",
    "#Image(graph.create_png())"
   ]
  },
  {
   "cell_type": "code",
   "execution_count": 129,
   "metadata": {
    "scrolled": true
   },
   "outputs": [
    {
     "name": "stdout",
     "output_type": "stream",
     "text": [
      "digraph Tree {\n",
      "node [shape=box] ;\n",
      "0 [label=\"POS_AUG20_GM <= 0.074\\ngini = 0.058\\nsamples = 100.0%\\nvalue = [0.97, 0.03]\\nclass = R\"] ;\n",
      "1 [label=\"POS_AUG20_GM <= 0.029\\ngini = 0.051\\nsamples = 96.0%\\nvalue = [0.974, 0.026]\\nclass = R\"] ;\n",
      "0 -> 1 [labeldistance=2.5, labelangle=45, headlabel=\"True\"] ;\n",
      "2 [label=\"POS_AUG20_GM <= 0.013\\ngini = 0.042\\nsamples = 78.8%\\nvalue = [0.979, 0.021]\\nclass = R\"] ;\n",
      "1 -> 2 ;\n",
      "3 [label=\"ACC_TERM <= 7.5\\ngini = 0.027\\nsamples = 37.8%\\nvalue = [0.987, 0.013]\\nclass = R\"] ;\n",
      "2 -> 3 ;\n",
      "4 [label=\"gini = 0.024\\nsamples = 34.5%\\nvalue = [0.988, 0.012]\\nclass = R\"] ;\n",
      "3 -> 4 ;\n",
      "5 [label=\"gini = 0.057\\nsamples = 3.3%\\nvalue = [0.971, 0.029]\\nclass = R\"] ;\n",
      "3 -> 5 ;\n",
      "6 [label=\"POS_GSPN_V2 <= 1.5\\ngini = 0.055\\nsamples = 41.1%\\nvalue = [0.972, 0.028]\\nclass = R\"] ;\n",
      "2 -> 6 ;\n",
      "7 [label=\"gini = 0.034\\nsamples = 12.3%\\nvalue = [0.983, 0.017]\\nclass = R\"] ;\n",
      "6 -> 7 ;\n",
      "8 [label=\"gini = 0.064\\nsamples = 28.7%\\nvalue = [0.967, 0.033]\\nclass = R\"] ;\n",
      "6 -> 8 ;\n",
      "9 [label=\"DP_PCT <= 0.247\\ngini = 0.094\\nsamples = 17.1%\\nvalue = [0.95, 0.05]\\nclass = R\"] ;\n",
      "1 -> 9 ;\n",
      "10 [label=\"gini = 0.17\\nsamples = 2.5%\\nvalue = [0.906, 0.094]\\nclass = R\"] ;\n",
      "9 -> 10 ;\n",
      "11 [label=\"STANDARD_PRODUCT_CREDIT_TYPE <= 0.5\\ngini = 0.081\\nsamples = 14.6%\\nvalue = [0.958, 0.042]\\nclass = R\"] ;\n",
      "9 -> 11 ;\n",
      "12 [label=\"gini = 0.06\\nsamples = 9.1%\\nvalue = [0.969, 0.031]\\nclass = R\"] ;\n",
      "11 -> 12 ;\n",
      "13 [label=\"gini = 0.115\\nsamples = 5.5%\\nvalue = [0.939, 0.061]\\nclass = R\"] ;\n",
      "11 -> 13 ;\n",
      "14 [label=\"Undesirable_SEG_ID <= 0.5\\ngini = 0.197\\nsamples = 4.0%\\nvalue = [0.889, 0.111]\\nclass = R\"] ;\n",
      "0 -> 14 [labeldistance=2.5, labelangle=-45, headlabel=\"False\"] ;\n",
      "15 [label=\"gini = 0.138\\nsamples = 1.8%\\nvalue = [0.925, 0.075]\\nclass = R\"] ;\n",
      "14 -> 15 ;\n",
      "16 [label=\"gini = 0.239\\nsamples = 2.3%\\nvalue = [0.862, 0.138]\\nclass = R\"] ;\n",
      "14 -> 16 ;\n",
      "}\n"
     ]
    }
   ],
   "source": [
    "print(dot_data)\n",
    "# copy this to editor window on http://www.webgraphviz.com/ to create chart"
   ]
  },
  {
   "cell_type": "code",
   "execution_count": null,
   "metadata": {},
   "outputs": [],
   "source": []
  },
  {
   "cell_type": "markdown",
   "metadata": {},
   "source": [
    "# Variable Importance"
   ]
  },
  {
   "cell_type": "code",
   "execution_count": 97,
   "metadata": {},
   "outputs": [
    {
     "data": {
      "text/plain": [
       "DecisionTreeClassifier(max_depth=10, min_samples_leaf=1000, random_state=0)"
      ]
     },
     "execution_count": 97,
     "metadata": {},
     "output_type": "execute_result"
    }
   ],
   "source": [
    "clf = DecisionTreeClassifier(random_state=0, max_depth=10, min_samples_leaf = 1000)\n",
    "clf.fit(df_train[FINAL_FEATURES], df_train[TARGET])"
   ]
  },
  {
   "cell_type": "code",
   "execution_count": 98,
   "metadata": {},
   "outputs": [
    {
     "data": {
      "text/html": [
       "<div>\n",
       "<style scoped>\n",
       "    .dataframe tbody tr th:only-of-type {\n",
       "        vertical-align: middle;\n",
       "    }\n",
       "\n",
       "    .dataframe tbody tr th {\n",
       "        vertical-align: top;\n",
       "    }\n",
       "\n",
       "    .dataframe thead th {\n",
       "        text-align: right;\n",
       "    }\n",
       "</style>\n",
       "<table border=\"1\" class=\"dataframe\">\n",
       "  <thead>\n",
       "    <tr style=\"text-align: right;\">\n",
       "      <th></th>\n",
       "      <th>FEATURES</th>\n",
       "      <th>IMPORTANCE</th>\n",
       "    </tr>\n",
       "  </thead>\n",
       "  <tbody>\n",
       "    <tr>\n",
       "      <th>5</th>\n",
       "      <td>POS_AUG20_GM</td>\n",
       "      <td>0.746475</td>\n",
       "    </tr>\n",
       "    <tr>\n",
       "      <th>0</th>\n",
       "      <td>DP_PCT</td>\n",
       "      <td>0.128658</td>\n",
       "    </tr>\n",
       "    <tr>\n",
       "      <th>12</th>\n",
       "      <td>STANDARD_PRODUCT_CREDIT_TYPE</td>\n",
       "      <td>0.071886</td>\n",
       "    </tr>\n",
       "    <tr>\n",
       "      <th>1</th>\n",
       "      <td>POS_GSPN_V2</td>\n",
       "      <td>0.052982</td>\n",
       "    </tr>\n",
       "    <tr>\n",
       "      <th>24</th>\n",
       "      <td>ONL_POS_KA</td>\n",
       "      <td>0.000000</td>\n",
       "    </tr>\n",
       "    <tr>\n",
       "      <th>20</th>\n",
       "      <td>FOUND_DORMANT_PAYU_SEGMENT</td>\n",
       "      <td>0.000000</td>\n",
       "    </tr>\n",
       "    <tr>\n",
       "      <th>21</th>\n",
       "      <td>NOT_FOUND_PAYU_SEGMENT</td>\n",
       "      <td>0.000000</td>\n",
       "    </tr>\n",
       "    <tr>\n",
       "      <th>22</th>\n",
       "      <td>KA_POS_KA</td>\n",
       "      <td>0.000000</td>\n",
       "    </tr>\n",
       "    <tr>\n",
       "      <th>23</th>\n",
       "      <td>NKA_POS_KA</td>\n",
       "      <td>0.000000</td>\n",
       "    </tr>\n",
       "    <tr>\n",
       "      <th>25</th>\n",
       "      <td>Desirable_SEG_ID</td>\n",
       "      <td>0.000000</td>\n",
       "    </tr>\n",
       "    <tr>\n",
       "      <th>18</th>\n",
       "      <td>XNA_POS_TYPE</td>\n",
       "      <td>0.000000</td>\n",
       "    </tr>\n",
       "    <tr>\n",
       "      <th>26</th>\n",
       "      <td>Good to keeep_SEG_ID</td>\n",
       "      <td>0.000000</td>\n",
       "    </tr>\n",
       "    <tr>\n",
       "      <th>27</th>\n",
       "      <td>Undesirable_SEG_ID</td>\n",
       "      <td>0.000000</td>\n",
       "    </tr>\n",
       "    <tr>\n",
       "      <th>28</th>\n",
       "      <td>FOUND_VMM_FNF</td>\n",
       "      <td>0.000000</td>\n",
       "    </tr>\n",
       "    <tr>\n",
       "      <th>29</th>\n",
       "      <td>IN_PROGRESS_PENNY_FNF</td>\n",
       "      <td>0.000000</td>\n",
       "    </tr>\n",
       "    <tr>\n",
       "      <th>30</th>\n",
       "      <td>REJECTED_PENNY_FNF</td>\n",
       "      <td>0.000000</td>\n",
       "    </tr>\n",
       "    <tr>\n",
       "      <th>31</th>\n",
       "      <td>SUCCESS_PENNY_FNF</td>\n",
       "      <td>0.000000</td>\n",
       "    </tr>\n",
       "    <tr>\n",
       "      <th>19</th>\n",
       "      <td>FOUND_ACTIVE_PAYU_SEGMENT</td>\n",
       "      <td>0.000000</td>\n",
       "    </tr>\n",
       "    <tr>\n",
       "      <th>16</th>\n",
       "      <td>Satellite_POS_TYPE</td>\n",
       "      <td>0.000000</td>\n",
       "    </tr>\n",
       "    <tr>\n",
       "      <th>17</th>\n",
       "      <td>UDAAN_POS_TYPE</td>\n",
       "      <td>0.000000</td>\n",
       "    </tr>\n",
       "    <tr>\n",
       "      <th>15</th>\n",
       "      <td>Aldi_POS_TYPE</td>\n",
       "      <td>0.000000</td>\n",
       "    </tr>\n",
       "    <tr>\n",
       "      <th>14</th>\n",
       "      <td>AP_POS_TYPE</td>\n",
       "      <td>0.000000</td>\n",
       "    </tr>\n",
       "    <tr>\n",
       "      <th>13</th>\n",
       "      <td>ZERO_PRODUCT_CREDIT_TYPE</td>\n",
       "      <td>0.000000</td>\n",
       "    </tr>\n",
       "    <tr>\n",
       "      <th>11</th>\n",
       "      <td>2X0_PRODUCT_CREDIT_TYPE</td>\n",
       "      <td>0.000000</td>\n",
       "    </tr>\n",
       "    <tr>\n",
       "      <th>10</th>\n",
       "      <td>f_Furniture_PRODUCT_GOODS_TYPE</td>\n",
       "      <td>0.000000</td>\n",
       "    </tr>\n",
       "    <tr>\n",
       "      <th>9</th>\n",
       "      <td>e_HA_PRODUCT_GOODS_TYPE</td>\n",
       "      <td>0.000000</td>\n",
       "    </tr>\n",
       "    <tr>\n",
       "      <th>8</th>\n",
       "      <td>d_CP_PRODUCT_GOODS_TYPE</td>\n",
       "      <td>0.000000</td>\n",
       "    </tr>\n",
       "    <tr>\n",
       "      <th>7</th>\n",
       "      <td>c_Mob_Tab_PRODUCT_GOODS_TYPE</td>\n",
       "      <td>0.000000</td>\n",
       "    </tr>\n",
       "    <tr>\n",
       "      <th>6</th>\n",
       "      <td>a_TW_PRODUCT_GOODS_TYPE</td>\n",
       "      <td>0.000000</td>\n",
       "    </tr>\n",
       "    <tr>\n",
       "      <th>4</th>\n",
       "      <td>SCORE_CB</td>\n",
       "      <td>0.000000</td>\n",
       "    </tr>\n",
       "    <tr>\n",
       "      <th>3</th>\n",
       "      <td>ACC_TERM</td>\n",
       "      <td>0.000000</td>\n",
       "    </tr>\n",
       "    <tr>\n",
       "      <th>2</th>\n",
       "      <td>CLIENT_EMI</td>\n",
       "      <td>0.000000</td>\n",
       "    </tr>\n",
       "    <tr>\n",
       "      <th>32</th>\n",
       "      <td>FOUND_TP_FNF</td>\n",
       "      <td>0.000000</td>\n",
       "    </tr>\n",
       "  </tbody>\n",
       "</table>\n",
       "</div>"
      ],
      "text/plain": [
       "                          FEATURES  IMPORTANCE\n",
       "5                     POS_AUG20_GM    0.746475\n",
       "0                           DP_PCT    0.128658\n",
       "12    STANDARD_PRODUCT_CREDIT_TYPE    0.071886\n",
       "1                      POS_GSPN_V2    0.052982\n",
       "24                      ONL_POS_KA    0.000000\n",
       "20      FOUND_DORMANT_PAYU_SEGMENT    0.000000\n",
       "21          NOT_FOUND_PAYU_SEGMENT    0.000000\n",
       "22                       KA_POS_KA    0.000000\n",
       "23                      NKA_POS_KA    0.000000\n",
       "25                Desirable_SEG_ID    0.000000\n",
       "18                    XNA_POS_TYPE    0.000000\n",
       "26            Good to keeep_SEG_ID    0.000000\n",
       "27              Undesirable_SEG_ID    0.000000\n",
       "28                   FOUND_VMM_FNF    0.000000\n",
       "29           IN_PROGRESS_PENNY_FNF    0.000000\n",
       "30              REJECTED_PENNY_FNF    0.000000\n",
       "31               SUCCESS_PENNY_FNF    0.000000\n",
       "19       FOUND_ACTIVE_PAYU_SEGMENT    0.000000\n",
       "16              Satellite_POS_TYPE    0.000000\n",
       "17                  UDAAN_POS_TYPE    0.000000\n",
       "15                   Aldi_POS_TYPE    0.000000\n",
       "14                     AP_POS_TYPE    0.000000\n",
       "13        ZERO_PRODUCT_CREDIT_TYPE    0.000000\n",
       "11         2X0_PRODUCT_CREDIT_TYPE    0.000000\n",
       "10  f_Furniture_PRODUCT_GOODS_TYPE    0.000000\n",
       "9          e_HA_PRODUCT_GOODS_TYPE    0.000000\n",
       "8          d_CP_PRODUCT_GOODS_TYPE    0.000000\n",
       "7     c_Mob_Tab_PRODUCT_GOODS_TYPE    0.000000\n",
       "6          a_TW_PRODUCT_GOODS_TYPE    0.000000\n",
       "4                         SCORE_CB    0.000000\n",
       "3                         ACC_TERM    0.000000\n",
       "2                       CLIENT_EMI    0.000000\n",
       "32                    FOUND_TP_FNF    0.000000"
      ]
     },
     "execution_count": 98,
     "metadata": {},
     "output_type": "execute_result"
    }
   ],
   "source": [
    "pd.DataFrame({'FEATURES':FINAL_FEATURES, 'IMPORTANCE':clf.feature_importances_}).sort_values(by='IMPORTANCE', ascending=False)"
   ]
  },
  {
   "cell_type": "code",
   "execution_count": 99,
   "metadata": {},
   "outputs": [
    {
     "name": "stdout",
     "output_type": "stream",
     "text": [
      "Feature: 0, Score: 0.12866\n",
      "Feature: 1, Score: 0.05298\n",
      "Feature: 2, Score: 0.00000\n",
      "Feature: 3, Score: 0.00000\n",
      "Feature: 4, Score: 0.00000\n",
      "Feature: 5, Score: 0.74647\n",
      "Feature: 6, Score: 0.00000\n",
      "Feature: 7, Score: 0.00000\n",
      "Feature: 8, Score: 0.00000\n",
      "Feature: 9, Score: 0.00000\n",
      "Feature: 10, Score: 0.00000\n",
      "Feature: 11, Score: 0.00000\n",
      "Feature: 12, Score: 0.07189\n",
      "Feature: 13, Score: 0.00000\n",
      "Feature: 14, Score: 0.00000\n",
      "Feature: 15, Score: 0.00000\n",
      "Feature: 16, Score: 0.00000\n",
      "Feature: 17, Score: 0.00000\n",
      "Feature: 18, Score: 0.00000\n",
      "Feature: 19, Score: 0.00000\n",
      "Feature: 20, Score: 0.00000\n",
      "Feature: 21, Score: 0.00000\n",
      "Feature: 22, Score: 0.00000\n",
      "Feature: 23, Score: 0.00000\n",
      "Feature: 24, Score: 0.00000\n",
      "Feature: 25, Score: 0.00000\n",
      "Feature: 26, Score: 0.00000\n",
      "Feature: 27, Score: 0.00000\n",
      "Feature: 28, Score: 0.00000\n",
      "Feature: 29, Score: 0.00000\n",
      "Feature: 30, Score: 0.00000\n",
      "Feature: 31, Score: 0.00000\n",
      "Feature: 32, Score: 0.00000\n"
     ]
    },
    {
     "data": {
      "image/png": "[encoded data removed]",
      "text/plain": [
       "<Figure size 432x288 with 1 Axes>"
      ]
     },
     "metadata": {
      "needs_background": "light"
     },
     "output_type": "display_data"
    }
   ],
   "source": [
    "from matplotlib import pyplot\n",
    "# define dataset\n",
    "# get importance\n",
    "importance = clf.feature_importances_\n",
    "# summarize feature importance\n",
    "for i,v in enumerate(importance):\n",
    "    print('Feature: %0d, Score: %.5f' % (i,v))\n",
    "# plot feature importance\n",
    "pyplot.bar([x for x in range(len(importance))], importance)\n",
    "pyplot.show()"
   ]
  },
  {
   "cell_type": "code",
   "execution_count": null,
   "metadata": {},
   "outputs": [],
   "source": []
  },
  {
   "cell_type": "markdown",
   "metadata": {},
   "source": [
    "# Archieve"
   ]
  },
  {
   "cell_type": "markdown",
   "metadata": {},
   "source": [
    "# SQL Script"
   ]
  },
  {
   "cell_type": "code",
   "execution_count": 33,
   "metadata": {},
   "outputs": [],
   "source": [
    "from sklearn.tree import export_text"
   ]
  },
  {
   "cell_type": "code",
   "execution_count": 34,
   "metadata": {},
   "outputs": [
    {
     "ename": "SyntaxError",
     "evalue": "Missing parentheses in call to 'print'. Did you mean print(node)? (<ipython-input-34-104c216b393c>, line 30)",
     "output_type": "error",
     "traceback": [
      "\u001b[1;36m  File \u001b[1;32m\"<ipython-input-34-104c216b393c>\"\u001b[1;36m, line \u001b[1;32m30\u001b[0m\n\u001b[1;33m    print node\u001b[0m\n\u001b[1;37m             ^\u001b[0m\n\u001b[1;31mSyntaxError\u001b[0m\u001b[1;31m:\u001b[0m Missing parentheses in call to 'print'. Did you mean print(node)?\n"
     ]
    }
   ],
   "source": [
    "def get_lineage(tree, feature_names):\n",
    "     left      = tree.tree_.children_left\n",
    "     right     = tree.tree_.children_right\n",
    "     threshold = tree.tree_.threshold\n",
    "     features  = [feature_names[i] for i in tree.tree_.feature]\n",
    "\n",
    "     # get ids of child nodes\n",
    "     idx = np.argwhere(left == -1)[:,0]     \n",
    "\n",
    "     def recurse(left, right, child, lineage=None):          \n",
    "          if lineage is None:\n",
    "               lineage = [child]\n",
    "          if child in left:\n",
    "               parent = np.where(left == child)[0].item()\n",
    "               split = 'l'\n",
    "          else:\n",
    "               parent = np.where(right == child)[0].item()\n",
    "               split = 'r'\n",
    "\n",
    "          lineage.append((parent, split, threshold[parent], features[parent]))\n",
    "\n",
    "          if parent == 0:\n",
    "               lineage.reverse()\n",
    "               return lineage\n",
    "          else:\n",
    "               return recurse(left, right, parent, lineage)\n",
    "\n",
    "     for child in idx:\n",
    "          for node in recurse(left, right, child):\n",
    "               print node"
   ]
  },
  {
   "cell_type": "code",
   "execution_count": null,
   "metadata": {},
   "outputs": [],
   "source": [
    "def get_code(tree, feature_names, tabdepth=0):\n",
    "    left      = tree.tree_.children_left\n",
    "    right     = tree.tree_.children_right\n",
    "    threshold = tree.tree_.threshold\n",
    "    features  = [feature_names[i] for i in tree.tree_.feature]\n",
    "    value = tree.tree_.value\n",
    "#     print(\"AK\",left)\n",
    "#     print(\"AK\",right)\n",
    "#     print(\"AK\",threshold)\n",
    "#     print(\"AK\",features)\n",
    "#     print(\"AK\",value)\n",
    "    \n",
    "    \n",
    "\n",
    "    def recurse(left, right, threshold, features, node, tabdepth=0):\n",
    "            if (threshold[node] != -2):\n",
    "                    print('\\t' * tabdepth)\n",
    "                    print(\"if ( \" + features[node] + \" <= \" + str(threshold[node]) + \" ) {\")\n",
    "                    if left[node] != -1:\n",
    "                            recurse (left, right, threshold, features,left[node], tabdepth+1)\n",
    "                    print('\\t' * tabdepth)\n",
    "                    print (\"} else {\")\n",
    "                    if right[node] != -1:\n",
    "                            recurse (left, right, threshold, features,right[node], tabdepth+1)\n",
    "                    print ('\\t' * tabdepth)\n",
    "                    print (\"}\")\n",
    "            else:\n",
    "                    print ('\\t' * tabdepth)\n",
    "                    print (\"return \" + str(value[node]))\n",
    "\n",
    "    recurse(left, right, threshold, features, 0)"
   ]
  },
  {
   "cell_type": "code",
   "execution_count": 35,
   "metadata": {},
   "outputs": [
    {
     "data": {
      "text/plain": [
       "DecisionTreeClassifier(max_depth=2, min_samples_leaf=500, random_state=0)"
      ]
     },
     "execution_count": 35,
     "metadata": {},
     "output_type": "execute_result"
    }
   ],
   "source": [
    "clf = DecisionTreeClassifier(random_state=0, max_depth=2, min_samples_leaf = 500)\n",
    "clf.fit(df_train[FINAL_FEATURES], df_train[TARGET])"
   ]
  },
  {
   "cell_type": "code",
   "execution_count": 36,
   "metadata": {
    "scrolled": true
   },
   "outputs": [
    {
     "ename": "NameError",
     "evalue": "name 'get_code' is not defined",
     "output_type": "error",
     "traceback": [
      "\u001b[1;31m---------------------------------------------------------------------------\u001b[0m",
      "\u001b[1;31mNameError\u001b[0m                                 Traceback (most recent call last)",
      "\u001b[1;32m<ipython-input-36-3d5e86ca894f>\u001b[0m in \u001b[0;36m<module>\u001b[1;34m\u001b[0m\n\u001b[1;32m----> 1\u001b[1;33m \u001b[0mget_code\u001b[0m\u001b[1;33m(\u001b[0m\u001b[0mclf\u001b[0m\u001b[1;33m,\u001b[0m \u001b[0mFINAL_FEATURES\u001b[0m\u001b[1;33m)\u001b[0m\u001b[1;33m\u001b[0m\u001b[1;33m\u001b[0m\u001b[0m\n\u001b[0m",
      "\u001b[1;31mNameError\u001b[0m: name 'get_code' is not defined"
     ]
    }
   ],
   "source": [
    "get_code(clf, FINAL_FEATURES)"
   ]
  },
  {
   "cell_type": "code",
   "execution_count": null,
   "metadata": {},
   "outputs": [],
   "source": []
  },
  {
   "cell_type": "markdown",
   "metadata": {},
   "source": [
    "# MOM Gini"
   ]
  },
  {
   "cell_type": "code",
   "execution_count": 100,
   "metadata": {},
   "outputs": [
    {
     "name": "stdout",
     "output_type": "stream",
     "text": [
      "ERROR\n",
      "ERROR\n"
     ]
    }
   ],
   "source": [
    "gini_dic = {}\n",
    "predictor_list = []\n",
    "target_variable = TARGET\n",
    "df = df[df.FLAG_1PCT_PHANTOM == 1]\n",
    "for x in df[\"MONTH\"].unique():\n",
    "    try:\n",
    "        if \"MONTH\" not in gini_dic:\n",
    "            gini_dic[\"MONTH\"] = []\n",
    "        if \"GM\" not in gini_dic: \n",
    "            gini_dic[\"GM\"] = []\n",
    "        if \"RGS\" not in gini_dic: \n",
    "            gini_dic[\"RGS\"] = []\n",
    "        \n",
    "        gini_dic[\"GM\"].append((2*roc_auc_score(df[df[\"MONTH\"]==x][target_variable],df[df[\"MONTH\"]==x][SCORE])-1)*100)\n",
    "        gini_dic[\"RGS\"].append((2*roc_auc_score(df[df[\"MONTH\"]==x][target_variable],df[df[\"MONTH\"]==x][\"PRED_PROB\"])-1)*100)\n",
    "        gini_dic[\"MONTH\"].append(x)\n",
    "    except: \n",
    "        print(\"ERROR\")\n",
    "\n",
    "gini_df = pd.DataFrame(gini_dic)\n",
    "gini_df.sort_values(by = \"MONTH\",inplace = True)\n",
    "gini_df.reset_index(inplace = True)"
   ]
  },
  {
   "cell_type": "code",
   "execution_count": 102,
   "metadata": {},
   "outputs": [
    {
     "data": {
      "image/png": "[encoded data removed]",
      "text/plain": [
       "<Figure size 720x360 with 1 Axes>"
      ]
     },
     "metadata": {
      "needs_background": "light"
     },
     "output_type": "display_data"
    }
   ],
   "source": [
    "import matplotlib.pyplot as plt\n",
    "fig = plt.figure(figsize = (10,5))\n",
    "ax1 = fig.add_subplot(1, 1, 1)\n",
    "ax1.plot(gini_df[\"MONTH\"],gini_df[\"GM\"], marker='o', scaley = False, label = \"GM\")\n",
    "ax1.plot(gini_df[\"MONTH\"],gini_df[\"RGS\"], marker='o', scaley = False, label = \"RGS\")\n",
    "# ax1.plot(gini_df[\"MONTH_STR\"],gini_df[combined_score_only_fnf_flag], marker='o', scaley = False, label = combined_score_only_fnf_flag)\n",
    "# for y in predictor_list:\n",
    "#     ax1.plot(gini_df[\"MONTH_STR\"],gini_df[y], marker='o', scaley = False, label = y)\n",
    "\n",
    "\n",
    "for i, txt in enumerate(gini_df[\"GM\"]):\n",
    "    plt.annotate(\"{:.1f}\".format(txt), (gini_df[\"MONTH\"][i], gini_df[\"GM\"][i]-0.8))\n",
    "for i, txt in enumerate(gini_df[\"RGS\"]):\n",
    "    plt.annotate(\"{:.1f}\".format(txt), (gini_df[\"MONTH\"][i], gini_df[\"RGS\"][i]+1.2))\n",
    "    \n",
    "# for i, txt in enumerate(gini_df[combined_score_only_fnf_flag]):\n",
    "#     plt.annotate(\"{:.1f}\".format(txt), (gini_df[\"MONTH_STR\"][i], gini_df[combined_score_only_fnf_flag][i]+1.6))\n",
    "\n",
    "# for y in predictor_list:\n",
    "#     for i, txt in enumerate(gini_df[y]):\n",
    "#         plt.annotate(\"{:.1f}\".format(txt), (gini_df[\"MONTH_STR\"][i], gini_df[y][i]+1))\n",
    "\n",
    "    \n",
    "plt.legend(loc='lower right', borderaxespad=0.1)\n",
    "plt.ylim(0,40)\n",
    "plt.ylabel(\"GINI\")\n",
    "plt.xlabel(\"MONTH\")\n",
    "plt.yticks(np.arange(0,50,2))\n",
    "ax1.set_title(\"MOM Gini (Approved) With Risk Predictors:\")\n",
    "plt.show()"
   ]
  },
  {
   "cell_type": "markdown",
   "metadata": {},
   "source": [
    "# DOD Gini"
   ]
  },
  {
   "cell_type": "code",
   "execution_count": 103,
   "metadata": {},
   "outputs": [
    {
     "data": {
      "text/html": [
       "<div>\n",
       "<style scoped>\n",
       "    .dataframe tbody tr th:only-of-type {\n",
       "        vertical-align: middle;\n",
       "    }\n",
       "\n",
       "    .dataframe tbody tr th {\n",
       "        vertical-align: top;\n",
       "    }\n",
       "\n",
       "    .dataframe thead th {\n",
       "        text-align: right;\n",
       "    }\n",
       "</style>\n",
       "<table border=\"1\" class=\"dataframe\">\n",
       "  <thead>\n",
       "    <tr style=\"text-align: right;\">\n",
       "      <th></th>\n",
       "      <th>index</th>\n",
       "      <th>MONTH</th>\n",
       "      <th>GM</th>\n",
       "      <th>RGS</th>\n",
       "    </tr>\n",
       "  </thead>\n",
       "  <tbody>\n",
       "    <tr>\n",
       "      <th>0</th>\n",
       "      <td>0</td>\n",
       "      <td>20-06</td>\n",
       "      <td>16.313299</td>\n",
       "      <td>23.708025</td>\n",
       "    </tr>\n",
       "    <tr>\n",
       "      <th>1</th>\n",
       "      <td>1</td>\n",
       "      <td>20-07</td>\n",
       "      <td>35.280213</td>\n",
       "      <td>38.604420</td>\n",
       "    </tr>\n",
       "    <tr>\n",
       "      <th>2</th>\n",
       "      <td>2</td>\n",
       "      <td>20-08</td>\n",
       "      <td>34.523422</td>\n",
       "      <td>33.266916</td>\n",
       "    </tr>\n",
       "    <tr>\n",
       "      <th>3</th>\n",
       "      <td>3</td>\n",
       "      <td>20-09</td>\n",
       "      <td>34.590568</td>\n",
       "      <td>45.577151</td>\n",
       "    </tr>\n",
       "    <tr>\n",
       "      <th>4</th>\n",
       "      <td>4</td>\n",
       "      <td>20-10</td>\n",
       "      <td>41.767441</td>\n",
       "      <td>41.281381</td>\n",
       "    </tr>\n",
       "    <tr>\n",
       "      <th>5</th>\n",
       "      <td>5</td>\n",
       "      <td>20-11</td>\n",
       "      <td>47.030602</td>\n",
       "      <td>42.516898</td>\n",
       "    </tr>\n",
       "  </tbody>\n",
       "</table>\n",
       "</div>"
      ],
      "text/plain": [
       "   index  MONTH         GM        RGS\n",
       "0      0  20-06  16.313299  23.708025\n",
       "1      1  20-07  35.280213  38.604420\n",
       "2      2  20-08  34.523422  33.266916\n",
       "3      3  20-09  34.590568  45.577151\n",
       "4      4  20-10  41.767441  41.281381\n",
       "5      5  20-11  47.030602  42.516898"
      ]
     },
     "execution_count": 103,
     "metadata": {},
     "output_type": "execute_result"
    }
   ],
   "source": [
    "gini_df"
   ]
  },
  {
   "cell_type": "code",
   "execution_count": 72,
   "metadata": {},
   "outputs": [
    {
     "name": "stdout",
     "output_type": "stream",
     "text": [
      "ERROR\n",
      "ERROR\n",
      "ERROR\n",
      "ERROR\n",
      "ERROR\n",
      "ERROR\n",
      "ERROR\n",
      "ERROR\n",
      "ERROR\n",
      "ERROR\n",
      "ERROR\n",
      "ERROR\n",
      "ERROR\n",
      "ERROR\n",
      "ERROR\n",
      "ERROR\n",
      "ERROR\n",
      "ERROR\n",
      "ERROR\n",
      "ERROR\n",
      "ERROR\n",
      "ERROR\n",
      "ERROR\n",
      "ERROR\n",
      "ERROR\n",
      "ERROR\n",
      "ERROR\n",
      "ERROR\n",
      "ERROR\n",
      "ERROR\n",
      "ERROR\n",
      "ERROR\n",
      "ERROR\n",
      "ERROR\n",
      "ERROR\n",
      "ERROR\n",
      "ERROR\n",
      "ERROR\n",
      "ERROR\n",
      "ERROR\n",
      "ERROR\n",
      "ERROR\n",
      "ERROR\n",
      "ERROR\n",
      "ERROR\n",
      "ERROR\n",
      "ERROR\n",
      "ERROR\n",
      "ERROR\n",
      "ERROR\n",
      "ERROR\n",
      "ERROR\n",
      "ERROR\n",
      "ERROR\n",
      "ERROR\n",
      "ERROR\n",
      "ERROR\n",
      "ERROR\n",
      "ERROR\n",
      "ERROR\n"
     ]
    }
   ],
   "source": [
    "gini_dic = {}\n",
    "predictor_list = []\n",
    "target_variable = TARGET\n",
    "for x in df[\"TIME_CREATION_DATE\"].unique():\n",
    "    try:\n",
    "        if \"TIME_CREATION_DATE\" not in gini_dic:\n",
    "            gini_dic[\"TIME_CREATION_DATE\"] = []\n",
    "        if \"GM\" not in gini_dic: \n",
    "            gini_dic[\"GM\"] = []\n",
    "        if \"RGS\" not in gini_dic: \n",
    "            gini_dic[\"RGS\"] = []\n",
    "        \n",
    "        gini_dic[\"GM\"].append((2*roc_auc_score(df[df[\"TIME_CREATION_DATE\"]==x][target_variable],df[df[\"TIME_CREATION_DATE\"]==x][SCORE])-1)*100)\n",
    "        gini_dic[\"RGS\"].append((2*roc_auc_score(df[df[\"TIME_CREATION_DATE\"]==x][target_variable],df[df[\"TIME_CREATION_DATE\"]==x][\"PRED_PROB\"])-1)*100)\n",
    "        gini_dic[\"TIME_CREATION_DATE\"].append(x)\n",
    "    except: \n",
    "        print(\"ERROR\")\n",
    "\n",
    "gini_df = pd.DataFrame(gini_dic)\n",
    "gini_df.sort_values(by = \"TIME_CREATION_DATE\",inplace = True)\n",
    "gini_df.reset_index(inplace = True)"
   ]
  },
  {
   "cell_type": "code",
   "execution_count": 74,
   "metadata": {},
   "outputs": [
    {
     "data": {
      "image/png": "[encoded data removed]",
      "text/plain": [
       "<Figure size 720x360 with 1 Axes>"
      ]
     },
     "metadata": {
      "needs_background": "light"
     },
     "output_type": "display_data"
    }
   ],
   "source": [
    "import matplotlib.pyplot as plt\n",
    "fig = plt.figure(figsize = (10,5))\n",
    "ax1 = fig.add_subplot(1, 1, 1)\n",
    "ax1.plot(gini_df[\"TIME_CREATION_DATE\"],gini_df[\"GM\"], marker='o', scaley = False, label = \"GM\")\n",
    "ax1.plot(gini_df[\"TIME_CREATION_DATE\"],gini_df[\"RGS\"], marker='o', scaley = False, label = \"RGS\")\n",
    "# ax1.plot(gini_df[\"MONTH_STR\"],gini_df[combined_score_only_fnf_flag], marker='o', scaley = False, label = combined_score_only_fnf_flag)\n",
    "# for y in predictor_list:\n",
    "#     ax1.plot(gini_df[\"MONTH_STR\"],gini_df[y], marker='o', scaley = False, label = y)\n",
    "\n",
    "\n",
    "for i, txt in enumerate(gini_df[\"GM\"]):\n",
    "    plt.annotate(\"{:.1f}\".format(txt), (gini_df[\"TIME_CREATION_DATE\"][i], gini_df[\"GM\"][i]-0.8))\n",
    "for i, txt in enumerate(gini_df[\"RGS\"]):\n",
    "    plt.annotate(\"{:.1f}\".format(txt), (gini_df[\"TIME_CREATION_DATE\"][i], gini_df[\"RGS\"][i]+1.2))\n",
    "    \n",
    "# for i, txt in enumerate(gini_df[combined_score_only_fnf_flag]):\n",
    "#     plt.annotate(\"{:.1f}\".format(txt), (gini_df[\"MONTH_STR\"][i], gini_df[combined_score_only_fnf_flag][i]+1.6))\n",
    "\n",
    "# for y in predictor_list:\n",
    "#     for i, txt in enumerate(gini_df[y]):\n",
    "#         plt.annotate(\"{:.1f}\".format(txt), (gini_df[\"MONTH_STR\"][i], gini_df[y][i]+1))\n",
    "\n",
    "    \n",
    "plt.legend(loc='lower right', borderaxespad=0.1)\n",
    "plt.ylim(0,40)\n",
    "plt.ylabel(\"GINI\")\n",
    "plt.xlabel(\"TIME_CREATION_DATE\")\n",
    "plt.yticks(np.arange(0,40,2))\n",
    "ax1.set_title(\"MOM Gini (Approved) With Risk Predictors:\")\n",
    "plt.show()"
   ]
  },
  {
   "cell_type": "code",
   "execution_count": null,
   "metadata": {},
   "outputs": [],
   "source": []
  }
 ],
 "metadata": {
  "kernelspec": {
   "display_name": "Python 3",
   "language": "python",
   "name": "python3"
  },
  "language_info": {
   "codemirror_mode": {
    "name": "ipython",
    "version": 3
   },
   "file_extension": ".py",
   "mimetype": "text/x-python",
   "name": "python",
   "nbconvert_exporter": "python",
   "pygments_lexer": "ipython3",
   "version": "3.7.3"
  }
 },
 "nbformat": 4,
 "nbformat_minor": 2
}
