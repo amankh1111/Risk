{
 "cells": [
  {
   "cell_type": "code",
   "execution_count": 1,
   "metadata": {},
   "outputs": [],
   "source": [
    "import pandas as pd\n",
    "import numpy as np\n",
    "from sklearn.metrics import roc_auc_score\n",
    "import os"
   ]
  },
  {
   "cell_type": "code",
   "execution_count": 4,
   "metadata": {},
   "outputs": [],
   "source": [
    "os.chdir(r\"C:\\Users\\aman.khatri91425\\Desktop\\HomeCredit\\UW\\Udaan POS Analysis\")"
   ]
  },
  {
   "cell_type": "code",
   "execution_count": 5,
   "metadata": {},
   "outputs": [],
   "source": [
    "df = pd.read_csv(os.getcwd()+ r\"\\Data Files\\loan_performance_udaan.csv\")"
   ]
  },
  {
   "cell_type": "code",
   "execution_count": 6,
   "metadata": {},
   "outputs": [
    {
     "data": {
      "text/html": [
       "<div>\n",
       "<style scoped>\n",
       "    .dataframe tbody tr th:only-of-type {\n",
       "        vertical-align: middle;\n",
       "    }\n",
       "\n",
       "    .dataframe tbody tr th {\n",
       "        vertical-align: top;\n",
       "    }\n",
       "\n",
       "    .dataframe thead th {\n",
       "        text-align: right;\n",
       "    }\n",
       "</style>\n",
       "<table border=\"1\" class=\"dataframe\">\n",
       "  <thead>\n",
       "    <tr style=\"text-align: right;\">\n",
       "      <th></th>\n",
       "      <th>SKP_CREDIT_CASE</th>\n",
       "      <th>POS_TYPE</th>\n",
       "      <th>TIME_CREATION_DATE</th>\n",
       "      <th>RISK_FPD10</th>\n",
       "      <th>RISK_AGRF10</th>\n",
       "      <th>RISK_FPD30</th>\n",
       "      <th>RISK_AGRF30</th>\n",
       "      <th>RISK_FSPD30</th>\n",
       "      <th>RISK_AGRF60</th>\n",
       "      <th>RISK_FSTPD30</th>\n",
       "      <th>...</th>\n",
       "      <th>RISK_FSTQPD30</th>\n",
       "      <th>RISK_AGRF120</th>\n",
       "      <th>RISK_FSTQPD60</th>\n",
       "      <th>RISK_AGRF150</th>\n",
       "      <th>POS_AUG20_GM</th>\n",
       "      <th>POS_AUG20_GM_WO_PRODUCT</th>\n",
       "      <th>SCORE_APSC_NOV18</th>\n",
       "      <th>CLIENT_EXI_3M</th>\n",
       "      <th>FLAG_1PCT_PHANTOM</th>\n",
       "      <th>NTC_FLAG</th>\n",
       "    </tr>\n",
       "  </thead>\n",
       "  <tbody>\n",
       "    <tr>\n",
       "      <th>0</th>\n",
       "      <td>318014362</td>\n",
       "      <td>UDAAN</td>\n",
       "      <td>07-09-20</td>\n",
       "      <td>0</td>\n",
       "      <td>1</td>\n",
       "      <td>0</td>\n",
       "      <td>1</td>\n",
       "      <td>0</td>\n",
       "      <td>1</td>\n",
       "      <td>0</td>\n",
       "      <td>...</td>\n",
       "      <td>0</td>\n",
       "      <td>0</td>\n",
       "      <td>0</td>\n",
       "      <td>0</td>\n",
       "      <td>NaN</td>\n",
       "      <td>NaN</td>\n",
       "      <td>0.007830</td>\n",
       "      <td>N</td>\n",
       "      <td>0</td>\n",
       "      <td>NTC</td>\n",
       "    </tr>\n",
       "    <tr>\n",
       "      <th>1</th>\n",
       "      <td>318037792</td>\n",
       "      <td>UDAAN</td>\n",
       "      <td>07-09-20</td>\n",
       "      <td>0</td>\n",
       "      <td>1</td>\n",
       "      <td>0</td>\n",
       "      <td>1</td>\n",
       "      <td>0</td>\n",
       "      <td>1</td>\n",
       "      <td>0</td>\n",
       "      <td>...</td>\n",
       "      <td>0</td>\n",
       "      <td>0</td>\n",
       "      <td>0</td>\n",
       "      <td>0</td>\n",
       "      <td>NaN</td>\n",
       "      <td>NaN</td>\n",
       "      <td>0.009900</td>\n",
       "      <td>N</td>\n",
       "      <td>0</td>\n",
       "      <td>Others</td>\n",
       "    </tr>\n",
       "    <tr>\n",
       "      <th>2</th>\n",
       "      <td>318033501</td>\n",
       "      <td>UDAAN</td>\n",
       "      <td>07-09-20</td>\n",
       "      <td>0</td>\n",
       "      <td>1</td>\n",
       "      <td>0</td>\n",
       "      <td>1</td>\n",
       "      <td>0</td>\n",
       "      <td>1</td>\n",
       "      <td>0</td>\n",
       "      <td>...</td>\n",
       "      <td>0</td>\n",
       "      <td>0</td>\n",
       "      <td>0</td>\n",
       "      <td>0</td>\n",
       "      <td>NaN</td>\n",
       "      <td>NaN</td>\n",
       "      <td>0.004361</td>\n",
       "      <td>N</td>\n",
       "      <td>0</td>\n",
       "      <td>NTC</td>\n",
       "    </tr>\n",
       "    <tr>\n",
       "      <th>3</th>\n",
       "      <td>318031713</td>\n",
       "      <td>UDAAN</td>\n",
       "      <td>07-09-20</td>\n",
       "      <td>0</td>\n",
       "      <td>1</td>\n",
       "      <td>0</td>\n",
       "      <td>1</td>\n",
       "      <td>0</td>\n",
       "      <td>1</td>\n",
       "      <td>0</td>\n",
       "      <td>...</td>\n",
       "      <td>0</td>\n",
       "      <td>0</td>\n",
       "      <td>0</td>\n",
       "      <td>0</td>\n",
       "      <td>NaN</td>\n",
       "      <td>NaN</td>\n",
       "      <td>0.008086</td>\n",
       "      <td>N</td>\n",
       "      <td>0</td>\n",
       "      <td>NTC</td>\n",
       "    </tr>\n",
       "    <tr>\n",
       "      <th>4</th>\n",
       "      <td>318031874</td>\n",
       "      <td>UDAAN</td>\n",
       "      <td>07-09-20</td>\n",
       "      <td>0</td>\n",
       "      <td>1</td>\n",
       "      <td>0</td>\n",
       "      <td>1</td>\n",
       "      <td>0</td>\n",
       "      <td>1</td>\n",
       "      <td>0</td>\n",
       "      <td>...</td>\n",
       "      <td>0</td>\n",
       "      <td>0</td>\n",
       "      <td>0</td>\n",
       "      <td>0</td>\n",
       "      <td>NaN</td>\n",
       "      <td>NaN</td>\n",
       "      <td>0.009065</td>\n",
       "      <td>N</td>\n",
       "      <td>0</td>\n",
       "      <td>NTC</td>\n",
       "    </tr>\n",
       "  </tbody>\n",
       "</table>\n",
       "<p>5 rows × 21 columns</p>\n",
       "</div>"
      ],
      "text/plain": [
       "   SKP_CREDIT_CASE POS_TYPE TIME_CREATION_DATE  RISK_FPD10  RISK_AGRF10  \\\n",
       "0        318014362    UDAAN           07-09-20           0            1   \n",
       "1        318037792    UDAAN           07-09-20           0            1   \n",
       "2        318033501    UDAAN           07-09-20           0            1   \n",
       "3        318031713    UDAAN           07-09-20           0            1   \n",
       "4        318031874    UDAAN           07-09-20           0            1   \n",
       "\n",
       "   RISK_FPD30  RISK_AGRF30  RISK_FSPD30  RISK_AGRF60  RISK_FSTPD30  ...  \\\n",
       "0           0            1            0            1             0  ...   \n",
       "1           0            1            0            1             0  ...   \n",
       "2           0            1            0            1             0  ...   \n",
       "3           0            1            0            1             0  ...   \n",
       "4           0            1            0            1             0  ...   \n",
       "\n",
       "   RISK_FSTQPD30  RISK_AGRF120  RISK_FSTQPD60  RISK_AGRF150  POS_AUG20_GM  \\\n",
       "0              0             0              0             0           NaN   \n",
       "1              0             0              0             0           NaN   \n",
       "2              0             0              0             0           NaN   \n",
       "3              0             0              0             0           NaN   \n",
       "4              0             0              0             0           NaN   \n",
       "\n",
       "   POS_AUG20_GM_WO_PRODUCT  SCORE_APSC_NOV18  CLIENT_EXI_3M FLAG_1PCT_PHANTOM  \\\n",
       "0                      NaN          0.007830              N                 0   \n",
       "1                      NaN          0.009900              N                 0   \n",
       "2                      NaN          0.004361              N                 0   \n",
       "3                      NaN          0.008086              N                 0   \n",
       "4                      NaN          0.009065              N                 0   \n",
       "\n",
       "   NTC_FLAG  \n",
       "0       NTC  \n",
       "1    Others  \n",
       "2       NTC  \n",
       "3       NTC  \n",
       "4       NTC  \n",
       "\n",
       "[5 rows x 21 columns]"
      ]
     },
     "execution_count": 6,
     "metadata": {},
     "output_type": "execute_result"
    }
   ],
   "source": [
    "df.head()"
   ]
  },
  {
   "cell_type": "code",
   "execution_count": 26,
   "metadata": {},
   "outputs": [
    {
     "data": {
      "text/plain": [
       "2020-09    1503\n",
       "2020-10    2540\n",
       "2020-11    4076\n",
       "2020-12    2568\n",
       "Name: MONTH, dtype: int64"
      ]
     },
     "execution_count": 26,
     "metadata": {},
     "output_type": "execute_result"
    }
   ],
   "source": [
    "df[\"TIME_CREATION_DATE\"] = pd.to_datetime(df[\"TIME_CREATION_DATE\"],format = '%d-%m-%y')\n",
    "df[\"MONTH\"] = df[\"TIME_CREATION_DATE\"].dt.strftime('%Y-%m')\n",
    "df[\"MONTH\"].value_counts().sort_index()"
   ]
  },
  {
   "cell_type": "code",
   "execution_count": null,
   "metadata": {},
   "outputs": [],
   "source": []
  },
  {
   "cell_type": "markdown",
   "metadata": {},
   "source": [
    "# Gini: FPD30 Rate"
   ]
  },
  {
   "cell_type": "code",
   "execution_count": 20,
   "metadata": {},
   "outputs": [
    {
     "name": "stdout",
     "output_type": "stream",
     "text": [
      "Score : POS_AUG20_GM \t\tObservables : 2652 \t\tGini : 0.07304642225340086\n",
      "Score : POS_AUG20_GM_WO_PRODUCT \t\tObservables : 2525 \t\tGini : 0.057659606846768074\n",
      "Score : SCORE_APSC_NOV18 \t\tObservables : 3047 \t\tGini : 0.06617914418034987\n"
     ]
    },
    {
     "name": "stderr",
     "output_type": "stream",
     "text": [
      "C:\\Users\\aman.khatri91425\\AppData\\Local\\Continuum\\anaconda3\\lib\\site-packages\\ipykernel_launcher.py:2: UserWarning: Boolean Series key will be reindexed to match DataFrame index.\n",
      "  \n",
      "C:\\Users\\aman.khatri91425\\AppData\\Local\\Continuum\\anaconda3\\lib\\site-packages\\ipykernel_launcher.py:6: UserWarning: Boolean Series key will be reindexed to match DataFrame index.\n",
      "  \n"
     ]
    }
   ],
   "source": [
    "score = 'POS_AUG20_GM'\n",
    "df_temp = df.dropna(subset = [score])[df[\"RISK_AGRF30\"]==1]\n",
    "print(\"Score :\", score, \"\\t\\tObservables :\", len(df_temp), \"\\t\\tGini :\", 2*roc_auc_score(df_temp[\"RISK_FPD30\"],df_temp[score])-1)\n",
    "\n",
    "score = 'POS_AUG20_GM_WO_PRODUCT'\n",
    "df_temp = df.dropna(subset = [score])[df[\"RISK_AGRF30\"]==1]\n",
    "print(\"Score :\", score, \"\\t\\tObservables :\", len(df_temp), \"\\t\\tGini :\", 2*roc_auc_score(df_temp[\"RISK_FPD30\"],df_temp[score])-1)\n",
    "\n",
    "score = 'SCORE_APSC_NOV18'\n",
    "df_temp = df.dropna(subset = [score])[df[\"RISK_AGRF30\"]==1]\n",
    "print(\"Score :\", score, \"\\t\\tObservables :\", len(df_temp), \"\\t\\tGini :\", 2*roc_auc_score(df_temp[\"RISK_FPD30\"],df_temp[score])-1)\n"
   ]
  },
  {
   "cell_type": "code",
   "execution_count": null,
   "metadata": {},
   "outputs": [],
   "source": []
  },
  {
   "cell_type": "markdown",
   "metadata": {},
   "source": [
    "# Pentile wise FPD30 rate"
   ]
  },
  {
   "cell_type": "code",
   "execution_count": 33,
   "metadata": {},
   "outputs": [
    {
     "name": "stdout",
     "output_type": "stream",
     "text": [
      "POS_AUG20_GM\n"
     ]
    },
    {
     "name": "stderr",
     "output_type": "stream",
     "text": [
      "C:\\Users\\aman.khatri91425\\AppData\\Local\\Continuum\\anaconda3\\lib\\site-packages\\ipykernel_launcher.py:2: UserWarning: Boolean Series key will be reindexed to match DataFrame index.\n",
      "  \n"
     ]
    },
    {
     "data": {
      "text/html": [
       "<div>\n",
       "<style scoped>\n",
       "    .dataframe tbody tr th:only-of-type {\n",
       "        vertical-align: middle;\n",
       "    }\n",
       "\n",
       "    .dataframe tbody tr th {\n",
       "        vertical-align: top;\n",
       "    }\n",
       "\n",
       "    .dataframe thead th {\n",
       "        text-align: right;\n",
       "    }\n",
       "</style>\n",
       "<table border=\"1\" class=\"dataframe\">\n",
       "  <thead>\n",
       "    <tr style=\"text-align: right;\">\n",
       "      <th></th>\n",
       "      <th>Total_Case</th>\n",
       "      <th>FPD30_Delinq</th>\n",
       "      <th>FPD30_Rate</th>\n",
       "    </tr>\n",
       "    <tr>\n",
       "      <th>SCORE_BIN</th>\n",
       "      <th></th>\n",
       "      <th></th>\n",
       "      <th></th>\n",
       "    </tr>\n",
       "  </thead>\n",
       "  <tbody>\n",
       "    <tr>\n",
       "      <th>(-9.999999999999159e-07, 0.0105]</th>\n",
       "      <td>531</td>\n",
       "      <td>27</td>\n",
       "      <td>0.050847</td>\n",
       "    </tr>\n",
       "    <tr>\n",
       "      <th>(0.0105, 0.0151]</th>\n",
       "      <td>530</td>\n",
       "      <td>20</td>\n",
       "      <td>0.037736</td>\n",
       "    </tr>\n",
       "    <tr>\n",
       "      <th>(0.0151, 0.0201]</th>\n",
       "      <td>530</td>\n",
       "      <td>14</td>\n",
       "      <td>0.026415</td>\n",
       "    </tr>\n",
       "    <tr>\n",
       "      <th>(0.0201, 0.0267]</th>\n",
       "      <td>530</td>\n",
       "      <td>37</td>\n",
       "      <td>0.069811</td>\n",
       "    </tr>\n",
       "    <tr>\n",
       "      <th>(0.0267, 0.123]</th>\n",
       "      <td>531</td>\n",
       "      <td>32</td>\n",
       "      <td>0.060264</td>\n",
       "    </tr>\n",
       "  </tbody>\n",
       "</table>\n",
       "</div>"
      ],
      "text/plain": [
       "                                  Total_Case  FPD30_Delinq  FPD30_Rate\n",
       "SCORE_BIN                                                             \n",
       "(-9.999999999999159e-07, 0.0105]         531            27    0.050847\n",
       "(0.0105, 0.0151]                         530            20    0.037736\n",
       "(0.0151, 0.0201]                         530            14    0.026415\n",
       "(0.0201, 0.0267]                         530            37    0.069811\n",
       "(0.0267, 0.123]                          531            32    0.060264"
      ]
     },
     "execution_count": 33,
     "metadata": {},
     "output_type": "execute_result"
    }
   ],
   "source": [
    "score = 'POS_AUG20_GM'\n",
    "df_temp = df.dropna(subset = [score])[df[\"RISK_AGRF30\"]==1]\n",
    "df_temp[\"SCORE_BIN\"] = pd.qcut(df_temp[score],q=5, precision = 3)\n",
    "df_temp.head()\n",
    "print(score)\n",
    "df_temp.groupby(\"SCORE_BIN\")[\"RISK_FPD30\"].agg(['count','sum','mean']).rename(columns={'count':'Total_Case',\n",
    "                                                                                                      'sum':'FPD30_Delinq',\n",
    "                                                                                                      'mean':'FPD30_Rate'})"
   ]
  },
  {
   "cell_type": "code",
   "execution_count": 34,
   "metadata": {},
   "outputs": [
    {
     "name": "stdout",
     "output_type": "stream",
     "text": [
      "POS_AUG20_GM_WO_PRODUCT\n"
     ]
    },
    {
     "name": "stderr",
     "output_type": "stream",
     "text": [
      "C:\\Users\\aman.khatri91425\\AppData\\Local\\Continuum\\anaconda3\\lib\\site-packages\\ipykernel_launcher.py:2: UserWarning: Boolean Series key will be reindexed to match DataFrame index.\n",
      "  \n"
     ]
    },
    {
     "data": {
      "text/html": [
       "<div>\n",
       "<style scoped>\n",
       "    .dataframe tbody tr th:only-of-type {\n",
       "        vertical-align: middle;\n",
       "    }\n",
       "\n",
       "    .dataframe tbody tr th {\n",
       "        vertical-align: top;\n",
       "    }\n",
       "\n",
       "    .dataframe thead th {\n",
       "        text-align: right;\n",
       "    }\n",
       "</style>\n",
       "<table border=\"1\" class=\"dataframe\">\n",
       "  <thead>\n",
       "    <tr style=\"text-align: right;\">\n",
       "      <th></th>\n",
       "      <th>Total_Case</th>\n",
       "      <th>FPD30_Delinq</th>\n",
       "      <th>FPD30_Rate</th>\n",
       "    </tr>\n",
       "    <tr>\n",
       "      <th>SCORE_BIN</th>\n",
       "      <th></th>\n",
       "      <th></th>\n",
       "      <th></th>\n",
       "    </tr>\n",
       "  </thead>\n",
       "  <tbody>\n",
       "    <tr>\n",
       "      <th>(0.00025, 0.0138]</th>\n",
       "      <td>507</td>\n",
       "      <td>29</td>\n",
       "      <td>0.057199</td>\n",
       "    </tr>\n",
       "    <tr>\n",
       "      <th>(0.0138, 0.0199]</th>\n",
       "      <td>503</td>\n",
       "      <td>17</td>\n",
       "      <td>0.033797</td>\n",
       "    </tr>\n",
       "    <tr>\n",
       "      <th>(0.0199, 0.0268]</th>\n",
       "      <td>506</td>\n",
       "      <td>22</td>\n",
       "      <td>0.043478</td>\n",
       "    </tr>\n",
       "    <tr>\n",
       "      <th>(0.0268, 0.0358]</th>\n",
       "      <td>504</td>\n",
       "      <td>27</td>\n",
       "      <td>0.053571</td>\n",
       "    </tr>\n",
       "    <tr>\n",
       "      <th>(0.0358, 0.153]</th>\n",
       "      <td>505</td>\n",
       "      <td>31</td>\n",
       "      <td>0.061386</td>\n",
       "    </tr>\n",
       "  </tbody>\n",
       "</table>\n",
       "</div>"
      ],
      "text/plain": [
       "                   Total_Case  FPD30_Delinq  FPD30_Rate\n",
       "SCORE_BIN                                              \n",
       "(0.00025, 0.0138]         507            29    0.057199\n",
       "(0.0138, 0.0199]          503            17    0.033797\n",
       "(0.0199, 0.0268]          506            22    0.043478\n",
       "(0.0268, 0.0358]          504            27    0.053571\n",
       "(0.0358, 0.153]           505            31    0.061386"
      ]
     },
     "execution_count": 34,
     "metadata": {},
     "output_type": "execute_result"
    }
   ],
   "source": [
    "score = 'POS_AUG20_GM_WO_PRODUCT'\n",
    "df_temp = df.dropna(subset = [score])[df[\"RISK_AGRF30\"]==1]\n",
    "df_temp[\"SCORE_BIN\"] = pd.qcut(df_temp[score],q=5, precision = 3)\n",
    "df_temp.head()\n",
    "print(score)\n",
    "df_temp.groupby(\"SCORE_BIN\")[\"RISK_FPD30\"].agg(['count','sum','mean']).rename(columns={'count':'Total_Case',\n",
    "                                                                                                      'sum':'FPD30_Delinq',\n",
    "                                                                                                      'mean':'FPD30_Rate'})"
   ]
  },
  {
   "cell_type": "code",
   "execution_count": 35,
   "metadata": {},
   "outputs": [
    {
     "name": "stdout",
     "output_type": "stream",
     "text": [
      "SCORE_APSC_NOV18\n"
     ]
    },
    {
     "data": {
      "text/html": [
       "<div>\n",
       "<style scoped>\n",
       "    .dataframe tbody tr th:only-of-type {\n",
       "        vertical-align: middle;\n",
       "    }\n",
       "\n",
       "    .dataframe tbody tr th {\n",
       "        vertical-align: top;\n",
       "    }\n",
       "\n",
       "    .dataframe thead th {\n",
       "        text-align: right;\n",
       "    }\n",
       "</style>\n",
       "<table border=\"1\" class=\"dataframe\">\n",
       "  <thead>\n",
       "    <tr style=\"text-align: right;\">\n",
       "      <th></th>\n",
       "      <th>Total_Case</th>\n",
       "      <th>FPD30_Delinq</th>\n",
       "      <th>FPD30_Rate</th>\n",
       "    </tr>\n",
       "    <tr>\n",
       "      <th>SCORE_BIN</th>\n",
       "      <th></th>\n",
       "      <th></th>\n",
       "      <th></th>\n",
       "    </tr>\n",
       "  </thead>\n",
       "  <tbody>\n",
       "    <tr>\n",
       "      <th>(0.0005, 0.00599]</th>\n",
       "      <td>610</td>\n",
       "      <td>23</td>\n",
       "      <td>0.037705</td>\n",
       "    </tr>\n",
       "    <tr>\n",
       "      <th>(0.00599, 0.00737]</th>\n",
       "      <td>609</td>\n",
       "      <td>25</td>\n",
       "      <td>0.041051</td>\n",
       "    </tr>\n",
       "    <tr>\n",
       "      <th>(0.00737, 0.00879]</th>\n",
       "      <td>609</td>\n",
       "      <td>36</td>\n",
       "      <td>0.059113</td>\n",
       "    </tr>\n",
       "    <tr>\n",
       "      <th>(0.00879, 0.0107]</th>\n",
       "      <td>609</td>\n",
       "      <td>31</td>\n",
       "      <td>0.050903</td>\n",
       "    </tr>\n",
       "    <tr>\n",
       "      <th>(0.0107, 0.0515]</th>\n",
       "      <td>610</td>\n",
       "      <td>29</td>\n",
       "      <td>0.047541</td>\n",
       "    </tr>\n",
       "  </tbody>\n",
       "</table>\n",
       "</div>"
      ],
      "text/plain": [
       "                    Total_Case  FPD30_Delinq  FPD30_Rate\n",
       "SCORE_BIN                                               \n",
       "(0.0005, 0.00599]          610            23    0.037705\n",
       "(0.00599, 0.00737]         609            25    0.041051\n",
       "(0.00737, 0.00879]         609            36    0.059113\n",
       "(0.00879, 0.0107]          609            31    0.050903\n",
       "(0.0107, 0.0515]           610            29    0.047541"
      ]
     },
     "execution_count": 35,
     "metadata": {},
     "output_type": "execute_result"
    }
   ],
   "source": [
    "score = 'SCORE_APSC_NOV18'\n",
    "df_temp = df.dropna(subset = [score])[df[\"RISK_AGRF30\"]==1]\n",
    "df_temp[\"SCORE_BIN\"] = pd.qcut(df_temp[score],q=5, precision = 3)\n",
    "df_temp.head()\n",
    "print(score)\n",
    "df_temp.groupby(\"SCORE_BIN\")[\"RISK_FPD30\"].agg(['count','sum','mean']).rename(columns={'count':'Total_Case',\n",
    "                                                                                                      'sum':'FPD30_Delinq',\n",
    "                                                                                                      'mean':'FPD30_Rate'})"
   ]
  },
  {
   "cell_type": "markdown",
   "metadata": {},
   "source": [
    "# Bureau Found Not Found FPD30 Rate"
   ]
  },
  {
   "cell_type": "code",
   "execution_count": 30,
   "metadata": {},
   "outputs": [
    {
     "data": {
      "text/html": [
       "<div>\n",
       "<style scoped>\n",
       "    .dataframe tbody tr th:only-of-type {\n",
       "        vertical-align: middle;\n",
       "    }\n",
       "\n",
       "    .dataframe tbody tr th {\n",
       "        vertical-align: top;\n",
       "    }\n",
       "\n",
       "    .dataframe thead th {\n",
       "        text-align: right;\n",
       "    }\n",
       "</style>\n",
       "<table border=\"1\" class=\"dataframe\">\n",
       "  <thead>\n",
       "    <tr style=\"text-align: right;\">\n",
       "      <th></th>\n",
       "      <th>Total_Case</th>\n",
       "      <th>FPD30_Delinq</th>\n",
       "      <th>FPD30_Rate</th>\n",
       "    </tr>\n",
       "    <tr>\n",
       "      <th>NTC_FLAG</th>\n",
       "      <th></th>\n",
       "      <th></th>\n",
       "      <th></th>\n",
       "    </tr>\n",
       "  </thead>\n",
       "  <tbody>\n",
       "    <tr>\n",
       "      <th>NTC</th>\n",
       "      <td>2077</td>\n",
       "      <td>97</td>\n",
       "      <td>0.046702</td>\n",
       "    </tr>\n",
       "    <tr>\n",
       "      <th>Others</th>\n",
       "      <td>970</td>\n",
       "      <td>47</td>\n",
       "      <td>0.048454</td>\n",
       "    </tr>\n",
       "  </tbody>\n",
       "</table>\n",
       "</div>"
      ],
      "text/plain": [
       "          Total_Case  FPD30_Delinq  FPD30_Rate\n",
       "NTC_FLAG                                      \n",
       "NTC             2077            97    0.046702\n",
       "Others           970            47    0.048454"
      ]
     },
     "execution_count": 30,
     "metadata": {},
     "output_type": "execute_result"
    }
   ],
   "source": [
    "df[df[\"RISK_AGRF30\"]==1].groupby(\"NTC_FLAG\")[\"RISK_FPD30\"].agg(['count','sum','mean']).rename(columns={'count':'Total_Case',\n",
    "                                                                                                      'sum':'FPD30_Delinq',\n",
    "                                                                                                      'mean':'FPD30_Rate'})"
   ]
  },
  {
   "cell_type": "code",
   "execution_count": 25,
   "metadata": {},
   "outputs": [
    {
     "name": "stdout",
     "output_type": "stream",
     "text": [
      "Score : POS_AUG20_GM \t\tObservables : 1809 \t\tNTC Gini : 0.05930803876074808\n",
      "Score : POS_AUG20_GM \t\tObservables : 843 \t\tExi Gini : 0.09445836814257857\n",
      "Score : POS_AUG20_GM_WO_PRODUCT \t\tObservables : 1726 \t\tNTC Gini : 0.06475842468534321\n",
      "Score : POS_AUG20_GM_WO_PRODUCT \t\tObservables : 799 \t\tExi Gini : 0.04054224067434098\n",
      "Score : SCORE_APSC_NOV18 \t\tObservables : 2077 \t\tNTC Gini : 0.03581172550244727\n",
      "Score : SCORE_APSC_NOV18 \t\tObservables : 970 \t\tExi Gini : 0.12583850072612424\n"
     ]
    },
    {
     "name": "stderr",
     "output_type": "stream",
     "text": [
      "C:\\Users\\aman.khatri91425\\AppData\\Local\\Continuum\\anaconda3\\lib\\site-packages\\ipykernel_launcher.py:2: UserWarning: Boolean Series key will be reindexed to match DataFrame index.\n",
      "  \n",
      "C:\\Users\\aman.khatri91425\\AppData\\Local\\Continuum\\anaconda3\\lib\\site-packages\\ipykernel_launcher.py:4: UserWarning: Boolean Series key will be reindexed to match DataFrame index.\n",
      "  after removing the cwd from sys.path.\n",
      "C:\\Users\\aman.khatri91425\\AppData\\Local\\Continuum\\anaconda3\\lib\\site-packages\\ipykernel_launcher.py:9: UserWarning: Boolean Series key will be reindexed to match DataFrame index.\n",
      "  if __name__ == '__main__':\n",
      "C:\\Users\\aman.khatri91425\\AppData\\Local\\Continuum\\anaconda3\\lib\\site-packages\\ipykernel_launcher.py:11: UserWarning: Boolean Series key will be reindexed to match DataFrame index.\n",
      "  # This is added back by InteractiveShellApp.init_path()\n"
     ]
    }
   ],
   "source": [
    "score = 'POS_AUG20_GM'\n",
    "df_temp = df.dropna(subset = [score])[(df[\"RISK_AGRF30\"]==1)&(df[\"NTC_FLAG\"]=='NTC')]\n",
    "print(\"Score :\", score, \"\\t\\tObservables :\", len(df_temp), \"\\t\\tNTC Gini :\", 2*roc_auc_score(df_temp[\"RISK_FPD30\"],df_temp[score])-1)\n",
    "df_temp = df.dropna(subset = [score])[(df[\"RISK_AGRF30\"]==1)&(df[\"NTC_FLAG\"]!='NTC')]\n",
    "print(\"Score :\", score, \"\\t\\tObservables :\", len(df_temp), \"\\t\\tExi Gini :\", 2*roc_auc_score(df_temp[\"RISK_FPD30\"],df_temp[score])-1)\n",
    "\n",
    "\n",
    "score = 'POS_AUG20_GM_WO_PRODUCT'\n",
    "df_temp = df.dropna(subset = [score])[(df[\"RISK_AGRF30\"]==1)&(df[\"NTC_FLAG\"]=='NTC')]\n",
    "print(\"Score :\", score, \"\\t\\tObservables :\", len(df_temp), \"\\t\\tNTC Gini :\", 2*roc_auc_score(df_temp[\"RISK_FPD30\"],df_temp[score])-1)\n",
    "df_temp = df.dropna(subset = [score])[(df[\"RISK_AGRF30\"]==1)&(df[\"NTC_FLAG\"]!='NTC')]\n",
    "print(\"Score :\", score, \"\\t\\tObservables :\", len(df_temp), \"\\t\\tExi Gini :\", 2*roc_auc_score(df_temp[\"RISK_FPD30\"],df_temp[score])-1)\n",
    "\n",
    "\n",
    "score = 'SCORE_APSC_NOV18'\n",
    "df_temp = df.dropna(subset = [score])[(df[\"RISK_AGRF30\"]==1)&(df[\"NTC_FLAG\"]=='NTC')]\n",
    "print(\"Score :\", score, \"\\t\\tObservables :\", len(df_temp), \"\\t\\tNTC Gini :\", 2*roc_auc_score(df_temp[\"RISK_FPD30\"],df_temp[score])-1)\n",
    "df_temp = df.dropna(subset = [score])[(df[\"RISK_AGRF30\"]==1)&(df[\"NTC_FLAG\"]!='NTC')]\n",
    "print(\"Score :\", score, \"\\t\\tObservables :\", len(df_temp), \"\\t\\tExi Gini :\", 2*roc_auc_score(df_temp[\"RISK_FPD30\"],df_temp[score])-1)\n"
   ]
  },
  {
   "cell_type": "code",
   "execution_count": null,
   "metadata": {},
   "outputs": [],
   "source": []
  }
 ],
 "metadata": {
  "kernelspec": {
   "display_name": "Python 3",
   "language": "python",
   "name": "python3"
  },
  "language_info": {
   "codemirror_mode": {
    "name": "ipython",
    "version": 3
   },
   "file_extension": ".py",
   "mimetype": "text/x-python",
   "name": "python",
   "nbconvert_exporter": "python",
   "pygments_lexer": "ipython3",
   "version": "3.7.3"
  }
 },
 "nbformat": 4,
 "nbformat_minor": 2
}
