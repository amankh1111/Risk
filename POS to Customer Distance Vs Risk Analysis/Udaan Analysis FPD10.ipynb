{
 "cells": [
  {
   "cell_type": "code",
   "execution_count": 6,
   "metadata": {},
   "outputs": [],
   "source": [
    "import pandas as pd\n",
    "import numpy as np\n",
    "from sklearn.metrics import roc_auc_score\n",
    "import os\n",
    "from datetime import datetime as dt"
   ]
  },
  {
   "cell_type": "code",
   "execution_count": 2,
   "metadata": {},
   "outputs": [],
   "source": [
    "os.chdir(r\"C:\\Users\\aman.khatri91425\\Desktop\\HomeCredit\\UW\\Udaan POS Analysis\")"
   ]
  },
  {
   "cell_type": "code",
   "execution_count": 13,
   "metadata": {},
   "outputs": [],
   "source": [
    "df = pd.read_csv(os.getcwd()+ r\"\\Data Files\\loan_performance_udaan.csv\")"
   ]
  },
  {
   "cell_type": "code",
   "execution_count": 14,
   "metadata": {},
   "outputs": [
    {
     "data": {
      "text/html": [
       "<div>\n",
       "<style scoped>\n",
       "    .dataframe tbody tr th:only-of-type {\n",
       "        vertical-align: middle;\n",
       "    }\n",
       "\n",
       "    .dataframe tbody tr th {\n",
       "        vertical-align: top;\n",
       "    }\n",
       "\n",
       "    .dataframe thead th {\n",
       "        text-align: right;\n",
       "    }\n",
       "</style>\n",
       "<table border=\"1\" class=\"dataframe\">\n",
       "  <thead>\n",
       "    <tr style=\"text-align: right;\">\n",
       "      <th></th>\n",
       "      <th>SKP_CREDIT_CASE</th>\n",
       "      <th>POS_TYPE</th>\n",
       "      <th>TIME_CREATION_DATE</th>\n",
       "      <th>RISK_FPD10</th>\n",
       "      <th>RISK_AGRF10</th>\n",
       "      <th>RISK_FPD30</th>\n",
       "      <th>RISK_AGRF30</th>\n",
       "      <th>RISK_FSPD30</th>\n",
       "      <th>RISK_AGRF60</th>\n",
       "      <th>RISK_FSTPD30</th>\n",
       "      <th>...</th>\n",
       "      <th>RISK_FSTQPD30</th>\n",
       "      <th>RISK_AGRF120</th>\n",
       "      <th>RISK_FSTQPD60</th>\n",
       "      <th>RISK_AGRF150</th>\n",
       "      <th>POS_AUG20_GM</th>\n",
       "      <th>POS_AUG20_GM_WO_PRODUCT</th>\n",
       "      <th>SCORE_APSC_NOV18</th>\n",
       "      <th>CLIENT_EXI_3M</th>\n",
       "      <th>FLAG_1PCT_PHANTOM</th>\n",
       "      <th>NTC_FLAG</th>\n",
       "    </tr>\n",
       "  </thead>\n",
       "  <tbody>\n",
       "    <tr>\n",
       "      <th>0</th>\n",
       "      <td>318014362</td>\n",
       "      <td>UDAAN</td>\n",
       "      <td>07-09-20</td>\n",
       "      <td>0</td>\n",
       "      <td>1</td>\n",
       "      <td>0</td>\n",
       "      <td>1</td>\n",
       "      <td>0</td>\n",
       "      <td>1</td>\n",
       "      <td>0</td>\n",
       "      <td>...</td>\n",
       "      <td>0</td>\n",
       "      <td>0</td>\n",
       "      <td>0</td>\n",
       "      <td>0</td>\n",
       "      <td>NaN</td>\n",
       "      <td>NaN</td>\n",
       "      <td>0.007830</td>\n",
       "      <td>N</td>\n",
       "      <td>0</td>\n",
       "      <td>NTC</td>\n",
       "    </tr>\n",
       "    <tr>\n",
       "      <th>1</th>\n",
       "      <td>318037792</td>\n",
       "      <td>UDAAN</td>\n",
       "      <td>07-09-20</td>\n",
       "      <td>0</td>\n",
       "      <td>1</td>\n",
       "      <td>0</td>\n",
       "      <td>1</td>\n",
       "      <td>0</td>\n",
       "      <td>1</td>\n",
       "      <td>0</td>\n",
       "      <td>...</td>\n",
       "      <td>0</td>\n",
       "      <td>0</td>\n",
       "      <td>0</td>\n",
       "      <td>0</td>\n",
       "      <td>NaN</td>\n",
       "      <td>NaN</td>\n",
       "      <td>0.009900</td>\n",
       "      <td>N</td>\n",
       "      <td>0</td>\n",
       "      <td>Others</td>\n",
       "    </tr>\n",
       "    <tr>\n",
       "      <th>2</th>\n",
       "      <td>318033501</td>\n",
       "      <td>UDAAN</td>\n",
       "      <td>07-09-20</td>\n",
       "      <td>0</td>\n",
       "      <td>1</td>\n",
       "      <td>0</td>\n",
       "      <td>1</td>\n",
       "      <td>0</td>\n",
       "      <td>1</td>\n",
       "      <td>0</td>\n",
       "      <td>...</td>\n",
       "      <td>0</td>\n",
       "      <td>0</td>\n",
       "      <td>0</td>\n",
       "      <td>0</td>\n",
       "      <td>NaN</td>\n",
       "      <td>NaN</td>\n",
       "      <td>0.004361</td>\n",
       "      <td>N</td>\n",
       "      <td>0</td>\n",
       "      <td>NTC</td>\n",
       "    </tr>\n",
       "    <tr>\n",
       "      <th>3</th>\n",
       "      <td>318031713</td>\n",
       "      <td>UDAAN</td>\n",
       "      <td>07-09-20</td>\n",
       "      <td>0</td>\n",
       "      <td>1</td>\n",
       "      <td>0</td>\n",
       "      <td>1</td>\n",
       "      <td>0</td>\n",
       "      <td>1</td>\n",
       "      <td>0</td>\n",
       "      <td>...</td>\n",
       "      <td>0</td>\n",
       "      <td>0</td>\n",
       "      <td>0</td>\n",
       "      <td>0</td>\n",
       "      <td>NaN</td>\n",
       "      <td>NaN</td>\n",
       "      <td>0.008086</td>\n",
       "      <td>N</td>\n",
       "      <td>0</td>\n",
       "      <td>NTC</td>\n",
       "    </tr>\n",
       "    <tr>\n",
       "      <th>4</th>\n",
       "      <td>318031874</td>\n",
       "      <td>UDAAN</td>\n",
       "      <td>07-09-20</td>\n",
       "      <td>0</td>\n",
       "      <td>1</td>\n",
       "      <td>0</td>\n",
       "      <td>1</td>\n",
       "      <td>0</td>\n",
       "      <td>1</td>\n",
       "      <td>0</td>\n",
       "      <td>...</td>\n",
       "      <td>0</td>\n",
       "      <td>0</td>\n",
       "      <td>0</td>\n",
       "      <td>0</td>\n",
       "      <td>NaN</td>\n",
       "      <td>NaN</td>\n",
       "      <td>0.009065</td>\n",
       "      <td>N</td>\n",
       "      <td>0</td>\n",
       "      <td>NTC</td>\n",
       "    </tr>\n",
       "  </tbody>\n",
       "</table>\n",
       "<p>5 rows × 21 columns</p>\n",
       "</div>"
      ],
      "text/plain": [
       "   SKP_CREDIT_CASE POS_TYPE TIME_CREATION_DATE  RISK_FPD10  RISK_AGRF10  \\\n",
       "0        318014362    UDAAN           07-09-20           0            1   \n",
       "1        318037792    UDAAN           07-09-20           0            1   \n",
       "2        318033501    UDAAN           07-09-20           0            1   \n",
       "3        318031713    UDAAN           07-09-20           0            1   \n",
       "4        318031874    UDAAN           07-09-20           0            1   \n",
       "\n",
       "   RISK_FPD30  RISK_AGRF30  RISK_FSPD30  RISK_AGRF60  RISK_FSTPD30  ...  \\\n",
       "0           0            1            0            1             0  ...   \n",
       "1           0            1            0            1             0  ...   \n",
       "2           0            1            0            1             0  ...   \n",
       "3           0            1            0            1             0  ...   \n",
       "4           0            1            0            1             0  ...   \n",
       "\n",
       "   RISK_FSTQPD30  RISK_AGRF120  RISK_FSTQPD60  RISK_AGRF150  POS_AUG20_GM  \\\n",
       "0              0             0              0             0           NaN   \n",
       "1              0             0              0             0           NaN   \n",
       "2              0             0              0             0           NaN   \n",
       "3              0             0              0             0           NaN   \n",
       "4              0             0              0             0           NaN   \n",
       "\n",
       "   POS_AUG20_GM_WO_PRODUCT  SCORE_APSC_NOV18  CLIENT_EXI_3M FLAG_1PCT_PHANTOM  \\\n",
       "0                      NaN          0.007830              N                 0   \n",
       "1                      NaN          0.009900              N                 0   \n",
       "2                      NaN          0.004361              N                 0   \n",
       "3                      NaN          0.008086              N                 0   \n",
       "4                      NaN          0.009065              N                 0   \n",
       "\n",
       "   NTC_FLAG  \n",
       "0       NTC  \n",
       "1    Others  \n",
       "2       NTC  \n",
       "3       NTC  \n",
       "4       NTC  \n",
       "\n",
       "[5 rows x 21 columns]"
      ]
     },
     "execution_count": 14,
     "metadata": {},
     "output_type": "execute_result"
    }
   ],
   "source": [
    "df.head()"
   ]
  },
  {
   "cell_type": "code",
   "execution_count": 15,
   "metadata": {},
   "outputs": [
    {
     "data": {
      "text/plain": [
       "2020-09    1503\n",
       "2020-10    2540\n",
       "2020-11    4076\n",
       "2020-12    2568\n",
       "Name: MONTH, dtype: int64"
      ]
     },
     "execution_count": 15,
     "metadata": {},
     "output_type": "execute_result"
    }
   ],
   "source": [
    "df[\"TIME_CREATION_DATE\"] = pd.to_datetime(df[\"TIME_CREATION_DATE\"],format = '%d-%m-%y')\n",
    "df[\"MONTH\"] = df[\"TIME_CREATION_DATE\"].dt.strftime('%Y-%m')\n",
    "df[\"MONTH\"].value_counts().sort_index()"
   ]
  },
  {
   "cell_type": "code",
   "execution_count": 16,
   "metadata": {},
   "outputs": [],
   "source": [
    "df = df[df.TIME_CREATION_DATE>=dt(2020,10,15)]"
   ]
  },
  {
   "cell_type": "markdown",
   "metadata": {},
   "source": [
    "# Gini: FPD10 Rate"
   ]
  },
  {
   "cell_type": "code",
   "execution_count": 18,
   "metadata": {},
   "outputs": [
    {
     "name": "stdout",
     "output_type": "stream",
     "text": [
      "Score : POS_AUG20_GM \t\tObservables : 2544 \t\tGini : 0.15838481254807224\n",
      "Score : POS_AUG20_GM_WO_PRODUCT \t\tObservables : 2531 \t\tGini : 0.15876180247908\n",
      "Score : SCORE_APSC_NOV18 \t\tObservables : 2544 \t\tGini : 0.0565408171586117\n"
     ]
    },
    {
     "name": "stderr",
     "output_type": "stream",
     "text": [
      "C:\\Users\\aman.khatri91425\\AppData\\Local\\Continuum\\anaconda3\\lib\\site-packages\\ipykernel_launcher.py:6: UserWarning: Boolean Series key will be reindexed to match DataFrame index.\n",
      "  \n"
     ]
    }
   ],
   "source": [
    "score = 'POS_AUG20_GM'\n",
    "df_temp = df.dropna(subset = [score])[df[\"RISK_AGRF10\"]==1]\n",
    "print(\"Score :\", score, \"\\t\\tObservables :\", len(df_temp), \"\\t\\tGini :\", 2*roc_auc_score(df_temp[\"RISK_FPD10\"],df_temp[score])-1)\n",
    "\n",
    "score = 'POS_AUG20_GM_WO_PRODUCT'\n",
    "df_temp = df.dropna(subset = [score])[df[\"RISK_AGRF10\"]==1]\n",
    "print(\"Score :\", score, \"\\t\\tObservables :\", len(df_temp), \"\\t\\tGini :\", 2*roc_auc_score(df_temp[\"RISK_FPD10\"],df_temp[score])-1)\n",
    "\n",
    "score = 'SCORE_APSC_NOV18'\n",
    "df_temp = df.dropna(subset = [score])[df[\"RISK_AGRF10\"]==1]\n",
    "print(\"Score :\", score, \"\\t\\tObservables :\", len(df_temp), \"\\t\\tGini :\", 2*roc_auc_score(df_temp[\"RISK_FPD10\"],df_temp[score])-1)\n"
   ]
  },
  {
   "cell_type": "markdown",
   "metadata": {},
   "source": [
    "# Pentile wise FPD10 rate"
   ]
  },
  {
   "cell_type": "code",
   "execution_count": 19,
   "metadata": {},
   "outputs": [
    {
     "name": "stdout",
     "output_type": "stream",
     "text": [
      "POS_AUG20_GM\n"
     ]
    },
    {
     "data": {
      "text/html": [
       "<div>\n",
       "<style scoped>\n",
       "    .dataframe tbody tr th:only-of-type {\n",
       "        vertical-align: middle;\n",
       "    }\n",
       "\n",
       "    .dataframe tbody tr th {\n",
       "        vertical-align: top;\n",
       "    }\n",
       "\n",
       "    .dataframe thead th {\n",
       "        text-align: right;\n",
       "    }\n",
       "</style>\n",
       "<table border=\"1\" class=\"dataframe\">\n",
       "  <thead>\n",
       "    <tr style=\"text-align: right;\">\n",
       "      <th></th>\n",
       "      <th>Total_Case</th>\n",
       "      <th>FPD10_Delinq</th>\n",
       "      <th>FPD10_Rate</th>\n",
       "    </tr>\n",
       "    <tr>\n",
       "      <th>SCORE_BIN</th>\n",
       "      <th></th>\n",
       "      <th></th>\n",
       "      <th></th>\n",
       "    </tr>\n",
       "  </thead>\n",
       "  <tbody>\n",
       "    <tr>\n",
       "      <th>(0.0001299999999999999, 0.00922]</th>\n",
       "      <td>509</td>\n",
       "      <td>26</td>\n",
       "      <td>0.051081</td>\n",
       "    </tr>\n",
       "    <tr>\n",
       "      <th>(0.00922, 0.0122]</th>\n",
       "      <td>509</td>\n",
       "      <td>37</td>\n",
       "      <td>0.072692</td>\n",
       "    </tr>\n",
       "    <tr>\n",
       "      <th>(0.0122, 0.0158]</th>\n",
       "      <td>508</td>\n",
       "      <td>34</td>\n",
       "      <td>0.066929</td>\n",
       "    </tr>\n",
       "    <tr>\n",
       "      <th>(0.0158, 0.0217]</th>\n",
       "      <td>509</td>\n",
       "      <td>42</td>\n",
       "      <td>0.082515</td>\n",
       "    </tr>\n",
       "    <tr>\n",
       "      <th>(0.0217, 0.144]</th>\n",
       "      <td>509</td>\n",
       "      <td>54</td>\n",
       "      <td>0.106090</td>\n",
       "    </tr>\n",
       "  </tbody>\n",
       "</table>\n",
       "</div>"
      ],
      "text/plain": [
       "                                  Total_Case  FPD10_Delinq  FPD10_Rate\n",
       "SCORE_BIN                                                             \n",
       "(0.0001299999999999999, 0.00922]         509            26    0.051081\n",
       "(0.00922, 0.0122]                        509            37    0.072692\n",
       "(0.0122, 0.0158]                         508            34    0.066929\n",
       "(0.0158, 0.0217]                         509            42    0.082515\n",
       "(0.0217, 0.144]                          509            54    0.106090"
      ]
     },
     "execution_count": 19,
     "metadata": {},
     "output_type": "execute_result"
    }
   ],
   "source": [
    "score = 'POS_AUG20_GM'\n",
    "df_temp = df.dropna(subset = [score])[df[\"RISK_AGRF10\"]==1]\n",
    "df_temp[\"SCORE_BIN\"] = pd.qcut(df_temp[score],q=5, precision = 3)\n",
    "df_temp.head()\n",
    "print(score)\n",
    "df_temp.groupby(\"SCORE_BIN\")[\"RISK_FPD10\"].agg(['count','sum','mean']).rename(columns={'count':'Total_Case',\n",
    "                                                                                                      'sum':'FPD10_Delinq',\n",
    "                                                                                                      'mean':'FPD10_Rate'})"
   ]
  },
  {
   "cell_type": "code",
   "execution_count": 20,
   "metadata": {},
   "outputs": [
    {
     "name": "stdout",
     "output_type": "stream",
     "text": [
      "POS_AUG20_GM_WO_PRODUCT\n"
     ]
    },
    {
     "name": "stderr",
     "output_type": "stream",
     "text": [
      "C:\\Users\\aman.khatri91425\\AppData\\Local\\Continuum\\anaconda3\\lib\\site-packages\\ipykernel_launcher.py:2: UserWarning: Boolean Series key will be reindexed to match DataFrame index.\n",
      "  \n"
     ]
    },
    {
     "data": {
      "text/html": [
       "<div>\n",
       "<style scoped>\n",
       "    .dataframe tbody tr th:only-of-type {\n",
       "        vertical-align: middle;\n",
       "    }\n",
       "\n",
       "    .dataframe tbody tr th {\n",
       "        vertical-align: top;\n",
       "    }\n",
       "\n",
       "    .dataframe thead th {\n",
       "        text-align: right;\n",
       "    }\n",
       "</style>\n",
       "<table border=\"1\" class=\"dataframe\">\n",
       "  <thead>\n",
       "    <tr style=\"text-align: right;\">\n",
       "      <th></th>\n",
       "      <th>Total_Case</th>\n",
       "      <th>FPD10_Delinq</th>\n",
       "      <th>FPD10_Rate</th>\n",
       "    </tr>\n",
       "    <tr>\n",
       "      <th>SCORE_BIN</th>\n",
       "      <th></th>\n",
       "      <th></th>\n",
       "      <th></th>\n",
       "    </tr>\n",
       "  </thead>\n",
       "  <tbody>\n",
       "    <tr>\n",
       "      <th>(0.00025, 0.0118]</th>\n",
       "      <td>507</td>\n",
       "      <td>28</td>\n",
       "      <td>0.055227</td>\n",
       "    </tr>\n",
       "    <tr>\n",
       "      <th>(0.0118, 0.0156]</th>\n",
       "      <td>506</td>\n",
       "      <td>34</td>\n",
       "      <td>0.067194</td>\n",
       "    </tr>\n",
       "    <tr>\n",
       "      <th>(0.0156, 0.02]</th>\n",
       "      <td>506</td>\n",
       "      <td>38</td>\n",
       "      <td>0.075099</td>\n",
       "    </tr>\n",
       "    <tr>\n",
       "      <th>(0.02, 0.0275]</th>\n",
       "      <td>506</td>\n",
       "      <td>32</td>\n",
       "      <td>0.063241</td>\n",
       "    </tr>\n",
       "    <tr>\n",
       "      <th>(0.0275, 0.206]</th>\n",
       "      <td>506</td>\n",
       "      <td>59</td>\n",
       "      <td>0.116601</td>\n",
       "    </tr>\n",
       "  </tbody>\n",
       "</table>\n",
       "</div>"
      ],
      "text/plain": [
       "                   Total_Case  FPD10_Delinq  FPD10_Rate\n",
       "SCORE_BIN                                              \n",
       "(0.00025, 0.0118]         507            28    0.055227\n",
       "(0.0118, 0.0156]          506            34    0.067194\n",
       "(0.0156, 0.02]            506            38    0.075099\n",
       "(0.02, 0.0275]            506            32    0.063241\n",
       "(0.0275, 0.206]           506            59    0.116601"
      ]
     },
     "execution_count": 20,
     "metadata": {},
     "output_type": "execute_result"
    }
   ],
   "source": [
    "score = 'POS_AUG20_GM_WO_PRODUCT'\n",
    "df_temp = df.dropna(subset = [score])[df[\"RISK_AGRF10\"]==1]\n",
    "df_temp[\"SCORE_BIN\"] = pd.qcut(df_temp[score],q=5, precision = 3)\n",
    "df_temp.head()\n",
    "print(score)\n",
    "df_temp.groupby(\"SCORE_BIN\")[\"RISK_FPD10\"].agg(['count','sum','mean']).rename(columns={'count':'Total_Case',\n",
    "                                                                                                      'sum':'FPD10_Delinq',\n",
    "                                                                                                      'mean':'FPD10_Rate'})"
   ]
  },
  {
   "cell_type": "code",
   "execution_count": 21,
   "metadata": {},
   "outputs": [
    {
     "name": "stdout",
     "output_type": "stream",
     "text": [
      "SCORE_APSC_NOV18\n"
     ]
    },
    {
     "data": {
      "text/html": [
       "<div>\n",
       "<style scoped>\n",
       "    .dataframe tbody tr th:only-of-type {\n",
       "        vertical-align: middle;\n",
       "    }\n",
       "\n",
       "    .dataframe tbody tr th {\n",
       "        vertical-align: top;\n",
       "    }\n",
       "\n",
       "    .dataframe thead th {\n",
       "        text-align: right;\n",
       "    }\n",
       "</style>\n",
       "<table border=\"1\" class=\"dataframe\">\n",
       "  <thead>\n",
       "    <tr style=\"text-align: right;\">\n",
       "      <th></th>\n",
       "      <th>Total_Case</th>\n",
       "      <th>FPD10_Delinq</th>\n",
       "      <th>FPD10_Rate</th>\n",
       "    </tr>\n",
       "    <tr>\n",
       "      <th>SCORE_BIN</th>\n",
       "      <th></th>\n",
       "      <th></th>\n",
       "      <th></th>\n",
       "    </tr>\n",
       "  </thead>\n",
       "  <tbody>\n",
       "    <tr>\n",
       "      <th>(0.0009599999999999999, 0.00599]</th>\n",
       "      <td>509</td>\n",
       "      <td>34</td>\n",
       "      <td>0.066798</td>\n",
       "    </tr>\n",
       "    <tr>\n",
       "      <th>(0.00599, 0.00768]</th>\n",
       "      <td>509</td>\n",
       "      <td>33</td>\n",
       "      <td>0.064833</td>\n",
       "    </tr>\n",
       "    <tr>\n",
       "      <th>(0.00768, 0.00943]</th>\n",
       "      <td>508</td>\n",
       "      <td>45</td>\n",
       "      <td>0.088583</td>\n",
       "    </tr>\n",
       "    <tr>\n",
       "      <th>(0.00943, 0.0122]</th>\n",
       "      <td>509</td>\n",
       "      <td>39</td>\n",
       "      <td>0.076621</td>\n",
       "    </tr>\n",
       "    <tr>\n",
       "      <th>(0.0122, 0.0515]</th>\n",
       "      <td>509</td>\n",
       "      <td>42</td>\n",
       "      <td>0.082515</td>\n",
       "    </tr>\n",
       "  </tbody>\n",
       "</table>\n",
       "</div>"
      ],
      "text/plain": [
       "                                  Total_Case  FPD10_Delinq  FPD10_Rate\n",
       "SCORE_BIN                                                             \n",
       "(0.0009599999999999999, 0.00599]         509            34    0.066798\n",
       "(0.00599, 0.00768]                       509            33    0.064833\n",
       "(0.00768, 0.00943]                       508            45    0.088583\n",
       "(0.00943, 0.0122]                        509            39    0.076621\n",
       "(0.0122, 0.0515]                         509            42    0.082515"
      ]
     },
     "execution_count": 21,
     "metadata": {},
     "output_type": "execute_result"
    }
   ],
   "source": [
    "score = 'SCORE_APSC_NOV18'\n",
    "df_temp = df.dropna(subset = [score])[df[\"RISK_AGRF10\"]==1]\n",
    "df_temp[\"SCORE_BIN\"] = pd.qcut(df_temp[score],q=5, precision = 3)\n",
    "df_temp.head()\n",
    "print(score)\n",
    "df_temp.groupby(\"SCORE_BIN\")[\"RISK_FPD10\"].agg(['count','sum','mean']).rename(columns={'count':'Total_Case',\n",
    "                                                                                                      'sum':'FPD10_Delinq',\n",
    "                                                                                                      'mean':'FPD10_Rate'})"
   ]
  },
  {
   "cell_type": "markdown",
   "metadata": {},
   "source": [
    "# Bureau Found Not Found FPD30 Rate"
   ]
  },
  {
   "cell_type": "code",
   "execution_count": 22,
   "metadata": {},
   "outputs": [
    {
     "data": {
      "text/html": [
       "<div>\n",
       "<style scoped>\n",
       "    .dataframe tbody tr th:only-of-type {\n",
       "        vertical-align: middle;\n",
       "    }\n",
       "\n",
       "    .dataframe tbody tr th {\n",
       "        vertical-align: top;\n",
       "    }\n",
       "\n",
       "    .dataframe thead th {\n",
       "        text-align: right;\n",
       "    }\n",
       "</style>\n",
       "<table border=\"1\" class=\"dataframe\">\n",
       "  <thead>\n",
       "    <tr style=\"text-align: right;\">\n",
       "      <th></th>\n",
       "      <th>Total_Case</th>\n",
       "      <th>FPD10_Delinq</th>\n",
       "      <th>FPD10_Rate</th>\n",
       "    </tr>\n",
       "    <tr>\n",
       "      <th>NTC_FLAG</th>\n",
       "      <th></th>\n",
       "      <th></th>\n",
       "      <th></th>\n",
       "    </tr>\n",
       "  </thead>\n",
       "  <tbody>\n",
       "    <tr>\n",
       "      <th>NTC</th>\n",
       "      <td>1681</td>\n",
       "      <td>118</td>\n",
       "      <td>0.070196</td>\n",
       "    </tr>\n",
       "    <tr>\n",
       "      <th>Others</th>\n",
       "      <td>863</td>\n",
       "      <td>75</td>\n",
       "      <td>0.086906</td>\n",
       "    </tr>\n",
       "  </tbody>\n",
       "</table>\n",
       "</div>"
      ],
      "text/plain": [
       "          Total_Case  FPD10_Delinq  FPD10_Rate\n",
       "NTC_FLAG                                      \n",
       "NTC             1681           118    0.070196\n",
       "Others           863            75    0.086906"
      ]
     },
     "execution_count": 22,
     "metadata": {},
     "output_type": "execute_result"
    }
   ],
   "source": [
    "df[df[\"RISK_AGRF10\"]==1].groupby(\"NTC_FLAG\")[\"RISK_FPD10\"].agg(['count','sum','mean']).rename(columns={'count':'Total_Case',\n",
    "                                                                                                      'sum':'FPD10_Delinq',\n",
    "                                                                                                      'mean':'FPD10_Rate'})"
   ]
  },
  {
   "cell_type": "code",
   "execution_count": 23,
   "metadata": {},
   "outputs": [
    {
     "name": "stdout",
     "output_type": "stream",
     "text": [
      "Score : POS_AUG20_GM \t\tObservables : 1681 \t\tNTC Gini : 0.13341900083498692\n",
      "Score : POS_AUG20_GM \t\tObservables : 863 \t\tExi Gini : 0.18233502538071078\n",
      "Score : POS_AUG20_GM_WO_PRODUCT \t\tObservables : 1675 \t\tNTC Gini : 0.15022339696091658\n",
      "Score : POS_AUG20_GM_WO_PRODUCT \t\tObservables : 856 \t\tExi Gini : 0.16162185232607773\n",
      "Score : SCORE_APSC_NOV18 \t\tObservables : 1681 \t\tNTC Gini : 0.06608326013641741\n",
      "Score : SCORE_APSC_NOV18 \t\tObservables : 863 \t\tExi Gini : 0.057648054145516214\n"
     ]
    },
    {
     "name": "stderr",
     "output_type": "stream",
     "text": [
      "C:\\Users\\aman.khatri91425\\AppData\\Local\\Continuum\\anaconda3\\lib\\site-packages\\ipykernel_launcher.py:9: UserWarning: Boolean Series key will be reindexed to match DataFrame index.\n",
      "  if __name__ == '__main__':\n",
      "C:\\Users\\aman.khatri91425\\AppData\\Local\\Continuum\\anaconda3\\lib\\site-packages\\ipykernel_launcher.py:11: UserWarning: Boolean Series key will be reindexed to match DataFrame index.\n",
      "  # This is added back by InteractiveShellApp.init_path()\n"
     ]
    }
   ],
   "source": [
    "score = 'POS_AUG20_GM'\n",
    "df_temp = df.dropna(subset = [score])[(df[\"RISK_AGRF10\"]==1)&(df[\"NTC_FLAG\"]=='NTC')]\n",
    "print(\"Score :\", score, \"\\t\\tObservables :\", len(df_temp), \"\\t\\tNTC Gini :\", 2*roc_auc_score(df_temp[\"RISK_FPD10\"],df_temp[score])-1)\n",
    "df_temp = df.dropna(subset = [score])[(df[\"RISK_AGRF10\"]==1)&(df[\"NTC_FLAG\"]!='NTC')]\n",
    "print(\"Score :\", score, \"\\t\\tObservables :\", len(df_temp), \"\\t\\tExi Gini :\", 2*roc_auc_score(df_temp[\"RISK_FPD10\"],df_temp[score])-1)\n",
    "\n",
    "\n",
    "score = 'POS_AUG20_GM_WO_PRODUCT'\n",
    "df_temp = df.dropna(subset = [score])[(df[\"RISK_AGRF10\"]==1)&(df[\"NTC_FLAG\"]=='NTC')]\n",
    "print(\"Score :\", score, \"\\t\\tObservables :\", len(df_temp), \"\\t\\tNTC Gini :\", 2*roc_auc_score(df_temp[\"RISK_FPD10\"],df_temp[score])-1)\n",
    "df_temp = df.dropna(subset = [score])[(df[\"RISK_AGRF10\"]==1)&(df[\"NTC_FLAG\"]!='NTC')]\n",
    "print(\"Score :\", score, \"\\t\\tObservables :\", len(df_temp), \"\\t\\tExi Gini :\", 2*roc_auc_score(df_temp[\"RISK_FPD10\"],df_temp[score])-1)\n",
    "\n",
    "\n",
    "score = 'SCORE_APSC_NOV18'\n",
    "df_temp = df.dropna(subset = [score])[(df[\"RISK_AGRF10\"]==1)&(df[\"NTC_FLAG\"]=='NTC')]\n",
    "print(\"Score :\", score, \"\\t\\tObservables :\", len(df_temp), \"\\t\\tNTC Gini :\", 2*roc_auc_score(df_temp[\"RISK_FPD10\"],df_temp[score])-1)\n",
    "df_temp = df.dropna(subset = [score])[(df[\"RISK_AGRF10\"]==1)&(df[\"NTC_FLAG\"]!='NTC')]\n",
    "print(\"Score :\", score, \"\\t\\tObservables :\", len(df_temp), \"\\t\\tExi Gini :\", 2*roc_auc_score(df_temp[\"RISK_FPD10\"],df_temp[score])-1)\n"
   ]
  },
  {
   "cell_type": "code",
   "execution_count": null,
   "metadata": {},
   "outputs": [],
   "source": []
  }
 ],
 "metadata": {
  "kernelspec": {
   "display_name": "Python 3",
   "language": "python",
   "name": "python3"
  },
  "language_info": {
   "codemirror_mode": {
    "name": "ipython",
    "version": 3
   },
   "file_extension": ".py",
   "mimetype": "text/x-python",
   "name": "python",
   "nbconvert_exporter": "python",
   "pygments_lexer": "ipython3",
   "version": "3.7.3"
  }
 },
 "nbformat": 4,
 "nbformat_minor": 2
}
