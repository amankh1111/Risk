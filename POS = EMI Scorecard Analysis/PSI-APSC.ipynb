{
 "cells": [
  {
   "cell_type": "code",
   "execution_count": 3,
   "metadata": {},
   "outputs": [],
   "source": [
    "import xgboost as xgb\n",
    "import numpy as np\n",
    "import pandas as pd\n",
    "import time\n",
    "import pickle\n",
    "import os\n",
    "from math import log\n",
    "import matplotlib.pyplot as plt\n",
    "import seaborn as sns\n",
    "\n",
    "import sklearn\n",
    "from sklearn.model_selection import train_test_split, GridSearchCV, RandomizedSearchCV, ParameterGrid,StratifiedKFold, cross_val_score\n",
    "\n",
    "from sklearn import metrics \n",
    "from sklearn.metrics import confusion_matrix, precision_recall_curve, average_precision_score, brier_score_loss, f1_score, log_loss,auc,roc_curve,auc\n",
    "\n",
    "from sklearn.linear_model import LogisticRegression, LogisticRegressionCV\n",
    "from sklearn.ensemble import RandomForestClassifier\n",
    "\n",
    "from sklearn.decomposition import PCA\n",
    "#from sklearn.utils.fixes import signature\n",
    "\n",
    "from datetime import datetime\n",
    "\n",
    "import warnings\n",
    "warnings.filterwarnings(\"ignore\", category=DeprecationWarning)"
   ]
  },
  {
   "cell_type": "code",
   "execution_count": 5,
   "metadata": {},
   "outputs": [],
   "source": [
    "os.chdir(r\"C:\\Users\\aman.khatri91425\\Desktop\\HomeCredit\\UW\\POS = EMI Scorecard Analysis\")"
   ]
  },
  {
   "cell_type": "code",
   "execution_count": 53,
   "metadata": {},
   "outputs": [],
   "source": [
    "##read datasets\n",
    "df=pd.read_csv(os.getcwd()+r\"\\Data Files\\APSC PSI.csv\")"
   ]
  },
  {
   "cell_type": "code",
   "execution_count": 54,
   "metadata": {},
   "outputs": [
    {
     "data": {
      "text/html": [
       "<div>\n",
       "<style scoped>\n",
       "    .dataframe tbody tr th:only-of-type {\n",
       "        vertical-align: middle;\n",
       "    }\n",
       "\n",
       "    .dataframe tbody tr th {\n",
       "        vertical-align: top;\n",
       "    }\n",
       "\n",
       "    .dataframe thead th {\n",
       "        text-align: right;\n",
       "    }\n",
       "</style>\n",
       "<table border=\"1\" class=\"dataframe\">\n",
       "  <thead>\n",
       "    <tr style=\"text-align: right;\">\n",
       "      <th></th>\n",
       "      <th>SKP_CREDIT_CASE</th>\n",
       "      <th>POS_OCT18_ALDI</th>\n",
       "      <th>POS_OCT18_APP_CB_LADDER</th>\n",
       "      <th>POS_OCT18_APP_CB</th>\n",
       "      <th>POS_OCT18_DND</th>\n",
       "      <th>POS_OCT18_GM</th>\n",
       "      <th>POS_OCT18_PRODUCT</th>\n",
       "      <th>POS_OCT18_LT</th>\n",
       "      <th>TIME_CREATION_DATE</th>\n",
       "      <th>PRODUCT_GROUP</th>\n",
       "    </tr>\n",
       "  </thead>\n",
       "  <tbody>\n",
       "    <tr>\n",
       "      <th>0</th>\n",
       "      <td>343128766</td>\n",
       "      <td>0.050725</td>\n",
       "      <td>0.054973</td>\n",
       "      <td>NaN</td>\n",
       "      <td>0.051209</td>\n",
       "      <td>0.019653</td>\n",
       "      <td>0.034005</td>\n",
       "      <td>NaN</td>\n",
       "      <td>01-07-21</td>\n",
       "      <td>CD</td>\n",
       "    </tr>\n",
       "    <tr>\n",
       "      <th>1</th>\n",
       "      <td>343156425</td>\n",
       "      <td>0.050725</td>\n",
       "      <td>0.039410</td>\n",
       "      <td>NaN</td>\n",
       "      <td>0.046353</td>\n",
       "      <td>0.030529</td>\n",
       "      <td>0.084062</td>\n",
       "      <td>NaN</td>\n",
       "      <td>01-07-21</td>\n",
       "      <td>CD</td>\n",
       "    </tr>\n",
       "    <tr>\n",
       "      <th>2</th>\n",
       "      <td>343158838</td>\n",
       "      <td>0.042791</td>\n",
       "      <td>0.076439</td>\n",
       "      <td>NaN</td>\n",
       "      <td>0.046353</td>\n",
       "      <td>0.020701</td>\n",
       "      <td>NaN</td>\n",
       "      <td>0.057486</td>\n",
       "      <td>01-07-21</td>\n",
       "      <td>POS=EMI</td>\n",
       "    </tr>\n",
       "    <tr>\n",
       "      <th>3</th>\n",
       "      <td>343125716</td>\n",
       "      <td>0.042791</td>\n",
       "      <td>0.070067</td>\n",
       "      <td>NaN</td>\n",
       "      <td>0.051209</td>\n",
       "      <td>0.020416</td>\n",
       "      <td>0.057486</td>\n",
       "      <td>NaN</td>\n",
       "      <td>01-07-21</td>\n",
       "      <td>CD</td>\n",
       "    </tr>\n",
       "    <tr>\n",
       "      <th>4</th>\n",
       "      <td>343121492</td>\n",
       "      <td>0.042791</td>\n",
       "      <td>0.056623</td>\n",
       "      <td>NaN</td>\n",
       "      <td>0.051209</td>\n",
       "      <td>0.012821</td>\n",
       "      <td>0.042111</td>\n",
       "      <td>NaN</td>\n",
       "      <td>01-07-21</td>\n",
       "      <td>CD</td>\n",
       "    </tr>\n",
       "  </tbody>\n",
       "</table>\n",
       "</div>"
      ],
      "text/plain": [
       "   SKP_CREDIT_CASE  POS_OCT18_ALDI  POS_OCT18_APP_CB_LADDER  POS_OCT18_APP_CB  \\\n",
       "0        343128766        0.050725                 0.054973               NaN   \n",
       "1        343156425        0.050725                 0.039410               NaN   \n",
       "2        343158838        0.042791                 0.076439               NaN   \n",
       "3        343125716        0.042791                 0.070067               NaN   \n",
       "4        343121492        0.042791                 0.056623               NaN   \n",
       "\n",
       "   POS_OCT18_DND  POS_OCT18_GM  POS_OCT18_PRODUCT  POS_OCT18_LT  \\\n",
       "0       0.051209      0.019653           0.034005           NaN   \n",
       "1       0.046353      0.030529           0.084062           NaN   \n",
       "2       0.046353      0.020701                NaN      0.057486   \n",
       "3       0.051209      0.020416           0.057486           NaN   \n",
       "4       0.051209      0.012821           0.042111           NaN   \n",
       "\n",
       "  TIME_CREATION_DATE PRODUCT_GROUP  \n",
       "0           01-07-21            CD  \n",
       "1           01-07-21            CD  \n",
       "2           01-07-21       POS=EMI  \n",
       "3           01-07-21            CD  \n",
       "4           01-07-21            CD  "
      ]
     },
     "execution_count": 54,
     "metadata": {},
     "output_type": "execute_result"
    }
   ],
   "source": [
    "df.head()"
   ]
  },
  {
   "cell_type": "code",
   "execution_count": 55,
   "metadata": {},
   "outputs": [],
   "source": [
    "df[\"TIME_CREATION_DATE\"] = pd.to_datetime(df[\"TIME_CREATION_DATE\"], format = '%d-%m-%y')"
   ]
  },
  {
   "cell_type": "code",
   "execution_count": 56,
   "metadata": {},
   "outputs": [
    {
     "data": {
      "text/plain": [
       "CD         207401\n",
       "POS=EMI     66187\n",
       "Name: PRODUCT_GROUP, dtype: int64"
      ]
     },
     "execution_count": 56,
     "metadata": {},
     "output_type": "execute_result"
    }
   ],
   "source": [
    "df.PRODUCT_GROUP.value_counts()"
   ]
  },
  {
   "cell_type": "code",
   "execution_count": 57,
   "metadata": {},
   "outputs": [
    {
     "name": "stderr",
     "output_type": "stream",
     "text": [
      "C:\\Users\\aman.khatri91425\\AppData\\Local\\Continuum\\anaconda3\\lib\\site-packages\\ipykernel_launcher.py:1: FutureWarning: The pandas.datetime class is deprecated and will be removed from pandas in a future version. Import from datetime module instead.\n",
      "  \"\"\"Entry point for launching an IPython kernel.\n"
     ]
    }
   ],
   "source": [
    "df = df[df[\"TIME_CREATION_DATE\"]<= pd.datetime(2021,7,15)]"
   ]
  },
  {
   "cell_type": "code",
   "execution_count": 58,
   "metadata": {
    "scrolled": true
   },
   "outputs": [
    {
     "data": {
      "image/png": "[encoded data removed]",
      "text/plain": [
       "<Figure size 432x288 with 1 Axes>"
      ]
     },
     "metadata": {},
     "output_type": "display_data"
    }
   ],
   "source": [
    "sns.set_style(\"white\")\n",
    "\n",
    "var = \"POS_OCT18_GM\"\n",
    "\n",
    "posemi = df[df[\"PRODUCT_GROUP\"]==\"POS=EMI\"][var]\n",
    "cd = df[df[\"PRODUCT_GROUP\"] == \"CD\"][var]\n",
    "\n",
    "plot = sns.kdeplot(posemi, shade=True, label = 'POS=EMI').set_title(var)\n",
    "plot = sns.kdeplot(cd, shade=True, label = 'CD')\n",
    "plot.set(yticklabels=[], xticklabels = [])\n",
    "plot.legend()\n",
    "sns.despine(left=True)"
   ]
  },
  {
   "cell_type": "code",
   "execution_count": 59,
   "metadata": {},
   "outputs": [
    {
     "data": {
      "image/png": "[encoded data removed]",
      "text/plain": [
       "<Figure size 432x288 with 1 Axes>"
      ]
     },
     "metadata": {},
     "output_type": "display_data"
    }
   ],
   "source": [
    "sns.set_style(\"white\")\n",
    "\n",
    "var = \"POS_OCT18_ALDI\"\n",
    "\n",
    "posemi = df[df[\"PRODUCT_GROUP\"]==\"POS=EMI\"][var]\n",
    "cd = df[df[\"PRODUCT_GROUP\"] == \"CD\"][var]\n",
    "\n",
    "plot = sns.kdeplot(posemi, shade=True, label = 'POS=EMI').set_title(var)\n",
    "plot = sns.kdeplot(cd, shade=True, label = 'CD')\n",
    "plot.set(yticklabels=[], xticklabels = [])\n",
    "plot.legend()\n",
    "sns.despine(left=True)"
   ]
  },
  {
   "cell_type": "code",
   "execution_count": 60,
   "metadata": {},
   "outputs": [
    {
     "data": {
      "image/png": "[encoded data removed]",
      "text/plain": [
       "<Figure size 432x288 with 1 Axes>"
      ]
     },
     "metadata": {},
     "output_type": "display_data"
    }
   ],
   "source": [
    "sns.set_style(\"white\")\n",
    "\n",
    "var = \"POS_OCT18_APP_CB_LADDER\"\n",
    "\n",
    "posemi = df[df[\"PRODUCT_GROUP\"]==\"POS=EMI\"][var]\n",
    "cd = df[df[\"PRODUCT_GROUP\"] == \"CD\"][var]\n",
    "\n",
    "plot = sns.kdeplot(posemi, shade=True, label = 'POS=EMI').set_title(var)\n",
    "plot = sns.kdeplot(cd, shade=True, label = 'CD')\n",
    "plot.set(yticklabels=[], xticklabels = [])\n",
    "plot.legend()\n",
    "sns.despine(left=True)"
   ]
  },
  {
   "cell_type": "code",
   "execution_count": 63,
   "metadata": {},
   "outputs": [
    {
     "name": "stderr",
     "output_type": "stream",
     "text": [
      "No handles with labels found to put in legend.\n"
     ]
    },
    {
     "data": {
      "image/png": "[encoded data removed]",
      "text/plain": [
       "<Figure size 432x288 with 1 Axes>"
      ]
     },
     "metadata": {},
     "output_type": "display_data"
    }
   ],
   "source": [
    "sns.set_style(\"white\")\n",
    "\n",
    "var = \"POS_OCT18_APP_CB\"\n",
    "\n",
    "posemi = df[df[\"PRODUCT_GROUP\"]==\"POS=EMI\"][var]\n",
    "cd = df[df[\"PRODUCT_GROUP\"] == \"CD\"][var]\n",
    "\n",
    "plot = sns.kdeplot(posemi, shade=True, label = 'POS=EMI').set_title(var)\n",
    "plot = sns.kdeplot(cd, shade=True, label = 'CD')\n",
    "plot.set(yticklabels=[], xticklabels = [])\n",
    "plot.legend()\n",
    "sns.despine(left=True)"
   ]
  },
  {
   "cell_type": "code",
   "execution_count": 61,
   "metadata": {},
   "outputs": [
    {
     "data": {
      "image/png": "[encoded data removed]",
      "text/plain": [
       "<Figure size 432x288 with 1 Axes>"
      ]
     },
     "metadata": {},
     "output_type": "display_data"
    }
   ],
   "source": [
    "sns.set_style(\"white\")\n",
    "\n",
    "var = \"POS_OCT18_DND\"\n",
    "\n",
    "posemi = df[df[\"PRODUCT_GROUP\"]==\"POS=EMI\"][var]\n",
    "cd = df[df[\"PRODUCT_GROUP\"] == \"CD\"][var]\n",
    "\n",
    "plot = sns.kdeplot(posemi, shade=True, label = 'POS=EMI').set_title(var)\n",
    "plot = sns.kdeplot(cd, shade=True, label = 'CD')\n",
    "plot.set(yticklabels=[], xticklabels = [])\n",
    "plot.legend()\n",
    "sns.despine(left=True)"
   ]
  },
  {
   "cell_type": "code",
   "execution_count": 62,
   "metadata": {},
   "outputs": [
    {
     "data": {
      "image/png": "[encoded data removed]",
      "text/plain": [
       "<Figure size 432x288 with 1 Axes>"
      ]
     },
     "metadata": {},
     "output_type": "display_data"
    }
   ],
   "source": [
    "sns.set_style(\"white\")\n",
    "\n",
    "var = \"POS_OCT18_PRODUCT\"\n",
    "\n",
    "posemi = df[df[\"PRODUCT_GROUP\"]==\"POS=EMI\"][\"POS_OCT18_LT\"]\n",
    "cd = df[df[\"PRODUCT_GROUP\"] == \"CD\"][var]\n",
    "\n",
    "plot = sns.kdeplot(posemi, shade=True, label = 'POS=EMI').set_title(var)\n",
    "plot = sns.kdeplot(cd, shade=True, label = 'CD')\n",
    "plot.set(yticklabels=[], xticklabels = [])\n",
    "plot.legend()\n",
    "sns.despine(left=True)"
   ]
  },
  {
   "cell_type": "code",
   "execution_count": null,
   "metadata": {},
   "outputs": [],
   "source": []
  },
  {
   "cell_type": "code",
   "execution_count": null,
   "metadata": {},
   "outputs": [],
   "source": []
  },
  {
   "cell_type": "markdown",
   "metadata": {},
   "source": [
    "# Product Pillar distribution"
   ]
  },
  {
   "cell_type": "code",
   "execution_count": 16,
   "metadata": {},
   "outputs": [
    {
     "name": "stderr",
     "output_type": "stream",
     "text": [
      "C:\\Users\\aman.khatri91425\\AppData\\Local\\Continuum\\anaconda3\\lib\\site-packages\\IPython\\core\\interactiveshell.py:3049: DtypeWarning: Columns (2) have mixed types.Specify dtype option on import or set low_memory=False.\n",
      "  interactivity=interactivity, compiler=compiler, result=result)\n"
     ]
    }
   ],
   "source": [
    "##read datasets\n",
    "df=pd.read_csv(os.getcwd()+r\"\\Data Files\\product_apsc.csv\")"
   ]
  },
  {
   "cell_type": "code",
   "execution_count": 17,
   "metadata": {},
   "outputs": [
    {
     "data": {
      "text/html": [
       "<div>\n",
       "<style scoped>\n",
       "    .dataframe tbody tr th:only-of-type {\n",
       "        vertical-align: middle;\n",
       "    }\n",
       "\n",
       "    .dataframe tbody tr th {\n",
       "        vertical-align: top;\n",
       "    }\n",
       "\n",
       "    .dataframe thead th {\n",
       "        text-align: right;\n",
       "    }\n",
       "</style>\n",
       "<table border=\"1\" class=\"dataframe\">\n",
       "  <thead>\n",
       "    <tr style=\"text-align: right;\">\n",
       "      <th></th>\n",
       "      <th>SKP_CREDIT_CASE</th>\n",
       "      <th>LOAN_AMOUNT</th>\n",
       "      <th>RATE_LTV</th>\n",
       "      <th>TIME_CREATION_DATE</th>\n",
       "      <th>PRODUCT_GROUP</th>\n",
       "      <th>POS_AUG20_GM</th>\n",
       "    </tr>\n",
       "  </thead>\n",
       "  <tbody>\n",
       "    <tr>\n",
       "      <th>0</th>\n",
       "      <td>343121786</td>\n",
       "      <td>10000.0</td>\n",
       "      <td>0.7811889696117491</td>\n",
       "      <td>01-07-21</td>\n",
       "      <td>POS=EMI</td>\n",
       "      <td>0.023673</td>\n",
       "    </tr>\n",
       "    <tr>\n",
       "      <th>1</th>\n",
       "      <td>343117560</td>\n",
       "      <td>25000.0</td>\n",
       "      <td>0.7288417247310573</td>\n",
       "      <td>01-07-21</td>\n",
       "      <td>POS=EMI</td>\n",
       "      <td>0.004654</td>\n",
       "    </tr>\n",
       "    <tr>\n",
       "      <th>2</th>\n",
       "      <td>343147595</td>\n",
       "      <td>8589.0</td>\n",
       "      <td>0.6612009237875288</td>\n",
       "      <td>01-07-21</td>\n",
       "      <td>CD</td>\n",
       "      <td>0.031650</td>\n",
       "    </tr>\n",
       "    <tr>\n",
       "      <th>3</th>\n",
       "      <td>343156388</td>\n",
       "      <td>29990.0</td>\n",
       "      <td>0.8042154943552063</td>\n",
       "      <td>01-07-21</td>\n",
       "      <td>POS=EMI</td>\n",
       "      <td>0.003159</td>\n",
       "    </tr>\n",
       "    <tr>\n",
       "      <th>4</th>\n",
       "      <td>343147750</td>\n",
       "      <td>16000.0</td>\n",
       "      <td>0.8465160573514628</td>\n",
       "      <td>01-07-21</td>\n",
       "      <td>POS=EMI</td>\n",
       "      <td>0.017050</td>\n",
       "    </tr>\n",
       "  </tbody>\n",
       "</table>\n",
       "</div>"
      ],
      "text/plain": [
       "   SKP_CREDIT_CASE  LOAN_AMOUNT            RATE_LTV TIME_CREATION_DATE  \\\n",
       "0        343121786      10000.0  0.7811889696117491           01-07-21   \n",
       "1        343117560      25000.0  0.7288417247310573           01-07-21   \n",
       "2        343147595       8589.0  0.6612009237875288           01-07-21   \n",
       "3        343156388      29990.0  0.8042154943552063           01-07-21   \n",
       "4        343147750      16000.0  0.8465160573514628           01-07-21   \n",
       "\n",
       "  PRODUCT_GROUP  POS_AUG20_GM  \n",
       "0       POS=EMI      0.023673  \n",
       "1       POS=EMI      0.004654  \n",
       "2            CD      0.031650  \n",
       "3       POS=EMI      0.003159  \n",
       "4       POS=EMI      0.017050  "
      ]
     },
     "execution_count": 17,
     "metadata": {},
     "output_type": "execute_result"
    }
   ],
   "source": [
    "df.head()"
   ]
  },
  {
   "cell_type": "code",
   "execution_count": 18,
   "metadata": {},
   "outputs": [],
   "source": [
    "df[\"TIME_CREATION_DATE\"] = pd.to_datetime(df[\"TIME_CREATION_DATE\"], format = '%d-%m-%y')"
   ]
  },
  {
   "cell_type": "code",
   "execution_count": 19,
   "metadata": {},
   "outputs": [
    {
     "data": {
      "text/plain": [
       "CD         103481\n",
       "POS=EMI     66186\n",
       "Name: PRODUCT_GROUP, dtype: int64"
      ]
     },
     "execution_count": 19,
     "metadata": {},
     "output_type": "execute_result"
    }
   ],
   "source": [
    "df.PRODUCT_GROUP.value_counts()"
   ]
  },
  {
   "cell_type": "code",
   "execution_count": 20,
   "metadata": {},
   "outputs": [
    {
     "name": "stderr",
     "output_type": "stream",
     "text": [
      "C:\\Users\\aman.khatri91425\\AppData\\Local\\Continuum\\anaconda3\\lib\\site-packages\\ipykernel_launcher.py:1: FutureWarning: The pandas.datetime class is deprecated and will be removed from pandas in a future version. Import from datetime module instead.\n",
      "  \"\"\"Entry point for launching an IPython kernel.\n"
     ]
    }
   ],
   "source": [
    "df = df[df[\"TIME_CREATION_DATE\"]<= pd.datetime(2021,7,15)]"
   ]
  },
  {
   "cell_type": "code",
   "execution_count": 27,
   "metadata": {
    "scrolled": true
   },
   "outputs": [
    {
     "data": {
      "image/png": "[encoded data removed]",
      "text/plain": [
       "<Figure size 432x288 with 1 Axes>"
      ]
     },
     "metadata": {},
     "output_type": "display_data"
    }
   ],
   "source": [
    "sns.set_style(\"white\")\n",
    "\n",
    "var = \"LOAN_AMOUNT\"\n",
    "\n",
    "posemi = df[df[\"PRODUCT_GROUP\"]==\"POS=EMI\"][var]\n",
    "cd = df[df[\"PRODUCT_GROUP\"] == \"CD\"][var]\n",
    "\n",
    "plot = sns.kdeplot(posemi, shade=True, label = 'POS=EMI').set_title(var)\n",
    "plot = sns.kdeplot(cd, shade=True, label = 'CD')\n",
    "plot.set(yticklabels=[], xticklabels = [])\n",
    "plot.legend()\n",
    "sns.despine(left=True)"
   ]
  },
  {
   "cell_type": "code",
   "execution_count": 50,
   "metadata": {},
   "outputs": [
    {
     "data": {
      "image/png": "[encoded data removed]",
      "text/plain": [
       "<Figure size 432x288 with 1 Axes>"
      ]
     },
     "metadata": {},
     "output_type": "display_data"
    }
   ],
   "source": [
    "sns.set_style(\"white\")\n",
    "\n",
    "var = \"RATE_LTV\"\n",
    "\n",
    "posemi = pd.to_numeric(df[(df[\"PRODUCT_GROUP\"]==\"POS=EMI\") & (df[var]!= 'XNA')][var])\n",
    "cd = pd.to_numeric(df[(df[\"PRODUCT_GROUP\"]==\"CD\") & (df[var]!= 'XNA')][var])\n",
    "\n",
    "plot = sns.kdeplot(posemi, shade=True, label = 'POS=EMI').set_title(var)\n",
    "plot = sns.kdeplot(cd, shade=True, label = 'CD')\n",
    "plot.set(yticklabels=[], xticklabels = [])\n",
    "plot.legend()\n",
    "sns.despine(left=True)"
   ]
  },
  {
   "cell_type": "code",
   "execution_count": null,
   "metadata": {},
   "outputs": [],
   "source": []
  },
  {
   "cell_type": "markdown",
   "metadata": {},
   "source": [
    "# WO Product Pillar"
   ]
  },
  {
   "cell_type": "code",
   "execution_count": 6,
   "metadata": {},
   "outputs": [],
   "source": [
    "##read datasets\n",
    "df=pd.read_csv(os.getcwd()+r\"\\Data Files\\WO Product.csv\")"
   ]
  },
  {
   "cell_type": "code",
   "execution_count": 7,
   "metadata": {},
   "outputs": [
    {
     "data": {
      "text/html": [
       "<div>\n",
       "<style scoped>\n",
       "    .dataframe tbody tr th:only-of-type {\n",
       "        vertical-align: middle;\n",
       "    }\n",
       "\n",
       "    .dataframe tbody tr th {\n",
       "        vertical-align: top;\n",
       "    }\n",
       "\n",
       "    .dataframe thead th {\n",
       "        text-align: right;\n",
       "    }\n",
       "</style>\n",
       "<table border=\"1\" class=\"dataframe\">\n",
       "  <thead>\n",
       "    <tr style=\"text-align: right;\">\n",
       "      <th></th>\n",
       "      <th>SKP_CREDIT_CASE</th>\n",
       "      <th>POS_MAR20_CIBIL_LGBM</th>\n",
       "      <th>POS_AUG19_LADDER</th>\n",
       "      <th>TIME_CREATION_DATE</th>\n",
       "      <th>PRODUCT_GROUP</th>\n",
       "      <th>SCORE_APSC_NOV18</th>\n",
       "      <th>SCORE_APSC_NOV18_NEW</th>\n",
       "      <th>POS_AUG20_GM</th>\n",
       "      <th>POS_AUG20_GM_WO_PRODUCT</th>\n",
       "    </tr>\n",
       "  </thead>\n",
       "  <tbody>\n",
       "    <tr>\n",
       "      <th>0</th>\n",
       "      <td>343123022</td>\n",
       "      <td>-3.46</td>\n",
       "      <td>NaN</td>\n",
       "      <td>01-07-21</td>\n",
       "      <td>POS=EMI</td>\n",
       "      <td>0.029603</td>\n",
       "      <td>0.023367</td>\n",
       "      <td>0.017992</td>\n",
       "      <td>0.024500</td>\n",
       "    </tr>\n",
       "    <tr>\n",
       "      <th>1</th>\n",
       "      <td>343124501</td>\n",
       "      <td>NaN</td>\n",
       "      <td>-2.587039</td>\n",
       "      <td>01-07-21</td>\n",
       "      <td>POS=EMI</td>\n",
       "      <td>0.022556</td>\n",
       "      <td>0.022556</td>\n",
       "      <td>0.033466</td>\n",
       "      <td>NaN</td>\n",
       "    </tr>\n",
       "    <tr>\n",
       "      <th>2</th>\n",
       "      <td>343113966</td>\n",
       "      <td>NaN</td>\n",
       "      <td>-2.408654</td>\n",
       "      <td>01-07-21</td>\n",
       "      <td>POS=EMI</td>\n",
       "      <td>0.018805</td>\n",
       "      <td>0.014809</td>\n",
       "      <td>0.010779</td>\n",
       "      <td>NaN</td>\n",
       "    </tr>\n",
       "    <tr>\n",
       "      <th>3</th>\n",
       "      <td>343132975</td>\n",
       "      <td>NaN</td>\n",
       "      <td>-2.587039</td>\n",
       "      <td>01-07-21</td>\n",
       "      <td>CD</td>\n",
       "      <td>0.015470</td>\n",
       "      <td>0.015470</td>\n",
       "      <td>0.085085</td>\n",
       "      <td>0.076945</td>\n",
       "    </tr>\n",
       "    <tr>\n",
       "      <th>4</th>\n",
       "      <td>343148315</td>\n",
       "      <td>-3.46</td>\n",
       "      <td>NaN</td>\n",
       "      <td>01-07-21</td>\n",
       "      <td>CD</td>\n",
       "      <td>0.008492</td>\n",
       "      <td>0.008492</td>\n",
       "      <td>0.041904</td>\n",
       "      <td>0.054931</td>\n",
       "    </tr>\n",
       "  </tbody>\n",
       "</table>\n",
       "</div>"
      ],
      "text/plain": [
       "   SKP_CREDIT_CASE  POS_MAR20_CIBIL_LGBM  POS_AUG19_LADDER TIME_CREATION_DATE  \\\n",
       "0        343123022                 -3.46               NaN           01-07-21   \n",
       "1        343124501                   NaN         -2.587039           01-07-21   \n",
       "2        343113966                   NaN         -2.408654           01-07-21   \n",
       "3        343132975                   NaN         -2.587039           01-07-21   \n",
       "4        343148315                 -3.46               NaN           01-07-21   \n",
       "\n",
       "  PRODUCT_GROUP  SCORE_APSC_NOV18  SCORE_APSC_NOV18_NEW  POS_AUG20_GM  \\\n",
       "0       POS=EMI          0.029603              0.023367      0.017992   \n",
       "1       POS=EMI          0.022556              0.022556      0.033466   \n",
       "2       POS=EMI          0.018805              0.014809      0.010779   \n",
       "3            CD          0.015470              0.015470      0.085085   \n",
       "4            CD          0.008492              0.008492      0.041904   \n",
       "\n",
       "   POS_AUG20_GM_WO_PRODUCT  \n",
       "0                 0.024500  \n",
       "1                      NaN  \n",
       "2                      NaN  \n",
       "3                 0.076945  \n",
       "4                 0.054931  "
      ]
     },
     "execution_count": 7,
     "metadata": {},
     "output_type": "execute_result"
    }
   ],
   "source": [
    "df.head()"
   ]
  },
  {
   "cell_type": "code",
   "execution_count": 8,
   "metadata": {},
   "outputs": [],
   "source": [
    "df[\"TIME_CREATION_DATE\"] = pd.to_datetime(df[\"TIME_CREATION_DATE\"], format = '%d-%m-%y')"
   ]
  },
  {
   "cell_type": "code",
   "execution_count": 9,
   "metadata": {},
   "outputs": [
    {
     "data": {
      "text/plain": [
       "CD         85106\n",
       "POS=EMI    55834\n",
       "Name: PRODUCT_GROUP, dtype: int64"
      ]
     },
     "execution_count": 9,
     "metadata": {},
     "output_type": "execute_result"
    }
   ],
   "source": [
    "df.PRODUCT_GROUP.value_counts()"
   ]
  },
  {
   "cell_type": "code",
   "execution_count": 10,
   "metadata": {},
   "outputs": [
    {
     "name": "stderr",
     "output_type": "stream",
     "text": [
      "C:\\Users\\aman.khatri91425\\AppData\\Local\\Continuum\\anaconda3\\lib\\site-packages\\ipykernel_launcher.py:1: FutureWarning: The pandas.datetime class is deprecated and will be removed from pandas in a future version. Import from datetime module instead.\n",
      "  \"\"\"Entry point for launching an IPython kernel.\n"
     ]
    }
   ],
   "source": [
    "df = df[df[\"TIME_CREATION_DATE\"]<= pd.datetime(2021,7,15)]"
   ]
  },
  {
   "cell_type": "code",
   "execution_count": 11,
   "metadata": {
    "scrolled": true
   },
   "outputs": [
    {
     "data": {
      "image/png": "[encoded data removed]",
      "text/plain": [
       "<Figure size 432x288 with 1 Axes>"
      ]
     },
     "metadata": {},
     "output_type": "display_data"
    }
   ],
   "source": [
    "sns.set_style(\"white\")\n",
    "\n",
    "var = \"SCORE_APSC_NOV18_NEW\"\n",
    "\n",
    "posemi = df[df[\"PRODUCT_GROUP\"]==\"POS=EMI\"][var]\n",
    "cd = df[df[\"PRODUCT_GROUP\"] == \"CD\"][var]\n",
    "\n",
    "plot = sns.kdeplot(posemi, shade=True, label = 'POS=EMI').set_title(var)\n",
    "plot = sns.kdeplot(cd, shade=True, label = 'CD')\n",
    "plot.set(yticklabels=[], xticklabels = [])\n",
    "plot.legend()\n",
    "sns.despine(left=True)"
   ]
  },
  {
   "cell_type": "code",
   "execution_count": null,
   "metadata": {},
   "outputs": [],
   "source": []
  },
  {
   "cell_type": "code",
   "execution_count": null,
   "metadata": {},
   "outputs": [],
   "source": []
  }
 ],
 "metadata": {
  "kernelspec": {
   "display_name": "Python 3",
   "language": "python",
   "name": "python3"
  },
  "language_info": {
   "codemirror_mode": {
    "name": "ipython",
    "version": 3
   },
   "file_extension": ".py",
   "mimetype": "text/x-python",
   "name": "python",
   "nbconvert_exporter": "python",
   "pygments_lexer": "ipython3",
   "version": "3.7.3"
  }
 },
 "nbformat": 4,
 "nbformat_minor": 2
}
