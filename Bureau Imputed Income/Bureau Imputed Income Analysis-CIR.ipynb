{
 "cells": [
  {
   "cell_type": "code",
   "execution_count": 150,
   "metadata": {},
   "outputs": [],
   "source": [
    "import pandas as pd\n",
    "import numpy as np\n",
    "import os\n",
    "import matplotlib.pyplot as plt\n",
    "os.chdir(r\"C:\\Users\\aman.khatri91425\\Desktop\\HomeCredit\\UW\\Bureau Imputed Income\")\n",
    "from sklearn.metrics import r2_score\n",
    "import seaborn as sns\n"
   ]
  },
  {
   "cell_type": "markdown",
   "metadata": {},
   "source": [
    "# Read Data"
   ]
  },
  {
   "cell_type": "code",
   "execution_count": 178,
   "metadata": {},
   "outputs": [],
   "source": [
    "# df = pd.read_csv(os.getcwd()+r\"\\Data Files\\CIR.csv\")\n",
    "df = pd.read_csv(os.getcwd()+r\"\\Data Files\\export.csv\")"
   ]
  },
  {
   "cell_type": "markdown",
   "metadata": {},
   "source": [
    "# Data Cleaning & Date Formatting"
   ]
  },
  {
   "cell_type": "code",
   "execution_count": 179,
   "metadata": {},
   "outputs": [],
   "source": [
    "df.TIME_CREATION_DATE = pd.to_datetime(df.TIME_CREATION_DATE, format = '%d-%m-%y')\n",
    "df[\"MONTH\"] = df.TIME_CREATION_DATE.dt.strftime(date_format = '%Y-%m')\n",
    "df.dropna(subset = [\"FINAL_EMI\",\"ESTIMATED_INCOME\"], inplace = True)\n",
    "df = df[df[\"ESTIMATED_INCOME\"]>0]\n",
    "df.ESTIMATED_INCOME = np.round(df.ESTIMATED_INCOME)"
   ]
  },
  {
   "cell_type": "code",
   "execution_count": 153,
   "metadata": {},
   "outputs": [
    {
     "name": "stderr",
     "output_type": "stream",
     "text": [
      "C:\\Users\\aman.khatri91425\\AppData\\Local\\Continuum\\anaconda3\\lib\\site-packages\\ipykernel_launcher.py:1: FutureWarning: The pandas.datetime class is deprecated and will be removed from pandas in a future version. Import from datetime module instead.\n",
      "  \"\"\"Entry point for launching an IPython kernel.\n",
      "C:\\Users\\aman.khatri91425\\AppData\\Local\\Continuum\\anaconda3\\lib\\site-packages\\ipykernel_launcher.py:2: FutureWarning: The pandas.datetime class is deprecated and will be removed from pandas in a future version. Import from datetime module instead.\n",
      "  \n"
     ]
    }
   ],
   "source": [
    "df = df[df.TIME_CREATION_DATE>= pd.datetime(2020,9,1)]\n",
    "df = df[df.TIME_CREATION_DATE<= pd.datetime(2020,11,30)]"
   ]
  },
  {
   "cell_type": "markdown",
   "metadata": {},
   "source": [
    "# Fill Rates"
   ]
  },
  {
   "cell_type": "code",
   "execution_count": 180,
   "metadata": {},
   "outputs": [
    {
     "data": {
      "text/html": [
       "<div>\n",
       "<style scoped>\n",
       "    .dataframe tbody tr th:only-of-type {\n",
       "        vertical-align: middle;\n",
       "    }\n",
       "\n",
       "    .dataframe tbody tr th {\n",
       "        vertical-align: top;\n",
       "    }\n",
       "\n",
       "    .dataframe thead th {\n",
       "        text-align: right;\n",
       "    }\n",
       "</style>\n",
       "<table border=\"1\" class=\"dataframe\">\n",
       "  <thead>\n",
       "    <tr style=\"text-align: right;\">\n",
       "      <th></th>\n",
       "      <th>index</th>\n",
       "      <th>SKP_CREDIT_CASE</th>\n",
       "      <th>PERFIOS_INCOME</th>\n",
       "      <th>YODLEE_INCOME</th>\n",
       "      <th>SDK_INCOME</th>\n",
       "    </tr>\n",
       "  </thead>\n",
       "  <tbody>\n",
       "    <tr>\n",
       "      <th>0</th>\n",
       "      <td>count</td>\n",
       "      <td>805907</td>\n",
       "      <td>101198</td>\n",
       "      <td>117009</td>\n",
       "      <td>725007</td>\n",
       "    </tr>\n",
       "  </tbody>\n",
       "</table>\n",
       "</div>"
      ],
      "text/plain": [
       "   index  SKP_CREDIT_CASE  PERFIOS_INCOME  YODLEE_INCOME  SDK_INCOME\n",
       "0  count           805907          101198         117009      725007"
      ]
     },
     "execution_count": 180,
     "metadata": {},
     "output_type": "execute_result"
    }
   ],
   "source": [
    "df[[\"SKP_CREDIT_CASE\",\"PERFIOS_INCOME\",\"YODLEE_INCOME\",\"SDK_INCOME\"]].agg(['count']).reset_index()"
   ]
  },
  {
   "cell_type": "code",
   "execution_count": 181,
   "metadata": {},
   "outputs": [
    {
     "data": {
      "text/html": [
       "<div>\n",
       "<style scoped>\n",
       "    .dataframe tbody tr th:only-of-type {\n",
       "        vertical-align: middle;\n",
       "    }\n",
       "\n",
       "    .dataframe tbody tr th {\n",
       "        vertical-align: top;\n",
       "    }\n",
       "\n",
       "    .dataframe thead th {\n",
       "        text-align: right;\n",
       "    }\n",
       "</style>\n",
       "<table border=\"1\" class=\"dataframe\">\n",
       "  <thead>\n",
       "    <tr style=\"text-align: right;\">\n",
       "      <th></th>\n",
       "      <th>MONTH_</th>\n",
       "      <th>SKP_CREDIT_CASE_count</th>\n",
       "      <th>PERFIOS_INCOME_count</th>\n",
       "      <th>YODLEE_INCOME_count</th>\n",
       "      <th>SDK_INCOME_count</th>\n",
       "    </tr>\n",
       "  </thead>\n",
       "  <tbody>\n",
       "    <tr>\n",
       "      <th>0</th>\n",
       "      <td>2020-01</td>\n",
       "      <td>129400</td>\n",
       "      <td>0</td>\n",
       "      <td>24952</td>\n",
       "      <td>121349</td>\n",
       "    </tr>\n",
       "    <tr>\n",
       "      <th>1</th>\n",
       "      <td>2020-02</td>\n",
       "      <td>136370</td>\n",
       "      <td>0</td>\n",
       "      <td>25576</td>\n",
       "      <td>128373</td>\n",
       "    </tr>\n",
       "    <tr>\n",
       "      <th>2</th>\n",
       "      <td>2020-03</td>\n",
       "      <td>50350</td>\n",
       "      <td>0</td>\n",
       "      <td>23924</td>\n",
       "      <td>43343</td>\n",
       "    </tr>\n",
       "    <tr>\n",
       "      <th>3</th>\n",
       "      <td>2020-04</td>\n",
       "      <td>7225</td>\n",
       "      <td>80</td>\n",
       "      <td>5704</td>\n",
       "      <td>5668</td>\n",
       "    </tr>\n",
       "    <tr>\n",
       "      <th>4</th>\n",
       "      <td>2020-05</td>\n",
       "      <td>12805</td>\n",
       "      <td>1102</td>\n",
       "      <td>7242</td>\n",
       "      <td>9885</td>\n",
       "    </tr>\n",
       "    <tr>\n",
       "      <th>5</th>\n",
       "      <td>2020-06</td>\n",
       "      <td>23856</td>\n",
       "      <td>5703</td>\n",
       "      <td>7132</td>\n",
       "      <td>18838</td>\n",
       "    </tr>\n",
       "    <tr>\n",
       "      <th>6</th>\n",
       "      <td>2020-07</td>\n",
       "      <td>40810</td>\n",
       "      <td>11768</td>\n",
       "      <td>3781</td>\n",
       "      <td>34591</td>\n",
       "    </tr>\n",
       "    <tr>\n",
       "      <th>7</th>\n",
       "      <td>2020-08</td>\n",
       "      <td>66588</td>\n",
       "      <td>14940</td>\n",
       "      <td>2040</td>\n",
       "      <td>59313</td>\n",
       "    </tr>\n",
       "    <tr>\n",
       "      <th>8</th>\n",
       "      <td>2020-09</td>\n",
       "      <td>64468</td>\n",
       "      <td>18590</td>\n",
       "      <td>2130</td>\n",
       "      <td>54496</td>\n",
       "    </tr>\n",
       "    <tr>\n",
       "      <th>9</th>\n",
       "      <td>2020-10</td>\n",
       "      <td>62494</td>\n",
       "      <td>15867</td>\n",
       "      <td>4454</td>\n",
       "      <td>54281</td>\n",
       "    </tr>\n",
       "    <tr>\n",
       "      <th>10</th>\n",
       "      <td>2020-11</td>\n",
       "      <td>72477</td>\n",
       "      <td>15271</td>\n",
       "      <td>4354</td>\n",
       "      <td>64446</td>\n",
       "    </tr>\n",
       "    <tr>\n",
       "      <th>11</th>\n",
       "      <td>2020-12</td>\n",
       "      <td>107046</td>\n",
       "      <td>14035</td>\n",
       "      <td>4423</td>\n",
       "      <td>100268</td>\n",
       "    </tr>\n",
       "    <tr>\n",
       "      <th>12</th>\n",
       "      <td>2021-01</td>\n",
       "      <td>32018</td>\n",
       "      <td>3842</td>\n",
       "      <td>1297</td>\n",
       "      <td>30156</td>\n",
       "    </tr>\n",
       "  </tbody>\n",
       "</table>\n",
       "</div>"
      ],
      "text/plain": [
       "     MONTH_  SKP_CREDIT_CASE_count  PERFIOS_INCOME_count  YODLEE_INCOME_count  \\\n",
       "0   2020-01                 129400                     0                24952   \n",
       "1   2020-02                 136370                     0                25576   \n",
       "2   2020-03                  50350                     0                23924   \n",
       "3   2020-04                   7225                    80                 5704   \n",
       "4   2020-05                  12805                  1102                 7242   \n",
       "5   2020-06                  23856                  5703                 7132   \n",
       "6   2020-07                  40810                 11768                 3781   \n",
       "7   2020-08                  66588                 14940                 2040   \n",
       "8   2020-09                  64468                 18590                 2130   \n",
       "9   2020-10                  62494                 15867                 4454   \n",
       "10  2020-11                  72477                 15271                 4354   \n",
       "11  2020-12                 107046                 14035                 4423   \n",
       "12  2021-01                  32018                  3842                 1297   \n",
       "\n",
       "    SDK_INCOME_count  \n",
       "0             121349  \n",
       "1             128373  \n",
       "2              43343  \n",
       "3               5668  \n",
       "4               9885  \n",
       "5              18838  \n",
       "6              34591  \n",
       "7              59313  \n",
       "8              54496  \n",
       "9              54281  \n",
       "10             64446  \n",
       "11            100268  \n",
       "12             30156  "
      ]
     },
     "execution_count": 181,
     "metadata": {},
     "output_type": "execute_result"
    }
   ],
   "source": [
    "df_summ=df[[\"SKP_CREDIT_CASE\",\"PERFIOS_INCOME\",\"YODLEE_INCOME\",\"SDK_INCOME\",\"MONTH\"]].groupby(\"MONTH\").agg(['count']).reset_index()\n",
    "df_summ.columns = ['_'.join([x,y]) for (x,y) in df_summ.columns]\n",
    "df_summ"
   ]
  },
  {
   "cell_type": "code",
   "execution_count": null,
   "metadata": {},
   "outputs": [],
   "source": []
  },
  {
   "cell_type": "markdown",
   "metadata": {},
   "source": [
    "# Correlation Matrix"
   ]
  },
  {
   "cell_type": "code",
   "execution_count": 182,
   "metadata": {},
   "outputs": [
    {
     "data": {
      "text/plain": [
       "[Text(0.5, 0, 'ESTIMATED_INCOME'),\n",
       " Text(1.5, 0, 'PERFIOS_INCOME'),\n",
       " Text(2.5, 0, 'SDK_INCOME')]"
      ]
     },
     "execution_count": 182,
     "metadata": {},
     "output_type": "execute_result"
    },
    {
     "data": {
      "image/png": "[encoded data removed]",
      "text/plain": [
       "<Figure size 432x288 with 2 Axes>"
      ]
     },
     "metadata": {
      "needs_background": "light"
     },
     "output_type": "display_data"
    }
   ],
   "source": [
    "df_corr = df.dropna(subset = [\"ESTIMATED_INCOME\",\"PERFIOS_INCOME\",\"SDK_INCOME\"])\n",
    "df_corr = df_corr[(df_corr[\"ESTIMATED_INCOME\"]>0) & (df_corr[\"PERFIOS_INCOME\"]>0) & (df_corr[\"SDK_INCOME\"]>0)]\n",
    "\n",
    "corr = df_corr[[\"ESTIMATED_INCOME\",\"PERFIOS_INCOME\",\"SDK_INCOME\"]].corr()\n",
    "ax = sns.heatmap(corr, vmin=-1, vmax=1, center=0, cmap=sns.diverging_palette(20, 220, n=200), square=True, annot = True)\n",
    "ax.set_xticklabels(ax.get_xticklabels(),rotation=90,horizontalalignment='right')"
   ]
  },
  {
   "cell_type": "markdown",
   "metadata": {},
   "source": [
    "# Distributions"
   ]
  },
  {
   "cell_type": "code",
   "execution_count": 183,
   "metadata": {},
   "outputs": [
    {
     "data": {
      "text/plain": [
       "ESTIMATED_INCOME    22088.430157\n",
       "PERFIOS_INCOME      61814.750690\n",
       "SDK_INCOME          47287.180750\n",
       "YODLEE_INCOME       59441.411159\n",
       "dtype: float64"
      ]
     },
     "execution_count": 183,
     "metadata": {},
     "output_type": "execute_result"
    }
   ],
   "source": [
    "df_dist[[\"ESTIMATED_INCOME\",\"PERFIOS_INCOME\",\"SDK_INCOME\",\"YODLEE_INCOME\"]].mean()"
   ]
  },
  {
   "cell_type": "code",
   "execution_count": 184,
   "metadata": {},
   "outputs": [
    {
     "data": {
      "text/plain": [
       "ESTIMATED_INCOME    384244.925036\n",
       "PERFIOS_INCOME       66561.435800\n",
       "SDK_INCOME           61357.073555\n",
       "YODLEE_INCOME        65307.832252\n",
       "dtype: float64"
      ]
     },
     "execution_count": 184,
     "metadata": {},
     "output_type": "execute_result"
    }
   ],
   "source": [
    "df[[\"ESTIMATED_INCOME\",\"PERFIOS_INCOME\",\"SDK_INCOME\",\"YODLEE_INCOME\"]].mean()"
   ]
  },
  {
   "cell_type": "markdown",
   "metadata": {},
   "source": [
    "### Perfios"
   ]
  },
  {
   "cell_type": "code",
   "execution_count": 185,
   "metadata": {},
   "outputs": [
    {
     "data": {
      "image/png": "[encoded data removed]",
      "text/plain": [
       "<Figure size 432x288 with 1 Axes>"
      ]
     },
     "metadata": {
      "needs_background": "light"
     },
     "output_type": "display_data"
    }
   ],
   "source": [
    "df_dist = df.dropna(subset = ['PERFIOS_INCOME'])\n",
    "df_dist = df_dist[df_dist[\"PERFIOS_INCOME\"]>0]\n",
    "plot = sns.kdeplot(df_dist[\"ESTIMATED_INCOME\"], shade=True, label = 'Estimated_Income')\n",
    "plot = sns.kdeplot(df_dist[\"PERFIOS_INCOME\"], shade=True, label = 'Perfios')\n",
    "# plot.set(yticklabels=[], xticklabels = [])\n",
    "plt.xlim(0,200000)\n",
    "plot.legend()\n",
    "sns.despine(left=True)"
   ]
  },
  {
   "cell_type": "markdown",
   "metadata": {},
   "source": [
    "### SDK"
   ]
  },
  {
   "cell_type": "code",
   "execution_count": 186,
   "metadata": {},
   "outputs": [
    {
     "data": {
      "image/png": "[encoded data removed]",
      "text/plain": [
       "<Figure size 432x288 with 1 Axes>"
      ]
     },
     "metadata": {
      "needs_background": "light"
     },
     "output_type": "display_data"
    }
   ],
   "source": [
    "df_dist = df.dropna(subset = ['SDK_INCOME'])\n",
    "df_dist = df_dist[df_dist[\"SDK_INCOME\"]>0]\n",
    "plot = sns.kdeplot(df_dist[\"ESTIMATED_INCOME\"], shade=True, label = 'Estimated_Income')\n",
    "plot = sns.kdeplot(df_dist[\"SDK_INCOME\"], shade=True, label = 'SDK')\n",
    "# plot.set(yticklabels=[], xticklabels = [])\n",
    "plt.xlim(0,200000)\n",
    "plot.legend()\n",
    "sns.despine(left=True)"
   ]
  },
  {
   "cell_type": "code",
   "execution_count": 187,
   "metadata": {},
   "outputs": [
    {
     "data": {
      "text/plain": [
       "ESTIMATED_INCOME    526114.200\n",
       "PERFIOS_INCOME      143318.914\n",
       "SDK_INCOME          125275.000\n",
       "YODLEE_INCOME       144618.400\n",
       "Name: 0.9, dtype: float64"
      ]
     },
     "execution_count": 187,
     "metadata": {},
     "output_type": "execute_result"
    }
   ],
   "source": [
    "df[[\"ESTIMATED_INCOME\",\"PERFIOS_INCOME\",\"SDK_INCOME\",\"YODLEE_INCOME\"]].quantile(0.9)"
   ]
  },
  {
   "cell_type": "code",
   "execution_count": null,
   "metadata": {},
   "outputs": [],
   "source": []
  },
  {
   "cell_type": "markdown",
   "metadata": {},
   "source": [
    "# Create Bins for Analysis"
   ]
  },
  {
   "cell_type": "code",
   "execution_count": 188,
   "metadata": {},
   "outputs": [
    {
     "data": {
      "text/html": [
       "<div>\n",
       "<style scoped>\n",
       "    .dataframe tbody tr th:only-of-type {\n",
       "        vertical-align: middle;\n",
       "    }\n",
       "\n",
       "    .dataframe tbody tr th {\n",
       "        vertical-align: top;\n",
       "    }\n",
       "\n",
       "    .dataframe thead th {\n",
       "        text-align: right;\n",
       "    }\n",
       "</style>\n",
       "<table border=\"1\" class=\"dataframe\">\n",
       "  <thead>\n",
       "    <tr style=\"text-align: right;\">\n",
       "      <th></th>\n",
       "      <th>SKP_CREDIT_CASE</th>\n",
       "      <th>FINAL_EMI</th>\n",
       "      <th>ESTIMATED_INCOME</th>\n",
       "      <th>PERFIOS_INCOME</th>\n",
       "      <th>SDK_INCOME</th>\n",
       "      <th>YODLEE_INCOME</th>\n",
       "      <th>TIME_CREATION_DATE</th>\n",
       "      <th>TRADELINE_COUNT</th>\n",
       "      <th>MAX_DPD</th>\n",
       "      <th>HL_FLAG</th>\n",
       "      <th>PRODUCT_GROUP</th>\n",
       "      <th>SCORE_CB</th>\n",
       "      <th>CLIENT_EXI_3M</th>\n",
       "      <th>MONTH</th>\n",
       "    </tr>\n",
       "  </thead>\n",
       "  <tbody>\n",
       "    <tr>\n",
       "      <th>0</th>\n",
       "      <td>289628057</td>\n",
       "      <td>1750.0</td>\n",
       "      <td>5635.0</td>\n",
       "      <td>NaN</td>\n",
       "      <td>38785.0</td>\n",
       "      <td>28110.0</td>\n",
       "      <td>2020-01-01</td>\n",
       "      <td>5</td>\n",
       "      <td>56.0</td>\n",
       "      <td>0</td>\n",
       "      <td>ACL</td>\n",
       "      <td>632.0</td>\n",
       "      <td>N</td>\n",
       "      <td>2020-01</td>\n",
       "    </tr>\n",
       "    <tr>\n",
       "      <th>1</th>\n",
       "      <td>289634907</td>\n",
       "      <td>6660.0</td>\n",
       "      <td>21445.0</td>\n",
       "      <td>NaN</td>\n",
       "      <td>NaN</td>\n",
       "      <td>11195.0</td>\n",
       "      <td>2020-01-01</td>\n",
       "      <td>1</td>\n",
       "      <td>0.0</td>\n",
       "      <td>0</td>\n",
       "      <td>ACL</td>\n",
       "      <td>706.0</td>\n",
       "      <td>N</td>\n",
       "      <td>2020-01</td>\n",
       "    </tr>\n",
       "    <tr>\n",
       "      <th>2</th>\n",
       "      <td>289593815</td>\n",
       "      <td>1467.0</td>\n",
       "      <td>4724.0</td>\n",
       "      <td>NaN</td>\n",
       "      <td>2000.0</td>\n",
       "      <td>NaN</td>\n",
       "      <td>2020-01-01</td>\n",
       "      <td>2</td>\n",
       "      <td>0.0</td>\n",
       "      <td>0</td>\n",
       "      <td>CD</td>\n",
       "      <td>726.0</td>\n",
       "      <td>Y</td>\n",
       "      <td>2020-01</td>\n",
       "    </tr>\n",
       "    <tr>\n",
       "      <th>3</th>\n",
       "      <td>289609788</td>\n",
       "      <td>12855.0</td>\n",
       "      <td>41393.0</td>\n",
       "      <td>NaN</td>\n",
       "      <td>9000.0</td>\n",
       "      <td>NaN</td>\n",
       "      <td>2020-01-01</td>\n",
       "      <td>3</td>\n",
       "      <td>89.0</td>\n",
       "      <td>1</td>\n",
       "      <td>ACL</td>\n",
       "      <td>694.0</td>\n",
       "      <td>N</td>\n",
       "      <td>2020-01</td>\n",
       "    </tr>\n",
       "    <tr>\n",
       "      <th>4</th>\n",
       "      <td>289597260</td>\n",
       "      <td>3671.0</td>\n",
       "      <td>11821.0</td>\n",
       "      <td>NaN</td>\n",
       "      <td>NaN</td>\n",
       "      <td>8206.0</td>\n",
       "      <td>2020-01-01</td>\n",
       "      <td>4</td>\n",
       "      <td>0.5</td>\n",
       "      <td>0</td>\n",
       "      <td>ACL</td>\n",
       "      <td>723.0</td>\n",
       "      <td>N</td>\n",
       "      <td>2020-01</td>\n",
       "    </tr>\n",
       "  </tbody>\n",
       "</table>\n",
       "</div>"
      ],
      "text/plain": [
       "   SKP_CREDIT_CASE  FINAL_EMI  ESTIMATED_INCOME  PERFIOS_INCOME  SDK_INCOME  \\\n",
       "0        289628057     1750.0            5635.0             NaN     38785.0   \n",
       "1        289634907     6660.0           21445.0             NaN         NaN   \n",
       "2        289593815     1467.0            4724.0             NaN      2000.0   \n",
       "3        289609788    12855.0           41393.0             NaN      9000.0   \n",
       "4        289597260     3671.0           11821.0             NaN         NaN   \n",
       "\n",
       "   YODLEE_INCOME TIME_CREATION_DATE  TRADELINE_COUNT  MAX_DPD  HL_FLAG  \\\n",
       "0        28110.0         2020-01-01                5     56.0        0   \n",
       "1        11195.0         2020-01-01                1      0.0        0   \n",
       "2            NaN         2020-01-01                2      0.0        0   \n",
       "3            NaN         2020-01-01                3     89.0        1   \n",
       "4         8206.0         2020-01-01                4      0.5        0   \n",
       "\n",
       "  PRODUCT_GROUP  SCORE_CB CLIENT_EXI_3M    MONTH  \n",
       "0           ACL     632.0             N  2020-01  \n",
       "1           ACL     706.0             N  2020-01  \n",
       "2            CD     726.0             Y  2020-01  \n",
       "3           ACL     694.0             N  2020-01  \n",
       "4           ACL     723.0             N  2020-01  "
      ]
     },
     "execution_count": 188,
     "metadata": {},
     "output_type": "execute_result"
    }
   ],
   "source": [
    "df.head()"
   ]
  },
  {
   "cell_type": "code",
   "execution_count": 189,
   "metadata": {},
   "outputs": [
    {
     "data": {
      "text/plain": [
       "1) 0-2    178978\n",
       "2) 3-4    155725\n",
       "3) >=5    471204\n",
       "Name: TRADELINE_COUNT_BIN, dtype: int64"
      ]
     },
     "execution_count": 189,
     "metadata": {},
     "output_type": "execute_result"
    }
   ],
   "source": [
    "df[\"TRADELINE_COUNT_BIN\"]=np.where(df[\"TRADELINE_COUNT\"]<=2,'1) 0-2',np.where(df[\"TRADELINE_COUNT\"]<=4,'2) 3-4', '3) >=5'))\n",
    "df[\"TRADELINE_COUNT_BIN\"].value_counts().sort_index()"
   ]
  },
  {
   "cell_type": "code",
   "execution_count": 190,
   "metadata": {},
   "outputs": [
    {
     "data": {
      "text/plain": [
       "1). 0        379434\n",
       "2). 1-10     124313\n",
       "3). 11-20     19560\n",
       "4. >20       282600\n",
       "Name: MAX_DPD_BIN, dtype: int64"
      ]
     },
     "execution_count": 190,
     "metadata": {},
     "output_type": "execute_result"
    }
   ],
   "source": [
    "df[\"MAX_DPD_BIN\"]=np.where(df[\"MAX_DPD\"]==0,'1). 0',np.where(df[\"MAX_DPD\"]<=10,'2). 1-10',np.where(df[\"MAX_DPD\"]<=20,'3). 11-20','4. >20')))\n",
    "df[\"MAX_DPD_BIN\"].value_counts().sort_index()"
   ]
  },
  {
   "cell_type": "code",
   "execution_count": 191,
   "metadata": {},
   "outputs": [
    {
     "data": {
      "text/plain": [
       "1). <0           3958\n",
       "2). 0-565       23283\n",
       "3). 566-680    121919\n",
       "4). 680-720    217617\n",
       "5). 720-750    217670\n",
       "7. >750        221460\n",
       "Name: SCORE_CB_BIN, dtype: int64"
      ]
     },
     "execution_count": 191,
     "metadata": {},
     "output_type": "execute_result"
    }
   ],
   "source": [
    "df[\"SCORE_CB_BIN\"]=np.where(df[\"SCORE_CB\"]<0,'1). <0',np.where(df[\"SCORE_CB\"]<=565,'2). 0-565',\n",
    "                                    np.where(df[\"SCORE_CB\"]<=680,'3). 566-680',np.where(df[\"SCORE_CB\"]<=720,'4). 680-720',\n",
    "                                    np.where(df[\"SCORE_CB\"]<=750,'5). 720-750','7. >750')))))\n",
    "df[\"SCORE_CB_BIN\"].value_counts().sort_index()"
   ]
  },
  {
   "cell_type": "code",
   "execution_count": 192,
   "metadata": {},
   "outputs": [
    {
     "data": {
      "text/plain": [
       "1). 0-1K       235774\n",
       "2). 3K-10K     206314\n",
       "3). 10K-30k    148610\n",
       "4. >30         215209\n",
       "Name: FINAL_EMI_BIN, dtype: int64"
      ]
     },
     "execution_count": 192,
     "metadata": {},
     "output_type": "execute_result"
    }
   ],
   "source": [
    "df[\"FINAL_EMI_BIN\"]=np.where(df[\"FINAL_EMI\"]<=3000,'1). 0-1K',np.where(df[\"FINAL_EMI\"]<=10000,'2). 3K-10K',np.where(df[\"FINAL_EMI\"]<=30000,'3). 10K-30k','4. >30')))\n",
    "df[\"FINAL_EMI_BIN\"].value_counts().sort_index()"
   ]
  },
  {
   "cell_type": "code",
   "execution_count": null,
   "metadata": {},
   "outputs": [],
   "source": []
  },
  {
   "cell_type": "code",
   "execution_count": null,
   "metadata": {},
   "outputs": [],
   "source": []
  },
  {
   "cell_type": "markdown",
   "metadata": {},
   "source": [
    "# Goodness Of Fit"
   ]
  },
  {
   "cell_type": "code",
   "execution_count": 193,
   "metadata": {},
   "outputs": [],
   "source": [
    "summary_by = [\"HL_FLAG\",\"PRODUCT_GROUP\",\"CLIENT_EXI_3M\",\"MONTH\", \"FINAL_EMI_BIN\", \"SCORE_CB_BIN\",\"MAX_DPD_BIN\", \"TRADELINE_COUNT_BIN\"]"
   ]
  },
  {
   "cell_type": "code",
   "execution_count": 194,
   "metadata": {},
   "outputs": [],
   "source": [
    "income_type = [\"PERFIOS_INCOME\", \"YODLEE_INCOME\", \"SDK_INCOME\"]"
   ]
  },
  {
   "cell_type": "code",
   "execution_count": 195,
   "metadata": {},
   "outputs": [],
   "source": [
    "dic = {'income_type':[],\n",
    "      'summary_by':[],\n",
    "      'bins':[],\n",
    "      'r-square':[],\n",
    "        'correlation':[],\n",
    "       'ratio':[],\n",
    "       'avg_final_emi':[],\n",
    "       'avg_est_income':[],\n",
    "       'avg_act_income':[],\n",
    "       'case_count':[]\n",
    "      }"
   ]
  },
  {
   "cell_type": "code",
   "execution_count": 196,
   "metadata": {},
   "outputs": [
    {
     "name": "stderr",
     "output_type": "stream",
     "text": [
      "C:\\Users\\aman.khatri91425\\AppData\\Local\\Continuum\\anaconda3\\lib\\site-packages\\sklearn\\metrics\\_regression.py:682: UndefinedMetricWarning: R^2 score is not well-defined with less than two samples.\n",
      "  warnings.warn(msg, UndefinedMetricWarning)\n",
      "C:\\Users\\aman.khatri91425\\AppData\\Local\\Continuum\\anaconda3\\lib\\site-packages\\numpy\\lib\\function_base.py:2522: RuntimeWarning: Degrees of freedom <= 0 for slice\n",
      "  c = cov(x, y, rowvar)\n",
      "C:\\Users\\aman.khatri91425\\AppData\\Local\\Continuum\\anaconda3\\lib\\site-packages\\numpy\\lib\\function_base.py:2451: RuntimeWarning: divide by zero encountered in true_divide\n",
      "  c *= np.true_divide(1, fact)\n",
      "C:\\Users\\aman.khatri91425\\AppData\\Local\\Continuum\\anaconda3\\lib\\site-packages\\numpy\\lib\\function_base.py:2451: RuntimeWarning: invalid value encountered in multiply\n",
      "  c *= np.true_divide(1, fact)\n",
      "C:\\Users\\aman.khatri91425\\AppData\\Local\\Continuum\\anaconda3\\lib\\site-packages\\sklearn\\metrics\\_regression.py:682: UndefinedMetricWarning: R^2 score is not well-defined with less than two samples.\n",
      "  warnings.warn(msg, UndefinedMetricWarning)\n",
      "C:\\Users\\aman.khatri91425\\AppData\\Local\\Continuum\\anaconda3\\lib\\site-packages\\numpy\\lib\\function_base.py:2522: RuntimeWarning: Degrees of freedom <= 0 for slice\n",
      "  c = cov(x, y, rowvar)\n",
      "C:\\Users\\aman.khatri91425\\AppData\\Local\\Continuum\\anaconda3\\lib\\site-packages\\numpy\\lib\\function_base.py:2451: RuntimeWarning: divide by zero encountered in true_divide\n",
      "  c *= np.true_divide(1, fact)\n",
      "C:\\Users\\aman.khatri91425\\AppData\\Local\\Continuum\\anaconda3\\lib\\site-packages\\numpy\\lib\\function_base.py:2451: RuntimeWarning: invalid value encountered in multiply\n",
      "  c *= np.true_divide(1, fact)\n",
      "C:\\Users\\aman.khatri91425\\AppData\\Local\\Continuum\\anaconda3\\lib\\site-packages\\sklearn\\metrics\\_regression.py:682: UndefinedMetricWarning: R^2 score is not well-defined with less than two samples.\n",
      "  warnings.warn(msg, UndefinedMetricWarning)\n",
      "C:\\Users\\aman.khatri91425\\AppData\\Local\\Continuum\\anaconda3\\lib\\site-packages\\numpy\\lib\\function_base.py:2522: RuntimeWarning: Degrees of freedom <= 0 for slice\n",
      "  c = cov(x, y, rowvar)\n",
      "C:\\Users\\aman.khatri91425\\AppData\\Local\\Continuum\\anaconda3\\lib\\site-packages\\numpy\\lib\\function_base.py:2451: RuntimeWarning: divide by zero encountered in true_divide\n",
      "  c *= np.true_divide(1, fact)\n",
      "C:\\Users\\aman.khatri91425\\AppData\\Local\\Continuum\\anaconda3\\lib\\site-packages\\numpy\\lib\\function_base.py:2451: RuntimeWarning: invalid value encountered in multiply\n",
      "  c *= np.true_divide(1, fact)\n"
     ]
    }
   ],
   "source": [
    "for inc_type in income_type:\n",
    "    df_tmp = df.dropna(subset = [inc_type])\n",
    "    df_tmp = df_tmp[df_tmp[inc_type]>0]\n",
    "    for x in summary_by:\n",
    "        for bin in df_tmp[x].unique():\n",
    "            df_summ = df_tmp[df_tmp[x]==bin]\n",
    "            dic[\"income_type\"].append(inc_type)\n",
    "            dic[\"summary_by\"].append(x)\n",
    "            dic[\"bins\"].append(bin)\n",
    "            dic[\"r-square\"].append(round(r2_score(df_summ[inc_type],df_summ[\"ESTIMATED_INCOME\"]),2))\n",
    "            dic[\"correlation\"].append(round(np.corrcoef(df_summ[inc_type],df_summ[\"ESTIMATED_INCOME\"])[0,1],2))\n",
    "            dic[\"ratio\"].append(round(np.sum(df_summ[inc_type])/sum(df_summ[\"FINAL_EMI\"]),2))\n",
    "            dic[\"avg_final_emi\"].append(round(np.mean(df_summ['FINAL_EMI']),0))\n",
    "            dic[\"avg_est_income\"].append(round(np.mean(df_summ['ESTIMATED_INCOME']),0))\n",
    "            dic[\"avg_act_income\"].append(round(np.mean(df_summ[inc_type]),0))\n",
    "            dic[\"case_count\"].append(len(df_summ))                                     "
   ]
  },
  {
   "cell_type": "code",
   "execution_count": 197,
   "metadata": {},
   "outputs": [
    {
     "data": {
      "text/html": [
       "<div>\n",
       "<style scoped>\n",
       "    .dataframe tbody tr th:only-of-type {\n",
       "        vertical-align: middle;\n",
       "    }\n",
       "\n",
       "    .dataframe tbody tr th {\n",
       "        vertical-align: top;\n",
       "    }\n",
       "\n",
       "    .dataframe thead th {\n",
       "        text-align: right;\n",
       "    }\n",
       "</style>\n",
       "<table border=\"1\" class=\"dataframe\">\n",
       "  <thead>\n",
       "    <tr style=\"text-align: right;\">\n",
       "      <th></th>\n",
       "      <th>income_type</th>\n",
       "      <th>summary_by</th>\n",
       "      <th>bins</th>\n",
       "      <th>r-square</th>\n",
       "      <th>correlation</th>\n",
       "      <th>ratio</th>\n",
       "      <th>avg_final_emi</th>\n",
       "      <th>avg_est_income</th>\n",
       "      <th>avg_act_income</th>\n",
       "      <th>case_count</th>\n",
       "    </tr>\n",
       "  </thead>\n",
       "  <tbody>\n",
       "    <tr>\n",
       "      <th>0</th>\n",
       "      <td>PERFIOS_INCOME</td>\n",
       "      <td>HL_FLAG</td>\n",
       "      <td>0</td>\n",
       "      <td>-260.25</td>\n",
       "      <td>0.05</td>\n",
       "      <td>0.69</td>\n",
       "      <td>94303.0</td>\n",
       "      <td>303654.0</td>\n",
       "      <td>64999.0</td>\n",
       "      <td>94401</td>\n",
       "    </tr>\n",
       "    <tr>\n",
       "      <th>1</th>\n",
       "      <td>PERFIOS_INCOME</td>\n",
       "      <td>HL_FLAG</td>\n",
       "      <td>1</td>\n",
       "      <td>-1862.36</td>\n",
       "      <td>0.07</td>\n",
       "      <td>0.21</td>\n",
       "      <td>428158.0</td>\n",
       "      <td>1378669.0</td>\n",
       "      <td>90010.0</td>\n",
       "      <td>6665</td>\n",
       "    </tr>\n",
       "    <tr>\n",
       "      <th>2</th>\n",
       "      <td>PERFIOS_INCOME</td>\n",
       "      <td>PRODUCT_GROUP</td>\n",
       "      <td>ACL</td>\n",
       "      <td>-423.32</td>\n",
       "      <td>0.05</td>\n",
       "      <td>0.54</td>\n",
       "      <td>123868.0</td>\n",
       "      <td>398854.0</td>\n",
       "      <td>66958.0</td>\n",
       "      <td>67849</td>\n",
       "    </tr>\n",
       "    <tr>\n",
       "      <th>3</th>\n",
       "      <td>PERFIOS_INCOME</td>\n",
       "      <td>PRODUCT_GROUP</td>\n",
       "      <td>CD</td>\n",
       "      <td>-171.41</td>\n",
       "      <td>0.07</td>\n",
       "      <td>0.58</td>\n",
       "      <td>98431.0</td>\n",
       "      <td>316948.0</td>\n",
       "      <td>57234.0</td>\n",
       "      <td>19098</td>\n",
       "    </tr>\n",
       "    <tr>\n",
       "      <th>4</th>\n",
       "      <td>PERFIOS_INCOME</td>\n",
       "      <td>PRODUCT_GROUP</td>\n",
       "      <td>CL</td>\n",
       "      <td>-422.61</td>\n",
       "      <td>0.04</td>\n",
       "      <td>0.49</td>\n",
       "      <td>133136.0</td>\n",
       "      <td>428698.0</td>\n",
       "      <td>65074.0</td>\n",
       "      <td>3592</td>\n",
       "    </tr>\n",
       "    <tr>\n",
       "      <th>...</th>\n",
       "      <td>...</td>\n",
       "      <td>...</td>\n",
       "      <td>...</td>\n",
       "      <td>...</td>\n",
       "      <td>...</td>\n",
       "      <td>...</td>\n",
       "      <td>...</td>\n",
       "      <td>...</td>\n",
       "      <td>...</td>\n",
       "      <td>...</td>\n",
       "    </tr>\n",
       "    <tr>\n",
       "      <th>108</th>\n",
       "      <td>SDK_INCOME</td>\n",
       "      <td>MAX_DPD_BIN</td>\n",
       "      <td>2). 1-10</td>\n",
       "      <td>-37.86</td>\n",
       "      <td>0.01</td>\n",
       "      <td>0.52</td>\n",
       "      <td>135365.0</td>\n",
       "      <td>435876.0</td>\n",
       "      <td>69952.0</td>\n",
       "      <td>109233</td>\n",
       "    </tr>\n",
       "    <tr>\n",
       "      <th>109</th>\n",
       "      <td>SDK_INCOME</td>\n",
       "      <td>MAX_DPD_BIN</td>\n",
       "      <td>3). 11-20</td>\n",
       "      <td>-28.60</td>\n",
       "      <td>0.03</td>\n",
       "      <td>0.56</td>\n",
       "      <td>138366.0</td>\n",
       "      <td>445538.0</td>\n",
       "      <td>78042.0</td>\n",
       "      <td>17394</td>\n",
       "    </tr>\n",
       "    <tr>\n",
       "      <th>110</th>\n",
       "      <td>SDK_INCOME</td>\n",
       "      <td>TRADELINE_COUNT_BIN</td>\n",
       "      <td>3) &gt;=5</td>\n",
       "      <td>-119.41</td>\n",
       "      <td>0.01</td>\n",
       "      <td>0.40</td>\n",
       "      <td>190067.0</td>\n",
       "      <td>612016.0</td>\n",
       "      <td>76931.0</td>\n",
       "      <td>422840</td>\n",
       "    </tr>\n",
       "    <tr>\n",
       "      <th>111</th>\n",
       "      <td>SDK_INCOME</td>\n",
       "      <td>TRADELINE_COUNT_BIN</td>\n",
       "      <td>1) 0-2</td>\n",
       "      <td>-1.31</td>\n",
       "      <td>0.01</td>\n",
       "      <td>2.44</td>\n",
       "      <td>15007.0</td>\n",
       "      <td>48322.0</td>\n",
       "      <td>36649.0</td>\n",
       "      <td>160474</td>\n",
       "    </tr>\n",
       "    <tr>\n",
       "      <th>112</th>\n",
       "      <td>SDK_INCOME</td>\n",
       "      <td>TRADELINE_COUNT_BIN</td>\n",
       "      <td>2) 3-4</td>\n",
       "      <td>-4.43</td>\n",
       "      <td>0.01</td>\n",
       "      <td>1.45</td>\n",
       "      <td>29616.0</td>\n",
       "      <td>95364.0</td>\n",
       "      <td>42864.0</td>\n",
       "      <td>141693</td>\n",
       "    </tr>\n",
       "  </tbody>\n",
       "</table>\n",
       "<p>113 rows × 10 columns</p>\n",
       "</div>"
      ],
      "text/plain": [
       "        income_type           summary_by       bins  r-square  correlation  \\\n",
       "0    PERFIOS_INCOME              HL_FLAG          0   -260.25         0.05   \n",
       "1    PERFIOS_INCOME              HL_FLAG          1  -1862.36         0.07   \n",
       "2    PERFIOS_INCOME        PRODUCT_GROUP        ACL   -423.32         0.05   \n",
       "3    PERFIOS_INCOME        PRODUCT_GROUP         CD   -171.41         0.07   \n",
       "4    PERFIOS_INCOME        PRODUCT_GROUP         CL   -422.61         0.04   \n",
       "..              ...                  ...        ...       ...          ...   \n",
       "108      SDK_INCOME          MAX_DPD_BIN   2). 1-10    -37.86         0.01   \n",
       "109      SDK_INCOME          MAX_DPD_BIN  3). 11-20    -28.60         0.03   \n",
       "110      SDK_INCOME  TRADELINE_COUNT_BIN     3) >=5   -119.41         0.01   \n",
       "111      SDK_INCOME  TRADELINE_COUNT_BIN     1) 0-2     -1.31         0.01   \n",
       "112      SDK_INCOME  TRADELINE_COUNT_BIN     2) 3-4     -4.43         0.01   \n",
       "\n",
       "     ratio  avg_final_emi  avg_est_income  avg_act_income  case_count  \n",
       "0     0.69        94303.0        303654.0         64999.0       94401  \n",
       "1     0.21       428158.0       1378669.0         90010.0        6665  \n",
       "2     0.54       123868.0        398854.0         66958.0       67849  \n",
       "3     0.58        98431.0        316948.0         57234.0       19098  \n",
       "4     0.49       133136.0        428698.0         65074.0        3592  \n",
       "..     ...            ...             ...             ...         ...  \n",
       "108   0.52       135365.0        435876.0         69952.0      109233  \n",
       "109   0.56       138366.0        445538.0         78042.0       17394  \n",
       "110   0.40       190067.0        612016.0         76931.0      422840  \n",
       "111   2.44        15007.0         48322.0         36649.0      160474  \n",
       "112   1.45        29616.0         95364.0         42864.0      141693  \n",
       "\n",
       "[113 rows x 10 columns]"
      ]
     },
     "execution_count": 197,
     "metadata": {},
     "output_type": "execute_result"
    }
   ],
   "source": [
    "pd.DataFrame(dic)"
   ]
  },
  {
   "cell_type": "code",
   "execution_count": null,
   "metadata": {},
   "outputs": [],
   "source": []
  },
  {
   "cell_type": "code",
   "execution_count": 198,
   "metadata": {},
   "outputs": [],
   "source": [
    "pd.DataFrame(dic).to_csv(\"summary.csv\", index = False)"
   ]
  },
  {
   "cell_type": "code",
   "execution_count": null,
   "metadata": {},
   "outputs": [],
   "source": []
  },
  {
   "cell_type": "code",
   "execution_count": null,
   "metadata": {},
   "outputs": [],
   "source": []
  },
  {
   "cell_type": "code",
   "execution_count": null,
   "metadata": {},
   "outputs": [],
   "source": []
  },
  {
   "cell_type": "code",
   "execution_count": null,
   "metadata": {},
   "outputs": [],
   "source": []
  },
  {
   "cell_type": "code",
   "execution_count": null,
   "metadata": {},
   "outputs": [],
   "source": []
  },
  {
   "cell_type": "markdown",
   "metadata": {},
   "source": [
    "# Archieve"
   ]
  },
  {
   "cell_type": "code",
   "execution_count": 15,
   "metadata": {},
   "outputs": [],
   "source": [
    "df_perfios = df.dropna(subset = ['PERFIOS_INCOME'])\n",
    "df_perfios = df_perfios[df_perfios[\"PERFIOS_INCOME\"]>0]"
   ]
  },
  {
   "cell_type": "code",
   "execution_count": 17,
   "metadata": {},
   "outputs": [
    {
     "data": {
      "text/plain": [
       "(119424, 14)"
      ]
     },
     "execution_count": 17,
     "metadata": {},
     "output_type": "execute_result"
    }
   ],
   "source": [
    "df_perfios.shape"
   ]
  },
  {
   "cell_type": "code",
   "execution_count": 19,
   "metadata": {},
   "outputs": [
    {
     "data": {
      "text/html": [
       "<div>\n",
       "<style scoped>\n",
       "    .dataframe tbody tr th:only-of-type {\n",
       "        vertical-align: middle;\n",
       "    }\n",
       "\n",
       "    .dataframe tbody tr th {\n",
       "        vertical-align: top;\n",
       "    }\n",
       "\n",
       "    .dataframe thead th {\n",
       "        text-align: right;\n",
       "    }\n",
       "</style>\n",
       "<table border=\"1\" class=\"dataframe\">\n",
       "  <thead>\n",
       "    <tr style=\"text-align: right;\">\n",
       "      <th></th>\n",
       "      <th>SKP_CREDIT_CASE</th>\n",
       "      <th>FINAL_EMI</th>\n",
       "      <th>ESTIMATED_INCOME</th>\n",
       "      <th>PERFIOS_INCOME</th>\n",
       "      <th>SDK_INCOME</th>\n",
       "      <th>YODLEE_INCOME</th>\n",
       "      <th>TIME_CREATION_DATE</th>\n",
       "      <th>TRADELINE_COUNT</th>\n",
       "      <th>MAX_DPD</th>\n",
       "      <th>HL_FLAG</th>\n",
       "      <th>PRODUCT_GROUP</th>\n",
       "      <th>SCORE_CB</th>\n",
       "      <th>CLIENT_EXI_3M</th>\n",
       "      <th>MONTH</th>\n",
       "    </tr>\n",
       "  </thead>\n",
       "  <tbody>\n",
       "    <tr>\n",
       "      <th>389532</th>\n",
       "      <td>302193954</td>\n",
       "      <td>1300.0</td>\n",
       "      <td>4186.0</td>\n",
       "      <td>69738.17</td>\n",
       "      <td>20095.0</td>\n",
       "      <td>NaN</td>\n",
       "      <td>2020-04-23</td>\n",
       "      <td>1</td>\n",
       "      <td>0.0</td>\n",
       "      <td>0</td>\n",
       "      <td>ACL</td>\n",
       "      <td>737.0</td>\n",
       "      <td>N</td>\n",
       "      <td>2020-04</td>\n",
       "    </tr>\n",
       "    <tr>\n",
       "      <th>389546</th>\n",
       "      <td>302166989</td>\n",
       "      <td>32955.0</td>\n",
       "      <td>106115.0</td>\n",
       "      <td>45649.56</td>\n",
       "      <td>70809.0</td>\n",
       "      <td>NaN</td>\n",
       "      <td>2020-04-23</td>\n",
       "      <td>7</td>\n",
       "      <td>7.0</td>\n",
       "      <td>0</td>\n",
       "      <td>ACL</td>\n",
       "      <td>721.0</td>\n",
       "      <td>N</td>\n",
       "      <td>2020-04</td>\n",
       "    </tr>\n",
       "    <tr>\n",
       "      <th>389551</th>\n",
       "      <td>302183521</td>\n",
       "      <td>2237281.0</td>\n",
       "      <td>7204045.0</td>\n",
       "      <td>285322.49</td>\n",
       "      <td>NaN</td>\n",
       "      <td>NaN</td>\n",
       "      <td>2020-04-23</td>\n",
       "      <td>16</td>\n",
       "      <td>0.5</td>\n",
       "      <td>0</td>\n",
       "      <td>ACL</td>\n",
       "      <td>777.0</td>\n",
       "      <td>N</td>\n",
       "      <td>2020-04</td>\n",
       "    </tr>\n",
       "    <tr>\n",
       "      <th>389580</th>\n",
       "      <td>302175927</td>\n",
       "      <td>33012.0</td>\n",
       "      <td>106299.0</td>\n",
       "      <td>69970.54</td>\n",
       "      <td>41059.0</td>\n",
       "      <td>NaN</td>\n",
       "      <td>2020-04-23</td>\n",
       "      <td>12</td>\n",
       "      <td>0.0</td>\n",
       "      <td>0</td>\n",
       "      <td>ACL</td>\n",
       "      <td>727.0</td>\n",
       "      <td>N</td>\n",
       "      <td>2020-04</td>\n",
       "    </tr>\n",
       "    <tr>\n",
       "      <th>389581</th>\n",
       "      <td>302199130</td>\n",
       "      <td>7005.0</td>\n",
       "      <td>22556.0</td>\n",
       "      <td>55249.17</td>\n",
       "      <td>11313.0</td>\n",
       "      <td>NaN</td>\n",
       "      <td>2020-04-23</td>\n",
       "      <td>3</td>\n",
       "      <td>0.0</td>\n",
       "      <td>0</td>\n",
       "      <td>ACL</td>\n",
       "      <td>705.0</td>\n",
       "      <td>N</td>\n",
       "      <td>2020-04</td>\n",
       "    </tr>\n",
       "  </tbody>\n",
       "</table>\n",
       "</div>"
      ],
      "text/plain": [
       "        SKP_CREDIT_CASE  FINAL_EMI  ESTIMATED_INCOME  PERFIOS_INCOME  \\\n",
       "389532        302193954     1300.0            4186.0        69738.17   \n",
       "389546        302166989    32955.0          106115.0        45649.56   \n",
       "389551        302183521  2237281.0         7204045.0       285322.49   \n",
       "389580        302175927    33012.0          106299.0        69970.54   \n",
       "389581        302199130     7005.0           22556.0        55249.17   \n",
       "\n",
       "        SDK_INCOME  YODLEE_INCOME TIME_CREATION_DATE  TRADELINE_COUNT  \\\n",
       "389532     20095.0            NaN         2020-04-23                1   \n",
       "389546     70809.0            NaN         2020-04-23                7   \n",
       "389551         NaN            NaN         2020-04-23               16   \n",
       "389580     41059.0            NaN         2020-04-23               12   \n",
       "389581     11313.0            NaN         2020-04-23                3   \n",
       "\n",
       "        MAX_DPD  HL_FLAG PRODUCT_GROUP  SCORE_CB CLIENT_EXI_3M    MONTH  \n",
       "389532      0.0        0           ACL     737.0             N  2020-04  \n",
       "389546      7.0        0           ACL     721.0             N  2020-04  \n",
       "389551      0.5        0           ACL     777.0             N  2020-04  \n",
       "389580      0.0        0           ACL     727.0             N  2020-04  \n",
       "389581      0.0        0           ACL     705.0             N  2020-04  "
      ]
     },
     "execution_count": 19,
     "metadata": {},
     "output_type": "execute_result"
    }
   ],
   "source": [
    "df_perfios.head()"
   ]
  },
  {
   "cell_type": "code",
   "execution_count": null,
   "metadata": {},
   "outputs": [],
   "source": []
  },
  {
   "cell_type": "markdown",
   "metadata": {},
   "source": [
    "### Overall"
   ]
  },
  {
   "cell_type": "code",
   "execution_count": 20,
   "metadata": {},
   "outputs": [],
   "source": [
    "from sklearn.metrics import r2_score\n",
    "def r_sq(income_pred, income_act):\n",
    "    return r2_score(income_act, income_pred)\n",
    "\n",
    "def corr(income_pred, income_act):\n",
    "    return np.corrcoef(income_act, income_pred)[0,1]\n",
    "\n",
    "def ratio(emi, income_act):\n",
    "    return np.sum(income_act)/np.sum(emi)\n",
    "    "
   ]
  },
  {
   "cell_type": "code",
   "execution_count": 21,
   "metadata": {},
   "outputs": [
    {
     "name": "stdout",
     "output_type": "stream",
     "text": [
      "-325.95858797943174\n"
     ]
    }
   ],
   "source": [
    "print(r2_score(df_perfios[\"PERFIOS_INCOME\"],df_perfios[\"ESTIMATED_INCOME\"]))"
   ]
  },
  {
   "cell_type": "code",
   "execution_count": 22,
   "metadata": {},
   "outputs": [
    {
     "name": "stdout",
     "output_type": "stream",
     "text": [
      "0.05109160639718854\n"
     ]
    }
   ],
   "source": [
    "print(np.corrcoef(df_perfios[\"PERFIOS_INCOME\"],df_perfios[\"ESTIMATED_INCOME\"])[0,1])"
   ]
  },
  {
   "cell_type": "code",
   "execution_count": 23,
   "metadata": {},
   "outputs": [
    {
     "name": "stdout",
     "output_type": "stream",
     "text": [
      "0.6503242029739614\n"
     ]
    }
   ],
   "source": [
    "print(np.sum(df_perfios[\"PERFIOS_INCOME\"])/sum(df_perfios[\"FINAL_EMI\"]))"
   ]
  },
  {
   "cell_type": "code",
   "execution_count": null,
   "metadata": {},
   "outputs": [],
   "source": []
  }
 ],
 "metadata": {
  "kernelspec": {
   "display_name": "Python 3",
   "language": "python",
   "name": "python3"
  },
  "language_info": {
   "codemirror_mode": {
    "name": "ipython",
    "version": 3
   },
   "file_extension": ".py",
   "mimetype": "text/x-python",
   "name": "python",
   "nbconvert_exporter": "python",
   "pygments_lexer": "ipython3",
   "version": "3.7.3"
  }
 },
 "nbformat": 4,
 "nbformat_minor": 2
}
