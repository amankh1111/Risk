{
 "cells": [
  {
   "cell_type": "markdown",
   "metadata": {},
   "source": [
    "# Import Libraries"
   ]
  },
  {
   "cell_type": "code",
   "execution_count": 110,
   "metadata": {},
   "outputs": [],
   "source": [
    "import pandas as pd\n",
    "import numpy as np\n",
    "import pickle\n",
    "from datetime import datetime as dt\n",
    "from datetime import timedelta\n",
    "from sklearn.linear_model import LogisticRegression\n",
    "from sklearn.metrics import roc_auc_score\n",
    "from sklearn.model_selection import RandomizedSearchCV, train_test_split, StratifiedKFold, cross_val_score\n",
    "import os\n",
    "import cx_Oracle\n",
    "import time\n",
    "from scipy.stats import binom\n",
    "os.chdir(r\"C:\\Users\\aman.khatri91425\\Desktop\\HomeCredit\\UW\\GM WO Product Pillar\")"
   ]
  },
  {
   "cell_type": "markdown",
   "metadata": {},
   "source": [
    "# Read Data"
   ]
  },
  {
   "cell_type": "code",
   "execution_count": 2,
   "metadata": {},
   "outputs": [],
   "source": [
    "# conn = cx_Oracle.connect('HCIN_Jainr1[AP_UWI]','Saber@1989!1','INCL02.IN.PROD/HWIN_USR_DEV.HOMECREDIT.IN')\n",
    "# query = \"\"\"\n",
    "# select * from ak_tmp_gm_wo_pp_dump\n",
    "# ;\n",
    "# \"\"\"\n",
    "\n",
    "# data = pd.read_sql(query, conn)\n",
    "# data.to_csv(os.getcwd()+\"\\Data Files\\combined.csv\", index = False)"
   ]
  },
  {
   "cell_type": "code",
   "execution_count": 40,
   "metadata": {},
   "outputs": [],
   "source": [
    "df= pd.read_csv(os.getcwd()+\"\\Data Files\\export.csv\")"
   ]
  },
  {
   "cell_type": "code",
   "execution_count": 41,
   "metadata": {},
   "outputs": [
    {
     "data": {
      "text/html": [
       "<div>\n",
       "<style scoped>\n",
       "    .dataframe tbody tr th:only-of-type {\n",
       "        vertical-align: middle;\n",
       "    }\n",
       "\n",
       "    .dataframe tbody tr th {\n",
       "        vertical-align: top;\n",
       "    }\n",
       "\n",
       "    .dataframe thead th {\n",
       "        text-align: right;\n",
       "    }\n",
       "</style>\n",
       "<table border=\"1\" class=\"dataframe\">\n",
       "  <thead>\n",
       "    <tr style=\"text-align: right;\">\n",
       "      <th></th>\n",
       "      <th>SKP_CREDIT_CASE</th>\n",
       "      <th>POS_AUG20_DND</th>\n",
       "      <th>POS_AUG20_VODAFONE</th>\n",
       "      <th>POS_AUG20_PAYU</th>\n",
       "      <th>POS_AUG20_GEO</th>\n",
       "      <th>POS_AUG20_INTERNAL</th>\n",
       "      <th>POS_AUG20_PRODUCT</th>\n",
       "      <th>POS_MAR20_CIBIL_LGBM</th>\n",
       "      <th>POS_AUG19_LADDER</th>\n",
       "      <th>POS_AUG20_GM</th>\n",
       "      <th>...</th>\n",
       "      <th>CLIENT_EXI_3M</th>\n",
       "      <th>SCORE_CB</th>\n",
       "      <th>FLAG_1PCT_PHANTOM</th>\n",
       "      <th>DECISION_OVERALL</th>\n",
       "      <th>RISK_AGRF10</th>\n",
       "      <th>RISK_AGRF30</th>\n",
       "      <th>RISK_AGRF60</th>\n",
       "      <th>RISK_FPD10</th>\n",
       "      <th>RISK_FPD30</th>\n",
       "      <th>RISK_FSPD30</th>\n",
       "    </tr>\n",
       "  </thead>\n",
       "  <tbody>\n",
       "    <tr>\n",
       "      <th>0</th>\n",
       "      <td>306282502</td>\n",
       "      <td>-2.630188</td>\n",
       "      <td>-3.131907</td>\n",
       "      <td>-0.026942</td>\n",
       "      <td>0.032083</td>\n",
       "      <td>-1.739697</td>\n",
       "      <td>-2.491208</td>\n",
       "      <td>-3.460000</td>\n",
       "      <td>-2.587039</td>\n",
       "      <td>-4.217360</td>\n",
       "      <td>...</td>\n",
       "      <td>N</td>\n",
       "      <td>-1.0</td>\n",
       "      <td>1</td>\n",
       "      <td>Approved</td>\n",
       "      <td>1</td>\n",
       "      <td>1</td>\n",
       "      <td>1</td>\n",
       "      <td>0</td>\n",
       "      <td>0</td>\n",
       "      <td>0</td>\n",
       "    </tr>\n",
       "    <tr>\n",
       "      <th>1</th>\n",
       "      <td>306283929</td>\n",
       "      <td>-2.796292</td>\n",
       "      <td>-3.131907</td>\n",
       "      <td>-0.026942</td>\n",
       "      <td>0.032083</td>\n",
       "      <td>-2.206292</td>\n",
       "      <td>-2.109609</td>\n",
       "      <td>-2.259395</td>\n",
       "      <td>-2.589282</td>\n",
       "      <td>-3.258493</td>\n",
       "      <td>...</td>\n",
       "      <td>N</td>\n",
       "      <td>-1.0</td>\n",
       "      <td>1</td>\n",
       "      <td>Approved</td>\n",
       "      <td>1</td>\n",
       "      <td>1</td>\n",
       "      <td>1</td>\n",
       "      <td>0</td>\n",
       "      <td>0</td>\n",
       "      <td>0</td>\n",
       "    </tr>\n",
       "    <tr>\n",
       "      <th>2</th>\n",
       "      <td>306284197</td>\n",
       "      <td>-2.630188</td>\n",
       "      <td>-3.131907</td>\n",
       "      <td>-0.026942</td>\n",
       "      <td>0.032083</td>\n",
       "      <td>-1.588279</td>\n",
       "      <td>-2.640708</td>\n",
       "      <td>-3.460000</td>\n",
       "      <td>-2.587039</td>\n",
       "      <td>-4.229386</td>\n",
       "      <td>...</td>\n",
       "      <td>N</td>\n",
       "      <td>-1.0</td>\n",
       "      <td>1</td>\n",
       "      <td>Approved</td>\n",
       "      <td>1</td>\n",
       "      <td>1</td>\n",
       "      <td>1</td>\n",
       "      <td>0</td>\n",
       "      <td>0</td>\n",
       "      <td>0</td>\n",
       "    </tr>\n",
       "    <tr>\n",
       "      <th>3</th>\n",
       "      <td>306284217</td>\n",
       "      <td>-2.630188</td>\n",
       "      <td>-3.131907</td>\n",
       "      <td>0.374091</td>\n",
       "      <td>0.032083</td>\n",
       "      <td>-2.116562</td>\n",
       "      <td>-2.010056</td>\n",
       "      <td>-3.506836</td>\n",
       "      <td>-2.733354</td>\n",
       "      <td>-4.624282</td>\n",
       "      <td>...</td>\n",
       "      <td>N</td>\n",
       "      <td>755.0</td>\n",
       "      <td>1</td>\n",
       "      <td>Approved</td>\n",
       "      <td>1</td>\n",
       "      <td>1</td>\n",
       "      <td>1</td>\n",
       "      <td>0</td>\n",
       "      <td>0</td>\n",
       "      <td>0</td>\n",
       "    </tr>\n",
       "    <tr>\n",
       "      <th>4</th>\n",
       "      <td>306284631</td>\n",
       "      <td>-2.630188</td>\n",
       "      <td>-3.131907</td>\n",
       "      <td>-0.026942</td>\n",
       "      <td>0.032083</td>\n",
       "      <td>-0.986074</td>\n",
       "      <td>-2.253607</td>\n",
       "      <td>-3.740557</td>\n",
       "      <td>-2.587039</td>\n",
       "      <td>-3.707889</td>\n",
       "      <td>...</td>\n",
       "      <td>N</td>\n",
       "      <td>-1.0</td>\n",
       "      <td>1</td>\n",
       "      <td>Approved</td>\n",
       "      <td>1</td>\n",
       "      <td>1</td>\n",
       "      <td>1</td>\n",
       "      <td>0</td>\n",
       "      <td>0</td>\n",
       "      <td>0</td>\n",
       "    </tr>\n",
       "  </tbody>\n",
       "</table>\n",
       "<p>5 rows × 22 columns</p>\n",
       "</div>"
      ],
      "text/plain": [
       "   SKP_CREDIT_CASE  POS_AUG20_DND  POS_AUG20_VODAFONE  POS_AUG20_PAYU  \\\n",
       "0        306282502      -2.630188           -3.131907       -0.026942   \n",
       "1        306283929      -2.796292           -3.131907       -0.026942   \n",
       "2        306284197      -2.630188           -3.131907       -0.026942   \n",
       "3        306284217      -2.630188           -3.131907        0.374091   \n",
       "4        306284631      -2.630188           -3.131907       -0.026942   \n",
       "\n",
       "   POS_AUG20_GEO  POS_AUG20_INTERNAL  POS_AUG20_PRODUCT  POS_MAR20_CIBIL_LGBM  \\\n",
       "0       0.032083           -1.739697          -2.491208             -3.460000   \n",
       "1       0.032083           -2.206292          -2.109609             -2.259395   \n",
       "2       0.032083           -1.588279          -2.640708             -3.460000   \n",
       "3       0.032083           -2.116562          -2.010056             -3.506836   \n",
       "4       0.032083           -0.986074          -2.253607             -3.740557   \n",
       "\n",
       "   POS_AUG19_LADDER  POS_AUG20_GM  ...  CLIENT_EXI_3M SCORE_CB  \\\n",
       "0         -2.587039     -4.217360  ...              N     -1.0   \n",
       "1         -2.589282     -3.258493  ...              N     -1.0   \n",
       "2         -2.587039     -4.229386  ...              N     -1.0   \n",
       "3         -2.733354     -4.624282  ...              N    755.0   \n",
       "4         -2.587039     -3.707889  ...              N     -1.0   \n",
       "\n",
       "  FLAG_1PCT_PHANTOM  DECISION_OVERALL  RISK_AGRF10 RISK_AGRF30  RISK_AGRF60  \\\n",
       "0                 1          Approved            1           1            1   \n",
       "1                 1          Approved            1           1            1   \n",
       "2                 1          Approved            1           1            1   \n",
       "3                 1          Approved            1           1            1   \n",
       "4                 1          Approved            1           1            1   \n",
       "\n",
       "   RISK_FPD10  RISK_FPD30  RISK_FSPD30  \n",
       "0           0           0            0  \n",
       "1           0           0            0  \n",
       "2           0           0            0  \n",
       "3           0           0            0  \n",
       "4           0           0            0  \n",
       "\n",
       "[5 rows x 22 columns]"
      ]
     },
     "execution_count": 41,
     "metadata": {},
     "output_type": "execute_result"
    }
   ],
   "source": [
    "df.head()"
   ]
  },
  {
   "cell_type": "markdown",
   "metadata": {},
   "source": [
    "# Define Key Variables"
   ]
  },
  {
   "cell_type": "code",
   "execution_count": 42,
   "metadata": {},
   "outputs": [],
   "source": [
    "TIME_CREATION_DATE = 'TIME_DECISION_DATE'\n",
    "TARGET = 'RISK_FPD30'\n",
    "PHANTOMAS_FLAG = 'FLAG_1PCT_PHANTOM'\n",
    "AGRF_FLAG = \"RISK_AGRF30\""
   ]
  },
  {
   "cell_type": "markdown",
   "metadata": {},
   "source": [
    "# Format Date Columns"
   ]
  },
  {
   "cell_type": "code",
   "execution_count": 43,
   "metadata": {},
   "outputs": [],
   "source": [
    "df[TIME_CREATION_DATE] = pd.to_datetime(df[TIME_CREATION_DATE], format = '%d-%m-%y')\n",
    "df[\"MONTH\"] = df[TIME_CREATION_DATE].dt.strftime(\"%Y-%m\")"
   ]
  },
  {
   "cell_type": "code",
   "execution_count": 66,
   "metadata": {},
   "outputs": [
    {
     "data": {
      "text/plain": [
       "Index(['SKP_CREDIT_CASE', 'POS_AUG20_DND', 'POS_AUG20_VODAFONE',\n",
       "       'POS_AUG20_PAYU', 'POS_AUG20_GEO', 'POS_AUG20_INTERNAL',\n",
       "       'POS_AUG20_PRODUCT', 'POS_MAR20_CIBIL_LGBM', 'POS_AUG19_LADDER',\n",
       "       'POS_AUG20_GM', 'POS_AUG20_GM_WO_PRODUCT', 'TIME_DECISION_DATE',\n",
       "       'CLIENT_EXI_3M', 'SCORE_CB', 'FLAG_1PCT_PHANTOM', 'DECISION_OVERALL',\n",
       "       'RISK_AGRF10', 'RISK_AGRF30', 'RISK_AGRF60', 'RISK_FPD10', 'RISK_FPD30',\n",
       "       'RISK_FSPD30', 'MONTH', 'GM_LR_WO_PP'],\n",
       "      dtype='object')"
      ]
     },
     "execution_count": 66,
     "metadata": {},
     "output_type": "execute_result"
    }
   ],
   "source": [
    "df.columns"
   ]
  },
  {
   "cell_type": "code",
   "execution_count": 44,
   "metadata": {},
   "outputs": [
    {
     "data": {
      "text/html": [
       "<div>\n",
       "<style scoped>\n",
       "    .dataframe tbody tr th:only-of-type {\n",
       "        vertical-align: middle;\n",
       "    }\n",
       "\n",
       "    .dataframe tbody tr th {\n",
       "        vertical-align: top;\n",
       "    }\n",
       "\n",
       "    .dataframe thead th {\n",
       "        text-align: right;\n",
       "    }\n",
       "</style>\n",
       "<table border=\"1\" class=\"dataframe\">\n",
       "  <thead>\n",
       "    <tr style=\"text-align: right;\">\n",
       "      <th></th>\n",
       "      <th>SKP_CREDIT_CASE</th>\n",
       "      <th>POS_AUG20_DND</th>\n",
       "      <th>POS_AUG20_VODAFONE</th>\n",
       "      <th>POS_AUG20_PAYU</th>\n",
       "      <th>POS_AUG20_GEO</th>\n",
       "      <th>POS_AUG20_INTERNAL</th>\n",
       "      <th>POS_AUG20_PRODUCT</th>\n",
       "      <th>POS_MAR20_CIBIL_LGBM</th>\n",
       "      <th>POS_AUG19_LADDER</th>\n",
       "      <th>POS_AUG20_GM</th>\n",
       "      <th>...</th>\n",
       "      <th>SCORE_CB</th>\n",
       "      <th>FLAG_1PCT_PHANTOM</th>\n",
       "      <th>DECISION_OVERALL</th>\n",
       "      <th>RISK_AGRF10</th>\n",
       "      <th>RISK_AGRF30</th>\n",
       "      <th>RISK_AGRF60</th>\n",
       "      <th>RISK_FPD10</th>\n",
       "      <th>RISK_FPD30</th>\n",
       "      <th>RISK_FSPD30</th>\n",
       "      <th>MONTH</th>\n",
       "    </tr>\n",
       "  </thead>\n",
       "  <tbody>\n",
       "    <tr>\n",
       "      <th>0</th>\n",
       "      <td>306282502</td>\n",
       "      <td>-2.630188</td>\n",
       "      <td>-3.131907</td>\n",
       "      <td>-0.026942</td>\n",
       "      <td>0.032083</td>\n",
       "      <td>-1.739697</td>\n",
       "      <td>-2.491208</td>\n",
       "      <td>-3.460000</td>\n",
       "      <td>-2.587039</td>\n",
       "      <td>-4.217360</td>\n",
       "      <td>...</td>\n",
       "      <td>-1.0</td>\n",
       "      <td>1</td>\n",
       "      <td>Approved</td>\n",
       "      <td>1</td>\n",
       "      <td>1</td>\n",
       "      <td>1</td>\n",
       "      <td>0</td>\n",
       "      <td>0</td>\n",
       "      <td>0</td>\n",
       "      <td>2020-06</td>\n",
       "    </tr>\n",
       "    <tr>\n",
       "      <th>1</th>\n",
       "      <td>306283929</td>\n",
       "      <td>-2.796292</td>\n",
       "      <td>-3.131907</td>\n",
       "      <td>-0.026942</td>\n",
       "      <td>0.032083</td>\n",
       "      <td>-2.206292</td>\n",
       "      <td>-2.109609</td>\n",
       "      <td>-2.259395</td>\n",
       "      <td>-2.589282</td>\n",
       "      <td>-3.258493</td>\n",
       "      <td>...</td>\n",
       "      <td>-1.0</td>\n",
       "      <td>1</td>\n",
       "      <td>Approved</td>\n",
       "      <td>1</td>\n",
       "      <td>1</td>\n",
       "      <td>1</td>\n",
       "      <td>0</td>\n",
       "      <td>0</td>\n",
       "      <td>0</td>\n",
       "      <td>2020-06</td>\n",
       "    </tr>\n",
       "    <tr>\n",
       "      <th>2</th>\n",
       "      <td>306284197</td>\n",
       "      <td>-2.630188</td>\n",
       "      <td>-3.131907</td>\n",
       "      <td>-0.026942</td>\n",
       "      <td>0.032083</td>\n",
       "      <td>-1.588279</td>\n",
       "      <td>-2.640708</td>\n",
       "      <td>-3.460000</td>\n",
       "      <td>-2.587039</td>\n",
       "      <td>-4.229386</td>\n",
       "      <td>...</td>\n",
       "      <td>-1.0</td>\n",
       "      <td>1</td>\n",
       "      <td>Approved</td>\n",
       "      <td>1</td>\n",
       "      <td>1</td>\n",
       "      <td>1</td>\n",
       "      <td>0</td>\n",
       "      <td>0</td>\n",
       "      <td>0</td>\n",
       "      <td>2020-06</td>\n",
       "    </tr>\n",
       "    <tr>\n",
       "      <th>3</th>\n",
       "      <td>306284217</td>\n",
       "      <td>-2.630188</td>\n",
       "      <td>-3.131907</td>\n",
       "      <td>0.374091</td>\n",
       "      <td>0.032083</td>\n",
       "      <td>-2.116562</td>\n",
       "      <td>-2.010056</td>\n",
       "      <td>-3.506836</td>\n",
       "      <td>-2.733354</td>\n",
       "      <td>-4.624282</td>\n",
       "      <td>...</td>\n",
       "      <td>755.0</td>\n",
       "      <td>1</td>\n",
       "      <td>Approved</td>\n",
       "      <td>1</td>\n",
       "      <td>1</td>\n",
       "      <td>1</td>\n",
       "      <td>0</td>\n",
       "      <td>0</td>\n",
       "      <td>0</td>\n",
       "      <td>2020-06</td>\n",
       "    </tr>\n",
       "    <tr>\n",
       "      <th>4</th>\n",
       "      <td>306284631</td>\n",
       "      <td>-2.630188</td>\n",
       "      <td>-3.131907</td>\n",
       "      <td>-0.026942</td>\n",
       "      <td>0.032083</td>\n",
       "      <td>-0.986074</td>\n",
       "      <td>-2.253607</td>\n",
       "      <td>-3.740557</td>\n",
       "      <td>-2.587039</td>\n",
       "      <td>-3.707889</td>\n",
       "      <td>...</td>\n",
       "      <td>-1.0</td>\n",
       "      <td>1</td>\n",
       "      <td>Approved</td>\n",
       "      <td>1</td>\n",
       "      <td>1</td>\n",
       "      <td>1</td>\n",
       "      <td>0</td>\n",
       "      <td>0</td>\n",
       "      <td>0</td>\n",
       "      <td>2020-06</td>\n",
       "    </tr>\n",
       "  </tbody>\n",
       "</table>\n",
       "<p>5 rows × 23 columns</p>\n",
       "</div>"
      ],
      "text/plain": [
       "   SKP_CREDIT_CASE  POS_AUG20_DND  POS_AUG20_VODAFONE  POS_AUG20_PAYU  \\\n",
       "0        306282502      -2.630188           -3.131907       -0.026942   \n",
       "1        306283929      -2.796292           -3.131907       -0.026942   \n",
       "2        306284197      -2.630188           -3.131907       -0.026942   \n",
       "3        306284217      -2.630188           -3.131907        0.374091   \n",
       "4        306284631      -2.630188           -3.131907       -0.026942   \n",
       "\n",
       "   POS_AUG20_GEO  POS_AUG20_INTERNAL  POS_AUG20_PRODUCT  POS_MAR20_CIBIL_LGBM  \\\n",
       "0       0.032083           -1.739697          -2.491208             -3.460000   \n",
       "1       0.032083           -2.206292          -2.109609             -2.259395   \n",
       "2       0.032083           -1.588279          -2.640708             -3.460000   \n",
       "3       0.032083           -2.116562          -2.010056             -3.506836   \n",
       "4       0.032083           -0.986074          -2.253607             -3.740557   \n",
       "\n",
       "   POS_AUG19_LADDER  POS_AUG20_GM  ...  SCORE_CB FLAG_1PCT_PHANTOM  \\\n",
       "0         -2.587039     -4.217360  ...      -1.0                 1   \n",
       "1         -2.589282     -3.258493  ...      -1.0                 1   \n",
       "2         -2.587039     -4.229386  ...      -1.0                 1   \n",
       "3         -2.733354     -4.624282  ...     755.0                 1   \n",
       "4         -2.587039     -3.707889  ...      -1.0                 1   \n",
       "\n",
       "  DECISION_OVERALL  RISK_AGRF10  RISK_AGRF30 RISK_AGRF60  RISK_FPD10  \\\n",
       "0         Approved            1            1           1           0   \n",
       "1         Approved            1            1           1           0   \n",
       "2         Approved            1            1           1           0   \n",
       "3         Approved            1            1           1           0   \n",
       "4         Approved            1            1           1           0   \n",
       "\n",
       "   RISK_FPD30  RISK_FSPD30    MONTH  \n",
       "0           0            0  2020-06  \n",
       "1           0            0  2020-06  \n",
       "2           0            0  2020-06  \n",
       "3           0            0  2020-06  \n",
       "4           0            0  2020-06  \n",
       "\n",
       "[5 rows x 23 columns]"
      ]
     },
     "execution_count": 44,
     "metadata": {},
     "output_type": "execute_result"
    }
   ],
   "source": [
    "df.head()"
   ]
  },
  {
   "cell_type": "markdown",
   "metadata": {},
   "source": [
    "# Split Train Test Data"
   ]
  },
  {
   "cell_type": "markdown",
   "metadata": {},
   "source": [
    "### Define Predictors"
   ]
  },
  {
   "cell_type": "code",
   "execution_count": 45,
   "metadata": {},
   "outputs": [],
   "source": [
    "x_columns = [\"POS_AUG20_DND\", \"POS_AUG20_VODAFONE\", \"POS_AUG20_PAYU\", \"POS_AUG20_GEO\", \n",
    "             \"POS_AUG20_INTERNAL\", \"POS_AUG19_LADDER\"]"
   ]
  },
  {
   "cell_type": "code",
   "execution_count": 46,
   "metadata": {},
   "outputs": [
    {
     "name": "stdout",
     "output_type": "stream",
     "text": [
      "POS_AUG20_DND 0\n",
      "POS_AUG20_VODAFONE 0\n",
      "POS_AUG20_PAYU 0\n",
      "POS_AUG20_GEO 0\n",
      "POS_AUG20_INTERNAL 0\n",
      "POS_AUG19_LADDER 128560\n"
     ]
    }
   ],
   "source": [
    "for x in x_columns: \n",
    "    print(x, df[x].isna().sum())"
   ]
  },
  {
   "cell_type": "code",
   "execution_count": 47,
   "metadata": {},
   "outputs": [],
   "source": [
    "df.dropna(subset = x_columns, inplace = True)"
   ]
  },
  {
   "cell_type": "code",
   "execution_count": 48,
   "metadata": {},
   "outputs": [
    {
     "data": {
      "text/plain": [
       "Timestamp('2020-06-01 00:00:00')"
      ]
     },
     "execution_count": 48,
     "metadata": {},
     "output_type": "execute_result"
    }
   ],
   "source": [
    "df.TIME_DECISION_DATE.min()"
   ]
  },
  {
   "cell_type": "code",
   "execution_count": 49,
   "metadata": {},
   "outputs": [
    {
     "name": "stdout",
     "output_type": "stream",
     "text": [
      "Event rate in train set : 2.55%\n",
      "Train set shape: (21839, 6)\n",
      "Event rate in test set : 0.28%\n",
      "Train set shape: (244482, 6)\n"
     ]
    },
    {
     "name": "stderr",
     "output_type": "stream",
     "text": [
      "C:\\Users\\aman.khatri91425\\AppData\\Local\\Continuum\\anaconda3\\lib\\site-packages\\ipykernel_launcher.py:1: FutureWarning: The pandas.datetime class is deprecated and will be removed from pandas in a future version. Import from datetime module instead.\n",
      "  \"\"\"Entry point for launching an IPython kernel.\n",
      "C:\\Users\\aman.khatri91425\\AppData\\Local\\Continuum\\anaconda3\\lib\\site-packages\\ipykernel_launcher.py:2: FutureWarning: The pandas.datetime class is deprecated and will be removed from pandas in a future version. Import from datetime module instead.\n",
      "  \n"
     ]
    }
   ],
   "source": [
    "df_train = df[(df[TIME_CREATION_DATE] <= pd.datetime(2020,11,30))]\n",
    "df_test = df[(df[TIME_CREATION_DATE] > pd.datetime(2020,11,30))]\n",
    "\n",
    "print(\"Event rate in train set :\", '{:,.2%}'.format(sum(df_train[TARGET]) / len(df_train[TARGET])))\n",
    "print(\"Train set shape:\",df_train[x_columns].shape)\n",
    "print(\"Event rate in test set :\", '{:,.2%}'.format(sum(df_test[TARGET]) / len(df_test[TARGET])))\n",
    "print(\"Train set shape:\",df_test[x_columns].shape)"
   ]
  },
  {
   "cell_type": "markdown",
   "metadata": {},
   "source": [
    "# Build Logistic Model"
   ]
  },
  {
   "cell_type": "markdown",
   "metadata": {},
   "source": [
    "### Fit model only on Phantomas Population"
   ]
  },
  {
   "cell_type": "code",
   "execution_count": 50,
   "metadata": {},
   "outputs": [],
   "source": [
    "df_train = df_train[df_train[PHANTOMAS_FLAG]==1]"
   ]
  },
  {
   "cell_type": "markdown",
   "metadata": {},
   "source": [
    "### L1 Penalty Hyper Parameter Optimization"
   ]
  },
  {
   "cell_type": "code",
   "execution_count": 51,
   "metadata": {},
   "outputs": [],
   "source": [
    "param_grid = {'C':np.exp(np.arange(-7,3,0.01))}\n",
    "\n",
    "kfolds = StratifiedKFold(3, shuffle = True, random_state=1)\n",
    "comb=LogisticRegression(penalty = 'l1', solver = 'liblinear')\n",
    "\n",
    "rcv = RandomizedSearchCV(estimator = comb, param_distributions=param_grid, scoring=['roc_auc'], n_iter = 10,\n",
    "    cv=kfolds.split(df_train[x_columns],df_train[TARGET]), verbose=0, random_state=1,\n",
    "    refit = 'roc_auc', return_train_score=True, error_score = 0)"
   ]
  },
  {
   "cell_type": "code",
   "execution_count": 52,
   "metadata": {},
   "outputs": [
    {
     "name": "stdout",
     "output_type": "stream",
     "text": [
      "Randomized search..\n",
      "Randomized search time: 5.071551322937012\n",
      "{'C': 0.5769498103804074}\n"
     ]
    },
    {
     "data": {
      "image/png": "[encoded data removed]",
      "text/plain": [
       "<Figure size 432x288 with 1 Axes>"
      ]
     },
     "metadata": {
      "needs_background": "light"
     },
     "output_type": "display_data"
    }
   ],
   "source": [
    "#Calculate Gini Lift Logistic Regression\n",
    "print(\"Randomized search..\")\n",
    "search_time_start = time.time()\n",
    "rcv.fit(df_train[x_columns], df_train[TARGET])\n",
    "print(\"Randomized search time:\", time.time() - search_time_start)\n",
    "params = rcv.best_params_   #get best parameters\n",
    "dic=rcv.cv_results_    #provides scoring results for each iteration, 50 in this case, mean values can be used \n",
    "\n",
    "tmp1= pd.DataFrame(dic)[[\"param_C\",\"mean_test_roc_auc\",\"mean_train_roc_auc\"]].sort_values(by = 'param_C')\n",
    "tmp1.plot(x=\"param_C\")\n",
    "print(params)"
   ]
  },
  {
   "cell_type": "markdown",
   "metadata": {},
   "source": [
    "### Logistic Model With optimized Hyperparameters "
   ]
  },
  {
   "cell_type": "code",
   "execution_count": 53,
   "metadata": {},
   "outputs": [
    {
     "name": "stdout",
     "output_type": "stream",
     "text": [
      "Train GINI 0.278\n",
      "Test GINI 0.231\n"
     ]
    }
   ],
   "source": [
    "bst = LogisticRegression(penalty = 'l1', C=params['C'], solver = 'liblinear')\n",
    "\n",
    "bst.fit(df_train[x_columns], df_train[TARGET])\n",
    "\n",
    "ypred_train = bst.predict_proba(df_train[x_columns])[:, 1]\n",
    "ypred_test = bst.predict_proba(df_test[x_columns])[:, 1]\n",
    "df[\"GM_LR_WO_PP\"] =  bst.predict_proba(df[x_columns])[:, 1]\n",
    "print(\"Train GINI %.3f\" % (2*roc_auc_score(df_train[TARGET], ypred_train)-1))\n",
    "print(\"Test GINI %.3f\" % (2*roc_auc_score(df_test[TARGET], ypred_test)-1))"
   ]
  },
  {
   "cell_type": "markdown",
   "metadata": {},
   "source": [
    "### Save Model"
   ]
  },
  {
   "cell_type": "code",
   "execution_count": 54,
   "metadata": {},
   "outputs": [],
   "source": [
    "pickle.dump(bst, open(\"gspn_model\",\"wb\"))\n",
    "# bst =pickle.load(open(b\"Fruits\",\"rb\"))"
   ]
  },
  {
   "cell_type": "markdown",
   "metadata": {},
   "source": [
    "### Model Equation"
   ]
  },
  {
   "cell_type": "code",
   "execution_count": 55,
   "metadata": {},
   "outputs": [
    {
     "data": {
      "text/html": [
       "<div>\n",
       "<style scoped>\n",
       "    .dataframe tbody tr th:only-of-type {\n",
       "        vertical-align: middle;\n",
       "    }\n",
       "\n",
       "    .dataframe tbody tr th {\n",
       "        vertical-align: top;\n",
       "    }\n",
       "\n",
       "    .dataframe thead th {\n",
       "        text-align: right;\n",
       "    }\n",
       "</style>\n",
       "<table border=\"1\" class=\"dataframe\">\n",
       "  <thead>\n",
       "    <tr style=\"text-align: right;\">\n",
       "      <th></th>\n",
       "      <th>column</th>\n",
       "      <th>coeffecient</th>\n",
       "    </tr>\n",
       "  </thead>\n",
       "  <tbody>\n",
       "    <tr>\n",
       "      <th>0</th>\n",
       "      <td>POS_AUG20_DND</td>\n",
       "      <td>-0.269325</td>\n",
       "    </tr>\n",
       "    <tr>\n",
       "      <th>1</th>\n",
       "      <td>POS_AUG20_VODAFONE</td>\n",
       "      <td>0.414718</td>\n",
       "    </tr>\n",
       "    <tr>\n",
       "      <th>2</th>\n",
       "      <td>POS_AUG20_PAYU</td>\n",
       "      <td>-0.881673</td>\n",
       "    </tr>\n",
       "    <tr>\n",
       "      <th>3</th>\n",
       "      <td>POS_AUG20_GEO</td>\n",
       "      <td>0.000000</td>\n",
       "    </tr>\n",
       "    <tr>\n",
       "      <th>4</th>\n",
       "      <td>POS_AUG20_INTERNAL</td>\n",
       "      <td>0.492165</td>\n",
       "    </tr>\n",
       "    <tr>\n",
       "      <th>5</th>\n",
       "      <td>POS_AUG19_LADDER</td>\n",
       "      <td>0.774328</td>\n",
       "    </tr>\n",
       "  </tbody>\n",
       "</table>\n",
       "</div>"
      ],
      "text/plain": [
       "               column  coeffecient\n",
       "0       POS_AUG20_DND    -0.269325\n",
       "1  POS_AUG20_VODAFONE     0.414718\n",
       "2      POS_AUG20_PAYU    -0.881673\n",
       "3       POS_AUG20_GEO     0.000000\n",
       "4  POS_AUG20_INTERNAL     0.492165\n",
       "5    POS_AUG19_LADDER     0.774328"
      ]
     },
     "execution_count": 55,
     "metadata": {},
     "output_type": "execute_result"
    }
   ],
   "source": [
    "pd.DataFrame({\"column\":x_columns,\"coeffecient\":bst.coef_[0]})"
   ]
  },
  {
   "cell_type": "code",
   "execution_count": null,
   "metadata": {},
   "outputs": [],
   "source": []
  },
  {
   "cell_type": "code",
   "execution_count": null,
   "metadata": {},
   "outputs": [],
   "source": []
  },
  {
   "cell_type": "markdown",
   "metadata": {},
   "source": [
    "# Model Evaluation"
   ]
  },
  {
   "cell_type": "markdown",
   "metadata": {},
   "source": [
    "### Check marginal Value add of Predictors"
   ]
  },
  {
   "cell_type": "code",
   "execution_count": 56,
   "metadata": {},
   "outputs": [
    {
     "name": "stderr",
     "output_type": "stream",
     "text": [
      "C:\\Users\\aman.khatri91425\\AppData\\Local\\Continuum\\anaconda3\\lib\\site-packages\\sklearn\\svm\\_base.py:986: ConvergenceWarning: Liblinear failed to converge, increase the number of iterations.\n",
      "  \"the number of iterations.\", ConvergenceWarning)\n",
      "C:\\Users\\aman.khatri91425\\AppData\\Local\\Continuum\\anaconda3\\lib\\site-packages\\sklearn\\svm\\_base.py:986: ConvergenceWarning: Liblinear failed to converge, increase the number of iterations.\n",
      "  \"the number of iterations.\", ConvergenceWarning)\n"
     ]
    }
   ],
   "source": [
    "out = {'pred_list':[],'value':[]}\n",
    "\n",
    "for y in range(len(x_columns)):\n",
    "    tmp = {'pred':[],'value':[]}\n",
    "    for x in x_columns:\n",
    "        if x not in out['pred_list']:\n",
    "            pred = out['pred_list'].copy()\n",
    "            pred.append(x)\n",
    "            bst = LogisticRegression(penalty = 'l1', C=params['C'], solver = 'liblinear')\n",
    "            bst.fit(df_train[pred], df_train[TARGET])\n",
    "            auc_cv = cross_val_score(bst, df_train[pred], df_train[TARGET], scoring='roc_auc', cv=3,n_jobs=-1)\n",
    "            tmp[\"pred\"].append(x)\n",
    "            tmp[\"value\"].append(2 * np.array(auc_cv).mean() - 1)\n",
    "#             print(\"predictors :\",pred,\"Value :\", 2 * np.array(auc_cv).mean() - 1)\n",
    "    tmp_df = pd.DataFrame(tmp)\n",
    "    out['pred_list'].append(tmp_df.loc[tmp_df[\"value\"].idxmax(),\"pred\"])\n",
    "    out['value'].append(tmp_df.loc[tmp_df[\"value\"].idxmax(),\"value\"])    "
   ]
  },
  {
   "cell_type": "code",
   "execution_count": 57,
   "metadata": {
    "scrolled": true
   },
   "outputs": [
    {
     "data": {
      "text/html": [
       "<div>\n",
       "<style scoped>\n",
       "    .dataframe tbody tr th:only-of-type {\n",
       "        vertical-align: middle;\n",
       "    }\n",
       "\n",
       "    .dataframe tbody tr th {\n",
       "        vertical-align: top;\n",
       "    }\n",
       "\n",
       "    .dataframe thead th {\n",
       "        text-align: right;\n",
       "    }\n",
       "</style>\n",
       "<table border=\"1\" class=\"dataframe\">\n",
       "  <thead>\n",
       "    <tr style=\"text-align: right;\">\n",
       "      <th></th>\n",
       "      <th>pred_list</th>\n",
       "      <th>value</th>\n",
       "      <th>increment</th>\n",
       "    </tr>\n",
       "  </thead>\n",
       "  <tbody>\n",
       "    <tr>\n",
       "      <th>0</th>\n",
       "      <td>POS_AUG19_LADDER</td>\n",
       "      <td>0.190147</td>\n",
       "      <td>NaN</td>\n",
       "    </tr>\n",
       "    <tr>\n",
       "      <th>1</th>\n",
       "      <td>POS_AUG20_INTERNAL</td>\n",
       "      <td>0.247128</td>\n",
       "      <td>0.056981</td>\n",
       "    </tr>\n",
       "    <tr>\n",
       "      <th>2</th>\n",
       "      <td>POS_AUG20_VODAFONE</td>\n",
       "      <td>0.257073</td>\n",
       "      <td>0.009945</td>\n",
       "    </tr>\n",
       "    <tr>\n",
       "      <th>3</th>\n",
       "      <td>POS_AUG20_PAYU</td>\n",
       "      <td>0.260484</td>\n",
       "      <td>0.003412</td>\n",
       "    </tr>\n",
       "    <tr>\n",
       "      <th>4</th>\n",
       "      <td>POS_AUG20_GEO</td>\n",
       "      <td>0.260356</td>\n",
       "      <td>-0.000128</td>\n",
       "    </tr>\n",
       "    <tr>\n",
       "      <th>5</th>\n",
       "      <td>POS_AUG20_DND</td>\n",
       "      <td>0.259461</td>\n",
       "      <td>-0.000895</td>\n",
       "    </tr>\n",
       "  </tbody>\n",
       "</table>\n",
       "</div>"
      ],
      "text/plain": [
       "            pred_list     value  increment\n",
       "0    POS_AUG19_LADDER  0.190147        NaN\n",
       "1  POS_AUG20_INTERNAL  0.247128   0.056981\n",
       "2  POS_AUG20_VODAFONE  0.257073   0.009945\n",
       "3      POS_AUG20_PAYU  0.260484   0.003412\n",
       "4       POS_AUG20_GEO  0.260356  -0.000128\n",
       "5       POS_AUG20_DND  0.259461  -0.000895"
      ]
     },
     "execution_count": 57,
     "metadata": {},
     "output_type": "execute_result"
    }
   ],
   "source": [
    "out_df = pd.DataFrame(out)\n",
    "out_df[\"increment\"] = out_df.value-out_df.shift(1)[\"value\"]\n",
    "out_df"
   ]
  },
  {
   "cell_type": "code",
   "execution_count": null,
   "metadata": {},
   "outputs": [],
   "source": []
  },
  {
   "cell_type": "markdown",
   "metadata": {},
   "source": [
    "# Dummy Score"
   ]
  },
  {
   "cell_type": "code",
   "execution_count": 126,
   "metadata": {},
   "outputs": [],
   "source": [
    "df[\"GM_LR_WO_PP_DUMMY\"] = 0.348692*df[\"POS_AUG20_DND\"]+1.012241*df[\"POS_AUG20_VODAFONE\"]+0.740426*df[\"POS_AUG20_INTERNAL\"]+  0.789771*df[\"POS_AUG19_LADDER\"]-0.72307*df[\"POS_AUG20_GEO\"]-1.32087*df[\"POS_AUG20_PAYU\"]+3.662210860407933"
   ]
  },
  {
   "cell_type": "code",
   "execution_count": null,
   "metadata": {},
   "outputs": [],
   "source": []
  },
  {
   "cell_type": "markdown",
   "metadata": {},
   "source": [
    "# MOM Gini"
   ]
  },
  {
   "cell_type": "markdown",
   "metadata": {},
   "source": [
    "### MOM Gini (Phantomas Base: FPD10)"
   ]
  },
  {
   "cell_type": "code",
   "execution_count": 96,
   "metadata": {},
   "outputs": [
    {
     "name": "stderr",
     "output_type": "stream",
     "text": [
      "C:\\Users\\aman.khatri91425\\AppData\\Local\\Continuum\\anaconda3\\lib\\site-packages\\ipykernel_launcher.py:4: FutureWarning: The pandas.datetime class is deprecated and will be removed from pandas in a future version. Import from datetime module instead.\n",
      "  after removing the cwd from sys.path.\n"
     ]
    }
   ],
   "source": [
    "df_temp = df.dropna(subset = [\"POS_AUG20_GM\"])\n",
    "df_temp = df_temp[df_temp[PHANTOMAS_FLAG]==1.0]\n",
    "df_temp = df_temp[df_temp[\"RISK_AGRF10\"]==1]\n",
    "df_temp = df_temp[df_temp[TIME_CREATION_DATE]<=pd.datetime(2020,10,31)]\n",
    "gini_dic = {}\n",
    "predictor_list = []\n",
    "target_variable = 'RISK_FPD10'\n",
    "for x in df_temp[\"MONTH\"].unique():\n",
    "    try:\n",
    "        if \"MONTH\" not in gini_dic:\n",
    "            gini_dic[\"MONTH\"] = []\n",
    "        if \"POS_AUG20_GM\" not in gini_dic: \n",
    "            gini_dic[\"POS_AUG20_GM\"] = []\n",
    "        if \"GM_LR_WO_PP_DUMMY\" not in gini_dic: \n",
    "            gini_dic[\"GM_LR_WO_PP_DUMMY\"] = []\n",
    "        if \"GM_LR_WO_PP\" not in gini_dic: \n",
    "            gini_dic[\"GM_LR_WO_PP\"] = []\n",
    "\n",
    "        gini_dic[\"POS_AUG20_GM\"].append((2*roc_auc_score(df_temp[df_temp[\"MONTH\"]==x][target_variable],df_temp[df_temp[\"MONTH\"]==x][\"POS_AUG20_GM\"])-1)*100)\n",
    "        gini_dic[\"GM_LR_WO_PP_DUMMY\"].append((2*roc_auc_score(df_temp[df_temp[\"MONTH\"]==x][target_variable],df_temp[df_temp[\"MONTH\"]==x][\"GM_LR_WO_PP_DUMMY\"])-1)*100)\n",
    "        gini_dic[\"GM_LR_WO_PP\"].append((2*roc_auc_score(df_temp[df_temp[\"MONTH\"]==x][target_variable],df_temp[df_temp[\"MONTH\"]==x][\"GM_LR_WO_PP\"])-1)*100)\n",
    "        gini_dic[\"MONTH\"].append(x)\n",
    "    except: \n",
    "        print(\"ERROR\")\n",
    "\n",
    "gini_df = pd.DataFrame(gini_dic)\n",
    "gini_df.sort_values(by = \"MONTH\",inplace = True)\n",
    "gini_df.reset_index(inplace = True)"
   ]
  },
  {
   "cell_type": "code",
   "execution_count": 97,
   "metadata": {},
   "outputs": [
    {
     "data": {
      "image/png": "[encoded data removed]",
      "text/plain": [
       "<Figure size 720x360 with 1 Axes>"
      ]
     },
     "metadata": {
      "needs_background": "light"
     },
     "output_type": "display_data"
    }
   ],
   "source": [
    "import matplotlib.pyplot as plt\n",
    "fig = plt.figure(figsize = (10,5))\n",
    "ax1 = fig.add_subplot(1, 1, 1)\n",
    "ax1.plot(gini_df[\"MONTH\"],gini_df[\"POS_AUG20_GM\"], marker='o', scaley = False, label = \"POS_AUG20_GM\")\n",
    "ax1.plot(gini_df[\"MONTH\"],gini_df[\"GM_LR_WO_PP_DUMMY\"], marker='o', scaley = False, label = \"GM_LR_WO_PP_DUMMY\")\n",
    "ax1.plot(gini_df[\"MONTH\"],gini_df[\"GM_LR_WO_PP\"], marker='o', scaley = False, label = \"GM_LR_WO_PP\")\n",
    "\n",
    "# ax1.plot(gini_df[\"MONTH_STR\"],gini_df[combined_score_only_fnf_flag], marker='o', scaley = False, label = combined_score_only_fnf_flag)\n",
    "# for y in predictor_list:\n",
    "#     ax1.plot(gini_df[\"MONTH_STR\"],gini_df[y], marker='o', scaley = False, label = y)\n",
    "\n",
    "\n",
    "for i, txt in enumerate(gini_df[\"POS_AUG20_GM\"]):\n",
    "    plt.annotate(\"{:.1f}\".format(txt), (gini_df[\"MONTH\"][i], gini_df[\"POS_AUG20_GM\"][i]-0.8))\n",
    "for i, txt in enumerate(gini_df[\"GM_LR_WO_PP_DUMMY\"]):\n",
    "    plt.annotate(\"{:.1f}\".format(txt), (gini_df[\"MONTH\"][i], gini_df[\"GM_LR_WO_PP_DUMMY\"][i]+1.2))\n",
    "for i, txt in enumerate(gini_df[\"GM_LR_WO_PP\"]):\n",
    "    plt.annotate(\"{:.1f}\".format(txt), (gini_df[\"MONTH\"][i], gini_df[\"GM_LR_WO_PP\"][i]+1.2))\n",
    "    \n",
    "# for i, txt in enumerate(gini_df[combined_score_only_fnf_flag]):\n",
    "#     plt.annotate(\"{:.1f}\".format(txt), (gini_df[\"MONTH_STR\"][i], gini_df[combined_score_only_fnf_flag][i]+1.6))\n",
    "\n",
    "# for y in predictor_list:\n",
    "#     for i, txt in enumerate(gini_df[y]):\n",
    "#         plt.annotate(\"{:.1f}\".format(txt), (gini_df[\"MONTH_STR\"][i], gini_df[y][i]+1))\n",
    "\n",
    "    \n",
    "plt.legend(loc='lower right', borderaxespad=0.1)\n",
    "plt.ylim(0,50)\n",
    "plt.ylabel(\"GINI\")\n",
    "plt.xlabel(\"MONTH\")\n",
    "plt.yticks(np.arange(0,50,2))\n",
    "ax1.set_title(\"MOM Gini (Phantomas) With Risk Predictors:(FPD10)\")\n",
    "plt.show()"
   ]
  },
  {
   "cell_type": "markdown",
   "metadata": {},
   "source": [
    "### MOM Gini (Phantomas Base: FPD30)"
   ]
  },
  {
   "cell_type": "code",
   "execution_count": 98,
   "metadata": {},
   "outputs": [
    {
     "name": "stderr",
     "output_type": "stream",
     "text": [
      "C:\\Users\\aman.khatri91425\\AppData\\Local\\Continuum\\anaconda3\\lib\\site-packages\\ipykernel_launcher.py:4: FutureWarning: The pandas.datetime class is deprecated and will be removed from pandas in a future version. Import from datetime module instead.\n",
      "  after removing the cwd from sys.path.\n"
     ]
    }
   ],
   "source": [
    "df_temp = df.dropna(subset = [\"POS_AUG20_GM\"])\n",
    "df_temp = df_temp[df_temp[PHANTOMAS_FLAG]==1.0]\n",
    "df_temp = df_temp[df_temp[\"RISK_AGRF30\"]==1]\n",
    "df_temp = df_temp[df_temp[TIME_CREATION_DATE]<=pd.datetime(2020,10,31)]\n",
    "gini_dic = {}\n",
    "predictor_list = []\n",
    "target_variable = TARGET\n",
    "for x in df_temp[\"MONTH\"].unique():\n",
    "    try:\n",
    "        if \"MONTH\" not in gini_dic:\n",
    "            gini_dic[\"MONTH\"] = []\n",
    "        if \"POS_AUG20_GM\" not in gini_dic: \n",
    "            gini_dic[\"POS_AUG20_GM\"] = []\n",
    "        if \"GM_LR_WO_PP_DUMMY\" not in gini_dic: \n",
    "            gini_dic[\"GM_LR_WO_PP_DUMMY\"] = []\n",
    "        if \"GM_LR_WO_PP\" not in gini_dic: \n",
    "            gini_dic[\"GM_LR_WO_PP\"] = []\n",
    "\n",
    "        gini_dic[\"POS_AUG20_GM\"].append((2*roc_auc_score(df_temp[df_temp[\"MONTH\"]==x][target_variable],df_temp[df_temp[\"MONTH\"]==x][\"POS_AUG20_GM\"])-1)*100)\n",
    "        gini_dic[\"GM_LR_WO_PP_DUMMY\"].append((2*roc_auc_score(df_temp[df_temp[\"MONTH\"]==x][target_variable],df_temp[df_temp[\"MONTH\"]==x][\"GM_LR_WO_PP_DUMMY\"])-1)*100)\n",
    "        gini_dic[\"GM_LR_WO_PP\"].append((2*roc_auc_score(df_temp[df_temp[\"MONTH\"]==x][target_variable],df_temp[df_temp[\"MONTH\"]==x][\"GM_LR_WO_PP\"])-1)*100)\n",
    "        gini_dic[\"MONTH\"].append(x)\n",
    "    except: \n",
    "        print(\"ERROR\")\n",
    "\n",
    "gini_df = pd.DataFrame(gini_dic)\n",
    "gini_df.sort_values(by = \"MONTH\",inplace = True)\n",
    "gini_df.reset_index(inplace = True)"
   ]
  },
  {
   "cell_type": "code",
   "execution_count": 99,
   "metadata": {},
   "outputs": [
    {
     "data": {
      "image/png": "[encoded data removed]",
      "text/plain": [
       "<Figure size 720x360 with 1 Axes>"
      ]
     },
     "metadata": {
      "needs_background": "light"
     },
     "output_type": "display_data"
    }
   ],
   "source": [
    "import matplotlib.pyplot as plt\n",
    "fig = plt.figure(figsize = (10,5))\n",
    "ax1 = fig.add_subplot(1, 1, 1)\n",
    "ax1.plot(gini_df[\"MONTH\"],gini_df[\"POS_AUG20_GM\"], marker='o', scaley = False, label = \"POS_AUG20_GM\")\n",
    "ax1.plot(gini_df[\"MONTH\"],gini_df[\"GM_LR_WO_PP_DUMMY\"], marker='o', scaley = False, label = \"GM_LR_WO_PP_DUMMY\")\n",
    "ax1.plot(gini_df[\"MONTH\"],gini_df[\"GM_LR_WO_PP\"], marker='o', scaley = False, label = \"GM_LR_WO_PP\")\n",
    "\n",
    "# ax1.plot(gini_df[\"MONTH_STR\"],gini_df[combined_score_only_fnf_flag], marker='o', scaley = False, label = combined_score_only_fnf_flag)\n",
    "# for y in predictor_list:\n",
    "#     ax1.plot(gini_df[\"MONTH_STR\"],gini_df[y], marker='o', scaley = False, label = y)\n",
    "\n",
    "\n",
    "for i, txt in enumerate(gini_df[\"POS_AUG20_GM\"]):\n",
    "    plt.annotate(\"{:.1f}\".format(txt), (gini_df[\"MONTH\"][i], gini_df[\"POS_AUG20_GM\"][i]-0.8))\n",
    "for i, txt in enumerate(gini_df[\"GM_LR_WO_PP_DUMMY\"]):\n",
    "    plt.annotate(\"{:.1f}\".format(txt), (gini_df[\"MONTH\"][i], gini_df[\"GM_LR_WO_PP_DUMMY\"][i]+1.2))\n",
    "for i, txt in enumerate(gini_df[\"GM_LR_WO_PP\"]):\n",
    "    plt.annotate(\"{:.1f}\".format(txt), (gini_df[\"MONTH\"][i], gini_df[\"GM_LR_WO_PP\"][i]+1.2))\n",
    "    \n",
    "# for i, txt in enumerate(gini_df[combined_score_only_fnf_flag]):\n",
    "#     plt.annotate(\"{:.1f}\".format(txt), (gini_df[\"MONTH_STR\"][i], gini_df[combined_score_only_fnf_flag][i]+1.6))\n",
    "\n",
    "# for y in predictor_list:\n",
    "#     for i, txt in enumerate(gini_df[y]):\n",
    "#         plt.annotate(\"{:.1f}\".format(txt), (gini_df[\"MONTH_STR\"][i], gini_df[y][i]+1))\n",
    "\n",
    "    \n",
    "plt.legend(loc='lower right', borderaxespad=0.1)\n",
    "plt.ylim(0,50)\n",
    "plt.ylabel(\"GINI\")\n",
    "plt.xlabel(\"MONTH\")\n",
    "plt.yticks(np.arange(0,50,2))\n",
    "ax1.set_title(\"MOM Gini (Phantomas) With Risk Predictors:(FPD30)\")\n",
    "plt.show()"
   ]
  },
  {
   "cell_type": "markdown",
   "metadata": {},
   "source": [
    "### MOM Gini (Phantomas Base: FSPD30)"
   ]
  },
  {
   "cell_type": "code",
   "execution_count": 100,
   "metadata": {},
   "outputs": [
    {
     "name": "stderr",
     "output_type": "stream",
     "text": [
      "C:\\Users\\aman.khatri91425\\AppData\\Local\\Continuum\\anaconda3\\lib\\site-packages\\ipykernel_launcher.py:4: FutureWarning: The pandas.datetime class is deprecated and will be removed from pandas in a future version. Import from datetime module instead.\n",
      "  after removing the cwd from sys.path.\n"
     ]
    }
   ],
   "source": [
    "df_temp = df.dropna(subset = [\"POS_AUG20_GM\"])\n",
    "df_temp = df_temp[df_temp[PHANTOMAS_FLAG]==1.0]\n",
    "df_temp = df_temp[df_temp[\"RISK_AGRF60\"]==1]\n",
    "df_temp = df_temp[df_temp[TIME_CREATION_DATE]<=pd.datetime(2020,10,31)]\n",
    "gini_dic = {}\n",
    "predictor_list = []\n",
    "target_variable = 'RISK_FSPD30'\n",
    "for x in df_temp[\"MONTH\"].unique():\n",
    "    try:\n",
    "        if \"MONTH\" not in gini_dic:\n",
    "            gini_dic[\"MONTH\"] = []\n",
    "        if \"POS_AUG20_GM\" not in gini_dic: \n",
    "            gini_dic[\"POS_AUG20_GM\"] = []\n",
    "        if \"GM_LR_WO_PP_DUMMY\" not in gini_dic: \n",
    "            gini_dic[\"GM_LR_WO_PP_DUMMY\"] = []\n",
    "        if \"GM_LR_WO_PP\" not in gini_dic: \n",
    "            gini_dic[\"GM_LR_WO_PP\"] = []\n",
    "\n",
    "        gini_dic[\"POS_AUG20_GM\"].append((2*roc_auc_score(df_temp[df_temp[\"MONTH\"]==x][target_variable],df_temp[df_temp[\"MONTH\"]==x][\"POS_AUG20_GM\"])-1)*100)\n",
    "        gini_dic[\"GM_LR_WO_PP_DUMMY\"].append((2*roc_auc_score(df_temp[df_temp[\"MONTH\"]==x][target_variable],df_temp[df_temp[\"MONTH\"]==x][\"GM_LR_WO_PP_DUMMY\"])-1)*100)\n",
    "        gini_dic[\"GM_LR_WO_PP\"].append((2*roc_auc_score(df_temp[df_temp[\"MONTH\"]==x][target_variable],df_temp[df_temp[\"MONTH\"]==x][\"GM_LR_WO_PP\"])-1)*100)\n",
    "        gini_dic[\"MONTH\"].append(x)\n",
    "    except: \n",
    "        print(\"ERROR\")\n",
    "\n",
    "gini_df = pd.DataFrame(gini_dic)\n",
    "gini_df.sort_values(by = \"MONTH\",inplace = True)\n",
    "gini_df.reset_index(inplace = True)"
   ]
  },
  {
   "cell_type": "code",
   "execution_count": 101,
   "metadata": {},
   "outputs": [
    {
     "data": {
      "image/png": "[encoded data removed]",
      "text/plain": [
       "<Figure size 720x360 with 1 Axes>"
      ]
     },
     "metadata": {
      "needs_background": "light"
     },
     "output_type": "display_data"
    }
   ],
   "source": [
    "import matplotlib.pyplot as plt\n",
    "fig = plt.figure(figsize = (10,5))\n",
    "ax1 = fig.add_subplot(1, 1, 1)\n",
    "ax1.plot(gini_df[\"MONTH\"],gini_df[\"POS_AUG20_GM\"], marker='o', scaley = False, label = \"POS_AUG20_GM\")\n",
    "ax1.plot(gini_df[\"MONTH\"],gini_df[\"GM_LR_WO_PP_DUMMY\"], marker='o', scaley = False, label = \"GM_LR_WO_PP_DUMMY\")\n",
    "ax1.plot(gini_df[\"MONTH\"],gini_df[\"GM_LR_WO_PP\"], marker='o', scaley = False, label = \"GM_LR_WO_PP\")\n",
    "\n",
    "# ax1.plot(gini_df[\"MONTH_STR\"],gini_df[combined_score_only_fnf_flag], marker='o', scaley = False, label = combined_score_only_fnf_flag)\n",
    "# for y in predictor_list:\n",
    "#     ax1.plot(gini_df[\"MONTH_STR\"],gini_df[y], marker='o', scaley = False, label = y)\n",
    "\n",
    "\n",
    "for i, txt in enumerate(gini_df[\"POS_AUG20_GM\"]):\n",
    "    plt.annotate(\"{:.1f}\".format(txt), (gini_df[\"MONTH\"][i], gini_df[\"POS_AUG20_GM\"][i]-0.8))\n",
    "for i, txt in enumerate(gini_df[\"GM_LR_WO_PP_DUMMY\"]):\n",
    "    plt.annotate(\"{:.1f}\".format(txt), (gini_df[\"MONTH\"][i], gini_df[\"GM_LR_WO_PP_DUMMY\"][i]+1.2))\n",
    "for i, txt in enumerate(gini_df[\"GM_LR_WO_PP\"]):\n",
    "    plt.annotate(\"{:.1f}\".format(txt), (gini_df[\"MONTH\"][i], gini_df[\"GM_LR_WO_PP\"][i]+1.2))\n",
    "    \n",
    "# for i, txt in enumerate(gini_df[combined_score_only_fnf_flag]):\n",
    "#     plt.annotate(\"{:.1f}\".format(txt), (gini_df[\"MONTH_STR\"][i], gini_df[combined_score_only_fnf_flag][i]+1.6))\n",
    "\n",
    "# for y in predictor_list:\n",
    "#     for i, txt in enumerate(gini_df[y]):\n",
    "#         plt.annotate(\"{:.1f}\".format(txt), (gini_df[\"MONTH_STR\"][i], gini_df[y][i]+1))\n",
    "\n",
    "    \n",
    "plt.legend(loc='lower right', borderaxespad=0.1)\n",
    "plt.ylim(0,50)\n",
    "plt.ylabel(\"GINI\")\n",
    "plt.xlabel(\"MONTH\")\n",
    "plt.yticks(np.arange(0,50,2))\n",
    "ax1.set_title(\"MOM Gini (Phantomas) With Risk Predictors:(FSPD30)\")\n",
    "plt.show()"
   ]
  },
  {
   "cell_type": "code",
   "execution_count": 127,
   "metadata": {},
   "outputs": [
    {
     "name": "stdout",
     "output_type": "stream",
     "text": [
      "-3.863868339026385\n",
      "-3.9208758771391565\n",
      "-4.111558131708275\n",
      "-3.658665029834158\n"
     ]
    }
   ],
   "source": [
    "print(df.POS_AUG20_GM.mean())\n",
    "print(df.POS_AUG20_GM_WO_PRODUCT.mean())\n",
    "print(df.GM_LR_WO_PP_DUMMY.mean())\n",
    "print(np.log(df.GM_LR_WO_PP/(1-df.GM_LR_WO_PP)).mean())"
   ]
  },
  {
   "cell_type": "code",
   "execution_count": 121,
   "metadata": {},
   "outputs": [
    {
     "data": {
      "text/plain": [
       "0.020555272300450796"
      ]
     },
     "execution_count": 121,
     "metadata": {},
     "output_type": "execute_result"
    }
   ],
   "source": [
    "1/(1+np.exp(-df.POS_AUG20_GM.mean()))"
   ]
  },
  {
   "cell_type": "code",
   "execution_count": 123,
   "metadata": {},
   "outputs": [
    {
     "data": {
      "text/plain": [
       "0.016118177288641084"
      ]
     },
     "execution_count": 123,
     "metadata": {},
     "output_type": "execute_result"
    }
   ],
   "source": [
    "1/(1+np.exp(-(df.GM_LR_WO_PP_DUMMY.mean()-2.1218051395920674)))"
   ]
  },
  {
   "cell_type": "code",
   "execution_count": 118,
   "metadata": {},
   "outputs": [
    {
     "data": {
      "text/plain": [
       "-3.658665029834158"
      ]
     },
     "execution_count": 118,
     "metadata": {},
     "output_type": "execute_result"
    }
   ],
   "source": [
    "np.log(df.GM_LR_WO_PP/(1-df.GM_LR_WO_PP)).mean()"
   ]
  },
  {
   "cell_type": "code",
   "execution_count": 125,
   "metadata": {},
   "outputs": [
    {
     "data": {
      "text/plain": [
       "3.662210860407933"
      ]
     },
     "execution_count": 125,
     "metadata": {},
     "output_type": "execute_result"
    }
   ],
   "source": [
    "5.784016-2.1218051395920674"
   ]
  },
  {
   "cell_type": "markdown",
   "metadata": {},
   "source": [
    "### MOM Gini (Approved Base: FPD10)"
   ]
  },
  {
   "cell_type": "code",
   "execution_count": 102,
   "metadata": {},
   "outputs": [],
   "source": [
    "df_temp = df.dropna(subset = [\"POS_AUG20_GM\"])\n",
    "df_temp = df_temp[df_temp[\"RISK_AGRF10\"]==1]\n",
    "gini_dic = {}\n",
    "predictor_list = []\n",
    "target_variable = 'RISK_FPD10'\n",
    "for x in df_temp[\"MONTH\"].unique():\n",
    "    try:\n",
    "        if \"MONTH\" not in gini_dic:\n",
    "            gini_dic[\"MONTH\"] = []\n",
    "        if \"POS_AUG20_GM\" not in gini_dic: \n",
    "            gini_dic[\"POS_AUG20_GM\"] = []\n",
    "        if \"GM_LR_WO_PP_DUMMY\" not in gini_dic: \n",
    "            gini_dic[\"GM_LR_WO_PP_DUMMY\"] = []\n",
    "        if \"GM_LR_WO_PP\" not in gini_dic: \n",
    "            gini_dic[\"GM_LR_WO_PP\"] = []\n",
    "\n",
    "        gini_dic[\"POS_AUG20_GM\"].append((2*roc_auc_score(df_temp[df_temp[\"MONTH\"]==x][target_variable],df_temp[df_temp[\"MONTH\"]==x][\"POS_AUG20_GM\"])-1)*100)\n",
    "        gini_dic[\"GM_LR_WO_PP_DUMMY\"].append((2*roc_auc_score(df_temp[df_temp[\"MONTH\"]==x][target_variable],df_temp[df_temp[\"MONTH\"]==x][\"GM_LR_WO_PP_DUMMY\"])-1)*100)\n",
    "        gini_dic[\"GM_LR_WO_PP\"].append((2*roc_auc_score(df_temp[df_temp[\"MONTH\"]==x][target_variable],df_temp[df_temp[\"MONTH\"]==x][\"GM_LR_WO_PP\"])-1)*100)\n",
    "        gini_dic[\"MONTH\"].append(x)\n",
    "    except: \n",
    "        print(\"ERROR\")\n",
    "\n",
    "gini_df = pd.DataFrame(gini_dic)\n",
    "gini_df.sort_values(by = \"MONTH\",inplace = True)\n",
    "gini_df.reset_index(inplace = True)"
   ]
  },
  {
   "cell_type": "code",
   "execution_count": 103,
   "metadata": {},
   "outputs": [
    {
     "data": {
      "image/png": "[encoded data removed]",
      "text/plain": [
       "<Figure size 720x360 with 1 Axes>"
      ]
     },
     "metadata": {
      "needs_background": "light"
     },
     "output_type": "display_data"
    }
   ],
   "source": [
    "import matplotlib.pyplot as plt\n",
    "fig = plt.figure(figsize = (10,5))\n",
    "ax1 = fig.add_subplot(1, 1, 1)\n",
    "ax1.plot(gini_df[\"MONTH\"],gini_df[\"POS_AUG20_GM\"], marker='o', scaley = False, label = \"POS_AUG20_GM\")\n",
    "ax1.plot(gini_df[\"MONTH\"],gini_df[\"GM_LR_WO_PP_DUMMY\"], marker='o', scaley = False, label = \"GM_LR_WO_PP_DUMMY\")\n",
    "ax1.plot(gini_df[\"MONTH\"],gini_df[\"GM_LR_WO_PP\"], marker='o', scaley = False, label = \"GM_LR_WO_PP\")\n",
    "\n",
    "# ax1.plot(gini_df[\"MONTH_STR\"],gini_df[combined_score_only_fnf_flag], marker='o', scaley = False, label = combined_score_only_fnf_flag)\n",
    "# for y in predictor_list:\n",
    "#     ax1.plot(gini_df[\"MONTH_STR\"],gini_df[y], marker='o', scaley = False, label = y)\n",
    "\n",
    "\n",
    "for i, txt in enumerate(gini_df[\"POS_AUG20_GM\"]):\n",
    "    plt.annotate(\"{:.1f}\".format(txt), (gini_df[\"MONTH\"][i], gini_df[\"POS_AUG20_GM\"][i]-0.8))\n",
    "for i, txt in enumerate(gini_df[\"GM_LR_WO_PP_DUMMY\"]):\n",
    "    plt.annotate(\"{:.1f}\".format(txt), (gini_df[\"MONTH\"][i], gini_df[\"GM_LR_WO_PP_DUMMY\"][i]+1.2))\n",
    "for i, txt in enumerate(gini_df[\"GM_LR_WO_PP\"]):\n",
    "    plt.annotate(\"{:.1f}\".format(txt), (gini_df[\"MONTH\"][i], gini_df[\"GM_LR_WO_PP\"][i]+1.2))\n",
    "    \n",
    "# for i, txt in enumerate(gini_df[combined_score_only_fnf_flag]):\n",
    "#     plt.annotate(\"{:.1f}\".format(txt), (gini_df[\"MONTH_STR\"][i], gini_df[combined_score_only_fnf_flag][i]+1.6))\n",
    "\n",
    "# for y in predictor_list:\n",
    "#     for i, txt in enumerate(gini_df[y]):\n",
    "#         plt.annotate(\"{:.1f}\".format(txt), (gini_df[\"MONTH_STR\"][i], gini_df[y][i]+1))\n",
    "\n",
    "    \n",
    "plt.legend(loc='lower right', borderaxespad=0.1)\n",
    "plt.ylim(0,50)\n",
    "plt.ylabel(\"GINI\")\n",
    "plt.xlabel(\"MONTH\")\n",
    "plt.yticks(np.arange(0,50,2))\n",
    "ax1.set_title(\"MOM Gini (Approved) With Risk Predictors:(FPD10)\")\n",
    "plt.show()"
   ]
  },
  {
   "cell_type": "markdown",
   "metadata": {},
   "source": [
    "### MOM Gini (Approved Base: FPD30)"
   ]
  },
  {
   "cell_type": "code",
   "execution_count": 105,
   "metadata": {},
   "outputs": [],
   "source": [
    "df_temp = df.dropna(subset = [\"POS_AUG20_GM\"])\n",
    "df_temp = df_temp[df_temp[\"RISK_AGRF30\"]==1]\n",
    "gini_dic = {}\n",
    "predictor_list = []\n",
    "target_variable = 'RISK_FPD30'\n",
    "for x in df_temp[\"MONTH\"].unique():\n",
    "    try:\n",
    "        if \"MONTH\" not in gini_dic:\n",
    "            gini_dic[\"MONTH\"] = []\n",
    "        if \"POS_AUG20_GM\" not in gini_dic: \n",
    "            gini_dic[\"POS_AUG20_GM\"] = []\n",
    "        if \"GM_LR_WO_PP_DUMMY\" not in gini_dic: \n",
    "            gini_dic[\"GM_LR_WO_PP_DUMMY\"] = []\n",
    "        if \"GM_LR_WO_PP\" not in gini_dic: \n",
    "            gini_dic[\"GM_LR_WO_PP\"] = []\n",
    "\n",
    "        gini_dic[\"POS_AUG20_GM\"].append((2*roc_auc_score(df_temp[df_temp[\"MONTH\"]==x][target_variable],df_temp[df_temp[\"MONTH\"]==x][\"POS_AUG20_GM\"])-1)*100)\n",
    "        gini_dic[\"GM_LR_WO_PP_DUMMY\"].append((2*roc_auc_score(df_temp[df_temp[\"MONTH\"]==x][target_variable],df_temp[df_temp[\"MONTH\"]==x][\"GM_LR_WO_PP_DUMMY\"])-1)*100)\n",
    "        gini_dic[\"GM_LR_WO_PP\"].append((2*roc_auc_score(df_temp[df_temp[\"MONTH\"]==x][target_variable],df_temp[df_temp[\"MONTH\"]==x][\"GM_LR_WO_PP\"])-1)*100)\n",
    "        gini_dic[\"MONTH\"].append(x)\n",
    "    except: \n",
    "        print(\"ERROR\")\n",
    "\n",
    "gini_df = pd.DataFrame(gini_dic)\n",
    "gini_df.sort_values(by = \"MONTH\",inplace = True)\n",
    "gini_df.reset_index(inplace = True)"
   ]
  },
  {
   "cell_type": "code",
   "execution_count": 106,
   "metadata": {},
   "outputs": [
    {
     "data": {
      "image/png": "[encoded data removed]",
      "text/plain": [
       "<Figure size 720x360 with 1 Axes>"
      ]
     },
     "metadata": {
      "needs_background": "light"
     },
     "output_type": "display_data"
    }
   ],
   "source": [
    "import matplotlib.pyplot as plt\n",
    "fig = plt.figure(figsize = (10,5))\n",
    "ax1 = fig.add_subplot(1, 1, 1)\n",
    "ax1.plot(gini_df[\"MONTH\"],gini_df[\"POS_AUG20_GM\"], marker='o', scaley = False, label = \"POS_AUG20_GM\")\n",
    "ax1.plot(gini_df[\"MONTH\"],gini_df[\"GM_LR_WO_PP_DUMMY\"], marker='o', scaley = False, label = \"GM_LR_WO_PP_DUMMY\")\n",
    "ax1.plot(gini_df[\"MONTH\"],gini_df[\"GM_LR_WO_PP\"], marker='o', scaley = False, label = \"GM_LR_WO_PP\")\n",
    "\n",
    "# ax1.plot(gini_df[\"MONTH_STR\"],gini_df[combined_score_only_fnf_flag], marker='o', scaley = False, label = combined_score_only_fnf_flag)\n",
    "# for y in predictor_list:\n",
    "#     ax1.plot(gini_df[\"MONTH_STR\"],gini_df[y], marker='o', scaley = False, label = y)\n",
    "\n",
    "\n",
    "for i, txt in enumerate(gini_df[\"POS_AUG20_GM\"]):\n",
    "    plt.annotate(\"{:.1f}\".format(txt), (gini_df[\"MONTH\"][i], gini_df[\"POS_AUG20_GM\"][i]-0.8))\n",
    "for i, txt in enumerate(gini_df[\"GM_LR_WO_PP_DUMMY\"]):\n",
    "    plt.annotate(\"{:.1f}\".format(txt), (gini_df[\"MONTH\"][i], gini_df[\"GM_LR_WO_PP_DUMMY\"][i]+1.2))\n",
    "for i, txt in enumerate(gini_df[\"GM_LR_WO_PP\"]):\n",
    "    plt.annotate(\"{:.1f}\".format(txt), (gini_df[\"MONTH\"][i], gini_df[\"GM_LR_WO_PP\"][i]+1.2))\n",
    "    \n",
    "# for i, txt in enumerate(gini_df[combined_score_only_fnf_flag]):\n",
    "#     plt.annotate(\"{:.1f}\".format(txt), (gini_df[\"MONTH_STR\"][i], gini_df[combined_score_only_fnf_flag][i]+1.6))\n",
    "\n",
    "# for y in predictor_list:\n",
    "#     for i, txt in enumerate(gini_df[y]):\n",
    "#         plt.annotate(\"{:.1f}\".format(txt), (gini_df[\"MONTH_STR\"][i], gini_df[y][i]+1))\n",
    "\n",
    "    \n",
    "plt.legend(loc='lower right', borderaxespad=0.1)\n",
    "plt.ylim(0,50)\n",
    "plt.ylabel(\"GINI\")\n",
    "plt.xlabel(\"MONTH\")\n",
    "plt.yticks(np.arange(0,50,2))\n",
    "ax1.set_title(\"MOM Gini (Approved) With Risk Predictors:(FPD30)\")\n",
    "plt.show()"
   ]
  },
  {
   "cell_type": "markdown",
   "metadata": {},
   "source": [
    "### MOM Gini (Approved Base: FSPD30)"
   ]
  },
  {
   "cell_type": "code",
   "execution_count": 108,
   "metadata": {},
   "outputs": [
    {
     "name": "stdout",
     "output_type": "stream",
     "text": [
      "ERROR\n",
      "ERROR\n"
     ]
    }
   ],
   "source": [
    "df_temp = df.dropna(subset = [\"POS_AUG20_GM\"])\n",
    "df_temp = df_temp[df_temp[\"RISK_AGRF60\"]==1]\n",
    "gini_dic = {}\n",
    "predictor_list = []\n",
    "target_variable = 'RISK_FSPD30'\n",
    "for x in df_temp[\"MONTH\"].unique():\n",
    "    try:\n",
    "        if \"MONTH\" not in gini_dic:\n",
    "            gini_dic[\"MONTH\"] = []\n",
    "        if \"POS_AUG20_GM\" not in gini_dic: \n",
    "            gini_dic[\"POS_AUG20_GM\"] = []\n",
    "        if \"GM_LR_WO_PP_DUMMY\" not in gini_dic: \n",
    "            gini_dic[\"GM_LR_WO_PP_DUMMY\"] = []\n",
    "        if \"GM_LR_WO_PP\" not in gini_dic: \n",
    "            gini_dic[\"GM_LR_WO_PP\"] = []\n",
    "\n",
    "        gini_dic[\"POS_AUG20_GM\"].append((2*roc_auc_score(df_temp[df_temp[\"MONTH\"]==x][target_variable],df_temp[df_temp[\"MONTH\"]==x][\"POS_AUG20_GM\"])-1)*100)\n",
    "        gini_dic[\"GM_LR_WO_PP_DUMMY\"].append((2*roc_auc_score(df_temp[df_temp[\"MONTH\"]==x][target_variable],df_temp[df_temp[\"MONTH\"]==x][\"GM_LR_WO_PP_DUMMY\"])-1)*100)\n",
    "        gini_dic[\"GM_LR_WO_PP\"].append((2*roc_auc_score(df_temp[df_temp[\"MONTH\"]==x][target_variable],df_temp[df_temp[\"MONTH\"]==x][\"GM_LR_WO_PP\"])-1)*100)\n",
    "        gini_dic[\"MONTH\"].append(x)\n",
    "    except: \n",
    "        print(\"ERROR\")\n",
    "\n",
    "gini_df = pd.DataFrame(gini_dic)\n",
    "gini_df.sort_values(by = \"MONTH\",inplace = True)\n",
    "gini_df.reset_index(inplace = True)"
   ]
  },
  {
   "cell_type": "code",
   "execution_count": 109,
   "metadata": {},
   "outputs": [
    {
     "data": {
      "image/png": "[encoded data removed]",
      "text/plain": [
       "<Figure size 720x360 with 1 Axes>"
      ]
     },
     "metadata": {
      "needs_background": "light"
     },
     "output_type": "display_data"
    }
   ],
   "source": [
    "import matplotlib.pyplot as plt\n",
    "fig = plt.figure(figsize = (10,5))\n",
    "ax1 = fig.add_subplot(1, 1, 1)\n",
    "ax1.plot(gini_df[\"MONTH\"],gini_df[\"POS_AUG20_GM\"], marker='o', scaley = False, label = \"POS_AUG20_GM\")\n",
    "ax1.plot(gini_df[\"MONTH\"],gini_df[\"GM_LR_WO_PP_DUMMY\"], marker='o', scaley = False, label = \"GM_LR_WO_PP_DUMMY\")\n",
    "ax1.plot(gini_df[\"MONTH\"],gini_df[\"GM_LR_WO_PP\"], marker='o', scaley = False, label = \"GM_LR_WO_PP\")\n",
    "\n",
    "# ax1.plot(gini_df[\"MONTH_STR\"],gini_df[combined_score_only_fnf_flag], marker='o', scaley = False, label = combined_score_only_fnf_flag)\n",
    "# for y in predictor_list:\n",
    "#     ax1.plot(gini_df[\"MONTH_STR\"],gini_df[y], marker='o', scaley = False, label = y)\n",
    "\n",
    "\n",
    "for i, txt in enumerate(gini_df[\"POS_AUG20_GM\"]):\n",
    "    plt.annotate(\"{:.1f}\".format(txt), (gini_df[\"MONTH\"][i], gini_df[\"POS_AUG20_GM\"][i]-0.8))\n",
    "for i, txt in enumerate(gini_df[\"GM_LR_WO_PP_DUMMY\"]):\n",
    "    plt.annotate(\"{:.1f}\".format(txt), (gini_df[\"MONTH\"][i], gini_df[\"GM_LR_WO_PP_DUMMY\"][i]+1.2))\n",
    "for i, txt in enumerate(gini_df[\"GM_LR_WO_PP\"]):\n",
    "    plt.annotate(\"{:.1f}\".format(txt), (gini_df[\"MONTH\"][i], gini_df[\"GM_LR_WO_PP\"][i]+1.2))\n",
    "    \n",
    "# for i, txt in enumerate(gini_df[combined_score_only_fnf_flag]):\n",
    "#     plt.annotate(\"{:.1f}\".format(txt), (gini_df[\"MONTH_STR\"][i], gini_df[combined_score_only_fnf_flag][i]+1.6))\n",
    "\n",
    "# for y in predictor_list:\n",
    "#     for i, txt in enumerate(gini_df[y]):\n",
    "#         plt.annotate(\"{:.1f}\".format(txt), (gini_df[\"MONTH_STR\"][i], gini_df[y][i]+1))\n",
    "\n",
    "    \n",
    "plt.legend(loc='lower right', borderaxespad=0.1)\n",
    "plt.ylim(0,50)\n",
    "plt.ylabel(\"GINI\")\n",
    "plt.xlabel(\"MONTH\")\n",
    "plt.yticks(np.arange(0,50,2))\n",
    "ax1.set_title(\"MOM Gini (Approved) With Risk Predictors:(FSPD30)\")\n",
    "plt.show()"
   ]
  },
  {
   "cell_type": "code",
   "execution_count": null,
   "metadata": {},
   "outputs": [],
   "source": []
  },
  {
   "cell_type": "code",
   "execution_count": null,
   "metadata": {},
   "outputs": [],
   "source": []
  },
  {
   "cell_type": "code",
   "execution_count": null,
   "metadata": {},
   "outputs": [],
   "source": []
  },
  {
   "cell_type": "markdown",
   "metadata": {},
   "source": [
    "# Lifts Chart"
   ]
  },
  {
   "cell_type": "code",
   "execution_count": null,
   "metadata": {},
   "outputs": [],
   "source": []
  }
 ],
 "metadata": {
  "kernelspec": {
   "display_name": "Python 3",
   "language": "python",
   "name": "python3"
  },
  "language_info": {
   "codemirror_mode": {
    "name": "ipython",
    "version": 3
   },
   "file_extension": ".py",
   "mimetype": "text/x-python",
   "name": "python",
   "nbconvert_exporter": "python",
   "pygments_lexer": "ipython3",
   "version": "3.7.3"
  }
 },
 "nbformat": 4,
 "nbformat_minor": 2
}
