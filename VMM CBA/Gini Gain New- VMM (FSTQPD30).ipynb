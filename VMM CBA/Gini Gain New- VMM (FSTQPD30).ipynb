{
 "cells": [
  {
   "cell_type": "code",
   "execution_count": 1,
   "metadata": {},
   "outputs": [],
   "source": [
    "import pandas as pd \n",
    "import numpy as np\n",
    "from sklearn.linear_model import LogisticRegression\n",
    "from sklearn.metrics import roc_auc_score\n",
    "from sklearn.model_selection import RandomizedSearchCV, train_test_split, StratifiedKFold\n",
    "import cx_Oracle\n",
    "import matplotlib.pyplot as plt\n",
    "import time \n",
    "import os\n",
    "import pickle\n",
    "\n",
    "os.chdir(r\"C:\\Users\\aman.khatri91425\\Desktop\\HomeCredit\\UW\\Pay1 Value Add\")\n",
    "seed = 5"
   ]
  },
  {
   "cell_type": "markdown",
   "metadata": {},
   "source": [
    "# Read Data"
   ]
  },
  {
   "cell_type": "code",
   "execution_count": 2,
   "metadata": {},
   "outputs": [],
   "source": [
    "# # @in the password is causing errror in using the below syntax\n",
    "# # connection = cx_Oracle.connect('HCIN_GUPTAN1[AP_UWI]/aGqQ4jnX92NG@INCL02.IN.PROD/HWIN_USR_DEV.HOMECREDIT.IN')\n",
    "# connection = cx_Oracle.connect('HCIN_Jainr1[AP_UWI]','Saber@1989!1','INCL02.IN.PROD/HWIN_USR_DEV.HOMECREDIT.IN')\n",
    "# cursor = connection.cursor()\n",
    "\n",
    "# query= \"\"\"\n",
    "# with base as\n",
    "# (\n",
    "# select a.skp_credit_case,c.TIME_DECISION_DATE date_decision,credit_score,RISK_FPD30, RISK_FSPD30, RISK_FSTPD30, RISK_FSTQPD30, RISK_FSTQPD60,\n",
    "# GENERALMODELLGBM, GENERALMODELLOGREG, \n",
    "# case when credit_score is null then 0\n",
    "# when credit_score < 0.02158 then 0.5066\n",
    "# when credit_score < 0.06401 then -0.0457\n",
    "# when credit_score >= 0.0641 then -0.5516\n",
    "# else 0 end as credit_score_woe\n",
    "# from \n",
    "# (select skp_credit_case, credit_score - floor(credit_score) as credit_score from\n",
    "# bd_vil \n",
    "# )a \n",
    "# join  AP_UWI.AK_POS_EXI_RESCORED b \n",
    "# on a.skp_credit_case = b.skp_credit_case\n",
    "# join uw_daily_data_all c\n",
    "# on a.skp_credit_case = c.skp_credit_case\n",
    "# where time_decision_date >= to_date('01-08-19','dd-mm-yy')\n",
    "# and product_group = 'CD'\n",
    "# and client_exi_3m = 'Y'\n",
    "# ),\n",
    "\n",
    "# base1 as \n",
    "# (\n",
    "# -------Rejected Base-----\n",
    "# select skp_credit_case, GENERALMODELLGBM, credit_score as voda_score, credit_score_woe as voda_score_woe, \n",
    "# (ln(GENERALMODELLOGREG/(1-GENERALMODELLOGREG)) - 1*credit_score_woe) as combined_gm_lr_linear,\n",
    "# 1/(1+exp(-1*(ln(GENERALMODELLOGREG/(1-GENERALMODELLOGREG)) - 1*credit_score_woe))) as combined_gm_lr,\n",
    "\n",
    "# (ln(GENERALMODELLGBM/(1-GENERALMODELLGBM)) - 1*credit_score_woe) as combined_gm_lgbm_linear,\n",
    "# 1/(1+exp(-1*(ln(GENERALMODELLGBM/(1-GENERALMODELLGBM)) - 1*credit_score_woe))) as combined_gm_lgbm\n",
    "\n",
    "# from base\n",
    "# union all\n",
    "\n",
    "# --------Approved Base------\n",
    "# select SKP_CREDIT_CASE,\n",
    "# GENERALMODELLG,\n",
    "# VODA_SCORE,\n",
    "# VODA_SCORE_WOE,\n",
    "# COMBINED_GM_LINEAR COMBINED_GM_LR_LINEAR,\n",
    "# COMBINED_GM COMBINED_GM_LR,\n",
    "# (ln(GENERALMODELLG/(1-GENERALMODELLG)) - 1*VODA_SCORE_WOE) as combined_gm_lgbm_linear,\n",
    "# 1/(1+exp(-1*(ln(GENERALMODELLG/(1-GENERALMODELLG)) - 1*VODA_SCORE_WOE))) as combined_gm_lgbm\n",
    "# from AP_UWI.AK_COMBINED_VODA_GM\n",
    "# ), \n",
    "\n",
    "# uw_base as \n",
    "# (\n",
    "# select a.skp_credit_case, time_decision_date, client_exi_3m, product_group, risk_fpd30, risk_agrf30, risk_fstqpd30, risk_agrf120, \n",
    "# risk_fstqpd60, risk_agrf150, pos_type,\n",
    "# case when \n",
    "# client_exi_3m = 'N' then SCORE_APSC_NOV18 else \n",
    "#   case when POS_MAR20_GM_EXI is null then combined_gm_lgbm else POS_MAR20_GM_EXI end end  as RISK_SCORE\n",
    "# from uw_daily_data_all a\n",
    "# left join \n",
    "# (select skp_credit_case, combined_gm_lgbm from base1) b\n",
    "# on a.skp_credit_case = b.skp_credit_case\n",
    "# where time_decision_date >= to_date('18-06-20','dd-mm-yy')\n",
    "# and product_group = 'CD'\n",
    "# and decision_overall = 'Approved'\n",
    "# ),\n",
    "\n",
    "# bd_source_base as \n",
    "# (\n",
    "# select skp_credit_case, result, 1 as score1 from bd_vmm\n",
    "# where date_decision >= to_date('18-06-20','dd-mm-yy')\n",
    "# )\n",
    "\n",
    "# select a.skp_credit_case, time_decision_date, client_exi_3m, risk_fpd30, risk_agrf30, risk_fstqpd30, risk_agrf120, \n",
    "# risk_fstqpd60, risk_agrf150, case when result = 'FOUND' then 'FOUND' else 'NOT_FOUND' end as result, pos_type, score1, RISK_SCORE\n",
    "# from \n",
    "# uw_base a \n",
    "# join bd_source_base b \n",
    "# on a.skp_credit_case = b.skp_credit_case\n",
    "# where risk_score is not null\n",
    "# and result in ('FOUND','NOT_FOUND')\n",
    "# order by skp_credit_case\n",
    "# \"\"\"\n",
    "\n",
    "# df = pd.read_sql(query,connection)\n",
    "\n",
    "# df.to_pickle(os.getcwd()+r\"\\Data Files\\loan_performance_dump.pkl\")"
   ]
  },
  {
   "cell_type": "code",
   "execution_count": 3,
   "metadata": {},
   "outputs": [],
   "source": [
    "df = pd.read_pickle(os.getcwd()+r\"\\Data Files\\loan_performance_dump.pkl\")\n",
    "# df = pd.read_csv(os.getcwd()+r\"\\Data Files\\loan_performance_dump_v1.csv\")\n"
   ]
  },
  {
   "cell_type": "markdown",
   "metadata": {},
   "source": [
    "# Define Key Variables"
   ]
  },
  {
   "cell_type": "code",
   "execution_count": 4,
   "metadata": {},
   "outputs": [],
   "source": [
    "time_decision_date = 'TIME_DECISION_DATE'\n",
    "source = 'VMM'\n",
    "target_variable = \"RISK_FSTQPD30\"\n",
    "agrf_flag = \"RISK_AGRF120\"\n",
    "fnf_flag = 'RESULT'\n",
    "score = ['SCORE1']\n",
    "risk_score = 'RISK_SCORE'"
   ]
  },
  {
   "cell_type": "markdown",
   "metadata": {},
   "source": [
    "# Data Cleaning"
   ]
  },
  {
   "cell_type": "code",
   "execution_count": 5,
   "metadata": {},
   "outputs": [],
   "source": [
    "#One Hot Encoding of fnf_flag\n",
    "dummy = pd.get_dummies(df[fnf_flag])\n",
    "dummy.columns = [y+\"_\"+fnf_flag for y in dummy.columns]\n",
    "df = pd.concat([df, dummy], axis=1)"
   ]
  },
  {
   "cell_type": "code",
   "execution_count": 6,
   "metadata": {
    "scrolled": true
   },
   "outputs": [
    {
     "data": {
      "text/html": [
       "<div>\n",
       "<style scoped>\n",
       "    .dataframe tbody tr th:only-of-type {\n",
       "        vertical-align: middle;\n",
       "    }\n",
       "\n",
       "    .dataframe tbody tr th {\n",
       "        vertical-align: top;\n",
       "    }\n",
       "\n",
       "    .dataframe thead th {\n",
       "        text-align: right;\n",
       "    }\n",
       "</style>\n",
       "<table border=\"1\" class=\"dataframe\">\n",
       "  <thead>\n",
       "    <tr style=\"text-align: right;\">\n",
       "      <th></th>\n",
       "      <th>SKP_CREDIT_CASE</th>\n",
       "      <th>TIME_DECISION_DATE</th>\n",
       "      <th>CLIENT_EXI_3M</th>\n",
       "      <th>RISK_FPD30</th>\n",
       "      <th>RISK_AGRF30</th>\n",
       "      <th>RISK_FSTQPD30</th>\n",
       "      <th>RISK_AGRF120</th>\n",
       "      <th>RISK_FSTQPD60</th>\n",
       "      <th>RISK_AGRF150</th>\n",
       "      <th>RESULT</th>\n",
       "      <th>POS_TYPE</th>\n",
       "      <th>SCORE1</th>\n",
       "      <th>RISK_SCORE</th>\n",
       "      <th>FOUND_RESULT</th>\n",
       "      <th>NOT_FOUND_RESULT</th>\n",
       "    </tr>\n",
       "  </thead>\n",
       "  <tbody>\n",
       "    <tr>\n",
       "      <th>0</th>\n",
       "      <td>308092015</td>\n",
       "      <td>2020-06-18</td>\n",
       "      <td>N</td>\n",
       "      <td>0</td>\n",
       "      <td>1</td>\n",
       "      <td>0</td>\n",
       "      <td>1</td>\n",
       "      <td>0</td>\n",
       "      <td>1</td>\n",
       "      <td>NOT_FOUND</td>\n",
       "      <td>AP</td>\n",
       "      <td>1</td>\n",
       "      <td>0.003505</td>\n",
       "      <td>0</td>\n",
       "      <td>1</td>\n",
       "    </tr>\n",
       "    <tr>\n",
       "      <th>1</th>\n",
       "      <td>308115426</td>\n",
       "      <td>2020-06-18</td>\n",
       "      <td>Y</td>\n",
       "      <td>0</td>\n",
       "      <td>1</td>\n",
       "      <td>0</td>\n",
       "      <td>1</td>\n",
       "      <td>0</td>\n",
       "      <td>1</td>\n",
       "      <td>FOUND</td>\n",
       "      <td>AP</td>\n",
       "      <td>1</td>\n",
       "      <td>0.098454</td>\n",
       "      <td>1</td>\n",
       "      <td>0</td>\n",
       "    </tr>\n",
       "    <tr>\n",
       "      <th>2</th>\n",
       "      <td>308141725</td>\n",
       "      <td>2020-06-18</td>\n",
       "      <td>Y</td>\n",
       "      <td>0</td>\n",
       "      <td>1</td>\n",
       "      <td>0</td>\n",
       "      <td>1</td>\n",
       "      <td>0</td>\n",
       "      <td>1</td>\n",
       "      <td>NOT_FOUND</td>\n",
       "      <td>Satellite</td>\n",
       "      <td>1</td>\n",
       "      <td>0.015603</td>\n",
       "      <td>0</td>\n",
       "      <td>1</td>\n",
       "    </tr>\n",
       "    <tr>\n",
       "      <th>3</th>\n",
       "      <td>308195350</td>\n",
       "      <td>2020-06-19</td>\n",
       "      <td>N</td>\n",
       "      <td>0</td>\n",
       "      <td>1</td>\n",
       "      <td>0</td>\n",
       "      <td>1</td>\n",
       "      <td>0</td>\n",
       "      <td>1</td>\n",
       "      <td>NOT_FOUND</td>\n",
       "      <td>Satellite</td>\n",
       "      <td>1</td>\n",
       "      <td>0.005864</td>\n",
       "      <td>0</td>\n",
       "      <td>1</td>\n",
       "    </tr>\n",
       "    <tr>\n",
       "      <th>4</th>\n",
       "      <td>308204068</td>\n",
       "      <td>2020-06-20</td>\n",
       "      <td>Y</td>\n",
       "      <td>0</td>\n",
       "      <td>1</td>\n",
       "      <td>0</td>\n",
       "      <td>1</td>\n",
       "      <td>0</td>\n",
       "      <td>1</td>\n",
       "      <td>NOT_FOUND</td>\n",
       "      <td>AP</td>\n",
       "      <td>1</td>\n",
       "      <td>0.038222</td>\n",
       "      <td>0</td>\n",
       "      <td>1</td>\n",
       "    </tr>\n",
       "  </tbody>\n",
       "</table>\n",
       "</div>"
      ],
      "text/plain": [
       "   SKP_CREDIT_CASE TIME_DECISION_DATE CLIENT_EXI_3M  RISK_FPD30  RISK_AGRF30  \\\n",
       "0        308092015         2020-06-18             N           0            1   \n",
       "1        308115426         2020-06-18             Y           0            1   \n",
       "2        308141725         2020-06-18             Y           0            1   \n",
       "3        308195350         2020-06-19             N           0            1   \n",
       "4        308204068         2020-06-20             Y           0            1   \n",
       "\n",
       "   RISK_FSTQPD30  RISK_AGRF120  RISK_FSTQPD60  RISK_AGRF150     RESULT  \\\n",
       "0              0             1              0             1  NOT_FOUND   \n",
       "1              0             1              0             1      FOUND   \n",
       "2              0             1              0             1  NOT_FOUND   \n",
       "3              0             1              0             1  NOT_FOUND   \n",
       "4              0             1              0             1  NOT_FOUND   \n",
       "\n",
       "    POS_TYPE  SCORE1  RISK_SCORE  FOUND_RESULT  NOT_FOUND_RESULT  \n",
       "0         AP       1    0.003505             0                 1  \n",
       "1         AP       1    0.098454             1                 0  \n",
       "2  Satellite       1    0.015603             0                 1  \n",
       "3  Satellite       1    0.005864             0                 1  \n",
       "4         AP       1    0.038222             0                 1  "
      ]
     },
     "execution_count": 6,
     "metadata": {},
     "output_type": "execute_result"
    }
   ],
   "source": [
    "df.head()"
   ]
  },
  {
   "cell_type": "code",
   "execution_count": 7,
   "metadata": {},
   "outputs": [],
   "source": [
    "df.TIME_DECISION_DATE = pd.to_datetime(df.TIME_DECISION_DATE,format = '%d-%m-%y')\n",
    "df[\"MONTH_STR\"] = df[\"TIME_DECISION_DATE\"].dt.strftime(\"%y-%m\")"
   ]
  },
  {
   "cell_type": "code",
   "execution_count": 8,
   "metadata": {},
   "outputs": [],
   "source": [
    "df = df[df.CLIENT_EXI_3M == 'N']"
   ]
  },
  {
   "cell_type": "code",
   "execution_count": 9,
   "metadata": {},
   "outputs": [],
   "source": [
    "df = df[df[agrf_flag]==1]"
   ]
  },
  {
   "cell_type": "code",
   "execution_count": 10,
   "metadata": {},
   "outputs": [
    {
     "data": {
      "text/plain": [
       "<AxesSubplot:>"
      ]
     },
     "execution_count": 10,
     "metadata": {},
     "output_type": "execute_result"
    },
    {
     "data": {
      "image/png": "[encoded data removed]",
      "text/plain": [
       "<Figure size 432x288 with 1 Axes>"
      ]
     },
     "metadata": {
      "needs_background": "light"
     },
     "output_type": "display_data"
    }
   ],
   "source": [
    "df[df[\"RESULT\"]==\"FOUND\"][\"SCORE1\"].hist(bins = 50)"
   ]
  },
  {
   "cell_type": "code",
   "execution_count": 11,
   "metadata": {},
   "outputs": [
    {
     "data": {
      "text/plain": [
       "0.13706720915350212"
      ]
     },
     "execution_count": 11,
     "metadata": {},
     "output_type": "execute_result"
    }
   ],
   "source": [
    "2*roc_auc_score(df[\"RISK_FPD30\"],df[\"RISK_SCORE\"])-1"
   ]
  },
  {
   "cell_type": "markdown",
   "metadata": {},
   "source": [
    "# MOM Plot of delinquency"
   ]
  },
  {
   "cell_type": "code",
   "execution_count": 12,
   "metadata": {},
   "outputs": [],
   "source": [
    "df_agg=df[[\"MONTH_STR\",target_variable]].groupby([\"MONTH_STR\"]).agg([\"count\",\"sum\"])\n",
    "df_agg.columns = ['_'.join(x) for x in df_agg.columns]\n",
    "df_agg[\"BAD_RATE\"] = df_agg[target_variable+\"_sum\"]/df_agg[target_variable+\"_count\"]"
   ]
  },
  {
   "cell_type": "code",
   "execution_count": 14,
   "metadata": {},
   "outputs": [
    {
     "data": {
      "image/png": "[encoded data removed]",
      "text/plain": [
       "<Figure size 1080x288 with 2 Axes>"
      ]
     },
     "metadata": {
      "needs_background": "light"
     },
     "output_type": "display_data"
    }
   ],
   "source": [
    "df_agg[[target_variable+\"_sum\",target_variable+\"_count\"]].plot(kind='bar', width = 0.8, figsize=(15,4))\n",
    "df_agg['BAD_RATE'].plot(secondary_y=True)\n",
    "\n",
    "ax = plt.gca()\n",
    "plt.xlim([-0.35, len(df_agg[target_variable+\"_sum\"])-0.35])\n",
    "ax.set_xticklabels(df_agg.index)\n",
    "plt.ylim\n",
    "fig = ax.get_figure()\n",
    "ax = fig.get_axes()\n",
    "ax[1].set_ylim(0,0.1)\n",
    "ax[0].legend(['CD_Contracts','CD_Defaults'])\n",
    "ax[1].legend([\"Default Rate\"], loc = \"center right\")\n",
    "plt.show()"
   ]
  },
  {
   "cell_type": "markdown",
   "metadata": {},
   "source": [
    "# Define Key Variables"
   ]
  },
  {
   "cell_type": "code",
   "execution_count": 15,
   "metadata": {},
   "outputs": [
    {
     "name": "stderr",
     "output_type": "stream",
     "text": [
      "C:\\Users\\aman.khatri91425\\AppData\\Local\\Continuum\\anaconda3\\lib\\site-packages\\ipykernel_launcher.py:1: FutureWarning: The pandas.datetime class is deprecated and will be removed from pandas in a future version. Import from datetime module instead.\n",
      "  \"\"\"Entry point for launching an IPython kernel.\n",
      "C:\\Users\\aman.khatri91425\\AppData\\Local\\Continuum\\anaconda3\\lib\\site-packages\\ipykernel_launcher.py:2: FutureWarning: The pandas.datetime class is deprecated and will be removed from pandas in a future version. Import from datetime module instead.\n",
      "  \n",
      "C:\\Users\\aman.khatri91425\\AppData\\Local\\Continuum\\anaconda3\\lib\\site-packages\\ipykernel_launcher.py:3: FutureWarning: The pandas.datetime class is deprecated and will be removed from pandas in a future version. Import from datetime module instead.\n",
      "  This is separate from the ipykernel package so we can avoid doing imports until\n",
      "C:\\Users\\aman.khatri91425\\AppData\\Local\\Continuum\\anaconda3\\lib\\site-packages\\ipykernel_launcher.py:4: FutureWarning: The pandas.datetime class is deprecated and will be removed from pandas in a future version. Import from datetime module instead.\n",
      "  after removing the cwd from sys.path.\n"
     ]
    }
   ],
   "source": [
    "train_start = pd.datetime(2020,6,1)\n",
    "train_end = pd.datetime(2020,6,30)\n",
    "test_start = pd.datetime(2020,7,1)\n",
    "test_end = pd.datetime(2020,8,31)"
   ]
  },
  {
   "cell_type": "markdown",
   "metadata": {},
   "source": [
    "# Logistic Model- FNF Only"
   ]
  },
  {
   "cell_type": "code",
   "execution_count": 16,
   "metadata": {},
   "outputs": [],
   "source": [
    "def inv_logit(p):\n",
    "    return np.exp(p) / (1 + np.exp(p))\n",
    "def logit(p):\n",
    "    return np.log(p)- np.log(1 -p)"
   ]
  },
  {
   "cell_type": "markdown",
   "metadata": {},
   "source": [
    "## Test Train Split"
   ]
  },
  {
   "cell_type": "code",
   "execution_count": 17,
   "metadata": {},
   "outputs": [
    {
     "name": "stdout",
     "output_type": "stream",
     "text": [
      "Event rate in train set : 9.47%\n",
      "Train set shape: (11197, 18)\n",
      "Event rate in test set : 7.31%\n",
      "Test set shape: (93169, 18)\n",
      "Event rate in validation set : 8.95%\n",
      "validation set shape: (26129, 18)\n",
      "Train GINI 0.1373164998017724\n",
      "Test GINI 0.1278495914404938\n",
      "validation GINI 0.12453880245075855\n"
     ]
    },
    {
     "name": "stderr",
     "output_type": "stream",
     "text": [
      "C:\\Users\\aman.khatri91425\\AppData\\Local\\Continuum\\anaconda3\\lib\\site-packages\\pandas\\core\\series.py:726: RuntimeWarning: divide by zero encountered in log\n",
      "  result = getattr(ufunc, method)(*inputs, **kwargs)\n"
     ]
    }
   ],
   "source": [
    "for x in [\"SCORE1\",\"RISK_SCORE\"]:\n",
    "    df[\"LOG_\"+x] = logit(df[x])\n",
    "    df[\"LOG_\"+x] = df[\"LOG_\"+x].fillna(value = 0)\n",
    "\n",
    "x_columns=['FOUND_RESULT','LOG_RISK_SCORE']\n",
    "y_column = target_variable \n",
    "\n",
    "X_train_all = df[(df.TIME_DECISION_DATE>=train_start) & (df.TIME_DECISION_DATE<=train_end)]\n",
    "y_train_all = df[(df.TIME_DECISION_DATE>=train_start) & (df.TIME_DECISION_DATE<=train_end)][y_column]\n",
    "\n",
    "X_test = df[(df.TIME_DECISION_DATE>=test_start) & (df.TIME_DECISION_DATE<=test_end)]\n",
    "y_test = df[(df.TIME_DECISION_DATE>=test_start) & (df.TIME_DECISION_DATE<=test_end)][y_column]\n",
    "\n",
    "X_train, X_valid, y_train, y_valid = train_test_split(X_train_all, y_train_all, test_size = 0.7, random_state = seed)\n",
    "\n",
    "##event rate\n",
    "print(\"Event rate in train set :\", '{:,.2%}'.format(sum(y_train) / len(y_train)))\n",
    "print(\"Train set shape:\",X_train.shape)\n",
    "print(\"Event rate in test set :\", '{:,.2%}'.format(sum(y_test) / len(y_test)))\n",
    "print(\"Test set shape:\",X_test.shape)\n",
    "print(\"Event rate in validation set :\", '{:,.2%}'.format(sum(y_valid) / len(y_valid)))\n",
    "print(\"validation set shape:\",X_valid.shape)\n",
    "print(\"Train GINI\",  roc_auc_score(y_train, X_train[risk_score])*2 -1)\n",
    "print(\"Test GINI\",  roc_auc_score(y_test, X_test[risk_score])*2 -1)\n",
    "print(\"validation GINI\",  roc_auc_score(y_valid, X_valid[risk_score])*2 -1)"
   ]
  },
  {
   "cell_type": "markdown",
   "metadata": {},
   "source": [
    "## L1 Penalty Hyper Parameter Optimization"
   ]
  },
  {
   "cell_type": "code",
   "execution_count": 22,
   "metadata": {},
   "outputs": [],
   "source": [
    "param_grid = {'C':np.exp(np.arange(-3,6,0.01))}"
   ]
  },
  {
   "cell_type": "code",
   "execution_count": 23,
   "metadata": {},
   "outputs": [],
   "source": [
    "kfolds = StratifiedKFold(3, random_state=1, shuffle = True)\n",
    "comb=LogisticRegression(penalty = 'l1', solver = 'liblinear')\n",
    "\n",
    "rcv = RandomizedSearchCV(estimator = comb, param_distributions=param_grid, scoring=['roc_auc'], n_iter = 40,\n",
    "    cv=kfolds.split(X_train[x_columns],y_train), verbose=0, random_state=1,\n",
    "    refit = 'roc_auc', return_train_score=True, error_score = 0)"
   ]
  },
  {
   "cell_type": "code",
   "execution_count": 24,
   "metadata": {},
   "outputs": [
    {
     "name": "stdout",
     "output_type": "stream",
     "text": [
      "Randomized search..\n"
     ]
    },
    {
     "name": "stderr",
     "output_type": "stream",
     "text": [
      "C:\\Users\\aman.khatri91425\\AppData\\Local\\Continuum\\anaconda3\\lib\\site-packages\\sklearn\\svm\\_base.py:986: ConvergenceWarning: Liblinear failed to converge, increase the number of iterations.\n",
      "  \"the number of iterations.\", ConvergenceWarning)\n",
      "C:\\Users\\aman.khatri91425\\AppData\\Local\\Continuum\\anaconda3\\lib\\site-packages\\sklearn\\svm\\_base.py:986: ConvergenceWarning: Liblinear failed to converge, increase the number of iterations.\n",
      "  \"the number of iterations.\", ConvergenceWarning)\n",
      "C:\\Users\\aman.khatri91425\\AppData\\Local\\Continuum\\anaconda3\\lib\\site-packages\\sklearn\\svm\\_base.py:986: ConvergenceWarning: Liblinear failed to converge, increase the number of iterations.\n",
      "  \"the number of iterations.\", ConvergenceWarning)\n",
      "C:\\Users\\aman.khatri91425\\AppData\\Local\\Continuum\\anaconda3\\lib\\site-packages\\sklearn\\svm\\_base.py:986: ConvergenceWarning: Liblinear failed to converge, increase the number of iterations.\n",
      "  \"the number of iterations.\", ConvergenceWarning)\n",
      "C:\\Users\\aman.khatri91425\\AppData\\Local\\Continuum\\anaconda3\\lib\\site-packages\\sklearn\\svm\\_base.py:986: ConvergenceWarning: Liblinear failed to converge, increase the number of iterations.\n",
      "  \"the number of iterations.\", ConvergenceWarning)\n",
      "C:\\Users\\aman.khatri91425\\AppData\\Local\\Continuum\\anaconda3\\lib\\site-packages\\sklearn\\svm\\_base.py:986: ConvergenceWarning: Liblinear failed to converge, increase the number of iterations.\n",
      "  \"the number of iterations.\", ConvergenceWarning)\n",
      "C:\\Users\\aman.khatri91425\\AppData\\Local\\Continuum\\anaconda3\\lib\\site-packages\\sklearn\\svm\\_base.py:986: ConvergenceWarning: Liblinear failed to converge, increase the number of iterations.\n",
      "  \"the number of iterations.\", ConvergenceWarning)\n",
      "C:\\Users\\aman.khatri91425\\AppData\\Local\\Continuum\\anaconda3\\lib\\site-packages\\sklearn\\svm\\_base.py:986: ConvergenceWarning: Liblinear failed to converge, increase the number of iterations.\n",
      "  \"the number of iterations.\", ConvergenceWarning)\n",
      "C:\\Users\\aman.khatri91425\\AppData\\Local\\Continuum\\anaconda3\\lib\\site-packages\\sklearn\\svm\\_base.py:986: ConvergenceWarning: Liblinear failed to converge, increase the number of iterations.\n",
      "  \"the number of iterations.\", ConvergenceWarning)\n",
      "C:\\Users\\aman.khatri91425\\AppData\\Local\\Continuum\\anaconda3\\lib\\site-packages\\sklearn\\svm\\_base.py:986: ConvergenceWarning: Liblinear failed to converge, increase the number of iterations.\n",
      "  \"the number of iterations.\", ConvergenceWarning)\n",
      "C:\\Users\\aman.khatri91425\\AppData\\Local\\Continuum\\anaconda3\\lib\\site-packages\\sklearn\\svm\\_base.py:986: ConvergenceWarning: Liblinear failed to converge, increase the number of iterations.\n",
      "  \"the number of iterations.\", ConvergenceWarning)\n",
      "C:\\Users\\aman.khatri91425\\AppData\\Local\\Continuum\\anaconda3\\lib\\site-packages\\sklearn\\svm\\_base.py:986: ConvergenceWarning: Liblinear failed to converge, increase the number of iterations.\n",
      "  \"the number of iterations.\", ConvergenceWarning)\n",
      "C:\\Users\\aman.khatri91425\\AppData\\Local\\Continuum\\anaconda3\\lib\\site-packages\\sklearn\\svm\\_base.py:986: ConvergenceWarning: Liblinear failed to converge, increase the number of iterations.\n",
      "  \"the number of iterations.\", ConvergenceWarning)\n",
      "C:\\Users\\aman.khatri91425\\AppData\\Local\\Continuum\\anaconda3\\lib\\site-packages\\sklearn\\svm\\_base.py:986: ConvergenceWarning: Liblinear failed to converge, increase the number of iterations.\n",
      "  \"the number of iterations.\", ConvergenceWarning)\n",
      "C:\\Users\\aman.khatri91425\\AppData\\Local\\Continuum\\anaconda3\\lib\\site-packages\\sklearn\\svm\\_base.py:986: ConvergenceWarning: Liblinear failed to converge, increase the number of iterations.\n",
      "  \"the number of iterations.\", ConvergenceWarning)\n",
      "C:\\Users\\aman.khatri91425\\AppData\\Local\\Continuum\\anaconda3\\lib\\site-packages\\sklearn\\svm\\_base.py:986: ConvergenceWarning: Liblinear failed to converge, increase the number of iterations.\n",
      "  \"the number of iterations.\", ConvergenceWarning)\n",
      "C:\\Users\\aman.khatri91425\\AppData\\Local\\Continuum\\anaconda3\\lib\\site-packages\\sklearn\\svm\\_base.py:986: ConvergenceWarning: Liblinear failed to converge, increase the number of iterations.\n",
      "  \"the number of iterations.\", ConvergenceWarning)\n",
      "C:\\Users\\aman.khatri91425\\AppData\\Local\\Continuum\\anaconda3\\lib\\site-packages\\sklearn\\svm\\_base.py:986: ConvergenceWarning: Liblinear failed to converge, increase the number of iterations.\n",
      "  \"the number of iterations.\", ConvergenceWarning)\n",
      "C:\\Users\\aman.khatri91425\\AppData\\Local\\Continuum\\anaconda3\\lib\\site-packages\\sklearn\\svm\\_base.py:986: ConvergenceWarning: Liblinear failed to converge, increase the number of iterations.\n",
      "  \"the number of iterations.\", ConvergenceWarning)\n",
      "C:\\Users\\aman.khatri91425\\AppData\\Local\\Continuum\\anaconda3\\lib\\site-packages\\sklearn\\svm\\_base.py:986: ConvergenceWarning: Liblinear failed to converge, increase the number of iterations.\n",
      "  \"the number of iterations.\", ConvergenceWarning)\n",
      "C:\\Users\\aman.khatri91425\\AppData\\Local\\Continuum\\anaconda3\\lib\\site-packages\\sklearn\\svm\\_base.py:986: ConvergenceWarning: Liblinear failed to converge, increase the number of iterations.\n",
      "  \"the number of iterations.\", ConvergenceWarning)\n",
      "C:\\Users\\aman.khatri91425\\AppData\\Local\\Continuum\\anaconda3\\lib\\site-packages\\sklearn\\svm\\_base.py:986: ConvergenceWarning: Liblinear failed to converge, increase the number of iterations.\n",
      "  \"the number of iterations.\", ConvergenceWarning)\n",
      "C:\\Users\\aman.khatri91425\\AppData\\Local\\Continuum\\anaconda3\\lib\\site-packages\\sklearn\\svm\\_base.py:986: ConvergenceWarning: Liblinear failed to converge, increase the number of iterations.\n",
      "  \"the number of iterations.\", ConvergenceWarning)\n",
      "C:\\Users\\aman.khatri91425\\AppData\\Local\\Continuum\\anaconda3\\lib\\site-packages\\sklearn\\svm\\_base.py:986: ConvergenceWarning: Liblinear failed to converge, increase the number of iterations.\n",
      "  \"the number of iterations.\", ConvergenceWarning)\n",
      "C:\\Users\\aman.khatri91425\\AppData\\Local\\Continuum\\anaconda3\\lib\\site-packages\\sklearn\\svm\\_base.py:986: ConvergenceWarning: Liblinear failed to converge, increase the number of iterations.\n",
      "  \"the number of iterations.\", ConvergenceWarning)\n",
      "C:\\Users\\aman.khatri91425\\AppData\\Local\\Continuum\\anaconda3\\lib\\site-packages\\sklearn\\svm\\_base.py:986: ConvergenceWarning: Liblinear failed to converge, increase the number of iterations.\n",
      "  \"the number of iterations.\", ConvergenceWarning)\n",
      "C:\\Users\\aman.khatri91425\\AppData\\Local\\Continuum\\anaconda3\\lib\\site-packages\\sklearn\\svm\\_base.py:986: ConvergenceWarning: Liblinear failed to converge, increase the number of iterations.\n",
      "  \"the number of iterations.\", ConvergenceWarning)\n",
      "C:\\Users\\aman.khatri91425\\AppData\\Local\\Continuum\\anaconda3\\lib\\site-packages\\sklearn\\svm\\_base.py:986: ConvergenceWarning: Liblinear failed to converge, increase the number of iterations.\n",
      "  \"the number of iterations.\", ConvergenceWarning)\n",
      "C:\\Users\\aman.khatri91425\\AppData\\Local\\Continuum\\anaconda3\\lib\\site-packages\\sklearn\\svm\\_base.py:986: ConvergenceWarning: Liblinear failed to converge, increase the number of iterations.\n",
      "  \"the number of iterations.\", ConvergenceWarning)\n",
      "C:\\Users\\aman.khatri91425\\AppData\\Local\\Continuum\\anaconda3\\lib\\site-packages\\sklearn\\svm\\_base.py:986: ConvergenceWarning: Liblinear failed to converge, increase the number of iterations.\n",
      "  \"the number of iterations.\", ConvergenceWarning)\n",
      "C:\\Users\\aman.khatri91425\\AppData\\Local\\Continuum\\anaconda3\\lib\\site-packages\\sklearn\\svm\\_base.py:986: ConvergenceWarning: Liblinear failed to converge, increase the number of iterations.\n",
      "  \"the number of iterations.\", ConvergenceWarning)\n",
      "C:\\Users\\aman.khatri91425\\AppData\\Local\\Continuum\\anaconda3\\lib\\site-packages\\sklearn\\svm\\_base.py:986: ConvergenceWarning: Liblinear failed to converge, increase the number of iterations.\n",
      "  \"the number of iterations.\", ConvergenceWarning)\n",
      "C:\\Users\\aman.khatri91425\\AppData\\Local\\Continuum\\anaconda3\\lib\\site-packages\\sklearn\\svm\\_base.py:986: ConvergenceWarning: Liblinear failed to converge, increase the number of iterations.\n",
      "  \"the number of iterations.\", ConvergenceWarning)\n",
      "C:\\Users\\aman.khatri91425\\AppData\\Local\\Continuum\\anaconda3\\lib\\site-packages\\sklearn\\svm\\_base.py:986: ConvergenceWarning: Liblinear failed to converge, increase the number of iterations.\n",
      "  \"the number of iterations.\", ConvergenceWarning)\n",
      "C:\\Users\\aman.khatri91425\\AppData\\Local\\Continuum\\anaconda3\\lib\\site-packages\\sklearn\\svm\\_base.py:986: ConvergenceWarning: Liblinear failed to converge, increase the number of iterations.\n",
      "  \"the number of iterations.\", ConvergenceWarning)\n",
      "C:\\Users\\aman.khatri91425\\AppData\\Local\\Continuum\\anaconda3\\lib\\site-packages\\sklearn\\svm\\_base.py:986: ConvergenceWarning: Liblinear failed to converge, increase the number of iterations.\n",
      "  \"the number of iterations.\", ConvergenceWarning)\n",
      "C:\\Users\\aman.khatri91425\\AppData\\Local\\Continuum\\anaconda3\\lib\\site-packages\\sklearn\\svm\\_base.py:986: ConvergenceWarning: Liblinear failed to converge, increase the number of iterations.\n",
      "  \"the number of iterations.\", ConvergenceWarning)\n"
     ]
    },
    {
     "name": "stderr",
     "output_type": "stream",
     "text": [
      "C:\\Users\\aman.khatri91425\\AppData\\Local\\Continuum\\anaconda3\\lib\\site-packages\\sklearn\\svm\\_base.py:986: ConvergenceWarning: Liblinear failed to converge, increase the number of iterations.\n",
      "  \"the number of iterations.\", ConvergenceWarning)\n",
      "C:\\Users\\aman.khatri91425\\AppData\\Local\\Continuum\\anaconda3\\lib\\site-packages\\sklearn\\svm\\_base.py:986: ConvergenceWarning: Liblinear failed to converge, increase the number of iterations.\n",
      "  \"the number of iterations.\", ConvergenceWarning)\n",
      "C:\\Users\\aman.khatri91425\\AppData\\Local\\Continuum\\anaconda3\\lib\\site-packages\\sklearn\\svm\\_base.py:986: ConvergenceWarning: Liblinear failed to converge, increase the number of iterations.\n",
      "  \"the number of iterations.\", ConvergenceWarning)\n",
      "C:\\Users\\aman.khatri91425\\AppData\\Local\\Continuum\\anaconda3\\lib\\site-packages\\sklearn\\svm\\_base.py:986: ConvergenceWarning: Liblinear failed to converge, increase the number of iterations.\n",
      "  \"the number of iterations.\", ConvergenceWarning)\n",
      "C:\\Users\\aman.khatri91425\\AppData\\Local\\Continuum\\anaconda3\\lib\\site-packages\\sklearn\\svm\\_base.py:986: ConvergenceWarning: Liblinear failed to converge, increase the number of iterations.\n",
      "  \"the number of iterations.\", ConvergenceWarning)\n",
      "C:\\Users\\aman.khatri91425\\AppData\\Local\\Continuum\\anaconda3\\lib\\site-packages\\sklearn\\svm\\_base.py:986: ConvergenceWarning: Liblinear failed to converge, increase the number of iterations.\n",
      "  \"the number of iterations.\", ConvergenceWarning)\n",
      "C:\\Users\\aman.khatri91425\\AppData\\Local\\Continuum\\anaconda3\\lib\\site-packages\\sklearn\\svm\\_base.py:986: ConvergenceWarning: Liblinear failed to converge, increase the number of iterations.\n",
      "  \"the number of iterations.\", ConvergenceWarning)\n",
      "C:\\Users\\aman.khatri91425\\AppData\\Local\\Continuum\\anaconda3\\lib\\site-packages\\sklearn\\svm\\_base.py:986: ConvergenceWarning: Liblinear failed to converge, increase the number of iterations.\n",
      "  \"the number of iterations.\", ConvergenceWarning)\n",
      "C:\\Users\\aman.khatri91425\\AppData\\Local\\Continuum\\anaconda3\\lib\\site-packages\\sklearn\\svm\\_base.py:986: ConvergenceWarning: Liblinear failed to converge, increase the number of iterations.\n",
      "  \"the number of iterations.\", ConvergenceWarning)\n",
      "C:\\Users\\aman.khatri91425\\AppData\\Local\\Continuum\\anaconda3\\lib\\site-packages\\sklearn\\svm\\_base.py:986: ConvergenceWarning: Liblinear failed to converge, increase the number of iterations.\n",
      "  \"the number of iterations.\", ConvergenceWarning)\n",
      "C:\\Users\\aman.khatri91425\\AppData\\Local\\Continuum\\anaconda3\\lib\\site-packages\\sklearn\\svm\\_base.py:986: ConvergenceWarning: Liblinear failed to converge, increase the number of iterations.\n",
      "  \"the number of iterations.\", ConvergenceWarning)\n",
      "C:\\Users\\aman.khatri91425\\AppData\\Local\\Continuum\\anaconda3\\lib\\site-packages\\sklearn\\svm\\_base.py:986: ConvergenceWarning: Liblinear failed to converge, increase the number of iterations.\n",
      "  \"the number of iterations.\", ConvergenceWarning)\n",
      "C:\\Users\\aman.khatri91425\\AppData\\Local\\Continuum\\anaconda3\\lib\\site-packages\\sklearn\\svm\\_base.py:986: ConvergenceWarning: Liblinear failed to converge, increase the number of iterations.\n",
      "  \"the number of iterations.\", ConvergenceWarning)\n",
      "C:\\Users\\aman.khatri91425\\AppData\\Local\\Continuum\\anaconda3\\lib\\site-packages\\sklearn\\svm\\_base.py:986: ConvergenceWarning: Liblinear failed to converge, increase the number of iterations.\n",
      "  \"the number of iterations.\", ConvergenceWarning)\n",
      "C:\\Users\\aman.khatri91425\\AppData\\Local\\Continuum\\anaconda3\\lib\\site-packages\\sklearn\\svm\\_base.py:986: ConvergenceWarning: Liblinear failed to converge, increase the number of iterations.\n",
      "  \"the number of iterations.\", ConvergenceWarning)\n",
      "C:\\Users\\aman.khatri91425\\AppData\\Local\\Continuum\\anaconda3\\lib\\site-packages\\sklearn\\svm\\_base.py:986: ConvergenceWarning: Liblinear failed to converge, increase the number of iterations.\n",
      "  \"the number of iterations.\", ConvergenceWarning)\n",
      "C:\\Users\\aman.khatri91425\\AppData\\Local\\Continuum\\anaconda3\\lib\\site-packages\\sklearn\\svm\\_base.py:986: ConvergenceWarning: Liblinear failed to converge, increase the number of iterations.\n",
      "  \"the number of iterations.\", ConvergenceWarning)\n",
      "C:\\Users\\aman.khatri91425\\AppData\\Local\\Continuum\\anaconda3\\lib\\site-packages\\sklearn\\svm\\_base.py:986: ConvergenceWarning: Liblinear failed to converge, increase the number of iterations.\n",
      "  \"the number of iterations.\", ConvergenceWarning)\n",
      "C:\\Users\\aman.khatri91425\\AppData\\Local\\Continuum\\anaconda3\\lib\\site-packages\\sklearn\\svm\\_base.py:986: ConvergenceWarning: Liblinear failed to converge, increase the number of iterations.\n",
      "  \"the number of iterations.\", ConvergenceWarning)\n",
      "C:\\Users\\aman.khatri91425\\AppData\\Local\\Continuum\\anaconda3\\lib\\site-packages\\sklearn\\svm\\_base.py:986: ConvergenceWarning: Liblinear failed to converge, increase the number of iterations.\n",
      "  \"the number of iterations.\", ConvergenceWarning)\n",
      "C:\\Users\\aman.khatri91425\\AppData\\Local\\Continuum\\anaconda3\\lib\\site-packages\\sklearn\\svm\\_base.py:986: ConvergenceWarning: Liblinear failed to converge, increase the number of iterations.\n",
      "  \"the number of iterations.\", ConvergenceWarning)\n",
      "C:\\Users\\aman.khatri91425\\AppData\\Local\\Continuum\\anaconda3\\lib\\site-packages\\sklearn\\svm\\_base.py:986: ConvergenceWarning: Liblinear failed to converge, increase the number of iterations.\n",
      "  \"the number of iterations.\", ConvergenceWarning)\n",
      "C:\\Users\\aman.khatri91425\\AppData\\Local\\Continuum\\anaconda3\\lib\\site-packages\\sklearn\\svm\\_base.py:986: ConvergenceWarning: Liblinear failed to converge, increase the number of iterations.\n",
      "  \"the number of iterations.\", ConvergenceWarning)\n",
      "C:\\Users\\aman.khatri91425\\AppData\\Local\\Continuum\\anaconda3\\lib\\site-packages\\sklearn\\svm\\_base.py:986: ConvergenceWarning: Liblinear failed to converge, increase the number of iterations.\n",
      "  \"the number of iterations.\", ConvergenceWarning)\n",
      "C:\\Users\\aman.khatri91425\\AppData\\Local\\Continuum\\anaconda3\\lib\\site-packages\\sklearn\\svm\\_base.py:986: ConvergenceWarning: Liblinear failed to converge, increase the number of iterations.\n",
      "  \"the number of iterations.\", ConvergenceWarning)\n",
      "C:\\Users\\aman.khatri91425\\AppData\\Local\\Continuum\\anaconda3\\lib\\site-packages\\sklearn\\svm\\_base.py:986: ConvergenceWarning: Liblinear failed to converge, increase the number of iterations.\n",
      "  \"the number of iterations.\", ConvergenceWarning)\n",
      "C:\\Users\\aman.khatri91425\\AppData\\Local\\Continuum\\anaconda3\\lib\\site-packages\\sklearn\\svm\\_base.py:986: ConvergenceWarning: Liblinear failed to converge, increase the number of iterations.\n",
      "  \"the number of iterations.\", ConvergenceWarning)\n",
      "C:\\Users\\aman.khatri91425\\AppData\\Local\\Continuum\\anaconda3\\lib\\site-packages\\sklearn\\svm\\_base.py:986: ConvergenceWarning: Liblinear failed to converge, increase the number of iterations.\n",
      "  \"the number of iterations.\", ConvergenceWarning)\n",
      "C:\\Users\\aman.khatri91425\\AppData\\Local\\Continuum\\anaconda3\\lib\\site-packages\\sklearn\\svm\\_base.py:986: ConvergenceWarning: Liblinear failed to converge, increase the number of iterations.\n",
      "  \"the number of iterations.\", ConvergenceWarning)\n",
      "C:\\Users\\aman.khatri91425\\AppData\\Local\\Continuum\\anaconda3\\lib\\site-packages\\sklearn\\svm\\_base.py:986: ConvergenceWarning: Liblinear failed to converge, increase the number of iterations.\n",
      "  \"the number of iterations.\", ConvergenceWarning)\n",
      "C:\\Users\\aman.khatri91425\\AppData\\Local\\Continuum\\anaconda3\\lib\\site-packages\\sklearn\\svm\\_base.py:986: ConvergenceWarning: Liblinear failed to converge, increase the number of iterations.\n",
      "  \"the number of iterations.\", ConvergenceWarning)\n",
      "C:\\Users\\aman.khatri91425\\AppData\\Local\\Continuum\\anaconda3\\lib\\site-packages\\sklearn\\svm\\_base.py:986: ConvergenceWarning: Liblinear failed to converge, increase the number of iterations.\n",
      "  \"the number of iterations.\", ConvergenceWarning)\n",
      "C:\\Users\\aman.khatri91425\\AppData\\Local\\Continuum\\anaconda3\\lib\\site-packages\\sklearn\\svm\\_base.py:986: ConvergenceWarning: Liblinear failed to converge, increase the number of iterations.\n",
      "  \"the number of iterations.\", ConvergenceWarning)\n",
      "C:\\Users\\aman.khatri91425\\AppData\\Local\\Continuum\\anaconda3\\lib\\site-packages\\sklearn\\svm\\_base.py:986: ConvergenceWarning: Liblinear failed to converge, increase the number of iterations.\n",
      "  \"the number of iterations.\", ConvergenceWarning)\n",
      "C:\\Users\\aman.khatri91425\\AppData\\Local\\Continuum\\anaconda3\\lib\\site-packages\\sklearn\\svm\\_base.py:986: ConvergenceWarning: Liblinear failed to converge, increase the number of iterations.\n",
      "  \"the number of iterations.\", ConvergenceWarning)\n",
      "C:\\Users\\aman.khatri91425\\AppData\\Local\\Continuum\\anaconda3\\lib\\site-packages\\sklearn\\svm\\_base.py:986: ConvergenceWarning: Liblinear failed to converge, increase the number of iterations.\n",
      "  \"the number of iterations.\", ConvergenceWarning)\n",
      "C:\\Users\\aman.khatri91425\\AppData\\Local\\Continuum\\anaconda3\\lib\\site-packages\\sklearn\\svm\\_base.py:986: ConvergenceWarning: Liblinear failed to converge, increase the number of iterations.\n",
      "  \"the number of iterations.\", ConvergenceWarning)\n",
      "C:\\Users\\aman.khatri91425\\AppData\\Local\\Continuum\\anaconda3\\lib\\site-packages\\sklearn\\svm\\_base.py:986: ConvergenceWarning: Liblinear failed to converge, increase the number of iterations.\n",
      "  \"the number of iterations.\", ConvergenceWarning)\n"
     ]
    },
    {
     "name": "stderr",
     "output_type": "stream",
     "text": [
      "C:\\Users\\aman.khatri91425\\AppData\\Local\\Continuum\\anaconda3\\lib\\site-packages\\sklearn\\svm\\_base.py:986: ConvergenceWarning: Liblinear failed to converge, increase the number of iterations.\n",
      "  \"the number of iterations.\", ConvergenceWarning)\n",
      "C:\\Users\\aman.khatri91425\\AppData\\Local\\Continuum\\anaconda3\\lib\\site-packages\\sklearn\\svm\\_base.py:986: ConvergenceWarning: Liblinear failed to converge, increase the number of iterations.\n",
      "  \"the number of iterations.\", ConvergenceWarning)\n",
      "C:\\Users\\aman.khatri91425\\AppData\\Local\\Continuum\\anaconda3\\lib\\site-packages\\sklearn\\svm\\_base.py:986: ConvergenceWarning: Liblinear failed to converge, increase the number of iterations.\n",
      "  \"the number of iterations.\", ConvergenceWarning)\n",
      "C:\\Users\\aman.khatri91425\\AppData\\Local\\Continuum\\anaconda3\\lib\\site-packages\\sklearn\\svm\\_base.py:986: ConvergenceWarning: Liblinear failed to converge, increase the number of iterations.\n",
      "  \"the number of iterations.\", ConvergenceWarning)\n",
      "C:\\Users\\aman.khatri91425\\AppData\\Local\\Continuum\\anaconda3\\lib\\site-packages\\sklearn\\svm\\_base.py:986: ConvergenceWarning: Liblinear failed to converge, increase the number of iterations.\n",
      "  \"the number of iterations.\", ConvergenceWarning)\n",
      "C:\\Users\\aman.khatri91425\\AppData\\Local\\Continuum\\anaconda3\\lib\\site-packages\\sklearn\\svm\\_base.py:986: ConvergenceWarning: Liblinear failed to converge, increase the number of iterations.\n",
      "  \"the number of iterations.\", ConvergenceWarning)\n",
      "C:\\Users\\aman.khatri91425\\AppData\\Local\\Continuum\\anaconda3\\lib\\site-packages\\sklearn\\svm\\_base.py:986: ConvergenceWarning: Liblinear failed to converge, increase the number of iterations.\n",
      "  \"the number of iterations.\", ConvergenceWarning)\n",
      "C:\\Users\\aman.khatri91425\\AppData\\Local\\Continuum\\anaconda3\\lib\\site-packages\\sklearn\\svm\\_base.py:986: ConvergenceWarning: Liblinear failed to converge, increase the number of iterations.\n",
      "  \"the number of iterations.\", ConvergenceWarning)\n",
      "C:\\Users\\aman.khatri91425\\AppData\\Local\\Continuum\\anaconda3\\lib\\site-packages\\sklearn\\svm\\_base.py:986: ConvergenceWarning: Liblinear failed to converge, increase the number of iterations.\n",
      "  \"the number of iterations.\", ConvergenceWarning)\n"
     ]
    },
    {
     "name": "stdout",
     "output_type": "stream",
     "text": [
      "Randomized search time: 5.190107107162476\n"
     ]
    },
    {
     "name": "stderr",
     "output_type": "stream",
     "text": [
      "C:\\Users\\aman.khatri91425\\AppData\\Local\\Continuum\\anaconda3\\lib\\site-packages\\sklearn\\svm\\_base.py:986: ConvergenceWarning: Liblinear failed to converge, increase the number of iterations.\n",
      "  \"the number of iterations.\", ConvergenceWarning)\n",
      "C:\\Users\\aman.khatri91425\\AppData\\Local\\Continuum\\anaconda3\\lib\\site-packages\\sklearn\\svm\\_base.py:986: ConvergenceWarning: Liblinear failed to converge, increase the number of iterations.\n",
      "  \"the number of iterations.\", ConvergenceWarning)\n"
     ]
    }
   ],
   "source": [
    "#Calculate Gini Lift Logistic Regression\n",
    "print(\"Randomized search..\")\n",
    "\n",
    "search_time_start = time.time()\n",
    "rcv.fit(X_train[x_columns], y_train)\n",
    "print(\"Randomized search time:\", time.time() - search_time_start)\n",
    "params = rcv.best_params_   #get best parameters\n",
    "dic=rcv.cv_results_    #provides scoring results for each iteration, 50 in this case, mean values can be used "
   ]
  },
  {
   "cell_type": "code",
   "execution_count": 25,
   "metadata": {},
   "outputs": [
    {
     "name": "stdout",
     "output_type": "stream",
     "text": [
      "{'C': 311.0644109813349}\n"
     ]
    },
    {
     "data": {
      "image/png": "[encoded data removed]",
      "text/plain": [
       "<Figure size 432x288 with 1 Axes>"
      ]
     },
     "metadata": {
      "needs_background": "light"
     },
     "output_type": "display_data"
    }
   ],
   "source": [
    "tmp1= pd.DataFrame(dic)[[\"param_C\",\"mean_test_roc_auc\",\"mean_train_roc_auc\"]].sort_values(by = 'param_C')\n",
    "tmp1.plot(x=\"param_C\")\n",
    "print(params)"
   ]
  },
  {
   "cell_type": "markdown",
   "metadata": {},
   "source": [
    "## Logistic With optimized Hyperparameters "
   ]
  },
  {
   "cell_type": "code",
   "execution_count": 26,
   "metadata": {},
   "outputs": [
    {
     "name": "stdout",
     "output_type": "stream",
     "text": [
      "Train GINI(COMBINED_SCORE) 0.144\n",
      "Valid GINI(COMBINED_SCORE) 0.130\n",
      "Test GINI(COMBINED_SCORE) 0.138\n",
      "Train GINI(RISK_SCORE) 0.137\n",
      "Valid GINI(RISK_SCORE) 0.125\n",
      "Test GINI(RISK_SCORE) 0.128\n"
     ]
    },
    {
     "name": "stderr",
     "output_type": "stream",
     "text": [
      "C:\\Users\\aman.khatri91425\\AppData\\Local\\Continuum\\anaconda3\\lib\\site-packages\\sklearn\\svm\\_base.py:986: ConvergenceWarning: Liblinear failed to converge, increase the number of iterations.\n",
      "  \"the number of iterations.\", ConvergenceWarning)\n"
     ]
    }
   ],
   "source": [
    "from sklearn.linear_model import LogisticRegression\n",
    "\n",
    "bst = LogisticRegression(penalty = 'l1', C=params['C'], solver='liblinear')\n",
    "\n",
    "bst.fit(X_train[x_columns], y_train)\n",
    "\n",
    "ypred_train = bst.predict_proba(X_train[x_columns])[:, 1]\n",
    "ypred_valid = bst.predict_proba(X_valid[x_columns])[:, 1]\n",
    "ypred_test = bst.predict_proba(X_test[x_columns])[:, 1]\n",
    "\n",
    "print(\"Train GINI(COMBINED_SCORE) %.3f\" % (2*roc_auc_score(y_train, ypred_train)-1))\n",
    "print(\"Valid GINI(COMBINED_SCORE) %.3f\" % (2*roc_auc_score(y_valid, ypred_valid)-1))\n",
    "print(\"Test GINI(COMBINED_SCORE) %.3f\" % (2*roc_auc_score(y_test, ypred_test)-1))\n",
    "\n",
    "print(\"Train GINI(RISK_SCORE) %.3f\" % (2*roc_auc_score(y_train, X_train[risk_score])-1))\n",
    "print(\"Valid GINI(RISK_SCORE) %.3f\" % (2*roc_auc_score(y_valid, X_valid[risk_score])-1))\n",
    "print(\"Test GINI(RISK_SCORE) %.3f\" % (2*roc_auc_score(y_test, X_test[risk_score])-1))\n"
   ]
  },
  {
   "cell_type": "code",
   "execution_count": 27,
   "metadata": {},
   "outputs": [
    {
     "data": {
      "text/html": [
       "<div>\n",
       "<style scoped>\n",
       "    .dataframe tbody tr th:only-of-type {\n",
       "        vertical-align: middle;\n",
       "    }\n",
       "\n",
       "    .dataframe tbody tr th {\n",
       "        vertical-align: top;\n",
       "    }\n",
       "\n",
       "    .dataframe thead th {\n",
       "        text-align: right;\n",
       "    }\n",
       "</style>\n",
       "<table border=\"1\" class=\"dataframe\">\n",
       "  <thead>\n",
       "    <tr style=\"text-align: right;\">\n",
       "      <th></th>\n",
       "      <th>column</th>\n",
       "      <th>coeffecient</th>\n",
       "    </tr>\n",
       "  </thead>\n",
       "  <tbody>\n",
       "    <tr>\n",
       "      <th>0</th>\n",
       "      <td>FOUND_RESULT</td>\n",
       "      <td>-0.343866</td>\n",
       "    </tr>\n",
       "    <tr>\n",
       "      <th>1</th>\n",
       "      <td>LOG_RISK_SCORE</td>\n",
       "      <td>0.460450</td>\n",
       "    </tr>\n",
       "  </tbody>\n",
       "</table>\n",
       "</div>"
      ],
      "text/plain": [
       "           column  coeffecient\n",
       "0    FOUND_RESULT    -0.343866\n",
       "1  LOG_RISK_SCORE     0.460450"
      ]
     },
     "execution_count": 27,
     "metadata": {},
     "output_type": "execute_result"
    }
   ],
   "source": [
    "pd.DataFrame({\"column\":x_columns,\"coeffecient\":bst.coef_[0]})"
   ]
  },
  {
   "cell_type": "code",
   "execution_count": 28,
   "metadata": {},
   "outputs": [],
   "source": [
    "df[\"COMBINED_SCORE_ONLY_FNF_FLAG\"] =  bst.predict_proba(df[x_columns])[:, 1]"
   ]
  },
  {
   "cell_type": "code",
   "execution_count": null,
   "metadata": {},
   "outputs": [],
   "source": []
  },
  {
   "cell_type": "markdown",
   "metadata": {},
   "source": [
    "## Model Evaluation"
   ]
  },
  {
   "cell_type": "code",
   "execution_count": 29,
   "metadata": {},
   "outputs": [],
   "source": [
    "combined_score_only_fnf_flag = \"COMBINED_SCORE_ONLY_FNF_FLAG\""
   ]
  },
  {
   "cell_type": "markdown",
   "metadata": {},
   "source": [
    "### Gini Chart"
   ]
  },
  {
   "cell_type": "code",
   "execution_count": 30,
   "metadata": {},
   "outputs": [
    {
     "name": "stdout",
     "output_type": "stream",
     "text": [
      "GINI(RISK_SCORE) 0.137\n"
     ]
    }
   ],
   "source": [
    "print(\"GINI(RISK_SCORE) %.3f\" % (2*roc_auc_score(df[target_variable], df[combined_score_only_fnf_flag])-1))"
   ]
  },
  {
   "cell_type": "code",
   "execution_count": 31,
   "metadata": {},
   "outputs": [
    {
     "data": {
      "image/png": "[encoded data removed]",
      "text/plain": [
       "<Figure size 504x504 with 1 Axes>"
      ]
     },
     "metadata": {
      "needs_background": "light"
     },
     "output_type": "display_data"
    }
   ],
   "source": [
    "from sklearn.metrics import roc_auc_score, roc_curve, auc\n",
    "\n",
    "fig = plt.figure(figsize = (7,7))\n",
    "ax1 = fig.add_subplot(1, 1, 1)\n",
    "\n",
    "lw = 1\n",
    "\n",
    "\n",
    "fpr, tpr, thresholds = roc_curve(df[target_variable],df[risk_score])\n",
    "roc_auc = auc(fpr, tpr)\n",
    "ax1.plot(fpr, tpr, color='blue', lw=lw, label='risk_score (gini = %0.2f)' % ((2*roc_auc-1)*100))\n",
    "\n",
    "\n",
    "\n",
    "fpr, tpr, thresholds = roc_curve(df[target_variable],df[combined_score_only_fnf_flag])\n",
    "roc_auc = auc(fpr, tpr)\n",
    "ax1.plot(fpr, tpr, color='green', lw=lw, label='combined_score_only_fnf_flag (gini = %0.2f)' % ((2*roc_auc-1)*100))\n",
    "\n",
    "\n",
    "ax1.plot([0, 1], [0, 1], color='navy', lw=lw, linestyle='--')\n",
    "plt.xlim([0.0, 1.0])\n",
    "plt.ylim([0.0, 1.0])\n",
    "plt.xlabel('False Positive Rate')\n",
    "plt.ylabel('True Positive Rate')\n",
    "plt.title('Receiver operating characteristic example')\n",
    "plt.legend(loc=\"lower right\")\n",
    "plt.show()"
   ]
  },
  {
   "cell_type": "markdown",
   "metadata": {},
   "source": [
    "### MOM GINI"
   ]
  },
  {
   "cell_type": "code",
   "execution_count": 32,
   "metadata": {},
   "outputs": [
    {
     "data": {
      "text/html": [
       "<div>\n",
       "<style scoped>\n",
       "    .dataframe tbody tr th:only-of-type {\n",
       "        vertical-align: middle;\n",
       "    }\n",
       "\n",
       "    .dataframe tbody tr th {\n",
       "        vertical-align: top;\n",
       "    }\n",
       "\n",
       "    .dataframe thead th {\n",
       "        text-align: right;\n",
       "    }\n",
       "</style>\n",
       "<table border=\"1\" class=\"dataframe\">\n",
       "  <thead>\n",
       "    <tr style=\"text-align: right;\">\n",
       "      <th></th>\n",
       "      <th>SKP_CREDIT_CASE</th>\n",
       "      <th>TIME_DECISION_DATE</th>\n",
       "      <th>CLIENT_EXI_3M</th>\n",
       "      <th>RISK_FPD30</th>\n",
       "      <th>RISK_AGRF30</th>\n",
       "      <th>RISK_FSTQPD30</th>\n",
       "      <th>RISK_AGRF120</th>\n",
       "      <th>RISK_FSTQPD60</th>\n",
       "      <th>RISK_AGRF150</th>\n",
       "      <th>RESULT</th>\n",
       "      <th>POS_TYPE</th>\n",
       "      <th>SCORE1</th>\n",
       "      <th>RISK_SCORE</th>\n",
       "      <th>FOUND_RESULT</th>\n",
       "      <th>NOT_FOUND_RESULT</th>\n",
       "      <th>MONTH_STR</th>\n",
       "      <th>LOG_SCORE1</th>\n",
       "      <th>LOG_RISK_SCORE</th>\n",
       "      <th>COMBINED_SCORE_ONLY_FNF_FLAG</th>\n",
       "    </tr>\n",
       "  </thead>\n",
       "  <tbody>\n",
       "    <tr>\n",
       "      <th>0</th>\n",
       "      <td>308092015</td>\n",
       "      <td>2020-06-18</td>\n",
       "      <td>N</td>\n",
       "      <td>0</td>\n",
       "      <td>1</td>\n",
       "      <td>0</td>\n",
       "      <td>1</td>\n",
       "      <td>0</td>\n",
       "      <td>1</td>\n",
       "      <td>NOT_FOUND</td>\n",
       "      <td>AP</td>\n",
       "      <td>1</td>\n",
       "      <td>0.003505</td>\n",
       "      <td>0</td>\n",
       "      <td>1</td>\n",
       "      <td>20-06</td>\n",
       "      <td>inf</td>\n",
       "      <td>-5.650120</td>\n",
       "      <td>0.075307</td>\n",
       "    </tr>\n",
       "    <tr>\n",
       "      <th>3</th>\n",
       "      <td>308195350</td>\n",
       "      <td>2020-06-19</td>\n",
       "      <td>N</td>\n",
       "      <td>0</td>\n",
       "      <td>1</td>\n",
       "      <td>0</td>\n",
       "      <td>1</td>\n",
       "      <td>0</td>\n",
       "      <td>1</td>\n",
       "      <td>NOT_FOUND</td>\n",
       "      <td>Satellite</td>\n",
       "      <td>1</td>\n",
       "      <td>0.005864</td>\n",
       "      <td>0</td>\n",
       "      <td>1</td>\n",
       "      <td>20-06</td>\n",
       "      <td>inf</td>\n",
       "      <td>-5.133048</td>\n",
       "      <td>0.093655</td>\n",
       "    </tr>\n",
       "    <tr>\n",
       "      <th>5</th>\n",
       "      <td>308204155</td>\n",
       "      <td>2020-06-18</td>\n",
       "      <td>N</td>\n",
       "      <td>0</td>\n",
       "      <td>1</td>\n",
       "      <td>0</td>\n",
       "      <td>1</td>\n",
       "      <td>0</td>\n",
       "      <td>1</td>\n",
       "      <td>NOT_FOUND</td>\n",
       "      <td>AP</td>\n",
       "      <td>1</td>\n",
       "      <td>0.007225</td>\n",
       "      <td>0</td>\n",
       "      <td>1</td>\n",
       "      <td>20-06</td>\n",
       "      <td>inf</td>\n",
       "      <td>-4.922989</td>\n",
       "      <td>0.102194</td>\n",
       "    </tr>\n",
       "    <tr>\n",
       "      <th>8</th>\n",
       "      <td>308204314</td>\n",
       "      <td>2020-06-18</td>\n",
       "      <td>N</td>\n",
       "      <td>0</td>\n",
       "      <td>1</td>\n",
       "      <td>0</td>\n",
       "      <td>1</td>\n",
       "      <td>0</td>\n",
       "      <td>1</td>\n",
       "      <td>NOT_FOUND</td>\n",
       "      <td>AP</td>\n",
       "      <td>1</td>\n",
       "      <td>0.003390</td>\n",
       "      <td>0</td>\n",
       "      <td>1</td>\n",
       "      <td>20-06</td>\n",
       "      <td>inf</td>\n",
       "      <td>-5.683383</td>\n",
       "      <td>0.074248</td>\n",
       "    </tr>\n",
       "    <tr>\n",
       "      <th>11</th>\n",
       "      <td>308211026</td>\n",
       "      <td>2020-06-18</td>\n",
       "      <td>N</td>\n",
       "      <td>0</td>\n",
       "      <td>1</td>\n",
       "      <td>0</td>\n",
       "      <td>1</td>\n",
       "      <td>0</td>\n",
       "      <td>1</td>\n",
       "      <td>NOT_FOUND</td>\n",
       "      <td>AP</td>\n",
       "      <td>1</td>\n",
       "      <td>0.004513</td>\n",
       "      <td>0</td>\n",
       "      <td>1</td>\n",
       "      <td>20-06</td>\n",
       "      <td>inf</td>\n",
       "      <td>-5.396178</td>\n",
       "      <td>0.083865</td>\n",
       "    </tr>\n",
       "  </tbody>\n",
       "</table>\n",
       "</div>"
      ],
      "text/plain": [
       "    SKP_CREDIT_CASE TIME_DECISION_DATE CLIENT_EXI_3M  RISK_FPD30  RISK_AGRF30  \\\n",
       "0         308092015         2020-06-18             N           0            1   \n",
       "3         308195350         2020-06-19             N           0            1   \n",
       "5         308204155         2020-06-18             N           0            1   \n",
       "8         308204314         2020-06-18             N           0            1   \n",
       "11        308211026         2020-06-18             N           0            1   \n",
       "\n",
       "    RISK_FSTQPD30  RISK_AGRF120  RISK_FSTQPD60  RISK_AGRF150     RESULT  \\\n",
       "0               0             1              0             1  NOT_FOUND   \n",
       "3               0             1              0             1  NOT_FOUND   \n",
       "5               0             1              0             1  NOT_FOUND   \n",
       "8               0             1              0             1  NOT_FOUND   \n",
       "11              0             1              0             1  NOT_FOUND   \n",
       "\n",
       "     POS_TYPE  SCORE1  RISK_SCORE  FOUND_RESULT  NOT_FOUND_RESULT MONTH_STR  \\\n",
       "0          AP       1    0.003505             0                 1     20-06   \n",
       "3   Satellite       1    0.005864             0                 1     20-06   \n",
       "5          AP       1    0.007225             0                 1     20-06   \n",
       "8          AP       1    0.003390             0                 1     20-06   \n",
       "11         AP       1    0.004513             0                 1     20-06   \n",
       "\n",
       "    LOG_SCORE1  LOG_RISK_SCORE  COMBINED_SCORE_ONLY_FNF_FLAG  \n",
       "0          inf       -5.650120                      0.075307  \n",
       "3          inf       -5.133048                      0.093655  \n",
       "5          inf       -4.922989                      0.102194  \n",
       "8          inf       -5.683383                      0.074248  \n",
       "11         inf       -5.396178                      0.083865  "
      ]
     },
     "execution_count": 32,
     "metadata": {},
     "output_type": "execute_result"
    }
   ],
   "source": [
    "df.head()"
   ]
  },
  {
   "cell_type": "code",
   "execution_count": 33,
   "metadata": {},
   "outputs": [
    {
     "name": "stdout",
     "output_type": "stream",
     "text": [
      "ERROR\n"
     ]
    }
   ],
   "source": [
    "gini_dic = {}\n",
    "predictor_list = [\"FOUND_RESULT\"]\n",
    "for x in df[\"MONTH_STR\"].unique():\n",
    "    try:\n",
    "        if \"MONTH_STR\" not in gini_dic:\n",
    "            gini_dic[\"MONTH_STR\"] = []\n",
    "        if risk_score not in gini_dic: \n",
    "            gini_dic[risk_score] = []\n",
    "        if combined_score_only_fnf_flag not in gini_dic: \n",
    "            gini_dic[combined_score_only_fnf_flag] = []\n",
    "        \n",
    "        gini_dic[risk_score].append((2*roc_auc_score(df[df[\"MONTH_STR\"]==x][target_variable],df[df[\"MONTH_STR\"]==x][risk_score])-1)*100)\n",
    "        gini_dic[combined_score_only_fnf_flag].append((2*roc_auc_score(df[df[\"MONTH_STR\"]==x][target_variable],df[df[\"MONTH_STR\"]==x][combined_score_only_fnf_flag])-1)*100)\n",
    "        gini_dic[\"MONTH_STR\"].append(x)\n",
    "        for y in predictor_list:\n",
    "            if y not in gini_dic:\n",
    "                  gini_dic[y] = []\n",
    "            if y != 'FOUND_RESULT':\n",
    "                try:\n",
    "                    gini_dic[y].append(((2*roc_auc_score(df[(df[\"MONTH_STR\"]==x)&(df[\"FOUND_RESULT\"]==1)][target_variable],df[(df[\"MONTH_STR\"]==x)&(df[\"FOUND_RESULT\"]==1)][y])-1)*100))\n",
    "                except:\n",
    "                    gini_dic[y].append(0)\n",
    "            else:\n",
    "                gini_dic[y].append(((2*roc_auc_score(df[df[\"MONTH_STR\"]==x][target_variable],df[df[\"MONTH_STR\"]==x][y])-1)*100))\n",
    "    except: \n",
    "        print(\"ERROR\")\n",
    "\n",
    "gini_df = pd.DataFrame(gini_dic)\n",
    "gini_df.sort_values(by = \"MONTH_STR\",inplace = True)\n",
    "gini_df.reset_index(inplace = True)\n"
   ]
  },
  {
   "cell_type": "code",
   "execution_count": 34,
   "metadata": {},
   "outputs": [
    {
     "name": "stdout",
     "output_type": "stream",
     "text": [
      "Found Rate:  7.67%\n"
     ]
    },
    {
     "data": {
      "image/png": "[encoded data removed]",
      "text/plain": [
       "<Figure size 720x360 with 1 Axes>"
      ]
     },
     "metadata": {
      "needs_background": "light"
     },
     "output_type": "display_data"
    }
   ],
   "source": [
    "print(\"Found Rate: \",\"{:,.2%}\".format(df[\"FOUND_RESULT\"].sum()/df[\"FOUND_RESULT\"].count()))\n",
    "fig = plt.figure(figsize = (10,5))\n",
    "ax1 = fig.add_subplot(1, 1, 1)\n",
    "ax1.plot(gini_df[\"MONTH_STR\"],gini_df[risk_score], marker='o', scaley = False, label = risk_score)\n",
    "ax1.plot(gini_df[\"MONTH_STR\"],gini_df[combined_score_only_fnf_flag], marker='o', scaley = False, label = combined_score_only_fnf_flag)\n",
    "# for y in predictor_list:\n",
    "#     ax1.plot(gini_df[\"MONTH_STR\"],gini_df[y], marker='o', scaley = False, label = y)\n",
    "\n",
    "\n",
    "for i, txt in enumerate(gini_df[risk_score]):\n",
    "    plt.annotate(\"{:.1f}\".format(txt), (gini_df[\"MONTH_STR\"][i], gini_df[risk_score][i]-1.2))\n",
    "for i, txt in enumerate(gini_df[combined_score_only_fnf_flag]):\n",
    "    plt.annotate(\"{:.1f}\".format(txt), (gini_df[\"MONTH_STR\"][i], gini_df[combined_score_only_fnf_flag][i]+1.6))\n",
    "\n",
    "# for y in predictor_list:\n",
    "#     for i, txt in enumerate(gini_df[y]):\n",
    "#         plt.annotate(\"{:.1f}\".format(txt), (gini_df[\"MONTH_STR\"][i], gini_df[y][i]+1))\n",
    "\n",
    "    \n",
    "plt.legend(loc='lower right', borderaxespad=0.1)\n",
    "plt.ylim(-2,45)\n",
    "plt.ylabel(\"GINI\")\n",
    "plt.xlabel(\"MONTH\")\n",
    "plt.yticks(np.arange(-2,45,2))\n",
    "ax1.set_title(\"MOM Gini\")\n",
    "plt.show()\n"
   ]
  },
  {
   "cell_type": "code",
   "execution_count": 35,
   "metadata": {},
   "outputs": [
    {
     "name": "stdout",
     "output_type": "stream",
     "text": [
      "GINI of BD Source score is corresponding to found cases only!\n",
      "Found Rate:  7.67%\n"
     ]
    },
    {
     "data": {
      "image/png": "[encoded data removed]",
      "text/plain": [
       "<Figure size 720x360 with 1 Axes>"
      ]
     },
     "metadata": {
      "needs_background": "light"
     },
     "output_type": "display_data"
    }
   ],
   "source": [
    "print(\"GINI of BD Source score is corresponding to found cases only!\")\n",
    "print(\"Found Rate: \",\"{:,.2%}\".format(df[\"FOUND_RESULT\"].sum()/df[\"FOUND_RESULT\"].count()))\n",
    "fig = plt.figure(figsize = (10,5))\n",
    "ax1 = fig.add_subplot(1, 1, 1)\n",
    "# ax1.plot(gini_df[\"MONTH_STR\"],gini_df[combined_score], marker='o', scaley = False, label = combined_score)\n",
    "# ax1.plot(gini_df[\"MONTH_STR\"],gini_df[risk_score], marker='o', scaley = False, label = risk_score)\n",
    "# ax1.plot(gini_df[\"MONTH_STR\"],gini_df[combined_score_only_fnf_flag], marker='o', scaley = False, label = combined_score_only_fnf_flag)\n",
    "for y in predictor_list:\n",
    "    ax1.plot(gini_df[\"MONTH_STR\"],gini_df[y], marker='o', scaley = False, label = y)\n",
    "\n",
    "\n",
    "# for i, txt in enumerate(gini_df[combined_score]):\n",
    "#     plt.annotate(\"{:.1f}\".format(txt), (gini_df[\"MONTH_STR\"][i], gini_df[combined_score][i]+0.8))\n",
    "# for i, txt in enumerate(gini_df[risk_score]):\n",
    "#     plt.annotate(\"{:.1f}\".format(txt), (gini_df[\"MONTH_STR\"][i], gini_df[risk_score][i]-1.2))\n",
    "# for i, txt in enumerate(gini_df[combined_score_only_fnf_flag]):\n",
    "#     plt.annotate(\"{:.1f}\".format(txt), (gini_df[\"MONTH_STR\"][i], gini_df[combined_score_only_fnf_flag][i]+1.6))\n",
    "\n",
    "for y in predictor_list:\n",
    "    for i, txt in enumerate(gini_df[y]):\n",
    "        plt.annotate(\"{:.1f}\".format(txt), (gini_df[\"MONTH_STR\"][i], gini_df[y][i]+1))\n",
    "\n",
    "    \n",
    "plt.legend(loc='lower right', borderaxespad=0.1)\n",
    "plt.ylim(-10,10)\n",
    "plt.ylabel(\"GINI\")\n",
    "plt.xlabel(\"MONTH\")\n",
    "# plt.yticks(np.arange(-50,50,2))\n",
    "ax1.set_title(\"MOM Gini\")\n",
    "plt.show()\n"
   ]
  },
  {
   "cell_type": "markdown",
   "metadata": {},
   "source": [
    "## Lifts and Gains Chart"
   ]
  },
  {
   "cell_type": "code",
   "execution_count": 36,
   "metadata": {},
   "outputs": [],
   "source": [
    "def jitter(a_series, noise_reduction=1000000):\n",
    "    return (np.random.random(len(a_series))*a_series.std()/noise_reduction)-(a_series.std()/(2*noise_reduction))"
   ]
  },
  {
   "cell_type": "code",
   "execution_count": 37,
   "metadata": {},
   "outputs": [],
   "source": [
    "def lift_and_gain_df(data=None,target=None, prob=None, bucket = 10):\n",
    "    data['target0'] = 1 - data[target]\n",
    "    data['bucket'] = pd.qcut(data[prob]+jitter(data[prob]), bucket)\n",
    "    grouped = data.groupby('bucket', as_index = False)\n",
    "    liftstable = pd.DataFrame()\n",
    "    liftstable['min_prob'] = grouped.agg(['min'])[prob].iloc[:,0]\n",
    "    liftstable['max_prob'] = grouped.agg(['max'])[prob].iloc[:,0]\n",
    "    liftstable['total']   = grouped.agg(['count'])[target].iloc[:,0]\n",
    "    liftstable['bads']   = round(grouped.agg(['sum'])[target].iloc[:,0])\n",
    "    liftstable['goods'] = round(grouped.agg(['sum'])['target0'].iloc[:,0])\n",
    "    liftstable['%base'] = (liftstable.total / data[target].count())\n",
    "    liftstable = liftstable.sort_values(by=\"min_prob\", ascending=False).reset_index(drop = True)\n",
    "    liftstable['cum%_base'] = (liftstable.total / data[target].count()).cumsum()\n",
    "    liftstable['%bads'] = (liftstable['bads'] / data[target].sum())\n",
    "    liftstable['%goods'] = (liftstable['goods'] / data['target0'].sum())\n",
    "    liftstable['cum%_bads']=(liftstable['bads'] / data[target].sum()).cumsum()\n",
    "    liftstable['cum%_goods']=(liftstable['bads'] / data['target0'].sum()).cumsum()\n",
    "\n",
    "    \n",
    "    liftstable['lift'] = np.round(liftstable['%bads']/liftstable['%base'] , 3)\n",
    "    liftstable['cum_lift'] = np.round(liftstable['cum%_bads']/liftstable['cum%_base'] , 3)\n",
    "\n",
    "    #Formating\n",
    "    liftstable['%base']= liftstable['%base'].apply('{0:.2%}'.format)\n",
    "    liftstable['%bads']= liftstable['%bads'].apply('{0:.2%}'.format)\n",
    "    liftstable['%goods']= liftstable['%goods'].apply('{0:.2%}'.format)\n",
    "    liftstable['cum%_bads']= liftstable['cum%_bads'].apply('{0:.2%}'.format)\n",
    "    liftstable['cum%_goods']= liftstable['cum%_goods'].apply('{0:.2%}'.format)\n",
    "    liftstable['cum%_base'] = liftstable['cum%_base'].apply('{0:.2%}'.format)\n",
    "\n",
    "    liftstable.index = range(1,11)\n",
    "    liftstable.index.rename('Decile', inplace=True)\n",
    "    pd.set_option('display.max_columns', 13)\n",
    "    return(liftstable)"
   ]
  },
  {
   "cell_type": "code",
   "execution_count": 50,
   "metadata": {},
   "outputs": [
    {
     "data": {
      "text/html": [
       "<div>\n",
       "<style scoped>\n",
       "    .dataframe tbody tr th:only-of-type {\n",
       "        vertical-align: middle;\n",
       "    }\n",
       "\n",
       "    .dataframe tbody tr th {\n",
       "        vertical-align: top;\n",
       "    }\n",
       "\n",
       "    .dataframe thead th {\n",
       "        text-align: right;\n",
       "    }\n",
       "</style>\n",
       "<table border=\"1\" class=\"dataframe\">\n",
       "  <thead>\n",
       "    <tr style=\"text-align: right;\">\n",
       "      <th></th>\n",
       "      <th>min_prob</th>\n",
       "      <th>max_prob</th>\n",
       "      <th>total</th>\n",
       "      <th>bads</th>\n",
       "      <th>goods</th>\n",
       "      <th>%base</th>\n",
       "      <th>cum%_base</th>\n",
       "      <th>%bads</th>\n",
       "      <th>%goods</th>\n",
       "      <th>cum%_bads</th>\n",
       "      <th>cum%_goods</th>\n",
       "      <th>lift</th>\n",
       "      <th>cum_lift</th>\n",
       "    </tr>\n",
       "    <tr>\n",
       "      <th>Decile</th>\n",
       "      <th></th>\n",
       "      <th></th>\n",
       "      <th></th>\n",
       "      <th></th>\n",
       "      <th></th>\n",
       "      <th></th>\n",
       "      <th></th>\n",
       "      <th></th>\n",
       "      <th></th>\n",
       "      <th></th>\n",
       "      <th></th>\n",
       "      <th></th>\n",
       "      <th></th>\n",
       "    </tr>\n",
       "  </thead>\n",
       "  <tbody>\n",
       "    <tr>\n",
       "      <th>1</th>\n",
       "      <td>0.114805</td>\n",
       "      <td>0.354694</td>\n",
       "      <td>13050</td>\n",
       "      <td>1302</td>\n",
       "      <td>11748</td>\n",
       "      <td>10.00%</td>\n",
       "      <td>10.00%</td>\n",
       "      <td>12.76%</td>\n",
       "      <td>9.77%</td>\n",
       "      <td>12.76%</td>\n",
       "      <td>1.08%</td>\n",
       "      <td>1.276</td>\n",
       "      <td>1.276</td>\n",
       "    </tr>\n",
       "    <tr>\n",
       "      <th>2</th>\n",
       "      <td>0.108903</td>\n",
       "      <td>0.114804</td>\n",
       "      <td>13050</td>\n",
       "      <td>1247</td>\n",
       "      <td>11803</td>\n",
       "      <td>10.00%</td>\n",
       "      <td>20.00%</td>\n",
       "      <td>12.22%</td>\n",
       "      <td>9.81%</td>\n",
       "      <td>24.97%</td>\n",
       "      <td>2.12%</td>\n",
       "      <td>1.222</td>\n",
       "      <td>1.249</td>\n",
       "    </tr>\n",
       "    <tr>\n",
       "      <th>3</th>\n",
       "      <td>0.103841</td>\n",
       "      <td>0.108901</td>\n",
       "      <td>13049</td>\n",
       "      <td>1223</td>\n",
       "      <td>11826</td>\n",
       "      <td>10.00%</td>\n",
       "      <td>30.00%</td>\n",
       "      <td>11.98%</td>\n",
       "      <td>9.83%</td>\n",
       "      <td>36.96%</td>\n",
       "      <td>3.14%</td>\n",
       "      <td>1.198</td>\n",
       "      <td>1.232</td>\n",
       "    </tr>\n",
       "    <tr>\n",
       "      <th>4</th>\n",
       "      <td>0.099083</td>\n",
       "      <td>0.103840</td>\n",
       "      <td>13050</td>\n",
       "      <td>1109</td>\n",
       "      <td>11941</td>\n",
       "      <td>10.00%</td>\n",
       "      <td>40.00%</td>\n",
       "      <td>10.87%</td>\n",
       "      <td>9.93%</td>\n",
       "      <td>47.82%</td>\n",
       "      <td>4.06%</td>\n",
       "      <td>1.086</td>\n",
       "      <td>1.195</td>\n",
       "    </tr>\n",
       "    <tr>\n",
       "      <th>5</th>\n",
       "      <td>0.094329</td>\n",
       "      <td>0.099083</td>\n",
       "      <td>13049</td>\n",
       "      <td>1144</td>\n",
       "      <td>11905</td>\n",
       "      <td>10.00%</td>\n",
       "      <td>50.00%</td>\n",
       "      <td>11.21%</td>\n",
       "      <td>9.90%</td>\n",
       "      <td>59.03%</td>\n",
       "      <td>5.01%</td>\n",
       "      <td>1.121</td>\n",
       "      <td>1.181</td>\n",
       "    </tr>\n",
       "    <tr>\n",
       "      <th>6</th>\n",
       "      <td>0.089321</td>\n",
       "      <td>0.094329</td>\n",
       "      <td>13050</td>\n",
       "      <td>1066</td>\n",
       "      <td>11984</td>\n",
       "      <td>10.00%</td>\n",
       "      <td>60.00%</td>\n",
       "      <td>10.44%</td>\n",
       "      <td>9.96%</td>\n",
       "      <td>69.47%</td>\n",
       "      <td>5.89%</td>\n",
       "      <td>1.044</td>\n",
       "      <td>1.158</td>\n",
       "    </tr>\n",
       "    <tr>\n",
       "      <th>7</th>\n",
       "      <td>0.083860</td>\n",
       "      <td>0.089321</td>\n",
       "      <td>13050</td>\n",
       "      <td>961</td>\n",
       "      <td>12089</td>\n",
       "      <td>10.00%</td>\n",
       "      <td>70.00%</td>\n",
       "      <td>9.42%</td>\n",
       "      <td>10.05%</td>\n",
       "      <td>78.89%</td>\n",
       "      <td>6.69%</td>\n",
       "      <td>0.941</td>\n",
       "      <td>1.127</td>\n",
       "    </tr>\n",
       "    <tr>\n",
       "      <th>8</th>\n",
       "      <td>0.077675</td>\n",
       "      <td>0.083860</td>\n",
       "      <td>13049</td>\n",
       "      <td>863</td>\n",
       "      <td>12186</td>\n",
       "      <td>10.00%</td>\n",
       "      <td>80.00%</td>\n",
       "      <td>8.45%</td>\n",
       "      <td>10.13%</td>\n",
       "      <td>87.34%</td>\n",
       "      <td>7.41%</td>\n",
       "      <td>0.846</td>\n",
       "      <td>1.092</td>\n",
       "    </tr>\n",
       "    <tr>\n",
       "      <th>9</th>\n",
       "      <td>0.069111</td>\n",
       "      <td>0.077675</td>\n",
       "      <td>13050</td>\n",
       "      <td>751</td>\n",
       "      <td>12299</td>\n",
       "      <td>10.00%</td>\n",
       "      <td>90.00%</td>\n",
       "      <td>7.36%</td>\n",
       "      <td>10.22%</td>\n",
       "      <td>94.70%</td>\n",
       "      <td>8.04%</td>\n",
       "      <td>0.736</td>\n",
       "      <td>1.052</td>\n",
       "    </tr>\n",
       "    <tr>\n",
       "      <th>10</th>\n",
       "      <td>0.027418</td>\n",
       "      <td>0.069111</td>\n",
       "      <td>13050</td>\n",
       "      <td>541</td>\n",
       "      <td>12509</td>\n",
       "      <td>10.00%</td>\n",
       "      <td>100.00%</td>\n",
       "      <td>5.30%</td>\n",
       "      <td>10.40%</td>\n",
       "      <td>100.00%</td>\n",
       "      <td>8.49%</td>\n",
       "      <td>0.530</td>\n",
       "      <td>1.000</td>\n",
       "    </tr>\n",
       "  </tbody>\n",
       "</table>\n",
       "</div>"
      ],
      "text/plain": [
       "        min_prob  max_prob  total  bads  goods   %base cum%_base   %bads  \\\n",
       "Decile                                                                     \n",
       "1       0.114805  0.354694  13050  1302  11748  10.00%    10.00%  12.76%   \n",
       "2       0.108903  0.114804  13050  1247  11803  10.00%    20.00%  12.22%   \n",
       "3       0.103841  0.108901  13049  1223  11826  10.00%    30.00%  11.98%   \n",
       "4       0.099083  0.103840  13050  1109  11941  10.00%    40.00%  10.87%   \n",
       "5       0.094329  0.099083  13049  1144  11905  10.00%    50.00%  11.21%   \n",
       "6       0.089321  0.094329  13050  1066  11984  10.00%    60.00%  10.44%   \n",
       "7       0.083860  0.089321  13050   961  12089  10.00%    70.00%   9.42%   \n",
       "8       0.077675  0.083860  13049   863  12186  10.00%    80.00%   8.45%   \n",
       "9       0.069111  0.077675  13050   751  12299  10.00%    90.00%   7.36%   \n",
       "10      0.027418  0.069111  13050   541  12509  10.00%   100.00%   5.30%   \n",
       "\n",
       "        %goods cum%_bads cum%_goods   lift  cum_lift  \n",
       "Decile                                                \n",
       "1        9.77%    12.76%      1.08%  1.276     1.276  \n",
       "2        9.81%    24.97%      2.12%  1.222     1.249  \n",
       "3        9.83%    36.96%      3.14%  1.198     1.232  \n",
       "4        9.93%    47.82%      4.06%  1.086     1.195  \n",
       "5        9.90%    59.03%      5.01%  1.121     1.181  \n",
       "6        9.96%    69.47%      5.89%  1.044     1.158  \n",
       "7       10.05%    78.89%      6.69%  0.941     1.127  \n",
       "8       10.13%    87.34%      7.41%  0.846     1.092  \n",
       "9       10.22%    94.70%      8.04%  0.736     1.052  \n",
       "10      10.40%   100.00%      8.49%  0.530     1.000  "
      ]
     },
     "execution_count": 50,
     "metadata": {},
     "output_type": "execute_result"
    }
   ],
   "source": [
    "combined_score_only_fnf_flag_lift"
   ]
  },
  {
   "cell_type": "code",
   "execution_count": 38,
   "metadata": {},
   "outputs": [],
   "source": [
    "#cum%_bads is gain_score\n",
    "risk_score_lift = lift_and_gain_df(data=df,target=target_variable, prob=risk_score)\n",
    "combined_score_only_fnf_flag_lift = lift_and_gain_df(data=df,target=target_variable, prob=combined_score_only_fnf_flag)"
   ]
  },
  {
   "cell_type": "markdown",
   "metadata": {},
   "source": [
    "### Cumulative Lift Chart "
   ]
  },
  {
   "cell_type": "code",
   "execution_count": 41,
   "metadata": {},
   "outputs": [
    {
     "data": {
      "image/png": "[encoded data removed]",
      "text/plain": [
       "<Figure size 504x504 with 1 Axes>"
      ]
     },
     "metadata": {
      "needs_background": "light"
     },
     "output_type": "display_data"
    }
   ],
   "source": [
    "fig = plt.figure(figsize = [7,7])\n",
    "ax1 = fig.add_subplot(1,1,1)\n",
    "\n",
    "\n",
    "ax1.plot(risk_score_lift.index,risk_score_lift[\"cum_lift\"], label = risk_score, marker='o')\n",
    "for i, txt in enumerate(risk_score_lift[\"cum_lift\"]):\n",
    "    plt.annotate(\"{:.2f}\".format(txt), (risk_score_lift.index[i], risk_score_lift[\"cum_lift\"][i+1]))\n",
    "    \n",
    "ax1.plot(combined_score_only_fnf_flag_lift.index,combined_score_only_fnf_flag_lift[\"cum_lift\"], label = combined_score_only_fnf_flag, marker='o')\n",
    "for i, txt in enumerate(combined_score_only_fnf_flag_lift[\"cum_lift\"]):\n",
    "    plt.annotate(\"{:.2f}\".format(txt), (combined_score_only_fnf_flag_lift.index[i], combined_score_only_fnf_flag_lift[\"cum_lift\"][i+1]+0.005))\n",
    "\n",
    "\n",
    "\n",
    "ax1.plot(np.arange(1,11,1),[1,1,1,1,1,1,1,1,1,1], label = 'random', marker='o')\n",
    "\n",
    "plt.legend(loc='lower right', borderaxespad=0.1)\n",
    "plt.xlabel(\"Decile\")\n",
    "plt.ylabel(\"Lift\")\n",
    "\n",
    "ax1.set_title(\"Cumulative Lift Chart\")\n",
    "plt.show()    \n"
   ]
  },
  {
   "cell_type": "code",
   "execution_count": null,
   "metadata": {},
   "outputs": [],
   "source": []
  },
  {
   "cell_type": "markdown",
   "metadata": {},
   "source": [
    "# MOM Gini: FPD30 Target"
   ]
  },
  {
   "cell_type": "code",
   "execution_count": 42,
   "metadata": {},
   "outputs": [],
   "source": [
    "df = pd.read_pickle(os.getcwd()+r\"\\Data Files\\loan_performance_dump.pkl\")"
   ]
  },
  {
   "cell_type": "code",
   "execution_count": 43,
   "metadata": {},
   "outputs": [],
   "source": [
    "time_decision_date = 'TIME_DECISION_DATE'\n",
    "source = 'VMM'\n",
    "target_variable = \"RISK_FPD30\"\n",
    "agrf_flag = \"RISK_AGRF30\"\n",
    "fnf_flag = 'RESULT'\n",
    "score = ['SCORE1']\n",
    "risk_score = 'RISK_SCORE'"
   ]
  },
  {
   "cell_type": "code",
   "execution_count": 44,
   "metadata": {},
   "outputs": [],
   "source": [
    "#One Hot Encoding of fnf_flag\n",
    "dummy = pd.get_dummies(df[fnf_flag])\n",
    "dummy.columns = [y+\"_\"+fnf_flag for y in dummy.columns]\n",
    "df = pd.concat([df, dummy], axis=1)"
   ]
  },
  {
   "cell_type": "code",
   "execution_count": 45,
   "metadata": {},
   "outputs": [],
   "source": [
    "df.TIME_DECISION_DATE = pd.to_datetime(df.TIME_DECISION_DATE,format = '%d-%m-%y')\n",
    "df[\"MONTH_STR\"] = df[\"TIME_DECISION_DATE\"].dt.strftime(\"%y-%m\")\n",
    "\n",
    "df = df[df.CLIENT_EXI_3M == 'N']\n",
    "\n",
    "df = df[df[agrf_flag]==1]"
   ]
  },
  {
   "cell_type": "code",
   "execution_count": 46,
   "metadata": {},
   "outputs": [
    {
     "name": "stderr",
     "output_type": "stream",
     "text": [
      "C:\\Users\\aman.khatri91425\\AppData\\Local\\Continuum\\anaconda3\\lib\\site-packages\\pandas\\core\\series.py:726: RuntimeWarning: divide by zero encountered in log\n",
      "  result = getattr(ufunc, method)(*inputs, **kwargs)\n"
     ]
    }
   ],
   "source": [
    "for x in [\"SCORE1\",\"RISK_SCORE\"]:\n",
    "    df[\"LOG_\"+x] = logit(df[x])\n",
    "    df[\"LOG_\"+x] = df[\"LOG_\"+x].fillna(value = 0)\n",
    "\n",
    "x_columns=['FOUND_RESULT','LOG_RISK_SCORE']"
   ]
  },
  {
   "cell_type": "code",
   "execution_count": 47,
   "metadata": {},
   "outputs": [],
   "source": [
    "df[\"COMBINED_SCORE_ONLY_FNF_FLAG\"] =  bst.predict_proba(df[x_columns])[:, 1]"
   ]
  },
  {
   "cell_type": "code",
   "execution_count": 48,
   "metadata": {},
   "outputs": [],
   "source": [
    "gini_dic = {}\n",
    "predictor_list = [\"FOUND_RESULT\"]\n",
    "for x in df[\"MONTH_STR\"].unique():\n",
    "    try:\n",
    "        if \"MONTH_STR\" not in gini_dic:\n",
    "            gini_dic[\"MONTH_STR\"] = []\n",
    "        if risk_score not in gini_dic: \n",
    "            gini_dic[risk_score] = []\n",
    "        if combined_score_only_fnf_flag not in gini_dic: \n",
    "            gini_dic[combined_score_only_fnf_flag] = []\n",
    "        \n",
    "        gini_dic[risk_score].append((2*roc_auc_score(df[df[\"MONTH_STR\"]==x][target_variable],df[df[\"MONTH_STR\"]==x][risk_score])-1)*100)\n",
    "        gini_dic[combined_score_only_fnf_flag].append((2*roc_auc_score(df[df[\"MONTH_STR\"]==x][target_variable],df[df[\"MONTH_STR\"]==x][combined_score_only_fnf_flag])-1)*100)\n",
    "        gini_dic[\"MONTH_STR\"].append(x)\n",
    "        for y in predictor_list:\n",
    "            if y not in gini_dic:\n",
    "                  gini_dic[y] = []\n",
    "            if y != 'FOUND_RESULT':\n",
    "                try:\n",
    "                    gini_dic[y].append(((2*roc_auc_score(df[(df[\"MONTH_STR\"]==x)&(df[\"FOUND_RESULT\"]==1)][target_variable],df[(df[\"MONTH_STR\"]==x)&(df[\"FOUND_RESULT\"]==1)][y])-1)*100))\n",
    "                except:\n",
    "                    gini_dic[y].append(0)\n",
    "            else:\n",
    "                gini_dic[y].append(((2*roc_auc_score(df[df[\"MONTH_STR\"]==x][target_variable],df[df[\"MONTH_STR\"]==x][y])-1)*100))\n",
    "    except: \n",
    "        print(\"ERROR\")\n",
    "\n",
    "gini_df = pd.DataFrame(gini_dic)\n",
    "gini_df.sort_values(by = \"MONTH_STR\",inplace = True)\n",
    "gini_df.reset_index(inplace = True)\n"
   ]
  },
  {
   "cell_type": "code",
   "execution_count": 49,
   "metadata": {},
   "outputs": [
    {
     "name": "stdout",
     "output_type": "stream",
     "text": [
      "Found Rate:  7.04%\n"
     ]
    },
    {
     "data": {
      "image/png": "[encoded data removed]",
      "text/plain": [
       "<Figure size 720x360 with 1 Axes>"
      ]
     },
     "metadata": {
      "needs_background": "light"
     },
     "output_type": "display_data"
    }
   ],
   "source": [
    "print(\"Found Rate: \",\"{:,.2%}\".format(df[\"FOUND_RESULT\"].sum()/df[\"FOUND_RESULT\"].count()))\n",
    "fig = plt.figure(figsize = (10,5))\n",
    "ax1 = fig.add_subplot(1, 1, 1)\n",
    "ax1.plot(gini_df[\"MONTH_STR\"],gini_df[risk_score], marker='o', scaley = False, label = risk_score)\n",
    "ax1.plot(gini_df[\"MONTH_STR\"],gini_df[combined_score_only_fnf_flag], marker='o', scaley = False, label = combined_score_only_fnf_flag)\n",
    "# for y in predictor_list:\n",
    "#     ax1.plot(gini_df[\"MONTH_STR\"],gini_df[y], marker='o', scaley = False, label = y)\n",
    "\n",
    "\n",
    "for i, txt in enumerate(gini_df[risk_score]):\n",
    "    plt.annotate(\"{:.1f}\".format(txt), (gini_df[\"MONTH_STR\"][i], gini_df[risk_score][i]-1.2))\n",
    "for i, txt in enumerate(gini_df[combined_score_only_fnf_flag]):\n",
    "    plt.annotate(\"{:.1f}\".format(txt), (gini_df[\"MONTH_STR\"][i], gini_df[combined_score_only_fnf_flag][i]+1.6))\n",
    "\n",
    "# for y in predictor_list:\n",
    "#     for i, txt in enumerate(gini_df[y]):\n",
    "#         plt.annotate(\"{:.1f}\".format(txt), (gini_df[\"MONTH_STR\"][i], gini_df[y][i]+1))\n",
    "\n",
    "    \n",
    "plt.legend(loc='lower right', borderaxespad=0.1)\n",
    "plt.ylim(-2,45)\n",
    "plt.ylabel(\"GINI\")\n",
    "plt.xlabel(\"MONTH\")\n",
    "plt.yticks(np.arange(-2,45,2))\n",
    "ax1.set_title(\"MOM Gini\")\n",
    "plt.show()\n"
   ]
  },
  {
   "cell_type": "code",
   "execution_count": null,
   "metadata": {},
   "outputs": [],
   "source": []
  },
  {
   "cell_type": "code",
   "execution_count": null,
   "metadata": {},
   "outputs": [],
   "source": []
  }
 ],
 "metadata": {
  "kernelspec": {
   "display_name": "Python 3",
   "language": "python",
   "name": "python3"
  },
  "language_info": {
   "codemirror_mode": {
    "name": "ipython",
    "version": 3
   },
   "file_extension": ".py",
   "mimetype": "text/x-python",
   "name": "python",
   "nbconvert_exporter": "python",
   "pygments_lexer": "ipython3",
   "version": "3.7.3"
  }
 },
 "nbformat": 4,
 "nbformat_minor": 2
}
