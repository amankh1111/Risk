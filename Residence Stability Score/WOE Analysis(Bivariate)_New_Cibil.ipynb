{
 "cells": [
  {
   "cell_type": "code",
   "execution_count": 1,
   "metadata": {},
   "outputs": [],
   "source": [
    "import os\n",
    "import cx_Oracle\n",
    "import pandas as pd\n",
    "import numpy as np\n",
    "import pickle\n",
    "from datetime import date,datetime\n",
    "from sklearn import metrics\n",
    "from sklearn.model_selection import train_test_split, StratifiedKFold, RandomizedSearchCV, cross_val_score \n",
    "import time\n",
    "import matplotlib.pyplot as plt\n",
    "from sklearn.utils import resample\n",
    "import datetime\n",
    "import sys\n",
    "sys.path.append(R'C:\\Users\\aman.khatri91425\\Desktop\\HomeCredit\\Bigdata\\Scoring Worlflow')"
   ]
  },
  {
   "cell_type": "code",
   "execution_count": 2,
   "metadata": {},
   "outputs": [],
   "source": [
    "os.chdir(r\"C:\\Users\\aman.khatri91425\\Desktop\\HomeCredit\\UW\\RSS\")"
   ]
  },
  {
   "cell_type": "markdown",
   "metadata": {},
   "source": [
    "# Read Data File"
   ]
  },
  {
   "cell_type": "code",
   "execution_count": 3,
   "metadata": {},
   "outputs": [],
   "source": [
    "df=pd.read_csv(os.getcwd()+r\"\\Data Files\\export_concatenated.csv\")"
   ]
  },
  {
   "cell_type": "code",
   "execution_count": 4,
   "metadata": {},
   "outputs": [],
   "source": [
    "df = df[(df[\"SOURCE_ID\"]==\"CIBIL\")&(df[\"CLIENT_EXI_3M\"]==\"N\")]"
   ]
  },
  {
   "cell_type": "markdown",
   "metadata": {},
   "source": [
    "# WOE Analysis(Selected Variables)"
   ]
  },
  {
   "cell_type": "code",
   "execution_count": 5,
   "metadata": {},
   "outputs": [
    {
     "data": {
      "text/plain": [
       "Index(['Unnamed: 0', 'SKP_CREDIT_CASE', 'TIME_DECISION_DATE', 'CLIENT_EXI_3M',\n",
       "       'RISK_FPD30', 'RISK_FSTQPD30', 'RISK_FSTQPD60', 'SOURCE_ID',\n",
       "       'ADDRESS_CNT', 'ZIPCODE_CNT', 'ZIPCODE_ADDRESS_RAT',\n",
       "       'RESIDENCE_ADDRESS_CNT', 'RESIDENCE_ZIPCODE_CNT',\n",
       "       'RESIDENCE_ZIPCODE_ADDRESS_RAT', 'RESIDENCE_ADDRESS_PCT',\n",
       "       'OFFICE_ADDRESS_CNT', 'OFFICE_ZIPCODE_CNT',\n",
       "       'OFFICE_ZIPCODE_ADDRESS_RAT', 'OFFICE_ADDRESS_PCT',\n",
       "       'PERMANENT_ADDRESS_CNT', 'PERMANENT_ZIPCODE_CNT',\n",
       "       'PERMANENT_ZIPCODE_ADDRESS_RAT', 'PERMANENT_ADDRESS_PCT',\n",
       "       'PERMANENT_OFFICE_COMB_RAT', 'RESIDENT_OFFICE_COMB_RAT',\n",
       "       'PERMANENT_RESIDENCE_COMB_RAT', 'RISK_SCORE'],\n",
       "      dtype='object')"
      ]
     },
     "execution_count": 5,
     "metadata": {},
     "output_type": "execute_result"
    }
   ],
   "source": [
    "df.columns"
   ]
  },
  {
   "cell_type": "code",
   "execution_count": 6,
   "metadata": {},
   "outputs": [],
   "source": [
    "df_train = df"
   ]
  },
  {
   "cell_type": "code",
   "execution_count": 7,
   "metadata": {},
   "outputs": [],
   "source": [
    "cols_pred_cat=[]\n",
    "cols_pred_num = ['ZIPCODE_ADDRESS_RAT',\n",
    "  'OFFICE_ADDRESS_PCT',\n",
    "  'RESIDENCE_ADDRESS_CNT',\n",
    "  'RESIDENCE_ZIPCODE_ADDRESS_RAT',\n",
    "  'PERMANENT_ZIPCODE_ADDRESS_RAT',\n",
    "  'PERMANENT_ADDRESS_PCT',\n",
    "  'ADDRESS_CNT','RISK_SCORE']"
   ]
  },
  {
   "cell_type": "code",
   "execution_count": 8,
   "metadata": {},
   "outputs": [
    {
     "data": {
      "application/vnd.jupyter.widget-view+json": {
       "model_id": "84f98ba2b72743718d2d7d5b68403bc3",
       "version_major": 2,
       "version_minor": 0
      },
      "text/plain": [
       "HBox(children=(FloatProgress(value=0.0, max=8.0), HTML(value='')))"
      ]
     },
     "metadata": {},
     "output_type": "display_data"
    },
    {
     "name": "stdout",
     "output_type": "stream",
     "text": [
      "\n"
     ]
    },
    {
     "data": {
      "text/plain": [
       "'Grouping saved on 2020-11-03 17:08:29 to file C:\\\\Users\\\\aman.khatri91425\\\\Desktop\\\\HomeCredit\\\\Bigdata\\\\Common Maps KNN\\\\my_grouping'"
      ]
     },
     "metadata": {},
     "output_type": "display_data"
    },
    {
     "data": {
      "application/vnd.jupyter.widget-view+json": {
       "model_id": "bee3d37c54f5419397796cd2861b1feb",
       "version_major": 2,
       "version_minor": 0
      },
      "text/plain": [
       "HBox(children=(FloatProgress(value=0.0, max=8.0), HTML(value='')))"
      ]
     },
     "metadata": {},
     "output_type": "display_data"
    },
    {
     "name": "stdout",
     "output_type": "stream",
     "text": [
      "\n"
     ]
    }
   ],
   "source": [
    "from scoring.grouping import Grouping\n",
    "\n",
    "grouping = Grouping(columns = sorted(cols_pred_num),\n",
    "                    cat_columns = sorted(cols_pred_cat),\n",
    "                    group_count=3, \n",
    "                    min_samples=10000)\n",
    "\n",
    "grouping.fit(df_train[cols_pred_num],\n",
    "             df_train[\"RISK_FSTQPD60\"],\n",
    "          #   w=data[train_mask][col_weight],\n",
    "            progress_bar=True, category_limit=10000);\n",
    "\n",
    "grouping.save(r\"C:\\Users\\aman.khatri91425\\Desktop\\HomeCredit\\Bigdata\\Common Maps KNN\\my_grouping\")\n",
    "\n",
    "data_woe = grouping.transform(df, transform_to='woe', progress_bar=True)"
   ]
  },
  {
   "cell_type": "markdown",
   "metadata": {},
   "source": [
    "### Plot Bins"
   ]
  },
  {
   "cell_type": "code",
   "execution_count": 9,
   "metadata": {
    "scrolled": true
   },
   "outputs": [
    {
     "data": {
      "text/markdown": [
       "***"
      ],
      "text/plain": [
       "<IPython.core.display.Markdown object>"
      ]
     },
     "metadata": {},
     "output_type": "display_data"
    },
    {
     "data": {
      "text/markdown": [
       "### ADDRESS_CNT"
      ],
      "text/plain": [
       "<IPython.core.display.Markdown object>"
      ]
     },
     "metadata": {},
     "output_type": "display_data"
    },
    {
     "data": {
      "text/html": [
       "<div>\n",
       "<style scoped>\n",
       "    .dataframe tbody tr th:only-of-type {\n",
       "        vertical-align: middle;\n",
       "    }\n",
       "\n",
       "    .dataframe tbody tr th {\n",
       "        vertical-align: top;\n",
       "    }\n",
       "\n",
       "    .dataframe thead th {\n",
       "        text-align: right;\n",
       "    }\n",
       "</style>\n",
       "<table border=\"1\" class=\"dataframe\">\n",
       "  <thead>\n",
       "    <tr style=\"text-align: right;\">\n",
       "      <th></th>\n",
       "      <th>CNT_TOTAL</th>\n",
       "      <th>CNT_DEF</th>\n",
       "      <th>DEF_RATE</th>\n",
       "      <th>DIST_BAD</th>\n",
       "      <th>DIST_GOOD</th>\n",
       "      <th>WOE</th>\n",
       "      <th>WOE_check</th>\n",
       "      <th>SHARE</th>\n",
       "    </tr>\n",
       "    <tr>\n",
       "      <th>BIN_ADDRESS_CNT</th>\n",
       "      <th></th>\n",
       "      <th></th>\n",
       "      <th></th>\n",
       "      <th></th>\n",
       "      <th></th>\n",
       "      <th></th>\n",
       "      <th></th>\n",
       "      <th></th>\n",
       "    </tr>\n",
       "  </thead>\n",
       "  <tbody>\n",
       "    <tr>\n",
       "      <th>[-inf, 1.5)</th>\n",
       "      <td>635587.0</td>\n",
       "      <td>21973.0</td>\n",
       "      <td>0.0346</td>\n",
       "      <td>0.6088</td>\n",
       "      <td>0.6524</td>\n",
       "      <td>0.0673</td>\n",
       "      <td>0.0692</td>\n",
       "      <td>0.6508</td>\n",
       "    </tr>\n",
       "    <tr>\n",
       "      <th>[1.5, 3.5)</th>\n",
       "      <td>238944.0</td>\n",
       "      <td>9672.0</td>\n",
       "      <td>0.0405</td>\n",
       "      <td>0.2680</td>\n",
       "      <td>0.2438</td>\n",
       "      <td>-0.0924</td>\n",
       "      <td>-0.0947</td>\n",
       "      <td>0.2447</td>\n",
       "    </tr>\n",
       "    <tr>\n",
       "      <th>[3.5, inf)</th>\n",
       "      <td>102113.0</td>\n",
       "      <td>4447.0</td>\n",
       "      <td>0.0435</td>\n",
       "      <td>0.1232</td>\n",
       "      <td>0.1038</td>\n",
       "      <td>-0.1671</td>\n",
       "      <td>-0.1711</td>\n",
       "      <td>0.1046</td>\n",
       "    </tr>\n",
       "    <tr>\n",
       "      <th>nan</th>\n",
       "      <td>0.0</td>\n",
       "      <td>0.0</td>\n",
       "      <td>NaN</td>\n",
       "      <td>0.0000</td>\n",
       "      <td>0.0000</td>\n",
       "      <td>NaN</td>\n",
       "      <td>-3.2604</td>\n",
       "      <td>0.0000</td>\n",
       "    </tr>\n",
       "  </tbody>\n",
       "</table>\n",
       "</div>"
      ],
      "text/plain": [
       "                 CNT_TOTAL  CNT_DEF  DEF_RATE  DIST_BAD  DIST_GOOD     WOE  \\\n",
       "BIN_ADDRESS_CNT                                                              \n",
       "[-inf, 1.5)       635587.0  21973.0    0.0346    0.6088     0.6524  0.0673   \n",
       "[1.5, 3.5)        238944.0   9672.0    0.0405    0.2680     0.2438 -0.0924   \n",
       "[3.5, inf)        102113.0   4447.0    0.0435    0.1232     0.1038 -0.1671   \n",
       "nan                    0.0      0.0       NaN    0.0000     0.0000     NaN   \n",
       "\n",
       "                 WOE_check   SHARE  \n",
       "BIN_ADDRESS_CNT                     \n",
       "[-inf, 1.5)         0.0692  0.6508  \n",
       "[1.5, 3.5)         -0.0947  0.2447  \n",
       "[3.5, inf)         -0.1711  0.1046  \n",
       "nan                -3.2604  0.0000  "
      ]
     },
     "metadata": {},
     "output_type": "display_data"
    },
    {
     "name": "stdout",
     "output_type": "stream",
     "text": [
      "IV: 0.0086\n",
      "Gini: 4.58\n"
     ]
    },
    {
     "data": {
      "image/png": "[encoded data removed]",
      "text/plain": [
       "<Figure size 720x360 with 2 Axes>"
      ]
     },
     "metadata": {
      "needs_background": "light"
     },
     "output_type": "display_data"
    },
    {
     "data": {
      "text/markdown": [
       "***"
      ],
      "text/plain": [
       "<IPython.core.display.Markdown object>"
      ]
     },
     "metadata": {},
     "output_type": "display_data"
    },
    {
     "data": {
      "text/markdown": [
       "### OFFICE_ADDRESS_PCT"
      ],
      "text/plain": [
       "<IPython.core.display.Markdown object>"
      ]
     },
     "metadata": {},
     "output_type": "display_data"
    },
    {
     "data": {
      "text/html": [
       "<div>\n",
       "<style scoped>\n",
       "    .dataframe tbody tr th:only-of-type {\n",
       "        vertical-align: middle;\n",
       "    }\n",
       "\n",
       "    .dataframe tbody tr th {\n",
       "        vertical-align: top;\n",
       "    }\n",
       "\n",
       "    .dataframe thead th {\n",
       "        text-align: right;\n",
       "    }\n",
       "</style>\n",
       "<table border=\"1\" class=\"dataframe\">\n",
       "  <thead>\n",
       "    <tr style=\"text-align: right;\">\n",
       "      <th></th>\n",
       "      <th>CNT_TOTAL</th>\n",
       "      <th>CNT_DEF</th>\n",
       "      <th>DEF_RATE</th>\n",
       "      <th>DIST_BAD</th>\n",
       "      <th>DIST_GOOD</th>\n",
       "      <th>WOE</th>\n",
       "      <th>WOE_check</th>\n",
       "      <th>SHARE</th>\n",
       "    </tr>\n",
       "    <tr>\n",
       "      <th>BIN_OFFICE_ADDRESS_PCT</th>\n",
       "      <th></th>\n",
       "      <th></th>\n",
       "      <th></th>\n",
       "      <th></th>\n",
       "      <th></th>\n",
       "      <th></th>\n",
       "      <th></th>\n",
       "      <th></th>\n",
       "    </tr>\n",
       "  </thead>\n",
       "  <tbody>\n",
       "    <tr>\n",
       "      <th>[-inf, 0.125)</th>\n",
       "      <td>797108.0</td>\n",
       "      <td>28574.0</td>\n",
       "      <td>0.0358</td>\n",
       "      <td>0.7917</td>\n",
       "      <td>0.8171</td>\n",
       "      <td>0.0308</td>\n",
       "      <td>0.0316</td>\n",
       "      <td>0.8162</td>\n",
       "    </tr>\n",
       "    <tr>\n",
       "      <th>[0.125, 0.5834)</th>\n",
       "      <td>155142.0</td>\n",
       "      <td>6590.0</td>\n",
       "      <td>0.0425</td>\n",
       "      <td>0.1826</td>\n",
       "      <td>0.1579</td>\n",
       "      <td>-0.1416</td>\n",
       "      <td>-0.1450</td>\n",
       "      <td>0.1589</td>\n",
       "    </tr>\n",
       "    <tr>\n",
       "      <th>[0.5834, inf)</th>\n",
       "      <td>24394.0</td>\n",
       "      <td>928.0</td>\n",
       "      <td>0.0380</td>\n",
       "      <td>0.0257</td>\n",
       "      <td>0.0249</td>\n",
       "      <td>-0.0294</td>\n",
       "      <td>-0.0301</td>\n",
       "      <td>0.0250</td>\n",
       "    </tr>\n",
       "    <tr>\n",
       "      <th>nan</th>\n",
       "      <td>0.0</td>\n",
       "      <td>0.0</td>\n",
       "      <td>NaN</td>\n",
       "      <td>0.0000</td>\n",
       "      <td>0.0000</td>\n",
       "      <td>NaN</td>\n",
       "      <td>-3.2604</td>\n",
       "      <td>0.0000</td>\n",
       "    </tr>\n",
       "  </tbody>\n",
       "</table>\n",
       "</div>"
      ],
      "text/plain": [
       "                        CNT_TOTAL  CNT_DEF  DEF_RATE  DIST_BAD  DIST_GOOD  \\\n",
       "BIN_OFFICE_ADDRESS_PCT                                                      \n",
       "[-inf, 0.125)            797108.0  28574.0    0.0358    0.7917     0.8171   \n",
       "[0.125, 0.5834)          155142.0   6590.0    0.0425    0.1826     0.1579   \n",
       "[0.5834, inf)             24394.0    928.0    0.0380    0.0257     0.0249   \n",
       "nan                           0.0      0.0       NaN    0.0000     0.0000   \n",
       "\n",
       "                           WOE  WOE_check   SHARE  \n",
       "BIN_OFFICE_ADDRESS_PCT                             \n",
       "[-inf, 0.125)           0.0308     0.0316  0.8162  \n",
       "[0.125, 0.5834)        -0.1416    -0.1450  0.1589  \n",
       "[0.5834, inf)          -0.0294    -0.0301  0.0250  \n",
       "nan                        NaN    -3.2604  0.0000  "
      ]
     },
     "metadata": {},
     "output_type": "display_data"
    },
    {
     "name": "stdout",
     "output_type": "stream",
     "text": [
      "IV: 0.0044\n",
      "Gini: 2.59\n"
     ]
    },
    {
     "data": {
      "image/png": "[encoded data removed]",
      "text/plain": [
       "<Figure size 720x360 with 2 Axes>"
      ]
     },
     "metadata": {
      "needs_background": "light"
     },
     "output_type": "display_data"
    },
    {
     "data": {
      "text/markdown": [
       "***"
      ],
      "text/plain": [
       "<IPython.core.display.Markdown object>"
      ]
     },
     "metadata": {},
     "output_type": "display_data"
    },
    {
     "data": {
      "text/markdown": [
       "### PERMANENT_ADDRESS_PCT"
      ],
      "text/plain": [
       "<IPython.core.display.Markdown object>"
      ]
     },
     "metadata": {},
     "output_type": "display_data"
    },
    {
     "data": {
      "text/html": [
       "<div>\n",
       "<style scoped>\n",
       "    .dataframe tbody tr th:only-of-type {\n",
       "        vertical-align: middle;\n",
       "    }\n",
       "\n",
       "    .dataframe tbody tr th {\n",
       "        vertical-align: top;\n",
       "    }\n",
       "\n",
       "    .dataframe thead th {\n",
       "        text-align: right;\n",
       "    }\n",
       "</style>\n",
       "<table border=\"1\" class=\"dataframe\">\n",
       "  <thead>\n",
       "    <tr style=\"text-align: right;\">\n",
       "      <th></th>\n",
       "      <th>CNT_TOTAL</th>\n",
       "      <th>CNT_DEF</th>\n",
       "      <th>DEF_RATE</th>\n",
       "      <th>DIST_BAD</th>\n",
       "      <th>DIST_GOOD</th>\n",
       "      <th>WOE</th>\n",
       "      <th>WOE_check</th>\n",
       "      <th>SHARE</th>\n",
       "    </tr>\n",
       "    <tr>\n",
       "      <th>BIN_PERMANENT_ADDRESS_PCT</th>\n",
       "      <th></th>\n",
       "      <th></th>\n",
       "      <th></th>\n",
       "      <th></th>\n",
       "      <th></th>\n",
       "      <th></th>\n",
       "      <th></th>\n",
       "      <th></th>\n",
       "    </tr>\n",
       "  </thead>\n",
       "  <tbody>\n",
       "    <tr>\n",
       "      <th>[-inf, 0.125)</th>\n",
       "      <td>802641.0</td>\n",
       "      <td>28015.0</td>\n",
       "      <td>0.0349</td>\n",
       "      <td>0.7762</td>\n",
       "      <td>0.8236</td>\n",
       "      <td>0.0577</td>\n",
       "      <td>0.0592</td>\n",
       "      <td>0.8218</td>\n",
       "    </tr>\n",
       "    <tr>\n",
       "      <th>[0.125, 0.2916)</th>\n",
       "      <td>33967.0</td>\n",
       "      <td>1677.0</td>\n",
       "      <td>0.0494</td>\n",
       "      <td>0.0465</td>\n",
       "      <td>0.0343</td>\n",
       "      <td>-0.2960</td>\n",
       "      <td>-0.3026</td>\n",
       "      <td>0.0348</td>\n",
       "    </tr>\n",
       "    <tr>\n",
       "      <th>[0.2916, inf)</th>\n",
       "      <td>140036.0</td>\n",
       "      <td>6400.0</td>\n",
       "      <td>0.0457</td>\n",
       "      <td>0.1773</td>\n",
       "      <td>0.1421</td>\n",
       "      <td>-0.2165</td>\n",
       "      <td>-0.2216</td>\n",
       "      <td>0.1434</td>\n",
       "    </tr>\n",
       "    <tr>\n",
       "      <th>nan</th>\n",
       "      <td>0.0</td>\n",
       "      <td>0.0</td>\n",
       "      <td>NaN</td>\n",
       "      <td>0.0000</td>\n",
       "      <td>0.0000</td>\n",
       "      <td>NaN</td>\n",
       "      <td>-3.2604</td>\n",
       "      <td>0.0000</td>\n",
       "    </tr>\n",
       "  </tbody>\n",
       "</table>\n",
       "</div>"
      ],
      "text/plain": [
       "                           CNT_TOTAL  CNT_DEF  DEF_RATE  DIST_BAD  DIST_GOOD  \\\n",
       "BIN_PERMANENT_ADDRESS_PCT                                                      \n",
       "[-inf, 0.125)               802641.0  28015.0    0.0349    0.7762     0.8236   \n",
       "[0.125, 0.2916)              33967.0   1677.0    0.0494    0.0465     0.0343   \n",
       "[0.2916, inf)               140036.0   6400.0    0.0457    0.1773     0.1421   \n",
       "nan                              0.0      0.0       NaN    0.0000     0.0000   \n",
       "\n",
       "                              WOE  WOE_check   SHARE  \n",
       "BIN_PERMANENT_ADDRESS_PCT                             \n",
       "[-inf, 0.125)              0.0577     0.0592  0.8218  \n",
       "[0.125, 0.2916)           -0.2960    -0.3026  0.0348  \n",
       "[0.2916, inf)             -0.2165    -0.2216  0.1434  \n",
       "nan                           NaN    -3.2604  0.0000  "
      ]
     },
     "metadata": {},
     "output_type": "display_data"
    },
    {
     "name": "stdout",
     "output_type": "stream",
     "text": [
      "IV: 0.0143\n",
      "Gini: 4.79\n"
     ]
    },
    {
     "data": {
      "image/png": "[encoded data removed]",
      "text/plain": [
       "<Figure size 720x360 with 2 Axes>"
      ]
     },
     "metadata": {
      "needs_background": "light"
     },
     "output_type": "display_data"
    },
    {
     "data": {
      "text/markdown": [
       "***"
      ],
      "text/plain": [
       "<IPython.core.display.Markdown object>"
      ]
     },
     "metadata": {},
     "output_type": "display_data"
    },
    {
     "data": {
      "text/markdown": [
       "### PERMANENT_ZIPCODE_ADDRESS_RAT"
      ],
      "text/plain": [
       "<IPython.core.display.Markdown object>"
      ]
     },
     "metadata": {},
     "output_type": "display_data"
    },
    {
     "data": {
      "text/html": [
       "<div>\n",
       "<style scoped>\n",
       "    .dataframe tbody tr th:only-of-type {\n",
       "        vertical-align: middle;\n",
       "    }\n",
       "\n",
       "    .dataframe tbody tr th {\n",
       "        vertical-align: top;\n",
       "    }\n",
       "\n",
       "    .dataframe thead th {\n",
       "        text-align: right;\n",
       "    }\n",
       "</style>\n",
       "<table border=\"1\" class=\"dataframe\">\n",
       "  <thead>\n",
       "    <tr style=\"text-align: right;\">\n",
       "      <th></th>\n",
       "      <th>CNT_TOTAL</th>\n",
       "      <th>CNT_DEF</th>\n",
       "      <th>DEF_RATE</th>\n",
       "      <th>DIST_BAD</th>\n",
       "      <th>DIST_GOOD</th>\n",
       "      <th>WOE</th>\n",
       "      <th>WOE_check</th>\n",
       "      <th>SHARE</th>\n",
       "    </tr>\n",
       "    <tr>\n",
       "      <th>BIN_PERMANENT_ZIPCODE_ADDRESS_RAT</th>\n",
       "      <th></th>\n",
       "      <th></th>\n",
       "      <th></th>\n",
       "      <th></th>\n",
       "      <th></th>\n",
       "      <th></th>\n",
       "      <th></th>\n",
       "      <th></th>\n",
       "    </tr>\n",
       "  </thead>\n",
       "  <tbody>\n",
       "    <tr>\n",
       "      <th>[-inf, 0.7084)</th>\n",
       "      <td>16419.0</td>\n",
       "      <td>849.0</td>\n",
       "      <td>0.0517</td>\n",
       "      <td>0.0235</td>\n",
       "      <td>0.0166</td>\n",
       "      <td>-0.3438</td>\n",
       "      <td>-0.3514</td>\n",
       "      <td>0.0168</td>\n",
       "    </tr>\n",
       "    <tr>\n",
       "      <th>[0.7084, inf)</th>\n",
       "      <td>157584.0</td>\n",
       "      <td>7228.0</td>\n",
       "      <td>0.0459</td>\n",
       "      <td>0.2003</td>\n",
       "      <td>0.1599</td>\n",
       "      <td>-0.2202</td>\n",
       "      <td>-0.2254</td>\n",
       "      <td>0.1614</td>\n",
       "    </tr>\n",
       "    <tr>\n",
       "      <th>nan</th>\n",
       "      <td>802641.0</td>\n",
       "      <td>28015.0</td>\n",
       "      <td>0.0349</td>\n",
       "      <td>0.7762</td>\n",
       "      <td>0.8236</td>\n",
       "      <td>0.0577</td>\n",
       "      <td>0.0592</td>\n",
       "      <td>0.8218</td>\n",
       "    </tr>\n",
       "  </tbody>\n",
       "</table>\n",
       "</div>"
      ],
      "text/plain": [
       "                                   CNT_TOTAL  CNT_DEF  DEF_RATE  DIST_BAD  \\\n",
       "BIN_PERMANENT_ZIPCODE_ADDRESS_RAT                                           \n",
       "[-inf, 0.7084)                       16419.0    849.0    0.0517    0.0235   \n",
       "[0.7084, inf)                       157584.0   7228.0    0.0459    0.2003   \n",
       "nan                                 802641.0  28015.0    0.0349    0.7762   \n",
       "\n",
       "                                   DIST_GOOD     WOE  WOE_check   SHARE  \n",
       "BIN_PERMANENT_ZIPCODE_ADDRESS_RAT                                        \n",
       "[-inf, 0.7084)                        0.0166 -0.3438    -0.3514  0.0168  \n",
       "[0.7084, inf)                         0.1599 -0.2202    -0.2254  0.1614  \n",
       "nan                                   0.8236  0.0577     0.0592  0.8218  "
      ]
     },
     "metadata": {},
     "output_type": "display_data"
    },
    {
     "name": "stdout",
     "output_type": "stream",
     "text": [
      "IV: 0.0144\n",
      "Gini: 4.78\n"
     ]
    },
    {
     "data": {
      "image/png": "[encoded data removed]",
      "text/plain": [
       "<Figure size 720x360 with 2 Axes>"
      ]
     },
     "metadata": {
      "needs_background": "light"
     },
     "output_type": "display_data"
    },
    {
     "data": {
      "text/markdown": [
       "***"
      ],
      "text/plain": [
       "<IPython.core.display.Markdown object>"
      ]
     },
     "metadata": {},
     "output_type": "display_data"
    },
    {
     "data": {
      "text/markdown": [
       "### RESIDENCE_ADDRESS_CNT"
      ],
      "text/plain": [
       "<IPython.core.display.Markdown object>"
      ]
     },
     "metadata": {},
     "output_type": "display_data"
    },
    {
     "data": {
      "text/html": [
       "<div>\n",
       "<style scoped>\n",
       "    .dataframe tbody tr th:only-of-type {\n",
       "        vertical-align: middle;\n",
       "    }\n",
       "\n",
       "    .dataframe tbody tr th {\n",
       "        vertical-align: top;\n",
       "    }\n",
       "\n",
       "    .dataframe thead th {\n",
       "        text-align: right;\n",
       "    }\n",
       "</style>\n",
       "<table border=\"1\" class=\"dataframe\">\n",
       "  <thead>\n",
       "    <tr style=\"text-align: right;\">\n",
       "      <th></th>\n",
       "      <th>CNT_TOTAL</th>\n",
       "      <th>CNT_DEF</th>\n",
       "      <th>DEF_RATE</th>\n",
       "      <th>DIST_BAD</th>\n",
       "      <th>DIST_GOOD</th>\n",
       "      <th>WOE</th>\n",
       "      <th>WOE_check</th>\n",
       "      <th>SHARE</th>\n",
       "    </tr>\n",
       "    <tr>\n",
       "      <th>BIN_RESIDENCE_ADDRESS_CNT</th>\n",
       "      <th></th>\n",
       "      <th></th>\n",
       "      <th></th>\n",
       "      <th></th>\n",
       "      <th></th>\n",
       "      <th></th>\n",
       "      <th></th>\n",
       "      <th></th>\n",
       "    </tr>\n",
       "  </thead>\n",
       "  <tbody>\n",
       "    <tr>\n",
       "      <th>[-inf, 0.5)</th>\n",
       "      <td>151299.0</td>\n",
       "      <td>6077.0</td>\n",
       "      <td>0.0402</td>\n",
       "      <td>0.1684</td>\n",
       "      <td>0.1544</td>\n",
       "      <td>-0.0845</td>\n",
       "      <td>-0.0866</td>\n",
       "      <td>0.1549</td>\n",
       "    </tr>\n",
       "    <tr>\n",
       "      <th>[0.5, 1.5)</th>\n",
       "      <td>728426.0</td>\n",
       "      <td>25765.0</td>\n",
       "      <td>0.0354</td>\n",
       "      <td>0.7139</td>\n",
       "      <td>0.7471</td>\n",
       "      <td>0.0443</td>\n",
       "      <td>0.0455</td>\n",
       "      <td>0.7458</td>\n",
       "    </tr>\n",
       "    <tr>\n",
       "      <th>[1.5, inf)</th>\n",
       "      <td>96919.0</td>\n",
       "      <td>4250.0</td>\n",
       "      <td>0.0439</td>\n",
       "      <td>0.1178</td>\n",
       "      <td>0.0985</td>\n",
       "      <td>-0.1741</td>\n",
       "      <td>-0.1783</td>\n",
       "      <td>0.0992</td>\n",
       "    </tr>\n",
       "    <tr>\n",
       "      <th>nan</th>\n",
       "      <td>0.0</td>\n",
       "      <td>0.0</td>\n",
       "      <td>NaN</td>\n",
       "      <td>0.0000</td>\n",
       "      <td>0.0000</td>\n",
       "      <td>NaN</td>\n",
       "      <td>-3.2604</td>\n",
       "      <td>0.0000</td>\n",
       "    </tr>\n",
       "  </tbody>\n",
       "</table>\n",
       "</div>"
      ],
      "text/plain": [
       "                           CNT_TOTAL  CNT_DEF  DEF_RATE  DIST_BAD  DIST_GOOD  \\\n",
       "BIN_RESIDENCE_ADDRESS_CNT                                                      \n",
       "[-inf, 0.5)                 151299.0   6077.0    0.0402    0.1684     0.1544   \n",
       "[0.5, 1.5)                  728426.0  25765.0    0.0354    0.7139     0.7471   \n",
       "[1.5, inf)                   96919.0   4250.0    0.0439    0.1178     0.0985   \n",
       "nan                              0.0      0.0       NaN    0.0000     0.0000   \n",
       "\n",
       "                              WOE  WOE_check   SHARE  \n",
       "BIN_RESIDENCE_ADDRESS_CNT                             \n",
       "[-inf, 0.5)               -0.0845    -0.0866  0.1549  \n",
       "[0.5, 1.5)                 0.0443     0.0455  0.7458  \n",
       "[1.5, inf)                -0.1741    -0.1783  0.0992  \n",
       "nan                           NaN    -3.2604  0.0000  "
      ]
     },
     "metadata": {},
     "output_type": "display_data"
    },
    {
     "name": "stdout",
     "output_type": "stream",
     "text": [
      "IV: 0.0061\n",
      "Gini: 3.48\n"
     ]
    },
    {
     "data": {
      "image/png": "[encoded data removed]",
      "text/plain": [
       "<Figure size 720x360 with 2 Axes>"
      ]
     },
     "metadata": {
      "needs_background": "light"
     },
     "output_type": "display_data"
    },
    {
     "data": {
      "text/markdown": [
       "***"
      ],
      "text/plain": [
       "<IPython.core.display.Markdown object>"
      ]
     },
     "metadata": {},
     "output_type": "display_data"
    },
    {
     "data": {
      "text/markdown": [
       "### RESIDENCE_ZIPCODE_ADDRESS_RAT"
      ],
      "text/plain": [
       "<IPython.core.display.Markdown object>"
      ]
     },
     "metadata": {},
     "output_type": "display_data"
    },
    {
     "data": {
      "text/html": [
       "<div>\n",
       "<style scoped>\n",
       "    .dataframe tbody tr th:only-of-type {\n",
       "        vertical-align: middle;\n",
       "    }\n",
       "\n",
       "    .dataframe tbody tr th {\n",
       "        vertical-align: top;\n",
       "    }\n",
       "\n",
       "    .dataframe thead th {\n",
       "        text-align: right;\n",
       "    }\n",
       "</style>\n",
       "<table border=\"1\" class=\"dataframe\">\n",
       "  <thead>\n",
       "    <tr style=\"text-align: right;\">\n",
       "      <th></th>\n",
       "      <th>CNT_TOTAL</th>\n",
       "      <th>CNT_DEF</th>\n",
       "      <th>DEF_RATE</th>\n",
       "      <th>DIST_BAD</th>\n",
       "      <th>DIST_GOOD</th>\n",
       "      <th>WOE</th>\n",
       "      <th>WOE_check</th>\n",
       "      <th>SHARE</th>\n",
       "    </tr>\n",
       "    <tr>\n",
       "      <th>BIN_RESIDENCE_ZIPCODE_ADDRESS_RAT</th>\n",
       "      <th></th>\n",
       "      <th></th>\n",
       "      <th></th>\n",
       "      <th></th>\n",
       "      <th></th>\n",
       "      <th></th>\n",
       "      <th></th>\n",
       "      <th></th>\n",
       "    </tr>\n",
       "  </thead>\n",
       "  <tbody>\n",
       "    <tr>\n",
       "      <th>[-inf, 0.875)</th>\n",
       "      <td>59913.0</td>\n",
       "      <td>2671.0</td>\n",
       "      <td>0.0446</td>\n",
       "      <td>0.0740</td>\n",
       "      <td>0.0609</td>\n",
       "      <td>-0.1910</td>\n",
       "      <td>-0.1956</td>\n",
       "      <td>0.0613</td>\n",
       "    </tr>\n",
       "    <tr>\n",
       "      <th>[0.875, inf)</th>\n",
       "      <td>765432.0</td>\n",
       "      <td>27344.0</td>\n",
       "      <td>0.0357</td>\n",
       "      <td>0.7576</td>\n",
       "      <td>0.7847</td>\n",
       "      <td>0.0343</td>\n",
       "      <td>0.0352</td>\n",
       "      <td>0.7837</td>\n",
       "    </tr>\n",
       "    <tr>\n",
       "      <th>nan</th>\n",
       "      <td>151299.0</td>\n",
       "      <td>6077.0</td>\n",
       "      <td>0.0402</td>\n",
       "      <td>0.1684</td>\n",
       "      <td>0.1544</td>\n",
       "      <td>-0.0845</td>\n",
       "      <td>-0.0866</td>\n",
       "      <td>0.1549</td>\n",
       "    </tr>\n",
       "  </tbody>\n",
       "</table>\n",
       "</div>"
      ],
      "text/plain": [
       "                                   CNT_TOTAL  CNT_DEF  DEF_RATE  DIST_BAD  \\\n",
       "BIN_RESIDENCE_ZIPCODE_ADDRESS_RAT                                           \n",
       "[-inf, 0.875)                        59913.0   2671.0    0.0446    0.0740   \n",
       "[0.875, inf)                        765432.0  27344.0    0.0357    0.7576   \n",
       "nan                                 151299.0   6077.0    0.0402    0.1684   \n",
       "\n",
       "                                   DIST_GOOD     WOE  WOE_check   SHARE  \n",
       "BIN_RESIDENCE_ZIPCODE_ADDRESS_RAT                                        \n",
       "[-inf, 0.875)                         0.0609 -0.1910    -0.1956  0.0613  \n",
       "[0.875, inf)                          0.7847  0.0343     0.0352  0.7837  \n",
       "nan                                   0.1544 -0.0845    -0.0866  0.1549  "
      ]
     },
     "metadata": {},
     "output_type": "display_data"
    },
    {
     "name": "stdout",
     "output_type": "stream",
     "text": [
      "IV: 0.0047\n",
      "Gini: 2.83\n"
     ]
    },
    {
     "data": {
      "image/png": "[encoded data removed]",
      "text/plain": [
       "<Figure size 720x360 with 2 Axes>"
      ]
     },
     "metadata": {
      "needs_background": "light"
     },
     "output_type": "display_data"
    },
    {
     "data": {
      "text/markdown": [
       "***"
      ],
      "text/plain": [
       "<IPython.core.display.Markdown object>"
      ]
     },
     "metadata": {},
     "output_type": "display_data"
    },
    {
     "data": {
      "text/markdown": [
       "### RISK_SCORE"
      ],
      "text/plain": [
       "<IPython.core.display.Markdown object>"
      ]
     },
     "metadata": {},
     "output_type": "display_data"
    },
    {
     "data": {
      "text/html": [
       "<div>\n",
       "<style scoped>\n",
       "    .dataframe tbody tr th:only-of-type {\n",
       "        vertical-align: middle;\n",
       "    }\n",
       "\n",
       "    .dataframe tbody tr th {\n",
       "        vertical-align: top;\n",
       "    }\n",
       "\n",
       "    .dataframe thead th {\n",
       "        text-align: right;\n",
       "    }\n",
       "</style>\n",
       "<table border=\"1\" class=\"dataframe\">\n",
       "  <thead>\n",
       "    <tr style=\"text-align: right;\">\n",
       "      <th></th>\n",
       "      <th>CNT_TOTAL</th>\n",
       "      <th>CNT_DEF</th>\n",
       "      <th>DEF_RATE</th>\n",
       "      <th>DIST_BAD</th>\n",
       "      <th>DIST_GOOD</th>\n",
       "      <th>WOE</th>\n",
       "      <th>WOE_check</th>\n",
       "      <th>SHARE</th>\n",
       "    </tr>\n",
       "    <tr>\n",
       "      <th>BIN_RISK_SCORE</th>\n",
       "      <th></th>\n",
       "      <th></th>\n",
       "      <th></th>\n",
       "      <th></th>\n",
       "      <th></th>\n",
       "      <th></th>\n",
       "      <th></th>\n",
       "      <th></th>\n",
       "    </tr>\n",
       "  </thead>\n",
       "  <tbody>\n",
       "    <tr>\n",
       "      <th>[-inf, 0.01008)</th>\n",
       "      <td>640705.0</td>\n",
       "      <td>14764.0</td>\n",
       "      <td>0.0230</td>\n",
       "      <td>0.4091</td>\n",
       "      <td>0.6655</td>\n",
       "      <td>0.4709</td>\n",
       "      <td>0.4867</td>\n",
       "      <td>0.656</td>\n",
       "    </tr>\n",
       "    <tr>\n",
       "      <th>[0.01008, 0.02011)</th>\n",
       "      <td>280269.0</td>\n",
       "      <td>16109.0</td>\n",
       "      <td>0.0575</td>\n",
       "      <td>0.4463</td>\n",
       "      <td>0.2809</td>\n",
       "      <td>-0.4537</td>\n",
       "      <td>-0.4632</td>\n",
       "      <td>0.287</td>\n",
       "    </tr>\n",
       "    <tr>\n",
       "      <th>[0.02011, inf)</th>\n",
       "      <td>55670.0</td>\n",
       "      <td>5219.0</td>\n",
       "      <td>0.0937</td>\n",
       "      <td>0.1446</td>\n",
       "      <td>0.0536</td>\n",
       "      <td>-0.9755</td>\n",
       "      <td>-0.9917</td>\n",
       "      <td>0.057</td>\n",
       "    </tr>\n",
       "    <tr>\n",
       "      <th>nan</th>\n",
       "      <td>0.0</td>\n",
       "      <td>0.0</td>\n",
       "      <td>NaN</td>\n",
       "      <td>0.0000</td>\n",
       "      <td>0.0000</td>\n",
       "      <td>NaN</td>\n",
       "      <td>-3.2604</td>\n",
       "      <td>0.000</td>\n",
       "    </tr>\n",
       "  </tbody>\n",
       "</table>\n",
       "</div>"
      ],
      "text/plain": [
       "                    CNT_TOTAL  CNT_DEF  DEF_RATE  DIST_BAD  DIST_GOOD     WOE  \\\n",
       "BIN_RISK_SCORE                                                                  \n",
       "[-inf, 0.01008)      640705.0  14764.0    0.0230    0.4091     0.6655  0.4709   \n",
       "[0.01008, 0.02011)   280269.0  16109.0    0.0575    0.4463     0.2809 -0.4537   \n",
       "[0.02011, inf)        55670.0   5219.0    0.0937    0.1446     0.0536 -0.9755   \n",
       "nan                       0.0      0.0       NaN    0.0000     0.0000     NaN   \n",
       "\n",
       "                    WOE_check  SHARE  \n",
       "BIN_RISK_SCORE                        \n",
       "[-inf, 0.01008)        0.4867  0.656  \n",
       "[0.01008, 0.02011)    -0.4632  0.287  \n",
       "[0.02011, inf)        -0.9917  0.057  \n",
       "nan                   -3.2604  0.000  "
      ]
     },
     "metadata": {},
     "output_type": "display_data"
    },
    {
     "name": "stdout",
     "output_type": "stream",
     "text": [
      "IV: 0.2917\n",
      "Gini: 27.31\n"
     ]
    },
    {
     "data": {
      "image/png": "[encoded data removed]",
      "text/plain": [
       "<Figure size 720x360 with 2 Axes>"
      ]
     },
     "metadata": {
      "needs_background": "light"
     },
     "output_type": "display_data"
    },
    {
     "data": {
      "text/markdown": [
       "***"
      ],
      "text/plain": [
       "<IPython.core.display.Markdown object>"
      ]
     },
     "metadata": {},
     "output_type": "display_data"
    },
    {
     "data": {
      "text/markdown": [
       "### ZIPCODE_ADDRESS_RAT"
      ],
      "text/plain": [
       "<IPython.core.display.Markdown object>"
      ]
     },
     "metadata": {},
     "output_type": "display_data"
    },
    {
     "data": {
      "text/html": [
       "<div>\n",
       "<style scoped>\n",
       "    .dataframe tbody tr th:only-of-type {\n",
       "        vertical-align: middle;\n",
       "    }\n",
       "\n",
       "    .dataframe tbody tr th {\n",
       "        vertical-align: top;\n",
       "    }\n",
       "\n",
       "    .dataframe thead th {\n",
       "        text-align: right;\n",
       "    }\n",
       "</style>\n",
       "<table border=\"1\" class=\"dataframe\">\n",
       "  <thead>\n",
       "    <tr style=\"text-align: right;\">\n",
       "      <th></th>\n",
       "      <th>CNT_TOTAL</th>\n",
       "      <th>CNT_DEF</th>\n",
       "      <th>DEF_RATE</th>\n",
       "      <th>DIST_BAD</th>\n",
       "      <th>DIST_GOOD</th>\n",
       "      <th>WOE</th>\n",
       "      <th>WOE_check</th>\n",
       "      <th>SHARE</th>\n",
       "    </tr>\n",
       "    <tr>\n",
       "      <th>BIN_ZIPCODE_ADDRESS_RAT</th>\n",
       "      <th></th>\n",
       "      <th></th>\n",
       "      <th></th>\n",
       "      <th></th>\n",
       "      <th></th>\n",
       "      <th></th>\n",
       "      <th></th>\n",
       "      <th></th>\n",
       "    </tr>\n",
       "  </thead>\n",
       "  <tbody>\n",
       "    <tr>\n",
       "      <th>[-inf, 0.4166)</th>\n",
       "      <td>55286.0</td>\n",
       "      <td>2504.0</td>\n",
       "      <td>0.0453</td>\n",
       "      <td>0.0694</td>\n",
       "      <td>0.0561</td>\n",
       "      <td>-0.2072</td>\n",
       "      <td>-0.2121</td>\n",
       "      <td>0.0566</td>\n",
       "    </tr>\n",
       "    <tr>\n",
       "      <th>[0.4166, 0.875)</th>\n",
       "      <td>198710.0</td>\n",
       "      <td>8317.0</td>\n",
       "      <td>0.0419</td>\n",
       "      <td>0.2304</td>\n",
       "      <td>0.2024</td>\n",
       "      <td>-0.1265</td>\n",
       "      <td>-0.1296</td>\n",
       "      <td>0.2035</td>\n",
       "    </tr>\n",
       "    <tr>\n",
       "      <th>[0.875, inf)</th>\n",
       "      <td>722648.0</td>\n",
       "      <td>25271.0</td>\n",
       "      <td>0.0350</td>\n",
       "      <td>0.7002</td>\n",
       "      <td>0.7415</td>\n",
       "      <td>0.0558</td>\n",
       "      <td>0.0573</td>\n",
       "      <td>0.7399</td>\n",
       "    </tr>\n",
       "    <tr>\n",
       "      <th>nan</th>\n",
       "      <td>0.0</td>\n",
       "      <td>0.0</td>\n",
       "      <td>NaN</td>\n",
       "      <td>0.0000</td>\n",
       "      <td>0.0000</td>\n",
       "      <td>NaN</td>\n",
       "      <td>-3.2604</td>\n",
       "      <td>0.0000</td>\n",
       "    </tr>\n",
       "  </tbody>\n",
       "</table>\n",
       "</div>"
      ],
      "text/plain": [
       "                         CNT_TOTAL  CNT_DEF  DEF_RATE  DIST_BAD  DIST_GOOD  \\\n",
       "BIN_ZIPCODE_ADDRESS_RAT                                                      \n",
       "[-inf, 0.4166)             55286.0   2504.0    0.0453    0.0694     0.0561   \n",
       "[0.4166, 0.875)           198710.0   8317.0    0.0419    0.2304     0.2024   \n",
       "[0.875, inf)              722648.0  25271.0    0.0350    0.7002     0.7415   \n",
       "nan                            0.0      0.0       NaN    0.0000     0.0000   \n",
       "\n",
       "                            WOE  WOE_check   SHARE  \n",
       "BIN_ZIPCODE_ADDRESS_RAT                             \n",
       "[-inf, 0.4166)          -0.2072    -0.2121  0.0566  \n",
       "[0.4166, 0.875)         -0.1265    -0.1296  0.2035  \n",
       "[0.875, inf)             0.0558     0.0573  0.7399  \n",
       "nan                         NaN    -3.2604  0.0000  "
      ]
     },
     "metadata": {},
     "output_type": "display_data"
    },
    {
     "name": "stdout",
     "output_type": "stream",
     "text": [
      "IV: 0.0088\n",
      "Gini: 4.24\n"
     ]
    },
    {
     "data": {
      "image/png": "[encoded data removed]",
      "text/plain": [
       "<Figure size 720x360 with 2 Axes>"
      ]
     },
     "metadata": {
      "needs_background": "light"
     },
     "output_type": "display_data"
    }
   ],
   "source": [
    "grouping.plot_bins(data=df_train, cols_pred_num=cols_pred_num, cols_pred_cat=cols_pred_cat,\n",
    "                    mask = pd.Series(df_train[\"RISK_FSTQPD60\"]>=0),col_target=\"RISK_FSTQPD60\", \n",
    "                   output_folder=r\"C:\\Users\\aman.khatri91425\\Desktop\\HomeCredit\\Bigdata\\Common Maps KNN\", col_weight=None)"
   ]
  },
  {
   "cell_type": "code",
   "execution_count": null,
   "metadata": {},
   "outputs": [],
   "source": []
  },
  {
   "cell_type": "code",
   "execution_count": null,
   "metadata": {},
   "outputs": [],
   "source": []
  },
  {
   "cell_type": "code",
   "execution_count": null,
   "metadata": {},
   "outputs": [],
   "source": []
  },
  {
   "cell_type": "code",
   "execution_count": null,
   "metadata": {},
   "outputs": [],
   "source": []
  },
  {
   "cell_type": "markdown",
   "metadata": {},
   "source": [
    "# WOE Analysis(All Variables)"
   ]
  },
  {
   "cell_type": "code",
   "execution_count": 10,
   "metadata": {},
   "outputs": [],
   "source": [
    "df_train = df"
   ]
  },
  {
   "cell_type": "code",
   "execution_count": 11,
   "metadata": {},
   "outputs": [],
   "source": [
    "cols_pred_cat=[]\n",
    "cols_pred_num = ['ADDRESS_CNT', 'ZIPCODE_CNT', 'ZIPCODE_ADDRESS_RAT',\n",
    "       'RESIDENCE_ADDRESS_CNT', 'RESIDENCE_ZIPCODE_CNT',\n",
    "       'RESIDENCE_ZIPCODE_ADDRESS_RAT', 'RESIDENCE_ADDRESS_PCT',\n",
    "       'OFFICE_ADDRESS_CNT', 'OFFICE_ZIPCODE_CNT',\n",
    "       'OFFICE_ZIPCODE_ADDRESS_RAT', 'OFFICE_ADDRESS_PCT',\n",
    "       'PERMANENT_ADDRESS_CNT', 'PERMANENT_ZIPCODE_CNT',\n",
    "       'PERMANENT_ZIPCODE_ADDRESS_RAT', 'PERMANENT_ADDRESS_PCT',\n",
    "       'PERMANENT_OFFICE_COMB_RAT', 'RESIDENT_OFFICE_COMB_RAT',\n",
    "       'PERMANENT_RESIDENCE_COMB_RAT','RISK_SCORE']"
   ]
  },
  {
   "cell_type": "code",
   "execution_count": 12,
   "metadata": {},
   "outputs": [
    {
     "data": {
      "application/vnd.jupyter.widget-view+json": {
       "model_id": "8fbe7a14de15456eb8978f1e17cdfdc2",
       "version_major": 2,
       "version_minor": 0
      },
      "text/plain": [
       "HBox(children=(FloatProgress(value=0.0, max=19.0), HTML(value='')))"
      ]
     },
     "metadata": {},
     "output_type": "display_data"
    },
    {
     "name": "stdout",
     "output_type": "stream",
     "text": [
      "\n"
     ]
    },
    {
     "data": {
      "text/plain": [
       "'Grouping saved on 2020-11-03 17:10:06 to file C:\\\\Users\\\\aman.khatri91425\\\\Desktop\\\\HomeCredit\\\\Bigdata\\\\Common Maps KNN\\\\my_grouping'"
      ]
     },
     "metadata": {},
     "output_type": "display_data"
    },
    {
     "data": {
      "application/vnd.jupyter.widget-view+json": {
       "model_id": "d92eece6469a4a7abf140ece03e8614b",
       "version_major": 2,
       "version_minor": 0
      },
      "text/plain": [
       "HBox(children=(FloatProgress(value=0.0, max=19.0), HTML(value='')))"
      ]
     },
     "metadata": {},
     "output_type": "display_data"
    },
    {
     "name": "stdout",
     "output_type": "stream",
     "text": [
      "\n"
     ]
    }
   ],
   "source": [
    "from scoring.grouping import Grouping\n",
    "\n",
    "grouping = Grouping(columns = sorted(cols_pred_num),\n",
    "                    cat_columns = sorted(cols_pred_cat),\n",
    "                    group_count=3, \n",
    "                    min_samples=10000)\n",
    "\n",
    "grouping.fit(df_train[cols_pred_num],\n",
    "             df_train[\"RISK_FSTQPD60\"],\n",
    "          #   w=data[train_mask][col_weight],\n",
    "            progress_bar=True, category_limit=10000);\n",
    "\n",
    "grouping.save(r\"C:\\Users\\aman.khatri91425\\Desktop\\HomeCredit\\Bigdata\\Common Maps KNN\\my_grouping\")\n",
    "\n",
    "data_woe = grouping.transform(df, transform_to='woe', progress_bar=True)"
   ]
  },
  {
   "cell_type": "markdown",
   "metadata": {},
   "source": [
    "### Plot Bins"
   ]
  },
  {
   "cell_type": "code",
   "execution_count": 13,
   "metadata": {
    "scrolled": true
   },
   "outputs": [
    {
     "data": {
      "text/markdown": [
       "***"
      ],
      "text/plain": [
       "<IPython.core.display.Markdown object>"
      ]
     },
     "metadata": {},
     "output_type": "display_data"
    },
    {
     "data": {
      "text/markdown": [
       "### ADDRESS_CNT"
      ],
      "text/plain": [
       "<IPython.core.display.Markdown object>"
      ]
     },
     "metadata": {},
     "output_type": "display_data"
    },
    {
     "data": {
      "text/html": [
       "<div>\n",
       "<style scoped>\n",
       "    .dataframe tbody tr th:only-of-type {\n",
       "        vertical-align: middle;\n",
       "    }\n",
       "\n",
       "    .dataframe tbody tr th {\n",
       "        vertical-align: top;\n",
       "    }\n",
       "\n",
       "    .dataframe thead th {\n",
       "        text-align: right;\n",
       "    }\n",
       "</style>\n",
       "<table border=\"1\" class=\"dataframe\">\n",
       "  <thead>\n",
       "    <tr style=\"text-align: right;\">\n",
       "      <th></th>\n",
       "      <th>CNT_TOTAL</th>\n",
       "      <th>CNT_DEF</th>\n",
       "      <th>DEF_RATE</th>\n",
       "      <th>DIST_BAD</th>\n",
       "      <th>DIST_GOOD</th>\n",
       "      <th>WOE</th>\n",
       "      <th>WOE_check</th>\n",
       "      <th>SHARE</th>\n",
       "    </tr>\n",
       "    <tr>\n",
       "      <th>BIN_ADDRESS_CNT</th>\n",
       "      <th></th>\n",
       "      <th></th>\n",
       "      <th></th>\n",
       "      <th></th>\n",
       "      <th></th>\n",
       "      <th></th>\n",
       "      <th></th>\n",
       "      <th></th>\n",
       "    </tr>\n",
       "  </thead>\n",
       "  <tbody>\n",
       "    <tr>\n",
       "      <th>[-inf, 1.5)</th>\n",
       "      <td>635587.0</td>\n",
       "      <td>21973.0</td>\n",
       "      <td>0.0346</td>\n",
       "      <td>0.6088</td>\n",
       "      <td>0.6524</td>\n",
       "      <td>0.0673</td>\n",
       "      <td>0.0692</td>\n",
       "      <td>0.6508</td>\n",
       "    </tr>\n",
       "    <tr>\n",
       "      <th>[1.5, 3.5)</th>\n",
       "      <td>238944.0</td>\n",
       "      <td>9672.0</td>\n",
       "      <td>0.0405</td>\n",
       "      <td>0.2680</td>\n",
       "      <td>0.2438</td>\n",
       "      <td>-0.0924</td>\n",
       "      <td>-0.0947</td>\n",
       "      <td>0.2447</td>\n",
       "    </tr>\n",
       "    <tr>\n",
       "      <th>[3.5, inf)</th>\n",
       "      <td>102113.0</td>\n",
       "      <td>4447.0</td>\n",
       "      <td>0.0435</td>\n",
       "      <td>0.1232</td>\n",
       "      <td>0.1038</td>\n",
       "      <td>-0.1671</td>\n",
       "      <td>-0.1711</td>\n",
       "      <td>0.1046</td>\n",
       "    </tr>\n",
       "    <tr>\n",
       "      <th>nan</th>\n",
       "      <td>0.0</td>\n",
       "      <td>0.0</td>\n",
       "      <td>NaN</td>\n",
       "      <td>0.0000</td>\n",
       "      <td>0.0000</td>\n",
       "      <td>NaN</td>\n",
       "      <td>-3.2604</td>\n",
       "      <td>0.0000</td>\n",
       "    </tr>\n",
       "  </tbody>\n",
       "</table>\n",
       "</div>"
      ],
      "text/plain": [
       "                 CNT_TOTAL  CNT_DEF  DEF_RATE  DIST_BAD  DIST_GOOD     WOE  \\\n",
       "BIN_ADDRESS_CNT                                                              \n",
       "[-inf, 1.5)       635587.0  21973.0    0.0346    0.6088     0.6524  0.0673   \n",
       "[1.5, 3.5)        238944.0   9672.0    0.0405    0.2680     0.2438 -0.0924   \n",
       "[3.5, inf)        102113.0   4447.0    0.0435    0.1232     0.1038 -0.1671   \n",
       "nan                    0.0      0.0       NaN    0.0000     0.0000     NaN   \n",
       "\n",
       "                 WOE_check   SHARE  \n",
       "BIN_ADDRESS_CNT                     \n",
       "[-inf, 1.5)         0.0692  0.6508  \n",
       "[1.5, 3.5)         -0.0947  0.2447  \n",
       "[3.5, inf)         -0.1711  0.1046  \n",
       "nan                -3.2604  0.0000  "
      ]
     },
     "metadata": {},
     "output_type": "display_data"
    },
    {
     "name": "stdout",
     "output_type": "stream",
     "text": [
      "IV: 0.0086\n",
      "Gini: 4.58\n"
     ]
    },
    {
     "data": {
      "image/png": "[encoded data removed]",
      "text/plain": [
       "<Figure size 720x360 with 2 Axes>"
      ]
     },
     "metadata": {
      "needs_background": "light"
     },
     "output_type": "display_data"
    },
    {
     "data": {
      "text/markdown": [
       "***"
      ],
      "text/plain": [
       "<IPython.core.display.Markdown object>"
      ]
     },
     "metadata": {},
     "output_type": "display_data"
    },
    {
     "data": {
      "text/markdown": [
       "### OFFICE_ADDRESS_CNT"
      ],
      "text/plain": [
       "<IPython.core.display.Markdown object>"
      ]
     },
     "metadata": {},
     "output_type": "display_data"
    },
    {
     "data": {
      "text/html": [
       "<div>\n",
       "<style scoped>\n",
       "    .dataframe tbody tr th:only-of-type {\n",
       "        vertical-align: middle;\n",
       "    }\n",
       "\n",
       "    .dataframe tbody tr th {\n",
       "        vertical-align: top;\n",
       "    }\n",
       "\n",
       "    .dataframe thead th {\n",
       "        text-align: right;\n",
       "    }\n",
       "</style>\n",
       "<table border=\"1\" class=\"dataframe\">\n",
       "  <thead>\n",
       "    <tr style=\"text-align: right;\">\n",
       "      <th></th>\n",
       "      <th>CNT_TOTAL</th>\n",
       "      <th>CNT_DEF</th>\n",
       "      <th>DEF_RATE</th>\n",
       "      <th>DIST_BAD</th>\n",
       "      <th>DIST_GOOD</th>\n",
       "      <th>WOE</th>\n",
       "      <th>WOE_check</th>\n",
       "      <th>SHARE</th>\n",
       "    </tr>\n",
       "    <tr>\n",
       "      <th>BIN_OFFICE_ADDRESS_CNT</th>\n",
       "      <th></th>\n",
       "      <th></th>\n",
       "      <th></th>\n",
       "      <th></th>\n",
       "      <th></th>\n",
       "      <th></th>\n",
       "      <th></th>\n",
       "      <th></th>\n",
       "    </tr>\n",
       "  </thead>\n",
       "  <tbody>\n",
       "    <tr>\n",
       "      <th>[-inf, 0.5)</th>\n",
       "      <td>797108.0</td>\n",
       "      <td>28574.0</td>\n",
       "      <td>0.0358</td>\n",
       "      <td>0.7917</td>\n",
       "      <td>0.8171</td>\n",
       "      <td>0.0308</td>\n",
       "      <td>0.0316</td>\n",
       "      <td>0.8162</td>\n",
       "    </tr>\n",
       "    <tr>\n",
       "      <th>[0.5, 1.5)</th>\n",
       "      <td>138985.0</td>\n",
       "      <td>5801.0</td>\n",
       "      <td>0.0417</td>\n",
       "      <td>0.1607</td>\n",
       "      <td>0.1416</td>\n",
       "      <td>-0.1237</td>\n",
       "      <td>-0.1267</td>\n",
       "      <td>0.1423</td>\n",
       "    </tr>\n",
       "    <tr>\n",
       "      <th>[1.5, inf)</th>\n",
       "      <td>40551.0</td>\n",
       "      <td>1717.0</td>\n",
       "      <td>0.0423</td>\n",
       "      <td>0.0476</td>\n",
       "      <td>0.0413</td>\n",
       "      <td>-0.1383</td>\n",
       "      <td>-0.1417</td>\n",
       "      <td>0.0415</td>\n",
       "    </tr>\n",
       "    <tr>\n",
       "      <th>nan</th>\n",
       "      <td>0.0</td>\n",
       "      <td>0.0</td>\n",
       "      <td>NaN</td>\n",
       "      <td>0.0000</td>\n",
       "      <td>0.0000</td>\n",
       "      <td>NaN</td>\n",
       "      <td>-3.2604</td>\n",
       "      <td>0.0000</td>\n",
       "    </tr>\n",
       "  </tbody>\n",
       "</table>\n",
       "</div>"
      ],
      "text/plain": [
       "                        CNT_TOTAL  CNT_DEF  DEF_RATE  DIST_BAD  DIST_GOOD  \\\n",
       "BIN_OFFICE_ADDRESS_CNT                                                      \n",
       "[-inf, 0.5)              797108.0  28574.0    0.0358    0.7917     0.8171   \n",
       "[0.5, 1.5)               138985.0   5801.0    0.0417    0.1607     0.1416   \n",
       "[1.5, inf)                40551.0   1717.0    0.0423    0.0476     0.0413   \n",
       "nan                           0.0      0.0       NaN    0.0000     0.0000   \n",
       "\n",
       "                           WOE  WOE_check   SHARE  \n",
       "BIN_OFFICE_ADDRESS_CNT                             \n",
       "[-inf, 0.5)             0.0308     0.0316  0.8162  \n",
       "[0.5, 1.5)             -0.1237    -0.1267  0.1423  \n",
       "[1.5, inf)             -0.1383    -0.1417  0.0415  \n",
       "nan                        NaN    -3.2604  0.0000  "
      ]
     },
     "metadata": {},
     "output_type": "display_data"
    },
    {
     "name": "stdout",
     "output_type": "stream",
     "text": [
      "IV: 0.0041\n",
      "Gini: 2.55\n"
     ]
    },
    {
     "data": {
      "image/png": "[encoded data removed]",
      "text/plain": [
       "<Figure size 720x360 with 2 Axes>"
      ]
     },
     "metadata": {
      "needs_background": "light"
     },
     "output_type": "display_data"
    },
    {
     "data": {
      "text/markdown": [
       "***"
      ],
      "text/plain": [
       "<IPython.core.display.Markdown object>"
      ]
     },
     "metadata": {},
     "output_type": "display_data"
    },
    {
     "data": {
      "text/markdown": [
       "### OFFICE_ADDRESS_PCT"
      ],
      "text/plain": [
       "<IPython.core.display.Markdown object>"
      ]
     },
     "metadata": {},
     "output_type": "display_data"
    },
    {
     "data": {
      "text/html": [
       "<div>\n",
       "<style scoped>\n",
       "    .dataframe tbody tr th:only-of-type {\n",
       "        vertical-align: middle;\n",
       "    }\n",
       "\n",
       "    .dataframe tbody tr th {\n",
       "        vertical-align: top;\n",
       "    }\n",
       "\n",
       "    .dataframe thead th {\n",
       "        text-align: right;\n",
       "    }\n",
       "</style>\n",
       "<table border=\"1\" class=\"dataframe\">\n",
       "  <thead>\n",
       "    <tr style=\"text-align: right;\">\n",
       "      <th></th>\n",
       "      <th>CNT_TOTAL</th>\n",
       "      <th>CNT_DEF</th>\n",
       "      <th>DEF_RATE</th>\n",
       "      <th>DIST_BAD</th>\n",
       "      <th>DIST_GOOD</th>\n",
       "      <th>WOE</th>\n",
       "      <th>WOE_check</th>\n",
       "      <th>SHARE</th>\n",
       "    </tr>\n",
       "    <tr>\n",
       "      <th>BIN_OFFICE_ADDRESS_PCT</th>\n",
       "      <th></th>\n",
       "      <th></th>\n",
       "      <th></th>\n",
       "      <th></th>\n",
       "      <th></th>\n",
       "      <th></th>\n",
       "      <th></th>\n",
       "      <th></th>\n",
       "    </tr>\n",
       "  </thead>\n",
       "  <tbody>\n",
       "    <tr>\n",
       "      <th>[-inf, 0.125)</th>\n",
       "      <td>797108.0</td>\n",
       "      <td>28574.0</td>\n",
       "      <td>0.0358</td>\n",
       "      <td>0.7917</td>\n",
       "      <td>0.8171</td>\n",
       "      <td>0.0308</td>\n",
       "      <td>0.0316</td>\n",
       "      <td>0.8162</td>\n",
       "    </tr>\n",
       "    <tr>\n",
       "      <th>[0.125, 0.5834)</th>\n",
       "      <td>155142.0</td>\n",
       "      <td>6590.0</td>\n",
       "      <td>0.0425</td>\n",
       "      <td>0.1826</td>\n",
       "      <td>0.1579</td>\n",
       "      <td>-0.1416</td>\n",
       "      <td>-0.1450</td>\n",
       "      <td>0.1589</td>\n",
       "    </tr>\n",
       "    <tr>\n",
       "      <th>[0.5834, inf)</th>\n",
       "      <td>24394.0</td>\n",
       "      <td>928.0</td>\n",
       "      <td>0.0380</td>\n",
       "      <td>0.0257</td>\n",
       "      <td>0.0249</td>\n",
       "      <td>-0.0294</td>\n",
       "      <td>-0.0301</td>\n",
       "      <td>0.0250</td>\n",
       "    </tr>\n",
       "    <tr>\n",
       "      <th>nan</th>\n",
       "      <td>0.0</td>\n",
       "      <td>0.0</td>\n",
       "      <td>NaN</td>\n",
       "      <td>0.0000</td>\n",
       "      <td>0.0000</td>\n",
       "      <td>NaN</td>\n",
       "      <td>-3.2604</td>\n",
       "      <td>0.0000</td>\n",
       "    </tr>\n",
       "  </tbody>\n",
       "</table>\n",
       "</div>"
      ],
      "text/plain": [
       "                        CNT_TOTAL  CNT_DEF  DEF_RATE  DIST_BAD  DIST_GOOD  \\\n",
       "BIN_OFFICE_ADDRESS_PCT                                                      \n",
       "[-inf, 0.125)            797108.0  28574.0    0.0358    0.7917     0.8171   \n",
       "[0.125, 0.5834)          155142.0   6590.0    0.0425    0.1826     0.1579   \n",
       "[0.5834, inf)             24394.0    928.0    0.0380    0.0257     0.0249   \n",
       "nan                           0.0      0.0       NaN    0.0000     0.0000   \n",
       "\n",
       "                           WOE  WOE_check   SHARE  \n",
       "BIN_OFFICE_ADDRESS_PCT                             \n",
       "[-inf, 0.125)           0.0308     0.0316  0.8162  \n",
       "[0.125, 0.5834)        -0.1416    -0.1450  0.1589  \n",
       "[0.5834, inf)          -0.0294    -0.0301  0.0250  \n",
       "nan                        NaN    -3.2604  0.0000  "
      ]
     },
     "metadata": {},
     "output_type": "display_data"
    },
    {
     "name": "stdout",
     "output_type": "stream",
     "text": [
      "IV: 0.0044\n",
      "Gini: 2.59\n"
     ]
    },
    {
     "data": {
      "image/png": "[encoded data removed]",
      "text/plain": [
       "<Figure size 720x360 with 2 Axes>"
      ]
     },
     "metadata": {
      "needs_background": "light"
     },
     "output_type": "display_data"
    },
    {
     "data": {
      "text/markdown": [
       "***"
      ],
      "text/plain": [
       "<IPython.core.display.Markdown object>"
      ]
     },
     "metadata": {},
     "output_type": "display_data"
    },
    {
     "data": {
      "text/markdown": [
       "### OFFICE_ZIPCODE_ADDRESS_RAT"
      ],
      "text/plain": [
       "<IPython.core.display.Markdown object>"
      ]
     },
     "metadata": {},
     "output_type": "display_data"
    },
    {
     "data": {
      "text/html": [
       "<div>\n",
       "<style scoped>\n",
       "    .dataframe tbody tr th:only-of-type {\n",
       "        vertical-align: middle;\n",
       "    }\n",
       "\n",
       "    .dataframe tbody tr th {\n",
       "        vertical-align: top;\n",
       "    }\n",
       "\n",
       "    .dataframe thead th {\n",
       "        text-align: right;\n",
       "    }\n",
       "</style>\n",
       "<table border=\"1\" class=\"dataframe\">\n",
       "  <thead>\n",
       "    <tr style=\"text-align: right;\">\n",
       "      <th></th>\n",
       "      <th>CNT_TOTAL</th>\n",
       "      <th>CNT_DEF</th>\n",
       "      <th>DEF_RATE</th>\n",
       "      <th>DIST_BAD</th>\n",
       "      <th>DIST_GOOD</th>\n",
       "      <th>WOE</th>\n",
       "      <th>WOE_check</th>\n",
       "      <th>SHARE</th>\n",
       "    </tr>\n",
       "    <tr>\n",
       "      <th>BIN_OFFICE_ZIPCODE_ADDRESS_RAT</th>\n",
       "      <th></th>\n",
       "      <th></th>\n",
       "      <th></th>\n",
       "      <th></th>\n",
       "      <th></th>\n",
       "      <th></th>\n",
       "      <th></th>\n",
       "      <th></th>\n",
       "    </tr>\n",
       "  </thead>\n",
       "  <tbody>\n",
       "    <tr>\n",
       "      <th>[-inf, 0.7084)</th>\n",
       "      <td>21201.0</td>\n",
       "      <td>849.0</td>\n",
       "      <td>0.0400</td>\n",
       "      <td>0.0235</td>\n",
       "      <td>0.0216</td>\n",
       "      <td>-0.0815</td>\n",
       "      <td>-0.0835</td>\n",
       "      <td>0.0217</td>\n",
       "    </tr>\n",
       "    <tr>\n",
       "      <th>[0.7084, inf)</th>\n",
       "      <td>158335.0</td>\n",
       "      <td>6669.0</td>\n",
       "      <td>0.0421</td>\n",
       "      <td>0.1848</td>\n",
       "      <td>0.1613</td>\n",
       "      <td>-0.1329</td>\n",
       "      <td>-0.1362</td>\n",
       "      <td>0.1621</td>\n",
       "    </tr>\n",
       "    <tr>\n",
       "      <th>nan</th>\n",
       "      <td>797108.0</td>\n",
       "      <td>28574.0</td>\n",
       "      <td>0.0358</td>\n",
       "      <td>0.7917</td>\n",
       "      <td>0.8171</td>\n",
       "      <td>0.0308</td>\n",
       "      <td>0.0316</td>\n",
       "      <td>0.8162</td>\n",
       "    </tr>\n",
       "  </tbody>\n",
       "</table>\n",
       "</div>"
      ],
      "text/plain": [
       "                                CNT_TOTAL  CNT_DEF  DEF_RATE  DIST_BAD  \\\n",
       "BIN_OFFICE_ZIPCODE_ADDRESS_RAT                                           \n",
       "[-inf, 0.7084)                    21201.0    849.0    0.0400    0.0235   \n",
       "[0.7084, inf)                    158335.0   6669.0    0.0421    0.1848   \n",
       "nan                              797108.0  28574.0    0.0358    0.7917   \n",
       "\n",
       "                                DIST_GOOD     WOE  WOE_check   SHARE  \n",
       "BIN_OFFICE_ZIPCODE_ADDRESS_RAT                                        \n",
       "[-inf, 0.7084)                     0.0216 -0.0815    -0.0835  0.0217  \n",
       "[0.7084, inf)                      0.1613 -0.1329    -0.1362  0.1621  \n",
       "nan                                0.8171  0.0308     0.0316  0.8162  "
      ]
     },
     "metadata": {},
     "output_type": "display_data"
    },
    {
     "name": "stdout",
     "output_type": "stream",
     "text": [
      "IV: 0.0042\n",
      "Gini: 2.56\n"
     ]
    },
    {
     "data": {
      "image/png": "[encoded data removed]",
      "text/plain": [
       "<Figure size 720x360 with 2 Axes>"
      ]
     },
     "metadata": {
      "needs_background": "light"
     },
     "output_type": "display_data"
    },
    {
     "data": {
      "text/markdown": [
       "***"
      ],
      "text/plain": [
       "<IPython.core.display.Markdown object>"
      ]
     },
     "metadata": {},
     "output_type": "display_data"
    },
    {
     "data": {
      "text/markdown": [
       "### OFFICE_ZIPCODE_CNT"
      ],
      "text/plain": [
       "<IPython.core.display.Markdown object>"
      ]
     },
     "metadata": {},
     "output_type": "display_data"
    },
    {
     "data": {
      "text/html": [
       "<div>\n",
       "<style scoped>\n",
       "    .dataframe tbody tr th:only-of-type {\n",
       "        vertical-align: middle;\n",
       "    }\n",
       "\n",
       "    .dataframe tbody tr th {\n",
       "        vertical-align: top;\n",
       "    }\n",
       "\n",
       "    .dataframe thead th {\n",
       "        text-align: right;\n",
       "    }\n",
       "</style>\n",
       "<table border=\"1\" class=\"dataframe\">\n",
       "  <thead>\n",
       "    <tr style=\"text-align: right;\">\n",
       "      <th></th>\n",
       "      <th>CNT_TOTAL</th>\n",
       "      <th>CNT_DEF</th>\n",
       "      <th>DEF_RATE</th>\n",
       "      <th>DIST_BAD</th>\n",
       "      <th>DIST_GOOD</th>\n",
       "      <th>WOE</th>\n",
       "      <th>WOE_check</th>\n",
       "      <th>SHARE</th>\n",
       "    </tr>\n",
       "    <tr>\n",
       "      <th>BIN_OFFICE_ZIPCODE_CNT</th>\n",
       "      <th></th>\n",
       "      <th></th>\n",
       "      <th></th>\n",
       "      <th></th>\n",
       "      <th></th>\n",
       "      <th></th>\n",
       "      <th></th>\n",
       "      <th></th>\n",
       "    </tr>\n",
       "  </thead>\n",
       "  <tbody>\n",
       "    <tr>\n",
       "      <th>[-inf, 0.5)</th>\n",
       "      <td>797156.0</td>\n",
       "      <td>28576.0</td>\n",
       "      <td>0.0358</td>\n",
       "      <td>0.7918</td>\n",
       "      <td>0.8172</td>\n",
       "      <td>0.0308</td>\n",
       "      <td>0.0316</td>\n",
       "      <td>0.8162</td>\n",
       "    </tr>\n",
       "    <tr>\n",
       "      <th>[0.5, 1.5)</th>\n",
       "      <td>156970.0</td>\n",
       "      <td>6527.0</td>\n",
       "      <td>0.0416</td>\n",
       "      <td>0.1808</td>\n",
       "      <td>0.1600</td>\n",
       "      <td>-0.1198</td>\n",
       "      <td>-0.1228</td>\n",
       "      <td>0.1607</td>\n",
       "    </tr>\n",
       "    <tr>\n",
       "      <th>[1.5, inf)</th>\n",
       "      <td>22518.0</td>\n",
       "      <td>989.0</td>\n",
       "      <td>0.0439</td>\n",
       "      <td>0.0274</td>\n",
       "      <td>0.0229</td>\n",
       "      <td>-0.1757</td>\n",
       "      <td>-0.1799</td>\n",
       "      <td>0.0231</td>\n",
       "    </tr>\n",
       "    <tr>\n",
       "      <th>nan</th>\n",
       "      <td>0.0</td>\n",
       "      <td>0.0</td>\n",
       "      <td>NaN</td>\n",
       "      <td>0.0000</td>\n",
       "      <td>0.0000</td>\n",
       "      <td>NaN</td>\n",
       "      <td>-3.2604</td>\n",
       "      <td>0.0000</td>\n",
       "    </tr>\n",
       "  </tbody>\n",
       "</table>\n",
       "</div>"
      ],
      "text/plain": [
       "                        CNT_TOTAL  CNT_DEF  DEF_RATE  DIST_BAD  DIST_GOOD  \\\n",
       "BIN_OFFICE_ZIPCODE_CNT                                                      \n",
       "[-inf, 0.5)              797156.0  28576.0    0.0358    0.7918     0.8172   \n",
       "[0.5, 1.5)               156970.0   6527.0    0.0416    0.1808     0.1600   \n",
       "[1.5, inf)                22518.0    989.0    0.0439    0.0274     0.0229   \n",
       "nan                           0.0      0.0       NaN    0.0000     0.0000   \n",
       "\n",
       "                           WOE  WOE_check   SHARE  \n",
       "BIN_OFFICE_ZIPCODE_CNT                             \n",
       "[-inf, 0.5)             0.0308     0.0316  0.8162  \n",
       "[0.5, 1.5)             -0.1198    -0.1228  0.1607  \n",
       "[1.5, inf)             -0.1757    -0.1799  0.0231  \n",
       "nan                        NaN    -3.2604  0.0000  "
      ]
     },
     "metadata": {},
     "output_type": "display_data"
    },
    {
     "name": "stdout",
     "output_type": "stream",
     "text": [
      "IV: 0.0042\n",
      "Gini: 2.56\n"
     ]
    },
    {
     "data": {
      "image/png": "[encoded data removed]",
      "text/plain": [
       "<Figure size 720x360 with 2 Axes>"
      ]
     },
     "metadata": {
      "needs_background": "light"
     },
     "output_type": "display_data"
    },
    {
     "data": {
      "text/markdown": [
       "***"
      ],
      "text/plain": [
       "<IPython.core.display.Markdown object>"
      ]
     },
     "metadata": {},
     "output_type": "display_data"
    },
    {
     "data": {
      "text/markdown": [
       "### PERMANENT_ADDRESS_CNT"
      ],
      "text/plain": [
       "<IPython.core.display.Markdown object>"
      ]
     },
     "metadata": {},
     "output_type": "display_data"
    },
    {
     "data": {
      "text/html": [
       "<div>\n",
       "<style scoped>\n",
       "    .dataframe tbody tr th:only-of-type {\n",
       "        vertical-align: middle;\n",
       "    }\n",
       "\n",
       "    .dataframe tbody tr th {\n",
       "        vertical-align: top;\n",
       "    }\n",
       "\n",
       "    .dataframe thead th {\n",
       "        text-align: right;\n",
       "    }\n",
       "</style>\n",
       "<table border=\"1\" class=\"dataframe\">\n",
       "  <thead>\n",
       "    <tr style=\"text-align: right;\">\n",
       "      <th></th>\n",
       "      <th>CNT_TOTAL</th>\n",
       "      <th>CNT_DEF</th>\n",
       "      <th>DEF_RATE</th>\n",
       "      <th>DIST_BAD</th>\n",
       "      <th>DIST_GOOD</th>\n",
       "      <th>WOE</th>\n",
       "      <th>WOE_check</th>\n",
       "      <th>SHARE</th>\n",
       "    </tr>\n",
       "    <tr>\n",
       "      <th>BIN_PERMANENT_ADDRESS_CNT</th>\n",
       "      <th></th>\n",
       "      <th></th>\n",
       "      <th></th>\n",
       "      <th></th>\n",
       "      <th></th>\n",
       "      <th></th>\n",
       "      <th></th>\n",
       "      <th></th>\n",
       "    </tr>\n",
       "  </thead>\n",
       "  <tbody>\n",
       "    <tr>\n",
       "      <th>[-inf, 0.5)</th>\n",
       "      <td>802641.0</td>\n",
       "      <td>28015.0</td>\n",
       "      <td>0.0349</td>\n",
       "      <td>0.7762</td>\n",
       "      <td>0.8236</td>\n",
       "      <td>0.0577</td>\n",
       "      <td>0.0592</td>\n",
       "      <td>0.8218</td>\n",
       "    </tr>\n",
       "    <tr>\n",
       "      <th>[0.5, 1.5)</th>\n",
       "      <td>149033.0</td>\n",
       "      <td>6833.0</td>\n",
       "      <td>0.0458</td>\n",
       "      <td>0.1893</td>\n",
       "      <td>0.1512</td>\n",
       "      <td>-0.2198</td>\n",
       "      <td>-0.2249</td>\n",
       "      <td>0.1526</td>\n",
       "    </tr>\n",
       "    <tr>\n",
       "      <th>[1.5, inf)</th>\n",
       "      <td>24970.0</td>\n",
       "      <td>1244.0</td>\n",
       "      <td>0.0498</td>\n",
       "      <td>0.0345</td>\n",
       "      <td>0.0252</td>\n",
       "      <td>-0.3053</td>\n",
       "      <td>-0.3122</td>\n",
       "      <td>0.0256</td>\n",
       "    </tr>\n",
       "    <tr>\n",
       "      <th>nan</th>\n",
       "      <td>0.0</td>\n",
       "      <td>0.0</td>\n",
       "      <td>NaN</td>\n",
       "      <td>0.0000</td>\n",
       "      <td>0.0000</td>\n",
       "      <td>NaN</td>\n",
       "      <td>-3.2604</td>\n",
       "      <td>0.0000</td>\n",
       "    </tr>\n",
       "  </tbody>\n",
       "</table>\n",
       "</div>"
      ],
      "text/plain": [
       "                           CNT_TOTAL  CNT_DEF  DEF_RATE  DIST_BAD  DIST_GOOD  \\\n",
       "BIN_PERMANENT_ADDRESS_CNT                                                      \n",
       "[-inf, 0.5)                 802641.0  28015.0    0.0349    0.7762     0.8236   \n",
       "[0.5, 1.5)                  149033.0   6833.0    0.0458    0.1893     0.1512   \n",
       "[1.5, inf)                   24970.0   1244.0    0.0498    0.0345     0.0252   \n",
       "nan                              0.0      0.0       NaN    0.0000     0.0000   \n",
       "\n",
       "                              WOE  WOE_check   SHARE  \n",
       "BIN_PERMANENT_ADDRESS_CNT                             \n",
       "[-inf, 0.5)                0.0577     0.0592  0.8218  \n",
       "[0.5, 1.5)                -0.2198    -0.2249  0.1526  \n",
       "[1.5, inf)                -0.3053    -0.3122  0.0256  \n",
       "nan                           NaN    -3.2604  0.0000  "
      ]
     },
     "metadata": {},
     "output_type": "display_data"
    },
    {
     "name": "stdout",
     "output_type": "stream",
     "text": [
      "IV: 0.0143\n",
      "Gini: 4.78\n"
     ]
    },
    {
     "data": {
      "image/png": "[encoded data removed]",
      "text/plain": [
       "<Figure size 720x360 with 2 Axes>"
      ]
     },
     "metadata": {
      "needs_background": "light"
     },
     "output_type": "display_data"
    },
    {
     "data": {
      "text/markdown": [
       "***"
      ],
      "text/plain": [
       "<IPython.core.display.Markdown object>"
      ]
     },
     "metadata": {},
     "output_type": "display_data"
    },
    {
     "data": {
      "text/markdown": [
       "### PERMANENT_ADDRESS_PCT"
      ],
      "text/plain": [
       "<IPython.core.display.Markdown object>"
      ]
     },
     "metadata": {},
     "output_type": "display_data"
    },
    {
     "data": {
      "text/html": [
       "<div>\n",
       "<style scoped>\n",
       "    .dataframe tbody tr th:only-of-type {\n",
       "        vertical-align: middle;\n",
       "    }\n",
       "\n",
       "    .dataframe tbody tr th {\n",
       "        vertical-align: top;\n",
       "    }\n",
       "\n",
       "    .dataframe thead th {\n",
       "        text-align: right;\n",
       "    }\n",
       "</style>\n",
       "<table border=\"1\" class=\"dataframe\">\n",
       "  <thead>\n",
       "    <tr style=\"text-align: right;\">\n",
       "      <th></th>\n",
       "      <th>CNT_TOTAL</th>\n",
       "      <th>CNT_DEF</th>\n",
       "      <th>DEF_RATE</th>\n",
       "      <th>DIST_BAD</th>\n",
       "      <th>DIST_GOOD</th>\n",
       "      <th>WOE</th>\n",
       "      <th>WOE_check</th>\n",
       "      <th>SHARE</th>\n",
       "    </tr>\n",
       "    <tr>\n",
       "      <th>BIN_PERMANENT_ADDRESS_PCT</th>\n",
       "      <th></th>\n",
       "      <th></th>\n",
       "      <th></th>\n",
       "      <th></th>\n",
       "      <th></th>\n",
       "      <th></th>\n",
       "      <th></th>\n",
       "      <th></th>\n",
       "    </tr>\n",
       "  </thead>\n",
       "  <tbody>\n",
       "    <tr>\n",
       "      <th>[-inf, 0.125)</th>\n",
       "      <td>802641.0</td>\n",
       "      <td>28015.0</td>\n",
       "      <td>0.0349</td>\n",
       "      <td>0.7762</td>\n",
       "      <td>0.8236</td>\n",
       "      <td>0.0577</td>\n",
       "      <td>0.0592</td>\n",
       "      <td>0.8218</td>\n",
       "    </tr>\n",
       "    <tr>\n",
       "      <th>[0.125, 0.2916)</th>\n",
       "      <td>33967.0</td>\n",
       "      <td>1677.0</td>\n",
       "      <td>0.0494</td>\n",
       "      <td>0.0465</td>\n",
       "      <td>0.0343</td>\n",
       "      <td>-0.2960</td>\n",
       "      <td>-0.3026</td>\n",
       "      <td>0.0348</td>\n",
       "    </tr>\n",
       "    <tr>\n",
       "      <th>[0.2916, inf)</th>\n",
       "      <td>140036.0</td>\n",
       "      <td>6400.0</td>\n",
       "      <td>0.0457</td>\n",
       "      <td>0.1773</td>\n",
       "      <td>0.1421</td>\n",
       "      <td>-0.2165</td>\n",
       "      <td>-0.2216</td>\n",
       "      <td>0.1434</td>\n",
       "    </tr>\n",
       "    <tr>\n",
       "      <th>nan</th>\n",
       "      <td>0.0</td>\n",
       "      <td>0.0</td>\n",
       "      <td>NaN</td>\n",
       "      <td>0.0000</td>\n",
       "      <td>0.0000</td>\n",
       "      <td>NaN</td>\n",
       "      <td>-3.2604</td>\n",
       "      <td>0.0000</td>\n",
       "    </tr>\n",
       "  </tbody>\n",
       "</table>\n",
       "</div>"
      ],
      "text/plain": [
       "                           CNT_TOTAL  CNT_DEF  DEF_RATE  DIST_BAD  DIST_GOOD  \\\n",
       "BIN_PERMANENT_ADDRESS_PCT                                                      \n",
       "[-inf, 0.125)               802641.0  28015.0    0.0349    0.7762     0.8236   \n",
       "[0.125, 0.2916)              33967.0   1677.0    0.0494    0.0465     0.0343   \n",
       "[0.2916, inf)               140036.0   6400.0    0.0457    0.1773     0.1421   \n",
       "nan                              0.0      0.0       NaN    0.0000     0.0000   \n",
       "\n",
       "                              WOE  WOE_check   SHARE  \n",
       "BIN_PERMANENT_ADDRESS_PCT                             \n",
       "[-inf, 0.125)              0.0577     0.0592  0.8218  \n",
       "[0.125, 0.2916)           -0.2960    -0.3026  0.0348  \n",
       "[0.2916, inf)             -0.2165    -0.2216  0.1434  \n",
       "nan                           NaN    -3.2604  0.0000  "
      ]
     },
     "metadata": {},
     "output_type": "display_data"
    },
    {
     "name": "stdout",
     "output_type": "stream",
     "text": [
      "IV: 0.0143\n",
      "Gini: 4.79\n"
     ]
    },
    {
     "data": {
      "image/png": "[encoded data removed]",
      "text/plain": [
       "<Figure size 720x360 with 2 Axes>"
      ]
     },
     "metadata": {
      "needs_background": "light"
     },
     "output_type": "display_data"
    },
    {
     "data": {
      "text/markdown": [
       "***"
      ],
      "text/plain": [
       "<IPython.core.display.Markdown object>"
      ]
     },
     "metadata": {},
     "output_type": "display_data"
    },
    {
     "data": {
      "text/markdown": [
       "### PERMANENT_OFFICE_COMB_RAT"
      ],
      "text/plain": [
       "<IPython.core.display.Markdown object>"
      ]
     },
     "metadata": {},
     "output_type": "display_data"
    },
    {
     "data": {
      "text/html": [
       "<div>\n",
       "<style scoped>\n",
       "    .dataframe tbody tr th:only-of-type {\n",
       "        vertical-align: middle;\n",
       "    }\n",
       "\n",
       "    .dataframe tbody tr th {\n",
       "        vertical-align: top;\n",
       "    }\n",
       "\n",
       "    .dataframe thead th {\n",
       "        text-align: right;\n",
       "    }\n",
       "</style>\n",
       "<table border=\"1\" class=\"dataframe\">\n",
       "  <thead>\n",
       "    <tr style=\"text-align: right;\">\n",
       "      <th></th>\n",
       "      <th>CNT_TOTAL</th>\n",
       "      <th>CNT_DEF</th>\n",
       "      <th>DEF_RATE</th>\n",
       "      <th>DIST_BAD</th>\n",
       "      <th>DIST_GOOD</th>\n",
       "      <th>WOE</th>\n",
       "      <th>WOE_check</th>\n",
       "      <th>SHARE</th>\n",
       "    </tr>\n",
       "    <tr>\n",
       "      <th>BIN_PERMANENT_OFFICE_COMB_RAT</th>\n",
       "      <th></th>\n",
       "      <th></th>\n",
       "      <th></th>\n",
       "      <th></th>\n",
       "      <th></th>\n",
       "      <th></th>\n",
       "      <th></th>\n",
       "      <th></th>\n",
       "    </tr>\n",
       "  </thead>\n",
       "  <tbody>\n",
       "    <tr>\n",
       "      <th>[-inf, 0.7084)</th>\n",
       "      <td>27400.0</td>\n",
       "      <td>1281.0</td>\n",
       "      <td>0.0468</td>\n",
       "      <td>0.0355</td>\n",
       "      <td>0.0278</td>\n",
       "      <td>-0.2398</td>\n",
       "      <td>-0.2454</td>\n",
       "      <td>0.0281</td>\n",
       "    </tr>\n",
       "    <tr>\n",
       "      <th>[0.7084, inf)</th>\n",
       "      <td>269320.0</td>\n",
       "      <td>11658.0</td>\n",
       "      <td>0.0433</td>\n",
       "      <td>0.3230</td>\n",
       "      <td>0.2739</td>\n",
       "      <td>-0.1609</td>\n",
       "      <td>-0.1647</td>\n",
       "      <td>0.2758</td>\n",
       "    </tr>\n",
       "    <tr>\n",
       "      <th>nan</th>\n",
       "      <td>679924.0</td>\n",
       "      <td>23153.0</td>\n",
       "      <td>0.0341</td>\n",
       "      <td>0.6415</td>\n",
       "      <td>0.6983</td>\n",
       "      <td>0.0826</td>\n",
       "      <td>0.0848</td>\n",
       "      <td>0.6962</td>\n",
       "    </tr>\n",
       "  </tbody>\n",
       "</table>\n",
       "</div>"
      ],
      "text/plain": [
       "                               CNT_TOTAL  CNT_DEF  DEF_RATE  DIST_BAD  \\\n",
       "BIN_PERMANENT_OFFICE_COMB_RAT                                           \n",
       "[-inf, 0.7084)                   27400.0   1281.0    0.0468    0.0355   \n",
       "[0.7084, inf)                   269320.0  11658.0    0.0433    0.3230   \n",
       "nan                             679924.0  23153.0    0.0341    0.6415   \n",
       "\n",
       "                               DIST_GOOD     WOE  WOE_check   SHARE  \n",
       "BIN_PERMANENT_OFFICE_COMB_RAT                                        \n",
       "[-inf, 0.7084)                    0.0278 -0.2398    -0.2454  0.0281  \n",
       "[0.7084, inf)                     0.2739 -0.1609    -0.1647  0.2758  \n",
       "nan                               0.6983  0.0826     0.0848  0.6962  "
      ]
     },
     "metadata": {},
     "output_type": "display_data"
    },
    {
     "name": "stdout",
     "output_type": "stream",
     "text": [
      "IV: 0.0148\n",
      "Gini: 5.75\n"
     ]
    },
    {
     "data": {
      "image/png": "[encoded data removed]",
      "text/plain": [
       "<Figure size 720x360 with 2 Axes>"
      ]
     },
     "metadata": {
      "needs_background": "light"
     },
     "output_type": "display_data"
    },
    {
     "data": {
      "text/markdown": [
       "***"
      ],
      "text/plain": [
       "<IPython.core.display.Markdown object>"
      ]
     },
     "metadata": {},
     "output_type": "display_data"
    },
    {
     "data": {
      "text/markdown": [
       "### PERMANENT_RESIDENCE_COMB_RAT"
      ],
      "text/plain": [
       "<IPython.core.display.Markdown object>"
      ]
     },
     "metadata": {},
     "output_type": "display_data"
    },
    {
     "data": {
      "text/html": [
       "<div>\n",
       "<style scoped>\n",
       "    .dataframe tbody tr th:only-of-type {\n",
       "        vertical-align: middle;\n",
       "    }\n",
       "\n",
       "    .dataframe tbody tr th {\n",
       "        vertical-align: top;\n",
       "    }\n",
       "\n",
       "    .dataframe thead th {\n",
       "        text-align: right;\n",
       "    }\n",
       "</style>\n",
       "<table border=\"1\" class=\"dataframe\">\n",
       "  <thead>\n",
       "    <tr style=\"text-align: right;\">\n",
       "      <th></th>\n",
       "      <th>CNT_TOTAL</th>\n",
       "      <th>CNT_DEF</th>\n",
       "      <th>DEF_RATE</th>\n",
       "      <th>DIST_BAD</th>\n",
       "      <th>DIST_GOOD</th>\n",
       "      <th>WOE</th>\n",
       "      <th>WOE_check</th>\n",
       "      <th>SHARE</th>\n",
       "    </tr>\n",
       "    <tr>\n",
       "      <th>BIN_PERMANENT_RESIDENCE_COMB_RAT</th>\n",
       "      <th></th>\n",
       "      <th></th>\n",
       "      <th></th>\n",
       "      <th></th>\n",
       "      <th></th>\n",
       "      <th></th>\n",
       "      <th></th>\n",
       "      <th></th>\n",
       "    </tr>\n",
       "  </thead>\n",
       "  <tbody>\n",
       "    <tr>\n",
       "      <th>[-inf, 0.5834)</th>\n",
       "      <td>58749.0</td>\n",
       "      <td>2841.0</td>\n",
       "      <td>0.0484</td>\n",
       "      <td>0.0787</td>\n",
       "      <td>0.0594</td>\n",
       "      <td>-0.2746</td>\n",
       "      <td>-0.2808</td>\n",
       "      <td>0.0602</td>\n",
       "    </tr>\n",
       "    <tr>\n",
       "      <th>[0.5834, 0.875)</th>\n",
       "      <td>14395.0</td>\n",
       "      <td>657.0</td>\n",
       "      <td>0.0456</td>\n",
       "      <td>0.0182</td>\n",
       "      <td>0.0146</td>\n",
       "      <td>-0.2151</td>\n",
       "      <td>-0.2202</td>\n",
       "      <td>0.0147</td>\n",
       "    </tr>\n",
       "    <tr>\n",
       "      <th>[0.875, inf)</th>\n",
       "      <td>825243.0</td>\n",
       "      <td>29898.0</td>\n",
       "      <td>0.0362</td>\n",
       "      <td>0.8284</td>\n",
       "      <td>0.8456</td>\n",
       "      <td>0.0201</td>\n",
       "      <td>0.0206</td>\n",
       "      <td>0.8450</td>\n",
       "    </tr>\n",
       "    <tr>\n",
       "      <th>nan</th>\n",
       "      <td>78257.0</td>\n",
       "      <td>2696.0</td>\n",
       "      <td>0.0345</td>\n",
       "      <td>0.0747</td>\n",
       "      <td>0.0803</td>\n",
       "      <td>0.0709</td>\n",
       "      <td>0.0728</td>\n",
       "      <td>0.0801</td>\n",
       "    </tr>\n",
       "  </tbody>\n",
       "</table>\n",
       "</div>"
      ],
      "text/plain": [
       "                                  CNT_TOTAL  CNT_DEF  DEF_RATE  DIST_BAD  \\\n",
       "BIN_PERMANENT_RESIDENCE_COMB_RAT                                           \n",
       "[-inf, 0.5834)                      58749.0   2841.0    0.0484    0.0787   \n",
       "[0.5834, 0.875)                     14395.0    657.0    0.0456    0.0182   \n",
       "[0.875, inf)                       825243.0  29898.0    0.0362    0.8284   \n",
       "nan                                 78257.0   2696.0    0.0345    0.0747   \n",
       "\n",
       "                                  DIST_GOOD     WOE  WOE_check   SHARE  \n",
       "BIN_PERMANENT_RESIDENCE_COMB_RAT                                        \n",
       "[-inf, 0.5834)                       0.0594 -0.2746    -0.2808  0.0602  \n",
       "[0.5834, 0.875)                      0.0146 -0.2151    -0.2202  0.0147  \n",
       "[0.875, inf)                         0.8456  0.0201     0.0206  0.8450  \n",
       "nan                                  0.0803  0.0709     0.0728  0.0801  "
      ]
     },
     "metadata": {},
     "output_type": "display_data"
    },
    {
     "name": "stdout",
     "output_type": "stream",
     "text": [
      "IV: 0.0070\n",
      "Gini: 2.63\n"
     ]
    },
    {
     "data": {
      "image/png": "[encoded data removed]",
      "text/plain": [
       "<Figure size 720x360 with 2 Axes>"
      ]
     },
     "metadata": {
      "needs_background": "light"
     },
     "output_type": "display_data"
    },
    {
     "data": {
      "text/markdown": [
       "***"
      ],
      "text/plain": [
       "<IPython.core.display.Markdown object>"
      ]
     },
     "metadata": {},
     "output_type": "display_data"
    },
    {
     "data": {
      "text/markdown": [
       "### PERMANENT_ZIPCODE_ADDRESS_RAT"
      ],
      "text/plain": [
       "<IPython.core.display.Markdown object>"
      ]
     },
     "metadata": {},
     "output_type": "display_data"
    },
    {
     "data": {
      "text/html": [
       "<div>\n",
       "<style scoped>\n",
       "    .dataframe tbody tr th:only-of-type {\n",
       "        vertical-align: middle;\n",
       "    }\n",
       "\n",
       "    .dataframe tbody tr th {\n",
       "        vertical-align: top;\n",
       "    }\n",
       "\n",
       "    .dataframe thead th {\n",
       "        text-align: right;\n",
       "    }\n",
       "</style>\n",
       "<table border=\"1\" class=\"dataframe\">\n",
       "  <thead>\n",
       "    <tr style=\"text-align: right;\">\n",
       "      <th></th>\n",
       "      <th>CNT_TOTAL</th>\n",
       "      <th>CNT_DEF</th>\n",
       "      <th>DEF_RATE</th>\n",
       "      <th>DIST_BAD</th>\n",
       "      <th>DIST_GOOD</th>\n",
       "      <th>WOE</th>\n",
       "      <th>WOE_check</th>\n",
       "      <th>SHARE</th>\n",
       "    </tr>\n",
       "    <tr>\n",
       "      <th>BIN_PERMANENT_ZIPCODE_ADDRESS_RAT</th>\n",
       "      <th></th>\n",
       "      <th></th>\n",
       "      <th></th>\n",
       "      <th></th>\n",
       "      <th></th>\n",
       "      <th></th>\n",
       "      <th></th>\n",
       "      <th></th>\n",
       "    </tr>\n",
       "  </thead>\n",
       "  <tbody>\n",
       "    <tr>\n",
       "      <th>[-inf, 0.7084)</th>\n",
       "      <td>16419.0</td>\n",
       "      <td>849.0</td>\n",
       "      <td>0.0517</td>\n",
       "      <td>0.0235</td>\n",
       "      <td>0.0166</td>\n",
       "      <td>-0.3438</td>\n",
       "      <td>-0.3514</td>\n",
       "      <td>0.0168</td>\n",
       "    </tr>\n",
       "    <tr>\n",
       "      <th>[0.7084, inf)</th>\n",
       "      <td>157584.0</td>\n",
       "      <td>7228.0</td>\n",
       "      <td>0.0459</td>\n",
       "      <td>0.2003</td>\n",
       "      <td>0.1599</td>\n",
       "      <td>-0.2202</td>\n",
       "      <td>-0.2254</td>\n",
       "      <td>0.1614</td>\n",
       "    </tr>\n",
       "    <tr>\n",
       "      <th>nan</th>\n",
       "      <td>802641.0</td>\n",
       "      <td>28015.0</td>\n",
       "      <td>0.0349</td>\n",
       "      <td>0.7762</td>\n",
       "      <td>0.8236</td>\n",
       "      <td>0.0577</td>\n",
       "      <td>0.0592</td>\n",
       "      <td>0.8218</td>\n",
       "    </tr>\n",
       "  </tbody>\n",
       "</table>\n",
       "</div>"
      ],
      "text/plain": [
       "                                   CNT_TOTAL  CNT_DEF  DEF_RATE  DIST_BAD  \\\n",
       "BIN_PERMANENT_ZIPCODE_ADDRESS_RAT                                           \n",
       "[-inf, 0.7084)                       16419.0    849.0    0.0517    0.0235   \n",
       "[0.7084, inf)                       157584.0   7228.0    0.0459    0.2003   \n",
       "nan                                 802641.0  28015.0    0.0349    0.7762   \n",
       "\n",
       "                                   DIST_GOOD     WOE  WOE_check   SHARE  \n",
       "BIN_PERMANENT_ZIPCODE_ADDRESS_RAT                                        \n",
       "[-inf, 0.7084)                        0.0166 -0.3438    -0.3514  0.0168  \n",
       "[0.7084, inf)                         0.1599 -0.2202    -0.2254  0.1614  \n",
       "nan                                   0.8236  0.0577     0.0592  0.8218  "
      ]
     },
     "metadata": {},
     "output_type": "display_data"
    },
    {
     "name": "stdout",
     "output_type": "stream",
     "text": [
      "IV: 0.0144\n",
      "Gini: 4.78\n"
     ]
    },
    {
     "data": {
      "image/png": "[encoded data removed]",
      "text/plain": [
       "<Figure size 720x360 with 2 Axes>"
      ]
     },
     "metadata": {
      "needs_background": "light"
     },
     "output_type": "display_data"
    },
    {
     "data": {
      "text/markdown": [
       "***"
      ],
      "text/plain": [
       "<IPython.core.display.Markdown object>"
      ]
     },
     "metadata": {},
     "output_type": "display_data"
    },
    {
     "data": {
      "text/markdown": [
       "### PERMANENT_ZIPCODE_CNT"
      ],
      "text/plain": [
       "<IPython.core.display.Markdown object>"
      ]
     },
     "metadata": {},
     "output_type": "display_data"
    },
    {
     "data": {
      "text/html": [
       "<div>\n",
       "<style scoped>\n",
       "    .dataframe tbody tr th:only-of-type {\n",
       "        vertical-align: middle;\n",
       "    }\n",
       "\n",
       "    .dataframe tbody tr th {\n",
       "        vertical-align: top;\n",
       "    }\n",
       "\n",
       "    .dataframe thead th {\n",
       "        text-align: right;\n",
       "    }\n",
       "</style>\n",
       "<table border=\"1\" class=\"dataframe\">\n",
       "  <thead>\n",
       "    <tr style=\"text-align: right;\">\n",
       "      <th></th>\n",
       "      <th>CNT_TOTAL</th>\n",
       "      <th>CNT_DEF</th>\n",
       "      <th>DEF_RATE</th>\n",
       "      <th>DIST_BAD</th>\n",
       "      <th>DIST_GOOD</th>\n",
       "      <th>WOE</th>\n",
       "      <th>WOE_check</th>\n",
       "      <th>SHARE</th>\n",
       "    </tr>\n",
       "    <tr>\n",
       "      <th>BIN_PERMANENT_ZIPCODE_CNT</th>\n",
       "      <th></th>\n",
       "      <th></th>\n",
       "      <th></th>\n",
       "      <th></th>\n",
       "      <th></th>\n",
       "      <th></th>\n",
       "      <th></th>\n",
       "      <th></th>\n",
       "    </tr>\n",
       "  </thead>\n",
       "  <tbody>\n",
       "    <tr>\n",
       "      <th>[-inf, 0.5)</th>\n",
       "      <td>802743.0</td>\n",
       "      <td>28016.0</td>\n",
       "      <td>0.0349</td>\n",
       "      <td>0.7762</td>\n",
       "      <td>0.8237</td>\n",
       "      <td>0.0578</td>\n",
       "      <td>0.0593</td>\n",
       "      <td>0.8219</td>\n",
       "    </tr>\n",
       "    <tr>\n",
       "      <th>[0.5, inf)</th>\n",
       "      <td>173901.0</td>\n",
       "      <td>8076.0</td>\n",
       "      <td>0.0464</td>\n",
       "      <td>0.2238</td>\n",
       "      <td>0.1763</td>\n",
       "      <td>-0.2330</td>\n",
       "      <td>-0.2384</td>\n",
       "      <td>0.1781</td>\n",
       "    </tr>\n",
       "    <tr>\n",
       "      <th>nan</th>\n",
       "      <td>0.0</td>\n",
       "      <td>0.0</td>\n",
       "      <td>NaN</td>\n",
       "      <td>0.0000</td>\n",
       "      <td>0.0000</td>\n",
       "      <td>NaN</td>\n",
       "      <td>-3.2604</td>\n",
       "      <td>0.0000</td>\n",
       "    </tr>\n",
       "  </tbody>\n",
       "</table>\n",
       "</div>"
      ],
      "text/plain": [
       "                           CNT_TOTAL  CNT_DEF  DEF_RATE  DIST_BAD  DIST_GOOD  \\\n",
       "BIN_PERMANENT_ZIPCODE_CNT                                                      \n",
       "[-inf, 0.5)                 802743.0  28016.0    0.0349    0.7762     0.8237   \n",
       "[0.5, inf)                  173901.0   8076.0    0.0464    0.2238     0.1763   \n",
       "nan                              0.0      0.0       NaN    0.0000     0.0000   \n",
       "\n",
       "                              WOE  WOE_check   SHARE  \n",
       "BIN_PERMANENT_ZIPCODE_CNT                             \n",
       "[-inf, 0.5)                0.0578     0.0593  0.8219  \n",
       "[0.5, inf)                -0.2330    -0.2384  0.1781  \n",
       "nan                           NaN    -3.2604  0.0000  "
      ]
     },
     "metadata": {},
     "output_type": "display_data"
    },
    {
     "name": "stdout",
     "output_type": "stream",
     "text": [
      "IV: 0.0141\n",
      "Gini: 4.75\n"
     ]
    },
    {
     "data": {
      "image/png": "[encoded data removed]",
      "text/plain": [
       "<Figure size 720x360 with 2 Axes>"
      ]
     },
     "metadata": {
      "needs_background": "light"
     },
     "output_type": "display_data"
    },
    {
     "data": {
      "text/markdown": [
       "***"
      ],
      "text/plain": [
       "<IPython.core.display.Markdown object>"
      ]
     },
     "metadata": {},
     "output_type": "display_data"
    },
    {
     "data": {
      "text/markdown": [
       "### RESIDENCE_ADDRESS_CNT"
      ],
      "text/plain": [
       "<IPython.core.display.Markdown object>"
      ]
     },
     "metadata": {},
     "output_type": "display_data"
    },
    {
     "data": {
      "text/html": [
       "<div>\n",
       "<style scoped>\n",
       "    .dataframe tbody tr th:only-of-type {\n",
       "        vertical-align: middle;\n",
       "    }\n",
       "\n",
       "    .dataframe tbody tr th {\n",
       "        vertical-align: top;\n",
       "    }\n",
       "\n",
       "    .dataframe thead th {\n",
       "        text-align: right;\n",
       "    }\n",
       "</style>\n",
       "<table border=\"1\" class=\"dataframe\">\n",
       "  <thead>\n",
       "    <tr style=\"text-align: right;\">\n",
       "      <th></th>\n",
       "      <th>CNT_TOTAL</th>\n",
       "      <th>CNT_DEF</th>\n",
       "      <th>DEF_RATE</th>\n",
       "      <th>DIST_BAD</th>\n",
       "      <th>DIST_GOOD</th>\n",
       "      <th>WOE</th>\n",
       "      <th>WOE_check</th>\n",
       "      <th>SHARE</th>\n",
       "    </tr>\n",
       "    <tr>\n",
       "      <th>BIN_RESIDENCE_ADDRESS_CNT</th>\n",
       "      <th></th>\n",
       "      <th></th>\n",
       "      <th></th>\n",
       "      <th></th>\n",
       "      <th></th>\n",
       "      <th></th>\n",
       "      <th></th>\n",
       "      <th></th>\n",
       "    </tr>\n",
       "  </thead>\n",
       "  <tbody>\n",
       "    <tr>\n",
       "      <th>[-inf, 0.5)</th>\n",
       "      <td>151299.0</td>\n",
       "      <td>6077.0</td>\n",
       "      <td>0.0402</td>\n",
       "      <td>0.1684</td>\n",
       "      <td>0.1544</td>\n",
       "      <td>-0.0845</td>\n",
       "      <td>-0.0866</td>\n",
       "      <td>0.1549</td>\n",
       "    </tr>\n",
       "    <tr>\n",
       "      <th>[0.5, 1.5)</th>\n",
       "      <td>728426.0</td>\n",
       "      <td>25765.0</td>\n",
       "      <td>0.0354</td>\n",
       "      <td>0.7139</td>\n",
       "      <td>0.7471</td>\n",
       "      <td>0.0443</td>\n",
       "      <td>0.0455</td>\n",
       "      <td>0.7458</td>\n",
       "    </tr>\n",
       "    <tr>\n",
       "      <th>[1.5, inf)</th>\n",
       "      <td>96919.0</td>\n",
       "      <td>4250.0</td>\n",
       "      <td>0.0439</td>\n",
       "      <td>0.1178</td>\n",
       "      <td>0.0985</td>\n",
       "      <td>-0.1741</td>\n",
       "      <td>-0.1783</td>\n",
       "      <td>0.0992</td>\n",
       "    </tr>\n",
       "    <tr>\n",
       "      <th>nan</th>\n",
       "      <td>0.0</td>\n",
       "      <td>0.0</td>\n",
       "      <td>NaN</td>\n",
       "      <td>0.0000</td>\n",
       "      <td>0.0000</td>\n",
       "      <td>NaN</td>\n",
       "      <td>-3.2604</td>\n",
       "      <td>0.0000</td>\n",
       "    </tr>\n",
       "  </tbody>\n",
       "</table>\n",
       "</div>"
      ],
      "text/plain": [
       "                           CNT_TOTAL  CNT_DEF  DEF_RATE  DIST_BAD  DIST_GOOD  \\\n",
       "BIN_RESIDENCE_ADDRESS_CNT                                                      \n",
       "[-inf, 0.5)                 151299.0   6077.0    0.0402    0.1684     0.1544   \n",
       "[0.5, 1.5)                  728426.0  25765.0    0.0354    0.7139     0.7471   \n",
       "[1.5, inf)                   96919.0   4250.0    0.0439    0.1178     0.0985   \n",
       "nan                              0.0      0.0       NaN    0.0000     0.0000   \n",
       "\n",
       "                              WOE  WOE_check   SHARE  \n",
       "BIN_RESIDENCE_ADDRESS_CNT                             \n",
       "[-inf, 0.5)               -0.0845    -0.0866  0.1549  \n",
       "[0.5, 1.5)                 0.0443     0.0455  0.7458  \n",
       "[1.5, inf)                -0.1741    -0.1783  0.0992  \n",
       "nan                           NaN    -3.2604  0.0000  "
      ]
     },
     "metadata": {},
     "output_type": "display_data"
    },
    {
     "name": "stdout",
     "output_type": "stream",
     "text": [
      "IV: 0.0061\n",
      "Gini: 3.48\n"
     ]
    },
    {
     "data": {
      "image/png": "[encoded data removed]",
      "text/plain": [
       "<Figure size 720x360 with 2 Axes>"
      ]
     },
     "metadata": {
      "needs_background": "light"
     },
     "output_type": "display_data"
    },
    {
     "data": {
      "text/markdown": [
       "***"
      ],
      "text/plain": [
       "<IPython.core.display.Markdown object>"
      ]
     },
     "metadata": {},
     "output_type": "display_data"
    },
    {
     "data": {
      "text/markdown": [
       "### RESIDENCE_ADDRESS_PCT"
      ],
      "text/plain": [
       "<IPython.core.display.Markdown object>"
      ]
     },
     "metadata": {},
     "output_type": "display_data"
    },
    {
     "data": {
      "text/html": [
       "<div>\n",
       "<style scoped>\n",
       "    .dataframe tbody tr th:only-of-type {\n",
       "        vertical-align: middle;\n",
       "    }\n",
       "\n",
       "    .dataframe tbody tr th {\n",
       "        vertical-align: top;\n",
       "    }\n",
       "\n",
       "    .dataframe thead th {\n",
       "        text-align: right;\n",
       "    }\n",
       "</style>\n",
       "<table border=\"1\" class=\"dataframe\">\n",
       "  <thead>\n",
       "    <tr style=\"text-align: right;\">\n",
       "      <th></th>\n",
       "      <th>CNT_TOTAL</th>\n",
       "      <th>CNT_DEF</th>\n",
       "      <th>DEF_RATE</th>\n",
       "      <th>DIST_BAD</th>\n",
       "      <th>DIST_GOOD</th>\n",
       "      <th>WOE</th>\n",
       "      <th>WOE_check</th>\n",
       "      <th>SHARE</th>\n",
       "    </tr>\n",
       "    <tr>\n",
       "      <th>BIN_RESIDENCE_ADDRESS_PCT</th>\n",
       "      <th></th>\n",
       "      <th></th>\n",
       "      <th></th>\n",
       "      <th></th>\n",
       "      <th></th>\n",
       "      <th></th>\n",
       "      <th></th>\n",
       "      <th></th>\n",
       "    </tr>\n",
       "  </thead>\n",
       "  <tbody>\n",
       "    <tr>\n",
       "      <th>[-inf, 0.125)</th>\n",
       "      <td>151299.0</td>\n",
       "      <td>6077.0</td>\n",
       "      <td>0.0402</td>\n",
       "      <td>0.1684</td>\n",
       "      <td>0.1544</td>\n",
       "      <td>-0.0845</td>\n",
       "      <td>-0.0866</td>\n",
       "      <td>0.1549</td>\n",
       "    </tr>\n",
       "    <tr>\n",
       "      <th>[0.125, 0.875)</th>\n",
       "      <td>243582.0</td>\n",
       "      <td>10290.0</td>\n",
       "      <td>0.0422</td>\n",
       "      <td>0.2851</td>\n",
       "      <td>0.2480</td>\n",
       "      <td>-0.1360</td>\n",
       "      <td>-0.1393</td>\n",
       "      <td>0.2494</td>\n",
       "    </tr>\n",
       "    <tr>\n",
       "      <th>[0.875, inf)</th>\n",
       "      <td>581763.0</td>\n",
       "      <td>19725.0</td>\n",
       "      <td>0.0339</td>\n",
       "      <td>0.5465</td>\n",
       "      <td>0.5976</td>\n",
       "      <td>0.0869</td>\n",
       "      <td>0.0893</td>\n",
       "      <td>0.5957</td>\n",
       "    </tr>\n",
       "    <tr>\n",
       "      <th>nan</th>\n",
       "      <td>0.0</td>\n",
       "      <td>0.0</td>\n",
       "      <td>NaN</td>\n",
       "      <td>0.0000</td>\n",
       "      <td>0.0000</td>\n",
       "      <td>NaN</td>\n",
       "      <td>-3.2604</td>\n",
       "      <td>0.0000</td>\n",
       "    </tr>\n",
       "  </tbody>\n",
       "</table>\n",
       "</div>"
      ],
      "text/plain": [
       "                           CNT_TOTAL  CNT_DEF  DEF_RATE  DIST_BAD  DIST_GOOD  \\\n",
       "BIN_RESIDENCE_ADDRESS_PCT                                                      \n",
       "[-inf, 0.125)               151299.0   6077.0    0.0402    0.1684     0.1544   \n",
       "[0.125, 0.875)              243582.0  10290.0    0.0422    0.2851     0.2480   \n",
       "[0.875, inf)                581763.0  19725.0    0.0339    0.5465     0.5976   \n",
       "nan                              0.0      0.0       NaN    0.0000     0.0000   \n",
       "\n",
       "                              WOE  WOE_check   SHARE  \n",
       "BIN_RESIDENCE_ADDRESS_PCT                             \n",
       "[-inf, 0.125)             -0.0845    -0.0866  0.1549  \n",
       "[0.125, 0.875)            -0.1360    -0.1393  0.2494  \n",
       "[0.875, inf)               0.0869     0.0893  0.5957  \n",
       "nan                           NaN    -3.2604  0.0000  "
      ]
     },
     "metadata": {},
     "output_type": "display_data"
    },
    {
     "name": "stdout",
     "output_type": "stream",
     "text": [
      "IV: 0.0109\n",
      "Gini: 5.33\n"
     ]
    },
    {
     "data": {
      "image/png": "[encoded data removed]",
      "text/plain": [
       "<Figure size 720x360 with 2 Axes>"
      ]
     },
     "metadata": {
      "needs_background": "light"
     },
     "output_type": "display_data"
    },
    {
     "data": {
      "text/markdown": [
       "***"
      ],
      "text/plain": [
       "<IPython.core.display.Markdown object>"
      ]
     },
     "metadata": {},
     "output_type": "display_data"
    },
    {
     "data": {
      "text/markdown": [
       "### RESIDENCE_ZIPCODE_ADDRESS_RAT"
      ],
      "text/plain": [
       "<IPython.core.display.Markdown object>"
      ]
     },
     "metadata": {},
     "output_type": "display_data"
    },
    {
     "data": {
      "text/html": [
       "<div>\n",
       "<style scoped>\n",
       "    .dataframe tbody tr th:only-of-type {\n",
       "        vertical-align: middle;\n",
       "    }\n",
       "\n",
       "    .dataframe tbody tr th {\n",
       "        vertical-align: top;\n",
       "    }\n",
       "\n",
       "    .dataframe thead th {\n",
       "        text-align: right;\n",
       "    }\n",
       "</style>\n",
       "<table border=\"1\" class=\"dataframe\">\n",
       "  <thead>\n",
       "    <tr style=\"text-align: right;\">\n",
       "      <th></th>\n",
       "      <th>CNT_TOTAL</th>\n",
       "      <th>CNT_DEF</th>\n",
       "      <th>DEF_RATE</th>\n",
       "      <th>DIST_BAD</th>\n",
       "      <th>DIST_GOOD</th>\n",
       "      <th>WOE</th>\n",
       "      <th>WOE_check</th>\n",
       "      <th>SHARE</th>\n",
       "    </tr>\n",
       "    <tr>\n",
       "      <th>BIN_RESIDENCE_ZIPCODE_ADDRESS_RAT</th>\n",
       "      <th></th>\n",
       "      <th></th>\n",
       "      <th></th>\n",
       "      <th></th>\n",
       "      <th></th>\n",
       "      <th></th>\n",
       "      <th></th>\n",
       "      <th></th>\n",
       "    </tr>\n",
       "  </thead>\n",
       "  <tbody>\n",
       "    <tr>\n",
       "      <th>[-inf, 0.875)</th>\n",
       "      <td>59913.0</td>\n",
       "      <td>2671.0</td>\n",
       "      <td>0.0446</td>\n",
       "      <td>0.0740</td>\n",
       "      <td>0.0609</td>\n",
       "      <td>-0.1910</td>\n",
       "      <td>-0.1956</td>\n",
       "      <td>0.0613</td>\n",
       "    </tr>\n",
       "    <tr>\n",
       "      <th>[0.875, inf)</th>\n",
       "      <td>765432.0</td>\n",
       "      <td>27344.0</td>\n",
       "      <td>0.0357</td>\n",
       "      <td>0.7576</td>\n",
       "      <td>0.7847</td>\n",
       "      <td>0.0343</td>\n",
       "      <td>0.0352</td>\n",
       "      <td>0.7837</td>\n",
       "    </tr>\n",
       "    <tr>\n",
       "      <th>nan</th>\n",
       "      <td>151299.0</td>\n",
       "      <td>6077.0</td>\n",
       "      <td>0.0402</td>\n",
       "      <td>0.1684</td>\n",
       "      <td>0.1544</td>\n",
       "      <td>-0.0845</td>\n",
       "      <td>-0.0866</td>\n",
       "      <td>0.1549</td>\n",
       "    </tr>\n",
       "  </tbody>\n",
       "</table>\n",
       "</div>"
      ],
      "text/plain": [
       "                                   CNT_TOTAL  CNT_DEF  DEF_RATE  DIST_BAD  \\\n",
       "BIN_RESIDENCE_ZIPCODE_ADDRESS_RAT                                           \n",
       "[-inf, 0.875)                        59913.0   2671.0    0.0446    0.0740   \n",
       "[0.875, inf)                        765432.0  27344.0    0.0357    0.7576   \n",
       "nan                                 151299.0   6077.0    0.0402    0.1684   \n",
       "\n",
       "                                   DIST_GOOD     WOE  WOE_check   SHARE  \n",
       "BIN_RESIDENCE_ZIPCODE_ADDRESS_RAT                                        \n",
       "[-inf, 0.875)                         0.0609 -0.1910    -0.1956  0.0613  \n",
       "[0.875, inf)                          0.7847  0.0343     0.0352  0.7837  \n",
       "nan                                   0.1544 -0.0845    -0.0866  0.1549  "
      ]
     },
     "metadata": {},
     "output_type": "display_data"
    },
    {
     "name": "stdout",
     "output_type": "stream",
     "text": [
      "IV: 0.0047\n",
      "Gini: 2.83\n"
     ]
    },
    {
     "data": {
      "image/png": "[encoded data removed]",
      "text/plain": [
       "<Figure size 720x360 with 2 Axes>"
      ]
     },
     "metadata": {
      "needs_background": "light"
     },
     "output_type": "display_data"
    },
    {
     "data": {
      "text/markdown": [
       "***"
      ],
      "text/plain": [
       "<IPython.core.display.Markdown object>"
      ]
     },
     "metadata": {},
     "output_type": "display_data"
    },
    {
     "data": {
      "text/markdown": [
       "### RESIDENCE_ZIPCODE_CNT"
      ],
      "text/plain": [
       "<IPython.core.display.Markdown object>"
      ]
     },
     "metadata": {},
     "output_type": "display_data"
    },
    {
     "data": {
      "text/html": [
       "<div>\n",
       "<style scoped>\n",
       "    .dataframe tbody tr th:only-of-type {\n",
       "        vertical-align: middle;\n",
       "    }\n",
       "\n",
       "    .dataframe tbody tr th {\n",
       "        vertical-align: top;\n",
       "    }\n",
       "\n",
       "    .dataframe thead th {\n",
       "        text-align: right;\n",
       "    }\n",
       "</style>\n",
       "<table border=\"1\" class=\"dataframe\">\n",
       "  <thead>\n",
       "    <tr style=\"text-align: right;\">\n",
       "      <th></th>\n",
       "      <th>CNT_TOTAL</th>\n",
       "      <th>CNT_DEF</th>\n",
       "      <th>DEF_RATE</th>\n",
       "      <th>DIST_BAD</th>\n",
       "      <th>DIST_GOOD</th>\n",
       "      <th>WOE</th>\n",
       "      <th>WOE_check</th>\n",
       "      <th>SHARE</th>\n",
       "    </tr>\n",
       "    <tr>\n",
       "      <th>BIN_RESIDENCE_ZIPCODE_CNT</th>\n",
       "      <th></th>\n",
       "      <th></th>\n",
       "      <th></th>\n",
       "      <th></th>\n",
       "      <th></th>\n",
       "      <th></th>\n",
       "      <th></th>\n",
       "      <th></th>\n",
       "    </tr>\n",
       "  </thead>\n",
       "  <tbody>\n",
       "    <tr>\n",
       "      <th>[-inf, 0.5)</th>\n",
       "      <td>151311.0</td>\n",
       "      <td>6077.0</td>\n",
       "      <td>0.0402</td>\n",
       "      <td>0.1684</td>\n",
       "      <td>0.1544</td>\n",
       "      <td>-0.0845</td>\n",
       "      <td>-0.0866</td>\n",
       "      <td>0.1549</td>\n",
       "    </tr>\n",
       "    <tr>\n",
       "      <th>[0.5, 1.5)</th>\n",
       "      <td>780532.0</td>\n",
       "      <td>28101.0</td>\n",
       "      <td>0.0360</td>\n",
       "      <td>0.7786</td>\n",
       "      <td>0.8000</td>\n",
       "      <td>0.0264</td>\n",
       "      <td>0.0271</td>\n",
       "      <td>0.7992</td>\n",
       "    </tr>\n",
       "    <tr>\n",
       "      <th>[1.5, inf)</th>\n",
       "      <td>44801.0</td>\n",
       "      <td>1914.0</td>\n",
       "      <td>0.0427</td>\n",
       "      <td>0.0530</td>\n",
       "      <td>0.0456</td>\n",
       "      <td>-0.1475</td>\n",
       "      <td>-0.1510</td>\n",
       "      <td>0.0459</td>\n",
       "    </tr>\n",
       "    <tr>\n",
       "      <th>nan</th>\n",
       "      <td>0.0</td>\n",
       "      <td>0.0</td>\n",
       "      <td>NaN</td>\n",
       "      <td>0.0000</td>\n",
       "      <td>0.0000</td>\n",
       "      <td>NaN</td>\n",
       "      <td>-3.2604</td>\n",
       "      <td>0.0000</td>\n",
       "    </tr>\n",
       "  </tbody>\n",
       "</table>\n",
       "</div>"
      ],
      "text/plain": [
       "                           CNT_TOTAL  CNT_DEF  DEF_RATE  DIST_BAD  DIST_GOOD  \\\n",
       "BIN_RESIDENCE_ZIPCODE_CNT                                                      \n",
       "[-inf, 0.5)                 151311.0   6077.0    0.0402    0.1684     0.1544   \n",
       "[0.5, 1.5)                  780532.0  28101.0    0.0360    0.7786     0.8000   \n",
       "[1.5, inf)                   44801.0   1914.0    0.0427    0.0530     0.0456   \n",
       "nan                              0.0      0.0       NaN    0.0000     0.0000   \n",
       "\n",
       "                              WOE  WOE_check   SHARE  \n",
       "BIN_RESIDENCE_ZIPCODE_CNT                             \n",
       "[-inf, 0.5)               -0.0845    -0.0866  0.1549  \n",
       "[0.5, 1.5)                 0.0264     0.0271  0.7992  \n",
       "[1.5, inf)                -0.1475    -0.1510  0.0459  \n",
       "nan                           NaN    -3.2604  0.0000  "
      ]
     },
     "metadata": {},
     "output_type": "display_data"
    },
    {
     "name": "stdout",
     "output_type": "stream",
     "text": [
      "IV: 0.0029\n",
      "Gini: 2.19\n"
     ]
    },
    {
     "data": {
      "image/png": "[encoded data removed]",
      "text/plain": [
       "<Figure size 720x360 with 2 Axes>"
      ]
     },
     "metadata": {
      "needs_background": "light"
     },
     "output_type": "display_data"
    },
    {
     "data": {
      "text/markdown": [
       "***"
      ],
      "text/plain": [
       "<IPython.core.display.Markdown object>"
      ]
     },
     "metadata": {},
     "output_type": "display_data"
    },
    {
     "data": {
      "text/markdown": [
       "### RESIDENT_OFFICE_COMB_RAT"
      ],
      "text/plain": [
       "<IPython.core.display.Markdown object>"
      ]
     },
     "metadata": {},
     "output_type": "display_data"
    },
    {
     "data": {
      "text/html": [
       "<div>\n",
       "<style scoped>\n",
       "    .dataframe tbody tr th:only-of-type {\n",
       "        vertical-align: middle;\n",
       "    }\n",
       "\n",
       "    .dataframe tbody tr th {\n",
       "        vertical-align: top;\n",
       "    }\n",
       "\n",
       "    .dataframe thead th {\n",
       "        text-align: right;\n",
       "    }\n",
       "</style>\n",
       "<table border=\"1\" class=\"dataframe\">\n",
       "  <thead>\n",
       "    <tr style=\"text-align: right;\">\n",
       "      <th></th>\n",
       "      <th>CNT_TOTAL</th>\n",
       "      <th>CNT_DEF</th>\n",
       "      <th>DEF_RATE</th>\n",
       "      <th>DIST_BAD</th>\n",
       "      <th>DIST_GOOD</th>\n",
       "      <th>WOE</th>\n",
       "      <th>WOE_check</th>\n",
       "      <th>SHARE</th>\n",
       "    </tr>\n",
       "    <tr>\n",
       "      <th>BIN_RESIDENT_OFFICE_COMB_RAT</th>\n",
       "      <th></th>\n",
       "      <th></th>\n",
       "      <th></th>\n",
       "      <th></th>\n",
       "      <th></th>\n",
       "      <th></th>\n",
       "      <th></th>\n",
       "      <th></th>\n",
       "    </tr>\n",
       "  </thead>\n",
       "  <tbody>\n",
       "    <tr>\n",
       "      <th>[-inf, 0.5834)</th>\n",
       "      <td>58811.0</td>\n",
       "      <td>2576.0</td>\n",
       "      <td>0.0438</td>\n",
       "      <td>0.0714</td>\n",
       "      <td>0.0598</td>\n",
       "      <td>-0.1730</td>\n",
       "      <td>-0.1771</td>\n",
       "      <td>0.0602</td>\n",
       "    </tr>\n",
       "    <tr>\n",
       "      <th>[0.5834, 0.875)</th>\n",
       "      <td>17837.0</td>\n",
       "      <td>790.0</td>\n",
       "      <td>0.0443</td>\n",
       "      <td>0.0219</td>\n",
       "      <td>0.0181</td>\n",
       "      <td>-0.1843</td>\n",
       "      <td>-0.1887</td>\n",
       "      <td>0.0183</td>\n",
       "    </tr>\n",
       "    <tr>\n",
       "      <th>[0.875, inf)</th>\n",
       "      <td>782591.0</td>\n",
       "      <td>27961.0</td>\n",
       "      <td>0.0357</td>\n",
       "      <td>0.7747</td>\n",
       "      <td>0.8023</td>\n",
       "      <td>0.0341</td>\n",
       "      <td>0.0350</td>\n",
       "      <td>0.8013</td>\n",
       "    </tr>\n",
       "    <tr>\n",
       "      <th>nan</th>\n",
       "      <td>117405.0</td>\n",
       "      <td>4765.0</td>\n",
       "      <td>0.0406</td>\n",
       "      <td>0.1320</td>\n",
       "      <td>0.1198</td>\n",
       "      <td>-0.0951</td>\n",
       "      <td>-0.0975</td>\n",
       "      <td>0.1202</td>\n",
       "    </tr>\n",
       "  </tbody>\n",
       "</table>\n",
       "</div>"
      ],
      "text/plain": [
       "                              CNT_TOTAL  CNT_DEF  DEF_RATE  DIST_BAD  \\\n",
       "BIN_RESIDENT_OFFICE_COMB_RAT                                           \n",
       "[-inf, 0.5834)                  58811.0   2576.0    0.0438    0.0714   \n",
       "[0.5834, 0.875)                 17837.0    790.0    0.0443    0.0219   \n",
       "[0.875, inf)                   782591.0  27961.0    0.0357    0.7747   \n",
       "nan                            117405.0   4765.0    0.0406    0.1320   \n",
       "\n",
       "                              DIST_GOOD     WOE  WOE_check   SHARE  \n",
       "BIN_RESIDENT_OFFICE_COMB_RAT                                        \n",
       "[-inf, 0.5834)                   0.0598 -0.1730    -0.1771  0.0602  \n",
       "[0.5834, 0.875)                  0.0181 -0.1843    -0.1887  0.0183  \n",
       "[0.875, inf)                     0.8023  0.0341     0.0350  0.8013  \n",
       "nan                              0.1198 -0.0951    -0.0975  0.1202  "
      ]
     },
     "metadata": {},
     "output_type": "display_data"
    },
    {
     "name": "stdout",
     "output_type": "stream",
     "text": [
      "IV: 0.0049\n",
      "Gini: 2.85\n"
     ]
    },
    {
     "data": {
      "image/png": "[encoded data removed]",
      "text/plain": [
       "<Figure size 720x360 with 2 Axes>"
      ]
     },
     "metadata": {
      "needs_background": "light"
     },
     "output_type": "display_data"
    },
    {
     "data": {
      "text/markdown": [
       "***"
      ],
      "text/plain": [
       "<IPython.core.display.Markdown object>"
      ]
     },
     "metadata": {},
     "output_type": "display_data"
    },
    {
     "data": {
      "text/markdown": [
       "### RISK_SCORE"
      ],
      "text/plain": [
       "<IPython.core.display.Markdown object>"
      ]
     },
     "metadata": {},
     "output_type": "display_data"
    },
    {
     "data": {
      "text/html": [
       "<div>\n",
       "<style scoped>\n",
       "    .dataframe tbody tr th:only-of-type {\n",
       "        vertical-align: middle;\n",
       "    }\n",
       "\n",
       "    .dataframe tbody tr th {\n",
       "        vertical-align: top;\n",
       "    }\n",
       "\n",
       "    .dataframe thead th {\n",
       "        text-align: right;\n",
       "    }\n",
       "</style>\n",
       "<table border=\"1\" class=\"dataframe\">\n",
       "  <thead>\n",
       "    <tr style=\"text-align: right;\">\n",
       "      <th></th>\n",
       "      <th>CNT_TOTAL</th>\n",
       "      <th>CNT_DEF</th>\n",
       "      <th>DEF_RATE</th>\n",
       "      <th>DIST_BAD</th>\n",
       "      <th>DIST_GOOD</th>\n",
       "      <th>WOE</th>\n",
       "      <th>WOE_check</th>\n",
       "      <th>SHARE</th>\n",
       "    </tr>\n",
       "    <tr>\n",
       "      <th>BIN_RISK_SCORE</th>\n",
       "      <th></th>\n",
       "      <th></th>\n",
       "      <th></th>\n",
       "      <th></th>\n",
       "      <th></th>\n",
       "      <th></th>\n",
       "      <th></th>\n",
       "      <th></th>\n",
       "    </tr>\n",
       "  </thead>\n",
       "  <tbody>\n",
       "    <tr>\n",
       "      <th>[-inf, 0.01008)</th>\n",
       "      <td>640705.0</td>\n",
       "      <td>14764.0</td>\n",
       "      <td>0.0230</td>\n",
       "      <td>0.4091</td>\n",
       "      <td>0.6655</td>\n",
       "      <td>0.4709</td>\n",
       "      <td>0.4867</td>\n",
       "      <td>0.656</td>\n",
       "    </tr>\n",
       "    <tr>\n",
       "      <th>[0.01008, 0.02011)</th>\n",
       "      <td>280269.0</td>\n",
       "      <td>16109.0</td>\n",
       "      <td>0.0575</td>\n",
       "      <td>0.4463</td>\n",
       "      <td>0.2809</td>\n",
       "      <td>-0.4537</td>\n",
       "      <td>-0.4632</td>\n",
       "      <td>0.287</td>\n",
       "    </tr>\n",
       "    <tr>\n",
       "      <th>[0.02011, inf)</th>\n",
       "      <td>55670.0</td>\n",
       "      <td>5219.0</td>\n",
       "      <td>0.0937</td>\n",
       "      <td>0.1446</td>\n",
       "      <td>0.0536</td>\n",
       "      <td>-0.9755</td>\n",
       "      <td>-0.9917</td>\n",
       "      <td>0.057</td>\n",
       "    </tr>\n",
       "    <tr>\n",
       "      <th>nan</th>\n",
       "      <td>0.0</td>\n",
       "      <td>0.0</td>\n",
       "      <td>NaN</td>\n",
       "      <td>0.0000</td>\n",
       "      <td>0.0000</td>\n",
       "      <td>NaN</td>\n",
       "      <td>-3.2604</td>\n",
       "      <td>0.000</td>\n",
       "    </tr>\n",
       "  </tbody>\n",
       "</table>\n",
       "</div>"
      ],
      "text/plain": [
       "                    CNT_TOTAL  CNT_DEF  DEF_RATE  DIST_BAD  DIST_GOOD     WOE  \\\n",
       "BIN_RISK_SCORE                                                                  \n",
       "[-inf, 0.01008)      640705.0  14764.0    0.0230    0.4091     0.6655  0.4709   \n",
       "[0.01008, 0.02011)   280269.0  16109.0    0.0575    0.4463     0.2809 -0.4537   \n",
       "[0.02011, inf)        55670.0   5219.0    0.0937    0.1446     0.0536 -0.9755   \n",
       "nan                       0.0      0.0       NaN    0.0000     0.0000     NaN   \n",
       "\n",
       "                    WOE_check  SHARE  \n",
       "BIN_RISK_SCORE                        \n",
       "[-inf, 0.01008)        0.4867  0.656  \n",
       "[0.01008, 0.02011)    -0.4632  0.287  \n",
       "[0.02011, inf)        -0.9917  0.057  \n",
       "nan                   -3.2604  0.000  "
      ]
     },
     "metadata": {},
     "output_type": "display_data"
    },
    {
     "name": "stdout",
     "output_type": "stream",
     "text": [
      "IV: 0.2917\n",
      "Gini: 27.31\n"
     ]
    },
    {
     "data": {
      "image/png": "[encoded data removed]",
      "text/plain": [
       "<Figure size 720x360 with 2 Axes>"
      ]
     },
     "metadata": {
      "needs_background": "light"
     },
     "output_type": "display_data"
    },
    {
     "data": {
      "text/markdown": [
       "***"
      ],
      "text/plain": [
       "<IPython.core.display.Markdown object>"
      ]
     },
     "metadata": {},
     "output_type": "display_data"
    },
    {
     "data": {
      "text/markdown": [
       "### ZIPCODE_ADDRESS_RAT"
      ],
      "text/plain": [
       "<IPython.core.display.Markdown object>"
      ]
     },
     "metadata": {},
     "output_type": "display_data"
    },
    {
     "data": {
      "text/html": [
       "<div>\n",
       "<style scoped>\n",
       "    .dataframe tbody tr th:only-of-type {\n",
       "        vertical-align: middle;\n",
       "    }\n",
       "\n",
       "    .dataframe tbody tr th {\n",
       "        vertical-align: top;\n",
       "    }\n",
       "\n",
       "    .dataframe thead th {\n",
       "        text-align: right;\n",
       "    }\n",
       "</style>\n",
       "<table border=\"1\" class=\"dataframe\">\n",
       "  <thead>\n",
       "    <tr style=\"text-align: right;\">\n",
       "      <th></th>\n",
       "      <th>CNT_TOTAL</th>\n",
       "      <th>CNT_DEF</th>\n",
       "      <th>DEF_RATE</th>\n",
       "      <th>DIST_BAD</th>\n",
       "      <th>DIST_GOOD</th>\n",
       "      <th>WOE</th>\n",
       "      <th>WOE_check</th>\n",
       "      <th>SHARE</th>\n",
       "    </tr>\n",
       "    <tr>\n",
       "      <th>BIN_ZIPCODE_ADDRESS_RAT</th>\n",
       "      <th></th>\n",
       "      <th></th>\n",
       "      <th></th>\n",
       "      <th></th>\n",
       "      <th></th>\n",
       "      <th></th>\n",
       "      <th></th>\n",
       "      <th></th>\n",
       "    </tr>\n",
       "  </thead>\n",
       "  <tbody>\n",
       "    <tr>\n",
       "      <th>[-inf, 0.4166)</th>\n",
       "      <td>55286.0</td>\n",
       "      <td>2504.0</td>\n",
       "      <td>0.0453</td>\n",
       "      <td>0.0694</td>\n",
       "      <td>0.0561</td>\n",
       "      <td>-0.2072</td>\n",
       "      <td>-0.2121</td>\n",
       "      <td>0.0566</td>\n",
       "    </tr>\n",
       "    <tr>\n",
       "      <th>[0.4166, 0.875)</th>\n",
       "      <td>198710.0</td>\n",
       "      <td>8317.0</td>\n",
       "      <td>0.0419</td>\n",
       "      <td>0.2304</td>\n",
       "      <td>0.2024</td>\n",
       "      <td>-0.1265</td>\n",
       "      <td>-0.1296</td>\n",
       "      <td>0.2035</td>\n",
       "    </tr>\n",
       "    <tr>\n",
       "      <th>[0.875, inf)</th>\n",
       "      <td>722648.0</td>\n",
       "      <td>25271.0</td>\n",
       "      <td>0.0350</td>\n",
       "      <td>0.7002</td>\n",
       "      <td>0.7415</td>\n",
       "      <td>0.0558</td>\n",
       "      <td>0.0573</td>\n",
       "      <td>0.7399</td>\n",
       "    </tr>\n",
       "    <tr>\n",
       "      <th>nan</th>\n",
       "      <td>0.0</td>\n",
       "      <td>0.0</td>\n",
       "      <td>NaN</td>\n",
       "      <td>0.0000</td>\n",
       "      <td>0.0000</td>\n",
       "      <td>NaN</td>\n",
       "      <td>-3.2604</td>\n",
       "      <td>0.0000</td>\n",
       "    </tr>\n",
       "  </tbody>\n",
       "</table>\n",
       "</div>"
      ],
      "text/plain": [
       "                         CNT_TOTAL  CNT_DEF  DEF_RATE  DIST_BAD  DIST_GOOD  \\\n",
       "BIN_ZIPCODE_ADDRESS_RAT                                                      \n",
       "[-inf, 0.4166)             55286.0   2504.0    0.0453    0.0694     0.0561   \n",
       "[0.4166, 0.875)           198710.0   8317.0    0.0419    0.2304     0.2024   \n",
       "[0.875, inf)              722648.0  25271.0    0.0350    0.7002     0.7415   \n",
       "nan                            0.0      0.0       NaN    0.0000     0.0000   \n",
       "\n",
       "                            WOE  WOE_check   SHARE  \n",
       "BIN_ZIPCODE_ADDRESS_RAT                             \n",
       "[-inf, 0.4166)          -0.2072    -0.2121  0.0566  \n",
       "[0.4166, 0.875)         -0.1265    -0.1296  0.2035  \n",
       "[0.875, inf)             0.0558     0.0573  0.7399  \n",
       "nan                         NaN    -3.2604  0.0000  "
      ]
     },
     "metadata": {},
     "output_type": "display_data"
    },
    {
     "name": "stdout",
     "output_type": "stream",
     "text": [
      "IV: 0.0088\n",
      "Gini: 4.24\n"
     ]
    },
    {
     "data": {
      "image/png": "[encoded data removed]",
      "text/plain": [
       "<Figure size 720x360 with 2 Axes>"
      ]
     },
     "metadata": {
      "needs_background": "light"
     },
     "output_type": "display_data"
    },
    {
     "data": {
      "text/markdown": [
       "***"
      ],
      "text/plain": [
       "<IPython.core.display.Markdown object>"
      ]
     },
     "metadata": {},
     "output_type": "display_data"
    },
    {
     "data": {
      "text/markdown": [
       "### ZIPCODE_CNT"
      ],
      "text/plain": [
       "<IPython.core.display.Markdown object>"
      ]
     },
     "metadata": {},
     "output_type": "display_data"
    },
    {
     "data": {
      "text/html": [
       "<div>\n",
       "<style scoped>\n",
       "    .dataframe tbody tr th:only-of-type {\n",
       "        vertical-align: middle;\n",
       "    }\n",
       "\n",
       "    .dataframe tbody tr th {\n",
       "        vertical-align: top;\n",
       "    }\n",
       "\n",
       "    .dataframe thead th {\n",
       "        text-align: right;\n",
       "    }\n",
       "</style>\n",
       "<table border=\"1\" class=\"dataframe\">\n",
       "  <thead>\n",
       "    <tr style=\"text-align: right;\">\n",
       "      <th></th>\n",
       "      <th>CNT_TOTAL</th>\n",
       "      <th>CNT_DEF</th>\n",
       "      <th>DEF_RATE</th>\n",
       "      <th>DIST_BAD</th>\n",
       "      <th>DIST_GOOD</th>\n",
       "      <th>WOE</th>\n",
       "      <th>WOE_check</th>\n",
       "      <th>SHARE</th>\n",
       "    </tr>\n",
       "    <tr>\n",
       "      <th>BIN_ZIPCODE_CNT</th>\n",
       "      <th></th>\n",
       "      <th></th>\n",
       "      <th></th>\n",
       "      <th></th>\n",
       "      <th></th>\n",
       "      <th></th>\n",
       "      <th></th>\n",
       "      <th></th>\n",
       "    </tr>\n",
       "  </thead>\n",
       "  <tbody>\n",
       "    <tr>\n",
       "      <th>[-inf, 1.5)</th>\n",
       "      <td>776921.0</td>\n",
       "      <td>28082.0</td>\n",
       "      <td>0.0361</td>\n",
       "      <td>0.7781</td>\n",
       "      <td>0.7962</td>\n",
       "      <td>0.0224</td>\n",
       "      <td>0.0230</td>\n",
       "      <td>0.7955</td>\n",
       "    </tr>\n",
       "    <tr>\n",
       "      <th>[1.5, 2.5)</th>\n",
       "      <td>144954.0</td>\n",
       "      <td>5786.0</td>\n",
       "      <td>0.0399</td>\n",
       "      <td>0.1603</td>\n",
       "      <td>0.1480</td>\n",
       "      <td>-0.0782</td>\n",
       "      <td>-0.0802</td>\n",
       "      <td>0.1484</td>\n",
       "    </tr>\n",
       "    <tr>\n",
       "      <th>[2.5, inf)</th>\n",
       "      <td>54769.0</td>\n",
       "      <td>2224.0</td>\n",
       "      <td>0.0406</td>\n",
       "      <td>0.0616</td>\n",
       "      <td>0.0559</td>\n",
       "      <td>-0.0957</td>\n",
       "      <td>-0.0980</td>\n",
       "      <td>0.0561</td>\n",
       "    </tr>\n",
       "    <tr>\n",
       "      <th>nan</th>\n",
       "      <td>0.0</td>\n",
       "      <td>0.0</td>\n",
       "      <td>NaN</td>\n",
       "      <td>0.0000</td>\n",
       "      <td>0.0000</td>\n",
       "      <td>NaN</td>\n",
       "      <td>-3.2604</td>\n",
       "      <td>0.0000</td>\n",
       "    </tr>\n",
       "  </tbody>\n",
       "</table>\n",
       "</div>"
      ],
      "text/plain": [
       "                 CNT_TOTAL  CNT_DEF  DEF_RATE  DIST_BAD  DIST_GOOD     WOE  \\\n",
       "BIN_ZIPCODE_CNT                                                              \n",
       "[-inf, 1.5)       776921.0  28082.0    0.0361    0.7781     0.7962  0.0224   \n",
       "[1.5, 2.5)        144954.0   5786.0    0.0399    0.1603     0.1480 -0.0782   \n",
       "[2.5, inf)         54769.0   2224.0    0.0406    0.0616     0.0559 -0.0957   \n",
       "nan                    0.0      0.0       NaN    0.0000     0.0000     NaN   \n",
       "\n",
       "                 WOE_check   SHARE  \n",
       "BIN_ZIPCODE_CNT                     \n",
       "[-inf, 1.5)         0.0230  0.7955  \n",
       "[1.5, 2.5)         -0.0802  0.1484  \n",
       "[2.5, inf)         -0.0980  0.0561  \n",
       "nan                -3.2604  0.0000  "
      ]
     },
     "metadata": {},
     "output_type": "display_data"
    },
    {
     "name": "stdout",
     "output_type": "stream",
     "text": [
      "IV: 0.0020\n",
      "Gini: 1.83\n"
     ]
    },
    {
     "data": {
      "image/png": "[encoded data removed]",
      "text/plain": [
       "<Figure size 720x360 with 2 Axes>"
      ]
     },
     "metadata": {
      "needs_background": "light"
     },
     "output_type": "display_data"
    }
   ],
   "source": [
    "grouping.plot_bins(data=df_train, cols_pred_num=cols_pred_num, cols_pred_cat=cols_pred_cat,\n",
    "                    mask = pd.Series(df_train[\"RISK_FSTQPD60\"]>=0),col_target=\"RISK_FSTQPD60\", \n",
    "                   output_folder=r\"C:\\Users\\aman.khatri91425\\Desktop\\HomeCredit\\Bigdata\\Common Maps KNN\", col_weight=None)"
   ]
  },
  {
   "cell_type": "code",
   "execution_count": null,
   "metadata": {},
   "outputs": [],
   "source": []
  },
  {
   "cell_type": "code",
   "execution_count": null,
   "metadata": {},
   "outputs": [],
   "source": []
  }
 ],
 "metadata": {
  "kernelspec": {
   "display_name": "Python 3",
   "language": "python",
   "name": "python3"
  },
  "language_info": {
   "codemirror_mode": {
    "name": "ipython",
    "version": 3
   },
   "file_extension": ".py",
   "mimetype": "text/x-python",
   "name": "python",
   "nbconvert_exporter": "python",
   "pygments_lexer": "ipython3",
   "version": "3.7.3"
  }
 },
 "nbformat": 4,
 "nbformat_minor": 2
}
