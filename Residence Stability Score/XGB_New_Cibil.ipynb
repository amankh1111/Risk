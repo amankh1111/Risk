{
 "cells": [
  {
   "cell_type": "code",
   "execution_count": 1,
   "metadata": {},
   "outputs": [],
   "source": [
    "import xgboost as xgb\n",
    "import numpy as np\n",
    "import pandas as pd\n",
    "import time\n",
    "import pickle\n",
    "import os\n",
    "from math import log\n",
    "import matplotlib.pyplot as plt\n",
    "\n",
    "import sklearn\n",
    "from sklearn.model_selection import train_test_split, GridSearchCV, RandomizedSearchCV, ParameterGrid,StratifiedKFold, cross_val_score\n",
    "\n",
    "from sklearn import metrics \n",
    "from sklearn.metrics import confusion_matrix, precision_recall_curve, average_precision_score, brier_score_loss, f1_score, log_loss,auc,roc_curve,auc\n",
    "\n",
    "from sklearn.linear_model import LogisticRegression, LogisticRegressionCV\n",
    "from sklearn.ensemble import RandomForestClassifier\n",
    "\n",
    "from sklearn.decomposition import PCA\n",
    "#from sklearn.utils.fixes import signature\n",
    "\n",
    "from datetime import datetime\n",
    "\n",
    "import warnings\n",
    "warnings.filterwarnings(\"ignore\", category=DeprecationWarning)"
   ]
  },
  {
   "cell_type": "code",
   "execution_count": 2,
   "metadata": {},
   "outputs": [],
   "source": [
    "os.chdir(r\"C:\\Users\\aman.khatri91425\\Desktop\\HomeCredit\\UW\\RSS\")"
   ]
  },
  {
   "cell_type": "code",
   "execution_count": 3,
   "metadata": {},
   "outputs": [],
   "source": [
    "##read datasets\n",
    "df=pd.read_csv(os.getcwd()+r\"\\Data Files\\export_concatenated.csv\")"
   ]
  },
  {
   "cell_type": "code",
   "execution_count": 4,
   "metadata": {},
   "outputs": [
    {
     "data": {
      "text/plain": [
       "CIBIL    1565146\n",
       "Name: SOURCE_ID, dtype: int64"
      ]
     },
     "execution_count": 4,
     "metadata": {},
     "output_type": "execute_result"
    }
   ],
   "source": [
    "df.SOURCE_ID.value_counts()"
   ]
  },
  {
   "cell_type": "code",
   "execution_count": 5,
   "metadata": {},
   "outputs": [
    {
     "data": {
      "text/html": [
       "<div>\n",
       "<style scoped>\n",
       "    .dataframe tbody tr th:only-of-type {\n",
       "        vertical-align: middle;\n",
       "    }\n",
       "\n",
       "    .dataframe tbody tr th {\n",
       "        vertical-align: top;\n",
       "    }\n",
       "\n",
       "    .dataframe thead th {\n",
       "        text-align: right;\n",
       "    }\n",
       "</style>\n",
       "<table border=\"1\" class=\"dataframe\">\n",
       "  <thead>\n",
       "    <tr style=\"text-align: right;\">\n",
       "      <th></th>\n",
       "      <th>Unnamed: 0</th>\n",
       "      <th>SKP_CREDIT_CASE</th>\n",
       "      <th>TIME_DECISION_DATE</th>\n",
       "      <th>CLIENT_EXI_3M</th>\n",
       "      <th>RISK_FPD30</th>\n",
       "      <th>RISK_FSTQPD30</th>\n",
       "      <th>RISK_FSTQPD60</th>\n",
       "      <th>SOURCE_ID</th>\n",
       "      <th>ADDRESS_CNT</th>\n",
       "      <th>ZIPCODE_CNT</th>\n",
       "      <th>...</th>\n",
       "      <th>OFFICE_ZIPCODE_ADDRESS_RAT</th>\n",
       "      <th>OFFICE_ADDRESS_PCT</th>\n",
       "      <th>PERMANENT_ADDRESS_CNT</th>\n",
       "      <th>PERMANENT_ZIPCODE_CNT</th>\n",
       "      <th>PERMANENT_ZIPCODE_ADDRESS_RAT</th>\n",
       "      <th>PERMANENT_ADDRESS_PCT</th>\n",
       "      <th>PERMANENT_OFFICE_COMB_RAT</th>\n",
       "      <th>RESIDENT_OFFICE_COMB_RAT</th>\n",
       "      <th>PERMANENT_RESIDENCE_COMB_RAT</th>\n",
       "      <th>RISK_SCORE</th>\n",
       "    </tr>\n",
       "  </thead>\n",
       "  <tbody>\n",
       "    <tr>\n",
       "      <th>0</th>\n",
       "      <td>0</td>\n",
       "      <td>237496224</td>\n",
       "      <td>01-06-19</td>\n",
       "      <td>N</td>\n",
       "      <td>0</td>\n",
       "      <td>0</td>\n",
       "      <td>0</td>\n",
       "      <td>CIBIL</td>\n",
       "      <td>1</td>\n",
       "      <td>1</td>\n",
       "      <td>...</td>\n",
       "      <td>NaN</td>\n",
       "      <td>0.0</td>\n",
       "      <td>0</td>\n",
       "      <td>0</td>\n",
       "      <td>NaN</td>\n",
       "      <td>0.0000</td>\n",
       "      <td>NaN</td>\n",
       "      <td>1.0</td>\n",
       "      <td>1.0</td>\n",
       "      <td>0.019349</td>\n",
       "    </tr>\n",
       "    <tr>\n",
       "      <th>1</th>\n",
       "      <td>1</td>\n",
       "      <td>237502602</td>\n",
       "      <td>02-06-19</td>\n",
       "      <td>N</td>\n",
       "      <td>0</td>\n",
       "      <td>0</td>\n",
       "      <td>0</td>\n",
       "      <td>CIBIL</td>\n",
       "      <td>2</td>\n",
       "      <td>2</td>\n",
       "      <td>...</td>\n",
       "      <td>1.0</td>\n",
       "      <td>0.5</td>\n",
       "      <td>0</td>\n",
       "      <td>0</td>\n",
       "      <td>NaN</td>\n",
       "      <td>0.0000</td>\n",
       "      <td>1.0</td>\n",
       "      <td>1.0</td>\n",
       "      <td>1.0</td>\n",
       "      <td>0.001576</td>\n",
       "    </tr>\n",
       "    <tr>\n",
       "      <th>2</th>\n",
       "      <td>2</td>\n",
       "      <td>237504476</td>\n",
       "      <td>01-06-19</td>\n",
       "      <td>N</td>\n",
       "      <td>0</td>\n",
       "      <td>0</td>\n",
       "      <td>0</td>\n",
       "      <td>CIBIL</td>\n",
       "      <td>3</td>\n",
       "      <td>2</td>\n",
       "      <td>...</td>\n",
       "      <td>NaN</td>\n",
       "      <td>0.0</td>\n",
       "      <td>1</td>\n",
       "      <td>1</td>\n",
       "      <td>1.0</td>\n",
       "      <td>0.3333</td>\n",
       "      <td>1.0</td>\n",
       "      <td>1.0</td>\n",
       "      <td>0.5</td>\n",
       "      <td>0.020674</td>\n",
       "    </tr>\n",
       "    <tr>\n",
       "      <th>3</th>\n",
       "      <td>3</td>\n",
       "      <td>237513079</td>\n",
       "      <td>01-06-19</td>\n",
       "      <td>Y</td>\n",
       "      <td>0</td>\n",
       "      <td>0</td>\n",
       "      <td>0</td>\n",
       "      <td>CIBIL</td>\n",
       "      <td>2</td>\n",
       "      <td>1</td>\n",
       "      <td>...</td>\n",
       "      <td>NaN</td>\n",
       "      <td>0.0</td>\n",
       "      <td>0</td>\n",
       "      <td>0</td>\n",
       "      <td>NaN</td>\n",
       "      <td>0.0000</td>\n",
       "      <td>NaN</td>\n",
       "      <td>1.0</td>\n",
       "      <td>1.0</td>\n",
       "      <td>0.022167</td>\n",
       "    </tr>\n",
       "    <tr>\n",
       "      <th>4</th>\n",
       "      <td>4</td>\n",
       "      <td>237513656</td>\n",
       "      <td>01-06-19</td>\n",
       "      <td>Y</td>\n",
       "      <td>0</td>\n",
       "      <td>0</td>\n",
       "      <td>0</td>\n",
       "      <td>CIBIL</td>\n",
       "      <td>2</td>\n",
       "      <td>2</td>\n",
       "      <td>...</td>\n",
       "      <td>NaN</td>\n",
       "      <td>0.0</td>\n",
       "      <td>0</td>\n",
       "      <td>0</td>\n",
       "      <td>NaN</td>\n",
       "      <td>0.0000</td>\n",
       "      <td>NaN</td>\n",
       "      <td>1.0</td>\n",
       "      <td>1.0</td>\n",
       "      <td>0.054746</td>\n",
       "    </tr>\n",
       "  </tbody>\n",
       "</table>\n",
       "<p>5 rows × 27 columns</p>\n",
       "</div>"
      ],
      "text/plain": [
       "   Unnamed: 0  SKP_CREDIT_CASE TIME_DECISION_DATE CLIENT_EXI_3M  RISK_FPD30  \\\n",
       "0           0        237496224           01-06-19             N           0   \n",
       "1           1        237502602           02-06-19             N           0   \n",
       "2           2        237504476           01-06-19             N           0   \n",
       "3           3        237513079           01-06-19             Y           0   \n",
       "4           4        237513656           01-06-19             Y           0   \n",
       "\n",
       "   RISK_FSTQPD30  RISK_FSTQPD60 SOURCE_ID  ADDRESS_CNT  ZIPCODE_CNT  ...  \\\n",
       "0              0              0     CIBIL            1            1  ...   \n",
       "1              0              0     CIBIL            2            2  ...   \n",
       "2              0              0     CIBIL            3            2  ...   \n",
       "3              0              0     CIBIL            2            1  ...   \n",
       "4              0              0     CIBIL            2            2  ...   \n",
       "\n",
       "   OFFICE_ZIPCODE_ADDRESS_RAT  OFFICE_ADDRESS_PCT  PERMANENT_ADDRESS_CNT  \\\n",
       "0                         NaN                 0.0                      0   \n",
       "1                         1.0                 0.5                      0   \n",
       "2                         NaN                 0.0                      1   \n",
       "3                         NaN                 0.0                      0   \n",
       "4                         NaN                 0.0                      0   \n",
       "\n",
       "   PERMANENT_ZIPCODE_CNT  PERMANENT_ZIPCODE_ADDRESS_RAT  \\\n",
       "0                      0                            NaN   \n",
       "1                      0                            NaN   \n",
       "2                      1                            1.0   \n",
       "3                      0                            NaN   \n",
       "4                      0                            NaN   \n",
       "\n",
       "   PERMANENT_ADDRESS_PCT  PERMANENT_OFFICE_COMB_RAT  RESIDENT_OFFICE_COMB_RAT  \\\n",
       "0                 0.0000                        NaN                       1.0   \n",
       "1                 0.0000                        1.0                       1.0   \n",
       "2                 0.3333                        1.0                       1.0   \n",
       "3                 0.0000                        NaN                       1.0   \n",
       "4                 0.0000                        NaN                       1.0   \n",
       "\n",
       "   PERMANENT_RESIDENCE_COMB_RAT  RISK_SCORE  \n",
       "0                           1.0    0.019349  \n",
       "1                           1.0    0.001576  \n",
       "2                           0.5    0.020674  \n",
       "3                           1.0    0.022167  \n",
       "4                           1.0    0.054746  \n",
       "\n",
       "[5 rows x 27 columns]"
      ]
     },
     "execution_count": 5,
     "metadata": {},
     "output_type": "execute_result"
    }
   ],
   "source": [
    "df.head()"
   ]
  },
  {
   "cell_type": "code",
   "execution_count": 6,
   "metadata": {},
   "outputs": [],
   "source": [
    "df.dropna(subset=['RISK_SCORE'],inplace=True)"
   ]
  },
  {
   "cell_type": "code",
   "execution_count": 7,
   "metadata": {},
   "outputs": [],
   "source": [
    "df = df[(df[\"SOURCE_ID\"]==\"CIBIL\")&(df[\"CLIENT_EXI_3M\"]==\"N\")]"
   ]
  },
  {
   "cell_type": "code",
   "execution_count": 8,
   "metadata": {},
   "outputs": [
    {
     "data": {
      "text/plain": [
       "<AxesSubplot:ylabel='Frequency'>"
      ]
     },
     "execution_count": 8,
     "metadata": {},
     "output_type": "execute_result"
    },
    {
     "data": {
      "image/png": "[encoded data removed]",
      "text/plain": [
       "<Figure size 432x288 with 1 Axes>"
      ]
     },
     "metadata": {
      "needs_background": "light"
     },
     "output_type": "display_data"
    }
   ],
   "source": [
    "# Check distribution of scores\n",
    "pd.Series(df['RISK_SCORE']).plot.hist(bins=10, range=(0,0.08) ,color='#607c8e')"
   ]
  },
  {
   "cell_type": "code",
   "execution_count": 9,
   "metadata": {},
   "outputs": [
    {
     "name": "stdout",
     "output_type": "stream",
     "text": [
      "HCIN SCORE GINI: 0.32845107708805865\n"
     ]
    }
   ],
   "source": [
    "hcc_score='RISK_SCORE'\n",
    "\n",
    "# HCC score Gini         \n",
    "metric_auc_hcc = metrics.roc_auc_score(df['RISK_FSTQPD30'], df[hcc_score])\n",
    "gini_hcc_only = 2 * metric_auc_hcc - 1\n",
    "print(\"HCIN SCORE GINI:\" ,gini_hcc_only)"
   ]
  },
  {
   "cell_type": "code",
   "execution_count": 10,
   "metadata": {},
   "outputs": [],
   "source": [
    "df[\"TIME_DECISION_DATE\"] = pd.to_datetime(df[\"TIME_DECISION_DATE\"],format ='%d-%m-%y')\n",
    "\n",
    "df[\"MONTH\"]= df[\"TIME_DECISION_DATE\"].dt.strftime(\"%y-%m\")"
   ]
  },
  {
   "cell_type": "code",
   "execution_count": 11,
   "metadata": {},
   "outputs": [],
   "source": [
    "df_summ = df.groupby(\"MONTH\").aggregate([\"count\",\"sum\"])[\"RISK_FSTQPD30\"]\n",
    "df_summ[\"bad_rate\"] = df_summ[\"sum\"]/df_summ[\"count\"]"
   ]
  },
  {
   "cell_type": "code",
   "execution_count": 12,
   "metadata": {},
   "outputs": [
    {
     "data": {
      "image/png": "[encoded data removed]",
      "text/plain": [
       "<Figure size 1080x288 with 2 Axes>"
      ]
     },
     "metadata": {
      "needs_background": "light"
     },
     "output_type": "display_data"
    }
   ],
   "source": [
    "df_summ[['sum','count']].plot(kind='bar', width = 0.8, figsize=(15,4))\n",
    "df_summ['bad_rate'].plot(secondary_y=True)\n",
    "\n",
    "ax = plt.gca()\n",
    "plt.xlim([-0.35, len(df_summ['sum'])-0.35])\n",
    "ax.set_xticklabels(df_summ.index)\n",
    "plt.ylim\n",
    "fig = ax.get_figure()\n",
    "ax = fig.get_axes()\n",
    "ax[1].set_ylim(0,0.15)\n",
    "ax[0].legend(['CD_Contracts','CD_Defaults'])\n",
    "ax[1].legend([\"Default Rate\"], loc = \"center right\")\n",
    "\n",
    "\n",
    "plt.show()\n"
   ]
  },
  {
   "cell_type": "code",
   "execution_count": 13,
   "metadata": {},
   "outputs": [
    {
     "name": "stdout",
     "output_type": "stream",
     "text": [
      "19-06 0.22989068911468058\n",
      "19-07 0.22130626960908484\n",
      "19-08 0.21593942692903778\n",
      "20-06 0.26430208829960367\n",
      "ERROR\n",
      "ERROR\n"
     ]
    }
   ],
   "source": [
    "#MOM Gini Risk Score\n",
    "for x in df[\"MONTH\"].unique():\n",
    "    try:   \n",
    "        metric_auc_hcc = metrics.roc_auc_score(df[df[\"MONTH\"]==x]['RISK_FSTQPD30'], df[df[\"MONTH\"]==x][hcc_score])\n",
    "        gini_hcc_only = 2 * metric_auc_hcc - 1\n",
    "        print(x ,gini_hcc_only)  \n",
    "    except:\n",
    "        print(\"ERROR\")"
   ]
  },
  {
   "cell_type": "code",
   "execution_count": 14,
   "metadata": {},
   "outputs": [
    {
     "data": {
      "text/html": [
       "<div>\n",
       "<style scoped>\n",
       "    .dataframe tbody tr th:only-of-type {\n",
       "        vertical-align: middle;\n",
       "    }\n",
       "\n",
       "    .dataframe tbody tr th {\n",
       "        vertical-align: top;\n",
       "    }\n",
       "\n",
       "    .dataframe thead th {\n",
       "        text-align: right;\n",
       "    }\n",
       "</style>\n",
       "<table border=\"1\" class=\"dataframe\">\n",
       "  <thead>\n",
       "    <tr style=\"text-align: right;\">\n",
       "      <th></th>\n",
       "      <th>count</th>\n",
       "      <th>mean</th>\n",
       "      <th>std</th>\n",
       "      <th>min</th>\n",
       "      <th>25%</th>\n",
       "      <th>50%</th>\n",
       "      <th>75%</th>\n",
       "      <th>max</th>\n",
       "    </tr>\n",
       "  </thead>\n",
       "  <tbody>\n",
       "    <tr>\n",
       "      <th>Unnamed: 0</th>\n",
       "      <td>976644.0</td>\n",
       "      <td>2.684885e+05</td>\n",
       "      <td>1.986942e+05</td>\n",
       "      <td>0.000000e+00</td>\n",
       "      <td>1.032755e+05</td>\n",
       "      <td>2.270125e+05</td>\n",
       "      <td>3.964542e+05</td>\n",
       "      <td>7.507990e+05</td>\n",
       "    </tr>\n",
       "    <tr>\n",
       "      <th>SKP_CREDIT_CASE</th>\n",
       "      <td>976644.0</td>\n",
       "      <td>2.665342e+08</td>\n",
       "      <td>3.207717e+07</td>\n",
       "      <td>2.374962e+08</td>\n",
       "      <td>2.419142e+08</td>\n",
       "      <td>2.470449e+08</td>\n",
       "      <td>3.082744e+08</td>\n",
       "      <td>3.162179e+08</td>\n",
       "    </tr>\n",
       "    <tr>\n",
       "      <th>RISK_FPD30</th>\n",
       "      <td>976644.0</td>\n",
       "      <td>1.610106e-02</td>\n",
       "      <td>1.258643e-01</td>\n",
       "      <td>0.000000e+00</td>\n",
       "      <td>0.000000e+00</td>\n",
       "      <td>0.000000e+00</td>\n",
       "      <td>0.000000e+00</td>\n",
       "      <td>1.000000e+00</td>\n",
       "    </tr>\n",
       "    <tr>\n",
       "      <th>RISK_FSTQPD30</th>\n",
       "      <td>976644.0</td>\n",
       "      <td>5.113224e-02</td>\n",
       "      <td>2.202675e-01</td>\n",
       "      <td>0.000000e+00</td>\n",
       "      <td>0.000000e+00</td>\n",
       "      <td>0.000000e+00</td>\n",
       "      <td>0.000000e+00</td>\n",
       "      <td>1.000000e+00</td>\n",
       "    </tr>\n",
       "    <tr>\n",
       "      <th>RISK_FSTQPD60</th>\n",
       "      <td>976644.0</td>\n",
       "      <td>3.695512e-02</td>\n",
       "      <td>1.886517e-01</td>\n",
       "      <td>0.000000e+00</td>\n",
       "      <td>0.000000e+00</td>\n",
       "      <td>0.000000e+00</td>\n",
       "      <td>0.000000e+00</td>\n",
       "      <td>1.000000e+00</td>\n",
       "    </tr>\n",
       "    <tr>\n",
       "      <th>ADDRESS_CNT</th>\n",
       "      <td>976644.0</td>\n",
       "      <td>1.650201e+00</td>\n",
       "      <td>1.019081e+00</td>\n",
       "      <td>1.000000e+00</td>\n",
       "      <td>1.000000e+00</td>\n",
       "      <td>1.000000e+00</td>\n",
       "      <td>2.000000e+00</td>\n",
       "      <td>4.000000e+00</td>\n",
       "    </tr>\n",
       "    <tr>\n",
       "      <th>ZIPCODE_CNT</th>\n",
       "      <td>976644.0</td>\n",
       "      <td>1.270448e+00</td>\n",
       "      <td>5.912326e-01</td>\n",
       "      <td>0.000000e+00</td>\n",
       "      <td>1.000000e+00</td>\n",
       "      <td>1.000000e+00</td>\n",
       "      <td>1.000000e+00</td>\n",
       "      <td>4.000000e+00</td>\n",
       "    </tr>\n",
       "    <tr>\n",
       "      <th>ZIPCODE_ADDRESS_RAT</th>\n",
       "      <td>976644.0</td>\n",
       "      <td>8.741985e-01</td>\n",
       "      <td>2.282643e-01</td>\n",
       "      <td>0.000000e+00</td>\n",
       "      <td>7.500000e-01</td>\n",
       "      <td>1.000000e+00</td>\n",
       "      <td>1.000000e+00</td>\n",
       "      <td>3.000000e+00</td>\n",
       "    </tr>\n",
       "    <tr>\n",
       "      <th>RESIDENCE_ADDRESS_CNT</th>\n",
       "      <td>976644.0</td>\n",
       "      <td>9.621438e-01</td>\n",
       "      <td>5.560192e-01</td>\n",
       "      <td>0.000000e+00</td>\n",
       "      <td>1.000000e+00</td>\n",
       "      <td>1.000000e+00</td>\n",
       "      <td>1.000000e+00</td>\n",
       "      <td>4.000000e+00</td>\n",
       "    </tr>\n",
       "    <tr>\n",
       "      <th>RESIDENCE_ZIPCODE_CNT</th>\n",
       "      <td>976644.0</td>\n",
       "      <td>8.946965e-01</td>\n",
       "      <td>4.486715e-01</td>\n",
       "      <td>0.000000e+00</td>\n",
       "      <td>1.000000e+00</td>\n",
       "      <td>1.000000e+00</td>\n",
       "      <td>1.000000e+00</td>\n",
       "      <td>4.000000e+00</td>\n",
       "    </tr>\n",
       "    <tr>\n",
       "      <th>RESIDENCE_ZIPCODE_ADDRESS_RAT</th>\n",
       "      <td>825345.0</td>\n",
       "      <td>9.644148e-01</td>\n",
       "      <td>1.320097e-01</td>\n",
       "      <td>0.000000e+00</td>\n",
       "      <td>1.000000e+00</td>\n",
       "      <td>1.000000e+00</td>\n",
       "      <td>1.000000e+00</td>\n",
       "      <td>3.000000e+00</td>\n",
       "    </tr>\n",
       "    <tr>\n",
       "      <th>RESIDENCE_ADDRESS_PCT</th>\n",
       "      <td>976644.0</td>\n",
       "      <td>7.109716e-01</td>\n",
       "      <td>3.850339e-01</td>\n",
       "      <td>0.000000e+00</td>\n",
       "      <td>5.000000e-01</td>\n",
       "      <td>1.000000e+00</td>\n",
       "      <td>1.000000e+00</td>\n",
       "      <td>1.000000e+00</td>\n",
       "    </tr>\n",
       "    <tr>\n",
       "      <th>OFFICE_ADDRESS_CNT</th>\n",
       "      <td>976644.0</td>\n",
       "      <td>2.330133e-01</td>\n",
       "      <td>5.419711e-01</td>\n",
       "      <td>0.000000e+00</td>\n",
       "      <td>0.000000e+00</td>\n",
       "      <td>0.000000e+00</td>\n",
       "      <td>0.000000e+00</td>\n",
       "      <td>4.000000e+00</td>\n",
       "    </tr>\n",
       "    <tr>\n",
       "      <th>OFFICE_ZIPCODE_CNT</th>\n",
       "      <td>976644.0</td>\n",
       "      <td>2.087311e-01</td>\n",
       "      <td>4.679613e-01</td>\n",
       "      <td>0.000000e+00</td>\n",
       "      <td>0.000000e+00</td>\n",
       "      <td>0.000000e+00</td>\n",
       "      <td>0.000000e+00</td>\n",
       "      <td>4.000000e+00</td>\n",
       "    </tr>\n",
       "    <tr>\n",
       "      <th>OFFICE_ZIPCODE_ADDRESS_RAT</th>\n",
       "      <td>179536.0</td>\n",
       "      <td>9.415491e-01</td>\n",
       "      <td>1.633466e-01</td>\n",
       "      <td>0.000000e+00</td>\n",
       "      <td>1.000000e+00</td>\n",
       "      <td>1.000000e+00</td>\n",
       "      <td>1.000000e+00</td>\n",
       "      <td>3.000000e+00</td>\n",
       "    </tr>\n",
       "    <tr>\n",
       "      <th>OFFICE_ADDRESS_PCT</th>\n",
       "      <td>976644.0</td>\n",
       "      <td>8.316526e-02</td>\n",
       "      <td>1.917749e-01</td>\n",
       "      <td>0.000000e+00</td>\n",
       "      <td>0.000000e+00</td>\n",
       "      <td>0.000000e+00</td>\n",
       "      <td>0.000000e+00</td>\n",
       "      <td>1.000000e+00</td>\n",
       "    </tr>\n",
       "    <tr>\n",
       "      <th>PERMANENT_ADDRESS_CNT</th>\n",
       "      <td>976644.0</td>\n",
       "      <td>2.063812e-01</td>\n",
       "      <td>4.751697e-01</td>\n",
       "      <td>0.000000e+00</td>\n",
       "      <td>0.000000e+00</td>\n",
       "      <td>0.000000e+00</td>\n",
       "      <td>0.000000e+00</td>\n",
       "      <td>4.000000e+00</td>\n",
       "    </tr>\n",
       "    <tr>\n",
       "      <th>PERMANENT_ZIPCODE_CNT</th>\n",
       "      <td>976644.0</td>\n",
       "      <td>1.882969e-01</td>\n",
       "      <td>4.170686e-01</td>\n",
       "      <td>0.000000e+00</td>\n",
       "      <td>0.000000e+00</td>\n",
       "      <td>0.000000e+00</td>\n",
       "      <td>0.000000e+00</td>\n",
       "      <td>4.000000e+00</td>\n",
       "    </tr>\n",
       "    <tr>\n",
       "      <th>PERMANENT_ZIPCODE_ADDRESS_RAT</th>\n",
       "      <td>174003.0</td>\n",
       "      <td>9.526028e-01</td>\n",
       "      <td>1.509558e-01</td>\n",
       "      <td>0.000000e+00</td>\n",
       "      <td>1.000000e+00</td>\n",
       "      <td>1.000000e+00</td>\n",
       "      <td>1.000000e+00</td>\n",
       "      <td>2.000000e+00</td>\n",
       "    </tr>\n",
       "    <tr>\n",
       "      <th>PERMANENT_ADDRESS_PCT</th>\n",
       "      <td>976644.0</td>\n",
       "      <td>1.040078e-01</td>\n",
       "      <td>2.565738e-01</td>\n",
       "      <td>0.000000e+00</td>\n",
       "      <td>0.000000e+00</td>\n",
       "      <td>0.000000e+00</td>\n",
       "      <td>0.000000e+00</td>\n",
       "      <td>1.000000e+00</td>\n",
       "    </tr>\n",
       "    <tr>\n",
       "      <th>PERMANENT_OFFICE_COMB_RAT</th>\n",
       "      <td>296720.0</td>\n",
       "      <td>9.560356e-01</td>\n",
       "      <td>1.385436e-01</td>\n",
       "      <td>5.000000e-01</td>\n",
       "      <td>1.000000e+00</td>\n",
       "      <td>1.000000e+00</td>\n",
       "      <td>1.000000e+00</td>\n",
       "      <td>1.000000e+00</td>\n",
       "    </tr>\n",
       "    <tr>\n",
       "      <th>RESIDENT_OFFICE_COMB_RAT</th>\n",
       "      <td>859239.0</td>\n",
       "      <td>9.590682e-01</td>\n",
       "      <td>1.327390e-01</td>\n",
       "      <td>5.000000e-01</td>\n",
       "      <td>1.000000e+00</td>\n",
       "      <td>1.000000e+00</td>\n",
       "      <td>1.000000e+00</td>\n",
       "      <td>1.000000e+00</td>\n",
       "    </tr>\n",
       "    <tr>\n",
       "      <th>PERMANENT_RESIDENCE_COMB_RAT</th>\n",
       "      <td>898387.0</td>\n",
       "      <td>9.620585e-01</td>\n",
       "      <td>1.289688e-01</td>\n",
       "      <td>5.000000e-01</td>\n",
       "      <td>1.000000e+00</td>\n",
       "      <td>1.000000e+00</td>\n",
       "      <td>1.000000e+00</td>\n",
       "      <td>1.000000e+00</td>\n",
       "    </tr>\n",
       "    <tr>\n",
       "      <th>RISK_SCORE</th>\n",
       "      <td>976644.0</td>\n",
       "      <td>9.564250e-03</td>\n",
       "      <td>6.939664e-03</td>\n",
       "      <td>2.792293e-04</td>\n",
       "      <td>5.362730e-03</td>\n",
       "      <td>8.038217e-03</td>\n",
       "      <td>1.189833e-02</td>\n",
       "      <td>4.150377e-01</td>\n",
       "    </tr>\n",
       "  </tbody>\n",
       "</table>\n",
       "</div>"
      ],
      "text/plain": [
       "                                  count          mean           std  \\\n",
       "Unnamed: 0                     976644.0  2.684885e+05  1.986942e+05   \n",
       "SKP_CREDIT_CASE                976644.0  2.665342e+08  3.207717e+07   \n",
       "RISK_FPD30                     976644.0  1.610106e-02  1.258643e-01   \n",
       "RISK_FSTQPD30                  976644.0  5.113224e-02  2.202675e-01   \n",
       "RISK_FSTQPD60                  976644.0  3.695512e-02  1.886517e-01   \n",
       "ADDRESS_CNT                    976644.0  1.650201e+00  1.019081e+00   \n",
       "ZIPCODE_CNT                    976644.0  1.270448e+00  5.912326e-01   \n",
       "ZIPCODE_ADDRESS_RAT            976644.0  8.741985e-01  2.282643e-01   \n",
       "RESIDENCE_ADDRESS_CNT          976644.0  9.621438e-01  5.560192e-01   \n",
       "RESIDENCE_ZIPCODE_CNT          976644.0  8.946965e-01  4.486715e-01   \n",
       "RESIDENCE_ZIPCODE_ADDRESS_RAT  825345.0  9.644148e-01  1.320097e-01   \n",
       "RESIDENCE_ADDRESS_PCT          976644.0  7.109716e-01  3.850339e-01   \n",
       "OFFICE_ADDRESS_CNT             976644.0  2.330133e-01  5.419711e-01   \n",
       "OFFICE_ZIPCODE_CNT             976644.0  2.087311e-01  4.679613e-01   \n",
       "OFFICE_ZIPCODE_ADDRESS_RAT     179536.0  9.415491e-01  1.633466e-01   \n",
       "OFFICE_ADDRESS_PCT             976644.0  8.316526e-02  1.917749e-01   \n",
       "PERMANENT_ADDRESS_CNT          976644.0  2.063812e-01  4.751697e-01   \n",
       "PERMANENT_ZIPCODE_CNT          976644.0  1.882969e-01  4.170686e-01   \n",
       "PERMANENT_ZIPCODE_ADDRESS_RAT  174003.0  9.526028e-01  1.509558e-01   \n",
       "PERMANENT_ADDRESS_PCT          976644.0  1.040078e-01  2.565738e-01   \n",
       "PERMANENT_OFFICE_COMB_RAT      296720.0  9.560356e-01  1.385436e-01   \n",
       "RESIDENT_OFFICE_COMB_RAT       859239.0  9.590682e-01  1.327390e-01   \n",
       "PERMANENT_RESIDENCE_COMB_RAT   898387.0  9.620585e-01  1.289688e-01   \n",
       "RISK_SCORE                     976644.0  9.564250e-03  6.939664e-03   \n",
       "\n",
       "                                        min           25%           50%  \\\n",
       "Unnamed: 0                     0.000000e+00  1.032755e+05  2.270125e+05   \n",
       "SKP_CREDIT_CASE                2.374962e+08  2.419142e+08  2.470449e+08   \n",
       "RISK_FPD30                     0.000000e+00  0.000000e+00  0.000000e+00   \n",
       "RISK_FSTQPD30                  0.000000e+00  0.000000e+00  0.000000e+00   \n",
       "RISK_FSTQPD60                  0.000000e+00  0.000000e+00  0.000000e+00   \n",
       "ADDRESS_CNT                    1.000000e+00  1.000000e+00  1.000000e+00   \n",
       "ZIPCODE_CNT                    0.000000e+00  1.000000e+00  1.000000e+00   \n",
       "ZIPCODE_ADDRESS_RAT            0.000000e+00  7.500000e-01  1.000000e+00   \n",
       "RESIDENCE_ADDRESS_CNT          0.000000e+00  1.000000e+00  1.000000e+00   \n",
       "RESIDENCE_ZIPCODE_CNT          0.000000e+00  1.000000e+00  1.000000e+00   \n",
       "RESIDENCE_ZIPCODE_ADDRESS_RAT  0.000000e+00  1.000000e+00  1.000000e+00   \n",
       "RESIDENCE_ADDRESS_PCT          0.000000e+00  5.000000e-01  1.000000e+00   \n",
       "OFFICE_ADDRESS_CNT             0.000000e+00  0.000000e+00  0.000000e+00   \n",
       "OFFICE_ZIPCODE_CNT             0.000000e+00  0.000000e+00  0.000000e+00   \n",
       "OFFICE_ZIPCODE_ADDRESS_RAT     0.000000e+00  1.000000e+00  1.000000e+00   \n",
       "OFFICE_ADDRESS_PCT             0.000000e+00  0.000000e+00  0.000000e+00   \n",
       "PERMANENT_ADDRESS_CNT          0.000000e+00  0.000000e+00  0.000000e+00   \n",
       "PERMANENT_ZIPCODE_CNT          0.000000e+00  0.000000e+00  0.000000e+00   \n",
       "PERMANENT_ZIPCODE_ADDRESS_RAT  0.000000e+00  1.000000e+00  1.000000e+00   \n",
       "PERMANENT_ADDRESS_PCT          0.000000e+00  0.000000e+00  0.000000e+00   \n",
       "PERMANENT_OFFICE_COMB_RAT      5.000000e-01  1.000000e+00  1.000000e+00   \n",
       "RESIDENT_OFFICE_COMB_RAT       5.000000e-01  1.000000e+00  1.000000e+00   \n",
       "PERMANENT_RESIDENCE_COMB_RAT   5.000000e-01  1.000000e+00  1.000000e+00   \n",
       "RISK_SCORE                     2.792293e-04  5.362730e-03  8.038217e-03   \n",
       "\n",
       "                                        75%           max  \n",
       "Unnamed: 0                     3.964542e+05  7.507990e+05  \n",
       "SKP_CREDIT_CASE                3.082744e+08  3.162179e+08  \n",
       "RISK_FPD30                     0.000000e+00  1.000000e+00  \n",
       "RISK_FSTQPD30                  0.000000e+00  1.000000e+00  \n",
       "RISK_FSTQPD60                  0.000000e+00  1.000000e+00  \n",
       "ADDRESS_CNT                    2.000000e+00  4.000000e+00  \n",
       "ZIPCODE_CNT                    1.000000e+00  4.000000e+00  \n",
       "ZIPCODE_ADDRESS_RAT            1.000000e+00  3.000000e+00  \n",
       "RESIDENCE_ADDRESS_CNT          1.000000e+00  4.000000e+00  \n",
       "RESIDENCE_ZIPCODE_CNT          1.000000e+00  4.000000e+00  \n",
       "RESIDENCE_ZIPCODE_ADDRESS_RAT  1.000000e+00  3.000000e+00  \n",
       "RESIDENCE_ADDRESS_PCT          1.000000e+00  1.000000e+00  \n",
       "OFFICE_ADDRESS_CNT             0.000000e+00  4.000000e+00  \n",
       "OFFICE_ZIPCODE_CNT             0.000000e+00  4.000000e+00  \n",
       "OFFICE_ZIPCODE_ADDRESS_RAT     1.000000e+00  3.000000e+00  \n",
       "OFFICE_ADDRESS_PCT             0.000000e+00  1.000000e+00  \n",
       "PERMANENT_ADDRESS_CNT          0.000000e+00  4.000000e+00  \n",
       "PERMANENT_ZIPCODE_CNT          0.000000e+00  4.000000e+00  \n",
       "PERMANENT_ZIPCODE_ADDRESS_RAT  1.000000e+00  2.000000e+00  \n",
       "PERMANENT_ADDRESS_PCT          0.000000e+00  1.000000e+00  \n",
       "PERMANENT_OFFICE_COMB_RAT      1.000000e+00  1.000000e+00  \n",
       "RESIDENT_OFFICE_COMB_RAT       1.000000e+00  1.000000e+00  \n",
       "PERMANENT_RESIDENCE_COMB_RAT   1.000000e+00  1.000000e+00  \n",
       "RISK_SCORE                     1.189833e-02  4.150377e-01  "
      ]
     },
     "execution_count": 14,
     "metadata": {},
     "output_type": "execute_result"
    }
   ],
   "source": [
    "df.describe().T"
   ]
  },
  {
   "cell_type": "code",
   "execution_count": 15,
   "metadata": {},
   "outputs": [
    {
     "name": "stderr",
     "output_type": "stream",
     "text": [
      "C:\\Users\\aman.khatri91425\\AppData\\Local\\Continuum\\anaconda3\\lib\\site-packages\\ipykernel_launcher.py:1: FutureWarning: The pandas.datetime class is deprecated and will be removed from pandas in a future version. Import from datetime module instead.\n",
      "  \"\"\"Entry point for launching an IPython kernel.\n",
      "C:\\Users\\aman.khatri91425\\AppData\\Local\\Continuum\\anaconda3\\lib\\site-packages\\ipykernel_launcher.py:2: FutureWarning: The pandas.datetime class is deprecated and will be removed from pandas in a future version. Import from datetime module instead.\n",
      "  \n"
     ]
    }
   ],
   "source": [
    "df_test = df[df[\"TIME_DECISION_DATE\"]>= pd.datetime(2019,7,1)]\n",
    "df_train = df[df[\"TIME_DECISION_DATE\"]< pd.datetime(2019,7,1)]\n"
   ]
  },
  {
   "cell_type": "code",
   "execution_count": 16,
   "metadata": {},
   "outputs": [
    {
     "data": {
      "text/plain": [
       "Index(['Unnamed: 0', 'SKP_CREDIT_CASE', 'TIME_DECISION_DATE', 'CLIENT_EXI_3M',\n",
       "       'RISK_FPD30', 'RISK_FSTQPD30', 'RISK_FSTQPD60', 'SOURCE_ID',\n",
       "       'ADDRESS_CNT', 'ZIPCODE_CNT', 'ZIPCODE_ADDRESS_RAT',\n",
       "       'RESIDENCE_ADDRESS_CNT', 'RESIDENCE_ZIPCODE_CNT',\n",
       "       'RESIDENCE_ZIPCODE_ADDRESS_RAT', 'RESIDENCE_ADDRESS_PCT',\n",
       "       'OFFICE_ADDRESS_CNT', 'OFFICE_ZIPCODE_CNT',\n",
       "       'OFFICE_ZIPCODE_ADDRESS_RAT', 'OFFICE_ADDRESS_PCT',\n",
       "       'PERMANENT_ADDRESS_CNT', 'PERMANENT_ZIPCODE_CNT',\n",
       "       'PERMANENT_ZIPCODE_ADDRESS_RAT', 'PERMANENT_ADDRESS_PCT',\n",
       "       'PERMANENT_OFFICE_COMB_RAT', 'RESIDENT_OFFICE_COMB_RAT',\n",
       "       'PERMANENT_RESIDENCE_COMB_RAT', 'RISK_SCORE', 'MONTH'],\n",
       "      dtype='object')"
      ]
     },
     "execution_count": 16,
     "metadata": {},
     "output_type": "execute_result"
    }
   ],
   "source": [
    "df.columns"
   ]
  },
  {
   "cell_type": "code",
   "execution_count": 17,
   "metadata": {},
   "outputs": [],
   "source": [
    "x_column = ['ADDRESS_CNT', 'ZIPCODE_CNT', 'ZIPCODE_ADDRESS_RAT',\n",
    "       'RESIDENCE_ADDRESS_CNT', 'RESIDENCE_ZIPCODE_CNT',\n",
    "       'RESIDENCE_ZIPCODE_ADDRESS_RAT', 'RESIDENCE_ADDRESS_PCT',\n",
    "       'OFFICE_ADDRESS_CNT', 'OFFICE_ZIPCODE_CNT',\n",
    "       'OFFICE_ZIPCODE_ADDRESS_RAT', 'OFFICE_ADDRESS_PCT',\n",
    "       'PERMANENT_ADDRESS_CNT', 'PERMANENT_ZIPCODE_CNT',\n",
    "       'PERMANENT_ZIPCODE_ADDRESS_RAT', 'PERMANENT_ADDRESS_PCT',\n",
    "       'PERMANENT_OFFICE_COMB_RAT', 'RESIDENT_OFFICE_COMB_RAT',\n",
    "       'PERMANENT_RESIDENCE_COMB_RAT','RISK_SCORE']\n",
    "y_column = 'RISK_FSTQPD30'"
   ]
  },
  {
   "cell_type": "code",
   "execution_count": 18,
   "metadata": {},
   "outputs": [
    {
     "name": "stdout",
     "output_type": "stream",
     "text": [
      "\n",
      "Event rate in train set : 7.40%\n",
      "\n",
      " Train set shape: (173264, 19)\n",
      "\n",
      "Event rate in test set : 4.46%\n",
      "\n",
      " Test set shape: (760063, 19)\n",
      "\n",
      "Event rate in validation set : 7.33%\n",
      "\n",
      " validation set shape: (43317, 19)\n",
      "\n",
      " Train GINI 0.23079389512780568\n",
      "\n",
      " Test GINI 0.3485721247351852\n",
      "\n",
      " validation GINI 0.2262753093205392\n"
     ]
    }
   ],
   "source": [
    "# split data into train and test sets\n",
    "seed = 25522\n",
    "\n",
    "X_test = df_test[x_column]\n",
    "y_test = df_test[y_column]\n",
    "\n",
    "X_train, X_valid, y_train, y_valid = train_test_split(df_train[x_column], df_train[y_column], test_size=0.2, random_state=seed)\n",
    "\n",
    "\n",
    "##event rate\n",
    "print(\"\\nEvent rate in train set :\", '{:,.2%}'.format(sum(y_train) / len(y_train)))\n",
    "print(\"\\n Train set shape:\",X_train.shape)\n",
    "print(\"\\nEvent rate in test set :\", '{:,.2%}'.format(sum(y_test) / len(y_test)))\n",
    "print(\"\\n Test set shape:\",X_test.shape)\n",
    "print(\"\\nEvent rate in validation set :\", '{:,.2%}'.format(sum(y_valid) / len(y_valid)))\n",
    "print(\"\\n validation set shape:\",X_valid.shape)\n",
    "print(\"\\n Train GINI\",  metrics.roc_auc_score(y_train, X_train['RISK_SCORE'])*2 -1)\n",
    "print(\"\\n Test GINI\",  metrics.roc_auc_score(y_test, X_test['RISK_SCORE'])*2 -1)\n",
    "print(\"\\n validation GINI\",  metrics.roc_auc_score(y_valid, X_valid['RISK_SCORE'])*2 -1)\n"
   ]
  },
  {
   "cell_type": "code",
   "execution_count": 19,
   "metadata": {},
   "outputs": [],
   "source": [
    "## Variable importance\n",
    "def fimportances(xc, predictors):\n",
    "    importances = pd.DataFrame({'predictor': predictors, 'importance': xc.feature_importances_})\n",
    "    importances = importances[importances['importance'] > 0]\n",
    "    importances.sort_values(by='importance', ascending=False, inplace=True)\n",
    "    importances.reset_index(inplace=True, drop=True)\n",
    "    importances = importances[['predictor', 'importance']]\n",
    "    return importances"
   ]
  },
  {
   "cell_type": "code",
   "execution_count": 20,
   "metadata": {},
   "outputs": [],
   "source": [
    "xgb_model = xgb.XGBClassifier(max_depth = 3,\n",
    "              learning_rate= 0.01,\n",
    "              subsample= 0.6,\n",
    "              min_child_weight= 10,\n",
    "              colsample_bytree= 0.6,\n",
    "              scale_pos_weight =25,\n",
    "              objective= 'binary:logistic', \n",
    "              nthread = -1, \n",
    "              n_estimators = 200              \n",
    "              )\n",
    "\n",
    "evals=[(X_train.drop(columns='RISK_SCORE'), np.ravel(y_train)),(X_valid.drop(columns='RISK_SCORE'), np.ravel(y_valid))]\n",
    "\n",
    "bst = xgb_model.fit(X_train.drop(columns='RISK_SCORE'), np.ravel(y_train), eval_metric=\"auc\", eval_set=evals,\n",
    "                    early_stopping_rounds=40   ,  verbose=False)"
   ]
  },
  {
   "cell_type": "code",
   "execution_count": 21,
   "metadata": {},
   "outputs": [],
   "source": [
    "imp = fimportances(bst,X_train.drop(columns='RISK_SCORE').columns)"
   ]
  },
  {
   "cell_type": "code",
   "execution_count": 22,
   "metadata": {},
   "outputs": [
    {
     "name": "stdout",
     "output_type": "stream",
     "text": [
      "Columns Remaining : 17 , gini_train: 0.067713,gini_test: 0.068753 \n",
      "Columns Remaining : 16 , gini_train: 0.068101,gini_test: 0.067859 \n",
      "Columns Remaining : 15 , gini_train: 0.066907,gini_test: 0.067982 \n",
      "Columns Remaining : 14 , gini_train: 0.066189,gini_test: 0.066583 \n",
      "Columns Remaining : 13 , gini_train: 0.069166,gini_test: 0.069640 \n",
      "Columns Remaining : 12 , gini_train: 0.065502,gini_test: 0.068511 \n",
      "Columns Remaining : 11 , gini_train: 0.066058,gini_test: 0.067482 \n",
      "Columns Remaining : 10 , gini_train: 0.066667,gini_test: 0.069010 \n",
      "Columns Remaining : 9 , gini_train: 0.062646,gini_test: 0.060742 \n",
      "Columns Remaining : 8 , gini_train: 0.063868,gini_test: 0.061157 \n",
      "Columns Remaining : 7 , gini_train: 0.066974,gini_test: 0.062847 \n",
      "Columns Remaining : 6 , gini_train: 0.062422,gini_test: 0.059395 \n",
      "Columns Remaining : 5 , gini_train: 0.063778,gini_test: 0.058529 \n",
      "Columns Remaining : 4 , gini_train: 0.063601,gini_test: 0.060052 \n",
      "Columns Remaining : 3 , gini_train: 0.034001,gini_test: 0.035521 \n",
      "Columns Remaining : 2 , gini_train: 0.027816,gini_test: 0.034225 \n"
     ]
    }
   ],
   "source": [
    "bst1 = bst\n",
    "X_train_1 = X_train.drop(columns='RISK_SCORE')\n",
    "X_valid_1 = X_valid.drop(columns='RISK_SCORE')\n",
    "select_X_train = X_train_1\n",
    "\n",
    "dic_imp = {\"n\":[imp.shape[0]],\"Gini Train\":[0],\"Gini Test\":[0],\"Predictors\":[list(imp['predictor'])]}\n",
    "\n",
    "while(select_X_train.shape[1] > 2):\n",
    "    select_X_train = X_train_1[list(imp['predictor'])[:-1]]\n",
    "    select_X_valid = X_valid_1[list(imp['predictor'])[:-1]]\n",
    "    xgb_model = xgb.XGBClassifier(max_depth = 3,\n",
    "              learning_rate= 0.01,\n",
    "              subsample= 0.6,\n",
    "              min_child_weight= 10,\n",
    "              colsample_bytree= 0.6,\n",
    "              scale_pos_weight =25,\n",
    "              objective= 'binary:logistic', \n",
    "              nthread = -1, \n",
    "              n_estimators = 200              \n",
    "              )\n",
    "\n",
    "    evals=[(select_X_train, np.ravel(y_train)),(select_X_valid, np.ravel(y_valid))]\n",
    "\n",
    "    bst = xgb_model.fit(select_X_train, np.ravel(y_train), eval_metric=\"auc\", eval_set=evals,\n",
    "                        early_stopping_rounds=40   ,  verbose=False)\n",
    "    \n",
    "    ypred_train = bst.predict_proba(select_X_train)[:, 1]\n",
    "    ypred_test  = bst.predict_proba(select_X_valid)[:, 1]\n",
    "    \n",
    "    metric_auc_train = metrics.roc_auc_score(y_train, ypred_train)\n",
    "    metric_auc_test = metrics.roc_auc_score(y_valid, ypred_test)\n",
    "\n",
    "    gini_train = 2 * metric_auc_train - 1\n",
    "    gini_test = 2 * metric_auc_test - 1\n",
    "    \n",
    "    print(\"Columns Remaining : %d , gini_train: %f,gini_test: %f \"%(select_X_train.shape[1],gini_train,gini_test))\n",
    "    \n",
    "    dic_imp['n'].append(imp.shape[0])\n",
    "    dic_imp['Gini Train'].append(gini_train)\n",
    "    dic_imp['Gini Test'].append(gini_test)\n",
    "    dic_imp['Predictors'].append(list(imp['predictor']))\n",
    "    \n",
    "    imp = fimportances(bst,select_X_train.columns)"
   ]
  },
  {
   "cell_type": "code",
   "execution_count": 23,
   "metadata": {},
   "outputs": [],
   "source": [
    "df_imp =pd.DataFrame(dic_imp)"
   ]
  },
  {
   "cell_type": "code",
   "execution_count": 24,
   "metadata": {},
   "outputs": [],
   "source": [
    "selected_vars = list(df_imp[df_imp['n']==7][\"Predictors\"])"
   ]
  },
  {
   "cell_type": "code",
   "execution_count": 25,
   "metadata": {},
   "outputs": [
    {
     "data": {
      "text/plain": [
       "[['ZIPCODE_ADDRESS_RAT',\n",
       "  'OFFICE_ADDRESS_PCT',\n",
       "  'RESIDENCE_ADDRESS_CNT',\n",
       "  'RESIDENCE_ZIPCODE_ADDRESS_RAT',\n",
       "  'PERMANENT_ZIPCODE_ADDRESS_RAT',\n",
       "  'PERMANENT_ADDRESS_PCT',\n",
       "  'ADDRESS_CNT']]"
      ]
     },
     "execution_count": 25,
     "metadata": {},
     "output_type": "execute_result"
    }
   ],
   "source": [
    "selected_vars"
   ]
  },
  {
   "cell_type": "code",
   "execution_count": 26,
   "metadata": {},
   "outputs": [
    {
     "name": "stdout",
     "output_type": "stream",
     "text": [
      "\n",
      " Train shape: (173264, 7) \n",
      " Test shape: (760063, 7) \n",
      " Validation shape: (43317, 7)\n"
     ]
    }
   ],
   "source": [
    "X_train_2=X_train[selected_vars[0]]\n",
    "X_test_2=X_test[selected_vars[0]]\n",
    "X_valid_2=X_valid[selected_vars[0]]\n",
    "\n",
    "print(\"\\n Train shape:\",X_train_2.shape,\"\\n Test shape:\",X_test_2.shape,\"\\n Validation shape:\",X_valid_2.shape)"
   ]
  },
  {
   "cell_type": "code",
   "execution_count": 27,
   "metadata": {},
   "outputs": [],
   "source": [
    "# set model parameters \n",
    "missing_value=None; cpu=-1; early_stopping_round=40; split_random_state=None\n",
    "kfolds = StratifiedKFold(6, random_state=1)"
   ]
  },
  {
   "cell_type": "code",
   "execution_count": 28,
   "metadata": {
    "scrolled": true
   },
   "outputs": [
    {
     "name": "stdout",
     "output_type": "stream",
     "text": [
      "Randomized search..\n",
      "Randomized search time: 1582.3292586803436\n",
      "Best score: 0.5299937751537527\n",
      "Best params: \n",
      "colsample_bytree: 0.5\n",
      "learning_rate: 0.019000000000000003\n",
      "max_depth: 2\n",
      "min_child_weight: 10\n",
      "scale_pos_weight: 25\n",
      "subsample: 0.45\n"
     ]
    }
   ],
   "source": [
    "# XGB model## The model is pretty stable with default parameters(after variable selection), hence not tuning any more\n",
    "param_grid = {'max_depth': list(range(1, 6)),\n",
    "              'learning_rate': np.arange(0.001, 0.02, 0.001),\n",
    "              'subsample': np.arange(0.4, 0.7,0.05),\n",
    "              'min_child_weight': np.arange(1, 25, 3),\n",
    "              'colsample_bytree': np.arange(0.5, 0.75, 0.05),\n",
    "              'scale_pos_weight' :np.arange(5, 40, 5)\n",
    "            }\n",
    "\n",
    "if X_train_2.shape[1] == 1:\n",
    "    param_grid['colsample_bytree'] = [1]\n",
    "    \n",
    "param_dist = {'objective': 'binary:logistic', 'nthread': cpu, 'n_estimators': 200}\n",
    "xgb_model = xgb.XGBClassifier(**param_dist)\n",
    "\n",
    "##random search XGB    \n",
    "clf = RandomizedSearchCV(estimator=xgb_model, param_distributions=param_grid, scoring=['roc_auc'], n_iter=30,\n",
    "                         random_state=40, cv=kfolds.split(X_train_2, y_train), refit='roc_auc',error_score=0, return_train_score =True)\n",
    "print(\"Randomized search..\")\n",
    "search_time_start = time.time()\n",
    "clf.fit(X_train_2, np.ravel(y_train))\n",
    "print(\"Randomized search time:\", time.time() - search_time_start)\n",
    "params = clf.best_params_\n",
    "\n",
    "dic=clf.cv_results_\n",
    "\n",
    "params_bst = params\n",
    "params_tbl = pd.DataFrame(columns=list(params_bst.keys()))  \n",
    "params_tbl.loc['0'] = [params_bst[k] for k in params_tbl.columns]\n",
    "\n",
    "print(\"Best score: {}\".format(clf.best_score_))\n",
    "print(\"Best params: \")\n",
    "for param_name in sorted(params_bst.keys()):\n",
    "    print('%s: %r' % (param_name, params_bst[param_name]))\n",
    "\n",
    "params.update(param_dist)\n",
    "xgb_model = xgb.XGBClassifier(**params)"
   ]
  },
  {
   "cell_type": "code",
   "execution_count": 29,
   "metadata": {},
   "outputs": [],
   "source": [
    "# pd.Series(dic['mean_train_roc_auc']).to_csv(\"clx\\\\mean_train_roc_auc_mesdq.csv\")"
   ]
  },
  {
   "cell_type": "code",
   "execution_count": 30,
   "metadata": {},
   "outputs": [],
   "source": [
    "# pd.Series(dic['mean_test_roc_auc']).to_csv(\"clx\\\\mean_test_roc_auc_mesdq.csv\")"
   ]
  },
  {
   "cell_type": "code",
   "execution_count": 31,
   "metadata": {},
   "outputs": [],
   "source": [
    "# pd.DataFrame(dic['params']).to_csv(\"clx\\\\params_mesdq.csv\")"
   ]
  },
  {
   "cell_type": "code",
   "execution_count": 32,
   "metadata": {},
   "outputs": [],
   "source": [
    "# #First Run\n",
    "# xgb_model = xgb.XGBClassifier(max_depth = 3,\n",
    "#               learning_rate= 0.01,\n",
    "#               subsample= 0.6,\n",
    "#               min_child_weight= 10,\n",
    "#               colsample_bytree= 0.6,\n",
    "#               scale_pos_weight =25,\n",
    "#               objective= 'binary:logistic', \n",
    "#               nthread = -1, \n",
    "#               n_estimators = 200\n",
    "#              )\n",
    "# #GINI TRAIN: \n",
    "\n",
    "# #GINI Validation: \n",
    "\n",
    "# #GINI CV: \n",
    "\n",
    "# #Gini Test "
   ]
  },
  {
   "cell_type": "code",
   "execution_count": 33,
   "metadata": {},
   "outputs": [],
   "source": [
    "#if required\n",
    "#%env JOBLIB_TEMP_FOLDER=/tmp"
   ]
  },
  {
   "cell_type": "code",
   "execution_count": 34,
   "metadata": {
    "scrolled": true
   },
   "outputs": [],
   "source": [
    "# cross validation gini\n",
    "def xgboost(X_tr,X_ts,y_tr,y_ts):\n",
    "    auc_cv = cross_val_score(xgb_model, X_tr, np.ravel(y_tr), scoring='roc_auc', cv=kfolds.split(X_tr, np.ravel(y_tr)),\n",
    "                             n_jobs=1)\n",
    "    gini_cv = (2 * np.array(auc_cv) - 1).mean()\n",
    "    evals=[(X_tr, np.ravel(y_tr)),(X_ts, np.ravel(y_ts))]\n",
    "\n",
    "    bst = xgb_model.fit(X_tr, np.ravel(y_tr), eval_metric=\"auc\", eval_set=evals,\n",
    "                        early_stopping_rounds=early_stopping_round   ,  verbose=False)\n",
    "\n",
    "    if early_stopping_round is None:\n",
    "        ypred_train = bst.predict_proba(X_tr)[:, 1]\n",
    "        ypred_test = bst.predict_proba(X_ts)[:, 1]\n",
    "    else:\n",
    "        ypred_train = bst.predict_proba(X_tr, ntree_limit=bst.best_ntree_limit)[:, 1]\n",
    "        ypred_test = bst.predict_proba(X_ts, ntree_limit=bst.best_ntree_limit)[:, 1]\n",
    "\n",
    "    metric_auc_train = metrics.roc_auc_score(y_tr, ypred_train)\n",
    "    metric_auc_test = metrics.roc_auc_score(y_ts, ypred_test)\n",
    "\n",
    "    gini_train = 2 * metric_auc_train - 1\n",
    "    gini_test = 2 * metric_auc_test - 1\n",
    "\n",
    "    return bst,gini_cv,gini_train,gini_test,ypred_train,ypred_test"
   ]
  },
  {
   "cell_type": "code",
   "execution_count": 35,
   "metadata": {},
   "outputs": [
    {
     "name": "stdout",
     "output_type": "stream",
     "text": [
      "GINI TRAIN: 0.06091324132807685\n",
      "\n",
      "GINI Validation: 0.06082011005663479\n",
      "\n",
      "GINI CV: 0.059987675464021915\n"
     ]
    }
   ],
   "source": [
    "## run xgboost\n",
    "bst,gini_cv,gini_train,gini_test,ypred_train,ypred_test=xgboost(X_train_2, X_valid_2, y_train, y_valid)\n",
    "\n",
    "##Model performance on sample\n",
    "print(\"GINI TRAIN:\",gini_train )\n",
    "print(\"\\nGINI Validation:\",gini_test )\n",
    "print(\"\\nGINI CV:\",gini_cv )"
   ]
  },
  {
   "cell_type": "code",
   "execution_count": 36,
   "metadata": {},
   "outputs": [
    {
     "data": {
      "text/plain": [
       "Index(['ZIPCODE_ADDRESS_RAT', 'OFFICE_ADDRESS_PCT', 'RESIDENCE_ADDRESS_CNT',\n",
       "       'RESIDENCE_ZIPCODE_ADDRESS_RAT', 'PERMANENT_ZIPCODE_ADDRESS_RAT',\n",
       "       'PERMANENT_ADDRESS_PCT', 'ADDRESS_CNT'],\n",
       "      dtype='object')"
      ]
     },
     "execution_count": 36,
     "metadata": {},
     "output_type": "execute_result"
    }
   ],
   "source": [
    "X_train_2.columns"
   ]
  },
  {
   "cell_type": "code",
   "execution_count": 37,
   "metadata": {},
   "outputs": [
    {
     "name": "stdout",
     "output_type": "stream",
     "text": [
      "Gini Test 0.05993673999390725\n"
     ]
    }
   ],
   "source": [
    "#ypred_test = bst.predict_proba(X_test_2.drop(columns=['act','pred']), ntree_limit=bst.best_ntree_limit)[:, 1]\n",
    "ypred_test = bst.predict_proba(X_test_2, ntree_limit=bst.best_ntree_limit)[:, 1]\n",
    "metric_auc_test = metrics.roc_auc_score(y_test, ypred_test)\n",
    "print(\"Gini Test\",metric_auc_test*2-1)"
   ]
  },
  {
   "cell_type": "code",
   "execution_count": 38,
   "metadata": {
    "scrolled": true
   },
   "outputs": [],
   "source": [
    "importance_tbl = fimportances(bst, X_train_2.columns)\n",
    "importance_tbl.to_csv(os.getcwd()+r\"\\xgb_cd_new_varimp.csv\",index=0)"
   ]
  },
  {
   "cell_type": "code",
   "execution_count": 39,
   "metadata": {
    "scrolled": true
   },
   "outputs": [
    {
     "data": {
      "text/html": [
       "<div>\n",
       "<style scoped>\n",
       "    .dataframe tbody tr th:only-of-type {\n",
       "        vertical-align: middle;\n",
       "    }\n",
       "\n",
       "    .dataframe tbody tr th {\n",
       "        vertical-align: top;\n",
       "    }\n",
       "\n",
       "    .dataframe thead th {\n",
       "        text-align: right;\n",
       "    }\n",
       "</style>\n",
       "<table border=\"1\" class=\"dataframe\">\n",
       "  <thead>\n",
       "    <tr style=\"text-align: right;\">\n",
       "      <th></th>\n",
       "      <th>predictor</th>\n",
       "      <th>importance</th>\n",
       "    </tr>\n",
       "  </thead>\n",
       "  <tbody>\n",
       "    <tr>\n",
       "      <th>0</th>\n",
       "      <td>PERMANENT_ZIPCODE_ADDRESS_RAT</td>\n",
       "      <td>0.186047</td>\n",
       "    </tr>\n",
       "    <tr>\n",
       "      <th>1</th>\n",
       "      <td>RESIDENCE_ADDRESS_CNT</td>\n",
       "      <td>0.170543</td>\n",
       "    </tr>\n",
       "    <tr>\n",
       "      <th>2</th>\n",
       "      <td>PERMANENT_ADDRESS_PCT</td>\n",
       "      <td>0.170543</td>\n",
       "    </tr>\n",
       "    <tr>\n",
       "      <th>3</th>\n",
       "      <td>OFFICE_ADDRESS_PCT</td>\n",
       "      <td>0.162791</td>\n",
       "    </tr>\n",
       "    <tr>\n",
       "      <th>4</th>\n",
       "      <td>ZIPCODE_ADDRESS_RAT</td>\n",
       "      <td>0.124031</td>\n",
       "    </tr>\n",
       "    <tr>\n",
       "      <th>5</th>\n",
       "      <td>RESIDENCE_ZIPCODE_ADDRESS_RAT</td>\n",
       "      <td>0.124031</td>\n",
       "    </tr>\n",
       "    <tr>\n",
       "      <th>6</th>\n",
       "      <td>ADDRESS_CNT</td>\n",
       "      <td>0.062016</td>\n",
       "    </tr>\n",
       "  </tbody>\n",
       "</table>\n",
       "</div>"
      ],
      "text/plain": [
       "                       predictor  importance\n",
       "0  PERMANENT_ZIPCODE_ADDRESS_RAT    0.186047\n",
       "1          RESIDENCE_ADDRESS_CNT    0.170543\n",
       "2          PERMANENT_ADDRESS_PCT    0.170543\n",
       "3             OFFICE_ADDRESS_PCT    0.162791\n",
       "4            ZIPCODE_ADDRESS_RAT    0.124031\n",
       "5  RESIDENCE_ZIPCODE_ADDRESS_RAT    0.124031\n",
       "6                    ADDRESS_CNT    0.062016"
      ]
     },
     "execution_count": 39,
     "metadata": {},
     "output_type": "execute_result"
    }
   ],
   "source": [
    "importance_tbl"
   ]
  },
  {
   "cell_type": "code",
   "execution_count": 40,
   "metadata": {},
   "outputs": [
    {
     "name": "stderr",
     "output_type": "stream",
     "text": [
      "C:\\Users\\aman.khatri91425\\AppData\\Local\\Continuum\\anaconda3\\lib\\site-packages\\ipykernel_launcher.py:4: SettingWithCopyWarning: \n",
      "A value is trying to be set on a copy of a slice from a DataFrame.\n",
      "Try using .loc[row_indexer,col_indexer] = value instead\n",
      "\n",
      "See the caveats in the documentation: https://pandas.pydata.org/pandas-docs/stable/user_guide/indexing.html#returning-a-view-versus-a-copy\n",
      "  after removing the cwd from sys.path.\n"
     ]
    }
   ],
   "source": [
    "## save the model \n",
    "pickle.dump(bst, open(os.getcwd()+r\"\\model_cd_new.pkl\", \"wb\"))\n",
    "##Score the dataset\n",
    "outtest=X_test_2;  outtest['pred']=ypred_test ; outtest['act']=y_test ; \n",
    "outtest.to_csv(os.getcwd()+r\"\\cd_new_test_scored.csv\")"
   ]
  },
  {
   "cell_type": "code",
   "execution_count": 41,
   "metadata": {},
   "outputs": [],
   "source": [
    "df[\"XGB_SCORE\"] = bst.predict_proba(df[selected_vars[0]], ntree_limit=bst.best_ntree_limit)[:, 1]"
   ]
  },
  {
   "cell_type": "code",
   "execution_count": 42,
   "metadata": {},
   "outputs": [
    {
     "name": "stdout",
     "output_type": "stream",
     "text": [
      "[[692592  33535]\n",
      " [ 29467   4469]]\n",
      "\n",
      " Log Loss is : 0.7103082533043064\n",
      "Average precision-recall score: 0.05\n"
     ]
    },
    {
     "data": {
      "image/png": "[encoded data removed]",
      "text/plain": [
       "<Figure size 432x288 with 1 Axes>"
      ]
     },
     "metadata": {
      "needs_background": "light"
     },
     "output_type": "display_data"
    }
   ],
   "source": [
    "#metrics calculation\n",
    "cutoff=np.percentile(X_test['RISK_SCORE'],95)\n",
    "ypred=pd.Series(X_test['RISK_SCORE']).apply(lambda x : 1 if x >cutoff else 0 )\n",
    "#ypred=pd.Series(ypred_test).apply(lambda x : 1 if x > 0.48631722 else 0 )\n",
    "\n",
    "print(confusion_matrix(y_test, ypred))\n",
    "pd.Series(ypred_test).plot.hist(bins=10, rwidth=0.9 ,color='#607c8e')\n",
    "\n",
    "print(\"\\n Log Loss is :\",log_loss(y_test, ypred_test))\n",
    "print('Average precision-recall score: {0:0.2f}'.format(average_precision_score(y_test, ypred_test)))"
   ]
  },
  {
   "cell_type": "code",
   "execution_count": 43,
   "metadata": {},
   "outputs": [],
   "source": [
    "# retrieve performance metrics\n",
    "results = bst.evals_result()\n",
    "epochs = len(results['validation_0']['auc'])\n",
    "x_axis = range(0, epochs)"
   ]
  },
  {
   "cell_type": "code",
   "execution_count": 44,
   "metadata": {},
   "outputs": [
    {
     "data": {
      "text/plain": [
       "Text(0.5, 1.0, 'XGBoost AUC')"
      ]
     },
     "execution_count": 44,
     "metadata": {},
     "output_type": "execute_result"
    },
    {
     "data": {
      "image/png": "[encoded data removed]",
      "text/plain": [
       "<Figure size 432x288 with 1 Axes>"
      ]
     },
     "metadata": {
      "needs_background": "light"
     },
     "output_type": "display_data"
    }
   ],
   "source": [
    "# plot classification error\n",
    "fig, ax = plt.subplots()\n",
    "ax.plot(x_axis, results['validation_0']['auc'], label='train')\n",
    "ax.plot(x_axis, results['validation_1']['auc'], label='test')\n",
    "\n",
    "ax.legend()\n",
    "plt.ylabel('XGB AUC')\n",
    "plt.title('XGBoost AUC')"
   ]
  },
  {
   "cell_type": "code",
   "execution_count": 45,
   "metadata": {},
   "outputs": [
    {
     "data": {
      "image/png": "[encoded data removed]",
      "text/plain": [
       "<Figure size 432x288 with 1 Axes>"
      ]
     },
     "metadata": {
      "needs_background": "light"
     },
     "output_type": "display_data"
    }
   ],
   "source": [
    "# Compute micro-average ROC curve and ROC area\n",
    "fpr, tpr, thresholds = roc_curve(y_test.ravel(), ypred_test.ravel())\n",
    "roc_auc = auc(fpr, tpr)\n",
    "\n",
    "plt.figure()\n",
    "lw = 1\n",
    "plt.plot(fpr, tpr, color='darkorange',         lw=lw, label='ROC curve (area = %0.2f)' % roc_auc)\n",
    "plt.plot([0, 1], [0, 1], color='navy', lw=lw, linestyle='--')\n",
    "plt.xlim([0.0, 1.0])\n",
    "plt.ylim([0.0, 1.05])\n",
    "plt.xlabel('False Positive Rate')\n",
    "plt.ylabel('True Positive Rate')\n",
    "plt.title('Receiver operating characteristic example')\n",
    "plt.legend(loc=\"lower right\")\n",
    "plt.show()"
   ]
  },
  {
   "cell_type": "code",
   "execution_count": 46,
   "metadata": {},
   "outputs": [
    {
     "data": {
      "text/plain": [
       "[Text(-2.5, 0, ''),\n",
       " Text(0.0, 0, ''),\n",
       " Text(2.5, 0, ''),\n",
       " Text(5.0, 0, ''),\n",
       " Text(7.5, 0, ''),\n",
       " Text(10.0, 0, ''),\n",
       " Text(12.5, 0, ''),\n",
       " Text(15.0, 0, ''),\n",
       " Text(17.5, 0, ''),\n",
       " Text(20.0, 0, '')]"
      ]
     },
     "execution_count": 46,
     "metadata": {},
     "output_type": "execute_result"
    },
    {
     "data": {
      "image/png": "[encoded data removed]",
      "text/plain": [
       "<Figure size 432x288 with 1 Axes>"
      ]
     },
     "metadata": {
      "needs_background": "light"
     },
     "output_type": "display_data"
    }
   ],
   "source": [
    "i = np.arange(len(tpr)) # index for df\n",
    "roc = pd.DataFrame({'fpr' : pd.Series(fpr, index=i),'tpr' : pd.Series(tpr, index = i), '1-fpr' : pd.Series(1-fpr, index = i), 'tf' : pd.Series(tpr - (1-fpr), index = i), 'thresholds' : pd.Series(thresholds, index = i)})\n",
    "roc.iloc[(roc.tf-0).abs().argsort()[:1]]\n",
    "\n",
    "# Plot tpr vs 1-fpr\n",
    "fig, ax = plt.subplots()\n",
    "plt.plot(roc['tpr'])\n",
    "plt.plot(roc['1-fpr'], color = 'red')\n",
    "plt.xlabel('1-False Positive Rate')\n",
    "plt.ylabel('True Positive Rate')\n",
    "plt.title('Receiver operating characteristic')\n",
    "ax.set_xticklabels([])"
   ]
  },
  {
   "cell_type": "code",
   "execution_count": 47,
   "metadata": {},
   "outputs": [
    {
     "name": "stdout",
     "output_type": "stream",
     "text": [
      "\n",
      " Optimal Cut off : 0.5091623\n"
     ]
    }
   ],
   "source": [
    "optimal_idx = np.argmax(tpr - fpr)  ## check it once \n",
    "optimal_threshold = thresholds[optimal_idx]\n",
    "print(\"\\n Optimal Cut off :\",optimal_threshold)"
   ]
  },
  {
   "cell_type": "code",
   "execution_count": 48,
   "metadata": {
    "scrolled": false
   },
   "outputs": [
    {
     "name": "stdout",
     "output_type": "stream",
     "text": [
      "\n",
      "Total bad : 49938\n",
      "Bad captured in worst category : 21.60%\n",
      "\n",
      "                                    RISK_SCORE  RISK_FSTQPD30\n",
      "RISK_SCORE                                                  \n",
      "(-0.0007210000000000001, 0.00362]    0.002702       0.016127\n",
      "(0.00362, 0.00483]                   0.004247       0.024134\n",
      "(0.00483, 0.00589]                   0.005364       0.028158\n",
      "(0.00589, 0.00693]                   0.006408       0.032908\n",
      "(0.00693, 0.00804]                   0.007475       0.039390\n",
      "(0.00804, 0.00928]                   0.008647       0.046276\n",
      "(0.00928, 0.0109]                    0.010010       0.058758\n",
      "(0.0109, 0.0132]                     0.011939       0.069616\n",
      "(0.0132, 0.0171]                     0.014926       0.085528\n",
      "(0.0171, 0.415]                      0.023923       0.110429\n",
      "                                    RISK_SCORE  RISK_FSTQPD30\n",
      "RISK_SCORE                                                   \n",
      "(-0.0007210000000000001, 0.00362]   263.865016           1575\n",
      "(0.00362, 0.00483]                  414.777269           2357\n",
      "(0.00483, 0.00589]                  523.844325           2750\n",
      "(0.00589, 0.00693]                  625.860974           3214\n",
      "(0.00693, 0.00804]                  730.069606           3847\n",
      "(0.00804, 0.00928]                  844.638091           4520\n",
      "(0.00928, 0.0109]                   977.552506           5738\n",
      "(0.0109, 0.0132]                   1166.058592           6799\n",
      "(0.0132, 0.0171]                   1457.761427           8353\n",
      "(0.0171, 0.415]                    2336.439233          10785\n"
     ]
    }
   ],
   "source": [
    "## Bad rates in overall population \n",
    "cd=pd.DataFrame(df[['RISK_SCORE','RISK_FSTQPD30']]).sort_values(by=['RISK_SCORE'],ascending=False)\n",
    "print(\"\\nTotal bad :\",df['RISK_FSTQPD30'].sum())\n",
    "print(\"Bad captured in worst category :\",'{:,.2%}'.format(cd.groupby(pd.qcut(cd['RISK_SCORE'],10,duplicates='drop')).sum()['RISK_FSTQPD30'][-1]/df['RISK_FSTQPD30'].sum()))\n",
    "print(\"\\n\",cd.groupby(pd.qcut(cd['RISK_SCORE'],10,duplicates='drop')).mean())\n",
    "print(cd.groupby(pd.qcut(cd['RISK_SCORE'],10,duplicates='drop')).sum())"
   ]
  },
  {
   "cell_type": "code",
   "execution_count": 49,
   "metadata": {
    "scrolled": false
   },
   "outputs": [
    {
     "name": "stdout",
     "output_type": "stream",
     "text": [
      "Bad captured in worst category Partner Score test sample : 11.91%\n",
      "\n",
      "Total bads in test sample: 33936\n",
      "                      pred       act\n",
      "pred                                \n",
      "(0.5082, 0.5087]  0.508664  0.041121\n",
      "(0.5087, 0.5092]  0.509079  0.048150\n",
      "(0.5092, 0.5106]  0.510614  0.048116\n",
      "(0.5106, 0.5111]  0.510813  0.051737\n",
      "(0.5111, 0.5132]  0.512054  0.057643\n",
      "                           pred    act\n",
      "pred                                  \n",
      "(0.5082, 0.5087]  260384.593750  21050\n",
      "(0.5087, 0.5092]   29402.876953   2781\n",
      "(0.5092, 0.5106]   22603.873047   2130\n",
      "(0.5106, 0.5111]   38821.824219   3932\n",
      "(0.5111, 0.5132]   35914.980469   4043\n"
     ]
    }
   ],
   "source": [
    "## Bad rates in overall population \n",
    "cdt=pd.DataFrame(outtest[['pred','act']])\n",
    "print(\"Bad captured in worst category Partner Score test sample :\",'{:,.2%}'.format(cdt.groupby(pd.qcut(cdt['pred'],10,duplicates='drop')).sum()['act'][-1]/cdt['act'].sum()))\n",
    "print(\"\\nTotal bads in test sample:\",cdt['act'].sum())\n",
    "print(cdt.groupby(pd.qcut(cdt['pred'],10,duplicates='drop')).mean())\n",
    "print(cdt.groupby(pd.qcut(cdt['pred'],10,duplicates='drop')).sum())"
   ]
  },
  {
   "cell_type": "code",
   "execution_count": 50,
   "metadata": {},
   "outputs": [],
   "source": [
    "## Pillar  approach to combine score\n",
    "hcc_score = 'RISK_SCORE'\n",
    "X_pillar_train = pd.DataFrame()\n",
    "X_pillar_test = pd.DataFrame()\n",
    "\n",
    "X_pillar_train[hcc_score]=df_train['RISK_SCORE']; \n",
    "X_pillar_test[hcc_score]=df_test['RISK_SCORE']\n",
    "\n",
    "X_pillar_train[\"XGB_SCORE\"] =  bst.predict_proba(df_train[selected_vars[0]], ntree_limit=bst.best_ntree_limit)[:, 1]\n",
    "X_pillar_test[\"XGB_SCORE\"]  =  bst.predict_proba(df_test[selected_vars[0]], ntree_limit=bst.best_ntree_limit)[:, 1]\n",
    "\n",
    "X_pillar_train[\"FSTQ\"] = df_train['RISK_FSTQPD30']\n",
    "X_pillar_test[\"FSTQ\"] = df_test['RISK_FSTQPD30']\n",
    "\n",
    "X_train_log = X_pillar_train.loc[pd.notnull(X_pillar_train[hcc_score]),['RISK_SCORE','XGB_SCORE']]\n",
    "y_train_log = X_pillar_train.loc[pd.notnull(X_pillar_train[hcc_score]),['FSTQ']]\n",
    "\n",
    "X_test_log = X_pillar_test.loc[pd.notnull(X_pillar_test[hcc_score]),['RISK_SCORE','XGB_SCORE']]\n",
    "y_test_log = X_pillar_test.loc[pd.notnull(X_pillar_test[hcc_score]),['FSTQ']]\n",
    "\n",
    "X_train_log = np.log((X_train_log + 1e-10).divide(1 - (X_train_log + 1e-10)))\n",
    "X_test_log = np.log((X_test_log + 1e-10).divide(1 - (X_test_log + 1e-10)))\n",
    "\n",
    "\n"
   ]
  },
  {
   "cell_type": "code",
   "execution_count": 51,
   "metadata": {},
   "outputs": [],
   "source": [
    "df[\"RISK_SCORE_LOG\"]= np.log((df[\"RISK_SCORE\"] + 1e-10).divide(1 - (df[\"RISK_SCORE\"] + 1e-10)))\n",
    "df[\"XGB_SCORE_LOG\"]= np.log((df[\"XGB_SCORE\"] + 1e-10).divide(1 - (df[\"XGB_SCORE\"] + 1e-10)))\n"
   ]
  },
  {
   "cell_type": "code",
   "execution_count": 52,
   "metadata": {
    "scrolled": true
   },
   "outputs": [
    {
     "name": "stderr",
     "output_type": "stream",
     "text": [
      "C:\\Users\\aman.khatri91425\\AppData\\Local\\Continuum\\anaconda3\\lib\\site-packages\\sklearn\\linear_model\\logistic.py:433: FutureWarning: Default solver will be changed to 'lbfgs' in 0.22. Specify a solver to silence this warning.\n",
      "  FutureWarning)\n",
      "C:\\Users\\aman.khatri91425\\AppData\\Local\\Continuum\\anaconda3\\lib\\site-packages\\sklearn\\linear_model\\logistic.py:1300: UserWarning: 'n_jobs' > 1 does not have any effect when 'solver' is set to 'liblinear'. Got 'n_jobs' = 8.\n",
      "  \" = {}.\".format(effective_n_jobs(self.n_jobs)))\n"
     ]
    }
   ],
   "source": [
    "logreg = LogisticRegression(C=11, n_jobs=cpu)\n",
    "\n",
    "# cross validation gini\n",
    "kfolds = StratifiedKFold(10, random_state=1)\n",
    "# auc_cv = cross_val_score(logreg, X_train_log, y_train_log, scoring='roc_auc',\n",
    "#                          cv=kfolds.split(X_test_log, y_test_log), n_jobs=cpu)\n",
    "# gini_cv = (2 * np.array(auc_cv) - 1).mean()\n",
    "\n",
    "logreg.fit(X_train_log, np.ravel(y_train_log))\n",
    "log_coef_tbl = pd.DataFrame({'predictor': ['intercept'] + X_train_log.columns.tolist(),\n",
    "                             'coefficient': list(logreg.intercept_) + list(logreg.coef_[0])})\n",
    "log_coef_tbl = log_coef_tbl[['predictor', 'coefficient']]"
   ]
  },
  {
   "cell_type": "code",
   "execution_count": 53,
   "metadata": {},
   "outputs": [
    {
     "data": {
      "text/html": [
       "<div>\n",
       "<style scoped>\n",
       "    .dataframe tbody tr th:only-of-type {\n",
       "        vertical-align: middle;\n",
       "    }\n",
       "\n",
       "    .dataframe tbody tr th {\n",
       "        vertical-align: top;\n",
       "    }\n",
       "\n",
       "    .dataframe thead th {\n",
       "        text-align: right;\n",
       "    }\n",
       "</style>\n",
       "<table border=\"1\" class=\"dataframe\">\n",
       "  <thead>\n",
       "    <tr style=\"text-align: right;\">\n",
       "      <th></th>\n",
       "      <th>predictor</th>\n",
       "      <th>coefficient</th>\n",
       "    </tr>\n",
       "  </thead>\n",
       "  <tbody>\n",
       "    <tr>\n",
       "      <th>0</th>\n",
       "      <td>intercept</td>\n",
       "      <td>-0.210181</td>\n",
       "    </tr>\n",
       "    <tr>\n",
       "      <th>1</th>\n",
       "      <td>RISK_SCORE</td>\n",
       "      <td>0.693030</td>\n",
       "    </tr>\n",
       "    <tr>\n",
       "      <th>2</th>\n",
       "      <td>XGB_SCORE</td>\n",
       "      <td>23.011064</td>\n",
       "    </tr>\n",
       "  </tbody>\n",
       "</table>\n",
       "</div>"
      ],
      "text/plain": [
       "    predictor  coefficient\n",
       "0   intercept    -0.210181\n",
       "1  RISK_SCORE     0.693030\n",
       "2   XGB_SCORE    23.011064"
      ]
     },
     "execution_count": 53,
     "metadata": {},
     "output_type": "execute_result"
    }
   ],
   "source": [
    "log_coef_tbl"
   ]
  },
  {
   "cell_type": "code",
   "execution_count": 54,
   "metadata": {},
   "outputs": [
    {
     "name": "stdout",
     "output_type": "stream",
     "text": [
      "GINI TRAIN: 0.2417440190189457\n",
      "GINI TEST: 0.3521366962959471\n"
     ]
    }
   ],
   "source": [
    "## Model performance\n",
    "ypred_train_pillar = logreg.predict_proba(X_train_log)[:, 1]\n",
    "metric_auc_train_log = metrics.roc_auc_score(np.ravel(y_train_log), ypred_train_pillar)\n",
    "gini_train_pillar = 2 * metric_auc_train_log - 1\n",
    "ypred_test_pillar = logreg.predict_proba(X_test_log)[:, 1]\n",
    "metric_auc_test_log = metrics.roc_auc_score(np.ravel(y_test_log), ypred_test_pillar)\n",
    "gini_test_pillar = 2 * metric_auc_test_log - 1\n",
    "\n",
    "print(\"GINI TRAIN:\",gini_train_pillar )\n",
    "print(\"GINI TEST:\",gini_test_pillar )\n",
    "# print(\"GINI CV:\",gini_cv)"
   ]
  },
  {
   "cell_type": "code",
   "execution_count": 55,
   "metadata": {},
   "outputs": [],
   "source": [
    "df[\"COMBINED_SCORE\"] = logreg.predict_proba(df[['RISK_SCORE_LOG', 'XGB_SCORE_LOG']])[:, 1]"
   ]
  },
  {
   "cell_type": "code",
   "execution_count": 56,
   "metadata": {},
   "outputs": [
    {
     "name": "stdout",
     "output_type": "stream",
     "text": [
      "COMBINED: 0.3330736846137259\n",
      "RISK: 0.32845107708805865\n",
      "XGB: 0.055959494985142966\n"
     ]
    }
   ],
   "source": [
    "print(\"COMBINED:\",2*metrics.roc_auc_score(df[\"RISK_FSTQPD30\"], df[\"COMBINED_SCORE\"])-1)\n",
    "print(\"RISK:\",2*metrics.roc_auc_score(df[\"RISK_FSTQPD30\"], df[\"RISK_SCORE\"])-1)\n",
    "print(\"XGB:\",2*metrics.roc_auc_score(df[\"RISK_FSTQPD30\"], df[\"XGB_SCORE\"])-1)\n"
   ]
  },
  {
   "cell_type": "code",
   "execution_count": 57,
   "metadata": {},
   "outputs": [],
   "source": [
    "df.to_pickle(os.getcwd()+\"\\scored_cd_new.pkl\")"
   ]
  },
  {
   "cell_type": "code",
   "execution_count": 58,
   "metadata": {},
   "outputs": [],
   "source": [
    "df.to_csv(os.getcwd()+\"\\scored_cd_new.csv\")"
   ]
  },
  {
   "cell_type": "code",
   "execution_count": 59,
   "metadata": {},
   "outputs": [
    {
     "name": "stderr",
     "output_type": "stream",
     "text": [
      "C:\\Users\\aman.khatri91425\\AppData\\Local\\Continuum\\anaconda3\\lib\\site-packages\\ipykernel_launcher.py:1: SettingWithCopyWarning: \n",
      "A value is trying to be set on a copy of a slice from a DataFrame.\n",
      "Try using .loc[row_indexer,col_indexer] = value instead\n",
      "\n",
      "See the caveats in the documentation: https://pandas.pydata.org/pandas-docs/stable/user_guide/indexing.html#returning-a-view-versus-a-copy\n",
      "  \"\"\"Entry point for launching an IPython kernel.\n"
     ]
    }
   ],
   "source": [
    "outtest1=df_train;  outtest1['pred']=ypred_train_pillar ; outtest1['act']=ypred ; \n",
    "# outtest1.to_csv(r\"clx\\\\comb_cd_fstq_clx_mix.csv\")"
   ]
  },
  {
   "cell_type": "code",
   "execution_count": 60,
   "metadata": {},
   "outputs": [
    {
     "name": "stdout",
     "output_type": "stream",
     "text": [
      "[[692673  29386]\n",
      " [ 33454   4550]]\n"
     ]
    },
    {
     "data": {
      "text/plain": [
       "<AxesSubplot:ylabel='Frequency'>"
      ]
     },
     "execution_count": 60,
     "metadata": {},
     "output_type": "execute_result"
    },
    {
     "data": {
      "image/png": "[encoded data removed]",
      "text/plain": [
       "<Figure size 432x288 with 1 Axes>"
      ]
     },
     "metadata": {
      "needs_background": "light"
     },
     "output_type": "display_data"
    }
   ],
   "source": [
    "#metrics calculation\n",
    "cutoff=np.percentile(ypred_test_pillar,95)\n",
    "ypred=pd.Series(ypred_test_pillar).apply(lambda x : 1 if x >cutoff else 0 )\n",
    "\n",
    "print(confusion_matrix(ypred,df_test['RISK_FSTQPD30'] ))\n",
    "pd.Series(ypred_test_pillar).plot.hist(bins=10, rwidth=0.9 ,color='#607c8e')"
   ]
  },
  {
   "cell_type": "code",
   "execution_count": 61,
   "metadata": {},
   "outputs": [
    {
     "name": "stdout",
     "output_type": "stream",
     "text": [
      "\n",
      " Log Loss is : 0.17922429515488655\n",
      "Average precision-recall score: 0.09\n"
     ]
    }
   ],
   "source": [
    "print(\"\\n Log Loss is :\",log_loss(df_test['RISK_FSTQPD30'], ypred_test_pillar))\n",
    "print('Average precision-recall score: {0:0.2f}'.format(average_precision_score(df_test['RISK_FSTQPD30'], ypred_test_pillar)))"
   ]
  },
  {
   "cell_type": "code",
   "execution_count": 62,
   "metadata": {},
   "outputs": [
    {
     "data": {
      "text/plain": [
       "760063"
      ]
     },
     "execution_count": 62,
     "metadata": {},
     "output_type": "execute_result"
    }
   ],
   "source": [
    "len(ypred_test_pillar)"
   ]
  },
  {
   "cell_type": "code",
   "execution_count": 63,
   "metadata": {},
   "outputs": [
    {
     "data": {
      "image/png": "[encoded data removed]",
      "text/plain": [
       "<Figure size 432x288 with 1 Axes>"
      ]
     },
     "metadata": {
      "needs_background": "light"
     },
     "output_type": "display_data"
    }
   ],
   "source": [
    "## PRC curve\n",
    "#precision, recall, _ = precision_recall_curve(ypred, ypred_test_pillar)\n",
    "\n",
    "# step_kwargs = ({'step': 'post'}\n",
    "#                #if 'step' in signature(plt.fill_between).parameters\n",
    "#                #else {}\n",
    "#               )\n",
    "# plt.step(recall, precision, color='b', alpha=0.2, where='post')\n",
    "# plt.fill_between(recall, precision, alpha=0.2, color='b', **step_kwargs)\n",
    "\n",
    "# plt.xlabel('Recall')\n",
    "# plt.ylabel('Precision')\n",
    "# plt.ylim([0.0, 0.5])\n",
    "# plt.xlim([0.0, 0.5])\n",
    "# plt.title('2-class Precision-Recall curve: AP={0:0.2f}'.format(average_precision_score(test['RISK_FSTQPD30'], ypred_test_pillar)))\n",
    "\n",
    "# # calculate precision-recall AUC\n",
    "# auc_pr = auc(recall, precision)\n",
    "# print(\"\\n AUC for precision-recall :\",auc_pr)\n",
    "\n",
    "# Compute micro-average ROC curve and ROC area\n",
    "fprhc, tprhc, thresholds = roc_curve(df_test['RISK_FSTQPD30'], df_test['RISK_SCORE'].ravel())\n",
    "roc_auchc = auc(fprhc, tprhc)\n",
    "\n",
    "fprc, tprc, thresholds = roc_curve(df_test['RISK_FSTQPD30'], ypred_test_pillar.ravel())\n",
    "roc_aucc = auc(fprc, tprc)\n",
    "\n",
    "plt.figure()\n",
    "lw = 1\n",
    "plt.plot(fprc, tprc, lw=lw, label='ROC Comb (area = %0.2f)' % roc_aucc)\n",
    "plt.plot(fprhc, tprhc, lw=lw, label='ROC HC (area = %0.2f)' % roc_auchc)\n",
    "plt.plot([0, 1], [0, 1], color='navy', lw=lw, linestyle='--')\n",
    "plt.plot(fpr, tpr, lw=lw, label='ROC partner (area = %0.2f)' % roc_auc)\n",
    "plt.xlim([0.0, 1.0])\n",
    "plt.ylim([0.0, 1.05])\n",
    "plt.xlabel('False Positive Rate')\n",
    "plt.ylabel('True Positive Rate')\n",
    "plt.title('Receiver operating characteristic example')\n",
    "plt.legend(loc=\"lower right\")\n",
    "plt.show()"
   ]
  },
  {
   "cell_type": "code",
   "execution_count": 64,
   "metadata": {},
   "outputs": [
    {
     "name": "stdout",
     "output_type": "stream",
     "text": [
      "Bad captured in worst category Partner Score test sample : nan%\n",
      "\n",
      "Total bads in test sample: 0.0\n",
      "                       pred  act\n",
      "pred                            \n",
      "(0.00545, 0.0393]  0.031435  NaN\n",
      "(0.0393, 0.0486]   0.044191  NaN\n",
      "(0.0486, 0.0563]   0.052516  NaN\n",
      "(0.0563, 0.0632]   0.059775  NaN\n",
      "(0.0632, 0.0701]   0.066631  NaN\n",
      "(0.0701, 0.0775]   0.073703  NaN\n",
      "(0.0775, 0.0859]   0.081654  NaN\n",
      "(0.0859, 0.0967]   0.091044  NaN\n",
      "(0.0967, 0.112]    0.103680  NaN\n",
      "(0.112, 0.604]     0.134220  NaN\n",
      "                          pred  act\n",
      "pred                               \n",
      "(0.00545, 0.0393]   680.845951  0.0\n",
      "(0.0393, 0.0486]    957.084752  0.0\n",
      "(0.0486, 0.0563]   1137.397040  0.0\n",
      "(0.0563, 0.0632]   1294.605954  0.0\n",
      "(0.0632, 0.0701]   1443.104349  0.0\n",
      "(0.0701, 0.0775]   1596.266837  0.0\n",
      "(0.0775, 0.0859]   1768.464917  0.0\n",
      "(0.0859, 0.0967]   1971.838530  0.0\n",
      "(0.0967, 0.112]    2245.491983  0.0\n",
      "(0.112, 0.604]     2906.940002  0.0\n"
     ]
    },
    {
     "name": "stderr",
     "output_type": "stream",
     "text": [
      "C:\\Users\\aman.khatri91425\\AppData\\Local\\Continuum\\anaconda3\\lib\\site-packages\\ipykernel_launcher.py:3: RuntimeWarning: invalid value encountered in double_scalars\n",
      "  This is separate from the ipykernel package so we can avoid doing imports until\n"
     ]
    }
   ],
   "source": [
    "## Bad rates combined score in overall population \n",
    "cdt=pd.DataFrame(outtest1[['pred','act']])\n",
    "print(\"Bad captured in worst category Partner Score test sample :\",'{:,.2%}'.format(cdt.groupby(pd.qcut(cdt['pred'],10,duplicates='drop')).sum()['act'][-1]/cdt['act'].sum()))\n",
    "print(\"\\nTotal bads in test sample:\",cdt['act'].sum())\n",
    "print(cdt.groupby(pd.qcut(cdt['pred'],10,duplicates='drop')).mean())\n",
    "print(cdt.groupby(pd.qcut(cdt['pred'],10,duplicates='drop')).sum())"
   ]
  },
  {
   "cell_type": "code",
   "execution_count": null,
   "metadata": {},
   "outputs": [],
   "source": []
  }
 ],
 "metadata": {
  "kernelspec": {
   "display_name": "Python 3",
   "language": "python",
   "name": "python3"
  },
  "language_info": {
   "codemirror_mode": {
    "name": "ipython",
    "version": 3
   },
   "file_extension": ".py",
   "mimetype": "text/x-python",
   "name": "python",
   "nbconvert_exporter": "python",
   "pygments_lexer": "ipython3",
   "version": "3.7.3"
  }
 },
 "nbformat": 4,
 "nbformat_minor": 2
}
