{
 "cells": [
  {
   "cell_type": "code",
   "execution_count": 6,
   "metadata": {},
   "outputs": [],
   "source": [
    "import os\n",
    "import cx_Oracle\n",
    "import pandas as pd\n",
    "import numpy as np\n",
    "import pickle\n",
    "from datetime import date,datetime\n",
    "from sklearn import metrics\n",
    "from sklearn.model_selection import train_test_split, StratifiedKFold, RandomizedSearchCV, cross_val_score \n",
    "import time\n",
    "import matplotlib.pyplot as plt\n",
    "from sklearn.utils import resample\n",
    "import datetime\n",
    "import sys\n",
    "sys.path.append(R'C:\\Users\\aman.khatri91425\\Desktop\\HomeCredit\\Bigdata\\Scoring Worlflow')"
   ]
  },
  {
   "cell_type": "code",
   "execution_count": 7,
   "metadata": {},
   "outputs": [],
   "source": [
    "os.chdir(r\"C:\\Users\\aman.khatri91425\\Desktop\\HomeCredit\\UW\\RSS\")"
   ]
  },
  {
   "cell_type": "markdown",
   "metadata": {},
   "source": [
    "# Read Data File"
   ]
  },
  {
   "cell_type": "code",
   "execution_count": 3,
   "metadata": {},
   "outputs": [],
   "source": [
    "df=pd.read_csv(os.getcwd()+r\"\\Data Files\\export_concatenated.csv\")"
   ]
  },
  {
   "cell_type": "code",
   "execution_count": 4,
   "metadata": {},
   "outputs": [],
   "source": [
    "df = df[(df[\"SOURCE_ID\"]==\"CIBIL\")&(df[\"CLIENT_EXI_3M\"]==\"Y\")]"
   ]
  },
  {
   "cell_type": "markdown",
   "metadata": {},
   "source": [
    "# WOE Analysis(Selected Variables)"
   ]
  },
  {
   "cell_type": "code",
   "execution_count": 8,
   "metadata": {},
   "outputs": [
    {
     "data": {
      "text/plain": [
       "Index(['Unnamed: 0', 'SKP_CREDIT_CASE', 'TIME_DECISION_DATE', 'CLIENT_EXI_3M',\n",
       "       'RISK_FPD30', 'RISK_FSTQPD30', 'RISK_FSTQPD60', 'SOURCE_ID',\n",
       "       'ADDRESS_CNT', 'ZIPCODE_CNT', 'ZIPCODE_ADDRESS_RAT',\n",
       "       'RESIDENCE_ADDRESS_CNT', 'RESIDENCE_ZIPCODE_CNT',\n",
       "       'RESIDENCE_ZIPCODE_ADDRESS_RAT', 'RESIDENCE_ADDRESS_PCT',\n",
       "       'OFFICE_ADDRESS_CNT', 'OFFICE_ZIPCODE_CNT',\n",
       "       'OFFICE_ZIPCODE_ADDRESS_RAT', 'OFFICE_ADDRESS_PCT',\n",
       "       'PERMANENT_ADDRESS_CNT', 'PERMANENT_ZIPCODE_CNT',\n",
       "       'PERMANENT_ZIPCODE_ADDRESS_RAT', 'PERMANENT_ADDRESS_PCT',\n",
       "       'PERMANENT_OFFICE_COMB_RAT', 'RESIDENT_OFFICE_COMB_RAT',\n",
       "       'PERMANENT_RESIDENCE_COMB_RAT', 'RISK_SCORE'],\n",
       "      dtype='object')"
      ]
     },
     "execution_count": 8,
     "metadata": {},
     "output_type": "execute_result"
    }
   ],
   "source": [
    "df.columns"
   ]
  },
  {
   "cell_type": "code",
   "execution_count": 9,
   "metadata": {},
   "outputs": [],
   "source": [
    "df_train = df"
   ]
  },
  {
   "cell_type": "code",
   "execution_count": 14,
   "metadata": {},
   "outputs": [],
   "source": [
    "cols_pred_cat=[]\n",
    "cols_pred_num = ['RESIDENCE_ZIPCODE_ADDRESS_RAT',\n",
    "  'ZIPCODE_ADDRESS_RAT',\n",
    "  'OFFICE_ADDRESS_PCT',\n",
    "  'ADDRESS_CNT',\n",
    "  'PERMANENT_ADDRESS_PCT',\n",
    "  'PERMANENT_ZIPCODE_ADDRESS_RAT','RISK_SCORE']"
   ]
  },
  {
   "cell_type": "code",
   "execution_count": 15,
   "metadata": {},
   "outputs": [
    {
     "data": {
      "application/vnd.jupyter.widget-view+json": {
       "model_id": "872da5d4ddd845b8b8bc12d2839d957e",
       "version_major": 2,
       "version_minor": 0
      },
      "text/plain": [
       "HBox(children=(FloatProgress(value=0.0, max=7.0), HTML(value='')))"
      ]
     },
     "metadata": {},
     "output_type": "display_data"
    },
    {
     "name": "stdout",
     "output_type": "stream",
     "text": [
      "\n"
     ]
    },
    {
     "data": {
      "text/plain": [
       "'Grouping saved on 2020-11-03 17:03:11 to file C:\\\\Users\\\\aman.khatri91425\\\\Desktop\\\\HomeCredit\\\\Bigdata\\\\Common Maps KNN\\\\my_grouping'"
      ]
     },
     "metadata": {},
     "output_type": "display_data"
    },
    {
     "data": {
      "application/vnd.jupyter.widget-view+json": {
       "model_id": "ae1c800d06aa481687fb96f9a4f7035e",
       "version_major": 2,
       "version_minor": 0
      },
      "text/plain": [
       "HBox(children=(FloatProgress(value=0.0, max=7.0), HTML(value='')))"
      ]
     },
     "metadata": {},
     "output_type": "display_data"
    },
    {
     "name": "stdout",
     "output_type": "stream",
     "text": [
      "\n"
     ]
    }
   ],
   "source": [
    "from scoring.grouping import Grouping\n",
    "\n",
    "grouping = Grouping(columns = sorted(cols_pred_num),\n",
    "                    cat_columns = sorted(cols_pred_cat),\n",
    "                    group_count=3, \n",
    "                    min_samples=10000)\n",
    "\n",
    "grouping.fit(df_train[cols_pred_num],\n",
    "             df_train[\"RISK_FSTQPD60\"],\n",
    "          #   w=data[train_mask][col_weight],\n",
    "            progress_bar=True, category_limit=10000);\n",
    "\n",
    "grouping.save(r\"C:\\Users\\aman.khatri91425\\Desktop\\HomeCredit\\Bigdata\\Common Maps KNN\\my_grouping\")\n",
    "\n",
    "data_woe = grouping.transform(df, transform_to='woe', progress_bar=True)"
   ]
  },
  {
   "cell_type": "markdown",
   "metadata": {},
   "source": [
    "### Plot Bins"
   ]
  },
  {
   "cell_type": "code",
   "execution_count": 16,
   "metadata": {
    "scrolled": true
   },
   "outputs": [
    {
     "data": {
      "text/markdown": [
       "***"
      ],
      "text/plain": [
       "<IPython.core.display.Markdown object>"
      ]
     },
     "metadata": {},
     "output_type": "display_data"
    },
    {
     "data": {
      "text/markdown": [
       "### ADDRESS_CNT"
      ],
      "text/plain": [
       "<IPython.core.display.Markdown object>"
      ]
     },
     "metadata": {},
     "output_type": "display_data"
    },
    {
     "data": {
      "text/html": [
       "<div>\n",
       "<style scoped>\n",
       "    .dataframe tbody tr th:only-of-type {\n",
       "        vertical-align: middle;\n",
       "    }\n",
       "\n",
       "    .dataframe tbody tr th {\n",
       "        vertical-align: top;\n",
       "    }\n",
       "\n",
       "    .dataframe thead th {\n",
       "        text-align: right;\n",
       "    }\n",
       "</style>\n",
       "<table border=\"1\" class=\"dataframe\">\n",
       "  <thead>\n",
       "    <tr style=\"text-align: right;\">\n",
       "      <th></th>\n",
       "      <th>CNT_TOTAL</th>\n",
       "      <th>CNT_DEF</th>\n",
       "      <th>DEF_RATE</th>\n",
       "      <th>DIST_BAD</th>\n",
       "      <th>DIST_GOOD</th>\n",
       "      <th>WOE</th>\n",
       "      <th>WOE_check</th>\n",
       "      <th>SHARE</th>\n",
       "    </tr>\n",
       "    <tr>\n",
       "      <th>BIN_ADDRESS_CNT</th>\n",
       "      <th></th>\n",
       "      <th></th>\n",
       "      <th></th>\n",
       "      <th></th>\n",
       "      <th></th>\n",
       "      <th></th>\n",
       "      <th></th>\n",
       "      <th></th>\n",
       "    </tr>\n",
       "  </thead>\n",
       "  <tbody>\n",
       "    <tr>\n",
       "      <th>[-inf, 2.5)</th>\n",
       "      <td>309590.0</td>\n",
       "      <td>6314.0</td>\n",
       "      <td>0.0204</td>\n",
       "      <td>0.4597</td>\n",
       "      <td>0.5277</td>\n",
       "      <td>0.1320</td>\n",
       "      <td>0.1379</td>\n",
       "      <td>0.5261</td>\n",
       "    </tr>\n",
       "    <tr>\n",
       "      <th>[2.5, 3.5)</th>\n",
       "      <td>139805.0</td>\n",
       "      <td>3333.0</td>\n",
       "      <td>0.0238</td>\n",
       "      <td>0.2426</td>\n",
       "      <td>0.2374</td>\n",
       "      <td>-0.0208</td>\n",
       "      <td>-0.0217</td>\n",
       "      <td>0.2376</td>\n",
       "    </tr>\n",
       "    <tr>\n",
       "      <th>[3.5, inf)</th>\n",
       "      <td>139107.0</td>\n",
       "      <td>4089.0</td>\n",
       "      <td>0.0294</td>\n",
       "      <td>0.2977</td>\n",
       "      <td>0.2349</td>\n",
       "      <td>-0.2283</td>\n",
       "      <td>-0.2368</td>\n",
       "      <td>0.2364</td>\n",
       "    </tr>\n",
       "    <tr>\n",
       "      <th>nan</th>\n",
       "      <td>0.0</td>\n",
       "      <td>0.0</td>\n",
       "      <td>NaN</td>\n",
       "      <td>0.0000</td>\n",
       "      <td>0.0000</td>\n",
       "      <td>NaN</td>\n",
       "      <td>-3.7339</td>\n",
       "      <td>0.0000</td>\n",
       "    </tr>\n",
       "  </tbody>\n",
       "</table>\n",
       "</div>"
      ],
      "text/plain": [
       "                 CNT_TOTAL  CNT_DEF  DEF_RATE  DIST_BAD  DIST_GOOD     WOE  \\\n",
       "BIN_ADDRESS_CNT                                                              \n",
       "[-inf, 2.5)       309590.0   6314.0    0.0204    0.4597     0.5277  0.1320   \n",
       "[2.5, 3.5)        139805.0   3333.0    0.0238    0.2426     0.2374 -0.0208   \n",
       "[3.5, inf)        139107.0   4089.0    0.0294    0.2977     0.2349 -0.2283   \n",
       "nan                    0.0      0.0       NaN    0.0000     0.0000     NaN   \n",
       "\n",
       "                 WOE_check   SHARE  \n",
       "BIN_ADDRESS_CNT                     \n",
       "[-inf, 2.5)         0.1379  0.5261  \n",
       "[2.5, 3.5)         -0.0217  0.2376  \n",
       "[3.5, inf)         -0.2368  0.2364  \n",
       "nan                -3.7339  0.0000  "
      ]
     },
     "metadata": {},
     "output_type": "display_data"
    },
    {
     "name": "stdout",
     "output_type": "stream",
     "text": [
      "IV: 0.0244\n",
      "Gini: 8.17\n"
     ]
    },
    {
     "data": {
      "image/png": "[encoded data removed]",
      "text/plain": [
       "<Figure size 720x360 with 2 Axes>"
      ]
     },
     "metadata": {
      "needs_background": "light"
     },
     "output_type": "display_data"
    },
    {
     "data": {
      "text/markdown": [
       "***"
      ],
      "text/plain": [
       "<IPython.core.display.Markdown object>"
      ]
     },
     "metadata": {},
     "output_type": "display_data"
    },
    {
     "data": {
      "text/markdown": [
       "### OFFICE_ADDRESS_PCT"
      ],
      "text/plain": [
       "<IPython.core.display.Markdown object>"
      ]
     },
     "metadata": {},
     "output_type": "display_data"
    },
    {
     "data": {
      "text/html": [
       "<div>\n",
       "<style scoped>\n",
       "    .dataframe tbody tr th:only-of-type {\n",
       "        vertical-align: middle;\n",
       "    }\n",
       "\n",
       "    .dataframe tbody tr th {\n",
       "        vertical-align: top;\n",
       "    }\n",
       "\n",
       "    .dataframe thead th {\n",
       "        text-align: right;\n",
       "    }\n",
       "</style>\n",
       "<table border=\"1\" class=\"dataframe\">\n",
       "  <thead>\n",
       "    <tr style=\"text-align: right;\">\n",
       "      <th></th>\n",
       "      <th>CNT_TOTAL</th>\n",
       "      <th>CNT_DEF</th>\n",
       "      <th>DEF_RATE</th>\n",
       "      <th>DIST_BAD</th>\n",
       "      <th>DIST_GOOD</th>\n",
       "      <th>WOE</th>\n",
       "      <th>WOE_check</th>\n",
       "      <th>SHARE</th>\n",
       "    </tr>\n",
       "    <tr>\n",
       "      <th>BIN_OFFICE_ADDRESS_PCT</th>\n",
       "      <th></th>\n",
       "      <th></th>\n",
       "      <th></th>\n",
       "      <th></th>\n",
       "      <th></th>\n",
       "      <th></th>\n",
       "      <th></th>\n",
       "      <th></th>\n",
       "    </tr>\n",
       "  </thead>\n",
       "  <tbody>\n",
       "    <tr>\n",
       "      <th>[-inf, 0.125)</th>\n",
       "      <td>200938.0</td>\n",
       "      <td>4683.0</td>\n",
       "      <td>0.0233</td>\n",
       "      <td>0.3409</td>\n",
       "      <td>0.3415</td>\n",
       "      <td>0.0015</td>\n",
       "      <td>0.0015</td>\n",
       "      <td>0.3414</td>\n",
       "    </tr>\n",
       "    <tr>\n",
       "      <th>[0.125, 0.4166)</th>\n",
       "      <td>140551.0</td>\n",
       "      <td>3676.0</td>\n",
       "      <td>0.0262</td>\n",
       "      <td>0.2676</td>\n",
       "      <td>0.2381</td>\n",
       "      <td>-0.1123</td>\n",
       "      <td>-0.1167</td>\n",
       "      <td>0.2388</td>\n",
       "    </tr>\n",
       "    <tr>\n",
       "      <th>[0.4166, inf)</th>\n",
       "      <td>247013.0</td>\n",
       "      <td>5377.0</td>\n",
       "      <td>0.0218</td>\n",
       "      <td>0.3915</td>\n",
       "      <td>0.4204</td>\n",
       "      <td>0.0684</td>\n",
       "      <td>0.0714</td>\n",
       "      <td>0.4197</td>\n",
       "    </tr>\n",
       "    <tr>\n",
       "      <th>nan</th>\n",
       "      <td>0.0</td>\n",
       "      <td>0.0</td>\n",
       "      <td>NaN</td>\n",
       "      <td>0.0000</td>\n",
       "      <td>0.0000</td>\n",
       "      <td>NaN</td>\n",
       "      <td>-3.7339</td>\n",
       "      <td>0.0000</td>\n",
       "    </tr>\n",
       "  </tbody>\n",
       "</table>\n",
       "</div>"
      ],
      "text/plain": [
       "                        CNT_TOTAL  CNT_DEF  DEF_RATE  DIST_BAD  DIST_GOOD  \\\n",
       "BIN_OFFICE_ADDRESS_PCT                                                      \n",
       "[-inf, 0.125)            200938.0   4683.0    0.0233    0.3409     0.3415   \n",
       "[0.125, 0.4166)          140551.0   3676.0    0.0262    0.2676     0.2381   \n",
       "[0.4166, inf)            247013.0   5377.0    0.0218    0.3915     0.4204   \n",
       "nan                           0.0      0.0       NaN    0.0000     0.0000   \n",
       "\n",
       "                           WOE  WOE_check   SHARE  \n",
       "BIN_OFFICE_ADDRESS_PCT                             \n",
       "[-inf, 0.125)           0.0015     0.0015  0.3414  \n",
       "[0.125, 0.4166)        -0.1123    -0.1167  0.2388  \n",
       "[0.4166, inf)           0.0684     0.0714  0.4197  \n",
       "nan                        NaN    -3.7339  0.0000  "
      ]
     },
     "metadata": {},
     "output_type": "display_data"
    },
    {
     "name": "stdout",
     "output_type": "stream",
     "text": [
      "IV: 0.0055\n",
      "Gini: 3.91\n"
     ]
    },
    {
     "data": {
      "image/png": "[encoded data removed]",
      "text/plain": [
       "<Figure size 720x360 with 2 Axes>"
      ]
     },
     "metadata": {
      "needs_background": "light"
     },
     "output_type": "display_data"
    },
    {
     "data": {
      "text/markdown": [
       "***"
      ],
      "text/plain": [
       "<IPython.core.display.Markdown object>"
      ]
     },
     "metadata": {},
     "output_type": "display_data"
    },
    {
     "data": {
      "text/markdown": [
       "### PERMANENT_ADDRESS_PCT"
      ],
      "text/plain": [
       "<IPython.core.display.Markdown object>"
      ]
     },
     "metadata": {},
     "output_type": "display_data"
    },
    {
     "data": {
      "text/html": [
       "<div>\n",
       "<style scoped>\n",
       "    .dataframe tbody tr th:only-of-type {\n",
       "        vertical-align: middle;\n",
       "    }\n",
       "\n",
       "    .dataframe tbody tr th {\n",
       "        vertical-align: top;\n",
       "    }\n",
       "\n",
       "    .dataframe thead th {\n",
       "        text-align: right;\n",
       "    }\n",
       "</style>\n",
       "<table border=\"1\" class=\"dataframe\">\n",
       "  <thead>\n",
       "    <tr style=\"text-align: right;\">\n",
       "      <th></th>\n",
       "      <th>CNT_TOTAL</th>\n",
       "      <th>CNT_DEF</th>\n",
       "      <th>DEF_RATE</th>\n",
       "      <th>DIST_BAD</th>\n",
       "      <th>DIST_GOOD</th>\n",
       "      <th>WOE</th>\n",
       "      <th>WOE_check</th>\n",
       "      <th>SHARE</th>\n",
       "    </tr>\n",
       "    <tr>\n",
       "      <th>BIN_PERMANENT_ADDRESS_PCT</th>\n",
       "      <th></th>\n",
       "      <th></th>\n",
       "      <th></th>\n",
       "      <th></th>\n",
       "      <th></th>\n",
       "      <th></th>\n",
       "      <th></th>\n",
       "      <th></th>\n",
       "    </tr>\n",
       "  </thead>\n",
       "  <tbody>\n",
       "    <tr>\n",
       "      <th>[-inf, 0.125)</th>\n",
       "      <td>414920.0</td>\n",
       "      <td>8709.0</td>\n",
       "      <td>0.0210</td>\n",
       "      <td>0.6340</td>\n",
       "      <td>0.7067</td>\n",
       "      <td>0.1040</td>\n",
       "      <td>0.1086</td>\n",
       "      <td>0.7050</td>\n",
       "    </tr>\n",
       "    <tr>\n",
       "      <th>[0.125, 0.2916)</th>\n",
       "      <td>47894.0</td>\n",
       "      <td>1622.0</td>\n",
       "      <td>0.0339</td>\n",
       "      <td>0.1181</td>\n",
       "      <td>0.0805</td>\n",
       "      <td>-0.3702</td>\n",
       "      <td>-0.3831</td>\n",
       "      <td>0.0814</td>\n",
       "    </tr>\n",
       "    <tr>\n",
       "      <th>[0.2916, inf)</th>\n",
       "      <td>125688.0</td>\n",
       "      <td>3405.0</td>\n",
       "      <td>0.0271</td>\n",
       "      <td>0.2479</td>\n",
       "      <td>0.2128</td>\n",
       "      <td>-0.1471</td>\n",
       "      <td>-0.1529</td>\n",
       "      <td>0.2136</td>\n",
       "    </tr>\n",
       "    <tr>\n",
       "      <th>nan</th>\n",
       "      <td>0.0</td>\n",
       "      <td>0.0</td>\n",
       "      <td>NaN</td>\n",
       "      <td>0.0000</td>\n",
       "      <td>0.0000</td>\n",
       "      <td>NaN</td>\n",
       "      <td>-3.7339</td>\n",
       "      <td>0.0000</td>\n",
       "    </tr>\n",
       "  </tbody>\n",
       "</table>\n",
       "</div>"
      ],
      "text/plain": [
       "                           CNT_TOTAL  CNT_DEF  DEF_RATE  DIST_BAD  DIST_GOOD  \\\n",
       "BIN_PERMANENT_ADDRESS_PCT                                                      \n",
       "[-inf, 0.125)               414920.0   8709.0    0.0210    0.6340     0.7067   \n",
       "[0.125, 0.2916)              47894.0   1622.0    0.0339    0.1181     0.0805   \n",
       "[0.2916, inf)               125688.0   3405.0    0.0271    0.2479     0.2128   \n",
       "nan                              0.0      0.0       NaN    0.0000     0.0000   \n",
       "\n",
       "                              WOE  WOE_check   SHARE  \n",
       "BIN_PERMANENT_ADDRESS_PCT                             \n",
       "[-inf, 0.125)              0.1040     0.1086  0.7050  \n",
       "[0.125, 0.2916)           -0.3702    -0.3831  0.0814  \n",
       "[0.2916, inf)             -0.1471    -0.1529  0.2136  \n",
       "nan                           NaN    -3.7339  0.0000  "
      ]
     },
     "metadata": {},
     "output_type": "display_data"
    },
    {
     "name": "stdout",
     "output_type": "stream",
     "text": [
      "IV: 0.0277\n",
      "Gini: 7.79\n"
     ]
    },
    {
     "data": {
      "image/png": "[encoded data removed]",
      "text/plain": [
       "<Figure size 720x360 with 2 Axes>"
      ]
     },
     "metadata": {
      "needs_background": "light"
     },
     "output_type": "display_data"
    },
    {
     "data": {
      "text/markdown": [
       "***"
      ],
      "text/plain": [
       "<IPython.core.display.Markdown object>"
      ]
     },
     "metadata": {},
     "output_type": "display_data"
    },
    {
     "data": {
      "text/markdown": [
       "### PERMANENT_ZIPCODE_ADDRESS_RAT"
      ],
      "text/plain": [
       "<IPython.core.display.Markdown object>"
      ]
     },
     "metadata": {},
     "output_type": "display_data"
    },
    {
     "data": {
      "text/html": [
       "<div>\n",
       "<style scoped>\n",
       "    .dataframe tbody tr th:only-of-type {\n",
       "        vertical-align: middle;\n",
       "    }\n",
       "\n",
       "    .dataframe tbody tr th {\n",
       "        vertical-align: top;\n",
       "    }\n",
       "\n",
       "    .dataframe thead th {\n",
       "        text-align: right;\n",
       "    }\n",
       "</style>\n",
       "<table border=\"1\" class=\"dataframe\">\n",
       "  <thead>\n",
       "    <tr style=\"text-align: right;\">\n",
       "      <th></th>\n",
       "      <th>CNT_TOTAL</th>\n",
       "      <th>CNT_DEF</th>\n",
       "      <th>DEF_RATE</th>\n",
       "      <th>DIST_BAD</th>\n",
       "      <th>DIST_GOOD</th>\n",
       "      <th>WOE</th>\n",
       "      <th>WOE_check</th>\n",
       "      <th>SHARE</th>\n",
       "    </tr>\n",
       "    <tr>\n",
       "      <th>BIN_PERMANENT_ZIPCODE_ADDRESS_RAT</th>\n",
       "      <th></th>\n",
       "      <th></th>\n",
       "      <th></th>\n",
       "      <th></th>\n",
       "      <th></th>\n",
       "      <th></th>\n",
       "      <th></th>\n",
       "      <th></th>\n",
       "    </tr>\n",
       "  </thead>\n",
       "  <tbody>\n",
       "    <tr>\n",
       "      <th>[-inf, 0.7084)</th>\n",
       "      <td>15257.0</td>\n",
       "      <td>610.0</td>\n",
       "      <td>0.0400</td>\n",
       "      <td>0.0444</td>\n",
       "      <td>0.0255</td>\n",
       "      <td>-0.5381</td>\n",
       "      <td>-0.5554</td>\n",
       "      <td>0.0259</td>\n",
       "    </tr>\n",
       "    <tr>\n",
       "      <th>[0.7084, inf)</th>\n",
       "      <td>158325.0</td>\n",
       "      <td>4417.0</td>\n",
       "      <td>0.0279</td>\n",
       "      <td>0.3216</td>\n",
       "      <td>0.2678</td>\n",
       "      <td>-0.1763</td>\n",
       "      <td>-0.1830</td>\n",
       "      <td>0.2690</td>\n",
       "    </tr>\n",
       "    <tr>\n",
       "      <th>nan</th>\n",
       "      <td>414920.0</td>\n",
       "      <td>8709.0</td>\n",
       "      <td>0.0210</td>\n",
       "      <td>0.6340</td>\n",
       "      <td>0.7067</td>\n",
       "      <td>0.1040</td>\n",
       "      <td>0.1086</td>\n",
       "      <td>0.7050</td>\n",
       "    </tr>\n",
       "  </tbody>\n",
       "</table>\n",
       "</div>"
      ],
      "text/plain": [
       "                                   CNT_TOTAL  CNT_DEF  DEF_RATE  DIST_BAD  \\\n",
       "BIN_PERMANENT_ZIPCODE_ADDRESS_RAT                                           \n",
       "[-inf, 0.7084)                       15257.0    610.0    0.0400    0.0444   \n",
       "[0.7084, inf)                       158325.0   4417.0    0.0279    0.3216   \n",
       "nan                                 414920.0   8709.0    0.0210    0.6340   \n",
       "\n",
       "                                   DIST_GOOD     WOE  WOE_check   SHARE  \n",
       "BIN_PERMANENT_ZIPCODE_ADDRESS_RAT                                        \n",
       "[-inf, 0.7084)                        0.0255 -0.5381    -0.5554  0.0259  \n",
       "[0.7084, inf)                         0.2678 -0.1763    -0.1830  0.2690  \n",
       "nan                                   0.7067  0.1040     0.1086  0.7050  "
      ]
     },
     "metadata": {},
     "output_type": "display_data"
    },
    {
     "name": "stdout",
     "output_type": "stream",
     "text": [
      "IV: 0.0283\n",
      "Gini: 7.64\n"
     ]
    },
    {
     "data": {
      "image/png": "[encoded data removed]",
      "text/plain": [
       "<Figure size 720x360 with 2 Axes>"
      ]
     },
     "metadata": {
      "needs_background": "light"
     },
     "output_type": "display_data"
    },
    {
     "data": {
      "text/markdown": [
       "***"
      ],
      "text/plain": [
       "<IPython.core.display.Markdown object>"
      ]
     },
     "metadata": {},
     "output_type": "display_data"
    },
    {
     "data": {
      "text/markdown": [
       "### RESIDENCE_ZIPCODE_ADDRESS_RAT"
      ],
      "text/plain": [
       "<IPython.core.display.Markdown object>"
      ]
     },
     "metadata": {},
     "output_type": "display_data"
    },
    {
     "data": {
      "text/html": [
       "<div>\n",
       "<style scoped>\n",
       "    .dataframe tbody tr th:only-of-type {\n",
       "        vertical-align: middle;\n",
       "    }\n",
       "\n",
       "    .dataframe tbody tr th {\n",
       "        vertical-align: top;\n",
       "    }\n",
       "\n",
       "    .dataframe thead th {\n",
       "        text-align: right;\n",
       "    }\n",
       "</style>\n",
       "<table border=\"1\" class=\"dataframe\">\n",
       "  <thead>\n",
       "    <tr style=\"text-align: right;\">\n",
       "      <th></th>\n",
       "      <th>CNT_TOTAL</th>\n",
       "      <th>CNT_DEF</th>\n",
       "      <th>DEF_RATE</th>\n",
       "      <th>DIST_BAD</th>\n",
       "      <th>DIST_GOOD</th>\n",
       "      <th>WOE</th>\n",
       "      <th>WOE_check</th>\n",
       "      <th>SHARE</th>\n",
       "    </tr>\n",
       "    <tr>\n",
       "      <th>BIN_RESIDENCE_ZIPCODE_ADDRESS_RAT</th>\n",
       "      <th></th>\n",
       "      <th></th>\n",
       "      <th></th>\n",
       "      <th></th>\n",
       "      <th></th>\n",
       "      <th></th>\n",
       "      <th></th>\n",
       "      <th></th>\n",
       "    </tr>\n",
       "  </thead>\n",
       "  <tbody>\n",
       "    <tr>\n",
       "      <th>[-inf, 0.875)</th>\n",
       "      <td>93212.0</td>\n",
       "      <td>2425.0</td>\n",
       "      <td>0.0260</td>\n",
       "      <td>0.1765</td>\n",
       "      <td>0.1580</td>\n",
       "      <td>-0.1070</td>\n",
       "      <td>-0.1113</td>\n",
       "      <td>0.1584</td>\n",
       "    </tr>\n",
       "    <tr>\n",
       "      <th>[0.875, inf)</th>\n",
       "      <td>435374.0</td>\n",
       "      <td>9861.0</td>\n",
       "      <td>0.0226</td>\n",
       "      <td>0.7179</td>\n",
       "      <td>0.7403</td>\n",
       "      <td>0.0295</td>\n",
       "      <td>0.0308</td>\n",
       "      <td>0.7398</td>\n",
       "    </tr>\n",
       "    <tr>\n",
       "      <th>nan</th>\n",
       "      <td>59916.0</td>\n",
       "      <td>1450.0</td>\n",
       "      <td>0.0242</td>\n",
       "      <td>0.1056</td>\n",
       "      <td>0.1017</td>\n",
       "      <td>-0.0356</td>\n",
       "      <td>-0.0371</td>\n",
       "      <td>0.1018</td>\n",
       "    </tr>\n",
       "  </tbody>\n",
       "</table>\n",
       "</div>"
      ],
      "text/plain": [
       "                                   CNT_TOTAL  CNT_DEF  DEF_RATE  DIST_BAD  \\\n",
       "BIN_RESIDENCE_ZIPCODE_ADDRESS_RAT                                           \n",
       "[-inf, 0.875)                        93212.0   2425.0    0.0260    0.1765   \n",
       "[0.875, inf)                        435374.0   9861.0    0.0226    0.7179   \n",
       "nan                                  59916.0   1450.0    0.0242    0.1056   \n",
       "\n",
       "                                   DIST_GOOD     WOE  WOE_check   SHARE  \n",
       "BIN_RESIDENCE_ZIPCODE_ADDRESS_RAT                                        \n",
       "[-inf, 0.875)                         0.1580 -0.1070    -0.1113  0.1584  \n",
       "[0.875, inf)                          0.7403  0.0295     0.0308  0.7398  \n",
       "nan                                   0.1017 -0.0356    -0.0371  0.1018  "
      ]
     },
     "metadata": {},
     "output_type": "display_data"
    },
    {
     "name": "stdout",
     "output_type": "stream",
     "text": [
      "IV: 0.0029\n",
      "Gini: 2.37\n"
     ]
    },
    {
     "data": {
      "image/png": "[encoded data removed]",
      "text/plain": [
       "<Figure size 720x360 with 2 Axes>"
      ]
     },
     "metadata": {
      "needs_background": "light"
     },
     "output_type": "display_data"
    },
    {
     "data": {
      "text/markdown": [
       "***"
      ],
      "text/plain": [
       "<IPython.core.display.Markdown object>"
      ]
     },
     "metadata": {},
     "output_type": "display_data"
    },
    {
     "data": {
      "text/markdown": [
       "### RISK_SCORE"
      ],
      "text/plain": [
       "<IPython.core.display.Markdown object>"
      ]
     },
     "metadata": {},
     "output_type": "display_data"
    },
    {
     "data": {
      "text/html": [
       "<div>\n",
       "<style scoped>\n",
       "    .dataframe tbody tr th:only-of-type {\n",
       "        vertical-align: middle;\n",
       "    }\n",
       "\n",
       "    .dataframe tbody tr th {\n",
       "        vertical-align: top;\n",
       "    }\n",
       "\n",
       "    .dataframe thead th {\n",
       "        text-align: right;\n",
       "    }\n",
       "</style>\n",
       "<table border=\"1\" class=\"dataframe\">\n",
       "  <thead>\n",
       "    <tr style=\"text-align: right;\">\n",
       "      <th></th>\n",
       "      <th>CNT_TOTAL</th>\n",
       "      <th>CNT_DEF</th>\n",
       "      <th>DEF_RATE</th>\n",
       "      <th>DIST_BAD</th>\n",
       "      <th>DIST_GOOD</th>\n",
       "      <th>WOE</th>\n",
       "      <th>WOE_check</th>\n",
       "      <th>SHARE</th>\n",
       "    </tr>\n",
       "    <tr>\n",
       "      <th>BIN_RISK_SCORE</th>\n",
       "      <th></th>\n",
       "      <th></th>\n",
       "      <th></th>\n",
       "      <th></th>\n",
       "      <th></th>\n",
       "      <th></th>\n",
       "      <th></th>\n",
       "      <th></th>\n",
       "    </tr>\n",
       "  </thead>\n",
       "  <tbody>\n",
       "    <tr>\n",
       "      <th>[-inf, 0.02923)</th>\n",
       "      <td>429301.0</td>\n",
       "      <td>6268.0</td>\n",
       "      <td>0.0146</td>\n",
       "      <td>0.4563</td>\n",
       "      <td>0.7360</td>\n",
       "      <td>0.4537</td>\n",
       "      <td>0.4780</td>\n",
       "      <td>0.7295</td>\n",
       "    </tr>\n",
       "    <tr>\n",
       "      <th>[0.02923, 0.05528)</th>\n",
       "      <td>119544.0</td>\n",
       "      <td>4730.0</td>\n",
       "      <td>0.0396</td>\n",
       "      <td>0.3444</td>\n",
       "      <td>0.1998</td>\n",
       "      <td>-0.5275</td>\n",
       "      <td>-0.5446</td>\n",
       "      <td>0.2031</td>\n",
       "    </tr>\n",
       "    <tr>\n",
       "      <th>[0.05528, inf)</th>\n",
       "      <td>39657.0</td>\n",
       "      <td>2738.0</td>\n",
       "      <td>0.0690</td>\n",
       "      <td>0.1993</td>\n",
       "      <td>0.0642</td>\n",
       "      <td>-1.1048</td>\n",
       "      <td>-1.1324</td>\n",
       "      <td>0.0674</td>\n",
       "    </tr>\n",
       "    <tr>\n",
       "      <th>nan</th>\n",
       "      <td>0.0</td>\n",
       "      <td>0.0</td>\n",
       "      <td>NaN</td>\n",
       "      <td>0.0000</td>\n",
       "      <td>0.0000</td>\n",
       "      <td>NaN</td>\n",
       "      <td>-3.7339</td>\n",
       "      <td>0.0000</td>\n",
       "    </tr>\n",
       "  </tbody>\n",
       "</table>\n",
       "</div>"
      ],
      "text/plain": [
       "                    CNT_TOTAL  CNT_DEF  DEF_RATE  DIST_BAD  DIST_GOOD     WOE  \\\n",
       "BIN_RISK_SCORE                                                                  \n",
       "[-inf, 0.02923)      429301.0   6268.0    0.0146    0.4563     0.7360  0.4537   \n",
       "[0.02923, 0.05528)   119544.0   4730.0    0.0396    0.3444     0.1998 -0.5275   \n",
       "[0.05528, inf)        39657.0   2738.0    0.0690    0.1993     0.0642 -1.1048   \n",
       "nan                       0.0      0.0       NaN    0.0000     0.0000     NaN   \n",
       "\n",
       "                    WOE_check   SHARE  \n",
       "BIN_RISK_SCORE                         \n",
       "[-inf, 0.02923)        0.4780  0.7295  \n",
       "[0.02923, 0.05528)    -0.5446  0.2031  \n",
       "[0.05528, inf)        -1.1324  0.0674  \n",
       "nan                   -3.7339  0.0000  "
      ]
     },
     "metadata": {},
     "output_type": "display_data"
    },
    {
     "name": "stdout",
     "output_type": "stream",
     "text": [
      "IV: 0.3654\n",
      "Gini: 29.74\n"
     ]
    },
    {
     "data": {
      "image/png": "[encoded data removed]",
      "text/plain": [
       "<Figure size 720x360 with 2 Axes>"
      ]
     },
     "metadata": {
      "needs_background": "light"
     },
     "output_type": "display_data"
    },
    {
     "data": {
      "text/markdown": [
       "***"
      ],
      "text/plain": [
       "<IPython.core.display.Markdown object>"
      ]
     },
     "metadata": {},
     "output_type": "display_data"
    },
    {
     "data": {
      "text/markdown": [
       "### ZIPCODE_ADDRESS_RAT"
      ],
      "text/plain": [
       "<IPython.core.display.Markdown object>"
      ]
     },
     "metadata": {},
     "output_type": "display_data"
    },
    {
     "data": {
      "text/html": [
       "<div>\n",
       "<style scoped>\n",
       "    .dataframe tbody tr th:only-of-type {\n",
       "        vertical-align: middle;\n",
       "    }\n",
       "\n",
       "    .dataframe tbody tr th {\n",
       "        vertical-align: top;\n",
       "    }\n",
       "\n",
       "    .dataframe thead th {\n",
       "        text-align: right;\n",
       "    }\n",
       "</style>\n",
       "<table border=\"1\" class=\"dataframe\">\n",
       "  <thead>\n",
       "    <tr style=\"text-align: right;\">\n",
       "      <th></th>\n",
       "      <th>CNT_TOTAL</th>\n",
       "      <th>CNT_DEF</th>\n",
       "      <th>DEF_RATE</th>\n",
       "      <th>DIST_BAD</th>\n",
       "      <th>DIST_GOOD</th>\n",
       "      <th>WOE</th>\n",
       "      <th>WOE_check</th>\n",
       "      <th>SHARE</th>\n",
       "    </tr>\n",
       "    <tr>\n",
       "      <th>BIN_ZIPCODE_ADDRESS_RAT</th>\n",
       "      <th></th>\n",
       "      <th></th>\n",
       "      <th></th>\n",
       "      <th></th>\n",
       "      <th></th>\n",
       "      <th></th>\n",
       "      <th></th>\n",
       "      <th></th>\n",
       "    </tr>\n",
       "  </thead>\n",
       "  <tbody>\n",
       "    <tr>\n",
       "      <th>[-inf, 0.2916)</th>\n",
       "      <td>30720.0</td>\n",
       "      <td>975.0</td>\n",
       "      <td>0.0317</td>\n",
       "      <td>0.0710</td>\n",
       "      <td>0.0518</td>\n",
       "      <td>-0.305</td>\n",
       "      <td>-0.3160</td>\n",
       "      <td>0.0522</td>\n",
       "    </tr>\n",
       "    <tr>\n",
       "      <th>[0.2916, 0.875)</th>\n",
       "      <td>319540.0</td>\n",
       "      <td>7791.0</td>\n",
       "      <td>0.0244</td>\n",
       "      <td>0.5672</td>\n",
       "      <td>0.5424</td>\n",
       "      <td>-0.043</td>\n",
       "      <td>-0.0447</td>\n",
       "      <td>0.5430</td>\n",
       "    </tr>\n",
       "    <tr>\n",
       "      <th>[0.875, inf)</th>\n",
       "      <td>238242.0</td>\n",
       "      <td>4970.0</td>\n",
       "      <td>0.0209</td>\n",
       "      <td>0.3618</td>\n",
       "      <td>0.4059</td>\n",
       "      <td>0.110</td>\n",
       "      <td>0.1148</td>\n",
       "      <td>0.4048</td>\n",
       "    </tr>\n",
       "    <tr>\n",
       "      <th>nan</th>\n",
       "      <td>0.0</td>\n",
       "      <td>0.0</td>\n",
       "      <td>NaN</td>\n",
       "      <td>0.0000</td>\n",
       "      <td>0.0000</td>\n",
       "      <td>NaN</td>\n",
       "      <td>-3.7339</td>\n",
       "      <td>0.0000</td>\n",
       "    </tr>\n",
       "  </tbody>\n",
       "</table>\n",
       "</div>"
      ],
      "text/plain": [
       "                         CNT_TOTAL  CNT_DEF  DEF_RATE  DIST_BAD  DIST_GOOD  \\\n",
       "BIN_ZIPCODE_ADDRESS_RAT                                                      \n",
       "[-inf, 0.2916)             30720.0    975.0    0.0317    0.0710     0.0518   \n",
       "[0.2916, 0.875)           319540.0   7791.0    0.0244    0.5672     0.5424   \n",
       "[0.875, inf)              238242.0   4970.0    0.0209    0.3618     0.4059   \n",
       "nan                            0.0      0.0       NaN    0.0000     0.0000   \n",
       "\n",
       "                           WOE  WOE_check   SHARE  \n",
       "BIN_ZIPCODE_ADDRESS_RAT                            \n",
       "[-inf, 0.2916)          -0.305    -0.3160  0.0522  \n",
       "[0.2916, 0.875)         -0.043    -0.0447  0.5430  \n",
       "[0.875, inf)             0.110     0.1148  0.4048  \n",
       "nan                        NaN    -3.7339  0.0000  "
      ]
     },
     "metadata": {},
     "output_type": "display_data"
    },
    {
     "name": "stdout",
     "output_type": "stream",
     "text": [
      "IV: 0.0122\n",
      "Gini: 5.32\n"
     ]
    },
    {
     "data": {
      "image/png": "[encoded data removed]",
      "text/plain": [
       "<Figure size 720x360 with 2 Axes>"
      ]
     },
     "metadata": {
      "needs_background": "light"
     },
     "output_type": "display_data"
    }
   ],
   "source": [
    "grouping.plot_bins(data=df_train, cols_pred_num=cols_pred_num, cols_pred_cat=cols_pred_cat,\n",
    "                    mask = pd.Series(df_train[\"RISK_FSTQPD60\"]>=0),col_target=\"RISK_FSTQPD60\", \n",
    "                   output_folder=r\"C:\\Users\\aman.khatri91425\\Desktop\\HomeCredit\\Bigdata\\Common Maps KNN\", col_weight=None)"
   ]
  },
  {
   "cell_type": "code",
   "execution_count": null,
   "metadata": {},
   "outputs": [],
   "source": []
  },
  {
   "cell_type": "code",
   "execution_count": null,
   "metadata": {},
   "outputs": [],
   "source": []
  },
  {
   "cell_type": "code",
   "execution_count": null,
   "metadata": {},
   "outputs": [],
   "source": []
  },
  {
   "cell_type": "code",
   "execution_count": null,
   "metadata": {},
   "outputs": [],
   "source": []
  },
  {
   "cell_type": "markdown",
   "metadata": {},
   "source": [
    "# WOE Analysis(All Variables)"
   ]
  },
  {
   "cell_type": "code",
   "execution_count": 17,
   "metadata": {},
   "outputs": [],
   "source": [
    "df_train = df"
   ]
  },
  {
   "cell_type": "code",
   "execution_count": 18,
   "metadata": {},
   "outputs": [],
   "source": [
    "cols_pred_cat=[]\n",
    "cols_pred_num = ['ADDRESS_CNT', 'ZIPCODE_CNT', 'ZIPCODE_ADDRESS_RAT',\n",
    "       'RESIDENCE_ADDRESS_CNT', 'RESIDENCE_ZIPCODE_CNT',\n",
    "       'RESIDENCE_ZIPCODE_ADDRESS_RAT', 'RESIDENCE_ADDRESS_PCT',\n",
    "       'OFFICE_ADDRESS_CNT', 'OFFICE_ZIPCODE_CNT',\n",
    "       'OFFICE_ZIPCODE_ADDRESS_RAT', 'OFFICE_ADDRESS_PCT',\n",
    "       'PERMANENT_ADDRESS_CNT', 'PERMANENT_ZIPCODE_CNT',\n",
    "       'PERMANENT_ZIPCODE_ADDRESS_RAT', 'PERMANENT_ADDRESS_PCT',\n",
    "       'PERMANENT_OFFICE_COMB_RAT', 'RESIDENT_OFFICE_COMB_RAT',\n",
    "       'PERMANENT_RESIDENCE_COMB_RAT','RISK_SCORE']"
   ]
  },
  {
   "cell_type": "code",
   "execution_count": 20,
   "metadata": {},
   "outputs": [
    {
     "data": {
      "application/vnd.jupyter.widget-view+json": {
       "model_id": "0ff077493dc44064b586a8d0c2fbbd4d",
       "version_major": 2,
       "version_minor": 0
      },
      "text/plain": [
       "HBox(children=(FloatProgress(value=0.0, max=19.0), HTML(value='')))"
      ]
     },
     "metadata": {},
     "output_type": "display_data"
    },
    {
     "name": "stdout",
     "output_type": "stream",
     "text": [
      "\n"
     ]
    },
    {
     "data": {
      "text/plain": [
       "'Grouping saved on 2020-11-03 17:07:42 to file C:\\\\Users\\\\aman.khatri91425\\\\Desktop\\\\HomeCredit\\\\Bigdata\\\\Common Maps KNN\\\\my_grouping'"
      ]
     },
     "metadata": {},
     "output_type": "display_data"
    },
    {
     "data": {
      "application/vnd.jupyter.widget-view+json": {
       "model_id": "0bbe8c10cc1942f9afcda0a4da64dc40",
       "version_major": 2,
       "version_minor": 0
      },
      "text/plain": [
       "HBox(children=(FloatProgress(value=0.0, max=19.0), HTML(value='')))"
      ]
     },
     "metadata": {},
     "output_type": "display_data"
    },
    {
     "name": "stdout",
     "output_type": "stream",
     "text": [
      "\n"
     ]
    }
   ],
   "source": [
    "from scoring.grouping import Grouping\n",
    "\n",
    "grouping = Grouping(columns = sorted(cols_pred_num),\n",
    "                    cat_columns = sorted(cols_pred_cat),\n",
    "                    group_count=3, \n",
    "                    min_samples=10000)\n",
    "\n",
    "grouping.fit(df_train[cols_pred_num],\n",
    "             df_train[\"RISK_FSTQPD60\"],\n",
    "          #   w=data[train_mask][col_weight],\n",
    "            progress_bar=True, category_limit=10000);\n",
    "\n",
    "grouping.save(r\"C:\\Users\\aman.khatri91425\\Desktop\\HomeCredit\\Bigdata\\Common Maps KNN\\my_grouping\")\n",
    "\n",
    "data_woe = grouping.transform(df, transform_to='woe', progress_bar=True)"
   ]
  },
  {
   "cell_type": "markdown",
   "metadata": {},
   "source": [
    "### Plot Bins"
   ]
  },
  {
   "cell_type": "code",
   "execution_count": 21,
   "metadata": {
    "scrolled": true
   },
   "outputs": [
    {
     "data": {
      "text/markdown": [
       "***"
      ],
      "text/plain": [
       "<IPython.core.display.Markdown object>"
      ]
     },
     "metadata": {},
     "output_type": "display_data"
    },
    {
     "data": {
      "text/markdown": [
       "### ADDRESS_CNT"
      ],
      "text/plain": [
       "<IPython.core.display.Markdown object>"
      ]
     },
     "metadata": {},
     "output_type": "display_data"
    },
    {
     "data": {
      "text/html": [
       "<div>\n",
       "<style scoped>\n",
       "    .dataframe tbody tr th:only-of-type {\n",
       "        vertical-align: middle;\n",
       "    }\n",
       "\n",
       "    .dataframe tbody tr th {\n",
       "        vertical-align: top;\n",
       "    }\n",
       "\n",
       "    .dataframe thead th {\n",
       "        text-align: right;\n",
       "    }\n",
       "</style>\n",
       "<table border=\"1\" class=\"dataframe\">\n",
       "  <thead>\n",
       "    <tr style=\"text-align: right;\">\n",
       "      <th></th>\n",
       "      <th>CNT_TOTAL</th>\n",
       "      <th>CNT_DEF</th>\n",
       "      <th>DEF_RATE</th>\n",
       "      <th>DIST_BAD</th>\n",
       "      <th>DIST_GOOD</th>\n",
       "      <th>WOE</th>\n",
       "      <th>WOE_check</th>\n",
       "      <th>SHARE</th>\n",
       "    </tr>\n",
       "    <tr>\n",
       "      <th>BIN_ADDRESS_CNT</th>\n",
       "      <th></th>\n",
       "      <th></th>\n",
       "      <th></th>\n",
       "      <th></th>\n",
       "      <th></th>\n",
       "      <th></th>\n",
       "      <th></th>\n",
       "      <th></th>\n",
       "    </tr>\n",
       "  </thead>\n",
       "  <tbody>\n",
       "    <tr>\n",
       "      <th>[-inf, 2.5)</th>\n",
       "      <td>309590.0</td>\n",
       "      <td>6314.0</td>\n",
       "      <td>0.0204</td>\n",
       "      <td>0.4597</td>\n",
       "      <td>0.5277</td>\n",
       "      <td>0.1320</td>\n",
       "      <td>0.1379</td>\n",
       "      <td>0.5261</td>\n",
       "    </tr>\n",
       "    <tr>\n",
       "      <th>[2.5, 3.5)</th>\n",
       "      <td>139805.0</td>\n",
       "      <td>3333.0</td>\n",
       "      <td>0.0238</td>\n",
       "      <td>0.2426</td>\n",
       "      <td>0.2374</td>\n",
       "      <td>-0.0208</td>\n",
       "      <td>-0.0217</td>\n",
       "      <td>0.2376</td>\n",
       "    </tr>\n",
       "    <tr>\n",
       "      <th>[3.5, inf)</th>\n",
       "      <td>139107.0</td>\n",
       "      <td>4089.0</td>\n",
       "      <td>0.0294</td>\n",
       "      <td>0.2977</td>\n",
       "      <td>0.2349</td>\n",
       "      <td>-0.2283</td>\n",
       "      <td>-0.2368</td>\n",
       "      <td>0.2364</td>\n",
       "    </tr>\n",
       "    <tr>\n",
       "      <th>nan</th>\n",
       "      <td>0.0</td>\n",
       "      <td>0.0</td>\n",
       "      <td>NaN</td>\n",
       "      <td>0.0000</td>\n",
       "      <td>0.0000</td>\n",
       "      <td>NaN</td>\n",
       "      <td>-3.7339</td>\n",
       "      <td>0.0000</td>\n",
       "    </tr>\n",
       "  </tbody>\n",
       "</table>\n",
       "</div>"
      ],
      "text/plain": [
       "                 CNT_TOTAL  CNT_DEF  DEF_RATE  DIST_BAD  DIST_GOOD     WOE  \\\n",
       "BIN_ADDRESS_CNT                                                              \n",
       "[-inf, 2.5)       309590.0   6314.0    0.0204    0.4597     0.5277  0.1320   \n",
       "[2.5, 3.5)        139805.0   3333.0    0.0238    0.2426     0.2374 -0.0208   \n",
       "[3.5, inf)        139107.0   4089.0    0.0294    0.2977     0.2349 -0.2283   \n",
       "nan                    0.0      0.0       NaN    0.0000     0.0000     NaN   \n",
       "\n",
       "                 WOE_check   SHARE  \n",
       "BIN_ADDRESS_CNT                     \n",
       "[-inf, 2.5)         0.1379  0.5261  \n",
       "[2.5, 3.5)         -0.0217  0.2376  \n",
       "[3.5, inf)         -0.2368  0.2364  \n",
       "nan                -3.7339  0.0000  "
      ]
     },
     "metadata": {},
     "output_type": "display_data"
    },
    {
     "name": "stdout",
     "output_type": "stream",
     "text": [
      "IV: 0.0244\n",
      "Gini: 8.17\n"
     ]
    },
    {
     "data": {
      "image/png": "[encoded data removed]",
      "text/plain": [
       "<Figure size 720x360 with 2 Axes>"
      ]
     },
     "metadata": {
      "needs_background": "light"
     },
     "output_type": "display_data"
    },
    {
     "data": {
      "text/markdown": [
       "***"
      ],
      "text/plain": [
       "<IPython.core.display.Markdown object>"
      ]
     },
     "metadata": {},
     "output_type": "display_data"
    },
    {
     "data": {
      "text/markdown": [
       "### OFFICE_ADDRESS_CNT"
      ],
      "text/plain": [
       "<IPython.core.display.Markdown object>"
      ]
     },
     "metadata": {},
     "output_type": "display_data"
    },
    {
     "data": {
      "text/html": [
       "<div>\n",
       "<style scoped>\n",
       "    .dataframe tbody tr th:only-of-type {\n",
       "        vertical-align: middle;\n",
       "    }\n",
       "\n",
       "    .dataframe tbody tr th {\n",
       "        vertical-align: top;\n",
       "    }\n",
       "\n",
       "    .dataframe thead th {\n",
       "        text-align: right;\n",
       "    }\n",
       "</style>\n",
       "<table border=\"1\" class=\"dataframe\">\n",
       "  <thead>\n",
       "    <tr style=\"text-align: right;\">\n",
       "      <th></th>\n",
       "      <th>CNT_TOTAL</th>\n",
       "      <th>CNT_DEF</th>\n",
       "      <th>DEF_RATE</th>\n",
       "      <th>DIST_BAD</th>\n",
       "      <th>DIST_GOOD</th>\n",
       "      <th>WOE</th>\n",
       "      <th>WOE_check</th>\n",
       "      <th>SHARE</th>\n",
       "    </tr>\n",
       "    <tr>\n",
       "      <th>BIN_OFFICE_ADDRESS_CNT</th>\n",
       "      <th></th>\n",
       "      <th></th>\n",
       "      <th></th>\n",
       "      <th></th>\n",
       "      <th></th>\n",
       "      <th></th>\n",
       "      <th></th>\n",
       "      <th></th>\n",
       "    </tr>\n",
       "  </thead>\n",
       "  <tbody>\n",
       "    <tr>\n",
       "      <th>[-inf, 0.5)</th>\n",
       "      <td>200938.0</td>\n",
       "      <td>4683.0</td>\n",
       "      <td>0.0233</td>\n",
       "      <td>0.3409</td>\n",
       "      <td>0.3415</td>\n",
       "      <td>0.0015</td>\n",
       "      <td>0.0015</td>\n",
       "      <td>0.3414</td>\n",
       "    </tr>\n",
       "    <tr>\n",
       "      <th>[0.5, 1.5)</th>\n",
       "      <td>296324.0</td>\n",
       "      <td>6638.0</td>\n",
       "      <td>0.0224</td>\n",
       "      <td>0.4833</td>\n",
       "      <td>0.5040</td>\n",
       "      <td>0.0403</td>\n",
       "      <td>0.0420</td>\n",
       "      <td>0.5035</td>\n",
       "    </tr>\n",
       "    <tr>\n",
       "      <th>[1.5, inf)</th>\n",
       "      <td>91240.0</td>\n",
       "      <td>2415.0</td>\n",
       "      <td>0.0265</td>\n",
       "      <td>0.1758</td>\n",
       "      <td>0.1545</td>\n",
       "      <td>-0.1241</td>\n",
       "      <td>-0.1290</td>\n",
       "      <td>0.1550</td>\n",
       "    </tr>\n",
       "    <tr>\n",
       "      <th>nan</th>\n",
       "      <td>0.0</td>\n",
       "      <td>0.0</td>\n",
       "      <td>NaN</td>\n",
       "      <td>0.0000</td>\n",
       "      <td>0.0000</td>\n",
       "      <td>NaN</td>\n",
       "      <td>-3.7339</td>\n",
       "      <td>0.0000</td>\n",
       "    </tr>\n",
       "  </tbody>\n",
       "</table>\n",
       "</div>"
      ],
      "text/plain": [
       "                        CNT_TOTAL  CNT_DEF  DEF_RATE  DIST_BAD  DIST_GOOD  \\\n",
       "BIN_OFFICE_ADDRESS_CNT                                                      \n",
       "[-inf, 0.5)              200938.0   4683.0    0.0233    0.3409     0.3415   \n",
       "[0.5, 1.5)               296324.0   6638.0    0.0224    0.4833     0.5040   \n",
       "[1.5, inf)                91240.0   2415.0    0.0265    0.1758     0.1545   \n",
       "nan                           0.0      0.0       NaN    0.0000     0.0000   \n",
       "\n",
       "                           WOE  WOE_check   SHARE  \n",
       "BIN_OFFICE_ADDRESS_CNT                             \n",
       "[-inf, 0.5)             0.0015     0.0015  0.3414  \n",
       "[0.5, 1.5)              0.0403     0.0420  0.5035  \n",
       "[1.5, inf)             -0.1241    -0.1290  0.1550  \n",
       "nan                        NaN    -3.7339  0.0000  "
      ]
     },
     "metadata": {},
     "output_type": "display_data"
    },
    {
     "name": "stdout",
     "output_type": "stream",
     "text": [
      "IV: 0.0036\n",
      "Gini: 2.81\n"
     ]
    },
    {
     "data": {
      "image/png": "[encoded data removed]",
      "text/plain": [
       "<Figure size 720x360 with 2 Axes>"
      ]
     },
     "metadata": {
      "needs_background": "light"
     },
     "output_type": "display_data"
    },
    {
     "data": {
      "text/markdown": [
       "***"
      ],
      "text/plain": [
       "<IPython.core.display.Markdown object>"
      ]
     },
     "metadata": {},
     "output_type": "display_data"
    },
    {
     "data": {
      "text/markdown": [
       "### OFFICE_ADDRESS_PCT"
      ],
      "text/plain": [
       "<IPython.core.display.Markdown object>"
      ]
     },
     "metadata": {},
     "output_type": "display_data"
    },
    {
     "data": {
      "text/html": [
       "<div>\n",
       "<style scoped>\n",
       "    .dataframe tbody tr th:only-of-type {\n",
       "        vertical-align: middle;\n",
       "    }\n",
       "\n",
       "    .dataframe tbody tr th {\n",
       "        vertical-align: top;\n",
       "    }\n",
       "\n",
       "    .dataframe thead th {\n",
       "        text-align: right;\n",
       "    }\n",
       "</style>\n",
       "<table border=\"1\" class=\"dataframe\">\n",
       "  <thead>\n",
       "    <tr style=\"text-align: right;\">\n",
       "      <th></th>\n",
       "      <th>CNT_TOTAL</th>\n",
       "      <th>CNT_DEF</th>\n",
       "      <th>DEF_RATE</th>\n",
       "      <th>DIST_BAD</th>\n",
       "      <th>DIST_GOOD</th>\n",
       "      <th>WOE</th>\n",
       "      <th>WOE_check</th>\n",
       "      <th>SHARE</th>\n",
       "    </tr>\n",
       "    <tr>\n",
       "      <th>BIN_OFFICE_ADDRESS_PCT</th>\n",
       "      <th></th>\n",
       "      <th></th>\n",
       "      <th></th>\n",
       "      <th></th>\n",
       "      <th></th>\n",
       "      <th></th>\n",
       "      <th></th>\n",
       "      <th></th>\n",
       "    </tr>\n",
       "  </thead>\n",
       "  <tbody>\n",
       "    <tr>\n",
       "      <th>[-inf, 0.125)</th>\n",
       "      <td>200938.0</td>\n",
       "      <td>4683.0</td>\n",
       "      <td>0.0233</td>\n",
       "      <td>0.3409</td>\n",
       "      <td>0.3415</td>\n",
       "      <td>0.0015</td>\n",
       "      <td>0.0015</td>\n",
       "      <td>0.3414</td>\n",
       "    </tr>\n",
       "    <tr>\n",
       "      <th>[0.125, 0.4166)</th>\n",
       "      <td>140551.0</td>\n",
       "      <td>3676.0</td>\n",
       "      <td>0.0262</td>\n",
       "      <td>0.2676</td>\n",
       "      <td>0.2381</td>\n",
       "      <td>-0.1123</td>\n",
       "      <td>-0.1167</td>\n",
       "      <td>0.2388</td>\n",
       "    </tr>\n",
       "    <tr>\n",
       "      <th>[0.4166, inf)</th>\n",
       "      <td>247013.0</td>\n",
       "      <td>5377.0</td>\n",
       "      <td>0.0218</td>\n",
       "      <td>0.3915</td>\n",
       "      <td>0.4204</td>\n",
       "      <td>0.0684</td>\n",
       "      <td>0.0714</td>\n",
       "      <td>0.4197</td>\n",
       "    </tr>\n",
       "    <tr>\n",
       "      <th>nan</th>\n",
       "      <td>0.0</td>\n",
       "      <td>0.0</td>\n",
       "      <td>NaN</td>\n",
       "      <td>0.0000</td>\n",
       "      <td>0.0000</td>\n",
       "      <td>NaN</td>\n",
       "      <td>-3.7339</td>\n",
       "      <td>0.0000</td>\n",
       "    </tr>\n",
       "  </tbody>\n",
       "</table>\n",
       "</div>"
      ],
      "text/plain": [
       "                        CNT_TOTAL  CNT_DEF  DEF_RATE  DIST_BAD  DIST_GOOD  \\\n",
       "BIN_OFFICE_ADDRESS_PCT                                                      \n",
       "[-inf, 0.125)            200938.0   4683.0    0.0233    0.3409     0.3415   \n",
       "[0.125, 0.4166)          140551.0   3676.0    0.0262    0.2676     0.2381   \n",
       "[0.4166, inf)            247013.0   5377.0    0.0218    0.3915     0.4204   \n",
       "nan                           0.0      0.0       NaN    0.0000     0.0000   \n",
       "\n",
       "                           WOE  WOE_check   SHARE  \n",
       "BIN_OFFICE_ADDRESS_PCT                             \n",
       "[-inf, 0.125)           0.0015     0.0015  0.3414  \n",
       "[0.125, 0.4166)        -0.1123    -0.1167  0.2388  \n",
       "[0.4166, inf)           0.0684     0.0714  0.4197  \n",
       "nan                        NaN    -3.7339  0.0000  "
      ]
     },
     "metadata": {},
     "output_type": "display_data"
    },
    {
     "name": "stdout",
     "output_type": "stream",
     "text": [
      "IV: 0.0055\n",
      "Gini: 3.91\n"
     ]
    },
    {
     "data": {
      "image/png": "[encoded data removed]",
      "text/plain": [
       "<Figure size 720x360 with 2 Axes>"
      ]
     },
     "metadata": {
      "needs_background": "light"
     },
     "output_type": "display_data"
    },
    {
     "data": {
      "text/markdown": [
       "***"
      ],
      "text/plain": [
       "<IPython.core.display.Markdown object>"
      ]
     },
     "metadata": {},
     "output_type": "display_data"
    },
    {
     "data": {
      "text/markdown": [
       "### OFFICE_ZIPCODE_ADDRESS_RAT"
      ],
      "text/plain": [
       "<IPython.core.display.Markdown object>"
      ]
     },
     "metadata": {},
     "output_type": "display_data"
    },
    {
     "data": {
      "text/html": [
       "<div>\n",
       "<style scoped>\n",
       "    .dataframe tbody tr th:only-of-type {\n",
       "        vertical-align: middle;\n",
       "    }\n",
       "\n",
       "    .dataframe tbody tr th {\n",
       "        vertical-align: top;\n",
       "    }\n",
       "\n",
       "    .dataframe thead th {\n",
       "        text-align: right;\n",
       "    }\n",
       "</style>\n",
       "<table border=\"1\" class=\"dataframe\">\n",
       "  <thead>\n",
       "    <tr style=\"text-align: right;\">\n",
       "      <th></th>\n",
       "      <th>CNT_TOTAL</th>\n",
       "      <th>CNT_DEF</th>\n",
       "      <th>DEF_RATE</th>\n",
       "      <th>DIST_BAD</th>\n",
       "      <th>DIST_GOOD</th>\n",
       "      <th>WOE</th>\n",
       "      <th>WOE_check</th>\n",
       "      <th>SHARE</th>\n",
       "    </tr>\n",
       "    <tr>\n",
       "      <th>BIN_OFFICE_ZIPCODE_ADDRESS_RAT</th>\n",
       "      <th></th>\n",
       "      <th></th>\n",
       "      <th></th>\n",
       "      <th></th>\n",
       "      <th></th>\n",
       "      <th></th>\n",
       "      <th></th>\n",
       "      <th></th>\n",
       "    </tr>\n",
       "  </thead>\n",
       "  <tbody>\n",
       "    <tr>\n",
       "      <th>[-inf, 0.875)</th>\n",
       "      <td>45444.0</td>\n",
       "      <td>1164.0</td>\n",
       "      <td>0.0256</td>\n",
       "      <td>0.0847</td>\n",
       "      <td>0.0770</td>\n",
       "      <td>-0.0916</td>\n",
       "      <td>-0.0953</td>\n",
       "      <td>0.0772</td>\n",
       "    </tr>\n",
       "    <tr>\n",
       "      <th>[0.875, inf)</th>\n",
       "      <td>342120.0</td>\n",
       "      <td>7889.0</td>\n",
       "      <td>0.0231</td>\n",
       "      <td>0.5743</td>\n",
       "      <td>0.5815</td>\n",
       "      <td>0.0119</td>\n",
       "      <td>0.0124</td>\n",
       "      <td>0.5813</td>\n",
       "    </tr>\n",
       "    <tr>\n",
       "      <th>nan</th>\n",
       "      <td>200938.0</td>\n",
       "      <td>4683.0</td>\n",
       "      <td>0.0233</td>\n",
       "      <td>0.3409</td>\n",
       "      <td>0.3415</td>\n",
       "      <td>0.0015</td>\n",
       "      <td>0.0015</td>\n",
       "      <td>0.3414</td>\n",
       "    </tr>\n",
       "  </tbody>\n",
       "</table>\n",
       "</div>"
      ],
      "text/plain": [
       "                                CNT_TOTAL  CNT_DEF  DEF_RATE  DIST_BAD  \\\n",
       "BIN_OFFICE_ZIPCODE_ADDRESS_RAT                                           \n",
       "[-inf, 0.875)                     45444.0   1164.0    0.0256    0.0847   \n",
       "[0.875, inf)                     342120.0   7889.0    0.0231    0.5743   \n",
       "nan                              200938.0   4683.0    0.0233    0.3409   \n",
       "\n",
       "                                DIST_GOOD     WOE  WOE_check   SHARE  \n",
       "BIN_OFFICE_ZIPCODE_ADDRESS_RAT                                        \n",
       "[-inf, 0.875)                      0.0770 -0.0916    -0.0953  0.0772  \n",
       "[0.875, inf)                       0.5815  0.0119     0.0124  0.5813  \n",
       "nan                                0.3415  0.0015     0.0015  0.3414  "
      ]
     },
     "metadata": {},
     "output_type": "display_data"
    },
    {
     "name": "stdout",
     "output_type": "stream",
     "text": [
      "IV: 0.0008\n",
      "Gini: 0.98\n"
     ]
    },
    {
     "data": {
      "image/png": "[encoded data removed]",
      "text/plain": [
       "<Figure size 720x360 with 2 Axes>"
      ]
     },
     "metadata": {
      "needs_background": "light"
     },
     "output_type": "display_data"
    },
    {
     "data": {
      "text/markdown": [
       "***"
      ],
      "text/plain": [
       "<IPython.core.display.Markdown object>"
      ]
     },
     "metadata": {},
     "output_type": "display_data"
    },
    {
     "data": {
      "text/markdown": [
       "### OFFICE_ZIPCODE_CNT"
      ],
      "text/plain": [
       "<IPython.core.display.Markdown object>"
      ]
     },
     "metadata": {},
     "output_type": "display_data"
    },
    {
     "data": {
      "text/html": [
       "<div>\n",
       "<style scoped>\n",
       "    .dataframe tbody tr th:only-of-type {\n",
       "        vertical-align: middle;\n",
       "    }\n",
       "\n",
       "    .dataframe tbody tr th {\n",
       "        vertical-align: top;\n",
       "    }\n",
       "\n",
       "    .dataframe thead th {\n",
       "        text-align: right;\n",
       "    }\n",
       "</style>\n",
       "<table border=\"1\" class=\"dataframe\">\n",
       "  <thead>\n",
       "    <tr style=\"text-align: right;\">\n",
       "      <th></th>\n",
       "      <th>CNT_TOTAL</th>\n",
       "      <th>CNT_DEF</th>\n",
       "      <th>DEF_RATE</th>\n",
       "      <th>DIST_BAD</th>\n",
       "      <th>DIST_GOOD</th>\n",
       "      <th>WOE</th>\n",
       "      <th>WOE_check</th>\n",
       "      <th>SHARE</th>\n",
       "    </tr>\n",
       "    <tr>\n",
       "      <th>BIN_OFFICE_ZIPCODE_CNT</th>\n",
       "      <th></th>\n",
       "      <th></th>\n",
       "      <th></th>\n",
       "      <th></th>\n",
       "      <th></th>\n",
       "      <th></th>\n",
       "      <th></th>\n",
       "      <th></th>\n",
       "    </tr>\n",
       "  </thead>\n",
       "  <tbody>\n",
       "    <tr>\n",
       "      <th>[-inf, 0.5)</th>\n",
       "      <td>200986.0</td>\n",
       "      <td>4684.0</td>\n",
       "      <td>0.0233</td>\n",
       "      <td>0.3410</td>\n",
       "      <td>0.3415</td>\n",
       "      <td>0.0015</td>\n",
       "      <td>0.0016</td>\n",
       "      <td>0.3415</td>\n",
       "    </tr>\n",
       "    <tr>\n",
       "      <th>[0.5, 1.5)</th>\n",
       "      <td>333336.0</td>\n",
       "      <td>7580.0</td>\n",
       "      <td>0.0227</td>\n",
       "      <td>0.5518</td>\n",
       "      <td>0.5668</td>\n",
       "      <td>0.0256</td>\n",
       "      <td>0.0267</td>\n",
       "      <td>0.5664</td>\n",
       "    </tr>\n",
       "    <tr>\n",
       "      <th>[1.5, inf)</th>\n",
       "      <td>54180.0</td>\n",
       "      <td>1472.0</td>\n",
       "      <td>0.0272</td>\n",
       "      <td>0.1072</td>\n",
       "      <td>0.0917</td>\n",
       "      <td>-0.1500</td>\n",
       "      <td>-0.1558</td>\n",
       "      <td>0.0921</td>\n",
       "    </tr>\n",
       "    <tr>\n",
       "      <th>nan</th>\n",
       "      <td>0.0</td>\n",
       "      <td>0.0</td>\n",
       "      <td>NaN</td>\n",
       "      <td>0.0000</td>\n",
       "      <td>0.0000</td>\n",
       "      <td>NaN</td>\n",
       "      <td>-3.7339</td>\n",
       "      <td>0.0000</td>\n",
       "    </tr>\n",
       "  </tbody>\n",
       "</table>\n",
       "</div>"
      ],
      "text/plain": [
       "                        CNT_TOTAL  CNT_DEF  DEF_RATE  DIST_BAD  DIST_GOOD  \\\n",
       "BIN_OFFICE_ZIPCODE_CNT                                                      \n",
       "[-inf, 0.5)              200986.0   4684.0    0.0233    0.3410     0.3415   \n",
       "[0.5, 1.5)               333336.0   7580.0    0.0227    0.5518     0.5668   \n",
       "[1.5, inf)                54180.0   1472.0    0.0272    0.1072     0.0917   \n",
       "nan                           0.0      0.0       NaN    0.0000     0.0000   \n",
       "\n",
       "                           WOE  WOE_check   SHARE  \n",
       "BIN_OFFICE_ZIPCODE_CNT                             \n",
       "[-inf, 0.5)             0.0015     0.0016  0.3415  \n",
       "[0.5, 1.5)              0.0256     0.0267  0.5664  \n",
       "[1.5, inf)             -0.1500    -0.1558  0.0921  \n",
       "nan                        NaN    -3.7339  0.0000  "
      ]
     },
     "metadata": {},
     "output_type": "display_data"
    },
    {
     "name": "stdout",
     "output_type": "stream",
     "text": [
      "IV: 0.0028\n",
      "Gini: 2.03\n"
     ]
    },
    {
     "data": {
      "image/png": "[encoded data removed]",
      "text/plain": [
       "<Figure size 720x360 with 2 Axes>"
      ]
     },
     "metadata": {
      "needs_background": "light"
     },
     "output_type": "display_data"
    },
    {
     "data": {
      "text/markdown": [
       "***"
      ],
      "text/plain": [
       "<IPython.core.display.Markdown object>"
      ]
     },
     "metadata": {},
     "output_type": "display_data"
    },
    {
     "data": {
      "text/markdown": [
       "### PERMANENT_ADDRESS_CNT"
      ],
      "text/plain": [
       "<IPython.core.display.Markdown object>"
      ]
     },
     "metadata": {},
     "output_type": "display_data"
    },
    {
     "data": {
      "text/html": [
       "<div>\n",
       "<style scoped>\n",
       "    .dataframe tbody tr th:only-of-type {\n",
       "        vertical-align: middle;\n",
       "    }\n",
       "\n",
       "    .dataframe tbody tr th {\n",
       "        vertical-align: top;\n",
       "    }\n",
       "\n",
       "    .dataframe thead th {\n",
       "        text-align: right;\n",
       "    }\n",
       "</style>\n",
       "<table border=\"1\" class=\"dataframe\">\n",
       "  <thead>\n",
       "    <tr style=\"text-align: right;\">\n",
       "      <th></th>\n",
       "      <th>CNT_TOTAL</th>\n",
       "      <th>CNT_DEF</th>\n",
       "      <th>DEF_RATE</th>\n",
       "      <th>DIST_BAD</th>\n",
       "      <th>DIST_GOOD</th>\n",
       "      <th>WOE</th>\n",
       "      <th>WOE_check</th>\n",
       "      <th>SHARE</th>\n",
       "    </tr>\n",
       "    <tr>\n",
       "      <th>BIN_PERMANENT_ADDRESS_CNT</th>\n",
       "      <th></th>\n",
       "      <th></th>\n",
       "      <th></th>\n",
       "      <th></th>\n",
       "      <th></th>\n",
       "      <th></th>\n",
       "      <th></th>\n",
       "      <th></th>\n",
       "    </tr>\n",
       "  </thead>\n",
       "  <tbody>\n",
       "    <tr>\n",
       "      <th>[-inf, 0.5)</th>\n",
       "      <td>414920.0</td>\n",
       "      <td>8709.0</td>\n",
       "      <td>0.0210</td>\n",
       "      <td>0.6340</td>\n",
       "      <td>0.7067</td>\n",
       "      <td>0.1040</td>\n",
       "      <td>0.1086</td>\n",
       "      <td>0.7050</td>\n",
       "    </tr>\n",
       "    <tr>\n",
       "      <th>[0.5, 1.5)</th>\n",
       "      <td>149921.0</td>\n",
       "      <td>4117.0</td>\n",
       "      <td>0.0275</td>\n",
       "      <td>0.2997</td>\n",
       "      <td>0.2537</td>\n",
       "      <td>-0.1606</td>\n",
       "      <td>-0.1668</td>\n",
       "      <td>0.2548</td>\n",
       "    </tr>\n",
       "    <tr>\n",
       "      <th>[1.5, inf)</th>\n",
       "      <td>23661.0</td>\n",
       "      <td>910.0</td>\n",
       "      <td>0.0385</td>\n",
       "      <td>0.0662</td>\n",
       "      <td>0.0396</td>\n",
       "      <td>-0.4987</td>\n",
       "      <td>-0.5150</td>\n",
       "      <td>0.0402</td>\n",
       "    </tr>\n",
       "    <tr>\n",
       "      <th>nan</th>\n",
       "      <td>0.0</td>\n",
       "      <td>0.0</td>\n",
       "      <td>NaN</td>\n",
       "      <td>0.0000</td>\n",
       "      <td>0.0000</td>\n",
       "      <td>NaN</td>\n",
       "      <td>-3.7339</td>\n",
       "      <td>0.0000</td>\n",
       "    </tr>\n",
       "  </tbody>\n",
       "</table>\n",
       "</div>"
      ],
      "text/plain": [
       "                           CNT_TOTAL  CNT_DEF  DEF_RATE  DIST_BAD  DIST_GOOD  \\\n",
       "BIN_PERMANENT_ADDRESS_CNT                                                      \n",
       "[-inf, 0.5)                 414920.0   8709.0    0.0210    0.6340     0.7067   \n",
       "[0.5, 1.5)                  149921.0   4117.0    0.0275    0.2997     0.2537   \n",
       "[1.5, inf)                   23661.0    910.0    0.0385    0.0662     0.0396   \n",
       "nan                              0.0      0.0       NaN    0.0000     0.0000   \n",
       "\n",
       "                              WOE  WOE_check   SHARE  \n",
       "BIN_PERMANENT_ADDRESS_CNT                             \n",
       "[-inf, 0.5)                0.1040     0.1086  0.7050  \n",
       "[0.5, 1.5)                -0.1606    -0.1668  0.2548  \n",
       "[1.5, inf)                -0.4987    -0.5150  0.0402  \n",
       "nan                           NaN    -3.7339  0.0000  "
      ]
     },
     "metadata": {},
     "output_type": "display_data"
    },
    {
     "name": "stdout",
     "output_type": "stream",
     "text": [
      "IV: 0.0293\n",
      "Gini: 7.77\n"
     ]
    },
    {
     "data": {
      "image/png": "[encoded data removed]",
      "text/plain": [
       "<Figure size 720x360 with 2 Axes>"
      ]
     },
     "metadata": {
      "needs_background": "light"
     },
     "output_type": "display_data"
    },
    {
     "data": {
      "text/markdown": [
       "***"
      ],
      "text/plain": [
       "<IPython.core.display.Markdown object>"
      ]
     },
     "metadata": {},
     "output_type": "display_data"
    },
    {
     "data": {
      "text/markdown": [
       "### PERMANENT_ADDRESS_PCT"
      ],
      "text/plain": [
       "<IPython.core.display.Markdown object>"
      ]
     },
     "metadata": {},
     "output_type": "display_data"
    },
    {
     "data": {
      "text/html": [
       "<div>\n",
       "<style scoped>\n",
       "    .dataframe tbody tr th:only-of-type {\n",
       "        vertical-align: middle;\n",
       "    }\n",
       "\n",
       "    .dataframe tbody tr th {\n",
       "        vertical-align: top;\n",
       "    }\n",
       "\n",
       "    .dataframe thead th {\n",
       "        text-align: right;\n",
       "    }\n",
       "</style>\n",
       "<table border=\"1\" class=\"dataframe\">\n",
       "  <thead>\n",
       "    <tr style=\"text-align: right;\">\n",
       "      <th></th>\n",
       "      <th>CNT_TOTAL</th>\n",
       "      <th>CNT_DEF</th>\n",
       "      <th>DEF_RATE</th>\n",
       "      <th>DIST_BAD</th>\n",
       "      <th>DIST_GOOD</th>\n",
       "      <th>WOE</th>\n",
       "      <th>WOE_check</th>\n",
       "      <th>SHARE</th>\n",
       "    </tr>\n",
       "    <tr>\n",
       "      <th>BIN_PERMANENT_ADDRESS_PCT</th>\n",
       "      <th></th>\n",
       "      <th></th>\n",
       "      <th></th>\n",
       "      <th></th>\n",
       "      <th></th>\n",
       "      <th></th>\n",
       "      <th></th>\n",
       "      <th></th>\n",
       "    </tr>\n",
       "  </thead>\n",
       "  <tbody>\n",
       "    <tr>\n",
       "      <th>[-inf, 0.125)</th>\n",
       "      <td>414920.0</td>\n",
       "      <td>8709.0</td>\n",
       "      <td>0.0210</td>\n",
       "      <td>0.6340</td>\n",
       "      <td>0.7067</td>\n",
       "      <td>0.1040</td>\n",
       "      <td>0.1086</td>\n",
       "      <td>0.7050</td>\n",
       "    </tr>\n",
       "    <tr>\n",
       "      <th>[0.125, 0.2916)</th>\n",
       "      <td>47894.0</td>\n",
       "      <td>1622.0</td>\n",
       "      <td>0.0339</td>\n",
       "      <td>0.1181</td>\n",
       "      <td>0.0805</td>\n",
       "      <td>-0.3702</td>\n",
       "      <td>-0.3831</td>\n",
       "      <td>0.0814</td>\n",
       "    </tr>\n",
       "    <tr>\n",
       "      <th>[0.2916, inf)</th>\n",
       "      <td>125688.0</td>\n",
       "      <td>3405.0</td>\n",
       "      <td>0.0271</td>\n",
       "      <td>0.2479</td>\n",
       "      <td>0.2128</td>\n",
       "      <td>-0.1471</td>\n",
       "      <td>-0.1529</td>\n",
       "      <td>0.2136</td>\n",
       "    </tr>\n",
       "    <tr>\n",
       "      <th>nan</th>\n",
       "      <td>0.0</td>\n",
       "      <td>0.0</td>\n",
       "      <td>NaN</td>\n",
       "      <td>0.0000</td>\n",
       "      <td>0.0000</td>\n",
       "      <td>NaN</td>\n",
       "      <td>-3.7339</td>\n",
       "      <td>0.0000</td>\n",
       "    </tr>\n",
       "  </tbody>\n",
       "</table>\n",
       "</div>"
      ],
      "text/plain": [
       "                           CNT_TOTAL  CNT_DEF  DEF_RATE  DIST_BAD  DIST_GOOD  \\\n",
       "BIN_PERMANENT_ADDRESS_PCT                                                      \n",
       "[-inf, 0.125)               414920.0   8709.0    0.0210    0.6340     0.7067   \n",
       "[0.125, 0.2916)              47894.0   1622.0    0.0339    0.1181     0.0805   \n",
       "[0.2916, inf)               125688.0   3405.0    0.0271    0.2479     0.2128   \n",
       "nan                              0.0      0.0       NaN    0.0000     0.0000   \n",
       "\n",
       "                              WOE  WOE_check   SHARE  \n",
       "BIN_PERMANENT_ADDRESS_PCT                             \n",
       "[-inf, 0.125)              0.1040     0.1086  0.7050  \n",
       "[0.125, 0.2916)           -0.3702    -0.3831  0.0814  \n",
       "[0.2916, inf)             -0.1471    -0.1529  0.2136  \n",
       "nan                           NaN    -3.7339  0.0000  "
      ]
     },
     "metadata": {},
     "output_type": "display_data"
    },
    {
     "name": "stdout",
     "output_type": "stream",
     "text": [
      "IV: 0.0277\n",
      "Gini: 7.79\n"
     ]
    },
    {
     "data": {
      "image/png": "[encoded data removed]",
      "text/plain": [
       "<Figure size 720x360 with 2 Axes>"
      ]
     },
     "metadata": {
      "needs_background": "light"
     },
     "output_type": "display_data"
    },
    {
     "data": {
      "text/markdown": [
       "***"
      ],
      "text/plain": [
       "<IPython.core.display.Markdown object>"
      ]
     },
     "metadata": {},
     "output_type": "display_data"
    },
    {
     "data": {
      "text/markdown": [
       "### PERMANENT_OFFICE_COMB_RAT"
      ],
      "text/plain": [
       "<IPython.core.display.Markdown object>"
      ]
     },
     "metadata": {},
     "output_type": "display_data"
    },
    {
     "data": {
      "text/html": [
       "<div>\n",
       "<style scoped>\n",
       "    .dataframe tbody tr th:only-of-type {\n",
       "        vertical-align: middle;\n",
       "    }\n",
       "\n",
       "    .dataframe tbody tr th {\n",
       "        vertical-align: top;\n",
       "    }\n",
       "\n",
       "    .dataframe thead th {\n",
       "        text-align: right;\n",
       "    }\n",
       "</style>\n",
       "<table border=\"1\" class=\"dataframe\">\n",
       "  <thead>\n",
       "    <tr style=\"text-align: right;\">\n",
       "      <th></th>\n",
       "      <th>CNT_TOTAL</th>\n",
       "      <th>CNT_DEF</th>\n",
       "      <th>DEF_RATE</th>\n",
       "      <th>DIST_BAD</th>\n",
       "      <th>DIST_GOOD</th>\n",
       "      <th>WOE</th>\n",
       "      <th>WOE_check</th>\n",
       "      <th>SHARE</th>\n",
       "    </tr>\n",
       "    <tr>\n",
       "      <th>BIN_PERMANENT_OFFICE_COMB_RAT</th>\n",
       "      <th></th>\n",
       "      <th></th>\n",
       "      <th></th>\n",
       "      <th></th>\n",
       "      <th></th>\n",
       "      <th></th>\n",
       "      <th></th>\n",
       "      <th></th>\n",
       "    </tr>\n",
       "  </thead>\n",
       "  <tbody>\n",
       "    <tr>\n",
       "      <th>[-inf, 0.5834)</th>\n",
       "      <td>58742.0</td>\n",
       "      <td>1629.0</td>\n",
       "      <td>0.0277</td>\n",
       "      <td>0.1186</td>\n",
       "      <td>0.0994</td>\n",
       "      <td>-0.1703</td>\n",
       "      <td>-0.1769</td>\n",
       "      <td>0.0998</td>\n",
       "    </tr>\n",
       "    <tr>\n",
       "      <th>[0.5834, 0.875)</th>\n",
       "      <td>11315.0</td>\n",
       "      <td>373.0</td>\n",
       "      <td>0.0330</td>\n",
       "      <td>0.0272</td>\n",
       "      <td>0.0190</td>\n",
       "      <td>-0.3431</td>\n",
       "      <td>-0.3552</td>\n",
       "      <td>0.0192</td>\n",
       "    </tr>\n",
       "    <tr>\n",
       "      <th>[0.875, inf)</th>\n",
       "      <td>361699.0</td>\n",
       "      <td>8423.0</td>\n",
       "      <td>0.0233</td>\n",
       "      <td>0.6132</td>\n",
       "      <td>0.6146</td>\n",
       "      <td>0.0022</td>\n",
       "      <td>0.0023</td>\n",
       "      <td>0.6146</td>\n",
       "    </tr>\n",
       "    <tr>\n",
       "      <th>nan</th>\n",
       "      <td>156746.0</td>\n",
       "      <td>3311.0</td>\n",
       "      <td>0.0211</td>\n",
       "      <td>0.2410</td>\n",
       "      <td>0.2670</td>\n",
       "      <td>0.0978</td>\n",
       "      <td>0.1021</td>\n",
       "      <td>0.2663</td>\n",
       "    </tr>\n",
       "  </tbody>\n",
       "</table>\n",
       "</div>"
      ],
      "text/plain": [
       "                               CNT_TOTAL  CNT_DEF  DEF_RATE  DIST_BAD  \\\n",
       "BIN_PERMANENT_OFFICE_COMB_RAT                                           \n",
       "[-inf, 0.5834)                   58742.0   1629.0    0.0277    0.1186   \n",
       "[0.5834, 0.875)                  11315.0    373.0    0.0330    0.0272   \n",
       "[0.875, inf)                    361699.0   8423.0    0.0233    0.6132   \n",
       "nan                             156746.0   3311.0    0.0211    0.2410   \n",
       "\n",
       "                               DIST_GOOD     WOE  WOE_check   SHARE  \n",
       "BIN_PERMANENT_OFFICE_COMB_RAT                                        \n",
       "[-inf, 0.5834)                    0.0994 -0.1703    -0.1769  0.0998  \n",
       "[0.5834, 0.875)                   0.0190 -0.3431    -0.3552  0.0192  \n",
       "[0.875, inf)                      0.6146  0.0022     0.0023  0.6146  \n",
       "nan                               0.2670  0.0978     0.1021  0.2663  "
      ]
     },
     "metadata": {},
     "output_type": "display_data"
    },
    {
     "name": "stdout",
     "output_type": "stream",
     "text": [
      "IV: 0.0089\n",
      "Gini: 4.33\n"
     ]
    },
    {
     "data": {
      "image/png": "[encoded data removed]",
      "text/plain": [
       "<Figure size 720x360 with 2 Axes>"
      ]
     },
     "metadata": {
      "needs_background": "light"
     },
     "output_type": "display_data"
    },
    {
     "data": {
      "text/markdown": [
       "***"
      ],
      "text/plain": [
       "<IPython.core.display.Markdown object>"
      ]
     },
     "metadata": {},
     "output_type": "display_data"
    },
    {
     "data": {
      "text/markdown": [
       "### PERMANENT_RESIDENCE_COMB_RAT"
      ],
      "text/plain": [
       "<IPython.core.display.Markdown object>"
      ]
     },
     "metadata": {},
     "output_type": "display_data"
    },
    {
     "data": {
      "text/html": [
       "<div>\n",
       "<style scoped>\n",
       "    .dataframe tbody tr th:only-of-type {\n",
       "        vertical-align: middle;\n",
       "    }\n",
       "\n",
       "    .dataframe tbody tr th {\n",
       "        vertical-align: top;\n",
       "    }\n",
       "\n",
       "    .dataframe thead th {\n",
       "        text-align: right;\n",
       "    }\n",
       "</style>\n",
       "<table border=\"1\" class=\"dataframe\">\n",
       "  <thead>\n",
       "    <tr style=\"text-align: right;\">\n",
       "      <th></th>\n",
       "      <th>CNT_TOTAL</th>\n",
       "      <th>CNT_DEF</th>\n",
       "      <th>DEF_RATE</th>\n",
       "      <th>DIST_BAD</th>\n",
       "      <th>DIST_GOOD</th>\n",
       "      <th>WOE</th>\n",
       "      <th>WOE_check</th>\n",
       "      <th>SHARE</th>\n",
       "    </tr>\n",
       "    <tr>\n",
       "      <th>BIN_PERMANENT_RESIDENCE_COMB_RAT</th>\n",
       "      <th></th>\n",
       "      <th></th>\n",
       "      <th></th>\n",
       "      <th></th>\n",
       "      <th></th>\n",
       "      <th></th>\n",
       "      <th></th>\n",
       "      <th></th>\n",
       "    </tr>\n",
       "  </thead>\n",
       "  <tbody>\n",
       "    <tr>\n",
       "      <th>[-inf, 0.5834)</th>\n",
       "      <td>104440.0</td>\n",
       "      <td>2991.0</td>\n",
       "      <td>0.0286</td>\n",
       "      <td>0.2177</td>\n",
       "      <td>0.1765</td>\n",
       "      <td>-0.2024</td>\n",
       "      <td>-0.2100</td>\n",
       "      <td>0.1775</td>\n",
       "    </tr>\n",
       "    <tr>\n",
       "      <th>[0.5834, 0.875)</th>\n",
       "      <td>20276.0</td>\n",
       "      <td>593.0</td>\n",
       "      <td>0.0292</td>\n",
       "      <td>0.0432</td>\n",
       "      <td>0.0342</td>\n",
       "      <td>-0.2233</td>\n",
       "      <td>-0.2316</td>\n",
       "      <td>0.0345</td>\n",
       "    </tr>\n",
       "    <tr>\n",
       "      <th>[0.875, inf)</th>\n",
       "      <td>428267.0</td>\n",
       "      <td>9424.0</td>\n",
       "      <td>0.0220</td>\n",
       "      <td>0.6861</td>\n",
       "      <td>0.7287</td>\n",
       "      <td>0.0578</td>\n",
       "      <td>0.0603</td>\n",
       "      <td>0.7277</td>\n",
       "    </tr>\n",
       "    <tr>\n",
       "      <th>nan</th>\n",
       "      <td>35519.0</td>\n",
       "      <td>728.0</td>\n",
       "      <td>0.0205</td>\n",
       "      <td>0.0530</td>\n",
       "      <td>0.0605</td>\n",
       "      <td>0.1272</td>\n",
       "      <td>0.1329</td>\n",
       "      <td>0.0604</td>\n",
       "    </tr>\n",
       "  </tbody>\n",
       "</table>\n",
       "</div>"
      ],
      "text/plain": [
       "                                  CNT_TOTAL  CNT_DEF  DEF_RATE  DIST_BAD  \\\n",
       "BIN_PERMANENT_RESIDENCE_COMB_RAT                                           \n",
       "[-inf, 0.5834)                     104440.0   2991.0    0.0286    0.2177   \n",
       "[0.5834, 0.875)                     20276.0    593.0    0.0292    0.0432   \n",
       "[0.875, inf)                       428267.0   9424.0    0.0220    0.6861   \n",
       "nan                                 35519.0    728.0    0.0205    0.0530   \n",
       "\n",
       "                                  DIST_GOOD     WOE  WOE_check   SHARE  \n",
       "BIN_PERMANENT_RESIDENCE_COMB_RAT                                        \n",
       "[-inf, 0.5834)                       0.1765 -0.2024    -0.2100  0.1775  \n",
       "[0.5834, 0.875)                      0.0342 -0.2233    -0.2316  0.0345  \n",
       "[0.875, inf)                         0.7287  0.0578     0.0603  0.7277  \n",
       "nan                                  0.0605  0.1272     0.1329  0.0604  "
      ]
     },
     "metadata": {},
     "output_type": "display_data"
    },
    {
     "name": "stdout",
     "output_type": "stream",
     "text": [
      "IV: 0.0143\n",
      "Gini: 5.32\n"
     ]
    },
    {
     "data": {
      "image/png": "[encoded data removed]",
      "text/plain": [
       "<Figure size 720x360 with 2 Axes>"
      ]
     },
     "metadata": {
      "needs_background": "light"
     },
     "output_type": "display_data"
    },
    {
     "data": {
      "text/markdown": [
       "***"
      ],
      "text/plain": [
       "<IPython.core.display.Markdown object>"
      ]
     },
     "metadata": {},
     "output_type": "display_data"
    },
    {
     "data": {
      "text/markdown": [
       "### PERMANENT_ZIPCODE_ADDRESS_RAT"
      ],
      "text/plain": [
       "<IPython.core.display.Markdown object>"
      ]
     },
     "metadata": {},
     "output_type": "display_data"
    },
    {
     "data": {
      "text/html": [
       "<div>\n",
       "<style scoped>\n",
       "    .dataframe tbody tr th:only-of-type {\n",
       "        vertical-align: middle;\n",
       "    }\n",
       "\n",
       "    .dataframe tbody tr th {\n",
       "        vertical-align: top;\n",
       "    }\n",
       "\n",
       "    .dataframe thead th {\n",
       "        text-align: right;\n",
       "    }\n",
       "</style>\n",
       "<table border=\"1\" class=\"dataframe\">\n",
       "  <thead>\n",
       "    <tr style=\"text-align: right;\">\n",
       "      <th></th>\n",
       "      <th>CNT_TOTAL</th>\n",
       "      <th>CNT_DEF</th>\n",
       "      <th>DEF_RATE</th>\n",
       "      <th>DIST_BAD</th>\n",
       "      <th>DIST_GOOD</th>\n",
       "      <th>WOE</th>\n",
       "      <th>WOE_check</th>\n",
       "      <th>SHARE</th>\n",
       "    </tr>\n",
       "    <tr>\n",
       "      <th>BIN_PERMANENT_ZIPCODE_ADDRESS_RAT</th>\n",
       "      <th></th>\n",
       "      <th></th>\n",
       "      <th></th>\n",
       "      <th></th>\n",
       "      <th></th>\n",
       "      <th></th>\n",
       "      <th></th>\n",
       "      <th></th>\n",
       "    </tr>\n",
       "  </thead>\n",
       "  <tbody>\n",
       "    <tr>\n",
       "      <th>[-inf, 0.7084)</th>\n",
       "      <td>15257.0</td>\n",
       "      <td>610.0</td>\n",
       "      <td>0.0400</td>\n",
       "      <td>0.0444</td>\n",
       "      <td>0.0255</td>\n",
       "      <td>-0.5381</td>\n",
       "      <td>-0.5554</td>\n",
       "      <td>0.0259</td>\n",
       "    </tr>\n",
       "    <tr>\n",
       "      <th>[0.7084, inf)</th>\n",
       "      <td>158325.0</td>\n",
       "      <td>4417.0</td>\n",
       "      <td>0.0279</td>\n",
       "      <td>0.3216</td>\n",
       "      <td>0.2678</td>\n",
       "      <td>-0.1763</td>\n",
       "      <td>-0.1830</td>\n",
       "      <td>0.2690</td>\n",
       "    </tr>\n",
       "    <tr>\n",
       "      <th>nan</th>\n",
       "      <td>414920.0</td>\n",
       "      <td>8709.0</td>\n",
       "      <td>0.0210</td>\n",
       "      <td>0.6340</td>\n",
       "      <td>0.7067</td>\n",
       "      <td>0.1040</td>\n",
       "      <td>0.1086</td>\n",
       "      <td>0.7050</td>\n",
       "    </tr>\n",
       "  </tbody>\n",
       "</table>\n",
       "</div>"
      ],
      "text/plain": [
       "                                   CNT_TOTAL  CNT_DEF  DEF_RATE  DIST_BAD  \\\n",
       "BIN_PERMANENT_ZIPCODE_ADDRESS_RAT                                           \n",
       "[-inf, 0.7084)                       15257.0    610.0    0.0400    0.0444   \n",
       "[0.7084, inf)                       158325.0   4417.0    0.0279    0.3216   \n",
       "nan                                 414920.0   8709.0    0.0210    0.6340   \n",
       "\n",
       "                                   DIST_GOOD     WOE  WOE_check   SHARE  \n",
       "BIN_PERMANENT_ZIPCODE_ADDRESS_RAT                                        \n",
       "[-inf, 0.7084)                        0.0255 -0.5381    -0.5554  0.0259  \n",
       "[0.7084, inf)                         0.2678 -0.1763    -0.1830  0.2690  \n",
       "nan                                   0.7067  0.1040     0.1086  0.7050  "
      ]
     },
     "metadata": {},
     "output_type": "display_data"
    },
    {
     "name": "stdout",
     "output_type": "stream",
     "text": [
      "IV: 0.0283\n",
      "Gini: 7.64\n"
     ]
    },
    {
     "data": {
      "image/png": "[encoded data removed]",
      "text/plain": [
       "<Figure size 720x360 with 2 Axes>"
      ]
     },
     "metadata": {
      "needs_background": "light"
     },
     "output_type": "display_data"
    },
    {
     "data": {
      "text/markdown": [
       "***"
      ],
      "text/plain": [
       "<IPython.core.display.Markdown object>"
      ]
     },
     "metadata": {},
     "output_type": "display_data"
    },
    {
     "data": {
      "text/markdown": [
       "### PERMANENT_ZIPCODE_CNT"
      ],
      "text/plain": [
       "<IPython.core.display.Markdown object>"
      ]
     },
     "metadata": {},
     "output_type": "display_data"
    },
    {
     "data": {
      "text/html": [
       "<div>\n",
       "<style scoped>\n",
       "    .dataframe tbody tr th:only-of-type {\n",
       "        vertical-align: middle;\n",
       "    }\n",
       "\n",
       "    .dataframe tbody tr th {\n",
       "        vertical-align: top;\n",
       "    }\n",
       "\n",
       "    .dataframe thead th {\n",
       "        text-align: right;\n",
       "    }\n",
       "</style>\n",
       "<table border=\"1\" class=\"dataframe\">\n",
       "  <thead>\n",
       "    <tr style=\"text-align: right;\">\n",
       "      <th></th>\n",
       "      <th>CNT_TOTAL</th>\n",
       "      <th>CNT_DEF</th>\n",
       "      <th>DEF_RATE</th>\n",
       "      <th>DIST_BAD</th>\n",
       "      <th>DIST_GOOD</th>\n",
       "      <th>WOE</th>\n",
       "      <th>WOE_check</th>\n",
       "      <th>SHARE</th>\n",
       "    </tr>\n",
       "    <tr>\n",
       "      <th>BIN_PERMANENT_ZIPCODE_CNT</th>\n",
       "      <th></th>\n",
       "      <th></th>\n",
       "      <th></th>\n",
       "      <th></th>\n",
       "      <th></th>\n",
       "      <th></th>\n",
       "      <th></th>\n",
       "      <th></th>\n",
       "    </tr>\n",
       "  </thead>\n",
       "  <tbody>\n",
       "    <tr>\n",
       "      <th>[-inf, 0.5)</th>\n",
       "      <td>414972.0</td>\n",
       "      <td>8710.0</td>\n",
       "      <td>0.021</td>\n",
       "      <td>0.6341</td>\n",
       "      <td>0.7068</td>\n",
       "      <td>0.1040</td>\n",
       "      <td>0.1086</td>\n",
       "      <td>0.7051</td>\n",
       "    </tr>\n",
       "    <tr>\n",
       "      <th>[0.5, inf)</th>\n",
       "      <td>173530.0</td>\n",
       "      <td>5026.0</td>\n",
       "      <td>0.029</td>\n",
       "      <td>0.3659</td>\n",
       "      <td>0.2932</td>\n",
       "      <td>-0.2136</td>\n",
       "      <td>-0.2216</td>\n",
       "      <td>0.2949</td>\n",
       "    </tr>\n",
       "    <tr>\n",
       "      <th>nan</th>\n",
       "      <td>0.0</td>\n",
       "      <td>0.0</td>\n",
       "      <td>NaN</td>\n",
       "      <td>0.0000</td>\n",
       "      <td>0.0000</td>\n",
       "      <td>NaN</td>\n",
       "      <td>-3.7339</td>\n",
       "      <td>0.0000</td>\n",
       "    </tr>\n",
       "  </tbody>\n",
       "</table>\n",
       "</div>"
      ],
      "text/plain": [
       "                           CNT_TOTAL  CNT_DEF  DEF_RATE  DIST_BAD  DIST_GOOD  \\\n",
       "BIN_PERMANENT_ZIPCODE_CNT                                                      \n",
       "[-inf, 0.5)                 414972.0   8710.0     0.021    0.6341     0.7068   \n",
       "[0.5, inf)                  173530.0   5026.0     0.029    0.3659     0.2932   \n",
       "nan                              0.0      0.0       NaN    0.0000     0.0000   \n",
       "\n",
       "                              WOE  WOE_check   SHARE  \n",
       "BIN_PERMANENT_ZIPCODE_CNT                             \n",
       "[-inf, 0.5)                0.1040     0.1086  0.7051  \n",
       "[0.5, inf)                -0.2136    -0.2216  0.2949  \n",
       "nan                           NaN    -3.7339  0.0000  "
      ]
     },
     "metadata": {},
     "output_type": "display_data"
    },
    {
     "name": "stdout",
     "output_type": "stream",
     "text": [
      "IV: 0.0240\n",
      "Gini: 7.27\n"
     ]
    },
    {
     "data": {
      "image/png": "[encoded data removed]",
      "text/plain": [
       "<Figure size 720x360 with 2 Axes>"
      ]
     },
     "metadata": {
      "needs_background": "light"
     },
     "output_type": "display_data"
    },
    {
     "data": {
      "text/markdown": [
       "***"
      ],
      "text/plain": [
       "<IPython.core.display.Markdown object>"
      ]
     },
     "metadata": {},
     "output_type": "display_data"
    },
    {
     "data": {
      "text/markdown": [
       "### RESIDENCE_ADDRESS_CNT"
      ],
      "text/plain": [
       "<IPython.core.display.Markdown object>"
      ]
     },
     "metadata": {},
     "output_type": "display_data"
    },
    {
     "data": {
      "text/html": [
       "<div>\n",
       "<style scoped>\n",
       "    .dataframe tbody tr th:only-of-type {\n",
       "        vertical-align: middle;\n",
       "    }\n",
       "\n",
       "    .dataframe tbody tr th {\n",
       "        vertical-align: top;\n",
       "    }\n",
       "\n",
       "    .dataframe thead th {\n",
       "        text-align: right;\n",
       "    }\n",
       "</style>\n",
       "<table border=\"1\" class=\"dataframe\">\n",
       "  <thead>\n",
       "    <tr style=\"text-align: right;\">\n",
       "      <th></th>\n",
       "      <th>CNT_TOTAL</th>\n",
       "      <th>CNT_DEF</th>\n",
       "      <th>DEF_RATE</th>\n",
       "      <th>DIST_BAD</th>\n",
       "      <th>DIST_GOOD</th>\n",
       "      <th>WOE</th>\n",
       "      <th>WOE_check</th>\n",
       "      <th>SHARE</th>\n",
       "    </tr>\n",
       "    <tr>\n",
       "      <th>BIN_RESIDENCE_ADDRESS_CNT</th>\n",
       "      <th></th>\n",
       "      <th></th>\n",
       "      <th></th>\n",
       "      <th></th>\n",
       "      <th></th>\n",
       "      <th></th>\n",
       "      <th></th>\n",
       "      <th></th>\n",
       "    </tr>\n",
       "  </thead>\n",
       "  <tbody>\n",
       "    <tr>\n",
       "      <th>[-inf, 0.5)</th>\n",
       "      <td>59916.0</td>\n",
       "      <td>1450.0</td>\n",
       "      <td>0.0242</td>\n",
       "      <td>0.1056</td>\n",
       "      <td>0.1017</td>\n",
       "      <td>-0.0356</td>\n",
       "      <td>-0.0371</td>\n",
       "      <td>0.1018</td>\n",
       "    </tr>\n",
       "    <tr>\n",
       "      <th>[0.5, 1.5)</th>\n",
       "      <td>393279.0</td>\n",
       "      <td>8768.0</td>\n",
       "      <td>0.0223</td>\n",
       "      <td>0.6383</td>\n",
       "      <td>0.6690</td>\n",
       "      <td>0.0450</td>\n",
       "      <td>0.0469</td>\n",
       "      <td>0.6683</td>\n",
       "    </tr>\n",
       "    <tr>\n",
       "      <th>[1.5, inf)</th>\n",
       "      <td>135307.0</td>\n",
       "      <td>3518.0</td>\n",
       "      <td>0.0260</td>\n",
       "      <td>0.2561</td>\n",
       "      <td>0.2293</td>\n",
       "      <td>-0.1064</td>\n",
       "      <td>-0.1106</td>\n",
       "      <td>0.2299</td>\n",
       "    </tr>\n",
       "    <tr>\n",
       "      <th>nan</th>\n",
       "      <td>0.0</td>\n",
       "      <td>0.0</td>\n",
       "      <td>NaN</td>\n",
       "      <td>0.0000</td>\n",
       "      <td>0.0000</td>\n",
       "      <td>NaN</td>\n",
       "      <td>-3.7339</td>\n",
       "      <td>0.0000</td>\n",
       "    </tr>\n",
       "  </tbody>\n",
       "</table>\n",
       "</div>"
      ],
      "text/plain": [
       "                           CNT_TOTAL  CNT_DEF  DEF_RATE  DIST_BAD  DIST_GOOD  \\\n",
       "BIN_RESIDENCE_ADDRESS_CNT                                                      \n",
       "[-inf, 0.5)                  59916.0   1450.0    0.0242    0.1056     0.1017   \n",
       "[0.5, 1.5)                  393279.0   8768.0    0.0223    0.6383     0.6690   \n",
       "[1.5, inf)                  135307.0   3518.0    0.0260    0.2561     0.2293   \n",
       "nan                              0.0      0.0       NaN    0.0000     0.0000   \n",
       "\n",
       "                              WOE  WOE_check   SHARE  \n",
       "BIN_RESIDENCE_ADDRESS_CNT                             \n",
       "[-inf, 0.5)               -0.0356    -0.0371  0.1018  \n",
       "[0.5, 1.5)                 0.0450     0.0469  0.6683  \n",
       "[1.5, inf)                -0.1064    -0.1106  0.2299  \n",
       "nan                           NaN    -3.7339  0.0000  "
      ]
     },
     "metadata": {},
     "output_type": "display_data"
    },
    {
     "name": "stdout",
     "output_type": "stream",
     "text": [
      "IV: 0.0045\n",
      "Gini: 3.25\n"
     ]
    },
    {
     "data": {
      "image/png": "[encoded data removed]",
      "text/plain": [
       "<Figure size 720x360 with 2 Axes>"
      ]
     },
     "metadata": {
      "needs_background": "light"
     },
     "output_type": "display_data"
    },
    {
     "data": {
      "text/markdown": [
       "***"
      ],
      "text/plain": [
       "<IPython.core.display.Markdown object>"
      ]
     },
     "metadata": {},
     "output_type": "display_data"
    },
    {
     "data": {
      "text/markdown": [
       "### RESIDENCE_ADDRESS_PCT"
      ],
      "text/plain": [
       "<IPython.core.display.Markdown object>"
      ]
     },
     "metadata": {},
     "output_type": "display_data"
    },
    {
     "data": {
      "text/html": [
       "<div>\n",
       "<style scoped>\n",
       "    .dataframe tbody tr th:only-of-type {\n",
       "        vertical-align: middle;\n",
       "    }\n",
       "\n",
       "    .dataframe tbody tr th {\n",
       "        vertical-align: top;\n",
       "    }\n",
       "\n",
       "    .dataframe thead th {\n",
       "        text-align: right;\n",
       "    }\n",
       "</style>\n",
       "<table border=\"1\" class=\"dataframe\">\n",
       "  <thead>\n",
       "    <tr style=\"text-align: right;\">\n",
       "      <th></th>\n",
       "      <th>CNT_TOTAL</th>\n",
       "      <th>CNT_DEF</th>\n",
       "      <th>DEF_RATE</th>\n",
       "      <th>DIST_BAD</th>\n",
       "      <th>DIST_GOOD</th>\n",
       "      <th>WOE</th>\n",
       "      <th>WOE_check</th>\n",
       "      <th>SHARE</th>\n",
       "    </tr>\n",
       "    <tr>\n",
       "      <th>BIN_RESIDENCE_ADDRESS_PCT</th>\n",
       "      <th></th>\n",
       "      <th></th>\n",
       "      <th></th>\n",
       "      <th></th>\n",
       "      <th></th>\n",
       "      <th></th>\n",
       "      <th></th>\n",
       "      <th></th>\n",
       "    </tr>\n",
       "  </thead>\n",
       "  <tbody>\n",
       "    <tr>\n",
       "      <th>[-inf, 0.125)</th>\n",
       "      <td>59916.0</td>\n",
       "      <td>1450.0</td>\n",
       "      <td>0.0242</td>\n",
       "      <td>0.1056</td>\n",
       "      <td>0.1017</td>\n",
       "      <td>-0.0356</td>\n",
       "      <td>-0.0371</td>\n",
       "      <td>0.1018</td>\n",
       "    </tr>\n",
       "    <tr>\n",
       "      <th>[0.125, 0.4166)</th>\n",
       "      <td>127114.0</td>\n",
       "      <td>3417.0</td>\n",
       "      <td>0.0269</td>\n",
       "      <td>0.2488</td>\n",
       "      <td>0.2152</td>\n",
       "      <td>-0.1394</td>\n",
       "      <td>-0.1449</td>\n",
       "      <td>0.2160</td>\n",
       "    </tr>\n",
       "    <tr>\n",
       "      <th>[0.4166, inf)</th>\n",
       "      <td>401472.0</td>\n",
       "      <td>8869.0</td>\n",
       "      <td>0.0221</td>\n",
       "      <td>0.6457</td>\n",
       "      <td>0.6831</td>\n",
       "      <td>0.0540</td>\n",
       "      <td>0.0563</td>\n",
       "      <td>0.6822</td>\n",
       "    </tr>\n",
       "    <tr>\n",
       "      <th>nan</th>\n",
       "      <td>0.0</td>\n",
       "      <td>0.0</td>\n",
       "      <td>NaN</td>\n",
       "      <td>0.0000</td>\n",
       "      <td>0.0000</td>\n",
       "      <td>NaN</td>\n",
       "      <td>-3.7339</td>\n",
       "      <td>0.0000</td>\n",
       "    </tr>\n",
       "  </tbody>\n",
       "</table>\n",
       "</div>"
      ],
      "text/plain": [
       "                           CNT_TOTAL  CNT_DEF  DEF_RATE  DIST_BAD  DIST_GOOD  \\\n",
       "BIN_RESIDENCE_ADDRESS_PCT                                                      \n",
       "[-inf, 0.125)                59916.0   1450.0    0.0242    0.1056     0.1017   \n",
       "[0.125, 0.4166)             127114.0   3417.0    0.0269    0.2488     0.2152   \n",
       "[0.4166, inf)               401472.0   8869.0    0.0221    0.6457     0.6831   \n",
       "nan                              0.0      0.0       NaN    0.0000     0.0000   \n",
       "\n",
       "                              WOE  WOE_check   SHARE  \n",
       "BIN_RESIDENCE_ADDRESS_PCT                             \n",
       "[-inf, 0.125)             -0.0356    -0.0371  0.1018  \n",
       "[0.125, 0.4166)           -0.1394    -0.1449  0.2160  \n",
       "[0.4166, inf)              0.0540     0.0563  0.6822  \n",
       "nan                           NaN    -3.7339  0.0000  "
      ]
     },
     "metadata": {},
     "output_type": "display_data"
    },
    {
     "name": "stdout",
     "output_type": "stream",
     "text": [
      "IV: 0.0071\n",
      "Gini: 4.00\n"
     ]
    },
    {
     "data": {
      "image/png": "[encoded data removed]",
      "text/plain": [
       "<Figure size 720x360 with 2 Axes>"
      ]
     },
     "metadata": {
      "needs_background": "light"
     },
     "output_type": "display_data"
    },
    {
     "data": {
      "text/markdown": [
       "***"
      ],
      "text/plain": [
       "<IPython.core.display.Markdown object>"
      ]
     },
     "metadata": {},
     "output_type": "display_data"
    },
    {
     "data": {
      "text/markdown": [
       "### RESIDENCE_ZIPCODE_ADDRESS_RAT"
      ],
      "text/plain": [
       "<IPython.core.display.Markdown object>"
      ]
     },
     "metadata": {},
     "output_type": "display_data"
    },
    {
     "data": {
      "text/html": [
       "<div>\n",
       "<style scoped>\n",
       "    .dataframe tbody tr th:only-of-type {\n",
       "        vertical-align: middle;\n",
       "    }\n",
       "\n",
       "    .dataframe tbody tr th {\n",
       "        vertical-align: top;\n",
       "    }\n",
       "\n",
       "    .dataframe thead th {\n",
       "        text-align: right;\n",
       "    }\n",
       "</style>\n",
       "<table border=\"1\" class=\"dataframe\">\n",
       "  <thead>\n",
       "    <tr style=\"text-align: right;\">\n",
       "      <th></th>\n",
       "      <th>CNT_TOTAL</th>\n",
       "      <th>CNT_DEF</th>\n",
       "      <th>DEF_RATE</th>\n",
       "      <th>DIST_BAD</th>\n",
       "      <th>DIST_GOOD</th>\n",
       "      <th>WOE</th>\n",
       "      <th>WOE_check</th>\n",
       "      <th>SHARE</th>\n",
       "    </tr>\n",
       "    <tr>\n",
       "      <th>BIN_RESIDENCE_ZIPCODE_ADDRESS_RAT</th>\n",
       "      <th></th>\n",
       "      <th></th>\n",
       "      <th></th>\n",
       "      <th></th>\n",
       "      <th></th>\n",
       "      <th></th>\n",
       "      <th></th>\n",
       "      <th></th>\n",
       "    </tr>\n",
       "  </thead>\n",
       "  <tbody>\n",
       "    <tr>\n",
       "      <th>[-inf, 0.875)</th>\n",
       "      <td>93212.0</td>\n",
       "      <td>2425.0</td>\n",
       "      <td>0.0260</td>\n",
       "      <td>0.1765</td>\n",
       "      <td>0.1580</td>\n",
       "      <td>-0.1070</td>\n",
       "      <td>-0.1113</td>\n",
       "      <td>0.1584</td>\n",
       "    </tr>\n",
       "    <tr>\n",
       "      <th>[0.875, inf)</th>\n",
       "      <td>435374.0</td>\n",
       "      <td>9861.0</td>\n",
       "      <td>0.0226</td>\n",
       "      <td>0.7179</td>\n",
       "      <td>0.7403</td>\n",
       "      <td>0.0295</td>\n",
       "      <td>0.0308</td>\n",
       "      <td>0.7398</td>\n",
       "    </tr>\n",
       "    <tr>\n",
       "      <th>nan</th>\n",
       "      <td>59916.0</td>\n",
       "      <td>1450.0</td>\n",
       "      <td>0.0242</td>\n",
       "      <td>0.1056</td>\n",
       "      <td>0.1017</td>\n",
       "      <td>-0.0356</td>\n",
       "      <td>-0.0371</td>\n",
       "      <td>0.1018</td>\n",
       "    </tr>\n",
       "  </tbody>\n",
       "</table>\n",
       "</div>"
      ],
      "text/plain": [
       "                                   CNT_TOTAL  CNT_DEF  DEF_RATE  DIST_BAD  \\\n",
       "BIN_RESIDENCE_ZIPCODE_ADDRESS_RAT                                           \n",
       "[-inf, 0.875)                        93212.0   2425.0    0.0260    0.1765   \n",
       "[0.875, inf)                        435374.0   9861.0    0.0226    0.7179   \n",
       "nan                                  59916.0   1450.0    0.0242    0.1056   \n",
       "\n",
       "                                   DIST_GOOD     WOE  WOE_check   SHARE  \n",
       "BIN_RESIDENCE_ZIPCODE_ADDRESS_RAT                                        \n",
       "[-inf, 0.875)                         0.1580 -0.1070    -0.1113  0.1584  \n",
       "[0.875, inf)                          0.7403  0.0295     0.0308  0.7398  \n",
       "nan                                   0.1017 -0.0356    -0.0371  0.1018  "
      ]
     },
     "metadata": {},
     "output_type": "display_data"
    },
    {
     "name": "stdout",
     "output_type": "stream",
     "text": [
      "IV: 0.0029\n",
      "Gini: 2.37\n"
     ]
    },
    {
     "data": {
      "image/png": "[encoded data removed]",
      "text/plain": [
       "<Figure size 720x360 with 2 Axes>"
      ]
     },
     "metadata": {
      "needs_background": "light"
     },
     "output_type": "display_data"
    },
    {
     "data": {
      "text/markdown": [
       "***"
      ],
      "text/plain": [
       "<IPython.core.display.Markdown object>"
      ]
     },
     "metadata": {},
     "output_type": "display_data"
    },
    {
     "data": {
      "text/markdown": [
       "### RESIDENCE_ZIPCODE_CNT"
      ],
      "text/plain": [
       "<IPython.core.display.Markdown object>"
      ]
     },
     "metadata": {},
     "output_type": "display_data"
    },
    {
     "data": {
      "text/html": [
       "<div>\n",
       "<style scoped>\n",
       "    .dataframe tbody tr th:only-of-type {\n",
       "        vertical-align: middle;\n",
       "    }\n",
       "\n",
       "    .dataframe tbody tr th {\n",
       "        vertical-align: top;\n",
       "    }\n",
       "\n",
       "    .dataframe thead th {\n",
       "        text-align: right;\n",
       "    }\n",
       "</style>\n",
       "<table border=\"1\" class=\"dataframe\">\n",
       "  <thead>\n",
       "    <tr style=\"text-align: right;\">\n",
       "      <th></th>\n",
       "      <th>CNT_TOTAL</th>\n",
       "      <th>CNT_DEF</th>\n",
       "      <th>DEF_RATE</th>\n",
       "      <th>DIST_BAD</th>\n",
       "      <th>DIST_GOOD</th>\n",
       "      <th>WOE</th>\n",
       "      <th>WOE_check</th>\n",
       "      <th>SHARE</th>\n",
       "    </tr>\n",
       "    <tr>\n",
       "      <th>BIN_RESIDENCE_ZIPCODE_CNT</th>\n",
       "      <th></th>\n",
       "      <th></th>\n",
       "      <th></th>\n",
       "      <th></th>\n",
       "      <th></th>\n",
       "      <th></th>\n",
       "      <th></th>\n",
       "      <th></th>\n",
       "    </tr>\n",
       "  </thead>\n",
       "  <tbody>\n",
       "    <tr>\n",
       "      <th>[-inf, 0.5)</th>\n",
       "      <td>59918.0</td>\n",
       "      <td>1451.0</td>\n",
       "      <td>0.0242</td>\n",
       "      <td>0.1056</td>\n",
       "      <td>0.1017</td>\n",
       "      <td>-0.0362</td>\n",
       "      <td>-0.0377</td>\n",
       "      <td>0.1018</td>\n",
       "    </tr>\n",
       "    <tr>\n",
       "      <th>[0.5, 1.5)</th>\n",
       "      <td>478620.0</td>\n",
       "      <td>10971.0</td>\n",
       "      <td>0.0229</td>\n",
       "      <td>0.7987</td>\n",
       "      <td>0.8136</td>\n",
       "      <td>0.0178</td>\n",
       "      <td>0.0185</td>\n",
       "      <td>0.8133</td>\n",
       "    </tr>\n",
       "    <tr>\n",
       "      <th>[1.5, inf)</th>\n",
       "      <td>49964.0</td>\n",
       "      <td>1314.0</td>\n",
       "      <td>0.0263</td>\n",
       "      <td>0.0957</td>\n",
       "      <td>0.0846</td>\n",
       "      <td>-0.1177</td>\n",
       "      <td>-0.1224</td>\n",
       "      <td>0.0849</td>\n",
       "    </tr>\n",
       "    <tr>\n",
       "      <th>nan</th>\n",
       "      <td>0.0</td>\n",
       "      <td>0.0</td>\n",
       "      <td>NaN</td>\n",
       "      <td>0.0000</td>\n",
       "      <td>0.0000</td>\n",
       "      <td>NaN</td>\n",
       "      <td>-3.7339</td>\n",
       "      <td>0.0000</td>\n",
       "    </tr>\n",
       "  </tbody>\n",
       "</table>\n",
       "</div>"
      ],
      "text/plain": [
       "                           CNT_TOTAL  CNT_DEF  DEF_RATE  DIST_BAD  DIST_GOOD  \\\n",
       "BIN_RESIDENCE_ZIPCODE_CNT                                                      \n",
       "[-inf, 0.5)                  59918.0   1451.0    0.0242    0.1056     0.1017   \n",
       "[0.5, 1.5)                  478620.0  10971.0    0.0229    0.7987     0.8136   \n",
       "[1.5, inf)                   49964.0   1314.0    0.0263    0.0957     0.0846   \n",
       "nan                              0.0      0.0       NaN    0.0000     0.0000   \n",
       "\n",
       "                              WOE  WOE_check   SHARE  \n",
       "BIN_RESIDENCE_ZIPCODE_CNT                             \n",
       "[-inf, 0.5)               -0.0362    -0.0377  0.1018  \n",
       "[0.5, 1.5)                 0.0178     0.0185  0.8133  \n",
       "[1.5, inf)                -0.1177    -0.1224  0.0849  \n",
       "nan                           NaN    -3.7339  0.0000  "
      ]
     },
     "metadata": {},
     "output_type": "display_data"
    },
    {
     "name": "stdout",
     "output_type": "stream",
     "text": [
      "IV: 0.0018\n",
      "Gini: 1.57\n"
     ]
    },
    {
     "data": {
      "image/png": "[encoded data removed]",
      "text/plain": [
       "<Figure size 720x360 with 2 Axes>"
      ]
     },
     "metadata": {
      "needs_background": "light"
     },
     "output_type": "display_data"
    },
    {
     "data": {
      "text/markdown": [
       "***"
      ],
      "text/plain": [
       "<IPython.core.display.Markdown object>"
      ]
     },
     "metadata": {},
     "output_type": "display_data"
    },
    {
     "data": {
      "text/markdown": [
       "### RESIDENT_OFFICE_COMB_RAT"
      ],
      "text/plain": [
       "<IPython.core.display.Markdown object>"
      ]
     },
     "metadata": {},
     "output_type": "display_data"
    },
    {
     "data": {
      "text/html": [
       "<div>\n",
       "<style scoped>\n",
       "    .dataframe tbody tr th:only-of-type {\n",
       "        vertical-align: middle;\n",
       "    }\n",
       "\n",
       "    .dataframe tbody tr th {\n",
       "        vertical-align: top;\n",
       "    }\n",
       "\n",
       "    .dataframe thead th {\n",
       "        text-align: right;\n",
       "    }\n",
       "</style>\n",
       "<table border=\"1\" class=\"dataframe\">\n",
       "  <thead>\n",
       "    <tr style=\"text-align: right;\">\n",
       "      <th></th>\n",
       "      <th>CNT_TOTAL</th>\n",
       "      <th>CNT_DEF</th>\n",
       "      <th>DEF_RATE</th>\n",
       "      <th>DIST_BAD</th>\n",
       "      <th>DIST_GOOD</th>\n",
       "      <th>WOE</th>\n",
       "      <th>WOE_check</th>\n",
       "      <th>SHARE</th>\n",
       "    </tr>\n",
       "    <tr>\n",
       "      <th>BIN_RESIDENT_OFFICE_COMB_RAT</th>\n",
       "      <th></th>\n",
       "      <th></th>\n",
       "      <th></th>\n",
       "      <th></th>\n",
       "      <th></th>\n",
       "      <th></th>\n",
       "      <th></th>\n",
       "      <th></th>\n",
       "    </tr>\n",
       "  </thead>\n",
       "  <tbody>\n",
       "    <tr>\n",
       "      <th>[-inf, 0.5834)</th>\n",
       "      <td>142896.0</td>\n",
       "      <td>3243.0</td>\n",
       "      <td>0.0227</td>\n",
       "      <td>0.2361</td>\n",
       "      <td>0.2430</td>\n",
       "      <td>0.0276</td>\n",
       "      <td>0.0287</td>\n",
       "      <td>0.2428</td>\n",
       "    </tr>\n",
       "    <tr>\n",
       "      <th>[0.5834, 0.7084)</th>\n",
       "      <td>34297.0</td>\n",
       "      <td>931.0</td>\n",
       "      <td>0.0271</td>\n",
       "      <td>0.0678</td>\n",
       "      <td>0.0581</td>\n",
       "      <td>-0.1491</td>\n",
       "      <td>-0.1549</td>\n",
       "      <td>0.0583</td>\n",
       "    </tr>\n",
       "    <tr>\n",
       "      <th>[0.7084, inf)</th>\n",
       "      <td>393053.0</td>\n",
       "      <td>9139.0</td>\n",
       "      <td>0.0233</td>\n",
       "      <td>0.6653</td>\n",
       "      <td>0.6679</td>\n",
       "      <td>0.0038</td>\n",
       "      <td>0.0039</td>\n",
       "      <td>0.6679</td>\n",
       "    </tr>\n",
       "    <tr>\n",
       "      <th>nan</th>\n",
       "      <td>18256.0</td>\n",
       "      <td>423.0</td>\n",
       "      <td>0.0232</td>\n",
       "      <td>0.0308</td>\n",
       "      <td>0.0310</td>\n",
       "      <td>0.0072</td>\n",
       "      <td>0.0075</td>\n",
       "      <td>0.0310</td>\n",
       "    </tr>\n",
       "  </tbody>\n",
       "</table>\n",
       "</div>"
      ],
      "text/plain": [
       "                              CNT_TOTAL  CNT_DEF  DEF_RATE  DIST_BAD  \\\n",
       "BIN_RESIDENT_OFFICE_COMB_RAT                                           \n",
       "[-inf, 0.5834)                 142896.0   3243.0    0.0227    0.2361   \n",
       "[0.5834, 0.7084)                34297.0    931.0    0.0271    0.0678   \n",
       "[0.7084, inf)                  393053.0   9139.0    0.0233    0.6653   \n",
       "nan                             18256.0    423.0    0.0232    0.0308   \n",
       "\n",
       "                              DIST_GOOD     WOE  WOE_check   SHARE  \n",
       "BIN_RESIDENT_OFFICE_COMB_RAT                                        \n",
       "[-inf, 0.5834)                   0.2430  0.0276     0.0287  0.2428  \n",
       "[0.5834, 0.7084)                 0.0581 -0.1491    -0.1549  0.0583  \n",
       "[0.7084, inf)                    0.6679  0.0038     0.0039  0.6679  \n",
       "nan                              0.0310  0.0072     0.0075  0.0310  "
      ]
     },
     "metadata": {},
     "output_type": "display_data"
    },
    {
     "name": "stdout",
     "output_type": "stream",
     "text": [
      "IV: 0.0017\n",
      "Gini: 1.39\n"
     ]
    },
    {
     "data": {
      "image/png": "[encoded data removed]",
      "text/plain": [
       "<Figure size 720x360 with 2 Axes>"
      ]
     },
     "metadata": {
      "needs_background": "light"
     },
     "output_type": "display_data"
    },
    {
     "data": {
      "text/markdown": [
       "***"
      ],
      "text/plain": [
       "<IPython.core.display.Markdown object>"
      ]
     },
     "metadata": {},
     "output_type": "display_data"
    },
    {
     "data": {
      "text/markdown": [
       "### RISK_SCORE"
      ],
      "text/plain": [
       "<IPython.core.display.Markdown object>"
      ]
     },
     "metadata": {},
     "output_type": "display_data"
    },
    {
     "data": {
      "text/html": [
       "<div>\n",
       "<style scoped>\n",
       "    .dataframe tbody tr th:only-of-type {\n",
       "        vertical-align: middle;\n",
       "    }\n",
       "\n",
       "    .dataframe tbody tr th {\n",
       "        vertical-align: top;\n",
       "    }\n",
       "\n",
       "    .dataframe thead th {\n",
       "        text-align: right;\n",
       "    }\n",
       "</style>\n",
       "<table border=\"1\" class=\"dataframe\">\n",
       "  <thead>\n",
       "    <tr style=\"text-align: right;\">\n",
       "      <th></th>\n",
       "      <th>CNT_TOTAL</th>\n",
       "      <th>CNT_DEF</th>\n",
       "      <th>DEF_RATE</th>\n",
       "      <th>DIST_BAD</th>\n",
       "      <th>DIST_GOOD</th>\n",
       "      <th>WOE</th>\n",
       "      <th>WOE_check</th>\n",
       "      <th>SHARE</th>\n",
       "    </tr>\n",
       "    <tr>\n",
       "      <th>BIN_RISK_SCORE</th>\n",
       "      <th></th>\n",
       "      <th></th>\n",
       "      <th></th>\n",
       "      <th></th>\n",
       "      <th></th>\n",
       "      <th></th>\n",
       "      <th></th>\n",
       "      <th></th>\n",
       "    </tr>\n",
       "  </thead>\n",
       "  <tbody>\n",
       "    <tr>\n",
       "      <th>[-inf, 0.02923)</th>\n",
       "      <td>429301.0</td>\n",
       "      <td>6268.0</td>\n",
       "      <td>0.0146</td>\n",
       "      <td>0.4563</td>\n",
       "      <td>0.7360</td>\n",
       "      <td>0.4537</td>\n",
       "      <td>0.4780</td>\n",
       "      <td>0.7295</td>\n",
       "    </tr>\n",
       "    <tr>\n",
       "      <th>[0.02923, 0.05528)</th>\n",
       "      <td>119544.0</td>\n",
       "      <td>4730.0</td>\n",
       "      <td>0.0396</td>\n",
       "      <td>0.3444</td>\n",
       "      <td>0.1998</td>\n",
       "      <td>-0.5275</td>\n",
       "      <td>-0.5446</td>\n",
       "      <td>0.2031</td>\n",
       "    </tr>\n",
       "    <tr>\n",
       "      <th>[0.05528, inf)</th>\n",
       "      <td>39657.0</td>\n",
       "      <td>2738.0</td>\n",
       "      <td>0.0690</td>\n",
       "      <td>0.1993</td>\n",
       "      <td>0.0642</td>\n",
       "      <td>-1.1048</td>\n",
       "      <td>-1.1324</td>\n",
       "      <td>0.0674</td>\n",
       "    </tr>\n",
       "    <tr>\n",
       "      <th>nan</th>\n",
       "      <td>0.0</td>\n",
       "      <td>0.0</td>\n",
       "      <td>NaN</td>\n",
       "      <td>0.0000</td>\n",
       "      <td>0.0000</td>\n",
       "      <td>NaN</td>\n",
       "      <td>-3.7339</td>\n",
       "      <td>0.0000</td>\n",
       "    </tr>\n",
       "  </tbody>\n",
       "</table>\n",
       "</div>"
      ],
      "text/plain": [
       "                    CNT_TOTAL  CNT_DEF  DEF_RATE  DIST_BAD  DIST_GOOD     WOE  \\\n",
       "BIN_RISK_SCORE                                                                  \n",
       "[-inf, 0.02923)      429301.0   6268.0    0.0146    0.4563     0.7360  0.4537   \n",
       "[0.02923, 0.05528)   119544.0   4730.0    0.0396    0.3444     0.1998 -0.5275   \n",
       "[0.05528, inf)        39657.0   2738.0    0.0690    0.1993     0.0642 -1.1048   \n",
       "nan                       0.0      0.0       NaN    0.0000     0.0000     NaN   \n",
       "\n",
       "                    WOE_check   SHARE  \n",
       "BIN_RISK_SCORE                         \n",
       "[-inf, 0.02923)        0.4780  0.7295  \n",
       "[0.02923, 0.05528)    -0.5446  0.2031  \n",
       "[0.05528, inf)        -1.1324  0.0674  \n",
       "nan                   -3.7339  0.0000  "
      ]
     },
     "metadata": {},
     "output_type": "display_data"
    },
    {
     "name": "stdout",
     "output_type": "stream",
     "text": [
      "IV: 0.3654\n",
      "Gini: 29.74\n"
     ]
    },
    {
     "data": {
      "image/png": "[encoded data removed]",
      "text/plain": [
       "<Figure size 720x360 with 2 Axes>"
      ]
     },
     "metadata": {
      "needs_background": "light"
     },
     "output_type": "display_data"
    },
    {
     "data": {
      "text/markdown": [
       "***"
      ],
      "text/plain": [
       "<IPython.core.display.Markdown object>"
      ]
     },
     "metadata": {},
     "output_type": "display_data"
    },
    {
     "data": {
      "text/markdown": [
       "### ZIPCODE_ADDRESS_RAT"
      ],
      "text/plain": [
       "<IPython.core.display.Markdown object>"
      ]
     },
     "metadata": {},
     "output_type": "display_data"
    },
    {
     "data": {
      "text/html": [
       "<div>\n",
       "<style scoped>\n",
       "    .dataframe tbody tr th:only-of-type {\n",
       "        vertical-align: middle;\n",
       "    }\n",
       "\n",
       "    .dataframe tbody tr th {\n",
       "        vertical-align: top;\n",
       "    }\n",
       "\n",
       "    .dataframe thead th {\n",
       "        text-align: right;\n",
       "    }\n",
       "</style>\n",
       "<table border=\"1\" class=\"dataframe\">\n",
       "  <thead>\n",
       "    <tr style=\"text-align: right;\">\n",
       "      <th></th>\n",
       "      <th>CNT_TOTAL</th>\n",
       "      <th>CNT_DEF</th>\n",
       "      <th>DEF_RATE</th>\n",
       "      <th>DIST_BAD</th>\n",
       "      <th>DIST_GOOD</th>\n",
       "      <th>WOE</th>\n",
       "      <th>WOE_check</th>\n",
       "      <th>SHARE</th>\n",
       "    </tr>\n",
       "    <tr>\n",
       "      <th>BIN_ZIPCODE_ADDRESS_RAT</th>\n",
       "      <th></th>\n",
       "      <th></th>\n",
       "      <th></th>\n",
       "      <th></th>\n",
       "      <th></th>\n",
       "      <th></th>\n",
       "      <th></th>\n",
       "      <th></th>\n",
       "    </tr>\n",
       "  </thead>\n",
       "  <tbody>\n",
       "    <tr>\n",
       "      <th>[-inf, 0.2916)</th>\n",
       "      <td>30720.0</td>\n",
       "      <td>975.0</td>\n",
       "      <td>0.0317</td>\n",
       "      <td>0.0710</td>\n",
       "      <td>0.0518</td>\n",
       "      <td>-0.305</td>\n",
       "      <td>-0.3160</td>\n",
       "      <td>0.0522</td>\n",
       "    </tr>\n",
       "    <tr>\n",
       "      <th>[0.2916, 0.875)</th>\n",
       "      <td>319540.0</td>\n",
       "      <td>7791.0</td>\n",
       "      <td>0.0244</td>\n",
       "      <td>0.5672</td>\n",
       "      <td>0.5424</td>\n",
       "      <td>-0.043</td>\n",
       "      <td>-0.0447</td>\n",
       "      <td>0.5430</td>\n",
       "    </tr>\n",
       "    <tr>\n",
       "      <th>[0.875, inf)</th>\n",
       "      <td>238242.0</td>\n",
       "      <td>4970.0</td>\n",
       "      <td>0.0209</td>\n",
       "      <td>0.3618</td>\n",
       "      <td>0.4059</td>\n",
       "      <td>0.110</td>\n",
       "      <td>0.1148</td>\n",
       "      <td>0.4048</td>\n",
       "    </tr>\n",
       "    <tr>\n",
       "      <th>nan</th>\n",
       "      <td>0.0</td>\n",
       "      <td>0.0</td>\n",
       "      <td>NaN</td>\n",
       "      <td>0.0000</td>\n",
       "      <td>0.0000</td>\n",
       "      <td>NaN</td>\n",
       "      <td>-3.7339</td>\n",
       "      <td>0.0000</td>\n",
       "    </tr>\n",
       "  </tbody>\n",
       "</table>\n",
       "</div>"
      ],
      "text/plain": [
       "                         CNT_TOTAL  CNT_DEF  DEF_RATE  DIST_BAD  DIST_GOOD  \\\n",
       "BIN_ZIPCODE_ADDRESS_RAT                                                      \n",
       "[-inf, 0.2916)             30720.0    975.0    0.0317    0.0710     0.0518   \n",
       "[0.2916, 0.875)           319540.0   7791.0    0.0244    0.5672     0.5424   \n",
       "[0.875, inf)              238242.0   4970.0    0.0209    0.3618     0.4059   \n",
       "nan                            0.0      0.0       NaN    0.0000     0.0000   \n",
       "\n",
       "                           WOE  WOE_check   SHARE  \n",
       "BIN_ZIPCODE_ADDRESS_RAT                            \n",
       "[-inf, 0.2916)          -0.305    -0.3160  0.0522  \n",
       "[0.2916, 0.875)         -0.043    -0.0447  0.5430  \n",
       "[0.875, inf)             0.110     0.1148  0.4048  \n",
       "nan                        NaN    -3.7339  0.0000  "
      ]
     },
     "metadata": {},
     "output_type": "display_data"
    },
    {
     "name": "stdout",
     "output_type": "stream",
     "text": [
      "IV: 0.0122\n",
      "Gini: 5.32\n"
     ]
    },
    {
     "data": {
      "image/png": "[encoded data removed]",
      "text/plain": [
       "<Figure size 720x360 with 2 Axes>"
      ]
     },
     "metadata": {
      "needs_background": "light"
     },
     "output_type": "display_data"
    },
    {
     "data": {
      "text/markdown": [
       "***"
      ],
      "text/plain": [
       "<IPython.core.display.Markdown object>"
      ]
     },
     "metadata": {},
     "output_type": "display_data"
    },
    {
     "data": {
      "text/markdown": [
       "### ZIPCODE_CNT"
      ],
      "text/plain": [
       "<IPython.core.display.Markdown object>"
      ]
     },
     "metadata": {},
     "output_type": "display_data"
    },
    {
     "data": {
      "text/html": [
       "<div>\n",
       "<style scoped>\n",
       "    .dataframe tbody tr th:only-of-type {\n",
       "        vertical-align: middle;\n",
       "    }\n",
       "\n",
       "    .dataframe tbody tr th {\n",
       "        vertical-align: top;\n",
       "    }\n",
       "\n",
       "    .dataframe thead th {\n",
       "        text-align: right;\n",
       "    }\n",
       "</style>\n",
       "<table border=\"1\" class=\"dataframe\">\n",
       "  <thead>\n",
       "    <tr style=\"text-align: right;\">\n",
       "      <th></th>\n",
       "      <th>CNT_TOTAL</th>\n",
       "      <th>CNT_DEF</th>\n",
       "      <th>DEF_RATE</th>\n",
       "      <th>DIST_BAD</th>\n",
       "      <th>DIST_GOOD</th>\n",
       "      <th>WOE</th>\n",
       "      <th>WOE_check</th>\n",
       "      <th>SHARE</th>\n",
       "    </tr>\n",
       "    <tr>\n",
       "      <th>BIN_ZIPCODE_CNT</th>\n",
       "      <th></th>\n",
       "      <th></th>\n",
       "      <th></th>\n",
       "      <th></th>\n",
       "      <th></th>\n",
       "      <th></th>\n",
       "      <th></th>\n",
       "      <th></th>\n",
       "    </tr>\n",
       "  </thead>\n",
       "  <tbody>\n",
       "    <tr>\n",
       "      <th>[-inf, 1.5)</th>\n",
       "      <td>300061.0</td>\n",
       "      <td>6778.0</td>\n",
       "      <td>0.0226</td>\n",
       "      <td>0.4934</td>\n",
       "      <td>0.5103</td>\n",
       "      <td>0.0321</td>\n",
       "      <td>0.0335</td>\n",
       "      <td>0.5099</td>\n",
       "    </tr>\n",
       "    <tr>\n",
       "      <th>[1.5, 2.5)</th>\n",
       "      <td>213821.0</td>\n",
       "      <td>5010.0</td>\n",
       "      <td>0.0234</td>\n",
       "      <td>0.3647</td>\n",
       "      <td>0.3633</td>\n",
       "      <td>-0.0038</td>\n",
       "      <td>-0.0039</td>\n",
       "      <td>0.3633</td>\n",
       "    </tr>\n",
       "    <tr>\n",
       "      <th>[2.5, inf)</th>\n",
       "      <td>74620.0</td>\n",
       "      <td>1948.0</td>\n",
       "      <td>0.0261</td>\n",
       "      <td>0.1418</td>\n",
       "      <td>0.1264</td>\n",
       "      <td>-0.1104</td>\n",
       "      <td>-0.1148</td>\n",
       "      <td>0.1268</td>\n",
       "    </tr>\n",
       "    <tr>\n",
       "      <th>nan</th>\n",
       "      <td>0.0</td>\n",
       "      <td>0.0</td>\n",
       "      <td>NaN</td>\n",
       "      <td>0.0000</td>\n",
       "      <td>0.0000</td>\n",
       "      <td>NaN</td>\n",
       "      <td>-3.7339</td>\n",
       "      <td>0.0000</td>\n",
       "    </tr>\n",
       "  </tbody>\n",
       "</table>\n",
       "</div>"
      ],
      "text/plain": [
       "                 CNT_TOTAL  CNT_DEF  DEF_RATE  DIST_BAD  DIST_GOOD     WOE  \\\n",
       "BIN_ZIPCODE_CNT                                                              \n",
       "[-inf, 1.5)       300061.0   6778.0    0.0226    0.4934     0.5103  0.0321   \n",
       "[1.5, 2.5)        213821.0   5010.0    0.0234    0.3647     0.3633 -0.0038   \n",
       "[2.5, inf)         74620.0   1948.0    0.0261    0.1418     0.1264 -0.1104   \n",
       "nan                    0.0      0.0       NaN    0.0000     0.0000     NaN   \n",
       "\n",
       "                 WOE_check   SHARE  \n",
       "BIN_ZIPCODE_CNT                     \n",
       "[-inf, 1.5)         0.0335  0.5099  \n",
       "[1.5, 2.5)         -0.0039  0.3633  \n",
       "[2.5, inf)         -0.1148  0.1268  \n",
       "nan                -3.7339  0.0000  "
      ]
     },
     "metadata": {},
     "output_type": "display_data"
    },
    {
     "name": "stdout",
     "output_type": "stream",
     "text": [
      "IV: 0.0023\n",
      "Gini: 2.22\n"
     ]
    },
    {
     "data": {
      "image/png": "[encoded data removed]",
      "text/plain": [
       "<Figure size 720x360 with 2 Axes>"
      ]
     },
     "metadata": {
      "needs_background": "light"
     },
     "output_type": "display_data"
    }
   ],
   "source": [
    "grouping.plot_bins(data=df_train, cols_pred_num=cols_pred_num, cols_pred_cat=cols_pred_cat,\n",
    "                    mask = pd.Series(df_train[\"RISK_FSTQPD60\"]>=0),col_target=\"RISK_FSTQPD60\", \n",
    "                   output_folder=r\"C:\\Users\\aman.khatri91425\\Desktop\\HomeCredit\\Bigdata\\Common Maps KNN\", col_weight=None)"
   ]
  },
  {
   "cell_type": "code",
   "execution_count": null,
   "metadata": {},
   "outputs": [],
   "source": []
  },
  {
   "cell_type": "code",
   "execution_count": null,
   "metadata": {},
   "outputs": [],
   "source": []
  }
 ],
 "metadata": {
  "kernelspec": {
   "display_name": "Python 3",
   "language": "python",
   "name": "python3"
  },
  "language_info": {
   "codemirror_mode": {
    "name": "ipython",
    "version": 3
   },
   "file_extension": ".py",
   "mimetype": "text/x-python",
   "name": "python",
   "nbconvert_exporter": "python",
   "pygments_lexer": "ipython3",
   "version": "3.7.3"
  }
 },
 "nbformat": 4,
 "nbformat_minor": 2
}
