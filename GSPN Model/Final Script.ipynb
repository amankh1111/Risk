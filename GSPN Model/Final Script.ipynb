{
 "cells": [
  {
   "cell_type": "markdown",
   "metadata": {},
   "source": [
    "# Import Libraries"
   ]
  },
  {
   "cell_type": "code",
   "execution_count": 1,
   "metadata": {},
   "outputs": [],
   "source": [
    "import pandas as pd\n",
    "import numpy as np\n",
    "import pickle\n",
    "from datetime import datetime as dt\n",
    "from datetime import timedelta\n",
    "from sklearn.linear_model import LogisticRegression\n",
    "from sklearn.metrics import roc_auc_score\n",
    "from sklearn.model_selection import RandomizedSearchCV, train_test_split, StratifiedKFold, cross_val_score\n",
    "import os\n",
    "import cx_Oracle\n",
    "import time\n",
    "from scipy.stats import binom\n",
    "os.chdir(r\"C:\\Users\\aman.khatri91425\\Desktop\\HomeCredit\\UW\\GSPN - Summary\")"
   ]
  },
  {
   "cell_type": "markdown",
   "metadata": {},
   "source": [
    "# Read Data"
   ]
  },
  {
   "cell_type": "code",
   "execution_count": 2,
   "metadata": {},
   "outputs": [],
   "source": [
    "# conn = cx_Oracle.connect('HCIN_Jainr1[AP_UWI]','Saber@1989!1','INCL02.IN.PROD/HWIN_USR_DEV.HOMECREDIT.IN')\n",
    "# query = \"\"\"\n",
    "# SELECT\n",
    "# skp_credit_case,\n",
    "# TIME_CREATION_DATE, \n",
    "# c.skp_salesroom,\n",
    "# POS_GSPN_V2, \n",
    "# POS_TYPE,\n",
    "# client_exi_3m,\n",
    "# RISK_FSTQPD30,\n",
    "# RISK_AGRF120, \n",
    "# RISK_FSTPD30,\n",
    "# RISK_AGRF90,\n",
    "# RISK_FSPD30,\n",
    "# RISK_AGRF60, \n",
    "# RISK_FPD30,\n",
    "# RISK_AGRF30,\n",
    "# RISK_FPD10,\n",
    "# RISK_AGRF10,\n",
    "# TIME_DUE_DATE,\n",
    "# RISK_SPD30,\n",
    "# RISK_TPD30,\n",
    "# RISK_4PD30,\n",
    "# FLAG_1PCT_PHANTOM, RISK_FSTQPD60,RISK_AGRF180\n",
    "# FROM\n",
    "# AP_UWI.UW_DAILY_DATA_ALL c\n",
    "# where time_Creation_date>= DATE'2018-07-01'\n",
    "# and product_group = 'CD'\n",
    "# and decision_overall = 'Approved'\n",
    "# order by skp_credit_case asc\n",
    "# ;\n",
    "# \"\"\"\n",
    "\n",
    "# data = pd.read_sql(query, conn)\n",
    "# data.to_csv(os.getcwd()+\"\\Data Files\\combined.csv\", index = False)"
   ]
  },
  {
   "cell_type": "code",
   "execution_count": 3,
   "metadata": {},
   "outputs": [],
   "source": [
    "df= pd.read_csv(os.getcwd()+\"\\Data Files\\combined.csv\")"
   ]
  },
  {
   "cell_type": "code",
   "execution_count": 4,
   "metadata": {},
   "outputs": [],
   "source": [
    "df.to_csv(os.getcwd()+\"\\Data Files\\combined.csv\", index = False)"
   ]
  },
  {
   "cell_type": "markdown",
   "metadata": {},
   "source": [
    "# Define Key Variables"
   ]
  },
  {
   "cell_type": "code",
   "execution_count": 5,
   "metadata": {},
   "outputs": [],
   "source": [
    "TIME_CREATION_DATE = 'TIME_CREATION_DATE'\n",
    "OLD_GSPN_SCORE = 'POS_GSPN_V2'\n",
    "TARGET = 'RISK_FSTQPD60'\n",
    "PHANTOMAS_FLAG = 'FLAG_1PCT_PHANTOM'\n",
    "AGRF_FLAG = \"RISK_AGRF120\""
   ]
  },
  {
   "cell_type": "markdown",
   "metadata": {},
   "source": [
    "# Format Date Columns"
   ]
  },
  {
   "cell_type": "code",
   "execution_count": 6,
   "metadata": {},
   "outputs": [],
   "source": [
    "df.TIME_CREATION_DATE = pd.to_datetime(df[TIME_CREATION_DATE], format = '%Y-%m-%d')\n",
    "df[\"MONTH\"] = df[TIME_CREATION_DATE].dt.strftime(\"%Y-%m\")"
   ]
  },
  {
   "cell_type": "code",
   "execution_count": 7,
   "metadata": {},
   "outputs": [
    {
     "data": {
      "text/html": [
       "<div>\n",
       "<style scoped>\n",
       "    .dataframe tbody tr th:only-of-type {\n",
       "        vertical-align: middle;\n",
       "    }\n",
       "\n",
       "    .dataframe tbody tr th {\n",
       "        vertical-align: top;\n",
       "    }\n",
       "\n",
       "    .dataframe thead th {\n",
       "        text-align: right;\n",
       "    }\n",
       "</style>\n",
       "<table border=\"1\" class=\"dataframe\">\n",
       "  <thead>\n",
       "    <tr style=\"text-align: right;\">\n",
       "      <th></th>\n",
       "      <th>SKP_CREDIT_CASE</th>\n",
       "      <th>TIME_CREATION_DATE</th>\n",
       "      <th>SKP_SALESROOM</th>\n",
       "      <th>POS_GSPN_V2</th>\n",
       "      <th>POS_TYPE</th>\n",
       "      <th>CLIENT_EXI_3M</th>\n",
       "      <th>RISK_FSTQPD30</th>\n",
       "      <th>RISK_AGRF120</th>\n",
       "      <th>RISK_FSTPD30</th>\n",
       "      <th>RISK_AGRF90</th>\n",
       "      <th>...</th>\n",
       "      <th>TIME_DUE_DATE</th>\n",
       "      <th>RISK_SPD30</th>\n",
       "      <th>RISK_TPD30</th>\n",
       "      <th>RISK_4PD30</th>\n",
       "      <th>Unnamed: 0.1</th>\n",
       "      <th>PHANTOM_FLAG</th>\n",
       "      <th>FLAG_1PCT_PHANTOM</th>\n",
       "      <th>RISK_FSTQPD60</th>\n",
       "      <th>RISK_AGRF180</th>\n",
       "      <th>MONTH</th>\n",
       "    </tr>\n",
       "  </thead>\n",
       "  <tbody>\n",
       "    <tr>\n",
       "      <th>0</th>\n",
       "      <td>198274875</td>\n",
       "      <td>2018-07-01</td>\n",
       "      <td>119504</td>\n",
       "      <td>NaN</td>\n",
       "      <td>AP</td>\n",
       "      <td>N</td>\n",
       "      <td>0.0</td>\n",
       "      <td>1.0</td>\n",
       "      <td>0.0</td>\n",
       "      <td>1.0</td>\n",
       "      <td>...</td>\n",
       "      <td>01-08-18</td>\n",
       "      <td>0.0</td>\n",
       "      <td>0.0</td>\n",
       "      <td>0.0</td>\n",
       "      <td>NaN</td>\n",
       "      <td>NaN</td>\n",
       "      <td>NaN</td>\n",
       "      <td>NaN</td>\n",
       "      <td>NaN</td>\n",
       "      <td>2018-07</td>\n",
       "    </tr>\n",
       "    <tr>\n",
       "      <th>1</th>\n",
       "      <td>198274876</td>\n",
       "      <td>2018-07-01</td>\n",
       "      <td>1845809</td>\n",
       "      <td>NaN</td>\n",
       "      <td>AP</td>\n",
       "      <td>N</td>\n",
       "      <td>0.0</td>\n",
       "      <td>0.0</td>\n",
       "      <td>0.0</td>\n",
       "      <td>0.0</td>\n",
       "      <td>...</td>\n",
       "      <td>01-01-00</td>\n",
       "      <td>0.0</td>\n",
       "      <td>0.0</td>\n",
       "      <td>0.0</td>\n",
       "      <td>NaN</td>\n",
       "      <td>NaN</td>\n",
       "      <td>NaN</td>\n",
       "      <td>NaN</td>\n",
       "      <td>NaN</td>\n",
       "      <td>2018-07</td>\n",
       "    </tr>\n",
       "    <tr>\n",
       "      <th>2</th>\n",
       "      <td>198274878</td>\n",
       "      <td>2018-07-01</td>\n",
       "      <td>1285577</td>\n",
       "      <td>NaN</td>\n",
       "      <td>Aldi</td>\n",
       "      <td>N</td>\n",
       "      <td>0.0</td>\n",
       "      <td>1.0</td>\n",
       "      <td>0.0</td>\n",
       "      <td>1.0</td>\n",
       "      <td>...</td>\n",
       "      <td>01-08-18</td>\n",
       "      <td>0.0</td>\n",
       "      <td>0.0</td>\n",
       "      <td>0.0</td>\n",
       "      <td>NaN</td>\n",
       "      <td>NaN</td>\n",
       "      <td>NaN</td>\n",
       "      <td>NaN</td>\n",
       "      <td>NaN</td>\n",
       "      <td>2018-07</td>\n",
       "    </tr>\n",
       "    <tr>\n",
       "      <th>3</th>\n",
       "      <td>198274968</td>\n",
       "      <td>2018-07-01</td>\n",
       "      <td>11007354</td>\n",
       "      <td>NaN</td>\n",
       "      <td>Aldi</td>\n",
       "      <td>N</td>\n",
       "      <td>0.0</td>\n",
       "      <td>1.0</td>\n",
       "      <td>0.0</td>\n",
       "      <td>1.0</td>\n",
       "      <td>...</td>\n",
       "      <td>01-08-18</td>\n",
       "      <td>0.0</td>\n",
       "      <td>0.0</td>\n",
       "      <td>0.0</td>\n",
       "      <td>NaN</td>\n",
       "      <td>NaN</td>\n",
       "      <td>NaN</td>\n",
       "      <td>NaN</td>\n",
       "      <td>NaN</td>\n",
       "      <td>2018-07</td>\n",
       "    </tr>\n",
       "    <tr>\n",
       "      <th>4</th>\n",
       "      <td>198274969</td>\n",
       "      <td>2018-07-01</td>\n",
       "      <td>1080164</td>\n",
       "      <td>NaN</td>\n",
       "      <td>AP</td>\n",
       "      <td>N</td>\n",
       "      <td>0.0</td>\n",
       "      <td>1.0</td>\n",
       "      <td>0.0</td>\n",
       "      <td>1.0</td>\n",
       "      <td>...</td>\n",
       "      <td>01-08-18</td>\n",
       "      <td>0.0</td>\n",
       "      <td>0.0</td>\n",
       "      <td>0.0</td>\n",
       "      <td>NaN</td>\n",
       "      <td>NaN</td>\n",
       "      <td>NaN</td>\n",
       "      <td>NaN</td>\n",
       "      <td>NaN</td>\n",
       "      <td>2018-07</td>\n",
       "    </tr>\n",
       "  </tbody>\n",
       "</table>\n",
       "<p>5 rows × 26 columns</p>\n",
       "</div>"
      ],
      "text/plain": [
       "   SKP_CREDIT_CASE TIME_CREATION_DATE  SKP_SALESROOM  POS_GSPN_V2 POS_TYPE  \\\n",
       "0        198274875         2018-07-01         119504          NaN       AP   \n",
       "1        198274876         2018-07-01        1845809          NaN       AP   \n",
       "2        198274878         2018-07-01        1285577          NaN     Aldi   \n",
       "3        198274968         2018-07-01       11007354          NaN     Aldi   \n",
       "4        198274969         2018-07-01        1080164          NaN       AP   \n",
       "\n",
       "  CLIENT_EXI_3M  RISK_FSTQPD30  RISK_AGRF120  RISK_FSTPD30  RISK_AGRF90  ...  \\\n",
       "0             N            0.0           1.0           0.0          1.0  ...   \n",
       "1             N            0.0           0.0           0.0          0.0  ...   \n",
       "2             N            0.0           1.0           0.0          1.0  ...   \n",
       "3             N            0.0           1.0           0.0          1.0  ...   \n",
       "4             N            0.0           1.0           0.0          1.0  ...   \n",
       "\n",
       "   TIME_DUE_DATE  RISK_SPD30  RISK_TPD30  RISK_4PD30  Unnamed: 0.1  \\\n",
       "0       01-08-18         0.0         0.0         0.0           NaN   \n",
       "1       01-01-00         0.0         0.0         0.0           NaN   \n",
       "2       01-08-18         0.0         0.0         0.0           NaN   \n",
       "3       01-08-18         0.0         0.0         0.0           NaN   \n",
       "4       01-08-18         0.0         0.0         0.0           NaN   \n",
       "\n",
       "   PHANTOM_FLAG FLAG_1PCT_PHANTOM  RISK_FSTQPD60  RISK_AGRF180    MONTH  \n",
       "0           NaN               NaN            NaN           NaN  2018-07  \n",
       "1           NaN               NaN            NaN           NaN  2018-07  \n",
       "2           NaN               NaN            NaN           NaN  2018-07  \n",
       "3           NaN               NaN            NaN           NaN  2018-07  \n",
       "4           NaN               NaN            NaN           NaN  2018-07  \n",
       "\n",
       "[5 rows x 26 columns]"
      ]
     },
     "execution_count": 7,
     "metadata": {},
     "output_type": "execute_result"
    }
   ],
   "source": [
    "df.head()"
   ]
  },
  {
   "cell_type": "markdown",
   "metadata": {},
   "source": [
    "# Create Features"
   ]
  },
  {
   "cell_type": "code",
   "execution_count": 8,
   "metadata": {
    "scrolled": true
   },
   "outputs": [
    {
     "name": "stderr",
     "output_type": "stream",
     "text": [
      "C:\\Users\\aman.khatri91425\\AppData\\Local\\Continuum\\anaconda3\\lib\\site-packages\\ipykernel_launcher.py:10: FutureWarning: The pandas.datetime class is deprecated and will be removed from pandas in a future version. Import from datetime module instead.\n",
      "  # Remove the CWD from sys.path while we load stuff.\n"
     ]
    }
   ],
   "source": [
    "features = pd.DataFrame({'features' : [\"RISK_AGRF10\",\"RISK_FPD10\",\"RISK_AGRF30\",\"RISK_FPD30\",\"RISK_AGRF60\",\"RISK_FSPD30\",\"RISK_AGRF90\",\"RISK_FSTPD30\",\"RISK_AGRF120\",\"RISK_FSTQPD30\"],\n",
    "                         'start' : [0,0,0,0,121,121,151,151,211,211],\n",
    "                         'end' : [90,90,120,120,150,150,210,210,270,270]\n",
    "})\n",
    "\n",
    "df_model = pd.DataFrame()\n",
    "\n",
    "for MON in ('2019-05','2019-06','2019-07','2019-08','2020-06'):\n",
    "\n",
    "    MON = pd.datetime(int(MON[0:4]),int(MON[-2:]),1)\n",
    "    df_obs = df[(df.TIME_CREATION_DATE>= MON) & (df.TIME_CREATION_DATE < MON + timedelta(30))]\n",
    "\n",
    "    df_features=pd.DataFrame(df[(df.TIME_CREATION_DATE<MON)&(df.TIME_CREATION_DATE>MON-timedelta(180))].groupby(\"SKP_SALESROOM\")[\"SKP_CREDIT_CASE\"].count())\n",
    "    df_features.rename(columns={\"SKP_CREDIT_CASE\":\"CASE_COUNT\"}, inplace = True)\n",
    "\n",
    "    for x in range(features.shape[0]):\n",
    "        df_features[features.loc[x,'features']+\"_SUM\"] = df[(df.TIME_CREATION_DATE<=MON-timedelta(int(features.loc[x,'start'])))&(df.TIME_CREATION_DATE>=MON-timedelta(int(features.loc[x,'end'])))].groupby('SKP_SALESROOM')[features.loc[x,'features']].sum()\n",
    "        \n",
    "    df_features[\"RISK_FPD10_RATE\"] = df_features.RISK_FPD10_SUM/df_features.RISK_AGRF10_SUM\n",
    "    df_features[\"RISK_FPD30_RATE\"] = df_features.RISK_FPD30_SUM/df_features.RISK_AGRF30_SUM\n",
    "    df_features[\"RISK_FSPD30_RATE\"] = df_features.RISK_FSPD30_SUM/df_features.RISK_AGRF60_SUM\n",
    "    df_features[\"RISK_FSTPD30_RATE\"] = df_features.RISK_FSTPD30_SUM/df_features.RISK_AGRF90_SUM\n",
    "    df_features[\"RISK_FSTQPD30_RATE\"] = df_features.RISK_FSTQPD30_SUM/df_features.RISK_AGRF120_SUM\n",
    "\n",
    "    #NA Treatment \n",
    "    var_list = [\"RISK_FPD10_RATE\",\"RISK_FPD30_RATE\",\"RISK_FSPD30_RATE\",\"RISK_FSTPD30_RATE\",\"RISK_FSTQPD30_RATE\"]\n",
    "    df_features[var_list]= df_features[var_list].fillna(df_features[var_list].mean())\n",
    "\n",
    "    df_features.reset_index(inplace = True)\n",
    "    df_obs= df_obs.merge(df_features,how = 'inner', on=['SKP_SALESROOM'])\n",
    "    df_model = pd.concat([df_model,df_obs])\n",
    "\n",
    "df_model.dropna(subset = [TARGET], inplace = True)"
   ]
  },
  {
   "cell_type": "markdown",
   "metadata": {},
   "source": [
    "### 1 Hot Encoding POS Type"
   ]
  },
  {
   "cell_type": "code",
   "execution_count": 9,
   "metadata": {},
   "outputs": [],
   "source": [
    "for x in [\"POS_TYPE\"]:\n",
    "    dummy = pd.get_dummies(df_model[x])\n",
    "    dummy.columns = [y+\"_\"+x for y in dummy.columns]\n",
    "    df_model = pd.concat([df_model, dummy], axis=1)"
   ]
  },
  {
   "cell_type": "markdown",
   "metadata": {},
   "source": [
    "### Add Geo Score"
   ]
  },
  {
   "cell_type": "code",
   "execution_count": 10,
   "metadata": {},
   "outputs": [],
   "source": [
    "# conn = cx_Oracle.connect('HCIN_Jainr1[AP_UWI]','Saber@1989!1','INCL02.IN.PROD/HWIN_USR_DEV.HOMECREDIT.IN')\n",
    "# query = \"\"\"\n",
    "# select skp_salesr as skp_salesroom, a.grid_id, month, combined_score_knn_exi, combined_score_knn_ntc\n",
    "# from AP_BI.T_SDE_POS_23JAN2020 a \n",
    "# join bd_grid_score_hist b\n",
    "# on a.grid_id = b.grid_id;\n",
    "# \"\"\"\n",
    "\n",
    "# data = pd.read_sql(query, conn)\n",
    "# data.to_csv(os.getcwd()+\"\\Data Files\\grid_scores.csv\")"
   ]
  },
  {
   "cell_type": "code",
   "execution_count": 11,
   "metadata": {},
   "outputs": [],
   "source": [
    "df_grid = pd.read_csv(os.getcwd()+\"\\Data Files\\grid_scores.csv\")\n",
    "df_grid.MONTH = pd.to_datetime(df_grid.MONTH, format = '%d-%m-%y')\n",
    "df_grid[\"MONTH\"] = df_grid.MONTH.dt.strftime(\"%Y-%m\")\n",
    "\n",
    "df_model = df_model.merge(df_grid, how='left', on = [\"SKP_SALESROOM\",\"MONTH\"])\n",
    "\n",
    "df_model[[\"COMBINED_SCORE_KNN_EXI\",\"COMBINED_SCORE_KNN_NTC\"]]=df_model[[\"COMBINED_SCORE_KNN_EXI\",\"COMBINED_SCORE_KNN_NTC\"]].fillna(\n",
    "df_model[[\"COMBINED_SCORE_KNN_EXI\",\"COMBINED_SCORE_KNN_NTC\"]].mean())"
   ]
  },
  {
   "cell_type": "markdown",
   "metadata": {},
   "source": [
    "# Split Train Test Data"
   ]
  },
  {
   "cell_type": "markdown",
   "metadata": {},
   "source": [
    "### Define Predictors"
   ]
  },
  {
   "cell_type": "code",
   "execution_count": 12,
   "metadata": {},
   "outputs": [],
   "source": [
    "x_columns = [\"CASE_COUNT\",\"RISK_FPD30_RATE\",\"RISK_FSPD30_RATE\",\"RISK_FSTPD30_RATE\",\"RISK_FSTQPD30_RATE\", \"COMBINED_SCORE_KNN_EXI\",\n",
    "            \"COMBINED_SCORE_KNN_NTC\",\"AP_POS_TYPE\",\"Aldi_POS_TYPE\",\"Satellite_POS_TYPE\",\"UDAAN_POS_TYPE\"]"
   ]
  },
  {
   "cell_type": "code",
   "execution_count": 13,
   "metadata": {},
   "outputs": [
    {
     "name": "stderr",
     "output_type": "stream",
     "text": [
      "C:\\Users\\aman.khatri91425\\AppData\\Local\\Continuum\\anaconda3\\lib\\site-packages\\ipykernel_launcher.py:1: FutureWarning: The pandas.datetime class is deprecated and will be removed from pandas in a future version. Import from datetime module instead.\n",
      "  \"\"\"Entry point for launching an IPython kernel.\n",
      "C:\\Users\\aman.khatri91425\\AppData\\Local\\Continuum\\anaconda3\\lib\\site-packages\\ipykernel_launcher.py:2: FutureWarning: The pandas.datetime class is deprecated and will be removed from pandas in a future version. Import from datetime module instead.\n",
      "  \n"
     ]
    },
    {
     "name": "stdout",
     "output_type": "stream",
     "text": [
      "Event rate in train set : 4.82%\n",
      "Train set shape: (707789, 11)\n",
      "Event rate in test set : 4.32%\n",
      "Train set shape: (894483, 11)\n"
     ]
    }
   ],
   "source": [
    "df_train = df_model[(df_model[TIME_CREATION_DATE] >= pd.datetime(2019,1,1))& (df_model[TIME_CREATION_DATE] <= pd.datetime(2019,6,30))]\n",
    "df_test = df_model[(df_model[TIME_CREATION_DATE] >= pd.datetime(2019,7,1))]\n",
    "\n",
    "print(\"Event rate in train set :\", '{:,.2%}'.format(sum(df_train[TARGET]) / len(df_train[TARGET])))\n",
    "print(\"Train set shape:\",df_train[x_columns].shape)\n",
    "print(\"Event rate in test set :\", '{:,.2%}'.format(sum(df_test[TARGET]) / len(df_test[TARGET])))\n",
    "print(\"Train set shape:\",df_test[x_columns].shape)"
   ]
  },
  {
   "cell_type": "markdown",
   "metadata": {},
   "source": [
    "# Build Logistic Model"
   ]
  },
  {
   "cell_type": "markdown",
   "metadata": {},
   "source": [
    "### Fit model only on Phantomas Population"
   ]
  },
  {
   "cell_type": "code",
   "execution_count": 14,
   "metadata": {},
   "outputs": [],
   "source": [
    "df_train = df_train[df_train[PHANTOMAS_FLAG]==1]"
   ]
  },
  {
   "cell_type": "markdown",
   "metadata": {},
   "source": [
    "### L1 Penalty Hyper Parameter Optimization"
   ]
  },
  {
   "cell_type": "code",
   "execution_count": 15,
   "metadata": {},
   "outputs": [],
   "source": [
    "param_grid = {'C':np.exp(np.arange(-3,3,0.01))}\n",
    "\n",
    "kfolds = StratifiedKFold(3, random_state=1)\n",
    "comb=LogisticRegression(penalty = 'l1', solver = 'liblinear')\n",
    "\n",
    "rcv = RandomizedSearchCV(estimator = comb, param_distributions=param_grid, scoring=['roc_auc'], n_iter = 10,\n",
    "    cv=kfolds.split(df_train[x_columns],df_train[TARGET]), verbose=0, random_state=1,\n",
    "    refit = 'roc_auc', return_train_score=True, error_score = 0)"
   ]
  },
  {
   "cell_type": "code",
   "execution_count": 16,
   "metadata": {},
   "outputs": [
    {
     "name": "stdout",
     "output_type": "stream",
     "text": [
      "Randomized search..\n",
      "Randomized search time: 1.3087458610534668\n",
      "{'C': 11.941264417847709}\n"
     ]
    }
   ],
   "source": [
    "#Calculate Gini Lift Logistic Regression\n",
    "print(\"Randomized search..\")\n",
    "search_time_start = time.time()\n",
    "rcv.fit(df_train[x_columns], df_train[TARGET])\n",
    "print(\"Randomized search time:\", time.time() - search_time_start)\n",
    "params = rcv.best_params_   #get best parameters\n",
    "dic=rcv.cv_results_    #provides scoring results for each iteration, 50 in this case, mean values can be used \n",
    "\n",
    "tmp1= pd.DataFrame(dic)[[\"param_C\",\"mean_test_roc_auc\",\"mean_train_roc_auc\"]].sort_values(by = 'param_C')\n",
    "tmp1.plot(x=\"param_C\")\n",
    "print(params)"
   ]
  },
  {
   "cell_type": "markdown",
   "metadata": {},
   "source": [
    "### Logistic Model With optimized Hyperparameters "
   ]
  },
  {
   "cell_type": "code",
   "execution_count": 17,
   "metadata": {},
   "outputs": [
    {
     "name": "stderr",
     "output_type": "stream",
     "text": [
      "C:\\Users\\aman.khatri91425\\AppData\\Local\\Continuum\\anaconda3\\lib\\site-packages\\sklearn\\linear_model\\logistic.py:433: FutureWarning: Default solver will be changed to 'lbfgs' in 0.22. Specify a solver to silence this warning.\n",
      "  FutureWarning)\n"
     ]
    },
    {
     "name": "stdout",
     "output_type": "stream",
     "text": [
      "Train GINI(COMBINED_SCORE) 0.178\n",
      "Test GINI(COMBINED_SCORE) 0.068\n"
     ]
    }
   ],
   "source": [
    "bst = LogisticRegression(penalty = 'l1', C=params['C'])\n",
    "\n",
    "bst.fit(df_train[x_columns], df_train[TARGET])\n",
    "\n",
    "ypred_train = bst.predict_proba(df_train[x_columns])[:, 1]\n",
    "ypred_test = bst.predict_proba(df_test[x_columns])[:, 1]\n",
    "df_model[\"GSPN_SCORE\"] =  bst.predict_proba(df_model[x_columns])[:, 1]\n",
    "print(\"Train GINI(COMBINED_SCORE) %.3f\" % (2*roc_auc_score(df_train[TARGET], ypred_train)-1))\n",
    "print(\"Test GINI(COMBINED_SCORE) %.3f\" % (2*roc_auc_score(df_test[TARGET], ypred_test)-1))"
   ]
  },
  {
   "cell_type": "markdown",
   "metadata": {},
   "source": [
    "### Save Model"
   ]
  },
  {
   "cell_type": "code",
   "execution_count": 18,
   "metadata": {},
   "outputs": [],
   "source": [
    "pickle.dump(bst, open(\"gspn_model\",\"wb\"))\n",
    "# bst =pickle.load(open(b\"Fruits\",\"rb\"))"
   ]
  },
  {
   "cell_type": "markdown",
   "metadata": {},
   "source": [
    "### Model Equation"
   ]
  },
  {
   "cell_type": "code",
   "execution_count": 19,
   "metadata": {},
   "outputs": [
    {
     "data": {
      "text/html": [
       "<div>\n",
       "<style scoped>\n",
       "    .dataframe tbody tr th:only-of-type {\n",
       "        vertical-align: middle;\n",
       "    }\n",
       "\n",
       "    .dataframe tbody tr th {\n",
       "        vertical-align: top;\n",
       "    }\n",
       "\n",
       "    .dataframe thead th {\n",
       "        text-align: right;\n",
       "    }\n",
       "</style>\n",
       "<table border=\"1\" class=\"dataframe\">\n",
       "  <thead>\n",
       "    <tr style=\"text-align: right;\">\n",
       "      <th></th>\n",
       "      <th>column</th>\n",
       "      <th>coeffecient</th>\n",
       "    </tr>\n",
       "  </thead>\n",
       "  <tbody>\n",
       "    <tr>\n",
       "      <th>0</th>\n",
       "      <td>CASE_COUNT</td>\n",
       "      <td>-0.000104</td>\n",
       "    </tr>\n",
       "    <tr>\n",
       "      <th>1</th>\n",
       "      <td>RISK_FPD30_RATE</td>\n",
       "      <td>4.092211</td>\n",
       "    </tr>\n",
       "    <tr>\n",
       "      <th>2</th>\n",
       "      <td>RISK_FSPD30_RATE</td>\n",
       "      <td>0.499803</td>\n",
       "    </tr>\n",
       "    <tr>\n",
       "      <th>3</th>\n",
       "      <td>RISK_FSTPD30_RATE</td>\n",
       "      <td>1.053096</td>\n",
       "    </tr>\n",
       "    <tr>\n",
       "      <th>4</th>\n",
       "      <td>RISK_FSTQPD30_RATE</td>\n",
       "      <td>1.220143</td>\n",
       "    </tr>\n",
       "    <tr>\n",
       "      <th>5</th>\n",
       "      <td>COMBINED_SCORE_KNN_EXI</td>\n",
       "      <td>9.802135</td>\n",
       "    </tr>\n",
       "    <tr>\n",
       "      <th>6</th>\n",
       "      <td>COMBINED_SCORE_KNN_NTC</td>\n",
       "      <td>0.461811</td>\n",
       "    </tr>\n",
       "    <tr>\n",
       "      <th>7</th>\n",
       "      <td>AP_POS_TYPE</td>\n",
       "      <td>-1.632877</td>\n",
       "    </tr>\n",
       "    <tr>\n",
       "      <th>8</th>\n",
       "      <td>Aldi_POS_TYPE</td>\n",
       "      <td>-1.502378</td>\n",
       "    </tr>\n",
       "    <tr>\n",
       "      <th>9</th>\n",
       "      <td>Satellite_POS_TYPE</td>\n",
       "      <td>-1.501776</td>\n",
       "    </tr>\n",
       "    <tr>\n",
       "      <th>10</th>\n",
       "      <td>UDAAN_POS_TYPE</td>\n",
       "      <td>0.000000</td>\n",
       "    </tr>\n",
       "  </tbody>\n",
       "</table>\n",
       "</div>"
      ],
      "text/plain": [
       "                    column  coeffecient\n",
       "0               CASE_COUNT    -0.000104\n",
       "1          RISK_FPD30_RATE     4.092211\n",
       "2         RISK_FSPD30_RATE     0.499803\n",
       "3        RISK_FSTPD30_RATE     1.053096\n",
       "4       RISK_FSTQPD30_RATE     1.220143\n",
       "5   COMBINED_SCORE_KNN_EXI     9.802135\n",
       "6   COMBINED_SCORE_KNN_NTC     0.461811\n",
       "7              AP_POS_TYPE    -1.632877\n",
       "8            Aldi_POS_TYPE    -1.502378\n",
       "9       Satellite_POS_TYPE    -1.501776\n",
       "10          UDAAN_POS_TYPE     0.000000"
      ]
     },
     "execution_count": 19,
     "metadata": {},
     "output_type": "execute_result"
    }
   ],
   "source": [
    "pd.DataFrame({\"column\":x_columns,\"coeffecient\":bst.coef_[0]})"
   ]
  },
  {
   "cell_type": "code",
   "execution_count": null,
   "metadata": {},
   "outputs": [],
   "source": []
  },
  {
   "cell_type": "code",
   "execution_count": null,
   "metadata": {},
   "outputs": [],
   "source": []
  },
  {
   "cell_type": "markdown",
   "metadata": {},
   "source": [
    "# Model Evaluation"
   ]
  },
  {
   "cell_type": "markdown",
   "metadata": {},
   "source": [
    "### Check marginal Value add of Predictors"
   ]
  },
  {
   "cell_type": "code",
   "execution_count": 20,
   "metadata": {},
   "outputs": [],
   "source": [
    "out = {'pred_list':[],'value':[]}\n",
    "\n",
    "for y in range(len(x_columns)):\n",
    "    tmp = {'pred':[],'value':[]}\n",
    "    for x in x_columns:\n",
    "        if x not in out['pred_list']:\n",
    "            pred = out['pred_list'].copy()\n",
    "            pred.append(x)\n",
    "            bst = LogisticRegression(penalty = 'l1', C=params['C'], solver = 'liblinear')\n",
    "            bst.fit(df_train[pred], df_train[TARGET])\n",
    "            auc_cv = cross_val_score(bst, df_train[pred], df_train[TARGET], scoring='roc_auc', cv=3,n_jobs=-1)\n",
    "            tmp[\"pred\"].append(x)\n",
    "            tmp[\"value\"].append(2 * np.array(auc_cv).mean() - 1)\n",
    "#             print(\"predictors :\",pred,\"Value :\", 2 * np.array(auc_cv).mean() - 1)\n",
    "    tmp_df = pd.DataFrame(tmp)\n",
    "    out['pred_list'].append(tmp_df.loc[tmp_df[\"value\"].idxmax(),\"pred\"])\n",
    "    out['value'].append(tmp_df.loc[tmp_df[\"value\"].idxmax(),\"value\"])    "
   ]
  },
  {
   "cell_type": "code",
   "execution_count": 21,
   "metadata": {
    "scrolled": true
   },
   "outputs": [
    {
     "data": {
      "text/html": [
       "<div>\n",
       "<style scoped>\n",
       "    .dataframe tbody tr th:only-of-type {\n",
       "        vertical-align: middle;\n",
       "    }\n",
       "\n",
       "    .dataframe tbody tr th {\n",
       "        vertical-align: top;\n",
       "    }\n",
       "\n",
       "    .dataframe thead th {\n",
       "        text-align: right;\n",
       "    }\n",
       "</style>\n",
       "<table border=\"1\" class=\"dataframe\">\n",
       "  <thead>\n",
       "    <tr style=\"text-align: right;\">\n",
       "      <th></th>\n",
       "      <th>pred_list</th>\n",
       "      <th>value</th>\n",
       "      <th>increment</th>\n",
       "    </tr>\n",
       "  </thead>\n",
       "  <tbody>\n",
       "    <tr>\n",
       "      <th>0</th>\n",
       "      <td>COMBINED_SCORE_KNN_EXI</td>\n",
       "      <td>0.119043</td>\n",
       "      <td>NaN</td>\n",
       "    </tr>\n",
       "    <tr>\n",
       "      <th>1</th>\n",
       "      <td>RISK_FSTQPD30_RATE</td>\n",
       "      <td>0.146587</td>\n",
       "      <td>0.027543</td>\n",
       "    </tr>\n",
       "    <tr>\n",
       "      <th>2</th>\n",
       "      <td>RISK_FPD30_RATE</td>\n",
       "      <td>0.160877</td>\n",
       "      <td>0.014290</td>\n",
       "    </tr>\n",
       "    <tr>\n",
       "      <th>3</th>\n",
       "      <td>RISK_FSTPD30_RATE</td>\n",
       "      <td>0.169258</td>\n",
       "      <td>0.008381</td>\n",
       "    </tr>\n",
       "    <tr>\n",
       "      <th>4</th>\n",
       "      <td>AP_POS_TYPE</td>\n",
       "      <td>0.172381</td>\n",
       "      <td>0.003124</td>\n",
       "    </tr>\n",
       "    <tr>\n",
       "      <th>5</th>\n",
       "      <td>COMBINED_SCORE_KNN_NTC</td>\n",
       "      <td>0.174135</td>\n",
       "      <td>0.001754</td>\n",
       "    </tr>\n",
       "    <tr>\n",
       "      <th>6</th>\n",
       "      <td>RISK_FSPD30_RATE</td>\n",
       "      <td>0.173920</td>\n",
       "      <td>-0.000215</td>\n",
       "    </tr>\n",
       "    <tr>\n",
       "      <th>7</th>\n",
       "      <td>UDAAN_POS_TYPE</td>\n",
       "      <td>0.173834</td>\n",
       "      <td>-0.000086</td>\n",
       "    </tr>\n",
       "    <tr>\n",
       "      <th>8</th>\n",
       "      <td>CASE_COUNT</td>\n",
       "      <td>0.170098</td>\n",
       "      <td>-0.003736</td>\n",
       "    </tr>\n",
       "    <tr>\n",
       "      <th>9</th>\n",
       "      <td>Aldi_POS_TYPE</td>\n",
       "      <td>0.166242</td>\n",
       "      <td>-0.003856</td>\n",
       "    </tr>\n",
       "    <tr>\n",
       "      <th>10</th>\n",
       "      <td>Satellite_POS_TYPE</td>\n",
       "      <td>0.167174</td>\n",
       "      <td>0.000933</td>\n",
       "    </tr>\n",
       "  </tbody>\n",
       "</table>\n",
       "</div>"
      ],
      "text/plain": [
       "                 pred_list     value  increment\n",
       "0   COMBINED_SCORE_KNN_EXI  0.119043        NaN\n",
       "1       RISK_FSTQPD30_RATE  0.146587   0.027543\n",
       "2          RISK_FPD30_RATE  0.160877   0.014290\n",
       "3        RISK_FSTPD30_RATE  0.169258   0.008381\n",
       "4              AP_POS_TYPE  0.172381   0.003124\n",
       "5   COMBINED_SCORE_KNN_NTC  0.174135   0.001754\n",
       "6         RISK_FSPD30_RATE  0.173920  -0.000215\n",
       "7           UDAAN_POS_TYPE  0.173834  -0.000086\n",
       "8               CASE_COUNT  0.170098  -0.003736\n",
       "9            Aldi_POS_TYPE  0.166242  -0.003856\n",
       "10      Satellite_POS_TYPE  0.167174   0.000933"
      ]
     },
     "execution_count": 21,
     "metadata": {},
     "output_type": "execute_result"
    }
   ],
   "source": [
    "out_df = pd.DataFrame(out)\n",
    "out_df[\"increment\"] = out_df.value-out_df.shift(1)[\"value\"]\n",
    "out_df"
   ]
  },
  {
   "cell_type": "markdown",
   "metadata": {},
   "source": [
    "### Check Proportion in Current GSPN"
   ]
  },
  {
   "cell_type": "code",
   "execution_count": 22,
   "metadata": {},
   "outputs": [],
   "source": [
    "df_temp = df_model.dropna(subset = [OLD_GSPN_SCORE])"
   ]
  },
  {
   "cell_type": "code",
   "execution_count": 23,
   "metadata": {},
   "outputs": [
    {
     "data": {
      "text/plain": [
       "1.0    39.945741\n",
       "2.0    52.669019\n",
       "3.0     7.385175\n",
       "8.0     0.000065\n",
       "Name: POS_GSPN_V2, dtype: float64"
      ]
     },
     "execution_count": 23,
     "metadata": {},
     "output_type": "execute_result"
    }
   ],
   "source": [
    "x = df_temp[OLD_GSPN_SCORE].value_counts()/len(df_temp)*100\n",
    "x.sort_index()"
   ]
  },
  {
   "cell_type": "code",
   "execution_count": 24,
   "metadata": {},
   "outputs": [
    {
     "data": {
      "text/plain": [
       "0.399457    0.079018\n",
       "0.926148    0.116302\n",
       "Name: GSPN_SCORE, dtype: float64"
      ]
     },
     "execution_count": 24,
     "metadata": {},
     "output_type": "execute_result"
    }
   ],
   "source": [
    "df_temp[\"GSPN_SCORE\"].quantile([x[1]/100, (x[1]+x[2])/100])"
   ]
  },
  {
   "cell_type": "markdown",
   "metadata": {},
   "source": [
    "### Define GSPN Clusters (Keeping Proportion Same as Current Setup)"
   ]
  },
  {
   "cell_type": "code",
   "execution_count": 25,
   "metadata": {},
   "outputs": [],
   "source": [
    "df_model[\"GSPN_GROUP\"]=np.where(df_model[\"GSPN_SCORE\"]<df_temp[\"GSPN_SCORE\"].quantile(x[1]/100), 1,np.where(df_model[\"GSPN_SCORE\"]<df_temp[\"GSPN_SCORE\"].quantile((x[1]+x[2])/100),2,3))"
   ]
  },
  {
   "cell_type": "markdown",
   "metadata": {},
   "source": [
    "### WOE and IV comparison"
   ]
  },
  {
   "cell_type": "code",
   "execution_count": 26,
   "metadata": {},
   "outputs": [],
   "source": [
    "def iv_df(df=None,target=None, cluster_num=None):\n",
    "    data=df.copy()\n",
    "    data['target1'] = data[target]\n",
    "    data['target0'] = 1-data[target]\n",
    "    data['bucket'] = data[cluster_num]\n",
    "    grouped = data.groupby('bucket', as_index = True)\n",
    "    liftstable  = pd.DataFrame(grouped.count()[target])\n",
    "    liftstable.columns = ['total']\n",
    "    liftstable['bads']   = round(grouped.sum()['target1'])\n",
    "    liftstable['goods'] = round(grouped.sum()['target0'])\n",
    "    liftstable['bad_rate'] = liftstable['bads']/liftstable['total']\n",
    "    \n",
    "    liftstable['%base'] = (liftstable.total / data['target1'].count())\n",
    "    liftstable = liftstable.sort_index(ascending=True).reset_index(drop = False)\n",
    "    liftstable.rename(columns = {'index':\"CLUSTER\"},inplace = True)\n",
    "    liftstable['cum%_base'] = (liftstable.total / data['target1'].count()).cumsum()\n",
    "    liftstable['%bads'] = (liftstable['bads'] / data['target1'].sum())\n",
    "    liftstable['%goods'] = (liftstable['goods'] / data['target0'].sum())\n",
    "    liftstable['cum%_bads']=(liftstable['bads'] / data['target1'].sum()).cumsum()\n",
    "    liftstable['cum%_goods']=(liftstable['bads'] / data['target0'].sum()).cumsum()\n",
    "    liftstable['woe'] = np.log(liftstable['%goods'] / liftstable['%bads'])\n",
    "    liftstable = liftstable.replace({'woe': {np.inf: 0, -np.inf: 0}})\n",
    "    liftstable['IV'] = (liftstable['%goods'] - liftstable['%bads']) * liftstable[\"woe\"]\n",
    "    \n",
    "    #Formating\n",
    "    liftstable['%base']= liftstable['%base'].apply('{0:.2%}'.format)\n",
    "    liftstable['%bads']= liftstable['%bads'].apply('{0:.2%}'.format)\n",
    "    liftstable['%goods']= liftstable['%goods'].apply('{0:.2%}'.format)\n",
    "    liftstable['cum%_bads']= liftstable['cum%_bads'].apply('{0:.2%}'.format)\n",
    "    liftstable['cum%_goods']= liftstable['cum%_goods'].apply('{0:.2%}'.format)\n",
    "    liftstable['cum%_base'] = liftstable['cum%_base'].apply('{0:.2%}'.format)\n",
    "#     liftstable['bad_rate'] = liftstable['bad_rate'].apply('{0:.2%}'.format)\n",
    "\n",
    "    pd.set_option('display.max_columns', 10)\n",
    "    return(liftstable)"
   ]
  },
  {
   "cell_type": "code",
   "execution_count": 27,
   "metadata": {},
   "outputs": [],
   "source": [
    "df_temp = df_model.dropna(subset = [OLD_GSPN_SCORE])"
   ]
  },
  {
   "cell_type": "code",
   "execution_count": 28,
   "metadata": {},
   "outputs": [
    {
     "name": "stdout",
     "output_type": "stream",
     "text": [
      "IV Value:  0.018179449297943795\n",
      "GINI Value:  6.62%\n"
     ]
    },
    {
     "data": {
      "text/html": [
       "<div>\n",
       "<style scoped>\n",
       "    .dataframe tbody tr th:only-of-type {\n",
       "        vertical-align: middle;\n",
       "    }\n",
       "\n",
       "    .dataframe tbody tr th {\n",
       "        vertical-align: top;\n",
       "    }\n",
       "\n",
       "    .dataframe thead th {\n",
       "        text-align: right;\n",
       "    }\n",
       "</style>\n",
       "<table border=\"1\" class=\"dataframe\">\n",
       "  <thead>\n",
       "    <tr style=\"text-align: right;\">\n",
       "      <th></th>\n",
       "      <th>bucket</th>\n",
       "      <th>total</th>\n",
       "      <th>bads</th>\n",
       "      <th>bad_rate</th>\n",
       "      <th>%bads</th>\n",
       "      <th>%goods</th>\n",
       "      <th>woe</th>\n",
       "      <th>%base</th>\n",
       "    </tr>\n",
       "  </thead>\n",
       "  <tbody>\n",
       "    <tr>\n",
       "      <th>0</th>\n",
       "      <td>1.0</td>\n",
       "      <td>612083</td>\n",
       "      <td>25014.0</td>\n",
       "      <td>0.040867</td>\n",
       "      <td>34.38%</td>\n",
       "      <td>38.38%</td>\n",
       "      <td>0.110212</td>\n",
       "      <td>38.20%</td>\n",
       "    </tr>\n",
       "    <tr>\n",
       "      <th>1</th>\n",
       "      <td>2.0</td>\n",
       "      <td>807040</td>\n",
       "      <td>40249.0</td>\n",
       "      <td>0.049872</td>\n",
       "      <td>55.32%</td>\n",
       "      <td>50.13%</td>\n",
       "      <td>-0.098365</td>\n",
       "      <td>50.37%</td>\n",
       "    </tr>\n",
       "    <tr>\n",
       "      <th>2</th>\n",
       "      <td>3.0</td>\n",
       "      <td>113162</td>\n",
       "      <td>6991.0</td>\n",
       "      <td>0.061779</td>\n",
       "      <td>9.61%</td>\n",
       "      <td>6.94%</td>\n",
       "      <td>-0.325067</td>\n",
       "      <td>7.06%</td>\n",
       "    </tr>\n",
       "    <tr>\n",
       "      <th>3</th>\n",
       "      <td>8.0</td>\n",
       "      <td>1</td>\n",
       "      <td>0.0</td>\n",
       "      <td>0.000000</td>\n",
       "      <td>0.00%</td>\n",
       "      <td>0.00%</td>\n",
       "      <td>0.000000</td>\n",
       "      <td>0.00%</td>\n",
       "    </tr>\n",
       "  </tbody>\n",
       "</table>\n",
       "</div>"
      ],
      "text/plain": [
       "   bucket   total     bads  bad_rate   %bads  %goods       woe   %base\n",
       "0     1.0  612083  25014.0  0.040867  34.38%  38.38%  0.110212  38.20%\n",
       "1     2.0  807040  40249.0  0.049872  55.32%  50.13% -0.098365  50.37%\n",
       "2     3.0  113162   6991.0  0.061779   9.61%   6.94% -0.325067   7.06%\n",
       "3     8.0       1      0.0  0.000000   0.00%   0.00%  0.000000   0.00%"
      ]
     },
     "execution_count": 28,
     "metadata": {},
     "output_type": "execute_result"
    }
   ],
   "source": [
    "from sklearn.metrics import roc_auc_score\n",
    "\n",
    "iv_df1 = iv_df(df=df_model,target = TARGET, cluster_num = OLD_GSPN_SCORE)\n",
    "\n",
    "print(\"IV Value: \",format(np.sum(iv_df1[\"IV\"])))\n",
    "print(\"GINI Value: \", '{0:.2%}'.format(np.absolute(2*roc_auc_score(df_temp[TARGET],df_temp[OLD_GSPN_SCORE])-1)))\n",
    "\n",
    "iv_df1[['bucket', 'total','bads','bad_rate','%bads', '%goods','woe','%base']]\n"
   ]
  },
  {
   "cell_type": "code",
   "execution_count": 29,
   "metadata": {},
   "outputs": [
    {
     "name": "stdout",
     "output_type": "stream",
     "text": [
      "IV Value:  0.01721729503407942\n",
      "GINI Value:  7.60%\n"
     ]
    },
    {
     "data": {
      "text/html": [
       "<div>\n",
       "<style scoped>\n",
       "    .dataframe tbody tr th:only-of-type {\n",
       "        vertical-align: middle;\n",
       "    }\n",
       "\n",
       "    .dataframe tbody tr th {\n",
       "        vertical-align: top;\n",
       "    }\n",
       "\n",
       "    .dataframe thead th {\n",
       "        text-align: right;\n",
       "    }\n",
       "</style>\n",
       "<table border=\"1\" class=\"dataframe\">\n",
       "  <thead>\n",
       "    <tr style=\"text-align: right;\">\n",
       "      <th></th>\n",
       "      <th>bucket</th>\n",
       "      <th>total</th>\n",
       "      <th>bads</th>\n",
       "      <th>bad_rate</th>\n",
       "      <th>%bads</th>\n",
       "      <th>%goods</th>\n",
       "      <th>woe</th>\n",
       "      <th>%base</th>\n",
       "    </tr>\n",
       "  </thead>\n",
       "  <tbody>\n",
       "    <tr>\n",
       "      <th>0</th>\n",
       "      <td>1</td>\n",
       "      <td>624015</td>\n",
       "      <td>24709.0</td>\n",
       "      <td>0.039597</td>\n",
       "      <td>33.96%</td>\n",
       "      <td>39.18%</td>\n",
       "      <td>0.143110</td>\n",
       "      <td>38.95%</td>\n",
       "    </tr>\n",
       "    <tr>\n",
       "      <th>1</th>\n",
       "      <td>2</td>\n",
       "      <td>852889</td>\n",
       "      <td>40420.0</td>\n",
       "      <td>0.047392</td>\n",
       "      <td>55.55%</td>\n",
       "      <td>53.12%</td>\n",
       "      <td>-0.044741</td>\n",
       "      <td>53.23%</td>\n",
       "    </tr>\n",
       "    <tr>\n",
       "      <th>2</th>\n",
       "      <td>3</td>\n",
       "      <td>125368</td>\n",
       "      <td>7634.0</td>\n",
       "      <td>0.060893</td>\n",
       "      <td>10.49%</td>\n",
       "      <td>7.70%</td>\n",
       "      <td>-0.309679</td>\n",
       "      <td>7.82%</td>\n",
       "    </tr>\n",
       "  </tbody>\n",
       "</table>\n",
       "</div>"
      ],
      "text/plain": [
       "   bucket   total     bads  bad_rate   %bads  %goods       woe   %base\n",
       "0       1  624015  24709.0  0.039597  33.96%  39.18%  0.143110  38.95%\n",
       "1       2  852889  40420.0  0.047392  55.55%  53.12% -0.044741  53.23%\n",
       "2       3  125368   7634.0  0.060893  10.49%   7.70% -0.309679   7.82%"
      ]
     },
     "execution_count": 29,
     "metadata": {},
     "output_type": "execute_result"
    }
   ],
   "source": [
    "from sklearn.metrics import roc_auc_score\n",
    "\n",
    "iv_df1 = iv_df(df=df_model,target = TARGET, cluster_num = 'GSPN_GROUP')\n",
    "\n",
    "print(\"IV Value: \",format(np.sum(iv_df1[\"IV\"])))\n",
    "print(\"GINI Value: \", '{0:.2%}'.format(np.absolute(2*roc_auc_score(df_temp[TARGET],df_temp['GSPN_GROUP'])-1)))\n",
    "\n",
    "iv_df1[['bucket', 'total','bads','bad_rate','%bads', '%goods','woe','%base']]"
   ]
  },
  {
   "cell_type": "markdown",
   "metadata": {},
   "source": [
    "### MOM Gini (Aproved Base)"
   ]
  },
  {
   "cell_type": "code",
   "execution_count": 30,
   "metadata": {},
   "outputs": [],
   "source": [
    "gini_dic = {}\n",
    "predictor_list = []\n",
    "target_variable = TARGET\n",
    "for x in df_temp[\"MONTH\"].unique():\n",
    "    try:\n",
    "        if \"MONTH\" not in gini_dic:\n",
    "            gini_dic[\"MONTH\"] = []\n",
    "        if \"OLD_GSPN\" not in gini_dic: \n",
    "            gini_dic[\"OLD_GSPN\"] = []\n",
    "        if \"NEW_GSPN\" not in gini_dic: \n",
    "            gini_dic[\"NEW_GSPN\"] = []\n",
    "        \n",
    "        gini_dic[\"OLD_GSPN\"].append((2*roc_auc_score(df_temp[df_temp[\"MONTH\"]==x][target_variable],df_temp[df_temp[\"MONTH\"]==x][OLD_GSPN_SCORE])-1)*100)\n",
    "        gini_dic[\"NEW_GSPN\"].append((2*roc_auc_score(df_temp[df_temp[\"MONTH\"]==x][target_variable],df_temp[df_temp[\"MONTH\"]==x][\"GSPN_GROUP\"])-1)*100)\n",
    "        gini_dic[\"MONTH\"].append(x)\n",
    "    except: \n",
    "        print(\"ERROR\")\n",
    "\n",
    "gini_df = pd.DataFrame(gini_dic)\n",
    "gini_df.sort_values(by = \"MONTH\",inplace = True)\n",
    "gini_df.reset_index(inplace = True)"
   ]
  },
  {
   "cell_type": "code",
   "execution_count": 31,
   "metadata": {},
   "outputs": [
    {
     "data": {
      "image/png": "[encoded data removed]",
      "text/plain": [
       "<Figure size 720x360 with 1 Axes>"
      ]
     },
     "metadata": {
      "needs_background": "light"
     },
     "output_type": "display_data"
    }
   ],
   "source": [
    "import matplotlib.pyplot as plt\n",
    "fig = plt.figure(figsize = (10,5))\n",
    "ax1 = fig.add_subplot(1, 1, 1)\n",
    "ax1.plot(gini_df[\"MONTH\"],gini_df[\"OLD_GSPN\"], marker='o', scaley = False, label = \"OLD_GSPN\")\n",
    "ax1.plot(gini_df[\"MONTH\"],gini_df[\"NEW_GSPN\"], marker='o', scaley = False, label = \"NEW_GSPN\")\n",
    "# ax1.plot(gini_df[\"MONTH_STR\"],gini_df[combined_score_only_fnf_flag], marker='o', scaley = False, label = combined_score_only_fnf_flag)\n",
    "# for y in predictor_list:\n",
    "#     ax1.plot(gini_df[\"MONTH_STR\"],gini_df[y], marker='o', scaley = False, label = y)\n",
    "\n",
    "\n",
    "for i, txt in enumerate(gini_df[\"OLD_GSPN\"]):\n",
    "    plt.annotate(\"{:.1f}\".format(txt), (gini_df[\"MONTH\"][i], gini_df[\"OLD_GSPN\"][i]-0.8))\n",
    "for i, txt in enumerate(gini_df[\"NEW_GSPN\"]):\n",
    "    plt.annotate(\"{:.1f}\".format(txt), (gini_df[\"MONTH\"][i], gini_df[\"NEW_GSPN\"][i]+1.2))\n",
    "    \n",
    "# for i, txt in enumerate(gini_df[combined_score_only_fnf_flag]):\n",
    "#     plt.annotate(\"{:.1f}\".format(txt), (gini_df[\"MONTH_STR\"][i], gini_df[combined_score_only_fnf_flag][i]+1.6))\n",
    "\n",
    "# for y in predictor_list:\n",
    "#     for i, txt in enumerate(gini_df[y]):\n",
    "#         plt.annotate(\"{:.1f}\".format(txt), (gini_df[\"MONTH_STR\"][i], gini_df[y][i]+1))\n",
    "\n",
    "    \n",
    "plt.legend(loc='lower right', borderaxespad=0.1)\n",
    "plt.ylim(0,18)\n",
    "plt.ylabel(\"GINI\")\n",
    "plt.xlabel(\"MONTH\")\n",
    "plt.yticks(np.arange(0,18,2))\n",
    "ax1.set_title(\"MOM Gini (Approved) With Risk Predictors:\")\n",
    "plt.show()"
   ]
  },
  {
   "cell_type": "markdown",
   "metadata": {},
   "source": [
    "### MOM Gini (Phantomas Base)"
   ]
  },
  {
   "cell_type": "code",
   "execution_count": 32,
   "metadata": {},
   "outputs": [],
   "source": [
    "df_temp = df_model.dropna(subset = [OLD_GSPN_SCORE])\n",
    "df_temp = df_temp[df_temp[PHANTOMAS_FLAG]==1.0  ]\n",
    "gini_dic = {}\n",
    "predictor_list = []\n",
    "target_variable = TARGET\n",
    "for x in df_temp[\"MONTH\"].unique():\n",
    "    try:\n",
    "        if \"MONTH\" not in gini_dic:\n",
    "            gini_dic[\"MONTH\"] = []\n",
    "        if \"OLD_GSPN\" not in gini_dic: \n",
    "            gini_dic[\"OLD_GSPN\"] = []\n",
    "        if \"NEW_GSPN\" not in gini_dic: \n",
    "            gini_dic[\"NEW_GSPN\"] = []\n",
    "        \n",
    "        gini_dic[\"OLD_GSPN\"].append((2*roc_auc_score(df_temp[df_temp[\"MONTH\"]==x][target_variable],df_temp[df_temp[\"MONTH\"]==x][OLD_GSPN_SCORE])-1)*100)\n",
    "        gini_dic[\"NEW_GSPN\"].append((2*roc_auc_score(df_temp[df_temp[\"MONTH\"]==x][target_variable],df_temp[df_temp[\"MONTH\"]==x][\"GSPN_GROUP\"])-1)*100)\n",
    "        gini_dic[\"MONTH\"].append(x)\n",
    "    except: \n",
    "        print(\"ERROR\")\n",
    "\n",
    "gini_df = pd.DataFrame(gini_dic)\n",
    "gini_df.sort_values(by = \"MONTH\",inplace = True)\n",
    "gini_df.reset_index(inplace = True)"
   ]
  },
  {
   "cell_type": "code",
   "execution_count": 33,
   "metadata": {},
   "outputs": [
    {
     "data": {
      "image/png": "[encoded data removed]",
      "text/plain": [
       "<Figure size 720x360 with 1 Axes>"
      ]
     },
     "metadata": {
      "needs_background": "light"
     },
     "output_type": "display_data"
    }
   ],
   "source": [
    "import matplotlib.pyplot as plt\n",
    "fig = plt.figure(figsize = (10,5))\n",
    "ax1 = fig.add_subplot(1, 1, 1)\n",
    "ax1.plot(gini_df[\"MONTH\"],gini_df[\"OLD_GSPN\"], marker='o', scaley = False, label = \"OLD_GSPN\")\n",
    "ax1.plot(gini_df[\"MONTH\"],gini_df[\"NEW_GSPN\"], marker='o', scaley = False, label = \"NEW_GSPN\")\n",
    "# ax1.plot(gini_df[\"MONTH_STR\"],gini_df[combined_score_only_fnf_flag], marker='o', scaley = False, label = combined_score_only_fnf_flag)\n",
    "# for y in predictor_list:\n",
    "#     ax1.plot(gini_df[\"MONTH_STR\"],gini_df[y], marker='o', scaley = False, label = y)\n",
    "\n",
    "\n",
    "for i, txt in enumerate(gini_df[\"OLD_GSPN\"]):\n",
    "    plt.annotate(\"{:.1f}\".format(txt), (gini_df[\"MONTH\"][i], gini_df[\"OLD_GSPN\"][i]-0.8))\n",
    "for i, txt in enumerate(gini_df[\"NEW_GSPN\"]):\n",
    "    plt.annotate(\"{:.1f}\".format(txt), (gini_df[\"MONTH\"][i], gini_df[\"NEW_GSPN\"][i]+1.2))\n",
    "    \n",
    "# for i, txt in enumerate(gini_df[combined_score_only_fnf_flag]):\n",
    "#     plt.annotate(\"{:.1f}\".format(txt), (gini_df[\"MONTH_STR\"][i], gini_df[combined_score_only_fnf_flag][i]+1.6))\n",
    "\n",
    "# for y in predictor_list:\n",
    "#     for i, txt in enumerate(gini_df[y]):\n",
    "#         plt.annotate(\"{:.1f}\".format(txt), (gini_df[\"MONTH_STR\"][i], gini_df[y][i]+1))\n",
    "\n",
    "    \n",
    "plt.legend(loc='lower right', borderaxespad=0.1)\n",
    "plt.ylim(0,18)\n",
    "plt.ylabel(\"GINI\")\n",
    "plt.xlabel(\"MONTH\")\n",
    "plt.yticks(np.arange(0,18,2))\n",
    "ax1.set_title(\"MOM Gini (Phantomas) With Risk Predictors:\")\n",
    "plt.show()"
   ]
  },
  {
   "cell_type": "code",
   "execution_count": null,
   "metadata": {},
   "outputs": [],
   "source": []
  },
  {
   "cell_type": "markdown",
   "metadata": {},
   "source": [
    "### Population Distribution"
   ]
  },
  {
   "cell_type": "code",
   "execution_count": 34,
   "metadata": {},
   "outputs": [],
   "source": [
    "df_temp = df_model.dropna(subset = [OLD_GSPN_SCORE])"
   ]
  },
  {
   "cell_type": "code",
   "execution_count": 35,
   "metadata": {},
   "outputs": [
    {
     "name": "stderr",
     "output_type": "stream",
     "text": [
      "C:\\Users\\aman.khatri91425\\AppData\\Local\\Continuum\\anaconda3\\lib\\site-packages\\pandas\\core\\frame.py:4303: SettingWithCopyWarning: \n",
      "A value is trying to be set on a copy of a slice from a DataFrame\n",
      "\n",
      "See the caveats in the documentation: https://pandas.pydata.org/pandas-docs/stable/user_guide/indexing.html#returning-a-view-versus-a-copy\n",
      "  errors=errors,\n"
     ]
    }
   ],
   "source": [
    "df_temp.rename(columns = {OLD_GSPN_SCORE:\"OLD_GSPN\",\"GSPN_GROUP\":\"NEW_GSPN\"}, inplace = True)\n",
    "\n",
    "df_summ_old = pd.DataFrame(df_temp.groupby([\"MONTH\",\"OLD_GSPN\"])[\"SKP_CREDIT_CASE\"].count()).reset_index()\n",
    "df_summ_old = df_summ_old.pivot(\"MONTH\",\"OLD_GSPN\",\"SKP_CREDIT_CASE\")\n",
    "df_summ_old.columns = ['OLD_GSPN_' + str(x) for x in df_summ_old.columns]\n",
    "\n",
    "for x in df_summ_old.index:\n",
    "    tmp = df_summ_old.loc[x,].sum()\n",
    "    for y in df_summ_old.columns:\n",
    "        df_summ_old.loc[x,y] = round(df_summ_old.loc[x,y]/tmp*100,1)\n",
    "\n",
    "df_summ_new = pd.DataFrame(df_temp.groupby([\"MONTH\",\"NEW_GSPN\"])[\"SKP_CREDIT_CASE\"].count()).reset_index()\n",
    "df_summ_new = df_summ_new.pivot(\"MONTH\",\"NEW_GSPN\",\"SKP_CREDIT_CASE\")\n",
    "df_summ_new.columns = ['NEW_GSPN_' + str(x) for x in df_summ_new.columns]\n",
    "\n",
    "for x in df_summ_new.index:\n",
    "    tmp = df_summ_new.loc[x,].sum()\n",
    "    for y in df_summ_new.columns:\n",
    "        df_summ_new.loc[x,y] = round(df_summ_new.loc[x,y]/tmp*100,1)\n",
    "\n",
    "df_summ_all = df_summ_old.merge(df_summ_new, left_index = True, right_index = True)"
   ]
  },
  {
   "cell_type": "code",
   "execution_count": 36,
   "metadata": {},
   "outputs": [
    {
     "data": {
      "text/plain": [
       "<matplotlib.legend.Legend at 0x21896bd4a90>"
      ]
     },
     "execution_count": 36,
     "metadata": {},
     "output_type": "execute_result"
    },
    {
     "data": {
      "image/png": "[encoded data removed]",
      "text/plain": [
       "<Figure size 720x360 with 1 Axes>"
      ]
     },
     "metadata": {
      "needs_background": "light"
     },
     "output_type": "display_data"
    }
   ],
   "source": [
    "plt.figure(figsize=(10,5))\n",
    "plt.plot(df_summ_new[\"NEW_GSPN_1\"], color = 'b',label=\"NEW_GSPN_1\")\n",
    "plt.plot(df_summ_old[\"OLD_GSPN_1.0\"],linestyle='--', color = 'b',label=\"OLD_GSPN_1\")\n",
    "\n",
    "plt.plot(df_summ_new[\"NEW_GSPN_2\"], color = 'r',label=\"NEW_GSPN_2\")\n",
    "plt.plot(df_summ_old[\"OLD_GSPN_2.0\"],linestyle='--', color = 'r',label=\"OLD_GSPN_2\")\n",
    "\n",
    "plt.plot(df_summ_new[\"NEW_GSPN_3\"], color = 'g',label=\"NEW_GSPN_3\")\n",
    "plt.plot(df_summ_old[\"OLD_GSPN_3.0\"],linestyle='--', color = 'g',label=\"OLD_GSPN_3\")\n",
    "\n",
    "plt.title('Population Distribution',fontsize=25)\n",
    "plt.legend()"
   ]
  },
  {
   "cell_type": "code",
   "execution_count": null,
   "metadata": {},
   "outputs": [],
   "source": []
  },
  {
   "cell_type": "code",
   "execution_count": null,
   "metadata": {},
   "outputs": [],
   "source": []
  },
  {
   "cell_type": "markdown",
   "metadata": {},
   "source": [
    "### Deinquency Rate"
   ]
  },
  {
   "cell_type": "code",
   "execution_count": 109,
   "metadata": {},
   "outputs": [
    {
     "name": "stderr",
     "output_type": "stream",
     "text": [
      "C:\\Users\\aman.khatri91425\\AppData\\Local\\Continuum\\anaconda3\\lib\\site-packages\\ipykernel_launcher.py:1: FutureWarning: Indexing with multiple keys (implicitly converted to a tuple of keys) will be deprecated, use a list instead.\n",
      "  \"\"\"Entry point for launching an IPython kernel.\n"
     ]
    }
   ],
   "source": [
    "df_summ_old = pd.DataFrame(df_temp.groupby([\"MONTH\",\"OLD_GSPN\"])[TARGET,AGRF_FLAG].sum()).reset_index()\n",
    "df_summ_old[TARGET+\"_%\"] = round(df_summ_old[TARGET]/df_summ_old[AGRF_FLAG],3)\n",
    "df_summ_old = df_summ_old.pivot(\"MONTH\",\"OLD_GSPN\",TARGET+\"_%\")\n",
    "df_summ_old.columns = ['OLD_GSPN_' + str(x) for x in df_summ_old.columns]"
   ]
  },
  {
   "cell_type": "code",
   "execution_count": 110,
   "metadata": {},
   "outputs": [
    {
     "name": "stderr",
     "output_type": "stream",
     "text": [
      "C:\\Users\\aman.khatri91425\\AppData\\Local\\Continuum\\anaconda3\\lib\\site-packages\\ipykernel_launcher.py:1: FutureWarning: Indexing with multiple keys (implicitly converted to a tuple of keys) will be deprecated, use a list instead.\n",
      "  \"\"\"Entry point for launching an IPython kernel.\n"
     ]
    }
   ],
   "source": [
    "df_summ_new = pd.DataFrame(df_temp.groupby([\"MONTH\",\"NEW_GSPN\"])[TARGET,AGRF_FLAG].sum()).reset_index()\n",
    "df_summ_new[TARGET+\"_%\"] = round(df_summ_new[TARGET]/df_summ_new[AGRF_FLAG],3)\n",
    "df_summ_new = df_summ_new.pivot(\"MONTH\",\"NEW_GSPN\",TARGET+\"_%\")\n",
    "df_summ_new.columns = ['NEW_GSPN_' + str(x) for x in df_summ_new.columns]\n"
   ]
  },
  {
   "cell_type": "code",
   "execution_count": 111,
   "metadata": {},
   "outputs": [],
   "source": [
    "df_summ_all = df_summ_old.merge(df_summ_new, left_index = True, right_index = True)"
   ]
  },
  {
   "cell_type": "code",
   "execution_count": 133,
   "metadata": {},
   "outputs": [
    {
     "data": {
      "text/plain": [
       "<matplotlib.legend.Legend at 0x1d790e8fb70>"
      ]
     },
     "execution_count": 133,
     "metadata": {},
     "output_type": "execute_result"
    },
    {
     "data": {
      "image/png": "[encoded data removed]",
      "text/plain": [
       "<Figure size 720x360 with 1 Axes>"
      ]
     },
     "metadata": {
      "needs_background": "light"
     },
     "output_type": "display_data"
    }
   ],
   "source": [
    "plt.figure(figsize=(10,5))\n",
    "plt.plot(df_summ_new[\"NEW_GSPN_1\"], color = 'b',label=\"NEW_GSPN_1\")\n",
    "plt.plot(df_summ_old[\"OLD_GSPN_1.0\"],linestyle='--', color = 'b',label=\"OLD_GSPN_1\")\n",
    "\n",
    "plt.plot(df_summ_new[\"NEW_GSPN_2\"], color = 'r',label=\"NEW_GSPN_2\")\n",
    "plt.plot(df_summ_old[\"OLD_GSPN_2.0\"],linestyle='--', color = 'r',label=\"OLD_GSPN_2\")\n",
    "\n",
    "plt.plot(df_summ_new[\"NEW_GSPN_3\"], color = 'g',label=\"NEW_GSPN_3\")\n",
    "plt.plot(df_summ_old[\"OLD_GSPN_3.0\"],linestyle='--', color = 'g',label=\"OLD_GSPN_3\")\n",
    "\n",
    "plt.title('Delinquency Rate')\n",
    "plt.legend()"
   ]
  },
  {
   "cell_type": "markdown",
   "metadata": {},
   "source": [
    "### MOM Predictor value trend"
   ]
  },
  {
   "cell_type": "code",
   "execution_count": 128,
   "metadata": {},
   "outputs": [],
   "source": [
    "df_summ = df_temp.groupby('MONTH')[x_columns].mean()"
   ]
  },
  {
   "cell_type": "code",
   "execution_count": 131,
   "metadata": {},
   "outputs": [],
   "source": [
    "x_columns1 = ['RISK_FPD30_RATE',\n",
    " 'RISK_FSPD30_RATE',\n",
    " 'RISK_FSTPD30_RATE',\n",
    " 'RISK_FSTQPD30_RATE',\n",
    " 'COMBINED_SCORE_KNN_EXI',\n",
    " 'COMBINED_SCORE_KNN_NTC',\n",
    " 'AP_POS_TYPE',\n",
    " 'Aldi_POS_TYPE',\n",
    " 'Satellite_POS_TYPE',\n",
    " 'UDAAN_POS_TYPE']"
   ]
  },
  {
   "cell_type": "code",
   "execution_count": 132,
   "metadata": {},
   "outputs": [
    {
     "data": {
      "text/plain": [
       "<matplotlib.legend.Legend at 0x1d790dca198>"
      ]
     },
     "execution_count": 132,
     "metadata": {},
     "output_type": "execute_result"
    },
    {
     "data": {
      "image/png": "[encoded data removed]",
      "text/plain": [
       "<Figure size 720x360 with 1 Axes>"
      ]
     },
     "metadata": {
      "needs_background": "light"
     },
     "output_type": "display_data"
    }
   ],
   "source": [
    "plt.figure(figsize=(10,5))\n",
    "\n",
    "for x in (x_columns1):\n",
    "    plt.plot(df_summ[x], label=x)\n",
    "\n",
    "plt.title('MOM Predictor value trend')\n",
    "plt.legend()"
   ]
  },
  {
   "cell_type": "code",
   "execution_count": null,
   "metadata": {},
   "outputs": [],
   "source": []
  },
  {
   "cell_type": "markdown",
   "metadata": {},
   "source": [
    "### Shift Analysis"
   ]
  },
  {
   "cell_type": "code",
   "execution_count": 113,
   "metadata": {},
   "outputs": [
    {
     "name": "stdout",
     "output_type": "stream",
     "text": [
      "TOTAL CASE COUNT\n"
     ]
    },
    {
     "data": {
      "text/html": [
       "<div>\n",
       "<style scoped>\n",
       "    .dataframe tbody tr th:only-of-type {\n",
       "        vertical-align: middle;\n",
       "    }\n",
       "\n",
       "    .dataframe tbody tr th {\n",
       "        vertical-align: top;\n",
       "    }\n",
       "\n",
       "    .dataframe thead th {\n",
       "        text-align: right;\n",
       "    }\n",
       "</style>\n",
       "<table border=\"1\" class=\"dataframe\">\n",
       "  <thead>\n",
       "    <tr style=\"text-align: right;\">\n",
       "      <th>NEW_GSPN</th>\n",
       "      <th>1</th>\n",
       "      <th>2</th>\n",
       "      <th>3</th>\n",
       "    </tr>\n",
       "    <tr>\n",
       "      <th>OLD_GSPN</th>\n",
       "      <th></th>\n",
       "      <th></th>\n",
       "      <th></th>\n",
       "    </tr>\n",
       "  </thead>\n",
       "  <tbody>\n",
       "    <tr>\n",
       "      <th>1.0</th>\n",
       "      <td>442144.0</td>\n",
       "      <td>166119.0</td>\n",
       "      <td>3820.0</td>\n",
       "    </tr>\n",
       "    <tr>\n",
       "      <th>2.0</th>\n",
       "      <td>164167.0</td>\n",
       "      <td>572426.0</td>\n",
       "      <td>70447.0</td>\n",
       "    </tr>\n",
       "    <tr>\n",
       "      <th>3.0</th>\n",
       "      <td>5747.0</td>\n",
       "      <td>68498.0</td>\n",
       "      <td>38917.0</td>\n",
       "    </tr>\n",
       "    <tr>\n",
       "      <th>8.0</th>\n",
       "      <td>NaN</td>\n",
       "      <td>1.0</td>\n",
       "      <td>NaN</td>\n",
       "    </tr>\n",
       "  </tbody>\n",
       "</table>\n",
       "</div>"
      ],
      "text/plain": [
       "NEW_GSPN         1         2        3\n",
       "OLD_GSPN                             \n",
       "1.0       442144.0  166119.0   3820.0\n",
       "2.0       164167.0  572426.0  70447.0\n",
       "3.0         5747.0   68498.0  38917.0\n",
       "8.0            NaN       1.0      NaN"
      ]
     },
     "execution_count": 113,
     "metadata": {},
     "output_type": "execute_result"
    }
   ],
   "source": [
    "df_summ = df_temp.groupby([\"OLD_GSPN\",\"NEW_GSPN\"])[\"SKP_CREDIT_CASE\"].count().reset_index()\n",
    "\n",
    "print(\"TOTAL CASE COUNT\")\n",
    "df_summ.pivot(index=\"OLD_GSPN\",columns = \"NEW_GSPN\", values=\"SKP_CREDIT_CASE\")"
   ]
  },
  {
   "cell_type": "code",
   "execution_count": 114,
   "metadata": {},
   "outputs": [
    {
     "name": "stdout",
     "output_type": "stream",
     "text": [
      "% Cases\n"
     ]
    },
    {
     "data": {
      "text/html": [
       "<div>\n",
       "<style scoped>\n",
       "    .dataframe tbody tr th:only-of-type {\n",
       "        vertical-align: middle;\n",
       "    }\n",
       "\n",
       "    .dataframe tbody tr th {\n",
       "        vertical-align: top;\n",
       "    }\n",
       "\n",
       "    .dataframe thead th {\n",
       "        text-align: right;\n",
       "    }\n",
       "</style>\n",
       "<table border=\"1\" class=\"dataframe\">\n",
       "  <thead>\n",
       "    <tr style=\"text-align: right;\">\n",
       "      <th>NEW_GSPN</th>\n",
       "      <th>1</th>\n",
       "      <th>2</th>\n",
       "      <th>3</th>\n",
       "    </tr>\n",
       "    <tr>\n",
       "      <th>OLD_GSPN</th>\n",
       "      <th></th>\n",
       "      <th></th>\n",
       "      <th></th>\n",
       "    </tr>\n",
       "  </thead>\n",
       "  <tbody>\n",
       "    <tr>\n",
       "      <th>1.0</th>\n",
       "      <td>29.0</td>\n",
       "      <td>11.0</td>\n",
       "      <td>0.0</td>\n",
       "    </tr>\n",
       "    <tr>\n",
       "      <th>2.0</th>\n",
       "      <td>11.0</td>\n",
       "      <td>37.0</td>\n",
       "      <td>5.0</td>\n",
       "    </tr>\n",
       "    <tr>\n",
       "      <th>3.0</th>\n",
       "      <td>0.0</td>\n",
       "      <td>4.0</td>\n",
       "      <td>3.0</td>\n",
       "    </tr>\n",
       "    <tr>\n",
       "      <th>8.0</th>\n",
       "      <td>NaN</td>\n",
       "      <td>0.0</td>\n",
       "      <td>NaN</td>\n",
       "    </tr>\n",
       "  </tbody>\n",
       "</table>\n",
       "</div>"
      ],
      "text/plain": [
       "NEW_GSPN     1     2    3\n",
       "OLD_GSPN                 \n",
       "1.0       29.0  11.0  0.0\n",
       "2.0       11.0  37.0  5.0\n",
       "3.0        0.0   4.0  3.0\n",
       "8.0        NaN   0.0  NaN"
      ]
     },
     "execution_count": 114,
     "metadata": {},
     "output_type": "execute_result"
    }
   ],
   "source": [
    "df_summ[\"CASE_%\"] = round(df_summ[\"SKP_CREDIT_CASE\"]/(df_summ[\"SKP_CREDIT_CASE\"].sum())*100,0)\n",
    "\n",
    "print(\"% Cases\")\n",
    "df_summ.pivot(index=\"OLD_GSPN\",columns = \"NEW_GSPN\", values=\"CASE_%\")"
   ]
  },
  {
   "cell_type": "code",
   "execution_count": 116,
   "metadata": {
    "scrolled": true
   },
   "outputs": [
    {
     "name": "stdout",
     "output_type": "stream",
     "text": [
      "RISK_FSTQPD60_%\n"
     ]
    },
    {
     "data": {
      "text/html": [
       "<div>\n",
       "<style scoped>\n",
       "    .dataframe tbody tr th:only-of-type {\n",
       "        vertical-align: middle;\n",
       "    }\n",
       "\n",
       "    .dataframe tbody tr th {\n",
       "        vertical-align: top;\n",
       "    }\n",
       "\n",
       "    .dataframe thead th {\n",
       "        text-align: right;\n",
       "    }\n",
       "</style>\n",
       "<table border=\"1\" class=\"dataframe\">\n",
       "  <thead>\n",
       "    <tr style=\"text-align: right;\">\n",
       "      <th>NEW_GSPN</th>\n",
       "      <th>1</th>\n",
       "      <th>2</th>\n",
       "      <th>3</th>\n",
       "    </tr>\n",
       "    <tr>\n",
       "      <th>OLD_GSPN</th>\n",
       "      <th></th>\n",
       "      <th></th>\n",
       "      <th></th>\n",
       "    </tr>\n",
       "  </thead>\n",
       "  <tbody>\n",
       "    <tr>\n",
       "      <th>1.0</th>\n",
       "      <td>4.16</td>\n",
       "      <td>4.87</td>\n",
       "      <td>4.93</td>\n",
       "    </tr>\n",
       "    <tr>\n",
       "      <th>2.0</th>\n",
       "      <td>4.62</td>\n",
       "      <td>5.42</td>\n",
       "      <td>7.22</td>\n",
       "    </tr>\n",
       "    <tr>\n",
       "      <th>3.0</th>\n",
       "      <td>5.14</td>\n",
       "      <td>6.34</td>\n",
       "      <td>8.01</td>\n",
       "    </tr>\n",
       "    <tr>\n",
       "      <th>8.0</th>\n",
       "      <td>NaN</td>\n",
       "      <td>0.00</td>\n",
       "      <td>NaN</td>\n",
       "    </tr>\n",
       "  </tbody>\n",
       "</table>\n",
       "</div>"
      ],
      "text/plain": [
       "NEW_GSPN     1     2     3\n",
       "OLD_GSPN                  \n",
       "1.0       4.16  4.87  4.93\n",
       "2.0       4.62  5.42  7.22\n",
       "3.0       5.14  6.34  8.01\n",
       "8.0        NaN  0.00   NaN"
      ]
     },
     "execution_count": 116,
     "metadata": {},
     "output_type": "execute_result"
    }
   ],
   "source": [
    "df_summ = df_temp.groupby([\"OLD_GSPN\",\"NEW_GSPN\"])[[AGRF_FLAG,TARGET]].sum().reset_index()\n",
    "\n",
    "df_summ[TARGET+\"_%\"] = round(df_summ[TARGET]/df_summ[AGRF_FLAG]*100,2)\n",
    "\n",
    "print(TARGET+\"_%\")\n",
    "df_summ.pivot(index=\"OLD_GSPN\",columns = \"NEW_GSPN\", values=TARGET+\"_%\")"
   ]
  },
  {
   "cell_type": "code",
   "execution_count": null,
   "metadata": {},
   "outputs": [],
   "source": []
  },
  {
   "cell_type": "markdown",
   "metadata": {},
   "source": [
    "# Define Cutoffs Based on WOE"
   ]
  },
  {
   "cell_type": "code",
   "execution_count": 117,
   "metadata": {},
   "outputs": [],
   "source": [
    "import sys\n",
    "sys.path.append(r\"C:\\Users\\aman.khatri91425\\Desktop\\HomeCredit\\UW\\Scoring Workflow\")"
   ]
  },
  {
   "cell_type": "code",
   "execution_count": 120,
   "metadata": {},
   "outputs": [
    {
     "name": "stderr",
     "output_type": "stream",
     "text": [
      "C:\\Users\\aman.khatri91425\\AppData\\Local\\Continuum\\anaconda3\\lib\\site-packages\\ipykernel_launcher.py:9: FutureWarning: The pandas.datetime class is deprecated and will be removed from pandas in a future version. Import from datetime module instead.\n",
      "  if __name__ == '__main__':\n"
     ]
    },
    {
     "data": {
      "application/vnd.jupyter.widget-view+json": {
       "model_id": "08bb8f0391cb4f13aa02673500494c86",
       "version_major": 2,
       "version_minor": 0
      },
      "text/plain": [
       "HBox(children=(FloatProgress(value=0.0, max=1.0), HTML(value='')))"
      ]
     },
     "metadata": {},
     "output_type": "display_data"
    },
    {
     "name": "stdout",
     "output_type": "stream",
     "text": [
      "\n"
     ]
    },
    {
     "data": {
      "text/plain": [
       "'Grouping saved on 2020-12-17 16:09:22 to file myGrouping'"
      ]
     },
     "metadata": {},
     "output_type": "display_data"
    },
    {
     "data": {
      "application/vnd.jupyter.widget-view+json": {
       "model_id": "7d108ea084e846109a4e3e12fa032eb9",
       "version_major": 2,
       "version_minor": 0
      },
      "text/plain": [
       "HBox(children=(FloatProgress(value=0.0, max=1.0), HTML(value='')))"
      ]
     },
     "metadata": {},
     "output_type": "display_data"
    },
    {
     "name": "stdout",
     "output_type": "stream",
     "text": [
      "\n"
     ]
    }
   ],
   "source": [
    "from scoring.grouping import Grouping\n",
    "\n",
    "grouping = Grouping(columns = [\"GSPN_SCORE\"],\n",
    "                    cat_columns = [],\n",
    "                    group_count=3, \n",
    "                    min_samples=1000, \n",
    "                    min_samples_cat=1000)\n",
    "\n",
    "train_mask =  pd.Series(data =np.where((df_model.TIME_CREATION_DATE >= pd.datetime(2019,1,1))& (df_model.TIME_CREATION_DATE <= pd.datetime(2019,6,30)),True,False),index=df_model.index) \n",
    "\n",
    "grouping.fit(df_model[train_mask][[\"GSPN_SCORE\"]],\n",
    "             df_model[train_mask][TARGET],\n",
    "#             w=df_model[train_mask],\n",
    "            progress_bar=True, category_limit=10000);\n",
    "\n",
    "model_filename = 'myGrouping'\n",
    "grouping.save(model_filename)\n",
    "\n",
    "df_model[\"GSPN_WOE\"] = grouping.transform(df_model[[\"GSPN_SCORE\"]], transform_to='woe', progress_bar=True)"
   ]
  },
  {
   "cell_type": "code",
   "execution_count": 121,
   "metadata": {},
   "outputs": [
    {
     "data": {
      "text/markdown": [
       "***"
      ],
      "text/plain": [
       "<IPython.core.display.Markdown object>"
      ]
     },
     "metadata": {},
     "output_type": "display_data"
    },
    {
     "data": {
      "text/markdown": [
       "### GSPN_SCORE"
      ],
      "text/plain": [
       "<IPython.core.display.Markdown object>"
      ]
     },
     "metadata": {},
     "output_type": "display_data"
    },
    {
     "data": {
      "text/html": [
       "<div>\n",
       "<style scoped>\n",
       "    .dataframe tbody tr th:only-of-type {\n",
       "        vertical-align: middle;\n",
       "    }\n",
       "\n",
       "    .dataframe tbody tr th {\n",
       "        vertical-align: top;\n",
       "    }\n",
       "\n",
       "    .dataframe thead th {\n",
       "        text-align: right;\n",
       "    }\n",
       "</style>\n",
       "<table border=\"1\" class=\"dataframe\">\n",
       "  <thead>\n",
       "    <tr style=\"text-align: right;\">\n",
       "      <th></th>\n",
       "      <th>CNT_TOTAL</th>\n",
       "      <th>CNT_DEF</th>\n",
       "      <th>DEF_RATE</th>\n",
       "      <th>DIST_BAD</th>\n",
       "      <th>DIST_GOOD</th>\n",
       "      <th>WOE</th>\n",
       "      <th>WOE_check</th>\n",
       "      <th>SHARE</th>\n",
       "    </tr>\n",
       "    <tr>\n",
       "      <th>BIN_GSPN_SCORE</th>\n",
       "      <th></th>\n",
       "      <th></th>\n",
       "      <th></th>\n",
       "      <th></th>\n",
       "      <th></th>\n",
       "      <th></th>\n",
       "      <th></th>\n",
       "      <th></th>\n",
       "    </tr>\n",
       "  </thead>\n",
       "  <tbody>\n",
       "    <tr>\n",
       "      <th>[-inf, 0.07335)</th>\n",
       "      <td>174063.0</td>\n",
       "      <td>6567.0</td>\n",
       "      <td>0.0377</td>\n",
       "      <td>0.1927</td>\n",
       "      <td>0.2486</td>\n",
       "      <td>0.2493</td>\n",
       "      <td>0.2550</td>\n",
       "      <td>0.2459</td>\n",
       "    </tr>\n",
       "    <tr>\n",
       "      <th>[0.07335, 0.09355)</th>\n",
       "      <td>360343.0</td>\n",
       "      <td>16966.0</td>\n",
       "      <td>0.0471</td>\n",
       "      <td>0.4978</td>\n",
       "      <td>0.5097</td>\n",
       "      <td>0.0232</td>\n",
       "      <td>0.0237</td>\n",
       "      <td>0.5091</td>\n",
       "    </tr>\n",
       "    <tr>\n",
       "      <th>[0.09355, inf)</th>\n",
       "      <td>173383.0</td>\n",
       "      <td>10552.0</td>\n",
       "      <td>0.0609</td>\n",
       "      <td>0.3096</td>\n",
       "      <td>0.2417</td>\n",
       "      <td>-0.2433</td>\n",
       "      <td>-0.2475</td>\n",
       "      <td>0.2450</td>\n",
       "    </tr>\n",
       "    <tr>\n",
       "      <th>nan</th>\n",
       "      <td>0.0</td>\n",
       "      <td>0.0</td>\n",
       "      <td>NaN</td>\n",
       "      <td>0.0000</td>\n",
       "      <td>0.0000</td>\n",
       "      <td>NaN</td>\n",
       "      <td>-2.9839</td>\n",
       "      <td>0.0000</td>\n",
       "    </tr>\n",
       "  </tbody>\n",
       "</table>\n",
       "</div>"
      ],
      "text/plain": [
       "                    CNT_TOTAL  CNT_DEF  DEF_RATE  DIST_BAD  DIST_GOOD     WOE  \\\n",
       "BIN_GSPN_SCORE                                                                  \n",
       "[-inf, 0.07335)      174063.0   6567.0    0.0377    0.1927     0.2486  0.2493   \n",
       "[0.07335, 0.09355)   360343.0  16966.0    0.0471    0.4978     0.5097  0.0232   \n",
       "[0.09355, inf)       173383.0  10552.0    0.0609    0.3096     0.2417 -0.2433   \n",
       "nan                       0.0      0.0       NaN    0.0000     0.0000     NaN   \n",
       "\n",
       "                    WOE_check   SHARE  \n",
       "BIN_GSPN_SCORE                         \n",
       "[-inf, 0.07335)        0.2550  0.2459  \n",
       "[0.07335, 0.09355)     0.0237  0.5091  \n",
       "[0.09355, inf)        -0.2475  0.2450  \n",
       "nan                   -2.9839  0.0000  "
      ]
     },
     "metadata": {},
     "output_type": "display_data"
    },
    {
     "name": "stdout",
     "output_type": "stream",
     "text": [
      "IV: 0.0314\n",
      "Gini: 9.34\n"
     ]
    },
    {
     "data": {
      "image/png": "[encoded data removed]",
      "text/plain": [
       "<Figure size 720x360 with 2 Axes>"
      ]
     },
     "metadata": {
      "needs_background": "light"
     },
     "output_type": "display_data"
    }
   ],
   "source": [
    "grouping.plot_bins(data=df_model[[\"GSPN_SCORE\",TARGET]], cols_pred_num=['GSPN_SCORE'], cols_pred_cat=[],\n",
    "                    mask=train_mask, col_target=TARGET, output_folder=os.getcwd(), col_weight=None)"
   ]
  },
  {
   "cell_type": "code",
   "execution_count": 122,
   "metadata": {},
   "outputs": [],
   "source": [
    "df_model[\"GSPN_GROUP\"]=np.where(df_model[\"GSPN_SCORE\"]<0.07335, 1,np.where(df_model[\"GSPN_SCORE\"]<0.09355,2,3))"
   ]
  },
  {
   "cell_type": "markdown",
   "metadata": {},
   "source": [
    "# Define GSPN Clusters"
   ]
  },
  {
   "cell_type": "code",
   "execution_count": 124,
   "metadata": {},
   "outputs": [],
   "source": [
    "df_temp = df_model.dropna(subset = [OLD_GSPN_SCORE])"
   ]
  },
  {
   "cell_type": "code",
   "execution_count": 125,
   "metadata": {},
   "outputs": [
    {
     "name": "stdout",
     "output_type": "stream",
     "text": [
      "IV Value:  0.020267720284858712\n",
      "GINI Value:  6.62%\n"
     ]
    },
    {
     "data": {
      "text/html": [
       "<div>\n",
       "<style scoped>\n",
       "    .dataframe tbody tr th:only-of-type {\n",
       "        vertical-align: middle;\n",
       "    }\n",
       "\n",
       "    .dataframe tbody tr th {\n",
       "        vertical-align: top;\n",
       "    }\n",
       "\n",
       "    .dataframe thead th {\n",
       "        text-align: right;\n",
       "    }\n",
       "</style>\n",
       "<table border=\"1\" class=\"dataframe\">\n",
       "  <thead>\n",
       "    <tr style=\"text-align: right;\">\n",
       "      <th></th>\n",
       "      <th>bucket</th>\n",
       "      <th>total</th>\n",
       "      <th>bads</th>\n",
       "      <th>bad_rate</th>\n",
       "      <th>%bads</th>\n",
       "      <th>%goods</th>\n",
       "      <th>woe</th>\n",
       "      <th>%base</th>\n",
       "    </tr>\n",
       "  </thead>\n",
       "  <tbody>\n",
       "    <tr>\n",
       "      <th>0</th>\n",
       "      <td>1.0</td>\n",
       "      <td>284207</td>\n",
       "      <td>11792.0</td>\n",
       "      <td>0.041491</td>\n",
       "      <td>34.60%</td>\n",
       "      <td>40.44%</td>\n",
       "      <td>0.155972</td>\n",
       "      <td>40.15%</td>\n",
       "    </tr>\n",
       "    <tr>\n",
       "      <th>1</th>\n",
       "      <td>2.0</td>\n",
       "      <td>370504</td>\n",
       "      <td>18800.0</td>\n",
       "      <td>0.050742</td>\n",
       "      <td>55.16%</td>\n",
       "      <td>52.20%</td>\n",
       "      <td>-0.055000</td>\n",
       "      <td>52.35%</td>\n",
       "    </tr>\n",
       "    <tr>\n",
       "      <th>2</th>\n",
       "      <td>3.0</td>\n",
       "      <td>52904</td>\n",
       "      <td>3482.0</td>\n",
       "      <td>0.065817</td>\n",
       "      <td>10.22%</td>\n",
       "      <td>7.34%</td>\n",
       "      <td>-0.331145</td>\n",
       "      <td>7.47%</td>\n",
       "    </tr>\n",
       "  </tbody>\n",
       "</table>\n",
       "</div>"
      ],
      "text/plain": [
       "   bucket   total     bads  bad_rate   %bads  %goods       woe   %base\n",
       "0     1.0  284207  11792.0  0.041491  34.60%  40.44%  0.155972  40.15%\n",
       "1     2.0  370504  18800.0  0.050742  55.16%  52.20% -0.055000  52.35%\n",
       "2     3.0   52904   3482.0  0.065817  10.22%   7.34% -0.331145   7.47%"
      ]
     },
     "execution_count": 125,
     "metadata": {},
     "output_type": "execute_result"
    }
   ],
   "source": [
    "from sklearn.metrics import roc_auc_score\n",
    "\n",
    "iv_df1 = iv_df(df=df_model[train_mask],target = TARGET, cluster_num = OLD_GSPN_SCORE)\n",
    "\n",
    "print(\"IV Value: \",format(np.sum(iv_df1[\"IV\"])))\n",
    "print(\"GINI Value: \", '{0:.2%}'.format(np.absolute(2*roc_auc_score(df_temp[TARGET],df_temp[OLD_GSPN_SCORE])-1)))\n",
    "\n",
    "iv_df1[['bucket', 'total','bads','bad_rate','%bads', '%goods','woe','%base']]\n"
   ]
  },
  {
   "cell_type": "code",
   "execution_count": 126,
   "metadata": {},
   "outputs": [
    {
     "name": "stdout",
     "output_type": "stream",
     "text": [
      "IV Value:  0.03103787098554025\n",
      "GINI Value:  8.30%\n"
     ]
    },
    {
     "data": {
      "text/html": [
       "<div>\n",
       "<style scoped>\n",
       "    .dataframe tbody tr th:only-of-type {\n",
       "        vertical-align: middle;\n",
       "    }\n",
       "\n",
       "    .dataframe tbody tr th {\n",
       "        vertical-align: top;\n",
       "    }\n",
       "\n",
       "    .dataframe thead th {\n",
       "        text-align: right;\n",
       "    }\n",
       "</style>\n",
       "<table border=\"1\" class=\"dataframe\">\n",
       "  <thead>\n",
       "    <tr style=\"text-align: right;\">\n",
       "      <th></th>\n",
       "      <th>bucket</th>\n",
       "      <th>total</th>\n",
       "      <th>bads</th>\n",
       "      <th>bad_rate</th>\n",
       "      <th>%bads</th>\n",
       "      <th>%goods</th>\n",
       "      <th>woe</th>\n",
       "      <th>%base</th>\n",
       "    </tr>\n",
       "  </thead>\n",
       "  <tbody>\n",
       "    <tr>\n",
       "      <th>0</th>\n",
       "      <td>1</td>\n",
       "      <td>174179</td>\n",
       "      <td>6573.0</td>\n",
       "      <td>0.037737</td>\n",
       "      <td>19.28%</td>\n",
       "      <td>24.88%</td>\n",
       "      <td>0.254712</td>\n",
       "      <td>24.61%</td>\n",
       "    </tr>\n",
       "    <tr>\n",
       "      <th>1</th>\n",
       "      <td>2</td>\n",
       "      <td>360399</td>\n",
       "      <td>16988.0</td>\n",
       "      <td>0.047137</td>\n",
       "      <td>49.84%</td>\n",
       "      <td>50.97%</td>\n",
       "      <td>0.022487</td>\n",
       "      <td>50.92%</td>\n",
       "    </tr>\n",
       "    <tr>\n",
       "      <th>2</th>\n",
       "      <td>3</td>\n",
       "      <td>173211</td>\n",
       "      <td>10524.0</td>\n",
       "      <td>0.060758</td>\n",
       "      <td>30.88%</td>\n",
       "      <td>24.15%</td>\n",
       "      <td>-0.245764</td>\n",
       "      <td>24.47%</td>\n",
       "    </tr>\n",
       "  </tbody>\n",
       "</table>\n",
       "</div>"
      ],
      "text/plain": [
       "   bucket   total     bads  bad_rate   %bads  %goods       woe   %base\n",
       "0       1  174179   6573.0  0.037737  19.28%  24.88%  0.254712  24.61%\n",
       "1       2  360399  16988.0  0.047137  49.84%  50.97%  0.022487  50.92%\n",
       "2       3  173211  10524.0  0.060758  30.88%  24.15% -0.245764  24.47%"
      ]
     },
     "execution_count": 126,
     "metadata": {},
     "output_type": "execute_result"
    }
   ],
   "source": [
    "from sklearn.metrics import roc_auc_score\n",
    "\n",
    "iv_df1 = iv_df(df=df_model[train_mask],target = TARGET, cluster_num = 'GSPN_GROUP')\n",
    "\n",
    "print(\"IV Value: \",format(np.sum(iv_df1[\"IV\"])))\n",
    "print(\"GINI Value: \", '{0:.2%}'.format(np.absolute(2*roc_auc_score(df_temp[TARGET],df_temp[\"GSPN_GROUP\"])-1)))\n",
    "\n",
    "iv_df1[['bucket', 'total','bads','bad_rate','%bads', '%goods','woe','%base']]"
   ]
  },
  {
   "cell_type": "code",
   "execution_count": null,
   "metadata": {},
   "outputs": [],
   "source": []
  }
 ],
 "metadata": {
  "kernelspec": {
   "display_name": "Python 3",
   "language": "python",
   "name": "python3"
  },
  "language_info": {
   "codemirror_mode": {
    "name": "ipython",
    "version": 3
   },
   "file_extension": ".py",
   "mimetype": "text/x-python",
   "name": "python",
   "nbconvert_exporter": "python",
   "pygments_lexer": "ipython3",
   "version": "3.7.3"
  }
 },
 "nbformat": 4,
 "nbformat_minor": 2
}
