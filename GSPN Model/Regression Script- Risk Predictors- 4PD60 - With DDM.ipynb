{
 "cells": [
  {
   "cell_type": "code",
   "execution_count": 98,
   "metadata": {},
   "outputs": [],
   "source": [
    "import pandas as pd\n",
    "import numpy as np\n",
    "from datetime import datetime as dt\n",
    "from datetime import timedelta\n",
    "from sklearn.linear_model import LogisticRegression\n",
    "from sklearn.metrics import roc_auc_score\n",
    "from sklearn.model_selection import RandomizedSearchCV, train_test_split, StratifiedKFold\n",
    "import os\n",
    "import cx_Oracle\n",
    "import time\n",
    "from scipy.stats import binom\n",
    "os.chdir(r\"C:\\Users\\aman.khatri91425\\Desktop\\HomeCredit\\UW\\GSPN - Summary\")"
   ]
  },
  {
   "cell_type": "markdown",
   "metadata": {},
   "source": [
    "# Read Data"
   ]
  },
  {
   "cell_type": "code",
   "execution_count": 2,
   "metadata": {},
   "outputs": [],
   "source": [
    "# conn = cx_Oracle.connect('HCIN_Jainr1[AP_UWI]','Saber@1989!1','INCL02.IN.PROD/HWIN_USR_DEV.HOMECREDIT.IN')\n",
    "# query = \"\"\"\n",
    "# SELECT\n",
    "# skp_credit_case,\n",
    "# TIME_CREATION_DATE, \n",
    "# c.skp_salesroom,\n",
    "# POS_GSPN_V2, \n",
    "# POS_TYPE,\n",
    "# client_exi_3m,\n",
    "# RISK_FSTQPD30,\n",
    "# RISK_AGRF120, \n",
    "# RISK_FSTPD30,\n",
    "# RISK_AGRF90,\n",
    "# RISK_FSPD30,\n",
    "# RISK_AGRF60, \n",
    "# RISK_FPD30,\n",
    "# RISK_AGRF30,\n",
    "# RISK_FPD10,\n",
    "# RISK_AGRF10,\n",
    "# TIME_DUE_DATE,\n",
    "# RISK_SPD30,\n",
    "# RISK_TPD30,\n",
    "# RISK_4PD30\n",
    "# FROM\n",
    "# AP_UWI.UW_DAILY_DATA_ALL c\n",
    "# where time_Creation_date>= DATE'2018-07-01'\n",
    "# and product_group = 'CD'\n",
    "# and decision_overall = 'Approved'\n",
    "# order by skp_credit_case asc\n",
    "# ;\n",
    "# \"\"\"\n",
    "\n",
    "# data = pd.read_sql(query, conn)\n",
    "# data.to_csv(os.getcwd()+\"\\Data Files\\combined.csv\")"
   ]
  },
  {
   "cell_type": "code",
   "execution_count": 4,
   "metadata": {},
   "outputs": [],
   "source": [
    "df = pd.DataFrame()\n",
    "# for name in [\"export_2018\", \"export_2019_2\", \"export_2020_2\"]:\n",
    "for name in [\"export_2018\", \"export_2019_1\", \"export_2019_2\", \"export_2020_1\", \"export_2020_2\"]:\n",
    "    df = pd.concat([df,pd.read_csv(os.getcwd()+\"/Data Files/\"+ name +\".csv\")])\n",
    "    \n",
    "    \n",
    "df1 = pd.read_csv(os.getcwd()+\"\\Data Files\\combined_phantomas.csv\")\n",
    "\n",
    "df = df.merge(df1, how = 'left', on = 'SKP_CREDIT_CASE')\n",
    "\n",
    "df.to_csv(os.getcwd()+\"\\Data Files\\combined.csv\")"
   ]
  },
  {
   "cell_type": "markdown",
   "metadata": {},
   "source": [
    "# Format Date Columns"
   ]
  },
  {
   "cell_type": "code",
   "execution_count": 5,
   "metadata": {},
   "outputs": [],
   "source": [
    "df.TIME_CREATION_DATE = pd.to_datetime(df.TIME_CREATION_DATE, format = '%d-%m-%y')\n",
    "df[\"MONTH\"] = df.TIME_CREATION_DATE.dt.strftime(\"%Y-%m\")\n",
    "df.TIME_DUE_DATE = pd.to_datetime(df.TIME_DUE_DATE, format = '%d-%m-%y')"
   ]
  },
  {
   "cell_type": "code",
   "execution_count": 6,
   "metadata": {},
   "outputs": [
    {
     "data": {
      "text/html": [
       "<div>\n",
       "<style scoped>\n",
       "    .dataframe tbody tr th:only-of-type {\n",
       "        vertical-align: middle;\n",
       "    }\n",
       "\n",
       "    .dataframe tbody tr th {\n",
       "        vertical-align: top;\n",
       "    }\n",
       "\n",
       "    .dataframe thead th {\n",
       "        text-align: right;\n",
       "    }\n",
       "</style>\n",
       "<table border=\"1\" class=\"dataframe\">\n",
       "  <thead>\n",
       "    <tr style=\"text-align: right;\">\n",
       "      <th></th>\n",
       "      <th>SKP_CREDIT_CASE</th>\n",
       "      <th>TIME_CREATION_DATE</th>\n",
       "      <th>SKP_SALESROOM</th>\n",
       "      <th>POS_GSPN_V2</th>\n",
       "      <th>POS_TYPE</th>\n",
       "      <th>CLIENT_EXI_3M</th>\n",
       "      <th>RISK_FSTQPD30</th>\n",
       "      <th>RISK_AGRF120</th>\n",
       "      <th>RISK_FSTPD30</th>\n",
       "      <th>RISK_AGRF90</th>\n",
       "      <th>...</th>\n",
       "      <th>TIME_DUE_DATE</th>\n",
       "      <th>RISK_SPD30</th>\n",
       "      <th>RISK_TPD30</th>\n",
       "      <th>RISK_4PD30</th>\n",
       "      <th>Unnamed: 0</th>\n",
       "      <th>PHANTOM_FLAG</th>\n",
       "      <th>FLAG_1PCT_PHANTOM</th>\n",
       "      <th>RISK_FSTQPD60</th>\n",
       "      <th>RISK_AGRF180</th>\n",
       "      <th>MONTH</th>\n",
       "    </tr>\n",
       "  </thead>\n",
       "  <tbody>\n",
       "    <tr>\n",
       "      <th>0</th>\n",
       "      <td>198274875</td>\n",
       "      <td>2018-07-01</td>\n",
       "      <td>119504</td>\n",
       "      <td>NaN</td>\n",
       "      <td>AP</td>\n",
       "      <td>N</td>\n",
       "      <td>0.0</td>\n",
       "      <td>1.0</td>\n",
       "      <td>0.0</td>\n",
       "      <td>1.0</td>\n",
       "      <td>...</td>\n",
       "      <td>2018-08-01</td>\n",
       "      <td>0.0</td>\n",
       "      <td>0.0</td>\n",
       "      <td>0.0</td>\n",
       "      <td>NaN</td>\n",
       "      <td>NaN</td>\n",
       "      <td>NaN</td>\n",
       "      <td>NaN</td>\n",
       "      <td>NaN</td>\n",
       "      <td>2018-07</td>\n",
       "    </tr>\n",
       "    <tr>\n",
       "      <th>1</th>\n",
       "      <td>198274876</td>\n",
       "      <td>2018-07-01</td>\n",
       "      <td>1845809</td>\n",
       "      <td>NaN</td>\n",
       "      <td>AP</td>\n",
       "      <td>N</td>\n",
       "      <td>0.0</td>\n",
       "      <td>0.0</td>\n",
       "      <td>0.0</td>\n",
       "      <td>0.0</td>\n",
       "      <td>...</td>\n",
       "      <td>2000-01-01</td>\n",
       "      <td>0.0</td>\n",
       "      <td>0.0</td>\n",
       "      <td>0.0</td>\n",
       "      <td>NaN</td>\n",
       "      <td>NaN</td>\n",
       "      <td>NaN</td>\n",
       "      <td>NaN</td>\n",
       "      <td>NaN</td>\n",
       "      <td>2018-07</td>\n",
       "    </tr>\n",
       "    <tr>\n",
       "      <th>2</th>\n",
       "      <td>198274878</td>\n",
       "      <td>2018-07-01</td>\n",
       "      <td>1285577</td>\n",
       "      <td>NaN</td>\n",
       "      <td>Aldi</td>\n",
       "      <td>N</td>\n",
       "      <td>0.0</td>\n",
       "      <td>1.0</td>\n",
       "      <td>0.0</td>\n",
       "      <td>1.0</td>\n",
       "      <td>...</td>\n",
       "      <td>2018-08-01</td>\n",
       "      <td>0.0</td>\n",
       "      <td>0.0</td>\n",
       "      <td>0.0</td>\n",
       "      <td>NaN</td>\n",
       "      <td>NaN</td>\n",
       "      <td>NaN</td>\n",
       "      <td>NaN</td>\n",
       "      <td>NaN</td>\n",
       "      <td>2018-07</td>\n",
       "    </tr>\n",
       "    <tr>\n",
       "      <th>3</th>\n",
       "      <td>198274968</td>\n",
       "      <td>2018-07-01</td>\n",
       "      <td>11007354</td>\n",
       "      <td>NaN</td>\n",
       "      <td>Aldi</td>\n",
       "      <td>N</td>\n",
       "      <td>0.0</td>\n",
       "      <td>1.0</td>\n",
       "      <td>0.0</td>\n",
       "      <td>1.0</td>\n",
       "      <td>...</td>\n",
       "      <td>2018-08-01</td>\n",
       "      <td>0.0</td>\n",
       "      <td>0.0</td>\n",
       "      <td>0.0</td>\n",
       "      <td>NaN</td>\n",
       "      <td>NaN</td>\n",
       "      <td>NaN</td>\n",
       "      <td>NaN</td>\n",
       "      <td>NaN</td>\n",
       "      <td>2018-07</td>\n",
       "    </tr>\n",
       "    <tr>\n",
       "      <th>4</th>\n",
       "      <td>198274969</td>\n",
       "      <td>2018-07-01</td>\n",
       "      <td>1080164</td>\n",
       "      <td>NaN</td>\n",
       "      <td>AP</td>\n",
       "      <td>N</td>\n",
       "      <td>0.0</td>\n",
       "      <td>1.0</td>\n",
       "      <td>0.0</td>\n",
       "      <td>1.0</td>\n",
       "      <td>...</td>\n",
       "      <td>2018-08-01</td>\n",
       "      <td>0.0</td>\n",
       "      <td>0.0</td>\n",
       "      <td>0.0</td>\n",
       "      <td>NaN</td>\n",
       "      <td>NaN</td>\n",
       "      <td>NaN</td>\n",
       "      <td>NaN</td>\n",
       "      <td>NaN</td>\n",
       "      <td>2018-07</td>\n",
       "    </tr>\n",
       "  </tbody>\n",
       "</table>\n",
       "<p>5 rows × 26 columns</p>\n",
       "</div>"
      ],
      "text/plain": [
       "   SKP_CREDIT_CASE TIME_CREATION_DATE  SKP_SALESROOM  POS_GSPN_V2 POS_TYPE  \\\n",
       "0        198274875         2018-07-01         119504          NaN       AP   \n",
       "1        198274876         2018-07-01        1845809          NaN       AP   \n",
       "2        198274878         2018-07-01        1285577          NaN     Aldi   \n",
       "3        198274968         2018-07-01       11007354          NaN     Aldi   \n",
       "4        198274969         2018-07-01        1080164          NaN       AP   \n",
       "\n",
       "  CLIENT_EXI_3M  RISK_FSTQPD30  RISK_AGRF120  RISK_FSTPD30  RISK_AGRF90  ...  \\\n",
       "0             N            0.0           1.0           0.0          1.0  ...   \n",
       "1             N            0.0           0.0           0.0          0.0  ...   \n",
       "2             N            0.0           1.0           0.0          1.0  ...   \n",
       "3             N            0.0           1.0           0.0          1.0  ...   \n",
       "4             N            0.0           1.0           0.0          1.0  ...   \n",
       "\n",
       "   TIME_DUE_DATE  RISK_SPD30  RISK_TPD30  RISK_4PD30  Unnamed: 0  \\\n",
       "0     2018-08-01         0.0         0.0         0.0         NaN   \n",
       "1     2000-01-01         0.0         0.0         0.0         NaN   \n",
       "2     2018-08-01         0.0         0.0         0.0         NaN   \n",
       "3     2018-08-01         0.0         0.0         0.0         NaN   \n",
       "4     2018-08-01         0.0         0.0         0.0         NaN   \n",
       "\n",
       "   PHANTOM_FLAG FLAG_1PCT_PHANTOM  RISK_FSTQPD60  RISK_AGRF180    MONTH  \n",
       "0           NaN               NaN            NaN           NaN  2018-07  \n",
       "1           NaN               NaN            NaN           NaN  2018-07  \n",
       "2           NaN               NaN            NaN           NaN  2018-07  \n",
       "3           NaN               NaN            NaN           NaN  2018-07  \n",
       "4           NaN               NaN            NaN           NaN  2018-07  \n",
       "\n",
       "[5 rows x 26 columns]"
      ]
     },
     "execution_count": 6,
     "metadata": {},
     "output_type": "execute_result"
    }
   ],
   "source": [
    "df.head()"
   ]
  },
  {
   "cell_type": "markdown",
   "metadata": {},
   "source": [
    "# Create Features: AF Definition"
   ]
  },
  {
   "cell_type": "code",
   "execution_count": 99,
   "metadata": {},
   "outputs": [],
   "source": [
    "def binomial_prob(df,agrf,delinq):\n",
    "    mean=df[delinq].sum()/df[agrf].sum()\n",
    "    prob = 1-binom.cdf(df[delinq], df[agrf], mean)\n",
    "    return prob"
   ]
  },
  {
   "cell_type": "markdown",
   "metadata": {},
   "source": [
    "## RISK Definition Predictors"
   ]
  },
  {
   "cell_type": "code",
   "execution_count": 100,
   "metadata": {
    "scrolled": true
   },
   "outputs": [
    {
     "name": "stderr",
     "output_type": "stream",
     "text": [
      "C:\\Users\\aman.khatri91425\\AppData\\Local\\Continuum\\anaconda3\\lib\\site-packages\\ipykernel_launcher.py:10: FutureWarning: The pandas.datetime class is deprecated and will be removed from pandas in a future version. Import from datetime module instead.\n",
      "  # Remove the CWD from sys.path while we load stuff.\n",
      "C:\\Users\\aman.khatri91425\\AppData\\Local\\Continuum\\anaconda3\\lib\\site-packages\\scipy\\stats\\_discrete_distns.py:44: RuntimeWarning: invalid value encountered in greater_equal\n",
      "  return (n >= 0) & (p >= 0) & (p <= 1)\n",
      "C:\\Users\\aman.khatri91425\\AppData\\Local\\Continuum\\anaconda3\\lib\\site-packages\\scipy\\stats\\_distn_infrastructure.py:3100: RuntimeWarning: invalid value encountered in greater_equal\n",
      "  cond1 = (k >= _a) & (k < _b)\n",
      "C:\\Users\\aman.khatri91425\\AppData\\Local\\Continuum\\anaconda3\\lib\\site-packages\\scipy\\stats\\_distn_infrastructure.py:3100: RuntimeWarning: invalid value encountered in less\n",
      "  cond1 = (k >= _a) & (k < _b)\n",
      "C:\\Users\\aman.khatri91425\\AppData\\Local\\Continuum\\anaconda3\\lib\\site-packages\\scipy\\stats\\_distn_infrastructure.py:3101: RuntimeWarning: invalid value encountered in greater_equal\n",
      "  cond2 = (k >= _b)\n"
     ]
    }
   ],
   "source": [
    "features = pd.DataFrame({'features' : [\"RISK_AGRF10\",\"RISK_FPD10\",\"RISK_AGRF30\",\"RISK_FPD30\",\"RISK_AGRF60\",\"RISK_FSPD30\",\"RISK_AGRF90\",\"RISK_FSTPD30\",\"RISK_AGRF120\",\"RISK_FSTQPD30\"],\n",
    "                         'start' : [0,0,0,0,121,121,151,151,211,211],\n",
    "                         'end' : [90,90,120,120,150,150,210,210,270,270]\n",
    "})\n",
    "\n",
    "df_model = pd.DataFrame()\n",
    "\n",
    "for MON in ('2019-05','2019-06','2019-07','2019-08','2020-06'):\n",
    "\n",
    "    MON = pd.datetime(int(MON[0:4]),int(MON[-2:]),1)\n",
    "    df_obs = df[(df.TIME_CREATION_DATE>= MON) & (df.TIME_CREATION_DATE < MON + timedelta(30))]\n",
    "\n",
    "    df_features=pd.DataFrame(df[(df.TIME_CREATION_DATE<MON)&(df.TIME_CREATION_DATE>MON-timedelta(180))].groupby(\"SKP_SALESROOM\")[\"SKP_CREDIT_CASE\"].count())\n",
    "    df_features.rename(columns={\"SKP_CREDIT_CASE\":\"CASE_COUNT\"}, inplace = True)\n",
    "\n",
    "\n",
    "\n",
    "    for x in range(features.shape[0]):\n",
    "        df_features[features.loc[x,'features']+\"_SUM\"] = df[(df.TIME_CREATION_DATE<=MON-timedelta(int(features.loc[x,'start'])))&(df.TIME_CREATION_DATE>=MON-timedelta(int(features.loc[x,'end'])))].groupby('SKP_SALESROOM')[features.loc[x,'features']].sum()\n",
    "        \n",
    "    df_features[\"RISK_FPD10_RATE\"] = df_features.RISK_FPD10_SUM/df_features.RISK_AGRF10_SUM\n",
    "    df_features[\"RISK_FPD30_RATE\"] = df_features.RISK_FPD30_SUM/df_features.RISK_AGRF30_SUM\n",
    "    df_features[\"RISK_FSPD30_RATE\"] = df_features.RISK_FSPD30_SUM/df_features.RISK_AGRF60_SUM\n",
    "    df_features[\"RISK_FSTPD30_RATE\"] = df_features.RISK_FSTPD30_SUM/df_features.RISK_AGRF90_SUM\n",
    "    df_features[\"RISK_FSTQPD30_RATE\"] = df_features.RISK_FSTQPD30_SUM/df_features.RISK_AGRF120_SUM\n",
    "\n",
    "    #Binomial Distribution Probabilities\n",
    "\n",
    "    df_features[\"RISK_FPD10_BINOM\"] = binomial_prob(df_features, 'RISK_AGRF10_SUM', 'RISK_FPD10_SUM')\n",
    "    df_features[\"RISK_FPD30_BINOM\"] = binomial_prob(df_features, 'RISK_AGRF30_SUM', 'RISK_FPD30_SUM')\n",
    "    df_features[\"RISK_FSPD30_BINOM\"] = binomial_prob(df_features, 'RISK_AGRF60_SUM', 'RISK_FSPD30_SUM')\n",
    "    df_features[\"RISK_FSTPD30_BINOM\"] = binomial_prob(df_features, 'RISK_AGRF90_SUM', 'RISK_FSTPD30_SUM')\n",
    "    df_features[\"RISK_FSTQPD30_BINOM\"] = binomial_prob(df_features, 'RISK_AGRF120_SUM', 'RISK_FSTQPD30_SUM')\n",
    "\n",
    "    #NA Treatment \n",
    "    var_list = [\"RISK_FPD10_RATE\",\"RISK_FPD30_RATE\",\"RISK_FSPD30_RATE\",\"RISK_FSTPD30_RATE\",\"RISK_FSTQPD30_RATE\"]\n",
    "    df_features[var_list]= df_features[var_list].fillna(df_features[var_list].mean())\n",
    "\n",
    "    var_list = [\"RISK_FPD10_BINOM\",\"RISK_FPD30_BINOM\",\"RISK_FSPD30_BINOM\",\"RISK_FSTPD30_BINOM\",\"RISK_FSTQPD30_BINOM\"]\n",
    "    df_features[var_list]= df_features[var_list].fillna(df_features[var_list].mean())\n",
    "    \n",
    "    \n",
    "    df_features.reset_index(inplace = True)\n",
    "    df_obs= df_obs.merge(df_features,how = 'inner', on=['SKP_SALESROOM'])\n",
    "    df_model = pd.concat([df_model,df_obs])"
   ]
  },
  {
   "cell_type": "code",
   "execution_count": 101,
   "metadata": {},
   "outputs": [],
   "source": [
    "df_model.dropna(subset = [\"RISK_FSTQPD60\"], inplace = True)"
   ]
  },
  {
   "cell_type": "markdown",
   "metadata": {},
   "source": [
    "# 1 Hot Encoding POS Type"
   ]
  },
  {
   "cell_type": "code",
   "execution_count": 102,
   "metadata": {},
   "outputs": [],
   "source": [
    "for x in [\"POS_TYPE\"]:\n",
    "    dummy = pd.get_dummies(df_model[x])\n",
    "    dummy.columns = [y+\"_\"+x for y in dummy.columns]\n",
    "    df_model = pd.concat([df_model, dummy], axis=1)"
   ]
  },
  {
   "cell_type": "markdown",
   "metadata": {},
   "source": [
    "# Add Geo Score"
   ]
  },
  {
   "cell_type": "code",
   "execution_count": 103,
   "metadata": {},
   "outputs": [],
   "source": [
    "# conn = cx_Oracle.connect('HCIN_Jainr1[AP_UWI]','Saber@1989!1','INCL02.IN.PROD/HWIN_USR_DEV.HOMECREDIT.IN')\n",
    "# query = \"\"\"\n",
    "# select skp_salesr as skp_salesroom, a.grid_id, month, combined_score_knn_exi, combined_score_knn_ntc\n",
    "# from AP_BI.T_SDE_POS_23JAN2020 a \n",
    "# join bd_grid_score_hist b\n",
    "# on a.grid_id = b.grid_id;\n",
    "# \"\"\"\n",
    "\n",
    "# data = pd.read_sql(query, conn)\n",
    "# data.to_csv(os.getcwd()+\"\\Data Files\\grid_scores.csv\")"
   ]
  },
  {
   "cell_type": "code",
   "execution_count": 104,
   "metadata": {},
   "outputs": [],
   "source": [
    "df_grid = pd.read_csv(os.getcwd()+\"\\Data Files\\grid_scores.csv\")\n",
    "df_grid.MONTH = pd.to_datetime(df_grid.MONTH, format = '%d-%m-%y')\n",
    "df_grid[\"MONTH\"] = df_grid.MONTH.dt.strftime(\"%Y-%m\")"
   ]
  },
  {
   "cell_type": "code",
   "execution_count": 105,
   "metadata": {},
   "outputs": [],
   "source": [
    "df_model = df_model.merge(df_grid, how='left', on = [\"SKP_SALESROOM\",\"MONTH\"])"
   ]
  },
  {
   "cell_type": "code",
   "execution_count": 106,
   "metadata": {},
   "outputs": [],
   "source": [
    "df_model[[\"COMBINED_SCORE_KNN_EXI\",\"COMBINED_SCORE_KNN_NTC\"]]=df_model[[\"COMBINED_SCORE_KNN_EXI\",\"COMBINED_SCORE_KNN_NTC\"]].fillna(\n",
    "df_model[[\"COMBINED_SCORE_KNN_EXI\",\"COMBINED_SCORE_KNN_NTC\"]].mean())"
   ]
  },
  {
   "cell_type": "markdown",
   "metadata": {},
   "source": [
    "# Split Train Test Data"
   ]
  },
  {
   "cell_type": "code",
   "execution_count": 107,
   "metadata": {},
   "outputs": [
    {
     "name": "stderr",
     "output_type": "stream",
     "text": [
      "C:\\Users\\aman.khatri91425\\AppData\\Local\\Continuum\\anaconda3\\lib\\site-packages\\ipykernel_launcher.py:1: FutureWarning: The pandas.datetime class is deprecated and will be removed from pandas in a future version. Import from datetime module instead.\n",
      "  \"\"\"Entry point for launching an IPython kernel.\n",
      "C:\\Users\\aman.khatri91425\\AppData\\Local\\Continuum\\anaconda3\\lib\\site-packages\\ipykernel_launcher.py:2: FutureWarning: The pandas.datetime class is deprecated and will be removed from pandas in a future version. Import from datetime module instead.\n",
      "  \n"
     ]
    }
   ],
   "source": [
    "df_train = df_model[(df_model.TIME_CREATION_DATE >= pd.datetime(2019,1,1))& (df_model.TIME_CREATION_DATE <= pd.datetime(2019,6,30))]\n",
    "df_test = df_model[(df_model.TIME_CREATION_DATE >= pd.datetime(2019,7,1))]"
   ]
  },
  {
   "cell_type": "markdown",
   "metadata": {},
   "source": [
    "# Model with RISK Predictors (Non-Binomial Distribution)"
   ]
  },
  {
   "cell_type": "code",
   "execution_count": 108,
   "metadata": {},
   "outputs": [
    {
     "name": "stdout",
     "output_type": "stream",
     "text": [
      "Event rate in train set : 4.82%\n",
      "Train set shape: (707789, 11)\n",
      "Event rate in test set : 4.32%\n",
      "Train set shape: (894483, 11)\n"
     ]
    }
   ],
   "source": [
    "x_columns = [\"CASE_COUNT\",\"RISK_FPD30_RATE\",\"RISK_FSPD30_RATE\",\"RISK_FSTPD30_RATE\",\"RISK_FSTQPD30_RATE\", \"COMBINED_SCORE_KNN_EXI\",\n",
    "            \"COMBINED_SCORE_KNN_NTC\",\"AP_POS_TYPE\",\"Aldi_POS_TYPE\",\"Satellite_POS_TYPE\",\"UDAAN_POS_TYPE\"]\n",
    "y_column = \"RISK_FSTQPD60\"\n",
    "\n",
    "print(\"Event rate in train set :\", '{:,.2%}'.format(sum(df_train[y_column]) / len(df_train[y_column])))\n",
    "print(\"Train set shape:\",df_train[x_columns].shape)\n",
    "print(\"Event rate in test set :\", '{:,.2%}'.format(sum(df_test[y_column]) / len(df_test[y_column])))\n",
    "print(\"Train set shape:\",df_test[x_columns].shape)\n"
   ]
  },
  {
   "cell_type": "code",
   "execution_count": 109,
   "metadata": {},
   "outputs": [],
   "source": [
    "df_train = df_train[df_train.FLAG_1PCT_PHANTOM==1]"
   ]
  },
  {
   "cell_type": "markdown",
   "metadata": {},
   "source": [
    "## L1 Penalty Hyper Parameter Optimization"
   ]
  },
  {
   "cell_type": "code",
   "execution_count": 110,
   "metadata": {},
   "outputs": [],
   "source": [
    "param_grid = {'C':np.exp(np.arange(-3,3,0.01))}"
   ]
  },
  {
   "cell_type": "code",
   "execution_count": 111,
   "metadata": {},
   "outputs": [],
   "source": [
    "kfolds = StratifiedKFold(3, random_state=1)\n",
    "comb=LogisticRegression(penalty = 'l1')\n",
    "\n",
    "rcv = RandomizedSearchCV(estimator = comb, param_distributions=param_grid, scoring=['roc_auc'], n_iter = 10,\n",
    "    cv=kfolds.split(df_train[x_columns],df_train[y_column]), verbose=0, random_state=1,\n",
    "    refit = 'roc_auc', return_train_score=True, error_score = 0)"
   ]
  },
  {
   "cell_type": "code",
   "execution_count": 112,
   "metadata": {},
   "outputs": [
    {
     "name": "stdout",
     "output_type": "stream",
     "text": [
      "Randomized search..\n"
     ]
    },
    {
     "name": "stderr",
     "output_type": "stream",
     "text": [
      "C:\\Users\\aman.khatri91425\\AppData\\Local\\Continuum\\anaconda3\\lib\\site-packages\\sklearn\\linear_model\\logistic.py:433: FutureWarning: Default solver will be changed to 'lbfgs' in 0.22. Specify a solver to silence this warning.\n",
      "  FutureWarning)\n",
      "C:\\Users\\aman.khatri91425\\AppData\\Local\\Continuum\\anaconda3\\lib\\site-packages\\sklearn\\linear_model\\logistic.py:433: FutureWarning: Default solver will be changed to 'lbfgs' in 0.22. Specify a solver to silence this warning.\n",
      "  FutureWarning)\n",
      "C:\\Users\\aman.khatri91425\\AppData\\Local\\Continuum\\anaconda3\\lib\\site-packages\\sklearn\\linear_model\\logistic.py:433: FutureWarning: Default solver will be changed to 'lbfgs' in 0.22. Specify a solver to silence this warning.\n",
      "  FutureWarning)\n",
      "C:\\Users\\aman.khatri91425\\AppData\\Local\\Continuum\\anaconda3\\lib\\site-packages\\sklearn\\linear_model\\logistic.py:433: FutureWarning: Default solver will be changed to 'lbfgs' in 0.22. Specify a solver to silence this warning.\n",
      "  FutureWarning)\n",
      "C:\\Users\\aman.khatri91425\\AppData\\Local\\Continuum\\anaconda3\\lib\\site-packages\\sklearn\\linear_model\\logistic.py:433: FutureWarning: Default solver will be changed to 'lbfgs' in 0.22. Specify a solver to silence this warning.\n",
      "  FutureWarning)\n",
      "C:\\Users\\aman.khatri91425\\AppData\\Local\\Continuum\\anaconda3\\lib\\site-packages\\sklearn\\linear_model\\logistic.py:433: FutureWarning: Default solver will be changed to 'lbfgs' in 0.22. Specify a solver to silence this warning.\n",
      "  FutureWarning)\n",
      "C:\\Users\\aman.khatri91425\\AppData\\Local\\Continuum\\anaconda3\\lib\\site-packages\\sklearn\\linear_model\\logistic.py:433: FutureWarning: Default solver will be changed to 'lbfgs' in 0.22. Specify a solver to silence this warning.\n",
      "  FutureWarning)\n",
      "C:\\Users\\aman.khatri91425\\AppData\\Local\\Continuum\\anaconda3\\lib\\site-packages\\sklearn\\linear_model\\logistic.py:433: FutureWarning: Default solver will be changed to 'lbfgs' in 0.22. Specify a solver to silence this warning.\n",
      "  FutureWarning)\n",
      "C:\\Users\\aman.khatri91425\\AppData\\Local\\Continuum\\anaconda3\\lib\\site-packages\\sklearn\\linear_model\\logistic.py:433: FutureWarning: Default solver will be changed to 'lbfgs' in 0.22. Specify a solver to silence this warning.\n",
      "  FutureWarning)\n",
      "C:\\Users\\aman.khatri91425\\AppData\\Local\\Continuum\\anaconda3\\lib\\site-packages\\sklearn\\linear_model\\logistic.py:433: FutureWarning: Default solver will be changed to 'lbfgs' in 0.22. Specify a solver to silence this warning.\n",
      "  FutureWarning)\n",
      "C:\\Users\\aman.khatri91425\\AppData\\Local\\Continuum\\anaconda3\\lib\\site-packages\\sklearn\\linear_model\\logistic.py:433: FutureWarning: Default solver will be changed to 'lbfgs' in 0.22. Specify a solver to silence this warning.\n",
      "  FutureWarning)\n",
      "C:\\Users\\aman.khatri91425\\AppData\\Local\\Continuum\\anaconda3\\lib\\site-packages\\sklearn\\linear_model\\logistic.py:433: FutureWarning: Default solver will be changed to 'lbfgs' in 0.22. Specify a solver to silence this warning.\n",
      "  FutureWarning)\n",
      "C:\\Users\\aman.khatri91425\\AppData\\Local\\Continuum\\anaconda3\\lib\\site-packages\\sklearn\\linear_model\\logistic.py:433: FutureWarning: Default solver will be changed to 'lbfgs' in 0.22. Specify a solver to silence this warning.\n",
      "  FutureWarning)\n",
      "C:\\Users\\aman.khatri91425\\AppData\\Local\\Continuum\\anaconda3\\lib\\site-packages\\sklearn\\linear_model\\logistic.py:433: FutureWarning: Default solver will be changed to 'lbfgs' in 0.22. Specify a solver to silence this warning.\n",
      "  FutureWarning)\n",
      "C:\\Users\\aman.khatri91425\\AppData\\Local\\Continuum\\anaconda3\\lib\\site-packages\\sklearn\\linear_model\\logistic.py:433: FutureWarning: Default solver will be changed to 'lbfgs' in 0.22. Specify a solver to silence this warning.\n",
      "  FutureWarning)\n",
      "C:\\Users\\aman.khatri91425\\AppData\\Local\\Continuum\\anaconda3\\lib\\site-packages\\sklearn\\linear_model\\logistic.py:433: FutureWarning: Default solver will be changed to 'lbfgs' in 0.22. Specify a solver to silence this warning.\n",
      "  FutureWarning)\n",
      "C:\\Users\\aman.khatri91425\\AppData\\Local\\Continuum\\anaconda3\\lib\\site-packages\\sklearn\\linear_model\\logistic.py:433: FutureWarning: Default solver will be changed to 'lbfgs' in 0.22. Specify a solver to silence this warning.\n",
      "  FutureWarning)\n",
      "C:\\Users\\aman.khatri91425\\AppData\\Local\\Continuum\\anaconda3\\lib\\site-packages\\sklearn\\linear_model\\logistic.py:433: FutureWarning: Default solver will be changed to 'lbfgs' in 0.22. Specify a solver to silence this warning.\n",
      "  FutureWarning)\n",
      "C:\\Users\\aman.khatri91425\\AppData\\Local\\Continuum\\anaconda3\\lib\\site-packages\\sklearn\\linear_model\\logistic.py:433: FutureWarning: Default solver will be changed to 'lbfgs' in 0.22. Specify a solver to silence this warning.\n",
      "  FutureWarning)\n",
      "C:\\Users\\aman.khatri91425\\AppData\\Local\\Continuum\\anaconda3\\lib\\site-packages\\sklearn\\linear_model\\logistic.py:433: FutureWarning: Default solver will be changed to 'lbfgs' in 0.22. Specify a solver to silence this warning.\n",
      "  FutureWarning)\n",
      "C:\\Users\\aman.khatri91425\\AppData\\Local\\Continuum\\anaconda3\\lib\\site-packages\\sklearn\\linear_model\\logistic.py:433: FutureWarning: Default solver will be changed to 'lbfgs' in 0.22. Specify a solver to silence this warning.\n",
      "  FutureWarning)\n",
      "C:\\Users\\aman.khatri91425\\AppData\\Local\\Continuum\\anaconda3\\lib\\site-packages\\sklearn\\linear_model\\logistic.py:433: FutureWarning: Default solver will be changed to 'lbfgs' in 0.22. Specify a solver to silence this warning.\n",
      "  FutureWarning)\n",
      "C:\\Users\\aman.khatri91425\\AppData\\Local\\Continuum\\anaconda3\\lib\\site-packages\\sklearn\\linear_model\\logistic.py:433: FutureWarning: Default solver will be changed to 'lbfgs' in 0.22. Specify a solver to silence this warning.\n",
      "  FutureWarning)\n",
      "C:\\Users\\aman.khatri91425\\AppData\\Local\\Continuum\\anaconda3\\lib\\site-packages\\sklearn\\linear_model\\logistic.py:433: FutureWarning: Default solver will be changed to 'lbfgs' in 0.22. Specify a solver to silence this warning.\n",
      "  FutureWarning)\n",
      "C:\\Users\\aman.khatri91425\\AppData\\Local\\Continuum\\anaconda3\\lib\\site-packages\\sklearn\\linear_model\\logistic.py:433: FutureWarning: Default solver will be changed to 'lbfgs' in 0.22. Specify a solver to silence this warning.\n",
      "  FutureWarning)\n",
      "C:\\Users\\aman.khatri91425\\AppData\\Local\\Continuum\\anaconda3\\lib\\site-packages\\sklearn\\linear_model\\logistic.py:433: FutureWarning: Default solver will be changed to 'lbfgs' in 0.22. Specify a solver to silence this warning.\n",
      "  FutureWarning)\n",
      "C:\\Users\\aman.khatri91425\\AppData\\Local\\Continuum\\anaconda3\\lib\\site-packages\\sklearn\\linear_model\\logistic.py:433: FutureWarning: Default solver will be changed to 'lbfgs' in 0.22. Specify a solver to silence this warning.\n",
      "  FutureWarning)\n",
      "C:\\Users\\aman.khatri91425\\AppData\\Local\\Continuum\\anaconda3\\lib\\site-packages\\sklearn\\linear_model\\logistic.py:433: FutureWarning: Default solver will be changed to 'lbfgs' in 0.22. Specify a solver to silence this warning.\n",
      "  FutureWarning)\n",
      "C:\\Users\\aman.khatri91425\\AppData\\Local\\Continuum\\anaconda3\\lib\\site-packages\\sklearn\\linear_model\\logistic.py:433: FutureWarning: Default solver will be changed to 'lbfgs' in 0.22. Specify a solver to silence this warning.\n",
      "  FutureWarning)\n",
      "C:\\Users\\aman.khatri91425\\AppData\\Local\\Continuum\\anaconda3\\lib\\site-packages\\sklearn\\linear_model\\logistic.py:433: FutureWarning: Default solver will be changed to 'lbfgs' in 0.22. Specify a solver to silence this warning.\n",
      "  FutureWarning)\n"
     ]
    },
    {
     "name": "stdout",
     "output_type": "stream",
     "text": [
      "Randomized search time: 1.8856821060180664\n"
     ]
    },
    {
     "name": "stderr",
     "output_type": "stream",
     "text": [
      "C:\\Users\\aman.khatri91425\\AppData\\Local\\Continuum\\anaconda3\\lib\\site-packages\\sklearn\\linear_model\\logistic.py:433: FutureWarning: Default solver will be changed to 'lbfgs' in 0.22. Specify a solver to silence this warning.\n",
      "  FutureWarning)\n"
     ]
    }
   ],
   "source": [
    "#Calculate Gini Lift Logistic Regression\n",
    "print(\"Randomized search..\")\n",
    "\n",
    "search_time_start = time.time()\n",
    "rcv.fit(df_train[x_columns], df_train[y_column])\n",
    "print(\"Randomized search time:\", time.time() - search_time_start)\n",
    "params = rcv.best_params_   #get best parameters\n",
    "dic=rcv.cv_results_    #provides scoring results for each iteration, 50 in this case, mean values can be used "
   ]
  },
  {
   "cell_type": "code",
   "execution_count": 113,
   "metadata": {},
   "outputs": [
    {
     "name": "stdout",
     "output_type": "stream",
     "text": [
      "{'C': 8.084915164304183}\n"
     ]
    },
    {
     "data": {
      "image/png": "[encoded data removed]",
      "text/plain": [
       "<Figure size 432x288 with 1 Axes>"
      ]
     },
     "metadata": {
      "needs_background": "light"
     },
     "output_type": "display_data"
    }
   ],
   "source": [
    "tmp1= pd.DataFrame(dic)[[\"param_C\",\"mean_test_roc_auc\",\"mean_train_roc_auc\"]].sort_values(by = 'param_C')\n",
    "tmp1.plot(x=\"param_C\")\n",
    "print(params)"
   ]
  },
  {
   "cell_type": "markdown",
   "metadata": {},
   "source": [
    "## Logistic With optimized Hyperparameters "
   ]
  },
  {
   "cell_type": "code",
   "execution_count": 114,
   "metadata": {},
   "outputs": [
    {
     "name": "stderr",
     "output_type": "stream",
     "text": [
      "C:\\Users\\aman.khatri91425\\AppData\\Local\\Continuum\\anaconda3\\lib\\site-packages\\sklearn\\linear_model\\logistic.py:433: FutureWarning: Default solver will be changed to 'lbfgs' in 0.22. Specify a solver to silence this warning.\n",
      "  FutureWarning)\n"
     ]
    },
    {
     "name": "stdout",
     "output_type": "stream",
     "text": [
      "Train GINI(COMBINED_SCORE) 0.179\n",
      "Test GINI(COMBINED_SCORE) 0.068\n"
     ]
    }
   ],
   "source": [
    "from sklearn.linear_model import LogisticRegression\n",
    "\n",
    "bst = LogisticRegression(penalty = 'l1', C=params['C'])\n",
    "\n",
    "bst.fit(df_train[x_columns], df_train[y_column])\n",
    "\n",
    "ypred_train = bst.predict_proba(df_train[x_columns])[:, 1]\n",
    "ypred_test = bst.predict_proba(df_test[x_columns])[:, 1]\n",
    "\n",
    "print(\"Train GINI(COMBINED_SCORE) %.3f\" % (2*roc_auc_score(df_train[y_column], ypred_train)-1))\n",
    "print(\"Test GINI(COMBINED_SCORE) %.3f\" % (2*roc_auc_score(df_test[y_column], ypred_test)-1))\n"
   ]
  },
  {
   "cell_type": "code",
   "execution_count": 115,
   "metadata": {},
   "outputs": [
    {
     "data": {
      "text/html": [
       "<div>\n",
       "<style scoped>\n",
       "    .dataframe tbody tr th:only-of-type {\n",
       "        vertical-align: middle;\n",
       "    }\n",
       "\n",
       "    .dataframe tbody tr th {\n",
       "        vertical-align: top;\n",
       "    }\n",
       "\n",
       "    .dataframe thead th {\n",
       "        text-align: right;\n",
       "    }\n",
       "</style>\n",
       "<table border=\"1\" class=\"dataframe\">\n",
       "  <thead>\n",
       "    <tr style=\"text-align: right;\">\n",
       "      <th></th>\n",
       "      <th>column</th>\n",
       "      <th>coeffecient</th>\n",
       "    </tr>\n",
       "  </thead>\n",
       "  <tbody>\n",
       "    <tr>\n",
       "      <th>0</th>\n",
       "      <td>CASE_COUNT</td>\n",
       "      <td>-0.000119</td>\n",
       "    </tr>\n",
       "    <tr>\n",
       "      <th>1</th>\n",
       "      <td>RISK_FPD30_RATE</td>\n",
       "      <td>4.110982</td>\n",
       "    </tr>\n",
       "    <tr>\n",
       "      <th>2</th>\n",
       "      <td>RISK_FSPD30_RATE</td>\n",
       "      <td>0.500042</td>\n",
       "    </tr>\n",
       "    <tr>\n",
       "      <th>3</th>\n",
       "      <td>RISK_FSTPD30_RATE</td>\n",
       "      <td>1.060568</td>\n",
       "    </tr>\n",
       "    <tr>\n",
       "      <th>4</th>\n",
       "      <td>RISK_FSTQPD30_RATE</td>\n",
       "      <td>1.205836</td>\n",
       "    </tr>\n",
       "    <tr>\n",
       "      <th>5</th>\n",
       "      <td>COMBINED_SCORE_KNN_EXI</td>\n",
       "      <td>3.673944</td>\n",
       "    </tr>\n",
       "    <tr>\n",
       "      <th>6</th>\n",
       "      <td>COMBINED_SCORE_KNN_NTC</td>\n",
       "      <td>5.513227</td>\n",
       "    </tr>\n",
       "    <tr>\n",
       "      <th>7</th>\n",
       "      <td>AP_POS_TYPE</td>\n",
       "      <td>-1.365670</td>\n",
       "    </tr>\n",
       "    <tr>\n",
       "      <th>8</th>\n",
       "      <td>Aldi_POS_TYPE</td>\n",
       "      <td>-1.236578</td>\n",
       "    </tr>\n",
       "    <tr>\n",
       "      <th>9</th>\n",
       "      <td>Satellite_POS_TYPE</td>\n",
       "      <td>-1.237415</td>\n",
       "    </tr>\n",
       "    <tr>\n",
       "      <th>10</th>\n",
       "      <td>UDAAN_POS_TYPE</td>\n",
       "      <td>0.000000</td>\n",
       "    </tr>\n",
       "  </tbody>\n",
       "</table>\n",
       "</div>"
      ],
      "text/plain": [
       "                    column  coeffecient\n",
       "0               CASE_COUNT    -0.000119\n",
       "1          RISK_FPD30_RATE     4.110982\n",
       "2         RISK_FSPD30_RATE     0.500042\n",
       "3        RISK_FSTPD30_RATE     1.060568\n",
       "4       RISK_FSTQPD30_RATE     1.205836\n",
       "5   COMBINED_SCORE_KNN_EXI     3.673944\n",
       "6   COMBINED_SCORE_KNN_NTC     5.513227\n",
       "7              AP_POS_TYPE    -1.365670\n",
       "8            Aldi_POS_TYPE    -1.236578\n",
       "9       Satellite_POS_TYPE    -1.237415\n",
       "10          UDAAN_POS_TYPE     0.000000"
      ]
     },
     "execution_count": 115,
     "metadata": {},
     "output_type": "execute_result"
    }
   ],
   "source": [
    "pd.DataFrame({\"column\":x_columns,\"coeffecient\":bst.coef_[0]})"
   ]
  },
  {
   "cell_type": "code",
   "execution_count": 116,
   "metadata": {},
   "outputs": [],
   "source": [
    "df_model[\"GSPN_SCORE\"] =  bst.predict_proba(df_model[x_columns])[:, 1]"
   ]
  },
  {
   "cell_type": "code",
   "execution_count": null,
   "metadata": {},
   "outputs": [],
   "source": []
  },
  {
   "cell_type": "code",
   "execution_count": null,
   "metadata": {},
   "outputs": [],
   "source": []
  },
  {
   "cell_type": "markdown",
   "metadata": {},
   "source": [
    "# Check marginal Value add of Predictors"
   ]
  },
  {
   "cell_type": "code",
   "execution_count": 117,
   "metadata": {},
   "outputs": [
    {
     "name": "stderr",
     "output_type": "stream",
     "text": [
      "C:\\Users\\aman.khatri91425\\AppData\\Local\\Continuum\\anaconda3\\lib\\site-packages\\sklearn\\linear_model\\logistic.py:433: FutureWarning: Default solver will be changed to 'lbfgs' in 0.22. Specify a solver to silence this warning.\n",
      "  FutureWarning)\n",
      "C:\\Users\\aman.khatri91425\\AppData\\Local\\Continuum\\anaconda3\\lib\\site-packages\\sklearn\\linear_model\\logistic.py:433: FutureWarning: Default solver will be changed to 'lbfgs' in 0.22. Specify a solver to silence this warning.\n",
      "  FutureWarning)\n",
      "C:\\Users\\aman.khatri91425\\AppData\\Local\\Continuum\\anaconda3\\lib\\site-packages\\sklearn\\linear_model\\logistic.py:433: FutureWarning: Default solver will be changed to 'lbfgs' in 0.22. Specify a solver to silence this warning.\n",
      "  FutureWarning)\n",
      "C:\\Users\\aman.khatri91425\\AppData\\Local\\Continuum\\anaconda3\\lib\\site-packages\\sklearn\\linear_model\\logistic.py:433: FutureWarning: Default solver will be changed to 'lbfgs' in 0.22. Specify a solver to silence this warning.\n",
      "  FutureWarning)\n",
      "C:\\Users\\aman.khatri91425\\AppData\\Local\\Continuum\\anaconda3\\lib\\site-packages\\sklearn\\linear_model\\logistic.py:433: FutureWarning: Default solver will be changed to 'lbfgs' in 0.22. Specify a solver to silence this warning.\n",
      "  FutureWarning)\n",
      "C:\\Users\\aman.khatri91425\\AppData\\Local\\Continuum\\anaconda3\\lib\\site-packages\\sklearn\\linear_model\\logistic.py:433: FutureWarning: Default solver will be changed to 'lbfgs' in 0.22. Specify a solver to silence this warning.\n",
      "  FutureWarning)\n"
     ]
    },
    {
     "name": "stdout",
     "output_type": "stream",
     "text": [
      "predictors : ['CASE_COUNT'] Value : 0.0789664025329242\n",
      "predictors : ['RISK_FPD30_RATE'] Value : 0.1087731573224966\n",
      "predictors : ['RISK_FSPD30_RATE'] Value : 0.07134648215175554\n",
      "predictors : ['RISK_FSTPD30_RATE'] Value : 0.10606982664762366\n",
      "predictors : ['RISK_FSTQPD30_RATE'] Value : 0.1103669837946395\n",
      "predictors : ['COMBINED_SCORE_KNN_EXI'] Value : 0.12339019089296666\n",
      "predictors : ['COMBINED_SCORE_KNN_NTC'] Value : 0.11553517110824552\n",
      "predictors : ['AP_POS_TYPE'] Value : 0.06472582797547899\n",
      "predictors : ['Aldi_POS_TYPE'] Value : 0.03271831279369475\n",
      "predictors : ['Satellite_POS_TYPE'] Value : 0.032007515181784685\n",
      "predictors : ['UDAAN_POS_TYPE'] Value : 0.0\n"
     ]
    },
    {
     "name": "stderr",
     "output_type": "stream",
     "text": [
      "C:\\Users\\aman.khatri91425\\AppData\\Local\\Continuum\\anaconda3\\lib\\site-packages\\sklearn\\linear_model\\logistic.py:433: FutureWarning: Default solver will be changed to 'lbfgs' in 0.22. Specify a solver to silence this warning.\n",
      "  FutureWarning)\n",
      "C:\\Users\\aman.khatri91425\\AppData\\Local\\Continuum\\anaconda3\\lib\\site-packages\\sklearn\\linear_model\\logistic.py:433: FutureWarning: Default solver will be changed to 'lbfgs' in 0.22. Specify a solver to silence this warning.\n",
      "  FutureWarning)\n",
      "C:\\Users\\aman.khatri91425\\AppData\\Local\\Continuum\\anaconda3\\lib\\site-packages\\sklearn\\linear_model\\logistic.py:433: FutureWarning: Default solver will be changed to 'lbfgs' in 0.22. Specify a solver to silence this warning.\n",
      "  FutureWarning)\n",
      "C:\\Users\\aman.khatri91425\\AppData\\Local\\Continuum\\anaconda3\\lib\\site-packages\\sklearn\\linear_model\\logistic.py:433: FutureWarning: Default solver will be changed to 'lbfgs' in 0.22. Specify a solver to silence this warning.\n",
      "  FutureWarning)\n",
      "C:\\Users\\aman.khatri91425\\AppData\\Local\\Continuum\\anaconda3\\lib\\site-packages\\sklearn\\linear_model\\logistic.py:433: FutureWarning: Default solver will be changed to 'lbfgs' in 0.22. Specify a solver to silence this warning.\n",
      "  FutureWarning)\n",
      "C:\\Users\\aman.khatri91425\\AppData\\Local\\Continuum\\anaconda3\\lib\\site-packages\\sklearn\\linear_model\\logistic.py:433: FutureWarning: Default solver will be changed to 'lbfgs' in 0.22. Specify a solver to silence this warning.\n",
      "  FutureWarning)\n"
     ]
    },
    {
     "name": "stdout",
     "output_type": "stream",
     "text": [
      "predictors : ['COMBINED_SCORE_KNN_EXI', 'CASE_COUNT'] Value : 0.11780029949239279\n",
      "predictors : ['COMBINED_SCORE_KNN_EXI', 'RISK_FPD30_RATE'] Value : 0.14736108106229917\n",
      "predictors : ['COMBINED_SCORE_KNN_EXI', 'RISK_FSPD30_RATE'] Value : 0.13179977529946418\n"
     ]
    },
    {
     "name": "stderr",
     "output_type": "stream",
     "text": [
      "C:\\Users\\aman.khatri91425\\AppData\\Local\\Continuum\\anaconda3\\lib\\site-packages\\sklearn\\linear_model\\logistic.py:433: FutureWarning: Default solver will be changed to 'lbfgs' in 0.22. Specify a solver to silence this warning.\n",
      "  FutureWarning)\n",
      "C:\\Users\\aman.khatri91425\\AppData\\Local\\Continuum\\anaconda3\\lib\\site-packages\\sklearn\\linear_model\\logistic.py:433: FutureWarning: Default solver will be changed to 'lbfgs' in 0.22. Specify a solver to silence this warning.\n",
      "  FutureWarning)\n",
      "C:\\Users\\aman.khatri91425\\AppData\\Local\\Continuum\\anaconda3\\lib\\site-packages\\sklearn\\linear_model\\logistic.py:433: FutureWarning: Default solver will be changed to 'lbfgs' in 0.22. Specify a solver to silence this warning.\n",
      "  FutureWarning)\n"
     ]
    },
    {
     "name": "stdout",
     "output_type": "stream",
     "text": [
      "predictors : ['COMBINED_SCORE_KNN_EXI', 'RISK_FSTPD30_RATE'] Value : 0.14292393915612434\n",
      "predictors : ['COMBINED_SCORE_KNN_EXI', 'RISK_FSTQPD30_RATE'] Value : 0.1542995756337029\n",
      "predictors : ['COMBINED_SCORE_KNN_EXI', 'COMBINED_SCORE_KNN_NTC'] Value : 0.12466605198359026\n",
      "predictors : ['COMBINED_SCORE_KNN_EXI', 'AP_POS_TYPE'] Value : 0.132902155277844\n"
     ]
    },
    {
     "name": "stderr",
     "output_type": "stream",
     "text": [
      "C:\\Users\\aman.khatri91425\\AppData\\Local\\Continuum\\anaconda3\\lib\\site-packages\\sklearn\\linear_model\\logistic.py:433: FutureWarning: Default solver will be changed to 'lbfgs' in 0.22. Specify a solver to silence this warning.\n",
      "  FutureWarning)\n",
      "C:\\Users\\aman.khatri91425\\AppData\\Local\\Continuum\\anaconda3\\lib\\site-packages\\sklearn\\linear_model\\logistic.py:433: FutureWarning: Default solver will be changed to 'lbfgs' in 0.22. Specify a solver to silence this warning.\n",
      "  FutureWarning)\n",
      "C:\\Users\\aman.khatri91425\\AppData\\Local\\Continuum\\anaconda3\\lib\\site-packages\\sklearn\\linear_model\\logistic.py:433: FutureWarning: Default solver will be changed to 'lbfgs' in 0.22. Specify a solver to silence this warning.\n",
      "  FutureWarning)\n",
      "C:\\Users\\aman.khatri91425\\AppData\\Local\\Continuum\\anaconda3\\lib\\site-packages\\sklearn\\linear_model\\logistic.py:433: FutureWarning: Default solver will be changed to 'lbfgs' in 0.22. Specify a solver to silence this warning.\n",
      "  FutureWarning)\n"
     ]
    },
    {
     "name": "stdout",
     "output_type": "stream",
     "text": [
      "predictors : ['COMBINED_SCORE_KNN_EXI', 'Aldi_POS_TYPE'] Value : 0.13056440979988304\n",
      "predictors : ['COMBINED_SCORE_KNN_EXI', 'Satellite_POS_TYPE'] Value : 0.11959210440963242\n",
      "predictors : ['COMBINED_SCORE_KNN_EXI', 'UDAAN_POS_TYPE'] Value : 0.12339019089296666\n",
      "predictors :"
     ]
    },
    {
     "name": "stderr",
     "output_type": "stream",
     "text": [
      "C:\\Users\\aman.khatri91425\\AppData\\Local\\Continuum\\anaconda3\\lib\\site-packages\\sklearn\\linear_model\\logistic.py:433: FutureWarning: Default solver will be changed to 'lbfgs' in 0.22. Specify a solver to silence this warning.\n",
      "  FutureWarning)\n",
      "C:\\Users\\aman.khatri91425\\AppData\\Local\\Continuum\\anaconda3\\lib\\site-packages\\sklearn\\linear_model\\logistic.py:433: FutureWarning: Default solver will be changed to 'lbfgs' in 0.22. Specify a solver to silence this warning.\n",
      "  FutureWarning)\n",
      "C:\\Users\\aman.khatri91425\\AppData\\Local\\Continuum\\anaconda3\\lib\\site-packages\\sklearn\\linear_model\\logistic.py:433: FutureWarning: Default solver will be changed to 'lbfgs' in 0.22. Specify a solver to silence this warning.\n",
      "  FutureWarning)\n"
     ]
    },
    {
     "name": "stdout",
     "output_type": "stream",
     "text": [
      " ['COMBINED_SCORE_KNN_EXI', 'RISK_FSTQPD30_RATE', 'CASE_COUNT'] Value : 0.14301342941287265\n",
      "predictors : ['COMBINED_SCORE_KNN_EXI', 'RISK_FSTQPD30_RATE', 'RISK_FPD30_RATE'] Value : 0.17346798867273328\n",
      "predictors : ['COMBINED_SCORE_KNN_EXI', 'RISK_FSTQPD30_RATE', 'RISK_FSPD30_RATE'] Value : 0.15724150533110715\n"
     ]
    },
    {
     "name": "stderr",
     "output_type": "stream",
     "text": [
      "C:\\Users\\aman.khatri91425\\AppData\\Local\\Continuum\\anaconda3\\lib\\site-packages\\sklearn\\linear_model\\logistic.py:433: FutureWarning: Default solver will be changed to 'lbfgs' in 0.22. Specify a solver to silence this warning.\n",
      "  FutureWarning)\n",
      "C:\\Users\\aman.khatri91425\\AppData\\Local\\Continuum\\anaconda3\\lib\\site-packages\\sklearn\\linear_model\\logistic.py:433: FutureWarning: Default solver will be changed to 'lbfgs' in 0.22. Specify a solver to silence this warning.\n",
      "  FutureWarning)\n",
      "C:\\Users\\aman.khatri91425\\AppData\\Local\\Continuum\\anaconda3\\lib\\site-packages\\sklearn\\linear_model\\logistic.py:433: FutureWarning: Default solver will be changed to 'lbfgs' in 0.22. Specify a solver to silence this warning.\n",
      "  FutureWarning)\n"
     ]
    },
    {
     "name": "stdout",
     "output_type": "stream",
     "text": [
      "predictors : ['COMBINED_SCORE_KNN_EXI', 'RISK_FSTQPD30_RATE', 'RISK_FSTPD30_RATE'] Value : 0.161909622089895\n",
      "predictors : ['COMBINED_SCORE_KNN_EXI', 'RISK_FSTQPD30_RATE', 'COMBINED_SCORE_KNN_NTC'] Value : 0.1546535370961486\n",
      "predictors : ['COMBINED_SCORE_KNN_EXI', 'RISK_FSTQPD30_RATE', 'AP_POS_TYPE'] Value : 0.15537108397323252\n"
     ]
    },
    {
     "name": "stderr",
     "output_type": "stream",
     "text": [
      "C:\\Users\\aman.khatri91425\\AppData\\Local\\Continuum\\anaconda3\\lib\\site-packages\\sklearn\\linear_model\\logistic.py:433: FutureWarning: Default solver will be changed to 'lbfgs' in 0.22. Specify a solver to silence this warning.\n",
      "  FutureWarning)\n",
      "C:\\Users\\aman.khatri91425\\AppData\\Local\\Continuum\\anaconda3\\lib\\site-packages\\sklearn\\linear_model\\logistic.py:433: FutureWarning: Default solver will be changed to 'lbfgs' in 0.22. Specify a solver to silence this warning.\n",
      "  FutureWarning)\n",
      "C:\\Users\\aman.khatri91425\\AppData\\Local\\Continuum\\anaconda3\\lib\\site-packages\\sklearn\\linear_model\\logistic.py:433: FutureWarning: Default solver will be changed to 'lbfgs' in 0.22. Specify a solver to silence this warning.\n",
      "  FutureWarning)\n"
     ]
    },
    {
     "name": "stdout",
     "output_type": "stream",
     "text": [
      "predictors : ['COMBINED_SCORE_KNN_EXI', 'RISK_FSTQPD30_RATE', 'Aldi_POS_TYPE'] Value : 0.1563919728239589\n",
      "predictors : ['COMBINED_SCORE_KNN_EXI', 'RISK_FSTQPD30_RATE', 'Satellite_POS_TYPE'] Value : 0.1534986628330841\n",
      "predictors : ['COMBINED_SCORE_KNN_EXI', 'RISK_FSTQPD30_RATE', 'UDAAN_POS_TYPE'] Value : 0.15431957345643998\n"
     ]
    },
    {
     "name": "stderr",
     "output_type": "stream",
     "text": [
      "C:\\Users\\aman.khatri91425\\AppData\\Local\\Continuum\\anaconda3\\lib\\site-packages\\sklearn\\linear_model\\logistic.py:433: FutureWarning: Default solver will be changed to 'lbfgs' in 0.22. Specify a solver to silence this warning.\n",
      "  FutureWarning)\n",
      "C:\\Users\\aman.khatri91425\\AppData\\Local\\Continuum\\anaconda3\\lib\\site-packages\\sklearn\\linear_model\\logistic.py:433: FutureWarning: Default solver will be changed to 'lbfgs' in 0.22. Specify a solver to silence this warning.\n",
      "  FutureWarning)\n",
      "C:\\Users\\aman.khatri91425\\AppData\\Local\\Continuum\\anaconda3\\lib\\site-packages\\sklearn\\linear_model\\logistic.py:433: FutureWarning: Default solver will be changed to 'lbfgs' in 0.22. Specify a solver to silence this warning.\n",
      "  FutureWarning)\n"
     ]
    },
    {
     "name": "stdout",
     "output_type": "stream",
     "text": [
      "predictors : ['COMBINED_SCORE_KNN_EXI', 'RISK_FSTQPD30_RATE', 'RISK_FPD30_RATE', 'CASE_COUNT'] Value : 0.16468282015795532\n",
      "predictors : ['COMBINED_SCORE_KNN_EXI', 'RISK_FSTQPD30_RATE', 'RISK_FPD30_RATE', 'RISK_FSPD30_RATE'] Value : 0.1760217106362545\n",
      "predictors :"
     ]
    },
    {
     "name": "stderr",
     "output_type": "stream",
     "text": [
      "C:\\Users\\aman.khatri91425\\AppData\\Local\\Continuum\\anaconda3\\lib\\site-packages\\sklearn\\linear_model\\logistic.py:433: FutureWarning: Default solver will be changed to 'lbfgs' in 0.22. Specify a solver to silence this warning.\n",
      "  FutureWarning)\n",
      "C:\\Users\\aman.khatri91425\\AppData\\Local\\Continuum\\anaconda3\\lib\\site-packages\\sklearn\\linear_model\\logistic.py:433: FutureWarning: Default solver will be changed to 'lbfgs' in 0.22. Specify a solver to silence this warning.\n",
      "  FutureWarning)\n"
     ]
    },
    {
     "name": "stdout",
     "output_type": "stream",
     "text": [
      " ['COMBINED_SCORE_KNN_EXI', 'RISK_FSTQPD30_RATE', 'RISK_FPD30_RATE', 'RISK_FSTPD30_RATE'] Value : 0.18234164755312277\n",
      "predictors : ['COMBINED_SCORE_KNN_EXI', 'RISK_FSTQPD30_RATE', 'RISK_FPD30_RATE', 'COMBINED_SCORE_KNN_NTC'] Value : 0.17514505608201913\n",
      "predictors : ['COMBINED_SCORE_KNN_EXI', 'RISK_FSTQPD30_RATE', 'RISK_FPD30_RATE', 'AP_POS_TYPE'] Value : 0.17399218160122798\n"
     ]
    },
    {
     "name": "stderr",
     "output_type": "stream",
     "text": [
      "C:\\Users\\aman.khatri91425\\AppData\\Local\\Continuum\\anaconda3\\lib\\site-packages\\sklearn\\linear_model\\logistic.py:433: FutureWarning: Default solver will be changed to 'lbfgs' in 0.22. Specify a solver to silence this warning.\n",
      "  FutureWarning)\n",
      "C:\\Users\\aman.khatri91425\\AppData\\Local\\Continuum\\anaconda3\\lib\\site-packages\\sklearn\\linear_model\\logistic.py:433: FutureWarning: Default solver will be changed to 'lbfgs' in 0.22. Specify a solver to silence this warning.\n",
      "  FutureWarning)\n",
      "C:\\Users\\aman.khatri91425\\AppData\\Local\\Continuum\\anaconda3\\lib\\site-packages\\sklearn\\linear_model\\logistic.py:433: FutureWarning: Default solver will be changed to 'lbfgs' in 0.22. Specify a solver to silence this warning.\n",
      "  FutureWarning)\n"
     ]
    },
    {
     "name": "stdout",
     "output_type": "stream",
     "text": [
      "predictors : ['COMBINED_SCORE_KNN_EXI', 'RISK_FSTQPD30_RATE', 'RISK_FPD30_RATE', 'Aldi_POS_TYPE'] Value : 0.18124689174466146\n",
      "predictors : ['COMBINED_SCORE_KNN_EXI', 'RISK_FSTQPD30_RATE', 'RISK_FPD30_RATE', 'Satellite_POS_TYPE'] Value : 0.17047156490837057\n",
      "predictors : ['COMBINED_SCORE_KNN_EXI', 'RISK_FSTQPD30_RATE', 'RISK_FPD30_RATE', 'UDAAN_POS_TYPE'] Value : 0.17345748981579634\n"
     ]
    },
    {
     "name": "stderr",
     "output_type": "stream",
     "text": [
      "C:\\Users\\aman.khatri91425\\AppData\\Local\\Continuum\\anaconda3\\lib\\site-packages\\sklearn\\linear_model\\logistic.py:433: FutureWarning: Default solver will be changed to 'lbfgs' in 0.22. Specify a solver to silence this warning.\n",
      "  FutureWarning)\n",
      "C:\\Users\\aman.khatri91425\\AppData\\Local\\Continuum\\anaconda3\\lib\\site-packages\\sklearn\\linear_model\\logistic.py:433: FutureWarning: Default solver will be changed to 'lbfgs' in 0.22. Specify a solver to silence this warning.\n",
      "  FutureWarning)\n",
      "C:\\Users\\aman.khatri91425\\AppData\\Local\\Continuum\\anaconda3\\lib\\site-packages\\sklearn\\linear_model\\logistic.py:433: FutureWarning: Default solver will be changed to 'lbfgs' in 0.22. Specify a solver to silence this warning.\n",
      "  FutureWarning)\n"
     ]
    },
    {
     "name": "stdout",
     "output_type": "stream",
     "text": [
      "predictors : ['COMBINED_SCORE_KNN_EXI', 'RISK_FSTQPD30_RATE', 'RISK_FPD30_RATE', 'RISK_FSTPD30_RATE', 'CASE_COUNT'] Value : 0.17097688489165752\n",
      "predictors : ['COMBINED_SCORE_KNN_EXI', 'RISK_FSTQPD30_RATE', 'RISK_FPD30_RATE', 'RISK_FSTPD30_RATE', 'RISK_FSPD30_RATE'] Value : 0.18299632627497675\n"
     ]
    },
    {
     "name": "stderr",
     "output_type": "stream",
     "text": [
      "C:\\Users\\aman.khatri91425\\AppData\\Local\\Continuum\\anaconda3\\lib\\site-packages\\sklearn\\linear_model\\logistic.py:433: FutureWarning: Default solver will be changed to 'lbfgs' in 0.22. Specify a solver to silence this warning.\n",
      "  FutureWarning)\n",
      "C:\\Users\\aman.khatri91425\\AppData\\Local\\Continuum\\anaconda3\\lib\\site-packages\\sklearn\\linear_model\\logistic.py:433: FutureWarning: Default solver will be changed to 'lbfgs' in 0.22. Specify a solver to silence this warning.\n",
      "  FutureWarning)\n"
     ]
    },
    {
     "name": "stdout",
     "output_type": "stream",
     "text": [
      "predictors : ['COMBINED_SCORE_KNN_EXI', 'RISK_FSTQPD30_RATE', 'RISK_FPD30_RATE', 'RISK_FSTPD30_RATE', 'COMBINED_SCORE_KNN_NTC'] Value : 0.18341753041637587\n",
      "predictors : ['COMBINED_SCORE_KNN_EXI', 'RISK_FSTQPD30_RATE', 'RISK_FPD30_RATE', 'RISK_FSTPD30_RATE', 'AP_POS_TYPE'] Value : 0.1810417890752145\n"
     ]
    },
    {
     "name": "stderr",
     "output_type": "stream",
     "text": [
      "C:\\Users\\aman.khatri91425\\AppData\\Local\\Continuum\\anaconda3\\lib\\site-packages\\sklearn\\linear_model\\logistic.py:433: FutureWarning: Default solver will be changed to 'lbfgs' in 0.22. Specify a solver to silence this warning.\n",
      "  FutureWarning)\n",
      "C:\\Users\\aman.khatri91425\\AppData\\Local\\Continuum\\anaconda3\\lib\\site-packages\\sklearn\\linear_model\\logistic.py:433: FutureWarning: Default solver will be changed to 'lbfgs' in 0.22. Specify a solver to silence this warning.\n",
      "  FutureWarning)\n"
     ]
    },
    {
     "name": "stdout",
     "output_type": "stream",
     "text": [
      "predictors : ['COMBINED_SCORE_KNN_EXI', 'RISK_FSTQPD30_RATE', 'RISK_FPD30_RATE', 'RISK_FSTPD30_RATE', 'Aldi_POS_TYPE'] Value : 0.18970859547666752\n",
      "predictors : ['COMBINED_SCORE_KNN_EXI', 'RISK_FSTQPD30_RATE', 'RISK_FPD30_RATE', 'RISK_FSTPD30_RATE', 'Satellite_POS_TYPE'] Value : 0.17875403815409596\n"
     ]
    },
    {
     "name": "stderr",
     "output_type": "stream",
     "text": [
      "C:\\Users\\aman.khatri91425\\AppData\\Local\\Continuum\\anaconda3\\lib\\site-packages\\sklearn\\linear_model\\logistic.py:433: FutureWarning: Default solver will be changed to 'lbfgs' in 0.22. Specify a solver to silence this warning.\n",
      "  FutureWarning)\n",
      "C:\\Users\\aman.khatri91425\\AppData\\Local\\Continuum\\anaconda3\\lib\\site-packages\\sklearn\\linear_model\\logistic.py:433: FutureWarning: Default solver will be changed to 'lbfgs' in 0.22. Specify a solver to silence this warning.\n",
      "  FutureWarning)\n"
     ]
    },
    {
     "name": "stdout",
     "output_type": "stream",
     "text": [
      "predictors : ['COMBINED_SCORE_KNN_EXI', 'RISK_FSTQPD30_RATE', 'RISK_FPD30_RATE', 'RISK_FSTPD30_RATE', 'UDAAN_POS_TYPE'] Value : 0.18234064766198577\n",
      "predictors : ['COMBINED_SCORE_KNN_EXI', 'RISK_FSTQPD30_RATE', 'RISK_FPD30_RATE', 'RISK_FSTPD30_RATE', 'Aldi_POS_TYPE', 'CASE_COUNT'] Value : 0.17741530890824286\n"
     ]
    },
    {
     "name": "stderr",
     "output_type": "stream",
     "text": [
      "C:\\Users\\aman.khatri91425\\AppData\\Local\\Continuum\\anaconda3\\lib\\site-packages\\sklearn\\linear_model\\logistic.py:433: FutureWarning: Default solver will be changed to 'lbfgs' in 0.22. Specify a solver to silence this warning.\n",
      "  FutureWarning)\n",
      "C:\\Users\\aman.khatri91425\\AppData\\Local\\Continuum\\anaconda3\\lib\\site-packages\\sklearn\\linear_model\\logistic.py:433: FutureWarning: Default solver will be changed to 'lbfgs' in 0.22. Specify a solver to silence this warning.\n",
      "  FutureWarning)\n"
     ]
    },
    {
     "name": "stdout",
     "output_type": "stream",
     "text": [
      "predictors : ['COMBINED_SCORE_KNN_EXI', 'RISK_FSTQPD30_RATE', 'RISK_FPD30_RATE', 'RISK_FSTPD30_RATE', 'Aldi_POS_TYPE', 'RISK_FSPD30_RATE'] Value : 0.19006218197993685\n",
      "predictors : ['COMBINED_SCORE_KNN_EXI', 'RISK_FSTQPD30_RATE', 'RISK_FPD30_RATE', 'RISK_FSTPD30_RATE', 'Aldi_POS_TYPE', 'COMBINED_SCORE_KNN_NTC'] Value : 0.19088771709980068\n"
     ]
    },
    {
     "name": "stderr",
     "output_type": "stream",
     "text": [
      "C:\\Users\\aman.khatri91425\\AppData\\Local\\Continuum\\anaconda3\\lib\\site-packages\\sklearn\\linear_model\\logistic.py:433: FutureWarning: Default solver will be changed to 'lbfgs' in 0.22. Specify a solver to silence this warning.\n",
      "  FutureWarning)\n",
      "C:\\Users\\aman.khatri91425\\AppData\\Local\\Continuum\\anaconda3\\lib\\site-packages\\sklearn\\linear_model\\logistic.py:433: FutureWarning: Default solver will be changed to 'lbfgs' in 0.22. Specify a solver to silence this warning.\n",
      "  FutureWarning)\n"
     ]
    },
    {
     "name": "stdout",
     "output_type": "stream",
     "text": [
      "predictors : ['COMBINED_SCORE_KNN_EXI', 'RISK_FSTQPD30_RATE', 'RISK_FPD30_RATE', 'RISK_FSTPD30_RATE', 'Aldi_POS_TYPE', 'AP_POS_TYPE'] Value : 0.18266511233589444\n",
      "predictors : ['COMBINED_SCORE_KNN_EXI', 'RISK_FSTQPD30_RATE', 'RISK_FPD30_RATE', 'RISK_FSTPD30_RATE', 'Aldi_POS_TYPE', 'Satellite_POS_TYPE'] Value : 0.1837449947636951\n",
      "predictors :"
     ]
    },
    {
     "name": "stderr",
     "output_type": "stream",
     "text": [
      "C:\\Users\\aman.khatri91425\\AppData\\Local\\Continuum\\anaconda3\\lib\\site-packages\\sklearn\\linear_model\\logistic.py:433: FutureWarning: Default solver will be changed to 'lbfgs' in 0.22. Specify a solver to silence this warning.\n",
      "  FutureWarning)\n",
      "C:\\Users\\aman.khatri91425\\AppData\\Local\\Continuum\\anaconda3\\lib\\site-packages\\sklearn\\linear_model\\logistic.py:433: FutureWarning: Default solver will be changed to 'lbfgs' in 0.22. Specify a solver to silence this warning.\n",
      "  FutureWarning)\n"
     ]
    },
    {
     "name": "stdout",
     "output_type": "stream",
     "text": [
      " ['COMBINED_SCORE_KNN_EXI', 'RISK_FSTQPD30_RATE', 'RISK_FPD30_RATE', 'RISK_FSTPD30_RATE', 'Aldi_POS_TYPE', 'UDAAN_POS_TYPE'] Value : 0.18968659787165687\n",
      "predictors : ['COMBINED_SCORE_KNN_EXI', 'RISK_FSTQPD30_RATE', 'RISK_FPD30_RATE', 'RISK_FSTPD30_RATE', 'Aldi_POS_TYPE', 'COMBINED_SCORE_KNN_NTC', 'CASE_COUNT'] Value : 0.179292354544899\n"
     ]
    },
    {
     "name": "stderr",
     "output_type": "stream",
     "text": [
      "C:\\Users\\aman.khatri91425\\AppData\\Local\\Continuum\\anaconda3\\lib\\site-packages\\sklearn\\linear_model\\logistic.py:433: FutureWarning: Default solver will be changed to 'lbfgs' in 0.22. Specify a solver to silence this warning.\n",
      "  FutureWarning)\n",
      "C:\\Users\\aman.khatri91425\\AppData\\Local\\Continuum\\anaconda3\\lib\\site-packages\\sklearn\\linear_model\\logistic.py:433: FutureWarning: Default solver will be changed to 'lbfgs' in 0.22. Specify a solver to silence this warning.\n",
      "  FutureWarning)\n"
     ]
    },
    {
     "name": "stdout",
     "output_type": "stream",
     "text": [
      "predictors : ['COMBINED_SCORE_KNN_EXI', 'RISK_FSTQPD30_RATE', 'RISK_FPD30_RATE', 'RISK_FSTPD30_RATE', 'Aldi_POS_TYPE', 'COMBINED_SCORE_KNN_NTC', 'RISK_FSPD30_RATE'] Value : 0.191284548894739\n"
     ]
    },
    {
     "name": "stderr",
     "output_type": "stream",
     "text": [
      "C:\\Users\\aman.khatri91425\\AppData\\Local\\Continuum\\anaconda3\\lib\\site-packages\\sklearn\\linear_model\\logistic.py:433: FutureWarning: Default solver will be changed to 'lbfgs' in 0.22. Specify a solver to silence this warning.\n",
      "  FutureWarning)\n"
     ]
    },
    {
     "name": "stdout",
     "output_type": "stream",
     "text": [
      "predictors : ['COMBINED_SCORE_KNN_EXI', 'RISK_FSTQPD30_RATE', 'RISK_FPD30_RATE', 'RISK_FSTPD30_RATE', 'Aldi_POS_TYPE', 'COMBINED_SCORE_KNN_NTC', 'AP_POS_TYPE'] Value : 0.1838684813190965\n",
      "predictors : ['COMBINED_SCORE_KNN_EXI', 'RISK_FSTQPD30_RATE', 'RISK_FPD30_RATE', 'RISK_FSTPD30_RATE', 'Aldi_POS_TYPE', 'COMBINED_SCORE_KNN_NTC', 'Satellite_POS_TYPE'] Value : 0.1850863487237826\n"
     ]
    },
    {
     "name": "stderr",
     "output_type": "stream",
     "text": [
      "C:\\Users\\aman.khatri91425\\AppData\\Local\\Continuum\\anaconda3\\lib\\site-packages\\sklearn\\linear_model\\logistic.py:433: FutureWarning: Default solver will be changed to 'lbfgs' in 0.22. Specify a solver to silence this warning.\n",
      "  FutureWarning)\n",
      "C:\\Users\\aman.khatri91425\\AppData\\Local\\Continuum\\anaconda3\\lib\\site-packages\\sklearn\\linear_model\\logistic.py:433: FutureWarning: Default solver will be changed to 'lbfgs' in 0.22. Specify a solver to silence this warning.\n",
      "  FutureWarning)\n"
     ]
    },
    {
     "name": "stdout",
     "output_type": "stream",
     "text": [
      "predictors : ['COMBINED_SCORE_KNN_EXI', 'RISK_FSTQPD30_RATE', 'RISK_FPD30_RATE', 'RISK_FSTPD30_RATE', 'Aldi_POS_TYPE', 'COMBINED_SCORE_KNN_NTC', 'UDAAN_POS_TYPE'] Value : 0.19083447289676347\n",
      "predictors : ['COMBINED_SCORE_KNN_EXI', 'RISK_FSTQPD30_RATE', 'RISK_FPD30_RATE', 'RISK_FSTPD30_RATE', 'Aldi_POS_TYPE', 'COMBINED_SCORE_KNN_NTC', 'RISK_FSPD30_RATE', 'CASE_COUNT'] Value : 0.17985404339102562\n"
     ]
    },
    {
     "name": "stderr",
     "output_type": "stream",
     "text": [
      "C:\\Users\\aman.khatri91425\\AppData\\Local\\Continuum\\anaconda3\\lib\\site-packages\\sklearn\\linear_model\\logistic.py:433: FutureWarning: Default solver will be changed to 'lbfgs' in 0.22. Specify a solver to silence this warning.\n",
      "  FutureWarning)\n",
      "C:\\Users\\aman.khatri91425\\AppData\\Local\\Continuum\\anaconda3\\lib\\site-packages\\sklearn\\linear_model\\logistic.py:433: FutureWarning: Default solver will be changed to 'lbfgs' in 0.22. Specify a solver to silence this warning.\n",
      "  FutureWarning)\n"
     ]
    },
    {
     "name": "stdout",
     "output_type": "stream",
     "text": [
      "predictors : ['COMBINED_SCORE_KNN_EXI', 'RISK_FSTQPD30_RATE', 'RISK_FPD30_RATE', 'RISK_FSTPD30_RATE', 'Aldi_POS_TYPE', 'COMBINED_SCORE_KNN_NTC', 'RISK_FSPD30_RATE', 'AP_POS_TYPE'] Value : 0.18418894642845762\n"
     ]
    },
    {
     "name": "stderr",
     "output_type": "stream",
     "text": [
      "C:\\Users\\aman.khatri91425\\AppData\\Local\\Continuum\\anaconda3\\lib\\site-packages\\sklearn\\linear_model\\logistic.py:433: FutureWarning: Default solver will be changed to 'lbfgs' in 0.22. Specify a solver to silence this warning.\n",
      "  FutureWarning)\n"
     ]
    },
    {
     "name": "stdout",
     "output_type": "stream",
     "text": [
      "predictors : ['COMBINED_SCORE_KNN_EXI', 'RISK_FSTQPD30_RATE', 'RISK_FPD30_RATE', 'RISK_FSTPD30_RATE', 'Aldi_POS_TYPE', 'COMBINED_SCORE_KNN_NTC', 'RISK_FSPD30_RATE', 'Satellite_POS_TYPE'] Value : 0.18530507490996917\n"
     ]
    },
    {
     "name": "stderr",
     "output_type": "stream",
     "text": [
      "C:\\Users\\aman.khatri91425\\AppData\\Local\\Continuum\\anaconda3\\lib\\site-packages\\sklearn\\linear_model\\logistic.py:433: FutureWarning: Default solver will be changed to 'lbfgs' in 0.22. Specify a solver to silence this warning.\n",
      "  FutureWarning)\n"
     ]
    },
    {
     "name": "stdout",
     "output_type": "stream",
     "text": [
      "predictors : ['COMBINED_SCORE_KNN_EXI', 'RISK_FSTQPD30_RATE', 'RISK_FPD30_RATE', 'RISK_FSTPD30_RATE', 'Aldi_POS_TYPE', 'COMBINED_SCORE_KNN_NTC', 'RISK_FSPD30_RATE', 'UDAAN_POS_TYPE'] Value : 0.19099758013846246\n",
      "predictors : ['COMBINED_SCORE_KNN_EXI', 'RISK_FSTQPD30_RATE', 'RISK_FPD30_RATE', 'RISK_FSTPD30_RATE', 'Aldi_POS_TYPE', 'COMBINED_SCORE_KNN_NTC', 'RISK_FSPD30_RATE', 'UDAAN_POS_TYPE', 'CASE_COUNT'] Value : 0.17722507961945633\n"
     ]
    },
    {
     "name": "stderr",
     "output_type": "stream",
     "text": [
      "C:\\Users\\aman.khatri91425\\AppData\\Local\\Continuum\\anaconda3\\lib\\site-packages\\sklearn\\linear_model\\logistic.py:433: FutureWarning: Default solver will be changed to 'lbfgs' in 0.22. Specify a solver to silence this warning.\n",
      "  FutureWarning)\n",
      "C:\\Users\\aman.khatri91425\\AppData\\Local\\Continuum\\anaconda3\\lib\\site-packages\\sklearn\\linear_model\\logistic.py:433: FutureWarning: Default solver will be changed to 'lbfgs' in 0.22. Specify a solver to silence this warning.\n",
      "  FutureWarning)\n"
     ]
    },
    {
     "name": "stdout",
     "output_type": "stream",
     "text": [
      "predictors : ['COMBINED_SCORE_KNN_EXI', 'RISK_FSTQPD30_RATE', 'RISK_FPD30_RATE', 'RISK_FSTPD30_RATE', 'Aldi_POS_TYPE', 'COMBINED_SCORE_KNN_NTC', 'RISK_FSPD30_RATE', 'UDAAN_POS_TYPE', 'AP_POS_TYPE'] Value : 0.18413470233428342\n"
     ]
    },
    {
     "name": "stderr",
     "output_type": "stream",
     "text": [
      "C:\\Users\\aman.khatri91425\\AppData\\Local\\Continuum\\anaconda3\\lib\\site-packages\\sklearn\\linear_model\\logistic.py:433: FutureWarning: Default solver will be changed to 'lbfgs' in 0.22. Specify a solver to silence this warning.\n",
      "  FutureWarning)\n"
     ]
    },
    {
     "name": "stdout",
     "output_type": "stream",
     "text": [
      "predictors : ['COMBINED_SCORE_KNN_EXI', 'RISK_FSTQPD30_RATE', 'RISK_FPD30_RATE', 'RISK_FSTPD30_RATE', 'Aldi_POS_TYPE', 'COMBINED_SCORE_KNN_NTC', 'RISK_FSPD30_RATE', 'UDAAN_POS_TYPE', 'Satellite_POS_TYPE'] Value : 0.1853150738213376\n",
      "predictors : ['COMBINED_SCORE_KNN_EXI', 'RISK_FSTQPD30_RATE', 'RISK_FPD30_RATE', 'RISK_FSTPD30_RATE', 'Aldi_POS_TYPE', 'COMBINED_SCORE_KNN_NTC', 'RISK_FSPD30_RATE', 'UDAAN_POS_TYPE', 'Satellite_POS_TYPE', 'CASE_COUNT'] Value : 0.1749035823724694\n"
     ]
    },
    {
     "name": "stderr",
     "output_type": "stream",
     "text": [
      "C:\\Users\\aman.khatri91425\\AppData\\Local\\Continuum\\anaconda3\\lib\\site-packages\\sklearn\\linear_model\\logistic.py:433: FutureWarning: Default solver will be changed to 'lbfgs' in 0.22. Specify a solver to silence this warning.\n",
      "  FutureWarning)\n",
      "C:\\Users\\aman.khatri91425\\AppData\\Local\\Continuum\\anaconda3\\lib\\site-packages\\sklearn\\linear_model\\logistic.py:433: FutureWarning: Default solver will be changed to 'lbfgs' in 0.22. Specify a solver to silence this warning.\n",
      "  FutureWarning)\n"
     ]
    },
    {
     "name": "stdout",
     "output_type": "stream",
     "text": [
      "predictors : ['COMBINED_SCORE_KNN_EXI', 'RISK_FSTQPD30_RATE', 'RISK_FPD30_RATE', 'RISK_FSTPD30_RATE', 'Aldi_POS_TYPE', 'COMBINED_SCORE_KNN_NTC', 'RISK_FSPD30_RATE', 'UDAAN_POS_TYPE', 'Satellite_POS_TYPE', 'AP_POS_TYPE'] Value : 0.18409245693375142\n",
      "predictors : ['COMBINED_SCORE_KNN_EXI', 'RISK_FSTQPD30_RATE', 'RISK_FPD30_RATE', 'RISK_FSTPD30_RATE', 'Aldi_POS_TYPE', 'COMBINED_SCORE_KNN_NTC', 'RISK_FSPD30_RATE', 'UDAAN_POS_TYPE', 'Satellite_POS_TYPE', 'AP_POS_TYPE', 'CASE_COUNT'] Value : 0.1746636084996247\n"
     ]
    },
    {
     "name": "stderr",
     "output_type": "stream",
     "text": [
      "C:\\Users\\aman.khatri91425\\AppData\\Local\\Continuum\\anaconda3\\lib\\site-packages\\sklearn\\linear_model\\logistic.py:433: FutureWarning: Default solver will be changed to 'lbfgs' in 0.22. Specify a solver to silence this warning.\n",
      "  FutureWarning)\n"
     ]
    }
   ],
   "source": [
    "out = {'pred_list' : [],'value' :[]}\n",
    "df_train_temp = df_train[0:10000]\n",
    "\n",
    "for y in range(len(x_columns)):\n",
    "    tmp = {'pred':[],'value':[]}\n",
    "    for x in x_columns:\n",
    "        if x not in out['pred_list']:\n",
    "            pred = out['pred_list'].copy()\n",
    "            pred.append(x)\n",
    "#             bst = LogisticRegression(penalty = 'l1', C=params['C'])\n",
    "            bst = LogisticRegression(penalty = 'l1', C=1.5219615556185229)\n",
    "            bst.fit(df_train_temp[pred], df_train_temp[y_column])\n",
    "            ypred_train = bst.predict_proba(df_train_temp[pred])[:, 1]\n",
    "            tmp[\"pred\"].append(x)\n",
    "            tmp[\"value\"].append(2*roc_auc_score(df_train_temp[y_column], ypred_train)-1)\n",
    "            print(\"predictors :\",pred,\"Value :\", 2*roc_auc_score(df_train_temp[y_column], ypred_train)-1)\n",
    "    tmp_df = pd.DataFrame(tmp)\n",
    "    out['pred_list'].append(tmp_df.loc[tmp_df[\"value\"].idxmax(),\"pred\"])\n",
    "    out['value'].append(tmp_df.loc[tmp_df[\"value\"].idxmax(),\"value\"])    "
   ]
  },
  {
   "cell_type": "code",
   "execution_count": 118,
   "metadata": {
    "scrolled": true
   },
   "outputs": [
    {
     "data": {
      "text/html": [
       "<div>\n",
       "<style scoped>\n",
       "    .dataframe tbody tr th:only-of-type {\n",
       "        vertical-align: middle;\n",
       "    }\n",
       "\n",
       "    .dataframe tbody tr th {\n",
       "        vertical-align: top;\n",
       "    }\n",
       "\n",
       "    .dataframe thead th {\n",
       "        text-align: right;\n",
       "    }\n",
       "</style>\n",
       "<table border=\"1\" class=\"dataframe\">\n",
       "  <thead>\n",
       "    <tr style=\"text-align: right;\">\n",
       "      <th></th>\n",
       "      <th>pred_list</th>\n",
       "      <th>value</th>\n",
       "      <th>increment</th>\n",
       "    </tr>\n",
       "  </thead>\n",
       "  <tbody>\n",
       "    <tr>\n",
       "      <th>0</th>\n",
       "      <td>COMBINED_SCORE_KNN_EXI</td>\n",
       "      <td>0.123390</td>\n",
       "      <td>NaN</td>\n",
       "    </tr>\n",
       "    <tr>\n",
       "      <th>1</th>\n",
       "      <td>RISK_FSTQPD30_RATE</td>\n",
       "      <td>0.154300</td>\n",
       "      <td>0.030909</td>\n",
       "    </tr>\n",
       "    <tr>\n",
       "      <th>2</th>\n",
       "      <td>RISK_FPD30_RATE</td>\n",
       "      <td>0.173468</td>\n",
       "      <td>0.019168</td>\n",
       "    </tr>\n",
       "    <tr>\n",
       "      <th>3</th>\n",
       "      <td>RISK_FSTPD30_RATE</td>\n",
       "      <td>0.182342</td>\n",
       "      <td>0.008874</td>\n",
       "    </tr>\n",
       "    <tr>\n",
       "      <th>4</th>\n",
       "      <td>Aldi_POS_TYPE</td>\n",
       "      <td>0.189709</td>\n",
       "      <td>0.007367</td>\n",
       "    </tr>\n",
       "    <tr>\n",
       "      <th>5</th>\n",
       "      <td>COMBINED_SCORE_KNN_NTC</td>\n",
       "      <td>0.190888</td>\n",
       "      <td>0.001179</td>\n",
       "    </tr>\n",
       "    <tr>\n",
       "      <th>6</th>\n",
       "      <td>RISK_FSPD30_RATE</td>\n",
       "      <td>0.191285</td>\n",
       "      <td>0.000397</td>\n",
       "    </tr>\n",
       "    <tr>\n",
       "      <th>7</th>\n",
       "      <td>UDAAN_POS_TYPE</td>\n",
       "      <td>0.190998</td>\n",
       "      <td>-0.000287</td>\n",
       "    </tr>\n",
       "    <tr>\n",
       "      <th>8</th>\n",
       "      <td>Satellite_POS_TYPE</td>\n",
       "      <td>0.185315</td>\n",
       "      <td>-0.005683</td>\n",
       "    </tr>\n",
       "    <tr>\n",
       "      <th>9</th>\n",
       "      <td>AP_POS_TYPE</td>\n",
       "      <td>0.184092</td>\n",
       "      <td>-0.001223</td>\n",
       "    </tr>\n",
       "    <tr>\n",
       "      <th>10</th>\n",
       "      <td>CASE_COUNT</td>\n",
       "      <td>0.174664</td>\n",
       "      <td>-0.009429</td>\n",
       "    </tr>\n",
       "  </tbody>\n",
       "</table>\n",
       "</div>"
      ],
      "text/plain": [
       "                 pred_list     value  increment\n",
       "0   COMBINED_SCORE_KNN_EXI  0.123390        NaN\n",
       "1       RISK_FSTQPD30_RATE  0.154300   0.030909\n",
       "2          RISK_FPD30_RATE  0.173468   0.019168\n",
       "3        RISK_FSTPD30_RATE  0.182342   0.008874\n",
       "4            Aldi_POS_TYPE  0.189709   0.007367\n",
       "5   COMBINED_SCORE_KNN_NTC  0.190888   0.001179\n",
       "6         RISK_FSPD30_RATE  0.191285   0.000397\n",
       "7           UDAAN_POS_TYPE  0.190998  -0.000287\n",
       "8       Satellite_POS_TYPE  0.185315  -0.005683\n",
       "9              AP_POS_TYPE  0.184092  -0.001223\n",
       "10              CASE_COUNT  0.174664  -0.009429"
      ]
     },
     "execution_count": 118,
     "metadata": {},
     "output_type": "execute_result"
    }
   ],
   "source": [
    "out_df = pd.DataFrame(out)\n",
    "out_df[\"increment\"] = out_df.value-out_df.shift(1)[\"value\"]\n",
    "out_df"
   ]
  },
  {
   "cell_type": "code",
   "execution_count": null,
   "metadata": {},
   "outputs": [],
   "source": []
  },
  {
   "cell_type": "markdown",
   "metadata": {},
   "source": [
    "# Compare with older GSPN"
   ]
  },
  {
   "cell_type": "code",
   "execution_count": 119,
   "metadata": {},
   "outputs": [],
   "source": [
    "df_temp = df_model.dropna(subset = [\"POS_GSPN_V2\"])"
   ]
  },
  {
   "cell_type": "code",
   "execution_count": 120,
   "metadata": {},
   "outputs": [
    {
     "name": "stdout",
     "output_type": "stream",
     "text": [
      "0.0662048199254277\n",
      "0.09764812805575307\n"
     ]
    }
   ],
   "source": [
    "print(2*roc_auc_score(df_temp[\"RISK_FSTQPD60\"],df_temp[\"POS_GSPN_V2\"])-1)\n",
    "print(2*roc_auc_score(df_temp[\"RISK_FSTQPD60\"],df_temp[\"GSPN_SCORE\"])-1)"
   ]
  },
  {
   "cell_type": "code",
   "execution_count": null,
   "metadata": {},
   "outputs": [],
   "source": []
  },
  {
   "cell_type": "markdown",
   "metadata": {},
   "source": [
    "# Define Cutoffs Based on WOE"
   ]
  },
  {
   "cell_type": "code",
   "execution_count": 121,
   "metadata": {},
   "outputs": [],
   "source": [
    "import sys\n",
    "sys.path.append(r\"C:\\Users\\aman.khatri91425\\Desktop\\HomeCredit\\UW\\Scoring Workflow\")"
   ]
  },
  {
   "cell_type": "code",
   "execution_count": 122,
   "metadata": {},
   "outputs": [
    {
     "name": "stderr",
     "output_type": "stream",
     "text": [
      "C:\\Users\\aman.khatri91425\\AppData\\Local\\Continuum\\anaconda3\\lib\\site-packages\\ipykernel_launcher.py:9: FutureWarning: The pandas.datetime class is deprecated and will be removed from pandas in a future version. Import from datetime module instead.\n",
      "  if __name__ == '__main__':\n"
     ]
    },
    {
     "data": {
      "application/vnd.jupyter.widget-view+json": {
       "model_id": "4430adc4ed4e406892366b4398e9779e",
       "version_major": 2,
       "version_minor": 0
      },
      "text/plain": [
       "HBox(children=(FloatProgress(value=0.0, max=1.0), HTML(value='')))"
      ]
     },
     "metadata": {},
     "output_type": "display_data"
    },
    {
     "name": "stdout",
     "output_type": "stream",
     "text": [
      "\n"
     ]
    },
    {
     "data": {
      "text/plain": [
       "'Grouping saved on 2020-12-16 16:31:38 to file myGrouping'"
      ]
     },
     "metadata": {},
     "output_type": "display_data"
    },
    {
     "data": {
      "application/vnd.jupyter.widget-view+json": {
       "model_id": "563c6c51b4024dc8aa5e250cf3356d41",
       "version_major": 2,
       "version_minor": 0
      },
      "text/plain": [
       "HBox(children=(FloatProgress(value=0.0, max=1.0), HTML(value='')))"
      ]
     },
     "metadata": {},
     "output_type": "display_data"
    },
    {
     "name": "stdout",
     "output_type": "stream",
     "text": [
      "\n"
     ]
    }
   ],
   "source": [
    "from scoring.grouping import Grouping\n",
    "\n",
    "grouping = Grouping(columns = [\"GSPN_SCORE\"],\n",
    "                    cat_columns = [],\n",
    "                    group_count=3, \n",
    "                    min_samples=1000, \n",
    "                    min_samples_cat=1000)\n",
    "\n",
    "train_mask =  pd.Series(data =np.where((df_model.TIME_CREATION_DATE >= pd.datetime(2019,1,1))& (df_model.TIME_CREATION_DATE <= pd.datetime(2019,6,30)),True,False),index=df_model.index) \n",
    "\n",
    "grouping.fit(df_model[train_mask][[\"GSPN_SCORE\"]],\n",
    "             df_model[train_mask][\"RISK_FSTQPD60\"],\n",
    "#             w=df_model[train_mask],\n",
    "            progress_bar=True, category_limit=10000);\n",
    "\n",
    "model_filename = 'myGrouping'\n",
    "grouping.save(model_filename)\n",
    "\n",
    "df_model[\"GSPN_WOE\"] = grouping.transform(df_model[[\"GSPN_SCORE\"]], transform_to='woe', progress_bar=True)"
   ]
  },
  {
   "cell_type": "code",
   "execution_count": 123,
   "metadata": {},
   "outputs": [
    {
     "data": {
      "text/markdown": [
       "***"
      ],
      "text/plain": [
       "<IPython.core.display.Markdown object>"
      ]
     },
     "metadata": {},
     "output_type": "display_data"
    },
    {
     "data": {
      "text/markdown": [
       "### GSPN_SCORE"
      ],
      "text/plain": [
       "<IPython.core.display.Markdown object>"
      ]
     },
     "metadata": {},
     "output_type": "display_data"
    },
    {
     "data": {
      "text/html": [
       "<div>\n",
       "<style scoped>\n",
       "    .dataframe tbody tr th:only-of-type {\n",
       "        vertical-align: middle;\n",
       "    }\n",
       "\n",
       "    .dataframe tbody tr th {\n",
       "        vertical-align: top;\n",
       "    }\n",
       "\n",
       "    .dataframe thead th {\n",
       "        text-align: right;\n",
       "    }\n",
       "</style>\n",
       "<table border=\"1\" class=\"dataframe\">\n",
       "  <thead>\n",
       "    <tr style=\"text-align: right;\">\n",
       "      <th></th>\n",
       "      <th>CNT_TOTAL</th>\n",
       "      <th>CNT_DEF</th>\n",
       "      <th>DEF_RATE</th>\n",
       "      <th>DIST_BAD</th>\n",
       "      <th>DIST_GOOD</th>\n",
       "      <th>WOE</th>\n",
       "      <th>WOE_check</th>\n",
       "      <th>SHARE</th>\n",
       "    </tr>\n",
       "    <tr>\n",
       "      <th>BIN_GSPN_SCORE</th>\n",
       "      <th></th>\n",
       "      <th></th>\n",
       "      <th></th>\n",
       "      <th></th>\n",
       "      <th></th>\n",
       "      <th></th>\n",
       "      <th></th>\n",
       "      <th></th>\n",
       "    </tr>\n",
       "  </thead>\n",
       "  <tbody>\n",
       "    <tr>\n",
       "      <th>[-inf, 0.08463)</th>\n",
       "      <td>404515.0</td>\n",
       "      <td>16955.0</td>\n",
       "      <td>0.0419</td>\n",
       "      <td>0.4974</td>\n",
       "      <td>0.5753</td>\n",
       "      <td>0.1423</td>\n",
       "      <td>0.1454</td>\n",
       "      <td>0.5715</td>\n",
       "    </tr>\n",
       "    <tr>\n",
       "      <th>[0.08463, 0.1271)</th>\n",
       "      <td>277168.0</td>\n",
       "      <td>15113.0</td>\n",
       "      <td>0.0545</td>\n",
       "      <td>0.4434</td>\n",
       "      <td>0.3890</td>\n",
       "      <td>-0.1285</td>\n",
       "      <td>-0.1309</td>\n",
       "      <td>0.3916</td>\n",
       "    </tr>\n",
       "    <tr>\n",
       "      <th>[0.1271, inf)</th>\n",
       "      <td>26106.0</td>\n",
       "      <td>2017.0</td>\n",
       "      <td>0.0773</td>\n",
       "      <td>0.0592</td>\n",
       "      <td>0.0358</td>\n",
       "      <td>-0.4961</td>\n",
       "      <td>-0.5038</td>\n",
       "      <td>0.0369</td>\n",
       "    </tr>\n",
       "    <tr>\n",
       "      <th>nan</th>\n",
       "      <td>0.0</td>\n",
       "      <td>0.0</td>\n",
       "      <td>NaN</td>\n",
       "      <td>0.0000</td>\n",
       "      <td>0.0000</td>\n",
       "      <td>NaN</td>\n",
       "      <td>-2.9839</td>\n",
       "      <td>0.0000</td>\n",
       "    </tr>\n",
       "  </tbody>\n",
       "</table>\n",
       "</div>"
      ],
      "text/plain": [
       "                   CNT_TOTAL  CNT_DEF  DEF_RATE  DIST_BAD  DIST_GOOD     WOE  \\\n",
       "BIN_GSPN_SCORE                                                                 \n",
       "[-inf, 0.08463)     404515.0  16955.0    0.0419    0.4974     0.5753  0.1423   \n",
       "[0.08463, 0.1271)   277168.0  15113.0    0.0545    0.4434     0.3890 -0.1285   \n",
       "[0.1271, inf)        26106.0   2017.0    0.0773    0.0592     0.0358 -0.4961   \n",
       "nan                      0.0      0.0       NaN    0.0000     0.0000     NaN   \n",
       "\n",
       "                   WOE_check   SHARE  \n",
       "BIN_GSPN_SCORE                        \n",
       "[-inf, 0.08463)       0.1454  0.5715  \n",
       "[0.08463, 0.1271)    -0.1309  0.3916  \n",
       "[0.1271, inf)        -0.5038  0.0369  \n",
       "nan                  -2.9839  0.0000  "
      ]
     },
     "metadata": {},
     "output_type": "display_data"
    },
    {
     "name": "stdout",
     "output_type": "stream",
     "text": [
      "IV: 0.0302\n",
      "Gini: 8.50\n"
     ]
    },
    {
     "data": {
      "image/png": "[encoded data removed]",
      "text/plain": [
       "<Figure size 720x360 with 2 Axes>"
      ]
     },
     "metadata": {
      "needs_background": "light"
     },
     "output_type": "display_data"
    }
   ],
   "source": [
    "grouping.plot_bins(data=df_model[[\"GSPN_SCORE\",\"RISK_FSTQPD60\"]], cols_pred_num=['GSPN_SCORE'], cols_pred_cat=[],\n",
    "                    mask=train_mask, col_target='RISK_FSTQPD60', output_folder=os.getcwd(), col_weight=None)"
   ]
  },
  {
   "cell_type": "code",
   "execution_count": 124,
   "metadata": {},
   "outputs": [],
   "source": [
    "def iv_df(df=None,target=None, cluster_num=None):\n",
    "    data=df.copy()\n",
    "    data['target1'] = data[target]\n",
    "    data['target0'] = 1-data[target]\n",
    "    data['bucket'] = data[cluster_num]\n",
    "    grouped = data.groupby('bucket', as_index = True)\n",
    "    liftstable  = pd.DataFrame(grouped.count()[target])\n",
    "    liftstable.columns = ['total']\n",
    "    liftstable['bads']   = round(grouped.sum()['target1'])\n",
    "    liftstable['goods'] = round(grouped.sum()['target0'])\n",
    "    liftstable['bad_rate'] = liftstable['bads']/liftstable['total']\n",
    "    \n",
    "    liftstable['%base'] = (liftstable.total / data['target1'].count())\n",
    "    liftstable = liftstable.sort_index(ascending=True).reset_index(drop = False)\n",
    "    liftstable.rename(columns = {'index':\"CLUSTER\"},inplace = True)\n",
    "    liftstable['cum%_base'] = (liftstable.total / data['target1'].count()).cumsum()\n",
    "    liftstable['%bads'] = (liftstable['bads'] / data['target1'].sum())\n",
    "    liftstable['%goods'] = (liftstable['goods'] / data['target0'].sum())\n",
    "    liftstable['cum%_bads']=(liftstable['bads'] / data['target1'].sum()).cumsum()\n",
    "    liftstable['cum%_goods']=(liftstable['bads'] / data['target0'].sum()).cumsum()\n",
    "    liftstable['woe'] = np.log(liftstable['%goods'] / liftstable['%bads'])\n",
    "    liftstable = liftstable.replace({'woe': {np.inf: 0, -np.inf: 0}})\n",
    "    liftstable['IV'] = (liftstable['%goods'] - liftstable['%bads']) * liftstable[\"woe\"]\n",
    "    \n",
    "    #Formating\n",
    "    liftstable['%base']= liftstable['%base'].apply('{0:.2%}'.format)\n",
    "    liftstable['%bads']= liftstable['%bads'].apply('{0:.2%}'.format)\n",
    "    liftstable['%goods']= liftstable['%goods'].apply('{0:.2%}'.format)\n",
    "    liftstable['cum%_bads']= liftstable['cum%_bads'].apply('{0:.2%}'.format)\n",
    "    liftstable['cum%_goods']= liftstable['cum%_goods'].apply('{0:.2%}'.format)\n",
    "    liftstable['cum%_base'] = liftstable['cum%_base'].apply('{0:.2%}'.format)\n",
    "#     liftstable['bad_rate'] = liftstable['bad_rate'].apply('{0:.2%}'.format)\n",
    "\n",
    "    pd.set_option('display.max_columns', 10)\n",
    "    return(liftstable)"
   ]
  },
  {
   "cell_type": "markdown",
   "metadata": {},
   "source": [
    "# Define GSPN Clusters"
   ]
  },
  {
   "cell_type": "code",
   "execution_count": 125,
   "metadata": {},
   "outputs": [],
   "source": [
    "df_model[\"GSPN_VALUE\"]=np.where(df_model[\"GSPN_SCORE\"]<0.08463, 1,np.where(df_model[\"GSPN_SCORE\"]<0.1271,2,3))"
   ]
  },
  {
   "cell_type": "code",
   "execution_count": 126,
   "metadata": {},
   "outputs": [],
   "source": [
    "df_temp = df_model.dropna(subset = [\"POS_GSPN_V2\"])"
   ]
  },
  {
   "cell_type": "code",
   "execution_count": 127,
   "metadata": {},
   "outputs": [
    {
     "name": "stdout",
     "output_type": "stream",
     "text": [
      "IV Value:  0.020267720284858712\n",
      "GINI Value:  6.62%\n"
     ]
    },
    {
     "data": {
      "text/html": [
       "<div>\n",
       "<style scoped>\n",
       "    .dataframe tbody tr th:only-of-type {\n",
       "        vertical-align: middle;\n",
       "    }\n",
       "\n",
       "    .dataframe tbody tr th {\n",
       "        vertical-align: top;\n",
       "    }\n",
       "\n",
       "    .dataframe thead th {\n",
       "        text-align: right;\n",
       "    }\n",
       "</style>\n",
       "<table border=\"1\" class=\"dataframe\">\n",
       "  <thead>\n",
       "    <tr style=\"text-align: right;\">\n",
       "      <th></th>\n",
       "      <th>bucket</th>\n",
       "      <th>total</th>\n",
       "      <th>bads</th>\n",
       "      <th>bad_rate</th>\n",
       "      <th>%bads</th>\n",
       "      <th>%goods</th>\n",
       "      <th>woe</th>\n",
       "      <th>%base</th>\n",
       "    </tr>\n",
       "  </thead>\n",
       "  <tbody>\n",
       "    <tr>\n",
       "      <th>0</th>\n",
       "      <td>1.0</td>\n",
       "      <td>284207</td>\n",
       "      <td>11792.0</td>\n",
       "      <td>0.041491</td>\n",
       "      <td>34.60%</td>\n",
       "      <td>40.44%</td>\n",
       "      <td>0.155972</td>\n",
       "      <td>40.15%</td>\n",
       "    </tr>\n",
       "    <tr>\n",
       "      <th>1</th>\n",
       "      <td>2.0</td>\n",
       "      <td>370504</td>\n",
       "      <td>18800.0</td>\n",
       "      <td>0.050742</td>\n",
       "      <td>55.16%</td>\n",
       "      <td>52.20%</td>\n",
       "      <td>-0.055000</td>\n",
       "      <td>52.35%</td>\n",
       "    </tr>\n",
       "    <tr>\n",
       "      <th>2</th>\n",
       "      <td>3.0</td>\n",
       "      <td>52904</td>\n",
       "      <td>3482.0</td>\n",
       "      <td>0.065817</td>\n",
       "      <td>10.22%</td>\n",
       "      <td>7.34%</td>\n",
       "      <td>-0.331145</td>\n",
       "      <td>7.47%</td>\n",
       "    </tr>\n",
       "  </tbody>\n",
       "</table>\n",
       "</div>"
      ],
      "text/plain": [
       "   bucket   total     bads  bad_rate   %bads  %goods       woe   %base\n",
       "0     1.0  284207  11792.0  0.041491  34.60%  40.44%  0.155972  40.15%\n",
       "1     2.0  370504  18800.0  0.050742  55.16%  52.20% -0.055000  52.35%\n",
       "2     3.0   52904   3482.0  0.065817  10.22%   7.34% -0.331145   7.47%"
      ]
     },
     "execution_count": 127,
     "metadata": {},
     "output_type": "execute_result"
    }
   ],
   "source": [
    "from sklearn.metrics import roc_auc_score\n",
    "\n",
    "iv_df1 = iv_df(df=df_model[train_mask],target = 'RISK_FSTQPD60', cluster_num = 'POS_GSPN_V2')\n",
    "\n",
    "print(\"IV Value: \",format(np.sum(iv_df1[\"IV\"])))\n",
    "print(\"GINI Value: \", '{0:.2%}'.format(np.absolute(2*roc_auc_score(df_temp[\"RISK_FSTQPD60\"],df_temp[\"POS_GSPN_V2\"])-1)))\n",
    "\n",
    "iv_df1[['bucket', 'total','bads','bad_rate','%bads', '%goods','woe','%base']]\n"
   ]
  },
  {
   "cell_type": "code",
   "execution_count": 128,
   "metadata": {},
   "outputs": [
    {
     "name": "stdout",
     "output_type": "stream",
     "text": [
      "IV Value:  0.030233625558219367\n",
      "GINI Value:  7.48%\n"
     ]
    },
    {
     "data": {
      "text/html": [
       "<div>\n",
       "<style scoped>\n",
       "    .dataframe tbody tr th:only-of-type {\n",
       "        vertical-align: middle;\n",
       "    }\n",
       "\n",
       "    .dataframe tbody tr th {\n",
       "        vertical-align: top;\n",
       "    }\n",
       "\n",
       "    .dataframe thead th {\n",
       "        text-align: right;\n",
       "    }\n",
       "</style>\n",
       "<table border=\"1\" class=\"dataframe\">\n",
       "  <thead>\n",
       "    <tr style=\"text-align: right;\">\n",
       "      <th></th>\n",
       "      <th>bucket</th>\n",
       "      <th>total</th>\n",
       "      <th>bads</th>\n",
       "      <th>bad_rate</th>\n",
       "      <th>%bads</th>\n",
       "      <th>%goods</th>\n",
       "      <th>woe</th>\n",
       "      <th>%base</th>\n",
       "    </tr>\n",
       "  </thead>\n",
       "  <tbody>\n",
       "    <tr>\n",
       "      <th>0</th>\n",
       "      <td>1</td>\n",
       "      <td>404493</td>\n",
       "      <td>16954.0</td>\n",
       "      <td>0.041914</td>\n",
       "      <td>49.74%</td>\n",
       "      <td>57.52%</td>\n",
       "      <td>0.145379</td>\n",
       "      <td>57.15%</td>\n",
       "    </tr>\n",
       "    <tr>\n",
       "      <th>1</th>\n",
       "      <td>2</td>\n",
       "      <td>277187</td>\n",
       "      <td>15114.0</td>\n",
       "      <td>0.054526</td>\n",
       "      <td>44.34%</td>\n",
       "      <td>38.90%</td>\n",
       "      <td>-0.130932</td>\n",
       "      <td>39.16%</td>\n",
       "    </tr>\n",
       "    <tr>\n",
       "      <th>2</th>\n",
       "      <td>3</td>\n",
       "      <td>26109</td>\n",
       "      <td>2017.0</td>\n",
       "      <td>0.077253</td>\n",
       "      <td>5.92%</td>\n",
       "      <td>3.58%</td>\n",
       "      <td>-0.503665</td>\n",
       "      <td>3.69%</td>\n",
       "    </tr>\n",
       "  </tbody>\n",
       "</table>\n",
       "</div>"
      ],
      "text/plain": [
       "   bucket   total     bads  bad_rate   %bads  %goods       woe   %base\n",
       "0       1  404493  16954.0  0.041914  49.74%  57.52%  0.145379  57.15%\n",
       "1       2  277187  15114.0  0.054526  44.34%  38.90% -0.130932  39.16%\n",
       "2       3   26109   2017.0  0.077253   5.92%   3.58% -0.503665   3.69%"
      ]
     },
     "execution_count": 128,
     "metadata": {},
     "output_type": "execute_result"
    }
   ],
   "source": [
    "from sklearn.metrics import roc_auc_score\n",
    "\n",
    "iv_df1 = iv_df(df=df_model[train_mask],target = 'RISK_FSTQPD60', cluster_num = 'GSPN_VALUE')\n",
    "\n",
    "print(\"IV Value: \",format(np.sum(iv_df1[\"IV\"])))\n",
    "print(\"GINI Value: \", '{0:.2%}'.format(np.absolute(2*roc_auc_score(df_temp[\"RISK_FSTQPD60\"],df_temp[\"GSPN_VALUE\"])-1)))\n",
    "\n",
    "iv_df1[['bucket', 'total','bads','bad_rate','%bads', '%goods','woe','%base']]"
   ]
  },
  {
   "cell_type": "code",
   "execution_count": null,
   "metadata": {},
   "outputs": [],
   "source": []
  },
  {
   "cell_type": "code",
   "execution_count": null,
   "metadata": {},
   "outputs": [],
   "source": []
  },
  {
   "cell_type": "code",
   "execution_count": null,
   "metadata": {},
   "outputs": [],
   "source": []
  },
  {
   "cell_type": "markdown",
   "metadata": {},
   "source": [
    "# Create POS Level Data(Monthly)"
   ]
  },
  {
   "cell_type": "markdown",
   "metadata": {},
   "source": [
    "### Check Proportion in Current GSPN"
   ]
  },
  {
   "cell_type": "code",
   "execution_count": 129,
   "metadata": {},
   "outputs": [],
   "source": [
    "df_temp = df_model.dropna(subset = [\"POS_GSPN_V2\"])"
   ]
  },
  {
   "cell_type": "code",
   "execution_count": 130,
   "metadata": {},
   "outputs": [
    {
     "data": {
      "text/plain": [
       "2.0    52.669019\n",
       "1.0    39.945741\n",
       "3.0     7.385175\n",
       "8.0     0.000065\n",
       "Name: POS_GSPN_V2, dtype: float64"
      ]
     },
     "execution_count": 130,
     "metadata": {},
     "output_type": "execute_result"
    }
   ],
   "source": [
    "df_temp.POS_GSPN_V2.value_counts()/len(df_temp)*100"
   ]
  },
  {
   "cell_type": "code",
   "execution_count": 131,
   "metadata": {},
   "outputs": [
    {
     "data": {
      "text/plain": [
       "0.40    0.079245\n",
       "0.92    0.114798\n",
       "Name: GSPN_SCORE, dtype: float64"
      ]
     },
     "execution_count": 131,
     "metadata": {},
     "output_type": "execute_result"
    }
   ],
   "source": [
    "df_temp[\"GSPN_SCORE\"].quantile([0.40, 0.92])"
   ]
  },
  {
   "cell_type": "markdown",
   "metadata": {},
   "source": [
    "# Define GSPN Clusters (Keeping Proportion Same as Current Setup)"
   ]
  },
  {
   "cell_type": "code",
   "execution_count": 133,
   "metadata": {},
   "outputs": [],
   "source": [
    "df_model[\"GSPN_VALUE_1\"]=np.where(df_model[\"GSPN_SCORE\"]<0.079245, 1,np.where(df_model[\"GSPN_SCORE\"]<0.114798,2,3))"
   ]
  },
  {
   "cell_type": "code",
   "execution_count": 134,
   "metadata": {},
   "outputs": [],
   "source": [
    "df_temp = df_model.dropna(subset = [\"POS_GSPN_V2\"])"
   ]
  },
  {
   "cell_type": "code",
   "execution_count": 135,
   "metadata": {},
   "outputs": [
    {
     "name": "stdout",
     "output_type": "stream",
     "text": [
      "IV Value:  0.020267720284858712\n",
      "GINI Value:  6.62%\n"
     ]
    },
    {
     "data": {
      "text/html": [
       "<div>\n",
       "<style scoped>\n",
       "    .dataframe tbody tr th:only-of-type {\n",
       "        vertical-align: middle;\n",
       "    }\n",
       "\n",
       "    .dataframe tbody tr th {\n",
       "        vertical-align: top;\n",
       "    }\n",
       "\n",
       "    .dataframe thead th {\n",
       "        text-align: right;\n",
       "    }\n",
       "</style>\n",
       "<table border=\"1\" class=\"dataframe\">\n",
       "  <thead>\n",
       "    <tr style=\"text-align: right;\">\n",
       "      <th></th>\n",
       "      <th>bucket</th>\n",
       "      <th>total</th>\n",
       "      <th>bads</th>\n",
       "      <th>bad_rate</th>\n",
       "      <th>%bads</th>\n",
       "      <th>%goods</th>\n",
       "      <th>woe</th>\n",
       "      <th>%base</th>\n",
       "    </tr>\n",
       "  </thead>\n",
       "  <tbody>\n",
       "    <tr>\n",
       "      <th>0</th>\n",
       "      <td>1.0</td>\n",
       "      <td>284207</td>\n",
       "      <td>11792.0</td>\n",
       "      <td>0.041491</td>\n",
       "      <td>34.60%</td>\n",
       "      <td>40.44%</td>\n",
       "      <td>0.155972</td>\n",
       "      <td>40.15%</td>\n",
       "    </tr>\n",
       "    <tr>\n",
       "      <th>1</th>\n",
       "      <td>2.0</td>\n",
       "      <td>370504</td>\n",
       "      <td>18800.0</td>\n",
       "      <td>0.050742</td>\n",
       "      <td>55.16%</td>\n",
       "      <td>52.20%</td>\n",
       "      <td>-0.055000</td>\n",
       "      <td>52.35%</td>\n",
       "    </tr>\n",
       "    <tr>\n",
       "      <th>2</th>\n",
       "      <td>3.0</td>\n",
       "      <td>52904</td>\n",
       "      <td>3482.0</td>\n",
       "      <td>0.065817</td>\n",
       "      <td>10.22%</td>\n",
       "      <td>7.34%</td>\n",
       "      <td>-0.331145</td>\n",
       "      <td>7.47%</td>\n",
       "    </tr>\n",
       "  </tbody>\n",
       "</table>\n",
       "</div>"
      ],
      "text/plain": [
       "   bucket   total     bads  bad_rate   %bads  %goods       woe   %base\n",
       "0     1.0  284207  11792.0  0.041491  34.60%  40.44%  0.155972  40.15%\n",
       "1     2.0  370504  18800.0  0.050742  55.16%  52.20% -0.055000  52.35%\n",
       "2     3.0   52904   3482.0  0.065817  10.22%   7.34% -0.331145   7.47%"
      ]
     },
     "execution_count": 135,
     "metadata": {},
     "output_type": "execute_result"
    }
   ],
   "source": [
    "from sklearn.metrics import roc_auc_score\n",
    "\n",
    "iv_df1 = iv_df(df=df_model[train_mask],target = 'RISK_FSTQPD60', cluster_num = 'POS_GSPN_V2')\n",
    "\n",
    "print(\"IV Value: \",format(np.sum(iv_df1[\"IV\"])))\n",
    "print(\"GINI Value: \", '{0:.2%}'.format(np.absolute(2*roc_auc_score(df_temp[\"RISK_FSTQPD60\"],df_temp[\"POS_GSPN_V2\"])-1)))\n",
    "\n",
    "iv_df1[['bucket', 'total','bads','bad_rate','%bads', '%goods','woe','%base']]\n"
   ]
  },
  {
   "cell_type": "code",
   "execution_count": 136,
   "metadata": {},
   "outputs": [
    {
     "name": "stdout",
     "output_type": "stream",
     "text": [
      "IV Value:  0.029337683838471997\n",
      "GINI Value:  7.69%\n"
     ]
    },
    {
     "data": {
      "text/html": [
       "<div>\n",
       "<style scoped>\n",
       "    .dataframe tbody tr th:only-of-type {\n",
       "        vertical-align: middle;\n",
       "    }\n",
       "\n",
       "    .dataframe tbody tr th {\n",
       "        vertical-align: top;\n",
       "    }\n",
       "\n",
       "    .dataframe thead th {\n",
       "        text-align: right;\n",
       "    }\n",
       "</style>\n",
       "<table border=\"1\" class=\"dataframe\">\n",
       "  <thead>\n",
       "    <tr style=\"text-align: right;\">\n",
       "      <th></th>\n",
       "      <th>bucket</th>\n",
       "      <th>total</th>\n",
       "      <th>bads</th>\n",
       "      <th>bad_rate</th>\n",
       "      <th>%bads</th>\n",
       "      <th>%goods</th>\n",
       "      <th>woe</th>\n",
       "      <th>%base</th>\n",
       "    </tr>\n",
       "  </thead>\n",
       "  <tbody>\n",
       "    <tr>\n",
       "      <th>0</th>\n",
       "      <td>1</td>\n",
       "      <td>301084</td>\n",
       "      <td>12147.0</td>\n",
       "      <td>0.040344</td>\n",
       "      <td>35.64%</td>\n",
       "      <td>42.89%</td>\n",
       "      <td>0.185193</td>\n",
       "      <td>42.54%</td>\n",
       "    </tr>\n",
       "    <tr>\n",
       "      <th>1</th>\n",
       "      <td>2</td>\n",
       "      <td>359413</td>\n",
       "      <td>18621.0</td>\n",
       "      <td>0.051809</td>\n",
       "      <td>54.63%</td>\n",
       "      <td>50.58%</td>\n",
       "      <td>-0.076951</td>\n",
       "      <td>50.78%</td>\n",
       "    </tr>\n",
       "    <tr>\n",
       "      <th>2</th>\n",
       "      <td>3</td>\n",
       "      <td>47292</td>\n",
       "      <td>3317.0</td>\n",
       "      <td>0.070139</td>\n",
       "      <td>9.73%</td>\n",
       "      <td>6.53%</td>\n",
       "      <td>-0.399373</td>\n",
       "      <td>6.68%</td>\n",
       "    </tr>\n",
       "  </tbody>\n",
       "</table>\n",
       "</div>"
      ],
      "text/plain": [
       "   bucket   total     bads  bad_rate   %bads  %goods       woe   %base\n",
       "0       1  301084  12147.0  0.040344  35.64%  42.89%  0.185193  42.54%\n",
       "1       2  359413  18621.0  0.051809  54.63%  50.58% -0.076951  50.78%\n",
       "2       3   47292   3317.0  0.070139   9.73%   6.53% -0.399373   6.68%"
      ]
     },
     "execution_count": 136,
     "metadata": {},
     "output_type": "execute_result"
    }
   ],
   "source": [
    "from sklearn.metrics import roc_auc_score\n",
    "\n",
    "iv_df1 = iv_df(df=df_model[train_mask],target = 'RISK_FSTQPD60', cluster_num = 'GSPN_VALUE_1')\n",
    "\n",
    "print(\"IV Value: \",format(np.sum(iv_df1[\"IV\"])))\n",
    "print(\"GINI Value: \", '{0:.2%}'.format(np.absolute(2*roc_auc_score(df_temp[\"RISK_FSTQPD60\"],df_temp[\"GSPN_VALUE_1\"])-1)))\n",
    "\n",
    "iv_df1[['bucket', 'total','bads','bad_rate','%bads', '%goods','woe','%base']]"
   ]
  },
  {
   "cell_type": "code",
   "execution_count": null,
   "metadata": {},
   "outputs": [],
   "source": []
  },
  {
   "cell_type": "code",
   "execution_count": null,
   "metadata": {},
   "outputs": [],
   "source": []
  },
  {
   "cell_type": "markdown",
   "metadata": {},
   "source": [
    "# MOM Gini, Distribution and Risk Comparison"
   ]
  },
  {
   "cell_type": "code",
   "execution_count": 137,
   "metadata": {},
   "outputs": [],
   "source": [
    "\n",
    "gini_dic = {}\n",
    "predictor_list = []\n",
    "target_variable = 'RISK_FSTQPD60'\n",
    "for x in df_temp[\"MONTH\"].unique():\n",
    "    try:\n",
    "        if \"MONTH\" not in gini_dic:\n",
    "            gini_dic[\"MONTH\"] = []\n",
    "        if \"OLD_GSPN\" not in gini_dic: \n",
    "            gini_dic[\"OLD_GSPN\"] = []\n",
    "        if \"NEW_GSPN\" not in gini_dic: \n",
    "            gini_dic[\"NEW_GSPN\"] = []\n",
    "        \n",
    "        gini_dic[\"OLD_GSPN\"].append((2*roc_auc_score(df_temp[df_temp[\"MONTH\"]==x][target_variable],df_temp[df_temp[\"MONTH\"]==x][\"POS_GSPN_V2\"])-1)*100)\n",
    "        gini_dic[\"NEW_GSPN\"].append((2*roc_auc_score(df_temp[df_temp[\"MONTH\"]==x][target_variable],df_temp[df_temp[\"MONTH\"]==x][\"GSPN_VALUE_1\"])-1)*100)\n",
    "        gini_dic[\"MONTH\"].append(x)\n",
    "#         for y in predictor_list:\n",
    "#             if y not in gini_dic:\n",
    "#                   gini_dic[y] = []\n",
    "#             if y != 'FOUND_RESULT':\n",
    "#                 try:\n",
    "#                     gini_dic[y].append(((2*roc_auc_score(df[(df[\"MONTH_STR\"]==x)&(df[\"FOUND_RESULT\"]==1)][target_variable],df[(df[\"MONTH_STR\"]==x)&(df[\"FOUND_RESULT\"]==1)][y])-1)*100))\n",
    "#                 except:\n",
    "#                     gini_dic[y].append(0)\n",
    "#             else:\n",
    "#                 gini_dic[y].append(((2*roc_auc_score(df[df[\"MONTH_STR\"]==x][target_variable],df[df[\"MONTH_STR\"]==x][y])-1)*100))\n",
    "    except: \n",
    "        print(\"ERROR\")\n",
    "\n",
    "gini_df = pd.DataFrame(gini_dic)\n",
    "gini_df.sort_values(by = \"MONTH\",inplace = True)\n",
    "gini_df.reset_index(inplace = True)"
   ]
  },
  {
   "cell_type": "code",
   "execution_count": 138,
   "metadata": {},
   "outputs": [
    {
     "data": {
      "image/png": "[encoded data removed]",
      "text/plain": [
       "<Figure size 720x360 with 1 Axes>"
      ]
     },
     "metadata": {
      "needs_background": "light"
     },
     "output_type": "display_data"
    }
   ],
   "source": [
    "import matplotlib.pyplot as plt\n",
    "fig = plt.figure(figsize = (10,5))\n",
    "ax1 = fig.add_subplot(1, 1, 1)\n",
    "ax1.plot(gini_df[\"MONTH\"],gini_df[\"OLD_GSPN\"], marker='o', scaley = False, label = \"OLD_GSPN\")\n",
    "ax1.plot(gini_df[\"MONTH\"],gini_df[\"NEW_GSPN\"], marker='o', scaley = False, label = \"NEW_GSPN\")\n",
    "# ax1.plot(gini_df[\"MONTH_STR\"],gini_df[combined_score_only_fnf_flag], marker='o', scaley = False, label = combined_score_only_fnf_flag)\n",
    "# for y in predictor_list:\n",
    "#     ax1.plot(gini_df[\"MONTH_STR\"],gini_df[y], marker='o', scaley = False, label = y)\n",
    "\n",
    "\n",
    "for i, txt in enumerate(gini_df[\"OLD_GSPN\"]):\n",
    "    plt.annotate(\"{:.1f}\".format(txt), (gini_df[\"MONTH\"][i], gini_df[\"OLD_GSPN\"][i]-0.8))\n",
    "for i, txt in enumerate(gini_df[\"NEW_GSPN\"]):\n",
    "    plt.annotate(\"{:.1f}\".format(txt), (gini_df[\"MONTH\"][i], gini_df[\"NEW_GSPN\"][i]+1.2))\n",
    "    \n",
    "# for i, txt in enumerate(gini_df[combined_score_only_fnf_flag]):\n",
    "#     plt.annotate(\"{:.1f}\".format(txt), (gini_df[\"MONTH_STR\"][i], gini_df[combined_score_only_fnf_flag][i]+1.6))\n",
    "\n",
    "# for y in predictor_list:\n",
    "#     for i, txt in enumerate(gini_df[y]):\n",
    "#         plt.annotate(\"{:.1f}\".format(txt), (gini_df[\"MONTH_STR\"][i], gini_df[y][i]+1))\n",
    "\n",
    "    \n",
    "plt.legend(loc='lower right', borderaxespad=0.1)\n",
    "plt.ylim(0,14)\n",
    "plt.ylabel(\"GINI\")\n",
    "plt.xlabel(\"MONTH\")\n",
    "plt.yticks(np.arange(0,14,2))\n",
    "ax1.set_title(\"MOM Gini (Approved) With Risk Predictors:\")\n",
    "plt.show()"
   ]
  },
  {
   "cell_type": "markdown",
   "metadata": {},
   "source": [
    "# Only Phantomas Population"
   ]
  },
  {
   "cell_type": "code",
   "execution_count": 139,
   "metadata": {},
   "outputs": [
    {
     "data": {
      "text/plain": [
       "0.0    1505455\n",
       "1.0      26831\n",
       "Name: FLAG_1PCT_PHANTOM, dtype: int64"
      ]
     },
     "execution_count": 139,
     "metadata": {},
     "output_type": "execute_result"
    }
   ],
   "source": [
    "df_temp[\"FLAG_1PCT_PHANTOM\"].value_counts()"
   ]
  },
  {
   "cell_type": "code",
   "execution_count": 140,
   "metadata": {},
   "outputs": [],
   "source": [
    "df_temp = df_model.dropna(subset = [\"POS_GSPN_V2\"])\n",
    "df_temp = df_temp[df_temp[\"FLAG_1PCT_PHANTOM\"]==1.0  ]\n",
    "gini_dic = {}\n",
    "predictor_list = []\n",
    "target_variable = 'RISK_FSTQPD60'\n",
    "for x in df_temp[\"MONTH\"].unique():\n",
    "    try:\n",
    "        if \"MONTH\" not in gini_dic:\n",
    "            gini_dic[\"MONTH\"] = []\n",
    "        if \"OLD_GSPN\" not in gini_dic: \n",
    "            gini_dic[\"OLD_GSPN\"] = []\n",
    "        if \"NEW_GSPN\" not in gini_dic: \n",
    "            gini_dic[\"NEW_GSPN\"] = []\n",
    "        \n",
    "        gini_dic[\"OLD_GSPN\"].append((2*roc_auc_score(df_temp[df_temp[\"MONTH\"]==x][target_variable],df_temp[df_temp[\"MONTH\"]==x][\"POS_GSPN_V2\"])-1)*100)\n",
    "        gini_dic[\"NEW_GSPN\"].append((2*roc_auc_score(df_temp[df_temp[\"MONTH\"]==x][target_variable],df_temp[df_temp[\"MONTH\"]==x][\"GSPN_VALUE_1\"])-1)*100)\n",
    "        gini_dic[\"MONTH\"].append(x)\n",
    "#         for y in predictor_list:\n",
    "#             if y not in gini_dic:\n",
    "#                   gini_dic[y] = []\n",
    "#             if y != 'FOUND_RESULT':\n",
    "#                 try:\n",
    "#                     gini_dic[y].append(((2*roc_auc_score(df[(df[\"MONTH_STR\"]==x)&(df[\"FOUND_RESULT\"]==1)][target_variable],df[(df[\"MONTH_STR\"]==x)&(df[\"FOUND_RESULT\"]==1)][y])-1)*100))\n",
    "#                 except:\n",
    "#                     gini_dic[y].append(0)\n",
    "#             else:\n",
    "#                 gini_dic[y].append(((2*roc_auc_score(df[df[\"MONTH_STR\"]==x][target_variable],df[df[\"MONTH_STR\"]==x][y])-1)*100))\n",
    "    except: \n",
    "        print(\"ERROR\")\n",
    "\n",
    "gini_df = pd.DataFrame(gini_dic)\n",
    "gini_df.sort_values(by = \"MONTH\",inplace = True)\n",
    "gini_df.reset_index(inplace = True)"
   ]
  },
  {
   "cell_type": "code",
   "execution_count": 141,
   "metadata": {},
   "outputs": [
    {
     "data": {
      "image/png": "[encoded data removed]",
      "text/plain": [
       "<Figure size 720x360 with 1 Axes>"
      ]
     },
     "metadata": {
      "needs_background": "light"
     },
     "output_type": "display_data"
    }
   ],
   "source": [
    "import matplotlib.pyplot as plt\n",
    "fig = plt.figure(figsize = (10,5))\n",
    "ax1 = fig.add_subplot(1, 1, 1)\n",
    "ax1.plot(gini_df[\"MONTH\"],gini_df[\"OLD_GSPN\"], marker='o', scaley = False, label = \"OLD_GSPN\")\n",
    "ax1.plot(gini_df[\"MONTH\"],gini_df[\"NEW_GSPN\"], marker='o', scaley = False, label = \"NEW_GSPN\")\n",
    "# ax1.plot(gini_df[\"MONTH_STR\"],gini_df[combined_score_only_fnf_flag], marker='o', scaley = False, label = combined_score_only_fnf_flag)\n",
    "# for y in predictor_list:\n",
    "#     ax1.plot(gini_df[\"MONTH_STR\"],gini_df[y], marker='o', scaley = False, label = y)\n",
    "\n",
    "\n",
    "for i, txt in enumerate(gini_df[\"OLD_GSPN\"]):\n",
    "    plt.annotate(\"{:.1f}\".format(txt), (gini_df[\"MONTH\"][i], gini_df[\"OLD_GSPN\"][i]-0.8))\n",
    "for i, txt in enumerate(gini_df[\"NEW_GSPN\"]):\n",
    "    plt.annotate(\"{:.1f}\".format(txt), (gini_df[\"MONTH\"][i], gini_df[\"NEW_GSPN\"][i]+1.2))\n",
    "    \n",
    "# for i, txt in enumerate(gini_df[combined_score_only_fnf_flag]):\n",
    "#     plt.annotate(\"{:.1f}\".format(txt), (gini_df[\"MONTH_STR\"][i], gini_df[combined_score_only_fnf_flag][i]+1.6))\n",
    "\n",
    "# for y in predictor_list:\n",
    "#     for i, txt in enumerate(gini_df[y]):\n",
    "#         plt.annotate(\"{:.1f}\".format(txt), (gini_df[\"MONTH_STR\"][i], gini_df[y][i]+1))\n",
    "\n",
    "    \n",
    "plt.legend(loc='lower right', borderaxespad=0.1)\n",
    "plt.ylim(0,18)\n",
    "plt.ylabel(\"GINI\")\n",
    "plt.xlabel(\"MONTH\")\n",
    "plt.yticks(np.arange(0,18,2))\n",
    "ax1.set_title(\"MOM Gini (Phantomas) With Risk Predictors:\")\n",
    "plt.show()"
   ]
  },
  {
   "cell_type": "code",
   "execution_count": null,
   "metadata": {},
   "outputs": [],
   "source": []
  },
  {
   "cell_type": "code",
   "execution_count": null,
   "metadata": {},
   "outputs": [],
   "source": []
  },
  {
   "cell_type": "markdown",
   "metadata": {},
   "source": [
    "## Distribution"
   ]
  },
  {
   "cell_type": "code",
   "execution_count": 142,
   "metadata": {},
   "outputs": [],
   "source": [
    "df_temp = df_model.dropna(subset = [\"POS_GSPN_V2\"])"
   ]
  },
  {
   "cell_type": "code",
   "execution_count": 143,
   "metadata": {},
   "outputs": [
    {
     "name": "stderr",
     "output_type": "stream",
     "text": [
      "C:\\Users\\aman.khatri91425\\AppData\\Local\\Continuum\\anaconda3\\lib\\site-packages\\pandas\\core\\frame.py:4303: SettingWithCopyWarning: \n",
      "A value is trying to be set on a copy of a slice from a DataFrame\n",
      "\n",
      "See the caveats in the documentation: https://pandas.pydata.org/pandas-docs/stable/user_guide/indexing.html#returning-a-view-versus-a-copy\n",
      "  errors=errors,\n"
     ]
    }
   ],
   "source": [
    "df_temp.rename(columns = {\"POS_GSPN_V2\":\"OLD_GSPN\",\"GSPN_VALUE_1\":\"NEW_GSPN\"}, inplace = True)"
   ]
  },
  {
   "cell_type": "code",
   "execution_count": 144,
   "metadata": {},
   "outputs": [],
   "source": [
    "df_summ_old = pd.DataFrame(df_temp.groupby([\"MONTH\",\"OLD_GSPN\"])[\"SKP_CREDIT_CASE\"].count()).reset_index()\n",
    "df_summ_old = df_summ_old.pivot(\"MONTH\",\"OLD_GSPN\",\"SKP_CREDIT_CASE\")\n",
    "df_summ_old.columns = ['OLD_GSPN_' + str(x) for x in df_summ_old.columns]\n",
    "\n",
    "for x in df_summ_old.index:\n",
    "    tmp = df_summ_old.loc[x,].sum()\n",
    "    for y in df_summ_old.columns:\n",
    "        df_summ_old.loc[x,y] = round(df_summ_old.loc[x,y]/tmp*100,1)"
   ]
  },
  {
   "cell_type": "code",
   "execution_count": 145,
   "metadata": {},
   "outputs": [],
   "source": [
    "df_summ_new = pd.DataFrame(df_temp.groupby([\"MONTH\",\"NEW_GSPN\"])[\"SKP_CREDIT_CASE\"].count()).reset_index()\n",
    "df_summ_new = df_summ_new.pivot(\"MONTH\",\"NEW_GSPN\",\"SKP_CREDIT_CASE\")\n",
    "df_summ_new.columns = ['NEW_GSPN_' + str(x) for x in df_summ_new.columns]\n",
    "\n",
    "for x in df_summ_new.index:\n",
    "    tmp = df_summ_new.loc[x,].sum()\n",
    "    for y in df_summ_new.columns:\n",
    "        df_summ_new.loc[x,y] = round(df_summ_new.loc[x,y]/tmp*100,1)"
   ]
  },
  {
   "cell_type": "code",
   "execution_count": 146,
   "metadata": {},
   "outputs": [],
   "source": [
    "df_summ_all = df_summ_old.merge(df_summ_new, left_index = True, right_index = True)"
   ]
  },
  {
   "cell_type": "code",
   "execution_count": 147,
   "metadata": {},
   "outputs": [
    {
     "data": {
      "text/plain": [
       "<matplotlib.legend.Legend at 0x21e4434ffd0>"
      ]
     },
     "execution_count": 147,
     "metadata": {},
     "output_type": "execute_result"
    },
    {
     "data": {
      "image/png": "[encoded data removed]",
      "text/plain": [
       "<Figure size 720x360 with 1 Axes>"
      ]
     },
     "metadata": {
      "needs_background": "light"
     },
     "output_type": "display_data"
    }
   ],
   "source": [
    "plt.figure(figsize=(10,5))\n",
    "plt.plot(df_summ_new[\"NEW_GSPN_1\"], color = 'b',label=\"NEW_GSPN_1\")\n",
    "plt.plot(df_summ_old[\"OLD_GSPN_1.0\"],linestyle='--', color = 'b',label=\"OLD_GSPN_1\")\n",
    "\n",
    "plt.plot(df_summ_new[\"NEW_GSPN_2\"], color = 'r',label=\"NEW_GSPN_2\")\n",
    "plt.plot(df_summ_old[\"OLD_GSPN_2.0\"],linestyle='--', color = 'r',label=\"OLD_GSPN_2\")\n",
    "\n",
    "plt.plot(df_summ_new[\"NEW_GSPN_3\"], color = 'g',label=\"NEW_GSPN_3\")\n",
    "plt.plot(df_summ_old[\"OLD_GSPN_3.0\"],linestyle='--', color = 'g',label=\"OLD_GSPN_3\")\n",
    "\n",
    "plt.title('Population Distribution',fontsize=25)\n",
    "plt.legend()"
   ]
  },
  {
   "cell_type": "code",
   "execution_count": null,
   "metadata": {},
   "outputs": [],
   "source": []
  },
  {
   "cell_type": "code",
   "execution_count": null,
   "metadata": {},
   "outputs": [],
   "source": []
  },
  {
   "cell_type": "markdown",
   "metadata": {},
   "source": [
    "## Deinquency Rate"
   ]
  },
  {
   "cell_type": "code",
   "execution_count": 148,
   "metadata": {},
   "outputs": [
    {
     "name": "stderr",
     "output_type": "stream",
     "text": [
      "C:\\Users\\aman.khatri91425\\AppData\\Local\\Continuum\\anaconda3\\lib\\site-packages\\ipykernel_launcher.py:1: FutureWarning: Indexing with multiple keys (implicitly converted to a tuple of keys) will be deprecated, use a list instead.\n",
      "  \"\"\"Entry point for launching an IPython kernel.\n"
     ]
    }
   ],
   "source": [
    "df_summ_old = pd.DataFrame(df_temp.groupby([\"MONTH\",\"OLD_GSPN\"])['RISK_FSTQPD60',\"RISK_AGRF120\"].sum()).reset_index()\n",
    "df_summ_old[\"FSTQPD60_%\"] = round(df_summ_old[\"RISK_FSTQPD60\"]/df_summ_old[\"RISK_AGRF120\"],3)\n",
    "df_summ_old = df_summ_old.pivot(\"MONTH\",\"OLD_GSPN\",\"FSTQPD60_%\")\n",
    "df_summ_old.columns = ['OLD_GSPN_' + str(x) for x in df_summ_old.columns]"
   ]
  },
  {
   "cell_type": "code",
   "execution_count": 149,
   "metadata": {},
   "outputs": [
    {
     "name": "stderr",
     "output_type": "stream",
     "text": [
      "C:\\Users\\aman.khatri91425\\AppData\\Local\\Continuum\\anaconda3\\lib\\site-packages\\ipykernel_launcher.py:1: FutureWarning: Indexing with multiple keys (implicitly converted to a tuple of keys) will be deprecated, use a list instead.\n",
      "  \"\"\"Entry point for launching an IPython kernel.\n"
     ]
    }
   ],
   "source": [
    "df_summ_new = pd.DataFrame(df_temp.groupby([\"MONTH\",\"NEW_GSPN\"])['RISK_FSTQPD60',\"RISK_AGRF120\"].sum()).reset_index()\n",
    "df_summ_new[\"FSTQPD60_%\"] = round(df_summ_new[\"RISK_FSTQPD60\"]/df_summ_new[\"RISK_AGRF120\"],3)\n",
    "df_summ_new = df_summ_new.pivot(\"MONTH\",\"NEW_GSPN\",\"FSTQPD60_%\")\n",
    "df_summ_new.columns = ['NEW_GSPN_' + str(x) for x in df_summ_new.columns]\n"
   ]
  },
  {
   "cell_type": "code",
   "execution_count": 150,
   "metadata": {},
   "outputs": [],
   "source": [
    "df_summ_all = df_summ_old.merge(df_summ_new, left_index = True, right_index = True)"
   ]
  },
  {
   "cell_type": "code",
   "execution_count": 151,
   "metadata": {},
   "outputs": [
    {
     "data": {
      "text/plain": [
       "<matplotlib.legend.Legend at 0x21e461ccfd0>"
      ]
     },
     "execution_count": 151,
     "metadata": {},
     "output_type": "execute_result"
    },
    {
     "data": {
      "image/png": "[encoded data removed]",
      "text/plain": [
       "<Figure size 720x360 with 1 Axes>"
      ]
     },
     "metadata": {
      "needs_background": "light"
     },
     "output_type": "display_data"
    }
   ],
   "source": [
    "plt.figure(figsize=(10,5))\n",
    "plt.plot(df_summ_new[\"NEW_GSPN_1\"], color = 'b',label=\"NEW_GSPN_1\")\n",
    "plt.plot(df_summ_old[\"OLD_GSPN_1.0\"],linestyle='--', color = 'b',label=\"OLD_GSPN_1\")\n",
    "\n",
    "plt.plot(df_summ_new[\"NEW_GSPN_2\"], color = 'r',label=\"NEW_GSPN_2\")\n",
    "plt.plot(df_summ_old[\"OLD_GSPN_2.0\"],linestyle='--', color = 'r',label=\"OLD_GSPN_2\")\n",
    "\n",
    "plt.plot(df_summ_new[\"NEW_GSPN_3\"], color = 'g',label=\"NEW_GSPN_3\")\n",
    "plt.plot(df_summ_old[\"OLD_GSPN_3.0\"],linestyle='--', color = 'g',label=\"OLD_GSPN_3\")\n",
    "\n",
    "plt.title('Delinquency Rate',fontsize=25)\n",
    "plt.legend()"
   ]
  },
  {
   "cell_type": "code",
   "execution_count": null,
   "metadata": {},
   "outputs": [],
   "source": []
  },
  {
   "cell_type": "code",
   "execution_count": null,
   "metadata": {},
   "outputs": [],
   "source": []
  },
  {
   "cell_type": "markdown",
   "metadata": {},
   "source": [
    "# Pivot Analysis"
   ]
  },
  {
   "cell_type": "code",
   "execution_count": 152,
   "metadata": {},
   "outputs": [
    {
     "name": "stdout",
     "output_type": "stream",
     "text": [
      "TOTAL CASE COUNT\n"
     ]
    },
    {
     "data": {
      "text/html": [
       "<div>\n",
       "<style scoped>\n",
       "    .dataframe tbody tr th:only-of-type {\n",
       "        vertical-align: middle;\n",
       "    }\n",
       "\n",
       "    .dataframe tbody tr th {\n",
       "        vertical-align: top;\n",
       "    }\n",
       "\n",
       "    .dataframe thead th {\n",
       "        text-align: right;\n",
       "    }\n",
       "</style>\n",
       "<table border=\"1\" class=\"dataframe\">\n",
       "  <thead>\n",
       "    <tr style=\"text-align: right;\">\n",
       "      <th>NEW_GSPN</th>\n",
       "      <th>1</th>\n",
       "      <th>2</th>\n",
       "      <th>3</th>\n",
       "    </tr>\n",
       "    <tr>\n",
       "      <th>OLD_GSPN</th>\n",
       "      <th></th>\n",
       "      <th></th>\n",
       "      <th></th>\n",
       "    </tr>\n",
       "  </thead>\n",
       "  <tbody>\n",
       "    <tr>\n",
       "      <th>1.0</th>\n",
       "      <td>438786.0</td>\n",
       "      <td>168801.0</td>\n",
       "      <td>4496.0</td>\n",
       "    </tr>\n",
       "    <tr>\n",
       "      <th>2.0</th>\n",
       "      <td>168279.0</td>\n",
       "      <td>561426.0</td>\n",
       "      <td>77335.0</td>\n",
       "    </tr>\n",
       "    <tr>\n",
       "      <th>3.0</th>\n",
       "      <td>5869.0</td>\n",
       "      <td>66542.0</td>\n",
       "      <td>40751.0</td>\n",
       "    </tr>\n",
       "    <tr>\n",
       "      <th>8.0</th>\n",
       "      <td>NaN</td>\n",
       "      <td>1.0</td>\n",
       "      <td>NaN</td>\n",
       "    </tr>\n",
       "  </tbody>\n",
       "</table>\n",
       "</div>"
      ],
      "text/plain": [
       "NEW_GSPN         1         2        3\n",
       "OLD_GSPN                             \n",
       "1.0       438786.0  168801.0   4496.0\n",
       "2.0       168279.0  561426.0  77335.0\n",
       "3.0         5869.0   66542.0  40751.0\n",
       "8.0            NaN       1.0      NaN"
      ]
     },
     "execution_count": 152,
     "metadata": {},
     "output_type": "execute_result"
    }
   ],
   "source": [
    "df_summ = df_temp.groupby([\"OLD_GSPN\",\"NEW_GSPN\"])[\"SKP_CREDIT_CASE\"].count().reset_index()\n",
    "\n",
    "print(\"TOTAL CASE COUNT\")\n",
    "df_summ.pivot(index=\"OLD_GSPN\",columns = \"NEW_GSPN\", values=\"SKP_CREDIT_CASE\")"
   ]
  },
  {
   "cell_type": "code",
   "execution_count": 153,
   "metadata": {},
   "outputs": [
    {
     "name": "stdout",
     "output_type": "stream",
     "text": [
      "% Cases\n"
     ]
    },
    {
     "data": {
      "text/html": [
       "<div>\n",
       "<style scoped>\n",
       "    .dataframe tbody tr th:only-of-type {\n",
       "        vertical-align: middle;\n",
       "    }\n",
       "\n",
       "    .dataframe tbody tr th {\n",
       "        vertical-align: top;\n",
       "    }\n",
       "\n",
       "    .dataframe thead th {\n",
       "        text-align: right;\n",
       "    }\n",
       "</style>\n",
       "<table border=\"1\" class=\"dataframe\">\n",
       "  <thead>\n",
       "    <tr style=\"text-align: right;\">\n",
       "      <th>NEW_GSPN</th>\n",
       "      <th>1</th>\n",
       "      <th>2</th>\n",
       "      <th>3</th>\n",
       "    </tr>\n",
       "    <tr>\n",
       "      <th>OLD_GSPN</th>\n",
       "      <th></th>\n",
       "      <th></th>\n",
       "      <th></th>\n",
       "    </tr>\n",
       "  </thead>\n",
       "  <tbody>\n",
       "    <tr>\n",
       "      <th>1.0</th>\n",
       "      <td>29.0</td>\n",
       "      <td>11.0</td>\n",
       "      <td>0.0</td>\n",
       "    </tr>\n",
       "    <tr>\n",
       "      <th>2.0</th>\n",
       "      <td>11.0</td>\n",
       "      <td>37.0</td>\n",
       "      <td>5.0</td>\n",
       "    </tr>\n",
       "    <tr>\n",
       "      <th>3.0</th>\n",
       "      <td>0.0</td>\n",
       "      <td>4.0</td>\n",
       "      <td>3.0</td>\n",
       "    </tr>\n",
       "    <tr>\n",
       "      <th>8.0</th>\n",
       "      <td>NaN</td>\n",
       "      <td>0.0</td>\n",
       "      <td>NaN</td>\n",
       "    </tr>\n",
       "  </tbody>\n",
       "</table>\n",
       "</div>"
      ],
      "text/plain": [
       "NEW_GSPN     1     2    3\n",
       "OLD_GSPN                 \n",
       "1.0       29.0  11.0  0.0\n",
       "2.0       11.0  37.0  5.0\n",
       "3.0        0.0   4.0  3.0\n",
       "8.0        NaN   0.0  NaN"
      ]
     },
     "execution_count": 153,
     "metadata": {},
     "output_type": "execute_result"
    }
   ],
   "source": [
    "df_summ[\"CASE_%\"] = round(df_summ[\"SKP_CREDIT_CASE\"]/(df_summ[\"SKP_CREDIT_CASE\"].sum())*100,0)\n",
    "\n",
    "print(\"% Cases\")\n",
    "df_summ.pivot(index=\"OLD_GSPN\",columns = \"NEW_GSPN\", values=\"CASE_%\")"
   ]
  },
  {
   "cell_type": "code",
   "execution_count": 154,
   "metadata": {},
   "outputs": [
    {
     "name": "stdout",
     "output_type": "stream",
     "text": [
      "FSTQPD60_%\n"
     ]
    },
    {
     "data": {
      "text/html": [
       "<div>\n",
       "<style scoped>\n",
       "    .dataframe tbody tr th:only-of-type {\n",
       "        vertical-align: middle;\n",
       "    }\n",
       "\n",
       "    .dataframe tbody tr th {\n",
       "        vertical-align: top;\n",
       "    }\n",
       "\n",
       "    .dataframe thead th {\n",
       "        text-align: right;\n",
       "    }\n",
       "</style>\n",
       "<table border=\"1\" class=\"dataframe\">\n",
       "  <thead>\n",
       "    <tr style=\"text-align: right;\">\n",
       "      <th>NEW_GSPN</th>\n",
       "      <th>1</th>\n",
       "      <th>2</th>\n",
       "      <th>3</th>\n",
       "    </tr>\n",
       "    <tr>\n",
       "      <th>OLD_GSPN</th>\n",
       "      <th></th>\n",
       "      <th></th>\n",
       "      <th></th>\n",
       "    </tr>\n",
       "  </thead>\n",
       "  <tbody>\n",
       "    <tr>\n",
       "      <th>1.0</th>\n",
       "      <td>4.15</td>\n",
       "      <td>4.87</td>\n",
       "      <td>5.00</td>\n",
       "    </tr>\n",
       "    <tr>\n",
       "      <th>2.0</th>\n",
       "      <td>4.58</td>\n",
       "      <td>5.42</td>\n",
       "      <td>7.16</td>\n",
       "    </tr>\n",
       "    <tr>\n",
       "      <th>3.0</th>\n",
       "      <td>4.93</td>\n",
       "      <td>6.33</td>\n",
       "      <td>7.98</td>\n",
       "    </tr>\n",
       "    <tr>\n",
       "      <th>8.0</th>\n",
       "      <td>NaN</td>\n",
       "      <td>0.00</td>\n",
       "      <td>NaN</td>\n",
       "    </tr>\n",
       "  </tbody>\n",
       "</table>\n",
       "</div>"
      ],
      "text/plain": [
       "NEW_GSPN     1     2     3\n",
       "OLD_GSPN                  \n",
       "1.0       4.15  4.87  5.00\n",
       "2.0       4.58  5.42  7.16\n",
       "3.0       4.93  6.33  7.98\n",
       "8.0        NaN  0.00   NaN"
      ]
     },
     "execution_count": 154,
     "metadata": {},
     "output_type": "execute_result"
    }
   ],
   "source": [
    "df_summ = df_temp.groupby([\"OLD_GSPN\",\"NEW_GSPN\"])[[\"RISK_AGRF120\",\"RISK_FSTQPD60\"]].sum().reset_index()\n",
    "\n",
    "df_summ[\"FSTQPD60_%\"] = round(df_summ[\"RISK_FSTQPD60\"]/df_summ[\"RISK_AGRF120\"]*100,2)\n",
    "\n",
    "print(\"FSTQPD60_%\")\n",
    "df_summ.pivot(index=\"OLD_GSPN\",columns = \"NEW_GSPN\", values=\"FSTQPD60_%\")"
   ]
  },
  {
   "cell_type": "code",
   "execution_count": null,
   "metadata": {},
   "outputs": [],
   "source": []
  },
  {
   "cell_type": "markdown",
   "metadata": {},
   "source": [
    "# Archieve"
   ]
  },
  {
   "cell_type": "markdown",
   "metadata": {},
   "source": [
    "# Model with RISK Predictors (Binomial Distribution)"
   ]
  },
  {
   "cell_type": "code",
   "execution_count": 22,
   "metadata": {},
   "outputs": [
    {
     "name": "stdout",
     "output_type": "stream",
     "text": [
      "Event rate in train set : 6.59%\n",
      "Train set shape: (707789, 11)\n",
      "Event rate in test set : 6.77%\n",
      "Train set shape: (894483, 11)\n"
     ]
    }
   ],
   "source": [
    "x_columns = [\"CASE_COUNT\",\"RISK_FPD10_BINOM\",\"RISK_FPD30_BINOM\",\"RISK_FSPD30_BINOM\",\"RISK_FSTPD30_BINOM\",\"RISK_FSTQPD60_BINOM\", \"COMBINED_SCORE_KNN_EXI\",\n",
    "            \"COMBINED_SCORE_KNN_NTC\",\"AP_POS_TYPE\",\"Aldi_POS_TYPE\",\"Satellite_POS_TYPE\",\"UDAAN_POS_TYPE\"]\n",
    "y_column = \"RISK_FSTQPD60\"\n",
    "\n",
    "print(\"Event rate in train set :\", '{:,.2%}'.format(sum(df_train[y_column]) / len(df_train[y_column])))\n",
    "print(\"Train set shape:\",df_train[x_columns].shape)\n",
    "print(\"Event rate in test set :\", '{:,.2%}'.format(sum(df_test[y_column]) / len(df_test[y_column])))\n",
    "print(\"Train set shape:\",df_test[x_columns].shape)\n"
   ]
  },
  {
   "cell_type": "markdown",
   "metadata": {},
   "source": [
    "## L1 Penalty Hyper Parameter Optimization"
   ]
  },
  {
   "cell_type": "code",
   "execution_count": 23,
   "metadata": {},
   "outputs": [],
   "source": [
    "param_grid = {'C':np.exp(np.arange(-3,2,0.01))}"
   ]
  },
  {
   "cell_type": "code",
   "execution_count": 24,
   "metadata": {},
   "outputs": [],
   "source": [
    "kfolds = StratifiedKFold(3, random_state=1)\n",
    "comb=LogisticRegression(penalty = 'l1')\n",
    "\n",
    "rcv = RandomizedSearchCV(estimator = comb, param_distributions=param_grid, scoring=['roc_auc'], n_iter = 10,\n",
    "    cv=kfolds.split(df_train[x_columns],df_train[y_column]), verbose=0, random_state=1,\n",
    "    refit = 'roc_auc', return_train_score=True, error_score = 0)"
   ]
  },
  {
   "cell_type": "code",
   "execution_count": 25,
   "metadata": {},
   "outputs": [
    {
     "name": "stdout",
     "output_type": "stream",
     "text": [
      "Randomized search..\n"
     ]
    },
    {
     "name": "stderr",
     "output_type": "stream",
     "text": [
      "C:\\Users\\aman.khatri91425\\AppData\\Local\\Continuum\\anaconda3\\lib\\site-packages\\sklearn\\linear_model\\logistic.py:433: FutureWarning: Default solver will be changed to 'lbfgs' in 0.22. Specify a solver to silence this warning.\n",
      "  FutureWarning)\n",
      "C:\\Users\\aman.khatri91425\\AppData\\Local\\Continuum\\anaconda3\\lib\\site-packages\\sklearn\\linear_model\\logistic.py:433: FutureWarning: Default solver will be changed to 'lbfgs' in 0.22. Specify a solver to silence this warning.\n",
      "  FutureWarning)\n",
      "C:\\Users\\aman.khatri91425\\AppData\\Local\\Continuum\\anaconda3\\lib\\site-packages\\sklearn\\linear_model\\logistic.py:433: FutureWarning: Default solver will be changed to 'lbfgs' in 0.22. Specify a solver to silence this warning.\n",
      "  FutureWarning)\n",
      "C:\\Users\\aman.khatri91425\\AppData\\Local\\Continuum\\anaconda3\\lib\\site-packages\\sklearn\\linear_model\\logistic.py:433: FutureWarning: Default solver will be changed to 'lbfgs' in 0.22. Specify a solver to silence this warning.\n",
      "  FutureWarning)\n",
      "C:\\Users\\aman.khatri91425\\AppData\\Local\\Continuum\\anaconda3\\lib\\site-packages\\sklearn\\linear_model\\logistic.py:433: FutureWarning: Default solver will be changed to 'lbfgs' in 0.22. Specify a solver to silence this warning.\n",
      "  FutureWarning)\n",
      "C:\\Users\\aman.khatri91425\\AppData\\Local\\Continuum\\anaconda3\\lib\\site-packages\\sklearn\\linear_model\\logistic.py:433: FutureWarning: Default solver will be changed to 'lbfgs' in 0.22. Specify a solver to silence this warning.\n",
      "  FutureWarning)\n",
      "C:\\Users\\aman.khatri91425\\AppData\\Local\\Continuum\\anaconda3\\lib\\site-packages\\sklearn\\linear_model\\logistic.py:433: FutureWarning: Default solver will be changed to 'lbfgs' in 0.22. Specify a solver to silence this warning.\n",
      "  FutureWarning)\n",
      "C:\\Users\\aman.khatri91425\\AppData\\Local\\Continuum\\anaconda3\\lib\\site-packages\\sklearn\\linear_model\\logistic.py:433: FutureWarning: Default solver will be changed to 'lbfgs' in 0.22. Specify a solver to silence this warning.\n",
      "  FutureWarning)\n",
      "C:\\Users\\aman.khatri91425\\AppData\\Local\\Continuum\\anaconda3\\lib\\site-packages\\sklearn\\linear_model\\logistic.py:433: FutureWarning: Default solver will be changed to 'lbfgs' in 0.22. Specify a solver to silence this warning.\n",
      "  FutureWarning)\n",
      "C:\\Users\\aman.khatri91425\\AppData\\Local\\Continuum\\anaconda3\\lib\\site-packages\\sklearn\\linear_model\\logistic.py:433: FutureWarning: Default solver will be changed to 'lbfgs' in 0.22. Specify a solver to silence this warning.\n",
      "  FutureWarning)\n",
      "C:\\Users\\aman.khatri91425\\AppData\\Local\\Continuum\\anaconda3\\lib\\site-packages\\sklearn\\linear_model\\logistic.py:433: FutureWarning: Default solver will be changed to 'lbfgs' in 0.22. Specify a solver to silence this warning.\n",
      "  FutureWarning)\n",
      "C:\\Users\\aman.khatri91425\\AppData\\Local\\Continuum\\anaconda3\\lib\\site-packages\\sklearn\\linear_model\\logistic.py:433: FutureWarning: Default solver will be changed to 'lbfgs' in 0.22. Specify a solver to silence this warning.\n",
      "  FutureWarning)\n",
      "C:\\Users\\aman.khatri91425\\AppData\\Local\\Continuum\\anaconda3\\lib\\site-packages\\sklearn\\linear_model\\logistic.py:433: FutureWarning: Default solver will be changed to 'lbfgs' in 0.22. Specify a solver to silence this warning.\n",
      "  FutureWarning)\n",
      "C:\\Users\\aman.khatri91425\\AppData\\Local\\Continuum\\anaconda3\\lib\\site-packages\\sklearn\\linear_model\\logistic.py:433: FutureWarning: Default solver will be changed to 'lbfgs' in 0.22. Specify a solver to silence this warning.\n",
      "  FutureWarning)\n",
      "C:\\Users\\aman.khatri91425\\AppData\\Local\\Continuum\\anaconda3\\lib\\site-packages\\sklearn\\linear_model\\logistic.py:433: FutureWarning: Default solver will be changed to 'lbfgs' in 0.22. Specify a solver to silence this warning.\n",
      "  FutureWarning)\n",
      "C:\\Users\\aman.khatri91425\\AppData\\Local\\Continuum\\anaconda3\\lib\\site-packages\\sklearn\\linear_model\\logistic.py:433: FutureWarning: Default solver will be changed to 'lbfgs' in 0.22. Specify a solver to silence this warning.\n",
      "  FutureWarning)\n",
      "C:\\Users\\aman.khatri91425\\AppData\\Local\\Continuum\\anaconda3\\lib\\site-packages\\sklearn\\linear_model\\logistic.py:433: FutureWarning: Default solver will be changed to 'lbfgs' in 0.22. Specify a solver to silence this warning.\n",
      "  FutureWarning)\n",
      "C:\\Users\\aman.khatri91425\\AppData\\Local\\Continuum\\anaconda3\\lib\\site-packages\\sklearn\\linear_model\\logistic.py:433: FutureWarning: Default solver will be changed to 'lbfgs' in 0.22. Specify a solver to silence this warning.\n",
      "  FutureWarning)\n",
      "C:\\Users\\aman.khatri91425\\AppData\\Local\\Continuum\\anaconda3\\lib\\site-packages\\sklearn\\linear_model\\logistic.py:433: FutureWarning: Default solver will be changed to 'lbfgs' in 0.22. Specify a solver to silence this warning.\n",
      "  FutureWarning)\n",
      "C:\\Users\\aman.khatri91425\\AppData\\Local\\Continuum\\anaconda3\\lib\\site-packages\\sklearn\\linear_model\\logistic.py:433: FutureWarning: Default solver will be changed to 'lbfgs' in 0.22. Specify a solver to silence this warning.\n",
      "  FutureWarning)\n",
      "C:\\Users\\aman.khatri91425\\AppData\\Local\\Continuum\\anaconda3\\lib\\site-packages\\sklearn\\linear_model\\logistic.py:433: FutureWarning: Default solver will be changed to 'lbfgs' in 0.22. Specify a solver to silence this warning.\n",
      "  FutureWarning)\n",
      "C:\\Users\\aman.khatri91425\\AppData\\Local\\Continuum\\anaconda3\\lib\\site-packages\\sklearn\\linear_model\\logistic.py:433: FutureWarning: Default solver will be changed to 'lbfgs' in 0.22. Specify a solver to silence this warning.\n",
      "  FutureWarning)\n",
      "C:\\Users\\aman.khatri91425\\AppData\\Local\\Continuum\\anaconda3\\lib\\site-packages\\sklearn\\linear_model\\logistic.py:433: FutureWarning: Default solver will be changed to 'lbfgs' in 0.22. Specify a solver to silence this warning.\n",
      "  FutureWarning)\n",
      "C:\\Users\\aman.khatri91425\\AppData\\Local\\Continuum\\anaconda3\\lib\\site-packages\\sklearn\\linear_model\\logistic.py:433: FutureWarning: Default solver will be changed to 'lbfgs' in 0.22. Specify a solver to silence this warning.\n",
      "  FutureWarning)\n",
      "C:\\Users\\aman.khatri91425\\AppData\\Local\\Continuum\\anaconda3\\lib\\site-packages\\sklearn\\linear_model\\logistic.py:433: FutureWarning: Default solver will be changed to 'lbfgs' in 0.22. Specify a solver to silence this warning.\n",
      "  FutureWarning)\n",
      "C:\\Users\\aman.khatri91425\\AppData\\Local\\Continuum\\anaconda3\\lib\\site-packages\\sklearn\\linear_model\\logistic.py:433: FutureWarning: Default solver will be changed to 'lbfgs' in 0.22. Specify a solver to silence this warning.\n",
      "  FutureWarning)\n",
      "C:\\Users\\aman.khatri91425\\AppData\\Local\\Continuum\\anaconda3\\lib\\site-packages\\sklearn\\linear_model\\logistic.py:433: FutureWarning: Default solver will be changed to 'lbfgs' in 0.22. Specify a solver to silence this warning.\n",
      "  FutureWarning)\n",
      "C:\\Users\\aman.khatri91425\\AppData\\Local\\Continuum\\anaconda3\\lib\\site-packages\\sklearn\\linear_model\\logistic.py:433: FutureWarning: Default solver will be changed to 'lbfgs' in 0.22. Specify a solver to silence this warning.\n",
      "  FutureWarning)\n",
      "C:\\Users\\aman.khatri91425\\AppData\\Local\\Continuum\\anaconda3\\lib\\site-packages\\sklearn\\linear_model\\logistic.py:433: FutureWarning: Default solver will be changed to 'lbfgs' in 0.22. Specify a solver to silence this warning.\n",
      "  FutureWarning)\n",
      "C:\\Users\\aman.khatri91425\\AppData\\Local\\Continuum\\anaconda3\\lib\\site-packages\\sklearn\\linear_model\\logistic.py:433: FutureWarning: Default solver will be changed to 'lbfgs' in 0.22. Specify a solver to silence this warning.\n",
      "  FutureWarning)\n",
      "C:\\Users\\aman.khatri91425\\AppData\\Local\\Continuum\\anaconda3\\lib\\site-packages\\sklearn\\linear_model\\logistic.py:433: FutureWarning: Default solver will be changed to 'lbfgs' in 0.22. Specify a solver to silence this warning.\n",
      "  FutureWarning)\n"
     ]
    },
    {
     "name": "stdout",
     "output_type": "stream",
     "text": [
      "Randomized search time: 3383.189317703247\n"
     ]
    }
   ],
   "source": [
    "#Calculate Gini Lift Logistic Regression\n",
    "print(\"Randomized search..\")\n",
    "\n",
    "search_time_start = time.time()\n",
    "rcv.fit(df_train[x_columns], df_train[y_column])\n",
    "print(\"Randomized search time:\", time.time() - search_time_start)\n",
    "params = rcv.best_params_   #get best parameters\n",
    "dic=rcv.cv_results_    #provides scoring results for each iteration, 50 in this case, mean values can be used "
   ]
  },
  {
   "cell_type": "code",
   "execution_count": 26,
   "metadata": {},
   "outputs": [
    {
     "name": "stdout",
     "output_type": "stream",
     "text": [
      "{'C': 2.6644562419291913}\n"
     ]
    },
    {
     "data": {
      "image/png": "[encoded data removed]",
      "text/plain": [
       "<Figure size 432x288 with 1 Axes>"
      ]
     },
     "metadata": {
      "needs_background": "light"
     },
     "output_type": "display_data"
    }
   ],
   "source": [
    "tmp1= pd.DataFrame(dic)[[\"param_C\",\"mean_test_roc_auc\",\"mean_train_roc_auc\"]].sort_values(by = 'param_C')\n",
    "tmp1.plot(x=\"param_C\")\n",
    "print(params)"
   ]
  },
  {
   "cell_type": "markdown",
   "metadata": {},
   "source": [
    "## Logistic With optimized Hyperparameters "
   ]
  },
  {
   "cell_type": "code",
   "execution_count": 27,
   "metadata": {},
   "outputs": [
    {
     "name": "stderr",
     "output_type": "stream",
     "text": [
      "C:\\Users\\aman.khatri91425\\AppData\\Local\\Continuum\\anaconda3\\lib\\site-packages\\sklearn\\linear_model\\logistic.py:433: FutureWarning: Default solver will be changed to 'lbfgs' in 0.22. Specify a solver to silence this warning.\n",
      "  FutureWarning)\n"
     ]
    },
    {
     "name": "stdout",
     "output_type": "stream",
     "text": [
      "Train GINI(COMBINED_SCORE) 0.117\n",
      "Test GINI(COMBINED_SCORE) 0.111\n"
     ]
    }
   ],
   "source": [
    "from sklearn.linear_model import LogisticRegression\n",
    "\n",
    "bst = LogisticRegression(penalty = 'l1', C=params['C'])\n",
    "\n",
    "bst.fit(df_train[x_columns], df_train[y_column])\n",
    "\n",
    "ypred_train = bst.predict_proba(df_train[x_columns])[:, 1]\n",
    "ypred_test = bst.predict_proba(df_test[x_columns])[:, 1]\n",
    "\n",
    "print(\"Train GINI(COMBINED_SCORE) %.3f\" % (2*roc_auc_score(df_train[y_column], ypred_train)-1))\n",
    "print(\"Test GINI(COMBINED_SCORE) %.3f\" % (2*roc_auc_score(df_test[y_column], ypred_test)-1))\n"
   ]
  },
  {
   "cell_type": "code",
   "execution_count": 28,
   "metadata": {},
   "outputs": [
    {
     "data": {
      "text/html": [
       "<div>\n",
       "<style scoped>\n",
       "    .dataframe tbody tr th:only-of-type {\n",
       "        vertical-align: middle;\n",
       "    }\n",
       "\n",
       "    .dataframe tbody tr th {\n",
       "        vertical-align: top;\n",
       "    }\n",
       "\n",
       "    .dataframe thead th {\n",
       "        text-align: right;\n",
       "    }\n",
       "</style>\n",
       "<table border=\"1\" class=\"dataframe\">\n",
       "  <thead>\n",
       "    <tr style=\"text-align: right;\">\n",
       "      <th></th>\n",
       "      <th>column</th>\n",
       "      <th>coeffecient</th>\n",
       "    </tr>\n",
       "  </thead>\n",
       "  <tbody>\n",
       "    <tr>\n",
       "      <th>0</th>\n",
       "      <td>RISK_FPD10_BINOM</td>\n",
       "      <td>-0.350288</td>\n",
       "    </tr>\n",
       "    <tr>\n",
       "      <th>1</th>\n",
       "      <td>RISK_FPD30_BINOM</td>\n",
       "      <td>0.101403</td>\n",
       "    </tr>\n",
       "    <tr>\n",
       "      <th>2</th>\n",
       "      <td>RISK_FSPD30_BINOM</td>\n",
       "      <td>-0.026990</td>\n",
       "    </tr>\n",
       "    <tr>\n",
       "      <th>3</th>\n",
       "      <td>RISK_FSTPD30_BINOM</td>\n",
       "      <td>-0.097405</td>\n",
       "    </tr>\n",
       "    <tr>\n",
       "      <th>4</th>\n",
       "      <td>RISK_FSTQPD30_BINOM</td>\n",
       "      <td>-0.249333</td>\n",
       "    </tr>\n",
       "    <tr>\n",
       "      <th>5</th>\n",
       "      <td>COMBINED_SCORE_KNN_EXI</td>\n",
       "      <td>-3.087653</td>\n",
       "    </tr>\n",
       "    <tr>\n",
       "      <th>6</th>\n",
       "      <td>COMBINED_SCORE_KNN_NTC</td>\n",
       "      <td>8.187456</td>\n",
       "    </tr>\n",
       "    <tr>\n",
       "      <th>7</th>\n",
       "      <td>AP_POS_TYPE</td>\n",
       "      <td>-1.736329</td>\n",
       "    </tr>\n",
       "    <tr>\n",
       "      <th>8</th>\n",
       "      <td>Aldi_POS_TYPE</td>\n",
       "      <td>-1.769825</td>\n",
       "    </tr>\n",
       "    <tr>\n",
       "      <th>9</th>\n",
       "      <td>Satellite_POS_TYPE</td>\n",
       "      <td>-1.738537</td>\n",
       "    </tr>\n",
       "    <tr>\n",
       "      <th>10</th>\n",
       "      <td>UDAAN_POS_TYPE</td>\n",
       "      <td>0.000000</td>\n",
       "    </tr>\n",
       "  </tbody>\n",
       "</table>\n",
       "</div>"
      ],
      "text/plain": [
       "                    column  coeffecient\n",
       "0         RISK_FPD10_BINOM    -0.350288\n",
       "1         RISK_FPD30_BINOM     0.101403\n",
       "2        RISK_FSPD30_BINOM    -0.026990\n",
       "3       RISK_FSTPD30_BINOM    -0.097405\n",
       "4      RISK_FSTQPD30_BINOM    -0.249333\n",
       "5   COMBINED_SCORE_KNN_EXI    -3.087653\n",
       "6   COMBINED_SCORE_KNN_NTC     8.187456\n",
       "7              AP_POS_TYPE    -1.736329\n",
       "8            Aldi_POS_TYPE    -1.769825\n",
       "9       Satellite_POS_TYPE    -1.738537\n",
       "10          UDAAN_POS_TYPE     0.000000"
      ]
     },
     "execution_count": 28,
     "metadata": {},
     "output_type": "execute_result"
    }
   ],
   "source": [
    "pd.DataFrame({\"column\":x_columns,\"coeffecient\":bst.coef_[0]})"
   ]
  },
  {
   "cell_type": "code",
   "execution_count": 29,
   "metadata": {},
   "outputs": [],
   "source": [
    "df_model[\"GSPN_SCORE_1\"] =  bst.predict_proba(df_model[x_columns])[:, 1]"
   ]
  },
  {
   "cell_type": "code",
   "execution_count": null,
   "metadata": {},
   "outputs": [],
   "source": []
  },
  {
   "cell_type": "code",
   "execution_count": null,
   "metadata": {},
   "outputs": [],
   "source": []
  },
  {
   "cell_type": "code",
   "execution_count": null,
   "metadata": {},
   "outputs": [],
   "source": []
  },
  {
   "cell_type": "code",
   "execution_count": null,
   "metadata": {},
   "outputs": [],
   "source": []
  }
 ],
 "metadata": {
  "kernelspec": {
   "display_name": "Python 3",
   "language": "python",
   "name": "python3"
  },
  "language_info": {
   "codemirror_mode": {
    "name": "ipython",
    "version": 3
   },
   "file_extension": ".py",
   "mimetype": "text/x-python",
   "name": "python",
   "nbconvert_exporter": "python",
   "pygments_lexer": "ipython3",
   "version": "3.7.3"
  }
 },
 "nbformat": 4,
 "nbformat_minor": 2
}
