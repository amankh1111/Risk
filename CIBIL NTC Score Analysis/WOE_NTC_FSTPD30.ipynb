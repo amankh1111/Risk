{
 "cells": [
  {
   "cell_type": "markdown",
   "metadata": {},
   "source": [
    "<span style=\"font-size:30pt;font-weight:bold\">Home Credit Python Scoring Workflow v.0.7.0</font>\n",
    "\n",
    "**Copyright:**\n",
    "\n",
    "© 2017-2018, Pavel Sůva, Marek Teller, Martin Kotek, Jan Zeller, Marek Mukenšnabl, Kirill Odintsov, Jan Hynek, Elena Kuchina and Home Credit & Finance Bank Limited Liability Company, Moscow, Russia – all rights reserved\n",
    "\n",
    "Licensed under the Apache License, Version 2.0 (the \"License\");\n",
    "you may not use this file except in compliance with the [License](http://www.apache.org/licenses/LICENSE-2.0)\n",
    "\n",
    "Unless required by applicable law or agreed to in writing, software\n",
    "distributed under the License is distributed on an \"AS IS\" BASIS,\n",
    "WITHOUT WARRANTIES OR CONDITIONS OF ANY KIND, either express or implied.\n",
    "See the License for the specific language governing permissions and\n",
    "limitations under the License.\n",
    "\n",
    "\n",
    "**Contributors:**\n",
    "- Pavel Sůva (HCI Research & Development)\n",
    "- Sergey Gerasimov (HCRU Scoring & Big Data)\n",
    "- Valentina Kalenichenko (HCRU Scoring & Big Data)\n",
    "- Marek Teller (HCI Research & Development)\n",
    "- Martin Kotek (HCCN Risk Decision & Big Data)\n",
    "- Jan Zeller\n",
    "- Marek Mukenšnabl (HCI Research & Development)\n",
    "- Anatoliy Glushenko (HCRU Scoring & Big Data)\n",
    "- Kirill Odintsov (HCI Research & Development)\n",
    "- Jan Hynek (HCI Research & Development)\n",
    "- Elena Kuchina (HCI Research & Development)\n",
    "- Dmitry Gorev (HCRU Scoring & Big Data)"
   ]
  },
  {
   "cell_type": "markdown",
   "metadata": {},
   "source": [
    "# Import packages\n",
    "\n",
    "## List of packages\n",
    "- `time`, datetime - ability to get current time for logs\n",
    "- `math` - basic mathematical functions (as logarithm etc.))\n",
    "- `random` - generate random selection from probability distributions\n",
    "- `NumPy` - for scientific, mathematical, numerical calculations\n",
    "- `Scipy` - for clustering and correlation calculations\n",
    "- `Pandas` - for efficient work with large data structures (you need pandas **version 0.23 or higher**)\n",
    "- `cx_Oracle` and sqlalchemy - for loading data from Oracle database (DWH etc.)\n",
    "- `scikit`-learn - all important machine learning (and statistical) algorithms used for training the models\n",
    "- `matplotlib` - for plotting the charts\n",
    "- `seaborn` - for statistical visualisations\n",
    "- `os` - for setting output paths for generated image files\n",
    "- `pickle` - to save models to external files\n",
    "- `tqdm` - intelligent progress bar\n",
    "- `tkinter` - for interactive Interactions tool GUI\n",
    "- `xgboost` - gradient boosting used for feature selection before regression\n",
    "\n",
    "**If any of these packages is missing, you have to install it from the Anaconda prompt using command *conda install packagename* where *packagename* is the name of the installed package.**\n",
    "\n",
    "There is another package called *scoring*, which is distributed along with this workflow. **The folder *scoring* must be located in the same folder as this workflow for the package to be loaded correctly.** Alternatively, you can locate it somewhere else and then use *sys.path.insert()* to map this location.\n",
    "\n",
    "## Other important prerequisites\n",
    "\n",
    "For the grouping some **extensions for Jupyter must be installed and enabled before Jupyter is started and the notebook is loaded**. These extensions are Javascripts running in the browser, so it is necessary to have a compatibile browser. Generally, Chrome is OK, Internet Explorer 11 is NOT OK. To install the extensions, run this in your Anaconda prompt:\n",
    "\n",
    "- `conda install ipywidgets`\n",
    "- `jupyter nbextension enable --py --sys-prefix widgetsnbextension`\n",
    "- `conda config --add channels conda-forge`\n",
    "- `conda install qgrid` \n",
    "- `jupyter nbextension enable --py --sys-prefix qgrid`\n",
    "- `conda install tqdm`\n",
    "\n",
    "Please, make sure that qgrid library that you installed in this step is **verison 1.0.3 or higher**. \n",
    "\n",
    "To be able to connect to Oracle database (to get the data directly from your DWH) you need a compatibile Oracle driver to be installed on your computer. **With 64-bit Python, you need to have 64-bit Oracle driver installed.** Before you install the driver, you need to have Java 8 JDK (JRE is not enough) installed on your computer."
   ]
  },
  {
   "cell_type": "code",
   "execution_count": 2,
   "metadata": {},
   "outputs": [],
   "source": [
    "import time\n",
    "import datetime\n",
    "import operator\n",
    "import math\n",
    "import random\n",
    "import numpy as np\n",
    "import pandas as pd\n",
    "# import cx_Oracle\n",
    "import matplotlib\n",
    "import matplotlib.pyplot as plt\n",
    "import seaborn as sns\n",
    "import os.path\n",
    "import pickle\n",
    "import gc\n",
    "from tqdm import tqdm_notebook as tqdm\n",
    "#import tkinter\n",
    "#import xgboost as xgb\n",
    "\n",
    "import sys\n",
    "\n",
    "sys.path.append(r\"C:\\Users\\aman.khatri91425\\Desktop\\HomeCredit\\UW\\Scoring Workflow\")\n",
    "import scoring\n",
    "#import importlib\n",
    "#importlib.reload(scoring)\n",
    "\n",
    "# import warnings\n",
    "# warnings.filterwarnings('ignore')\n",
    "os.chdir(r\"C:\\Users\\aman.khatri91425\\Desktop\\HomeCredit\\UW\\NTC Score Cibil\")"
   ]
  },
  {
   "cell_type": "markdown",
   "metadata": {},
   "source": [
    "Set general technical parameters and paths."
   ]
  },
  {
   "cell_type": "code",
   "execution_count": 3,
   "metadata": {},
   "outputs": [],
   "source": [
    "sns.set()\n",
    "%matplotlib inline\n",
    "%config InlineBackend.close_figures=True\n",
    "from IPython.display import display, Markdown\n",
    "pd.options.display.max_columns = None\n",
    "pd.options.display.max_rows = 15\n",
    "output_folder = 'documentation'\n",
    "\n",
    "if not os.path.exists(output_folder): os.makedirs(output_folder)\n",
    "if not os.path.exists(output_folder+'/performance'): os.makedirs(output_folder+'/performance')\n",
    "if not os.path.exists(output_folder+'/predictors'): os.makedirs(output_folder+'/predictors')\n",
    "if not os.path.exists(output_folder+'/stability'): os.makedirs(output_folder+'/stability')\n",
    "if not os.path.exists(output_folder+'/stability_short'): os.makedirs(output_folder+'/stability_short')\n",
    "if not os.path.exists(output_folder+'/analysis'): os.makedirs(output_folder+'/analysis')\n",
    "if not os.path.exists(output_folder+'/model'): os.makedirs(output_folder+'/model')\n",
    "if not os.path.exists(output_folder+'/nan_share'): os.makedirs(output_folder+'/nan_share')\n",
    "scoring.check_version('0.7.0')"
   ]
  },
  {
   "cell_type": "markdown",
   "metadata": {},
   "source": [
    "# Input data\n",
    "\n",
    "## Import data\n",
    "Importing data from a CSV file. It is important to set the following parameters:\n",
    "\n",
    "encoding: usually 'utf-8' or windows-xxxx on Windows machines, where xxxx is 1250 for Central Europe, 1251 for Cyrilic etc.\n",
    "sep: separator of columns in the file\n",
    "decimal: decimal dot or coma\n",
    "index_col: which columns is used as index - should be the unique credit case identifier\n",
    "\n",
    "**Defining NA values:** In different datasets, there can be different values to be considered *N/A*. By default, we set only blank fields to be considered *N/A*, however you might want to change it and add values like *'NA'*, *'NAN'*, *'null'* to be also considered *N/A*. User parameter `na_values` for this."
   ]
  },
  {
   "cell_type": "code",
   "execution_count": 4,
   "metadata": {},
   "outputs": [
    {
     "name": "stdout",
     "output_type": "stream",
     "text": [
      "Data loaded on 2021-02-28 00:05:49\n"
     ]
    }
   ],
   "source": [
    "from scoring import db\n",
    "data = db.read_csv(os.getcwd()+r'\\Data Files\\export_final.CSV', sep = ',', decimal = '.',\n",
    "                   optimize_types=True, encoding = 'utf-8', index_col = 'SKP_CREDIT_CASE', low_memory = False,\n",
    "                   keep_default_na = False, na_values = [''])\n",
    "print('Data loaded on',datetime.datetime.fromtimestamp(time.time()).strftime('%Y-%m-%d %H:%M:%S'))"
   ]
  },
  {
   "cell_type": "markdown",
   "metadata": {},
   "source": [
    "The data need to have index column which has unique value per each row. If not, it can cause some problems later. Run this to deal with such rows:"
   ]
  },
  {
   "cell_type": "code",
   "execution_count": 9,
   "metadata": {},
   "outputs": [
    {
     "name": "stdout",
     "output_type": "stream",
     "text": [
      "N    247194\n",
      "Name: CLIENT_EXI_3M, dtype: int64\n"
     ]
    }
   ],
   "source": [
    "df= data.dropna(subset = ['NTC_BAND'])\n",
    "print(df.CLIENT_EXI_3M.value_counts())\n"
   ]
  },
  {
   "cell_type": "code",
   "execution_count": 11,
   "metadata": {},
   "outputs": [],
   "source": [
    "df = df[df[\"RISK_AGRF90\"]==1]"
   ]
  },
  {
   "cell_type": "code",
   "execution_count": 12,
   "metadata": {},
   "outputs": [
    {
     "data": {
      "text/html": [
       "<div>\n",
       "<style scoped>\n",
       "    .dataframe tbody tr th:only-of-type {\n",
       "        vertical-align: middle;\n",
       "    }\n",
       "\n",
       "    .dataframe tbody tr th {\n",
       "        vertical-align: top;\n",
       "    }\n",
       "\n",
       "    .dataframe thead th {\n",
       "        text-align: right;\n",
       "    }\n",
       "</style>\n",
       "<table border=\"1\" class=\"dataframe\">\n",
       "  <thead>\n",
       "    <tr style=\"text-align: right;\">\n",
       "      <th></th>\n",
       "      <th>TIME_DECISION_DATE</th>\n",
       "      <th>CLIENT_EXI_3M</th>\n",
       "      <th>RISK_FPD30</th>\n",
       "      <th>RISK_FSTPD30</th>\n",
       "      <th>RISK_FSTQPD30</th>\n",
       "      <th>RISK_FSTQPD60</th>\n",
       "      <th>RISK_AGRF30</th>\n",
       "      <th>RISK_AGRF90</th>\n",
       "      <th>RISK_AGRF120</th>\n",
       "      <th>RISK_AGRF150</th>\n",
       "      <th>POS_TYPE</th>\n",
       "      <th>RISK_SCORE</th>\n",
       "      <th>NTC_BAND</th>\n",
       "    </tr>\n",
       "    <tr>\n",
       "      <th>SKP_CREDIT_CASE</th>\n",
       "      <th></th>\n",
       "      <th></th>\n",
       "      <th></th>\n",
       "      <th></th>\n",
       "      <th></th>\n",
       "      <th></th>\n",
       "      <th></th>\n",
       "      <th></th>\n",
       "      <th></th>\n",
       "      <th></th>\n",
       "      <th></th>\n",
       "      <th></th>\n",
       "      <th></th>\n",
       "    </tr>\n",
       "  </thead>\n",
       "  <tbody>\n",
       "    <tr>\n",
       "      <th>306282367</th>\n",
       "      <td>01-06-20</td>\n",
       "      <td>N</td>\n",
       "      <td>0</td>\n",
       "      <td>0</td>\n",
       "      <td>0</td>\n",
       "      <td>0</td>\n",
       "      <td>0</td>\n",
       "      <td>0</td>\n",
       "      <td>0</td>\n",
       "      <td>0</td>\n",
       "      <td>AP</td>\n",
       "      <td>0.005819</td>\n",
       "      <td>123</td>\n",
       "    </tr>\n",
       "    <tr>\n",
       "      <th>306282368</th>\n",
       "      <td>01-06-20</td>\n",
       "      <td>N</td>\n",
       "      <td>0</td>\n",
       "      <td>0</td>\n",
       "      <td>0</td>\n",
       "      <td>0</td>\n",
       "      <td>1</td>\n",
       "      <td>1</td>\n",
       "      <td>1</td>\n",
       "      <td>1</td>\n",
       "      <td>AP</td>\n",
       "      <td>0.014114</td>\n",
       "      <td>112</td>\n",
       "    </tr>\n",
       "    <tr>\n",
       "      <th>306282502</th>\n",
       "      <td>01-06-20</td>\n",
       "      <td>N</td>\n",
       "      <td>0</td>\n",
       "      <td>0</td>\n",
       "      <td>0</td>\n",
       "      <td>0</td>\n",
       "      <td>1</td>\n",
       "      <td>1</td>\n",
       "      <td>1</td>\n",
       "      <td>1</td>\n",
       "      <td>Satellite</td>\n",
       "      <td>0.007099</td>\n",
       "      <td>120</td>\n",
       "    </tr>\n",
       "    <tr>\n",
       "      <th>306282502</th>\n",
       "      <td>01-06-20</td>\n",
       "      <td>N</td>\n",
       "      <td>0</td>\n",
       "      <td>0</td>\n",
       "      <td>0</td>\n",
       "      <td>0</td>\n",
       "      <td>1</td>\n",
       "      <td>1</td>\n",
       "      <td>1</td>\n",
       "      <td>1</td>\n",
       "      <td>Satellite</td>\n",
       "      <td>0.007099</td>\n",
       "      <td>106</td>\n",
       "    </tr>\n",
       "    <tr>\n",
       "      <th>306282504</th>\n",
       "      <td>01-06-20</td>\n",
       "      <td>N</td>\n",
       "      <td>0</td>\n",
       "      <td>0</td>\n",
       "      <td>0</td>\n",
       "      <td>0</td>\n",
       "      <td>1</td>\n",
       "      <td>1</td>\n",
       "      <td>1</td>\n",
       "      <td>1</td>\n",
       "      <td>Satellite</td>\n",
       "      <td>0.009103</td>\n",
       "      <td>103</td>\n",
       "    </tr>\n",
       "  </tbody>\n",
       "</table>\n",
       "</div>"
      ],
      "text/plain": [
       "                TIME_DECISION_DATE CLIENT_EXI_3M  RISK_FPD30  RISK_FSTPD30  \\\n",
       "SKP_CREDIT_CASE                                                              \n",
       "306282367                 01-06-20             N           0             0   \n",
       "306282368                 01-06-20             N           0             0   \n",
       "306282502                 01-06-20             N           0             0   \n",
       "306282502                 01-06-20             N           0             0   \n",
       "306282504                 01-06-20             N           0             0   \n",
       "\n",
       "                 RISK_FSTQPD30  RISK_FSTQPD60  RISK_AGRF30  RISK_AGRF90  \\\n",
       "SKP_CREDIT_CASE                                                           \n",
       "306282367                    0              0            0            0   \n",
       "306282368                    0              0            1            1   \n",
       "306282502                    0              0            1            1   \n",
       "306282502                    0              0            1            1   \n",
       "306282504                    0              0            1            1   \n",
       "\n",
       "                 RISK_AGRF120  RISK_AGRF150   POS_TYPE  RISK_SCORE  NTC_BAND  \n",
       "SKP_CREDIT_CASE                                                               \n",
       "306282367                   0             0         AP    0.005819       123  \n",
       "306282368                   1             1         AP    0.014114       112  \n",
       "306282502                   1             1  Satellite    0.007099       120  \n",
       "306282502                   1             1  Satellite    0.007099       106  \n",
       "306282504                   1             1  Satellite    0.009103       103  "
      ]
     },
     "execution_count": 12,
     "metadata": {},
     "output_type": "execute_result"
    }
   ],
   "source": [
    "data.head()"
   ]
  },
  {
   "cell_type": "code",
   "execution_count": 13,
   "metadata": {},
   "outputs": [],
   "source": [
    "data= data[[\"TIME_DECISION_DATE\",\"NTC_BAND\",\"RISK_FSTPD30\"]]"
   ]
  },
  {
   "cell_type": "code",
   "execution_count": 14,
   "metadata": {},
   "outputs": [],
   "source": [
    "# data.info()"
   ]
  },
  {
   "cell_type": "code",
   "execution_count": 15,
   "metadata": {},
   "outputs": [],
   "source": [
    "#Option 1: remove rows with duplicated index\n",
    "data=data[~data.index.duplicated(keep='first')]\n",
    "\n",
    "#Option 2: reset index\n",
    "#data.reset_index(inplace=True)"
   ]
  },
  {
   "cell_type": "markdown",
   "metadata": {},
   "source": [
    "Optionally the data can be loaded also from a database. The function read_sql uses cache, so the data don't have to be downloaded from the database repeatedly. The cache will be located in a new folder called **db_cache**."
   ]
  },
  {
   "cell_type": "code",
   "execution_count": 16,
   "metadata": {
    "code_folding": []
   },
   "outputs": [],
   "source": [
    "# from sqlalchemy import create_engine\n",
    "#engine = create_engine('oracle://PAVELS[GP_HQ_RISK]:xxx@(DESCRIPTION=(ADDRESS=(PROTOCOL=TCP)(HOST=DBDWHRU.HOMECREDIT.RU)(PORT=1521))(CONNECT_DATA=(SERVICE_NAME=DWHRU)))', echo=False)"
   ]
  },
  {
   "cell_type": "code",
   "execution_count": 17,
   "metadata": {},
   "outputs": [],
   "source": [
    "#from scoring.db import read_sql\n",
    "#ru_data = read_sql('select * from owner_dwh.f_application_tt where rownum<11',engine, index_col = 'sk_application')\n",
    "#print('Data loaded on',datetime.datetime.fromtimestamp(time.time()).strftime('%Y-%m-%d %H:%M:%S'))"
   ]
  },
  {
   "cell_type": "markdown",
   "metadata": {},
   "source": [
    "If you need to download data from the database again (and not from cache), use the parameter refresh:"
   ]
  },
  {
   "cell_type": "code",
   "execution_count": 18,
   "metadata": {},
   "outputs": [],
   "source": [
    "#from scoring.db import read_sql\n",
    "#data = read_sql('select * from owner_dwh.f_application_base_tt where rownum=1',engine, index_col = 'skp_application',refresh=True)\n",
    "#print('Data loaded on',datetime.datetime.fromtimestamp(time.time()).strftime('%Y-%m-%d %H:%M:%S'))"
   ]
  },
  {
   "cell_type": "code",
   "execution_count": 19,
   "metadata": {},
   "outputs": [
    {
     "name": "stdout",
     "output_type": "stream",
     "text": [
      "Number of rows: 240484\n",
      "Number of columns: 3\n"
     ]
    }
   ],
   "source": [
    "print('Number of rows:',data.shape[0])\n",
    "print('Number of columns:',data.shape[1])"
   ]
  },
  {
   "cell_type": "markdown",
   "metadata": {},
   "source": [
    "## Metadata definitions\n",
    "Assigning ID column, target column, time column and month column. The month column don't have to exist in the dataset, it will be created later in this workflow."
   ]
  },
  {
   "cell_type": "code",
   "execution_count": 20,
   "metadata": {},
   "outputs": [],
   "source": [
    "### THESE COLUMNS MUST BE INCLUDED IN THE DATA SET ###\n",
    "#name of the target column\n",
    "col_target = \"RISK_FSTPD30\"\n",
    "#name of the time column\n",
    "col_time = \"TIME_DECISION_DATE\"\n",
    "\n",
    "### THESE COLUMNS DON'T HAVE TO BE INCLUDED IN THE DATA SET AND ARE CREATED AUTOMATICALLY LATER ###\n",
    "#name of the base column\n",
    "col_base = \"BASE\"\n",
    "#name of the month column\n",
    "col_month = \"MONTH\"\n",
    "#name of the day column\n",
    "col_day = \"DAY\"\n",
    "#name of the weight column - CURRENTLY COMMENTED OUT BECAUSE OF REASONS MENTIONED LATER\n",
    "col_weight = 'WEIGHT'\n",
    "#name of the reject column - only use if exists in your data, used for reject inference analysis\n",
    "col_reject = 'REJECTED'"
   ]
  },
  {
   "cell_type": "code",
   "execution_count": 21,
   "metadata": {},
   "outputs": [],
   "source": [
    "pd.DataFrame.from_records([['col_time',col_time],['col_month',col_month],['col_day',col_day],['col_target',col_target],['col_base',col_base]]) \\\n",
    ".to_csv(output_folder+'/model/metadata.csv',index=0,header=None)\n",
    "\n",
    "data[col_target] = data[col_target].astype(np.float)"
   ]
  },
  {
   "cell_type": "markdown",
   "metadata": {},
   "source": [
    "If you don't have base column in your data set, the following code adds it (based on if target is filled)."
   ]
  },
  {
   "cell_type": "code",
   "execution_count": 22,
   "metadata": {},
   "outputs": [
    {
     "name": "stdout",
     "output_type": "stream",
     "text": [
      "Column BASE added/modified. Number of columns: 4\n"
     ]
    }
   ],
   "source": [
    "if col_base not in data:\n",
    "    data[col_base] = 0\n",
    "    data.loc[data[col_target]==0,col_base] = 1\n",
    "    data.loc[data[col_target]==1,col_base] = 1\n",
    "    print('Column',col_base,'added/modified. Number of columns:',data.shape[1])\n",
    "else:\n",
    "    print('Column',col_base,'already exists.')"
   ]
  },
  {
   "cell_type": "markdown",
   "metadata": {},
   "source": [
    "If you don't have weight column in your data set, the following code adds it, with value = 1 for each row. **The weights are currently supported by Data Exploration, Interactive Grouping and Model Selection (L1 regression and Stepwise) classes, but not by all functions in the workflow. This is why they are commented out now (can be uncommented by the user).**"
   ]
  },
  {
   "cell_type": "code",
   "execution_count": 23,
   "metadata": {},
   "outputs": [],
   "source": [
    "# if col_weight not in data:\n",
    "#    data[col_weight] = 1\n",
    "#    print('Column',col_weight,'added/modified. Number of columns:',data.shape[1])\n",
    "# else:\n",
    "#    print('Column',col_weight,'already exists.')"
   ]
  },
  {
   "cell_type": "markdown",
   "metadata": {},
   "source": [
    "Create the month and day column from the time column is doing the following\n",
    "- take the time column and tell in which format the time is saved in - **you need to specify this in variable *dtime_input_format*** (see https://docs.python.org/3/library/time.html#time.strftime for reference)\n",
    "- strip the format just to year, month, day string\n",
    "- convert the string to number\n",
    "- the new column will be added to the dataset as day\n",
    "- truncate this column to just year and month and add it to dataset as month"
   ]
  },
  {
   "cell_type": "code",
   "execution_count": 24,
   "metadata": {},
   "outputs": [],
   "source": [
    "dtime_input_format = '%d-%m-%y'"
   ]
  },
  {
   "cell_type": "code",
   "execution_count": 25,
   "metadata": {},
   "outputs": [
    {
     "name": "stdout",
     "output_type": "stream",
     "text": [
      "Columns DAY and MONTH added/modified. Number of columns: 6\n"
     ]
    }
   ],
   "source": [
    "data[col_day] = list(pd.to_numeric(pd.to_datetime(data[col_time], format=dtime_input_format).dt.strftime('%Y%m%d')))\n",
    "data[col_month] = data[col_day].apply(lambda x: math.trunc(x/100))\n",
    "data[col_time] = pd.to_datetime(data[col_time], format = dtime_input_format)\n",
    "print('Columns',col_day,'and',col_month,'added/modified. Number of columns:',data.shape[1])"
   ]
  },
  {
   "cell_type": "code",
   "execution_count": 26,
   "metadata": {},
   "outputs": [
    {
     "data": {
      "text/html": [
       "<div>\n",
       "<style scoped>\n",
       "    .dataframe tbody tr th:only-of-type {\n",
       "        vertical-align: middle;\n",
       "    }\n",
       "\n",
       "    .dataframe tbody tr th {\n",
       "        vertical-align: top;\n",
       "    }\n",
       "\n",
       "    .dataframe thead th {\n",
       "        text-align: right;\n",
       "    }\n",
       "</style>\n",
       "<table border=\"1\" class=\"dataframe\">\n",
       "  <thead>\n",
       "    <tr style=\"text-align: right;\">\n",
       "      <th></th>\n",
       "      <th>TIME_DECISION_DATE</th>\n",
       "      <th>NTC_BAND</th>\n",
       "      <th>RISK_FSTPD30</th>\n",
       "      <th>BASE</th>\n",
       "      <th>DAY</th>\n",
       "      <th>MONTH</th>\n",
       "    </tr>\n",
       "    <tr>\n",
       "      <th>SKP_CREDIT_CASE</th>\n",
       "      <th></th>\n",
       "      <th></th>\n",
       "      <th></th>\n",
       "      <th></th>\n",
       "      <th></th>\n",
       "      <th></th>\n",
       "    </tr>\n",
       "  </thead>\n",
       "  <tbody>\n",
       "    <tr>\n",
       "      <th>306282367</th>\n",
       "      <td>2020-06-01</td>\n",
       "      <td>123</td>\n",
       "      <td>0.0</td>\n",
       "      <td>1</td>\n",
       "      <td>20200601</td>\n",
       "      <td>202006</td>\n",
       "    </tr>\n",
       "    <tr>\n",
       "      <th>306282368</th>\n",
       "      <td>2020-06-01</td>\n",
       "      <td>112</td>\n",
       "      <td>0.0</td>\n",
       "      <td>1</td>\n",
       "      <td>20200601</td>\n",
       "      <td>202006</td>\n",
       "    </tr>\n",
       "    <tr>\n",
       "      <th>306282502</th>\n",
       "      <td>2020-06-01</td>\n",
       "      <td>120</td>\n",
       "      <td>0.0</td>\n",
       "      <td>1</td>\n",
       "      <td>20200601</td>\n",
       "      <td>202006</td>\n",
       "    </tr>\n",
       "    <tr>\n",
       "      <th>306282504</th>\n",
       "      <td>2020-06-01</td>\n",
       "      <td>103</td>\n",
       "      <td>0.0</td>\n",
       "      <td>1</td>\n",
       "      <td>20200601</td>\n",
       "      <td>202006</td>\n",
       "    </tr>\n",
       "    <tr>\n",
       "      <th>306282629</th>\n",
       "      <td>2020-06-01</td>\n",
       "      <td>129</td>\n",
       "      <td>0.0</td>\n",
       "      <td>1</td>\n",
       "      <td>20200601</td>\n",
       "      <td>202006</td>\n",
       "    </tr>\n",
       "  </tbody>\n",
       "</table>\n",
       "</div>"
      ],
      "text/plain": [
       "                TIME_DECISION_DATE  NTC_BAND  RISK_FSTPD30  BASE       DAY  \\\n",
       "SKP_CREDIT_CASE                                                              \n",
       "306282367               2020-06-01       123           0.0     1  20200601   \n",
       "306282368               2020-06-01       112           0.0     1  20200601   \n",
       "306282502               2020-06-01       120           0.0     1  20200601   \n",
       "306282504               2020-06-01       103           0.0     1  20200601   \n",
       "306282629               2020-06-01       129           0.0     1  20200601   \n",
       "\n",
       "                  MONTH  \n",
       "SKP_CREDIT_CASE          \n",
       "306282367        202006  \n",
       "306282368        202006  \n",
       "306282502        202006  \n",
       "306282504        202006  \n",
       "306282629        202006  "
      ]
     },
     "execution_count": 26,
     "metadata": {},
     "output_type": "execute_result"
    }
   ],
   "source": [
    "data.head(5)"
   ]
  },
  {
   "cell_type": "markdown",
   "metadata": {},
   "source": [
    "Load the predictors list from a csv file. The csv should have just one column, without any header, containing the name of the variables that should be used as predictors.\n",
    "\n",
    "Support for boolean predictors in **not** currently implemented. Convert boolean predictors to object to use them.\n",
    "\n",
    "`s = s.apply(lambda value: str(value) if not np.isnan(value) else value).astype('object')`"
   ]
  },
  {
   "cell_type": "code",
   "execution_count": 27,
   "metadata": {},
   "outputs": [
    {
     "data": {
      "text/plain": [
       "Index(['TIME_DECISION_DATE', 'NTC_BAND', 'RISK_FSTPD30', 'BASE', 'DAY',\n",
       "       'MONTH'],\n",
       "      dtype='object')"
      ]
     },
     "execution_count": 27,
     "metadata": {},
     "output_type": "execute_result"
    }
   ],
   "source": [
    "data.columns"
   ]
  },
  {
   "cell_type": "code",
   "execution_count": 30,
   "metadata": {},
   "outputs": [
    {
     "name": "stdout",
     "output_type": "stream",
     "text": [
      "List of numerical predictors: [1]\n",
      "\n",
      "NTC_BAND                            uint8\n",
      "\n",
      "List of categorical predictors: [0]\n",
      "\n"
     ]
    }
   ],
   "source": [
    "from scoring.data_manipulation import split_predictors_bytype\n",
    "\n",
    "cols_pred = list(['NTC_BAND'])\n",
    "\n",
    "cols_pred, cols_pred_num, cols_pred_cat = split_predictors_bytype(data,\n",
    "                                                                  pred_list=cols_pred,\n",
    "                                                                  non_pred_list= [],\n",
    "                                                                  optimize_types=True,\n",
    "                                                                  convert_bool2int=True)"
   ]
  },
  {
   "cell_type": "markdown",
   "metadata": {},
   "source": [
    "**Please check if all predictors were categorized correctly.** \n",
    "`Category` dtype is now used for categorical columns for memory efficiency. This means it will not be editable as *string*. If you need to edit values of a categorical column convert it to *string* using this syntax:\n",
    "\n",
    "`data['Column name'] = data['Column name'].astype(str)`"
   ]
  },
  {
   "cell_type": "markdown",
   "metadata": {},
   "source": [
    "## Data exploration"
   ]
  },
  {
   "cell_type": "code",
   "execution_count": 31,
   "metadata": {},
   "outputs": [
    {
     "data": {
      "text/html": [
       "<div>\n",
       "<style scoped>\n",
       "    .dataframe tbody tr th:only-of-type {\n",
       "        vertical-align: middle;\n",
       "    }\n",
       "\n",
       "    .dataframe tbody tr th {\n",
       "        vertical-align: top;\n",
       "    }\n",
       "\n",
       "    .dataframe thead th {\n",
       "        text-align: right;\n",
       "    }\n",
       "</style>\n",
       "<table border=\"1\" class=\"dataframe\">\n",
       "  <thead>\n",
       "    <tr style=\"text-align: right;\">\n",
       "      <th></th>\n",
       "      <th>count</th>\n",
       "      <th>unique</th>\n",
       "      <th>top</th>\n",
       "      <th>freq</th>\n",
       "      <th>mean</th>\n",
       "      <th>std</th>\n",
       "      <th>min</th>\n",
       "      <th>25%</th>\n",
       "      <th>50%</th>\n",
       "      <th>75%</th>\n",
       "      <th>max</th>\n",
       "    </tr>\n",
       "  </thead>\n",
       "  <tbody>\n",
       "    <tr>\n",
       "      <th>TIME_DECISION_DATE</th>\n",
       "      <td>240484</td>\n",
       "      <td>126</td>\n",
       "      <td>2020-09-08</td>\n",
       "      <td>2976</td>\n",
       "      <td>NaN</td>\n",
       "      <td>NaN</td>\n",
       "      <td>NaN</td>\n",
       "      <td>NaN</td>\n",
       "      <td>NaN</td>\n",
       "      <td>NaN</td>\n",
       "      <td>NaN</td>\n",
       "    </tr>\n",
       "    <tr>\n",
       "      <th>NTC_BAND</th>\n",
       "      <td>240484</td>\n",
       "      <td>NaN</td>\n",
       "      <td>NaT</td>\n",
       "      <td>NaN</td>\n",
       "      <td>122.506</td>\n",
       "      <td>18.5971</td>\n",
       "      <td>101</td>\n",
       "      <td>107</td>\n",
       "      <td>117</td>\n",
       "      <td>136</td>\n",
       "      <td>200</td>\n",
       "    </tr>\n",
       "    <tr>\n",
       "      <th>RISK_FSTPD30</th>\n",
       "      <td>240484</td>\n",
       "      <td>NaN</td>\n",
       "      <td>NaT</td>\n",
       "      <td>NaN</td>\n",
       "      <td>0.0538123</td>\n",
       "      <td>0.225647</td>\n",
       "      <td>0</td>\n",
       "      <td>0</td>\n",
       "      <td>0</td>\n",
       "      <td>0</td>\n",
       "      <td>1</td>\n",
       "    </tr>\n",
       "    <tr>\n",
       "      <th>BASE</th>\n",
       "      <td>240484</td>\n",
       "      <td>NaN</td>\n",
       "      <td>NaT</td>\n",
       "      <td>NaN</td>\n",
       "      <td>1</td>\n",
       "      <td>0</td>\n",
       "      <td>1</td>\n",
       "      <td>1</td>\n",
       "      <td>1</td>\n",
       "      <td>1</td>\n",
       "      <td>1</td>\n",
       "    </tr>\n",
       "    <tr>\n",
       "      <th>DAY</th>\n",
       "      <td>240484</td>\n",
       "      <td>NaN</td>\n",
       "      <td>NaT</td>\n",
       "      <td>NaN</td>\n",
       "      <td>2.02008e+07</td>\n",
       "      <td>115.906</td>\n",
       "      <td>2.02006e+07</td>\n",
       "      <td>2.02007e+07</td>\n",
       "      <td>2.02008e+07</td>\n",
       "      <td>2.02009e+07</td>\n",
       "      <td>2.0201e+07</td>\n",
       "    </tr>\n",
       "    <tr>\n",
       "      <th>MONTH</th>\n",
       "      <td>240484</td>\n",
       "      <td>NaN</td>\n",
       "      <td>NaT</td>\n",
       "      <td>NaN</td>\n",
       "      <td>202008</td>\n",
       "      <td>1.15289</td>\n",
       "      <td>202006</td>\n",
       "      <td>202007</td>\n",
       "      <td>202008</td>\n",
       "      <td>202009</td>\n",
       "      <td>202010</td>\n",
       "    </tr>\n",
       "  </tbody>\n",
       "</table>\n",
       "</div>"
      ],
      "text/plain": [
       "                     count unique        top  freq         mean       std  \\\n",
       "TIME_DECISION_DATE  240484    126 2020-09-08  2976          NaN       NaN   \n",
       "NTC_BAND            240484    NaN        NaT   NaN      122.506   18.5971   \n",
       "RISK_FSTPD30        240484    NaN        NaT   NaN    0.0538123  0.225647   \n",
       "BASE                240484    NaN        NaT   NaN            1         0   \n",
       "DAY                 240484    NaN        NaT   NaN  2.02008e+07   115.906   \n",
       "MONTH               240484    NaN        NaT   NaN       202008   1.15289   \n",
       "\n",
       "                            min          25%          50%          75%  \\\n",
       "TIME_DECISION_DATE          NaN          NaN          NaN          NaN   \n",
       "NTC_BAND                    101          107          117          136   \n",
       "RISK_FSTPD30                  0            0            0            0   \n",
       "BASE                          1            1            1            1   \n",
       "DAY                 2.02006e+07  2.02007e+07  2.02008e+07  2.02009e+07   \n",
       "MONTH                    202006       202007       202008       202009   \n",
       "\n",
       "                           max  \n",
       "TIME_DECISION_DATE         NaN  \n",
       "NTC_BAND                   200  \n",
       "RISK_FSTPD30                 1  \n",
       "BASE                         1  \n",
       "DAY                 2.0201e+07  \n",
       "MONTH                   202010  "
      ]
     },
     "metadata": {},
     "output_type": "display_data"
    }
   ],
   "source": [
    "descrip = data.describe(include='all').transpose()\n",
    "pd.options.display.max_rows = 1000\n",
    "display(descrip)\n",
    "pd.options.display.max_rows = 15"
   ]
  },
  {
   "cell_type": "markdown",
   "metadata": {},
   "source": [
    "**explore_numerical** and **explore_categorical** functions give graphical data exploratory analyses. They can also output into html files. You just need to specify the folder for output.\n",
    "\n",
    "If you want the detailed legacy HTML output (v0.4.3) comment-out the cell below\n",
    "\n",
    "These functions analyze only the part of data where target is not null even if it is not explicitly specified."
   ]
  },
  {
   "cell_type": "code",
   "execution_count": 32,
   "metadata": {},
   "outputs": [
    {
     "data": {
      "text/plain": [
       "(240484, 1)"
      ]
     },
     "execution_count": 32,
     "metadata": {},
     "output_type": "execute_result"
    }
   ],
   "source": [
    "data[cols_pred].shape"
   ]
  },
  {
   "cell_type": "code",
   "execution_count": 33,
   "metadata": {},
   "outputs": [
    {
     "name": "stderr",
     "output_type": "stream",
     "text": [
      "C:\\Users\\aman.khatri91425\\AppData\\Local\\Continuum\\anaconda3\\lib\\site-packages\\ipykernel_launcher.py:4: TqdmDeprecationWarning: This function will be removed in tqdm==5.0.0\n",
      "Please use `tqdm.notebook.tqdm` instead of `tqdm.tqdm_notebook`\n",
      "  after removing the cwd from sys.path.\n"
     ]
    },
    {
     "data": {
      "application/vnd.jupyter.widget-view+json": {
       "model_id": "",
       "version_major": 2,
       "version_minor": 0
      },
      "text/plain": [
       "HBox(children=(FloatProgress(value=0.0, max=1.0), HTML(value='')))"
      ]
     },
     "metadata": {},
     "output_type": "display_data"
    },
    {
     "name": "stderr",
     "output_type": "stream",
     "text": [
      "C:\\Users\\aman.khatri91425\\AppData\\Local\\Continuum\\anaconda3\\lib\\site-packages\\seaborn\\_decorators.py:43: FutureWarning: Pass the following variable as a keyword arg: x. From version 0.12, the only valid positional argument will be `data`, and passing other arguments without an explicit keyword will result in an error or misinterpretation.\n",
      "  FutureWarning\n",
      "C:\\Users\\aman.khatri91425\\AppData\\Local\\Continuum\\anaconda3\\lib\\site-packages\\seaborn\\distributions.py:2551: FutureWarning: `distplot` is a deprecated function and will be removed in a future version. Please adapt your code to use either `displot` (a figure-level function with similar flexibility) or `histplot` (an axes-level function for histograms).\n",
      "  warnings.warn(msg, FutureWarning)\n",
      "C:\\Users\\aman.khatri91425\\AppData\\Local\\Continuum\\anaconda3\\lib\\site-packages\\seaborn\\distributions.py:2551: FutureWarning: `distplot` is a deprecated function and will be removed in a future version. Please adapt your code to use either `displot` (a figure-level function with similar flexibility) or `histplot` (an axes-level function for histograms).\n",
      "  warnings.warn(msg, FutureWarning)\n",
      "C:\\Users\\aman.khatri91425\\AppData\\Local\\Continuum\\anaconda3\\lib\\site-packages\\seaborn\\distributions.py:2551: FutureWarning: `distplot` is a deprecated function and will be removed in a future version. Please adapt your code to use either `displot` (a figure-level function with similar flexibility) or `histplot` (an axes-level function for histograms).\n",
      "  warnings.warn(msg, FutureWarning)\n"
     ]
    },
    {
     "data": {
      "text/html": [
       "<a href=exp\\_exploration.html target=\"_blank\">Link to Exploration file:  <b>exp\\_exploration.html</b></a>"
      ],
      "text/plain": [
       "<IPython.core.display.HTML object>"
      ]
     },
     "metadata": {},
     "output_type": "display_data"
    }
   ],
   "source": [
    "from scoring.data_exploration import explore_categorical, explore_numerical, join_explorations\n",
    "\n",
    "explored_columns = list()\n",
    "for name, column in tqdm(data[cols_pred].iloc[0:200000,].iteritems(), total=len(cols_pred), leave=False):\n",
    "    if name in cols_pred_num[:]:\n",
    "        if (column.count() > 0) and (column.max() != column.min()):\n",
    "            explore_numerical(column, data[col_target].iloc[0:200000,], weightCol=None, htmlOut=True, ntbOut=False, outFolder='exp')\n",
    "            explored_columns.append(name)\n",
    "    if name in cols_pred_cat[:]:\n",
    "        if (column.count() > 0) and (len(set(column.unique()) - {np.nan}) > 1):\n",
    "            explore_categorical(column, data[col_target].iloc[0:200000,], weightCol=None, htmlOut=True, ntbOut=False, outFolder='exp')\n",
    "            explored_columns.append(name)\n",
    "            \n",
    "#comment out the line below if you didn't generate html files in this cell        \n",
    "join_explorations(explored_columns, filename = '_exploration.html', outFolder='exp', weighted=False)  "
   ]
  },
  {
   "cell_type": "markdown",
   "metadata": {},
   "source": [
    "**explore_df** function creates a simple text report about the important variable. The report can be then printed either to the screen or to a file.\n",
    "\n",
    "In the following code, only such part of data that has col_base = 1 is analyzed. You can remove the condition if you wish."
   ]
  },
  {
   "cell_type": "code",
   "execution_count": 34,
   "metadata": {},
   "outputs": [],
   "source": [
    "from scoring.data_exploration import explore_df\n",
    "st = explore_df(data[data[col_base]==1],col_month,col_target,cols_pred)\n",
    "print(st, file=open(\"data_exp.txt\", \"w\", encoding='utf-8'))\n",
    "# print(st)"
   ]
  },
  {
   "cell_type": "markdown",
   "metadata": {},
   "source": [
    "**Default rate in time**: Simple visualisation of observation count and default rate in time"
   ]
  },
  {
   "cell_type": "code",
   "execution_count": 35,
   "metadata": {},
   "outputs": [
    {
     "data": {
      "image/png": "[encoded data removed]",
      "text/plain": [
       "<Figure size 432x288 with 2 Axes>"
      ]
     },
     "metadata": {
      "needs_background": "light"
     },
     "output_type": "display_data"
    }
   ],
   "source": [
    "from scoring.plot import plot_dataset\n",
    "plot_dataset(data,\n",
    "             month_col=col_month,\n",
    "             def_col=col_target,\n",
    "             title='Count and bad rate',\n",
    "             base_col=col_base,\n",
    "             #weightCol=col_weight,\n",
    "             savepath=output_folder+'/analysis/',\n",
    "             zeroYlim=True)"
   ]
  },
  {
   "cell_type": "markdown",
   "metadata": {},
   "source": [
    "**NaN share by month** for each variable in dataset:"
   ]
  },
  {
   "cell_type": "code",
   "execution_count": 36,
   "metadata": {},
   "outputs": [
    {
     "name": "stdout",
     "output_type": "stream",
     "text": [
      "Calculating NaN shares...\n",
      "Making images...\n"
     ]
    },
    {
     "data": {
      "application/vnd.jupyter.widget-view+json": {
       "model_id": "bbe229bc98f54f3786e6bcab7599b032",
       "version_major": 2,
       "version_minor": 0
      },
      "text/plain": [
       "HBox(children=(FloatProgress(value=0.0, max=2.0), HTML(value='')))"
      ]
     },
     "metadata": {},
     "output_type": "display_data"
    },
    {
     "data": {
      "image/png": "[encoded data removed]",
      "text/plain": [
       "<Figure size 432x288 with 1 Axes>"
      ]
     },
     "metadata": {
      "needs_background": "light"
     },
     "output_type": "display_data"
    },
    {
     "data": {
      "image/png": "[encoded data removed]",
      "text/plain": [
       "<Figure size 432x288 with 1 Axes>"
      ]
     },
     "metadata": {
      "needs_background": "light"
     },
     "output_type": "display_data"
    },
    {
     "name": "stdout",
     "output_type": "stream",
     "text": [
      "\n"
     ]
    },
    {
     "data": {
      "text/html": [
       "<div>\n",
       "<style scoped>\n",
       "    .dataframe tbody tr th:only-of-type {\n",
       "        vertical-align: middle;\n",
       "    }\n",
       "\n",
       "    .dataframe tbody tr th {\n",
       "        vertical-align: top;\n",
       "    }\n",
       "\n",
       "    .dataframe thead th {\n",
       "        text-align: right;\n",
       "    }\n",
       "</style>\n",
       "<table border=\"1\" class=\"dataframe\">\n",
       "  <thead>\n",
       "    <tr style=\"text-align: right;\">\n",
       "      <th>MONTH</th>\n",
       "      <th>202006</th>\n",
       "      <th>202007</th>\n",
       "      <th>202008</th>\n",
       "      <th>202009</th>\n",
       "      <th>202010</th>\n",
       "    </tr>\n",
       "  </thead>\n",
       "  <tbody>\n",
       "    <tr>\n",
       "      <th>NTC_BAND</th>\n",
       "      <td>0.0</td>\n",
       "      <td>0.0</td>\n",
       "      <td>0.0</td>\n",
       "      <td>0.0</td>\n",
       "      <td>0.0</td>\n",
       "    </tr>\n",
       "    <tr>\n",
       "      <th>MONTH</th>\n",
       "      <td>0.0</td>\n",
       "      <td>0.0</td>\n",
       "      <td>0.0</td>\n",
       "      <td>0.0</td>\n",
       "      <td>0.0</td>\n",
       "    </tr>\n",
       "  </tbody>\n",
       "</table>\n",
       "</div>"
      ],
      "text/plain": [
       "MONTH     202006  202007  202008  202009  202010\n",
       "NTC_BAND     0.0     0.0     0.0     0.0     0.0\n",
       "MONTH        0.0     0.0     0.0     0.0     0.0"
      ]
     },
     "metadata": {},
     "output_type": "display_data"
    }
   ],
   "source": [
    "from scoring.data_exploration import nan_share_development\n",
    "\n",
    "nan_table = nan_share_development(data[cols_pred + [col_month]], col_month, \n",
    "                                  make_images=True, show_images=True, output_path=output_folder+'/nan_share/')\n",
    "display(nan_table)"
   ]
  },
  {
   "cell_type": "markdown",
   "metadata": {},
   "source": [
    "## Data split\n",
    "\n",
    "- Split data into five parts (in time training, in time validation, in time test, out of time, historical out of time)\n",
    "- Adds a new column indicating to which part the observations belong\n",
    "- The *splitting_points* (first date of train and first date of out of time sample) can be adjusted (there can be any number of such splitting points) - it should correspond to values of column specified by *time_column* parameter\n",
    "- For each time split, you can create multiple random splits (i.e. train/valid/test), the ratio of sizes of these splits is set by parameter *sample_sizes*\n",
    "- The random splits can be stratified by multiple variables, which are specified in a list - argument to *stratify_by_columns* parameter\n",
    "- Set the random seed so the results are replicable"
   ]
  },
  {
   "cell_type": "code",
   "execution_count": 37,
   "metadata": {
    "code_folding": []
   },
   "outputs": [
    {
     "name": "stdout",
     "output_type": "stream",
     "text": [
      "hoot    0 rows\n",
      "train   64,711 rows\n",
      "valid   21,571 rows\n",
      "test    21,571 rows\n",
      "oot     132,631 rows\n"
     ]
    }
   ],
   "source": [
    "from scoring.data_manipulation import data_sample_time_split\n",
    "\n",
    "data['data_type'] = data_sample_time_split(data, \n",
    "                           time_column = col_month,\n",
    "                           splitting_points = [202006, 202008],\n",
    "                           sample_sizes = [[ 1    ],[ 0.6   , 0.2   , 0.2  ],[ 1   ]],\n",
    "                           sample_names = [['hoot'],['train','valid','test'],['oot']],\n",
    "                           stratify_by_columns = [col_month,col_target],\n",
    "                           random_seed = 1234)"
   ]
  },
  {
   "cell_type": "markdown",
   "metadata": {},
   "source": [
    "Masks: boolean vectors corresponding to rows in the datasets. True if an row is observable and its data type belongs to given sample."
   ]
  },
  {
   "cell_type": "code",
   "execution_count": 38,
   "metadata": {},
   "outputs": [],
   "source": [
    "train_mask = (data['data_type'] == 'train') & (data[col_base] == 1) \n",
    "valid_mask = (data['data_type'] == 'valid') & (data[col_base] == 1) \n",
    "test_mask = (data['data_type'] == 'test') & (data[col_base] == 1) \n",
    "oot_mask = (data['data_type'] == 'oot') & (data[col_base] == 1) \n",
    "hoot_mask = (data['data_type'] == 'hoot') & (data[col_base] == 1) "
   ]
  },
  {
   "cell_type": "code",
   "execution_count": 39,
   "metadata": {},
   "outputs": [
    {
     "data": {
      "text/plain": [
       "SKP_CREDIT_CASE\n",
       "306282367    False\n",
       "306282368     True\n",
       "306282502     True\n",
       "306282504    False\n",
       "306282629     True\n",
       "             ...  \n",
       "321851806    False\n",
       "321851812    False\n",
       "321851822    False\n",
       "321851835    False\n",
       "321851849    False\n",
       "Length: 240484, dtype: bool"
      ]
     },
     "execution_count": 39,
     "metadata": {},
     "output_type": "execute_result"
    }
   ],
   "source": [
    "train_mask"
   ]
  },
  {
   "cell_type": "markdown",
   "metadata": {},
   "source": [
    "Data summary (number of defaults, number in base, number of observations, default rate) by month and by sample"
   ]
  },
  {
   "cell_type": "code",
   "execution_count": 40,
   "metadata": {},
   "outputs": [
    {
     "data": {
      "text/html": [
       "<div>\n",
       "<style scoped>\n",
       "    .dataframe tbody tr th:only-of-type {\n",
       "        vertical-align: middle;\n",
       "    }\n",
       "\n",
       "    .dataframe tbody tr th {\n",
       "        vertical-align: top;\n",
       "    }\n",
       "\n",
       "    .dataframe thead th {\n",
       "        text-align: right;\n",
       "    }\n",
       "</style>\n",
       "<table border=\"1\" class=\"dataframe\">\n",
       "  <thead>\n",
       "    <tr style=\"text-align: right;\">\n",
       "      <th></th>\n",
       "      <th></th>\n",
       "      <th>RISK_FSTPD30</th>\n",
       "      <th>BASE</th>\n",
       "      <th>Rows</th>\n",
       "      <th>RISK_FSTPD30 rate</th>\n",
       "    </tr>\n",
       "    <tr>\n",
       "      <th>MONTH</th>\n",
       "      <th>data_type</th>\n",
       "      <th></th>\n",
       "      <th></th>\n",
       "      <th></th>\n",
       "      <th></th>\n",
       "    </tr>\n",
       "  </thead>\n",
       "  <tbody>\n",
       "    <tr>\n",
       "      <th rowspan=\"3\" valign=\"top\">202006</th>\n",
       "      <th>test</th>\n",
       "      <td>841.0</td>\n",
       "      <td>11697</td>\n",
       "      <td>11697</td>\n",
       "      <td>0.071899</td>\n",
       "    </tr>\n",
       "    <tr>\n",
       "      <th>train</th>\n",
       "      <td>2523.0</td>\n",
       "      <td>35088</td>\n",
       "      <td>35088</td>\n",
       "      <td>0.071905</td>\n",
       "    </tr>\n",
       "    <tr>\n",
       "      <th>valid</th>\n",
       "      <td>841.0</td>\n",
       "      <td>11696</td>\n",
       "      <td>11696</td>\n",
       "      <td>0.071905</td>\n",
       "    </tr>\n",
       "    <tr>\n",
       "      <th rowspan=\"3\" valign=\"top\">202007</th>\n",
       "      <th>test</th>\n",
       "      <td>549.0</td>\n",
       "      <td>9874</td>\n",
       "      <td>9874</td>\n",
       "      <td>0.055601</td>\n",
       "    </tr>\n",
       "    <tr>\n",
       "      <th>train</th>\n",
       "      <td>1648.0</td>\n",
       "      <td>29623</td>\n",
       "      <td>29623</td>\n",
       "      <td>0.055632</td>\n",
       "    </tr>\n",
       "    <tr>\n",
       "      <th>valid</th>\n",
       "      <td>549.0</td>\n",
       "      <td>9875</td>\n",
       "      <td>9875</td>\n",
       "      <td>0.055595</td>\n",
       "    </tr>\n",
       "    <tr>\n",
       "      <th>202008</th>\n",
       "      <th>oot</th>\n",
       "      <td>2597.0</td>\n",
       "      <td>59908</td>\n",
       "      <td>59908</td>\n",
       "      <td>0.043350</td>\n",
       "    </tr>\n",
       "    <tr>\n",
       "      <th>202009</th>\n",
       "      <th>oot</th>\n",
       "      <td>3393.0</td>\n",
       "      <td>72708</td>\n",
       "      <td>72708</td>\n",
       "      <td>0.046666</td>\n",
       "    </tr>\n",
       "    <tr>\n",
       "      <th>202010</th>\n",
       "      <th>oot</th>\n",
       "      <td>0.0</td>\n",
       "      <td>15</td>\n",
       "      <td>15</td>\n",
       "      <td>0.000000</td>\n",
       "    </tr>\n",
       "  </tbody>\n",
       "</table>\n",
       "</div>"
      ],
      "text/plain": [
       "                  RISK_FSTPD30   BASE   Rows  RISK_FSTPD30 rate\n",
       "MONTH  data_type                                               \n",
       "202006 test              841.0  11697  11697           0.071899\n",
       "       train            2523.0  35088  35088           0.071905\n",
       "       valid             841.0  11696  11696           0.071905\n",
       "202007 test              549.0   9874   9874           0.055601\n",
       "       train            1648.0  29623  29623           0.055632\n",
       "       valid             549.0   9875   9875           0.055595\n",
       "202008 oot              2597.0  59908  59908           0.043350\n",
       "202009 oot              3393.0  72708  72708           0.046666\n",
       "202010 oot                 0.0     15     15           0.000000"
      ]
     },
     "metadata": {},
     "output_type": "display_data"
    },
    {
     "data": {
      "text/html": [
       "<div>\n",
       "<style scoped>\n",
       "    .dataframe tbody tr th:only-of-type {\n",
       "        vertical-align: middle;\n",
       "    }\n",
       "\n",
       "    .dataframe tbody tr th {\n",
       "        vertical-align: top;\n",
       "    }\n",
       "\n",
       "    .dataframe thead tr th {\n",
       "        text-align: left;\n",
       "    }\n",
       "\n",
       "    .dataframe thead tr:last-of-type th {\n",
       "        text-align: right;\n",
       "    }\n",
       "</style>\n",
       "<table border=\"1\" class=\"dataframe\">\n",
       "  <thead>\n",
       "    <tr>\n",
       "      <th></th>\n",
       "      <th colspan=\"4\" halign=\"left\">RISK_FSTPD30</th>\n",
       "      <th colspan=\"4\" halign=\"left\">BASE</th>\n",
       "      <th colspan=\"4\" halign=\"left\">Rows</th>\n",
       "      <th colspan=\"4\" halign=\"left\">RISK_FSTPD30 rate</th>\n",
       "    </tr>\n",
       "    <tr>\n",
       "      <th>data_type</th>\n",
       "      <th>oot</th>\n",
       "      <th>test</th>\n",
       "      <th>train</th>\n",
       "      <th>valid</th>\n",
       "      <th>oot</th>\n",
       "      <th>test</th>\n",
       "      <th>train</th>\n",
       "      <th>valid</th>\n",
       "      <th>oot</th>\n",
       "      <th>test</th>\n",
       "      <th>train</th>\n",
       "      <th>valid</th>\n",
       "      <th>oot</th>\n",
       "      <th>test</th>\n",
       "      <th>train</th>\n",
       "      <th>valid</th>\n",
       "    </tr>\n",
       "    <tr>\n",
       "      <th>MONTH</th>\n",
       "      <th></th>\n",
       "      <th></th>\n",
       "      <th></th>\n",
       "      <th></th>\n",
       "      <th></th>\n",
       "      <th></th>\n",
       "      <th></th>\n",
       "      <th></th>\n",
       "      <th></th>\n",
       "      <th></th>\n",
       "      <th></th>\n",
       "      <th></th>\n",
       "      <th></th>\n",
       "      <th></th>\n",
       "      <th></th>\n",
       "      <th></th>\n",
       "    </tr>\n",
       "  </thead>\n",
       "  <tbody>\n",
       "    <tr>\n",
       "      <th>202006</th>\n",
       "      <td>NaN</td>\n",
       "      <td>841.0</td>\n",
       "      <td>2523.0</td>\n",
       "      <td>841.0</td>\n",
       "      <td>NaN</td>\n",
       "      <td>11697.0</td>\n",
       "      <td>35088.0</td>\n",
       "      <td>11696.0</td>\n",
       "      <td>NaN</td>\n",
       "      <td>11697.0</td>\n",
       "      <td>35088.0</td>\n",
       "      <td>11696.0</td>\n",
       "      <td>NaN</td>\n",
       "      <td>0.071899</td>\n",
       "      <td>0.071905</td>\n",
       "      <td>0.071905</td>\n",
       "    </tr>\n",
       "    <tr>\n",
       "      <th>202007</th>\n",
       "      <td>NaN</td>\n",
       "      <td>549.0</td>\n",
       "      <td>1648.0</td>\n",
       "      <td>549.0</td>\n",
       "      <td>NaN</td>\n",
       "      <td>9874.0</td>\n",
       "      <td>29623.0</td>\n",
       "      <td>9875.0</td>\n",
       "      <td>NaN</td>\n",
       "      <td>9874.0</td>\n",
       "      <td>29623.0</td>\n",
       "      <td>9875.0</td>\n",
       "      <td>NaN</td>\n",
       "      <td>0.055601</td>\n",
       "      <td>0.055632</td>\n",
       "      <td>0.055595</td>\n",
       "    </tr>\n",
       "    <tr>\n",
       "      <th>202008</th>\n",
       "      <td>2597.0</td>\n",
       "      <td>NaN</td>\n",
       "      <td>NaN</td>\n",
       "      <td>NaN</td>\n",
       "      <td>59908.0</td>\n",
       "      <td>NaN</td>\n",
       "      <td>NaN</td>\n",
       "      <td>NaN</td>\n",
       "      <td>59908.0</td>\n",
       "      <td>NaN</td>\n",
       "      <td>NaN</td>\n",
       "      <td>NaN</td>\n",
       "      <td>0.043350</td>\n",
       "      <td>NaN</td>\n",
       "      <td>NaN</td>\n",
       "      <td>NaN</td>\n",
       "    </tr>\n",
       "    <tr>\n",
       "      <th>202009</th>\n",
       "      <td>3393.0</td>\n",
       "      <td>NaN</td>\n",
       "      <td>NaN</td>\n",
       "      <td>NaN</td>\n",
       "      <td>72708.0</td>\n",
       "      <td>NaN</td>\n",
       "      <td>NaN</td>\n",
       "      <td>NaN</td>\n",
       "      <td>72708.0</td>\n",
       "      <td>NaN</td>\n",
       "      <td>NaN</td>\n",
       "      <td>NaN</td>\n",
       "      <td>0.046666</td>\n",
       "      <td>NaN</td>\n",
       "      <td>NaN</td>\n",
       "      <td>NaN</td>\n",
       "    </tr>\n",
       "    <tr>\n",
       "      <th>202010</th>\n",
       "      <td>0.0</td>\n",
       "      <td>NaN</td>\n",
       "      <td>NaN</td>\n",
       "      <td>NaN</td>\n",
       "      <td>15.0</td>\n",
       "      <td>NaN</td>\n",
       "      <td>NaN</td>\n",
       "      <td>NaN</td>\n",
       "      <td>15.0</td>\n",
       "      <td>NaN</td>\n",
       "      <td>NaN</td>\n",
       "      <td>NaN</td>\n",
       "      <td>0.000000</td>\n",
       "      <td>NaN</td>\n",
       "      <td>NaN</td>\n",
       "      <td>NaN</td>\n",
       "    </tr>\n",
       "  </tbody>\n",
       "</table>\n",
       "</div>"
      ],
      "text/plain": [
       "          RISK_FSTPD30                           BASE                    \\\n",
       "data_type          oot   test   train  valid      oot     test    train   \n",
       "MONTH                                                                     \n",
       "202006             NaN  841.0  2523.0  841.0      NaN  11697.0  35088.0   \n",
       "202007             NaN  549.0  1648.0  549.0      NaN   9874.0  29623.0   \n",
       "202008          2597.0    NaN     NaN    NaN  59908.0      NaN      NaN   \n",
       "202009          3393.0    NaN     NaN    NaN  72708.0      NaN      NaN   \n",
       "202010             0.0    NaN     NaN    NaN     15.0      NaN      NaN   \n",
       "\n",
       "                       Rows                            RISK_FSTPD30 rate  \\\n",
       "data_type    valid      oot     test    train    valid               oot   \n",
       "MONTH                                                                      \n",
       "202006     11696.0      NaN  11697.0  35088.0  11696.0               NaN   \n",
       "202007      9875.0      NaN   9874.0  29623.0   9875.0               NaN   \n",
       "202008         NaN  59908.0      NaN      NaN      NaN          0.043350   \n",
       "202009         NaN  72708.0      NaN      NaN      NaN          0.046666   \n",
       "202010         NaN     15.0      NaN      NaN      NaN          0.000000   \n",
       "\n",
       "                                         \n",
       "data_type      test     train     valid  \n",
       "MONTH                                    \n",
       "202006     0.071899  0.071905  0.071905  \n",
       "202007     0.055601  0.055632  0.055595  \n",
       "202008          NaN       NaN       NaN  \n",
       "202009          NaN       NaN       NaN  \n",
       "202010          NaN       NaN       NaN  "
      ]
     },
     "metadata": {},
     "output_type": "display_data"
    }
   ],
   "source": [
    "data_summary = data.groupby([col_month,'data_type']).aggregate({\n",
    "    col_target:'sum',col_base:['sum','count']\n",
    "})\n",
    "data_summary.columns = [col_target,col_base,'Rows']\n",
    "data_summary[col_target+' rate'] = data_summary[col_target]/data_summary[col_base]\n",
    "display(data_summary)\n",
    "\n",
    "data_summary = data_summary.reset_index(level='data_type').pivot(columns='data_type')\n",
    "display(data_summary)\n",
    "data_summary.to_csv(output_folder+'/analysis/summary.csv')"
   ]
  },
  {
   "cell_type": "markdown",
   "metadata": {},
   "source": [
    "# Grouping and WOE transformation of variables"
   ]
  },
  {
   "cell_type": "markdown",
   "metadata": {},
   "source": [
    "Don't use such variables which have only 0 or 1 unique levels. Grouping doesn't work for them."
   ]
  },
  {
   "cell_type": "code",
   "execution_count": 41,
   "metadata": {},
   "outputs": [
    {
     "name": "stderr",
     "output_type": "stream",
     "text": [
      "C:\\Users\\aman.khatri91425\\AppData\\Local\\Continuum\\anaconda3\\lib\\site-packages\\ipykernel_launcher.py:2: TqdmDeprecationWarning: This function will be removed in tqdm==5.0.0\n",
      "Please use `tqdm.notebook.tqdm` instead of `tqdm.tqdm_notebook`\n",
      "  \n"
     ]
    },
    {
     "data": {
      "application/vnd.jupyter.widget-view+json": {
       "model_id": "09867a008fe54134b62d370177ed6d1e",
       "version_major": 2,
       "version_minor": 0
      },
      "text/plain": [
       "HBox(children=(FloatProgress(value=0.0, max=1.0), HTML(value='')))"
      ]
     },
     "metadata": {},
     "output_type": "display_data"
    },
    {
     "name": "stdout",
     "output_type": "stream",
     "text": [
      "\n",
      "All predictors have more than 1 unique level.\n"
     ]
    }
   ],
   "source": [
    "cols_del = list()\n",
    "for name, column in tqdm(data[train_mask][cols_pred].iteritems(), total=len(cols_pred)):\n",
    "    if name in cols_pred_num:\n",
    "        if (column.count() == 0) or (column.max() == column.min()):\n",
    "            cols_del.append(name)\n",
    "            cols_pred_num.remove(name)\n",
    "    if name in cols_pred_cat:\n",
    "        if (column.count() == 0) or (len(set(column.unique()) - {np.nan}) <= 1):\n",
    "            cols_del.append(name)\n",
    "            cols_pred_cat.remove(name)\n",
    "            \n",
    "cols_pred = cols_pred_num + cols_pred_cat\n",
    "\n",
    "if len(cols_del) > 0:\n",
    "    print('Variables', cols_del, 'will not be further used as they have only 1 unique level.')\n",
    "else:\n",
    "    print('All predictors have more than 1 unique level.')\n",
    "del cols_del"
   ]
  },
  {
   "cell_type": "code",
   "execution_count": 42,
   "metadata": {},
   "outputs": [
    {
     "name": "stderr",
     "output_type": "stream",
     "text": [
      "C:\\Users\\aman.khatri91425\\AppData\\Local\\Continuum\\anaconda3\\lib\\site-packages\\ipykernel_launcher.py:1: TqdmDeprecationWarning: This function will be removed in tqdm==5.0.0\n",
      "Please use `tqdm.notebook.tqdm` instead of `tqdm.tqdm_notebook`\n",
      "  \"\"\"Entry point for launching an IPython kernel.\n"
     ]
    },
    {
     "data": {
      "application/vnd.jupyter.widget-view+json": {
       "model_id": "",
       "version_major": 2,
       "version_minor": 0
      },
      "text/plain": [
       "HBox(children=(FloatProgress(value=0.0, max=1.0), HTML(value='')))"
      ]
     },
     "metadata": {},
     "output_type": "display_data"
    }
   ],
   "source": [
    "for name, column in tqdm(data[cols_pred_num].iteritems(), total=len(cols_pred_num), leave=False):\n",
    "    if np.any(np.isinf(column.values)):\n",
    "            print('{} containes INF values. Please deal with them.'.format(name))\n",
    "\n",
    "# data['predictor'].replace(to_replace=np.inf, value=<good idea>, inplace=True)"
   ]
  },
  {
   "cell_type": "markdown",
   "metadata": {},
   "source": [
    "There are two options how to group your variables. \n",
    "1. Automatic grouping groups the variables using a decision tree. User can't change the grouping in any interactive way. The grouping can be saved into external file using its method *save()*. \n",
    "2. Interactive grouping is suitable for smaller numbers of variables. User can control which values of each varible will enter which group. The grouping can be saved into external file using the interactive environment."
   ]
  },
  {
   "cell_type": "markdown",
   "metadata": {},
   "source": [
    "## Automatic Grouping\n",
    "The grouping uses decision tree algorithm and the grouping is supervised based on the target variable. In the following code:\n",
    "\n",
    "A new instance of **Grouping** class is created. There are two important parameters:\n",
    " - *colums*: list of numerical columns to be grouped\n",
    " - *cat_columns*: list of categorical columns to be grouped\n",
    " - *group_count*: (maximal) number of final groups of each variable\n",
    " - *min_samples*: minimal number of observations in each group of each numerical variable\n",
    " - *min_samples_cat*: minimal number of observations in each group of each categorical variable"
   ]
  },
  {
   "cell_type": "code",
   "execution_count": 67,
   "metadata": {},
   "outputs": [],
   "source": [
    "from scoring.grouping import Grouping\n",
    "\n",
    "grouping = Grouping(columns = sorted(cols_pred_num),\n",
    "                    cat_columns = sorted(cols_pred_cat),\n",
    "                    group_count=4, \n",
    "                    min_samples=5000, \n",
    "                    min_samples_cat=5000)"
   ]
  },
  {
   "cell_type": "code",
   "execution_count": 68,
   "metadata": {},
   "outputs": [
    {
     "data": {
      "application/vnd.jupyter.widget-view+json": {
       "model_id": "e039c67bd9c9473293188cbd075cccd7",
       "version_major": 2,
       "version_minor": 0
      },
      "text/plain": [
       "HBox(children=(FloatProgress(value=0.0, max=1.0), HTML(value='')))"
      ]
     },
     "metadata": {},
     "output_type": "display_data"
    },
    {
     "name": "stdout",
     "output_type": "stream",
     "text": [
      "\n"
     ]
    }
   ],
   "source": [
    "grouping.fit(data[train_mask][cols_pred],\n",
    "             data[train_mask][col_target],\n",
    "          #   w=data[train_mask][col_weight],\n",
    "            progress_bar=True, category_limit=10000);\n",
    "\n",
    "# if len(grouping.bins_data_) > 0:\n",
    "#     for v,g in grouping.bins_data_.items():\n",
    "#         print('Variable:',v)\n",
    "#         print('Bins:',g['bins'])\n",
    "#         print('WOEs:',g['woes'])\n",
    "#         if v in cols_pred_num:\n",
    "#             print('nan WOE:',g['nan_woe'])\n",
    "#         if v in cols_pred_cat:\n",
    "#             print('WOE for unknown values:',g['unknown_woe'])\n",
    "#         print()"
   ]
  },
  {
   "cell_type": "markdown",
   "metadata": {},
   "source": [
    "Save grouping to an external file."
   ]
  },
  {
   "cell_type": "code",
   "execution_count": 69,
   "metadata": {},
   "outputs": [
    {
     "data": {
      "text/plain": [
       "'Grouping saved on 2021-02-28 00:14:56 to file myGrouping'"
      ]
     },
     "metadata": {},
     "output_type": "display_data"
    }
   ],
   "source": [
    "model_filename = 'myGrouping'\n",
    "grouping.save(model_filename)\n",
    "# print('Grouping data saved to file',model_filename)"
   ]
  },
  {
   "cell_type": "markdown",
   "metadata": {},
   "source": [
    "## Interactive Grouping (beta)\n",
    "**This is a beta version which means it should work well in most cases but sometimes it can be unstable. Please inform us about any issues you find**\n",
    "\n",
    "**KNOWN ISSUES:**\n",
    "- If zoom level in the web browser is set to something else than 100%, the charts might get broken.\n",
    "\n",
    "A new instance of **InteractiveGrouping** class is created. There are two important parameters:\n",
    " - *colums*: list of numerical columns to be grouped\n",
    " - *cat_columns*: list of categorical columns to be grouped\n",
    " - *group_count*: (maximal) number of final groups of each variable\n",
    " - *min_samples*: minimal number of observations in each group of each numerical variable\n",
    " - *min_samples_cat*: minimal number of observations in each group of each categorical variable"
   ]
  },
  {
   "cell_type": "code",
   "execution_count": 70,
   "metadata": {},
   "outputs": [],
   "source": [
    "USE_INTERATIVE_GROUPING = False"
   ]
  },
  {
   "cell_type": "code",
   "execution_count": 71,
   "metadata": {
    "code_folding": []
   },
   "outputs": [],
   "source": [
    "if USE_INTERATIVE_GROUPING:\n",
    "    from scoring.grouping import Grouping, InteractiveGrouping\n",
    "\n",
    "    grouping = InteractiveGrouping(columns = sorted(cols_pred_num),\n",
    "                                   cat_columns = sorted(cols_pred_cat),\n",
    "                                   group_count=4,\n",
    "                                   min_samples=100, \n",
    "                                   min_samples_cat=100,\n",
    "                                   woe_smooth_coef=0.001)"
   ]
  },
  {
   "cell_type": "markdown",
   "metadata": {},
   "source": [
    "Then you open the interactive environment using **display** method. The important parameters are:\n",
    " - *train_t*: training dataset the grouping should be based on\n",
    " - *colums*: list of numerical columns to be grouped and displayed\n",
    " - *cat_columns*: list of categorical columns to be grouped and displayed\n",
    " - *target_column*: as the grouping is supervised and calculates WOE values, you need to specify the target column name\n",
    " - *w_column*: vector of weights of obervation (if not filled, grouping behaves as there are equal weights)\n",
    " - *filename*: use only if you want to load a grouping that you created and saved previously\n",
    " - *group_count*: (maximal) number of final groups of each variable\n",
    " - *min_samples*: minimal number of observations in each group of each numerical variable\n",
    " - *min_samples_cat*: minimal number of observations in each group of each categorical variable\n",
    "\n",
    "In the interactive environment, you can see four sections. From top to bottom:\n",
    "- **Chart section**: \n",
    " - For **numerical variables**, there is chart with equifrequncy fine classing (observations as bars, default rate as line), equidistant fine classing and the final groups.\n",
    " - For **categorical varibles** there is chart with each of the original categorical values and a chart with the final groups.\n",
    "- **Variable section**: here you can choose tab with varible which you want to edit. \n",
    " - For **numerical variables**, the tab contains of the borders of the final groups. You can edit these borders, add new with [+] button and remove them with [-] button. You can also manually set WOE for nulls. There is also a button to perform automatic grouping on the selected variable.\n",
    " - For **categorical variables**, the tab contains of two tables. In the top table, you can see some statistics for each of the categorical values. In the rightmost column, there is the number of group which is assigned to the category. You can edit this value (doubleclick on it) to change the grouping. In the bottom table you can see statistics for the groups. It is not editable. There is also a button to perform automatic grouping on the selected variable.\n",
    "- **Save section**: here you can save the grouping. Edit the file name and click the [Apply and Save] button.\n",
    "- **Settings section**: If you perform automatic grouping on some varible, the grouping algorithm uses some parameters. These parameters can be set here. You can set how many final groups do you want to have and what is their minimal size."
   ]
  },
  {
   "cell_type": "code",
   "execution_count": 72,
   "metadata": {},
   "outputs": [],
   "source": [
    "if USE_INTERATIVE_GROUPING:\n",
    "    sns.reset_orig()\n",
    "    %matplotlib notebook\n",
    "    %config InlineBackend.close_figures=False\n",
    "\n",
    "    grouping.display(train_t = data[train_mask][cols_pred_num+cols_pred_cat+[col_target]],\n",
    "                     #train_t = data[train_mask][cols_pred_num+cols_pred_cat+[col_target]+[col_weight]], #for call with weight\n",
    "                     columns = sorted(cols_pred_num),\n",
    "                     cat_columns = sorted(cols_pred_cat),\n",
    "                     target_column = col_target,\n",
    "                     #w_column = col_weight,\n",
    "    #                  filename = 'myIntGrouping',\n",
    "                     bin_count=20,\n",
    "                     woe_smooth_coef=0.001,\n",
    "                     group_count=5,\n",
    "                     min_samples=100,\n",
    "                     min_samples_cat=100)"
   ]
  },
  {
   "cell_type": "markdown",
   "metadata": {},
   "source": [
    "Don't forget to *Apply and Save* your changes."
   ]
  },
  {
   "cell_type": "code",
   "execution_count": 73,
   "metadata": {},
   "outputs": [],
   "source": [
    "#reset the graphical environment to be used by the normal non-interactive charts\n",
    "sns.set()\n",
    "%matplotlib inline\n",
    "%config InlineBackend.close_figures=True"
   ]
  },
  {
   "cell_type": "markdown",
   "metadata": {},
   "source": [
    "Load the grouping from a file (don't forget to set the right filename) and add the WOE columns to the original dataset."
   ]
  },
  {
   "cell_type": "code",
   "execution_count": 74,
   "metadata": {},
   "outputs": [],
   "source": [
    "# from scoring.grouping import Grouping\n",
    "# grouping = Grouping(columns = sorted(cols_pred_num),\n",
    "#                     cat_columns = sorted(cols_pred_cat),\n",
    "#                     group_count=5, \n",
    "#                     min_samples=100, \n",
    "#                     min_samples_cat=100) \n",
    "# g_filename = 'myIntGrouping'\n",
    "# grouping.load(g_filename)"
   ]
  },
  {
   "cell_type": "markdown",
   "metadata": {},
   "source": [
    "## Apply the grouping to the dataset"
   ]
  },
  {
   "cell_type": "markdown",
   "metadata": {},
   "source": [
    "### WOE transformation"
   ]
  },
  {
   "cell_type": "markdown",
   "metadata": {},
   "source": [
    "Don't forget to apply the grouping to the data. *Grouping.transform()* method now automatically renames columns with proper suffix. If you need to transform just subset of columns use parameter *columns_to_transform=\\[...\\]*."
   ]
  },
  {
   "cell_type": "code",
   "execution_count": 75,
   "metadata": {},
   "outputs": [
    {
     "data": {
      "application/vnd.jupyter.widget-view+json": {
       "model_id": "de4d7143526f4b2f83c6a2e518b35385",
       "version_major": 2,
       "version_minor": 0
      },
      "text/plain": [
       "HBox(children=(FloatProgress(value=0.0, max=1.0), HTML(value='')))"
      ]
     },
     "metadata": {},
     "output_type": "display_data"
    },
    {
     "name": "stdout",
     "output_type": "stream",
     "text": [
      "\n"
     ]
    }
   ],
   "source": [
    "data_woe = grouping.transform(data, transform_to='woe', progress_bar=True)"
   ]
  },
  {
   "cell_type": "markdown",
   "metadata": {},
   "source": [
    "### Dummy transformation\n",
    "\n",
    "**Optional:** Transformation to dummy variables. Use if you want to use \"full\" regression instead of WOE regression"
   ]
  },
  {
   "cell_type": "code",
   "execution_count": 76,
   "metadata": {},
   "outputs": [
    {
     "data": {
      "application/vnd.jupyter.widget-view+json": {
       "model_id": "d040a925302a4ee7a7b21d07f1e8ce6c",
       "version_major": 2,
       "version_minor": 0
      },
      "text/plain": [
       "HBox(children=(FloatProgress(value=0.0, max=1.0), HTML(value='')))"
      ]
     },
     "metadata": {},
     "output_type": "display_data"
    },
    {
     "name": "stdout",
     "output_type": "stream",
     "text": [
      "\n"
     ]
    }
   ],
   "source": [
    "data_dummy = grouping.transform(data, transform_to='dummy', progress_bar=True)"
   ]
  },
  {
   "cell_type": "markdown",
   "metadata": {},
   "source": [
    "### Categorical variables transformation\n",
    "\n",
    "**Optional:** Transformation to categorical variables. Name of categories instead of WOE values - not useful for modelling."
   ]
  },
  {
   "cell_type": "code",
   "execution_count": 77,
   "metadata": {},
   "outputs": [],
   "source": [
    "# data_shortnames = grouping.transform(data, transform_to='shortnames', progress_bar=True)"
   ]
  },
  {
   "cell_type": "markdown",
   "metadata": {},
   "source": [
    "Plot the fitted WOEs."
   ]
  },
  {
   "cell_type": "code",
   "execution_count": 78,
   "metadata": {},
   "outputs": [
    {
     "data": {
      "text/markdown": [
       "***"
      ],
      "text/plain": [
       "<IPython.core.display.Markdown object>"
      ]
     },
     "metadata": {},
     "output_type": "display_data"
    },
    {
     "data": {
      "text/markdown": [
       "### NTC_BAND"
      ],
      "text/plain": [
       "<IPython.core.display.Markdown object>"
      ]
     },
     "metadata": {},
     "output_type": "display_data"
    },
    {
     "data": {
      "text/html": [
       "<div>\n",
       "<style scoped>\n",
       "    .dataframe tbody tr th:only-of-type {\n",
       "        vertical-align: middle;\n",
       "    }\n",
       "\n",
       "    .dataframe tbody tr th {\n",
       "        vertical-align: top;\n",
       "    }\n",
       "\n",
       "    .dataframe thead th {\n",
       "        text-align: right;\n",
       "    }\n",
       "</style>\n",
       "<table border=\"1\" class=\"dataframe\">\n",
       "  <thead>\n",
       "    <tr style=\"text-align: right;\">\n",
       "      <th></th>\n",
       "      <th>CNT_TOTAL</th>\n",
       "      <th>CNT_DEF</th>\n",
       "      <th>DEF_RATE</th>\n",
       "      <th>DIST_BAD</th>\n",
       "      <th>DIST_GOOD</th>\n",
       "      <th>WOE</th>\n",
       "      <th>WOE_check</th>\n",
       "      <th>SHARE</th>\n",
       "    </tr>\n",
       "    <tr>\n",
       "      <th>BIN_NTC_BAND</th>\n",
       "      <th></th>\n",
       "      <th></th>\n",
       "      <th></th>\n",
       "      <th></th>\n",
       "      <th></th>\n",
       "      <th></th>\n",
       "      <th></th>\n",
       "      <th></th>\n",
       "    </tr>\n",
       "  </thead>\n",
       "  <tbody>\n",
       "    <tr>\n",
       "      <th>[-inf, 107.5)</th>\n",
       "      <td>18147.0</td>\n",
       "      <td>1146.0</td>\n",
       "      <td>0.0632</td>\n",
       "      <td>0.2748</td>\n",
       "      <td>0.2808</td>\n",
       "      <td>0.0215</td>\n",
       "      <td>0.0218</td>\n",
       "      <td>0.2804</td>\n",
       "    </tr>\n",
       "    <tr>\n",
       "      <th>[107.5, 111.5)</th>\n",
       "      <td>9028.0</td>\n",
       "      <td>650.0</td>\n",
       "      <td>0.0720</td>\n",
       "      <td>0.1558</td>\n",
       "      <td>0.1384</td>\n",
       "      <td>-0.1171</td>\n",
       "      <td>-0.1188</td>\n",
       "      <td>0.1395</td>\n",
       "    </tr>\n",
       "    <tr>\n",
       "      <th>[111.5, 145.5)</th>\n",
       "      <td>30120.0</td>\n",
       "      <td>1936.0</td>\n",
       "      <td>0.0643</td>\n",
       "      <td>0.4642</td>\n",
       "      <td>0.4655</td>\n",
       "      <td>0.0029</td>\n",
       "      <td>0.0030</td>\n",
       "      <td>0.4655</td>\n",
       "    </tr>\n",
       "    <tr>\n",
       "      <th>[145.5, inf)</th>\n",
       "      <td>7416.0</td>\n",
       "      <td>439.0</td>\n",
       "      <td>0.0592</td>\n",
       "      <td>0.1053</td>\n",
       "      <td>0.1152</td>\n",
       "      <td>0.0894</td>\n",
       "      <td>0.0907</td>\n",
       "      <td>0.1146</td>\n",
       "    </tr>\n",
       "    <tr>\n",
       "      <th>nan</th>\n",
       "      <td>0.0</td>\n",
       "      <td>0.0</td>\n",
       "      <td>NaN</td>\n",
       "      <td>0.0000</td>\n",
       "      <td>0.0000</td>\n",
       "      <td>NaN</td>\n",
       "      <td>-2.6751</td>\n",
       "      <td>0.0000</td>\n",
       "    </tr>\n",
       "  </tbody>\n",
       "</table>\n",
       "</div>"
      ],
      "text/plain": [
       "                CNT_TOTAL  CNT_DEF  DEF_RATE  DIST_BAD  DIST_GOOD     WOE  \\\n",
       "BIN_NTC_BAND                                                                \n",
       "[-inf, 107.5)     18147.0   1146.0    0.0632    0.2748     0.2808  0.0215   \n",
       "[107.5, 111.5)     9028.0    650.0    0.0720    0.1558     0.1384 -0.1171   \n",
       "[111.5, 145.5)    30120.0   1936.0    0.0643    0.4642     0.4655  0.0029   \n",
       "[145.5, inf)       7416.0    439.0    0.0592    0.1053     0.1152  0.0894   \n",
       "nan                   0.0      0.0       NaN    0.0000     0.0000     NaN   \n",
       "\n",
       "                WOE_check   SHARE  \n",
       "BIN_NTC_BAND                       \n",
       "[-inf, 107.5)      0.0218  0.2804  \n",
       "[107.5, 111.5)    -0.1188  0.1395  \n",
       "[111.5, 145.5)     0.0030  0.4655  \n",
       "[145.5, inf)       0.0907  0.1146  \n",
       "nan               -2.6751  0.0000  "
      ]
     },
     "metadata": {},
     "output_type": "display_data"
    },
    {
     "name": "stdout",
     "output_type": "stream",
     "text": [
      "IV: 0.0031\n",
      "Gini: 2.65\n"
     ]
    },
    {
     "data": {
      "image/png": "[encoded data removed]",
      "text/plain": [
       "<Figure size 720x360 with 2 Axes>"
      ]
     },
     "metadata": {
      "needs_background": "light"
     },
     "output_type": "display_data"
    }
   ],
   "source": [
    "grouping.plot_bins(data=data, cols_pred_num=cols_pred_num, cols_pred_cat=cols_pred_cat,\n",
    "                    mask=train_mask, col_target=col_target, output_folder=output_folder, col_weight=None)"
   ]
  },
  {
   "cell_type": "markdown",
   "metadata": {},
   "source": [
    "## Add the transformed variables to the data set"
   ]
  },
  {
   "cell_type": "markdown",
   "metadata": {},
   "source": [
    "### WOE variables\n",
    "\n",
    "Add WOE variabes to the data set."
   ]
  },
  {
   "cell_type": "code",
   "execution_count": 80,
   "metadata": {},
   "outputs": [
    {
     "data": {
      "text/html": [
       "<div>\n",
       "<style scoped>\n",
       "    .dataframe tbody tr th:only-of-type {\n",
       "        vertical-align: middle;\n",
       "    }\n",
       "\n",
       "    .dataframe tbody tr th {\n",
       "        vertical-align: top;\n",
       "    }\n",
       "\n",
       "    .dataframe thead th {\n",
       "        text-align: right;\n",
       "    }\n",
       "</style>\n",
       "<table border=\"1\" class=\"dataframe\">\n",
       "  <thead>\n",
       "    <tr style=\"text-align: right;\">\n",
       "      <th></th>\n",
       "      <th>TIME_DECISION_DATE</th>\n",
       "      <th>NTC_BAND</th>\n",
       "      <th>RISK_FSTPD30</th>\n",
       "      <th>BASE</th>\n",
       "      <th>DAY</th>\n",
       "      <th>MONTH</th>\n",
       "      <th>data_type</th>\n",
       "    </tr>\n",
       "    <tr>\n",
       "      <th>SKP_CREDIT_CASE</th>\n",
       "      <th></th>\n",
       "      <th></th>\n",
       "      <th></th>\n",
       "      <th></th>\n",
       "      <th></th>\n",
       "      <th></th>\n",
       "      <th></th>\n",
       "    </tr>\n",
       "  </thead>\n",
       "  <tbody>\n",
       "    <tr>\n",
       "      <th>306282367</th>\n",
       "      <td>2020-06-01</td>\n",
       "      <td>123</td>\n",
       "      <td>0.0</td>\n",
       "      <td>1</td>\n",
       "      <td>20200601</td>\n",
       "      <td>202006</td>\n",
       "      <td>valid</td>\n",
       "    </tr>\n",
       "    <tr>\n",
       "      <th>306282368</th>\n",
       "      <td>2020-06-01</td>\n",
       "      <td>112</td>\n",
       "      <td>0.0</td>\n",
       "      <td>1</td>\n",
       "      <td>20200601</td>\n",
       "      <td>202006</td>\n",
       "      <td>train</td>\n",
       "    </tr>\n",
       "    <tr>\n",
       "      <th>306282502</th>\n",
       "      <td>2020-06-01</td>\n",
       "      <td>120</td>\n",
       "      <td>0.0</td>\n",
       "      <td>1</td>\n",
       "      <td>20200601</td>\n",
       "      <td>202006</td>\n",
       "      <td>train</td>\n",
       "    </tr>\n",
       "    <tr>\n",
       "      <th>306282504</th>\n",
       "      <td>2020-06-01</td>\n",
       "      <td>103</td>\n",
       "      <td>0.0</td>\n",
       "      <td>1</td>\n",
       "      <td>20200601</td>\n",
       "      <td>202006</td>\n",
       "      <td>valid</td>\n",
       "    </tr>\n",
       "    <tr>\n",
       "      <th>306282629</th>\n",
       "      <td>2020-06-01</td>\n",
       "      <td>129</td>\n",
       "      <td>0.0</td>\n",
       "      <td>1</td>\n",
       "      <td>20200601</td>\n",
       "      <td>202006</td>\n",
       "      <td>train</td>\n",
       "    </tr>\n",
       "  </tbody>\n",
       "</table>\n",
       "</div>"
      ],
      "text/plain": [
       "                TIME_DECISION_DATE  NTC_BAND  RISK_FSTPD30  BASE       DAY  \\\n",
       "SKP_CREDIT_CASE                                                              \n",
       "306282367               2020-06-01       123           0.0     1  20200601   \n",
       "306282368               2020-06-01       112           0.0     1  20200601   \n",
       "306282502               2020-06-01       120           0.0     1  20200601   \n",
       "306282504               2020-06-01       103           0.0     1  20200601   \n",
       "306282629               2020-06-01       129           0.0     1  20200601   \n",
       "\n",
       "                  MONTH data_type  \n",
       "SKP_CREDIT_CASE                    \n",
       "306282367        202006     valid  \n",
       "306282368        202006     train  \n",
       "306282502        202006     train  \n",
       "306282504        202006     valid  \n",
       "306282629        202006     train  "
      ]
     },
     "execution_count": 80,
     "metadata": {},
     "output_type": "execute_result"
    }
   ],
   "source": [
    "data.head()"
   ]
  },
  {
   "cell_type": "code",
   "execution_count": 81,
   "metadata": {},
   "outputs": [
    {
     "name": "stdout",
     "output_type": "stream",
     "text": [
      "Added WOE variables. Number of columns: 8\n"
     ]
    }
   ],
   "source": [
    "woe_columns_to_replace = list()\n",
    "for column in data_woe.columns:\n",
    "    if column in data:\n",
    "        woe_columns_to_replace.append(column)\n",
    "        print('Column', column ,'dropped as it already existed in the data set.')\n",
    "data = data.drop(woe_columns_to_replace, axis='columns')\n",
    "data = data.join(data_woe)\n",
    "\n",
    "del data_woe\n",
    "gc.collect()\n",
    "\n",
    "print('Added WOE variables. Number of columns:',data.shape[1])\n",
    "cols_woe = [s + '_WOE' for s in cols_pred]"
   ]
  },
  {
   "cell_type": "code",
   "execution_count": 83,
   "metadata": {},
   "outputs": [],
   "source": [
    "data[[\"TIME_DECISION_DATE\",\"NTC_BAND\",\"NTC_BAND_WOE\"]].to_csv(os.getcwd()+r\"\\Data Files\\ntc_woe.csv\")\n"
   ]
  },
  {
   "cell_type": "code",
   "execution_count": 84,
   "metadata": {},
   "outputs": [],
   "source": [
    "data[[\"TIME_DECISION_DATE\",\"NTC_BAND\",\"NTC_BAND_WOE\"]].to_pickle(os.getcwd()+r\"\\Data Files\\ntc_woe.pkl\")"
   ]
  },
  {
   "cell_type": "markdown",
   "metadata": {},
   "source": [
    "### Dummy variables\n",
    "\n",
    "**Optional.**"
   ]
  },
  {
   "cell_type": "code",
   "execution_count": 85,
   "metadata": {},
   "outputs": [
    {
     "name": "stdout",
     "output_type": "stream",
     "text": [
      "Added dummy variables. Number of columns: 13\n"
     ]
    }
   ],
   "source": [
    "dummy_columns_to_replace = list()\n",
    "for column in data_dummy.columns:\n",
    "    if column in data:\n",
    "        dummy_columns_to_replace.append(column)\n",
    "        print('Column', column ,'dropped as it already existed in the data set.')\n",
    "data = data.drop(dummy_columns_to_replace, axis='columns')\n",
    "data = data.join(data_dummy)\n",
    "\n",
    "del data_dummy\n",
    "gc.collect()\n",
    "\n",
    "print('Added dummy variables. Number of columns:',data.shape[1])"
   ]
  },
  {
   "cell_type": "markdown",
   "metadata": {},
   "source": [
    "#  Feature selection\n",
    "\n",
    "First remove WOE variables with one WOE value only - they will have no predictive power."
   ]
  },
  {
   "cell_type": "code",
   "execution_count": 86,
   "metadata": {},
   "outputs": [
    {
     "name": "stdout",
     "output_type": "stream",
     "text": [
      "All predictors have more than 1 unique WOE level.\n"
     ]
    }
   ],
   "source": [
    "cols_del = list()\n",
    "for name, column in data[train_mask][cols_woe].iteritems():\n",
    "    if (column.count() == 0) or (column.max() == column.min()):\n",
    "        cols_del.append(name)\n",
    "        cols_woe.remove(name)\n",
    "\n",
    "if len(cols_del) > 0:\n",
    "    print('Variables',cols_del,'will not be further used as they have only 1 unique WOE level.')\n",
    "else:\n",
    "    print('All predictors have more than 1 unique WOE level.')"
   ]
  },
  {
   "cell_type": "markdown",
   "metadata": {},
   "source": [
    "## Predictor power analysis\n",
    "\n",
    "Calculates IV and Gini of each predictor, sorts the predictors by their power. The power is calculated for each of the samples (train, validate, test, OOT, H.OOT). **If one or more of the samples are empty, comment the according part of the code.**"
   ]
  },
  {
   "cell_type": "code",
   "execution_count": 87,
   "metadata": {},
   "outputs": [
    {
     "data": {
      "text/html": [
       "<div>\n",
       "<style scoped>\n",
       "    .dataframe tbody tr th:only-of-type {\n",
       "        vertical-align: middle;\n",
       "    }\n",
       "\n",
       "    .dataframe tbody tr th {\n",
       "        vertical-align: top;\n",
       "    }\n",
       "\n",
       "    .dataframe thead th {\n",
       "        text-align: right;\n",
       "    }\n",
       "</style>\n",
       "<table border=\"1\" class=\"dataframe\">\n",
       "  <thead>\n",
       "    <tr style=\"text-align: right;\">\n",
       "      <th></th>\n",
       "      <th>IV Train</th>\n",
       "      <th>Gini Train</th>\n",
       "      <th>IV Validate</th>\n",
       "      <th>Gini Validate</th>\n",
       "      <th>IV Test</th>\n",
       "      <th>Gini Test</th>\n",
       "      <th>IV OOT</th>\n",
       "      <th>Gini OOT</th>\n",
       "    </tr>\n",
       "    <tr>\n",
       "      <th>Name</th>\n",
       "      <th></th>\n",
       "      <th></th>\n",
       "      <th></th>\n",
       "      <th></th>\n",
       "      <th></th>\n",
       "      <th></th>\n",
       "      <th></th>\n",
       "      <th></th>\n",
       "    </tr>\n",
       "  </thead>\n",
       "  <tbody>\n",
       "    <tr>\n",
       "      <th>NTC_BAND_WOE</th>\n",
       "      <td>0.003115</td>\n",
       "      <td>0.026487</td>\n",
       "      <td>0.004174</td>\n",
       "      <td>0.018746</td>\n",
       "      <td>0.004901</td>\n",
       "      <td>0.030354</td>\n",
       "      <td>0.004824</td>\n",
       "      <td>0.026279</td>\n",
       "    </tr>\n",
       "  </tbody>\n",
       "</table>\n",
       "</div>"
      ],
      "text/plain": [
       "              IV Train  Gini Train  IV Validate  Gini Validate   IV Test  \\\n",
       "Name                                                                       \n",
       "NTC_BAND_WOE  0.003115    0.026487     0.004174       0.018746  0.004901   \n",
       "\n",
       "              Gini Test    IV OOT  Gini OOT  \n",
       "Name                                         \n",
       "NTC_BAND_WOE   0.030354  0.004824  0.026279  "
      ]
     },
     "metadata": {},
     "output_type": "display_data"
    }
   ],
   "source": [
    "from scoring.metrics import iv,gini,lift\n",
    "\n",
    "power_tab = []\n",
    "for j in range(0,len(cols_woe)):\n",
    "    power_tab.append({'Name':cols_woe[j]\n",
    "                    ,'IV Train':iv(data.loc[train_mask,col_target],data.loc[train_mask,cols_woe[j]])\n",
    "                    ,'Gini Train':gini(data.loc[train_mask,col_target],-data.loc[train_mask,cols_woe[j]])\n",
    "                    ,'IV Validate':iv(data.loc[valid_mask,col_target],data.loc[valid_mask,cols_woe[j]])\n",
    "                    ,'Gini Validate':gini(data.loc[valid_mask,col_target],-data.loc[valid_mask,cols_woe[j]])\n",
    "                    ,'IV Test':iv(data.loc[test_mask,col_target],data.loc[test_mask,cols_woe[j]])\n",
    "                    ,'Gini Test':gini(data.loc[test_mask,col_target],-data.loc[test_mask,cols_woe[j]])\n",
    "                    ,'IV OOT':iv(data.loc[oot_mask,col_target],data.loc[oot_mask,cols_woe[j]])\n",
    "                    ,'Gini OOT':gini(data.loc[oot_mask,col_target],-data.loc[oot_mask,cols_woe[j]])\n",
    "#                     ,'IV HOOT':iv(data.loc[hoot_mask,col_target],data.loc[hoot_mask,cols_woe[j]])\n",
    "#                     ,'Gini HOOT':gini(data.loc[hoot_mask,col_target],-data.loc[hoot_mask,cols_woe[j]])\n",
    "                         })\n",
    "power_out = pd.DataFrame.from_records(power_tab)\n",
    "power_out = power_out.set_index('Name')\n",
    "power_out = power_out.sort_values('Gini Train',ascending=False)\n",
    "\n",
    "pd.options.display.max_rows = 1000\n",
    "display(power_out)\n",
    "pd.options.display.max_rows = 15\n",
    "power_out.to_csv(output_folder+'/predictors/covariates.csv')"
   ]
  },
  {
   "cell_type": "markdown",
   "metadata": {},
   "source": [
    "## Time stability of predictors"
   ]
  },
  {
   "cell_type": "markdown",
   "metadata": {},
   "source": [
    "### Stability charts"
   ]
  },
  {
   "cell_type": "markdown",
   "metadata": {},
   "source": [
    "Set metadata for the stability charts. Two types of charts will be drawn:\n",
    "- Stability of default rate, for which the variables with default and with base need to be set\n",
    "- Stability of population, for which the variable with observation count needs to be set"
   ]
  },
  {
   "cell_type": "code",
   "execution_count": 88,
   "metadata": {},
   "outputs": [],
   "source": [
    "target_for_default = col_target\n",
    "base_for_default = col_base\n",
    "data['ones'] = 1\n",
    "obs_for_population = col_base"
   ]
  },
  {
   "cell_type": "code",
   "execution_count": 89,
   "metadata": {},
   "outputs": [
    {
     "data": {
      "text/html": [
       "<div>\n",
       "<style scoped>\n",
       "    .dataframe tbody tr th:only-of-type {\n",
       "        vertical-align: middle;\n",
       "    }\n",
       "\n",
       "    .dataframe tbody tr th {\n",
       "        vertical-align: top;\n",
       "    }\n",
       "\n",
       "    .dataframe thead th {\n",
       "        text-align: right;\n",
       "    }\n",
       "</style>\n",
       "<table border=\"1\" class=\"dataframe\">\n",
       "  <thead>\n",
       "    <tr style=\"text-align: right;\">\n",
       "      <th></th>\n",
       "      <th>TIME_DECISION_DATE</th>\n",
       "      <th>NTC_BAND</th>\n",
       "      <th>RISK_FSTPD30</th>\n",
       "      <th>BASE</th>\n",
       "      <th>DAY</th>\n",
       "      <th>MONTH</th>\n",
       "      <th>data_type</th>\n",
       "      <th>NTC_BAND_WOE</th>\n",
       "      <th>NTC_BAND_DMY_0</th>\n",
       "      <th>NTC_BAND_DMY_1</th>\n",
       "      <th>NTC_BAND_DMY_2</th>\n",
       "      <th>NTC_BAND_DMY_3</th>\n",
       "      <th>NTC_BAND_DMY_NaN</th>\n",
       "      <th>ones</th>\n",
       "    </tr>\n",
       "    <tr>\n",
       "      <th>SKP_CREDIT_CASE</th>\n",
       "      <th></th>\n",
       "      <th></th>\n",
       "      <th></th>\n",
       "      <th></th>\n",
       "      <th></th>\n",
       "      <th></th>\n",
       "      <th></th>\n",
       "      <th></th>\n",
       "      <th></th>\n",
       "      <th></th>\n",
       "      <th></th>\n",
       "      <th></th>\n",
       "      <th></th>\n",
       "      <th></th>\n",
       "    </tr>\n",
       "  </thead>\n",
       "  <tbody>\n",
       "    <tr>\n",
       "      <th>306282367</th>\n",
       "      <td>2020-06-01</td>\n",
       "      <td>123</td>\n",
       "      <td>0.0</td>\n",
       "      <td>1</td>\n",
       "      <td>20200601</td>\n",
       "      <td>202006</td>\n",
       "      <td>valid</td>\n",
       "      <td>0.002939</td>\n",
       "      <td>0</td>\n",
       "      <td>0</td>\n",
       "      <td>1</td>\n",
       "      <td>0</td>\n",
       "      <td>0</td>\n",
       "      <td>1</td>\n",
       "    </tr>\n",
       "    <tr>\n",
       "      <th>306282368</th>\n",
       "      <td>2020-06-01</td>\n",
       "      <td>112</td>\n",
       "      <td>0.0</td>\n",
       "      <td>1</td>\n",
       "      <td>20200601</td>\n",
       "      <td>202006</td>\n",
       "      <td>train</td>\n",
       "      <td>0.002939</td>\n",
       "      <td>0</td>\n",
       "      <td>0</td>\n",
       "      <td>1</td>\n",
       "      <td>0</td>\n",
       "      <td>0</td>\n",
       "      <td>1</td>\n",
       "    </tr>\n",
       "    <tr>\n",
       "      <th>306282502</th>\n",
       "      <td>2020-06-01</td>\n",
       "      <td>120</td>\n",
       "      <td>0.0</td>\n",
       "      <td>1</td>\n",
       "      <td>20200601</td>\n",
       "      <td>202006</td>\n",
       "      <td>train</td>\n",
       "      <td>0.002939</td>\n",
       "      <td>0</td>\n",
       "      <td>0</td>\n",
       "      <td>1</td>\n",
       "      <td>0</td>\n",
       "      <td>0</td>\n",
       "      <td>1</td>\n",
       "    </tr>\n",
       "    <tr>\n",
       "      <th>306282504</th>\n",
       "      <td>2020-06-01</td>\n",
       "      <td>103</td>\n",
       "      <td>0.0</td>\n",
       "      <td>1</td>\n",
       "      <td>20200601</td>\n",
       "      <td>202006</td>\n",
       "      <td>valid</td>\n",
       "      <td>0.021529</td>\n",
       "      <td>1</td>\n",
       "      <td>0</td>\n",
       "      <td>0</td>\n",
       "      <td>0</td>\n",
       "      <td>0</td>\n",
       "      <td>1</td>\n",
       "    </tr>\n",
       "    <tr>\n",
       "      <th>306282629</th>\n",
       "      <td>2020-06-01</td>\n",
       "      <td>129</td>\n",
       "      <td>0.0</td>\n",
       "      <td>1</td>\n",
       "      <td>20200601</td>\n",
       "      <td>202006</td>\n",
       "      <td>train</td>\n",
       "      <td>0.002939</td>\n",
       "      <td>0</td>\n",
       "      <td>0</td>\n",
       "      <td>1</td>\n",
       "      <td>0</td>\n",
       "      <td>0</td>\n",
       "      <td>1</td>\n",
       "    </tr>\n",
       "  </tbody>\n",
       "</table>\n",
       "</div>"
      ],
      "text/plain": [
       "                TIME_DECISION_DATE  NTC_BAND  RISK_FSTPD30  BASE       DAY  \\\n",
       "SKP_CREDIT_CASE                                                              \n",
       "306282367               2020-06-01       123           0.0     1  20200601   \n",
       "306282368               2020-06-01       112           0.0     1  20200601   \n",
       "306282502               2020-06-01       120           0.0     1  20200601   \n",
       "306282504               2020-06-01       103           0.0     1  20200601   \n",
       "306282629               2020-06-01       129           0.0     1  20200601   \n",
       "\n",
       "                  MONTH data_type  NTC_BAND_WOE  NTC_BAND_DMY_0  \\\n",
       "SKP_CREDIT_CASE                                                   \n",
       "306282367        202006     valid      0.002939               0   \n",
       "306282368        202006     train      0.002939               0   \n",
       "306282502        202006     train      0.002939               0   \n",
       "306282504        202006     valid      0.021529               1   \n",
       "306282629        202006     train      0.002939               0   \n",
       "\n",
       "                 NTC_BAND_DMY_1  NTC_BAND_DMY_2  NTC_BAND_DMY_3  \\\n",
       "SKP_CREDIT_CASE                                                   \n",
       "306282367                     0               1               0   \n",
       "306282368                     0               1               0   \n",
       "306282502                     0               1               0   \n",
       "306282504                     0               0               0   \n",
       "306282629                     0               1               0   \n",
       "\n",
       "                 NTC_BAND_DMY_NaN  ones  \n",
       "SKP_CREDIT_CASE                          \n",
       "306282367                       0     1  \n",
       "306282368                       0     1  \n",
       "306282502                       0     1  \n",
       "306282504                       0     1  \n",
       "306282629                       0     1  "
      ]
     },
     "execution_count": 89,
     "metadata": {},
     "output_type": "execute_result"
    }
   ],
   "source": [
    "data.head()"
   ]
  },
  {
   "cell_type": "code",
   "execution_count": 92,
   "metadata": {},
   "outputs": [
    {
     "data": {
      "image/png": "[encoded data removed]",
      "text/plain": [
       "<Figure size 1296x864 with 2 Axes>"
      ]
     },
     "metadata": {},
     "output_type": "display_data"
    }
   ],
   "source": [
    "from scoring.plot import stability_chart\n",
    "\n",
    "# clf = modelSW\n",
    "list_pred = ['NTC_BAND_WOE']\n",
    "# for col in list(clf.final_predictors_):\n",
    "for col in list_pred:\n",
    "    \n",
    "    stability_chart(binvar = data[col],\n",
    "                    target = data[target_for_default],\n",
    "                    base = data[base_for_default],\n",
    "                    obs = data[obs_for_population],\n",
    "                    month = data[col_month],\n",
    "#                    weight = data[col_weight],\n",
    "                    grouping=grouping, # comment this out for old plots with WOE values\n",
    "                    savepath = output_folder+'/stability/'+col+'_')"
   ]
  },
  {
   "cell_type": "markdown",
   "metadata": {},
   "source": [
    "### Stability Index\n",
    "\n",
    "The following code calculates two versions of Elena's Stability Index, which are defined as follows.\n",
    "\n",
    "**v1** \n",
    "1. Compute the bad rates in each category for each month\n",
    "2. Compute the rank of each category within each month based on the bad rate\n",
    "3. Compute the frequency of each position / rank within each category from step 2\n",
    "4. Compute the ratios of the most frequent position / rank within each category from step 3\n",
    "5. Compute average of the ratios from step 4\n",
    "\n",
    "**v2**\n",
    "1. Compute the bad rates in each category for each month\n",
    "2. Compute the rank of each category within each month based on the bad rate\n",
    "3. Compute the frequency of each position / rank through all categories from step 2 and the corresponding ratios\n",
    "4. Compute the product of the ratios within each position / rank from step 3\n",
    "5. Compute average of the products from step 4\n",
    "\n",
    "*Note: Both version can give \"false positives\" (indicating that variable is unstable) for U-shaped variables.*"
   ]
  },
  {
   "cell_type": "code",
   "execution_count": 118,
   "metadata": {},
   "outputs": [
    {
     "name": "stderr",
     "output_type": "stream",
     "text": [
      "C:\\Users\\aman.khatri91425\\Desktop\\HomeCredit\\UW\\Scoring Workflow\\scoring\\stability_index.py:109: RuntimeWarning: invalid value encountered in double_scalars\n",
      "  index_value = tmp['ratio'].sum() / tmp['ratio'].count()\n",
      "C:\\Users\\aman.khatri91425\\Desktop\\HomeCredit\\UW\\Scoring Workflow\\scoring\\stability_index.py:110: RuntimeWarning: invalid value encountered in double_scalars\n",
      "  index_value2 = tmp2['ratio']['prod'].sum() / tmp2['ratio']['prod'].count()\n",
      "C:\\Users\\aman.khatri91425\\Desktop\\HomeCredit\\UW\\Scoring Workflow\\scoring\\stability_index.py:109: RuntimeWarning: invalid value encountered in double_scalars\n",
      "  index_value = tmp['ratio'].sum() / tmp['ratio'].count()\n",
      "C:\\Users\\aman.khatri91425\\Desktop\\HomeCredit\\UW\\Scoring Workflow\\scoring\\stability_index.py:110: RuntimeWarning: invalid value encountered in double_scalars\n",
      "  index_value2 = tmp2['ratio']['prod'].sum() / tmp2['ratio']['prod'].count()\n"
     ]
    },
    {
     "data": {
      "text/html": [
       "<div>\n",
       "<style scoped>\n",
       "    .dataframe tbody tr th:only-of-type {\n",
       "        vertical-align: middle;\n",
       "    }\n",
       "\n",
       "    .dataframe tbody tr th {\n",
       "        vertical-align: top;\n",
       "    }\n",
       "\n",
       "    .dataframe thead tr th {\n",
       "        text-align: left;\n",
       "    }\n",
       "\n",
       "    .dataframe thead tr:last-of-type th {\n",
       "        text-align: right;\n",
       "    }\n",
       "</style>\n",
       "<table border=\"1\" class=\"dataframe\">\n",
       "  <thead>\n",
       "    <tr>\n",
       "      <th></th>\n",
       "      <th colspan=\"10\" halign=\"left\">Index value</th>\n",
       "    </tr>\n",
       "    <tr>\n",
       "      <th>Index version</th>\n",
       "      <th colspan=\"5\" halign=\"left\">v1</th>\n",
       "      <th colspan=\"5\" halign=\"left\">v2</th>\n",
       "    </tr>\n",
       "    <tr>\n",
       "      <th>Sample</th>\n",
       "      <th>hoot</th>\n",
       "      <th>oot</th>\n",
       "      <th>test</th>\n",
       "      <th>train</th>\n",
       "      <th>valid</th>\n",
       "      <th>hoot</th>\n",
       "      <th>oot</th>\n",
       "      <th>test</th>\n",
       "      <th>train</th>\n",
       "      <th>valid</th>\n",
       "    </tr>\n",
       "    <tr>\n",
       "      <th>Name</th>\n",
       "      <th></th>\n",
       "      <th></th>\n",
       "      <th></th>\n",
       "      <th></th>\n",
       "      <th></th>\n",
       "      <th></th>\n",
       "      <th></th>\n",
       "      <th></th>\n",
       "      <th></th>\n",
       "      <th></th>\n",
       "    </tr>\n",
       "  </thead>\n",
       "  <tbody>\n",
       "    <tr>\n",
       "      <th>AIRTEL_SCORE_WOE</th>\n",
       "      <td>NaN</td>\n",
       "      <td>0.6</td>\n",
       "      <td>0.8</td>\n",
       "      <td>1.0</td>\n",
       "      <td>1.0</td>\n",
       "      <td>NaN</td>\n",
       "      <td>0.800051</td>\n",
       "      <td>0.7</td>\n",
       "      <td>1.0</td>\n",
       "      <td>1.0</td>\n",
       "    </tr>\n",
       "  </tbody>\n",
       "</table>\n",
       "</div>"
      ],
      "text/plain": [
       "                 Index value                                                  \\\n",
       "Index version             v1                         v2                        \n",
       "Sample                  hoot  oot test train valid hoot       oot test train   \n",
       "Name                                                                           \n",
       "AIRTEL_SCORE_WOE         NaN  0.6  0.8   1.0   1.0  NaN  0.800051  0.7   1.0   \n",
       "\n",
       "                        \n",
       "Index version           \n",
       "Sample           valid  \n",
       "Name                    \n",
       "AIRTEL_SCORE_WOE   1.0  "
      ]
     },
     "metadata": {},
     "output_type": "display_data"
    }
   ],
   "source": [
    "from scoring.stability_index import stability_index_value\n",
    "\n",
    "stability_tab = []\n",
    "\n",
    "# for pred in clf.final_predictors_:\n",
    "for pred in list_pred:\n",
    "\n",
    "    for mask in ['train_mask', 'valid_mask', 'test_mask', 'oot_mask', 'hoot_mask']:\n",
    "        for ver in ['v1', 'v2']:\n",
    "            stability_tab.append({'Name':pred, 'Sample':mask[:-5], 'Index version':ver, 'Index value':\n",
    "                                 stability_index_value(data[eval(mask)], pred, col_target, col_base, col_month)[ver]})\n",
    "\n",
    "stability_tab = pd.DataFrame(stability_tab)\n",
    "stability_tab = stability_tab.groupby(['Name','Index version','Sample'])[['Index value']].mean().unstack(level=[1,2])\n",
    "\n",
    "pd.options.display.max_rows = 1000\n",
    "display(stability_tab)\n",
    "stability_tab.to_csv(output_folder+'/stability/stability_index.csv')"
   ]
  },
  {
   "cell_type": "markdown",
   "metadata": {},
   "source": [
    "### PSI"
   ]
  },
  {
   "cell_type": "code",
   "execution_count": 119,
   "metadata": {},
   "outputs": [
    {
     "name": "stdout",
     "output_type": "stream",
     "text": [
      "Month run: variable AIRTEL_SCORE_WOE is proceed. Done variables: 0/0\n"
     ]
    },
    {
     "data": {
      "text/html": [
       "<div>\n",
       "<style scoped>\n",
       "    .dataframe tbody tr th:only-of-type {\n",
       "        vertical-align: middle;\n",
       "    }\n",
       "\n",
       "    .dataframe tbody tr th {\n",
       "        vertical-align: top;\n",
       "    }\n",
       "\n",
       "    .dataframe thead th {\n",
       "        text-align: right;\n",
       "    }\n",
       "</style>\n",
       "<table border=\"1\" class=\"dataframe\">\n",
       "  <thead>\n",
       "    <tr style=\"text-align: right;\">\n",
       "      <th></th>\n",
       "      <th>Variable</th>\n",
       "      <th>PSI avg per month</th>\n",
       "    </tr>\n",
       "  </thead>\n",
       "  <tbody>\n",
       "    <tr>\n",
       "      <th>0</th>\n",
       "      <td>AIRTEL_SCORE_WOE</td>\n",
       "      <td>0.030294</td>\n",
       "    </tr>\n",
       "  </tbody>\n",
       "</table>\n",
       "</div>"
      ],
      "text/plain": [
       "           Variable  PSI avg per month\n",
       "0  AIRTEL_SCORE_WOE           0.030294"
      ]
     },
     "metadata": {},
     "output_type": "display_data"
    }
   ],
   "source": [
    "from scoring.stability_index import psi_calc_df\n",
    "monthly_psi, masked_psi = psi_calc_df(data, cols_pred_psi=list_pred, col_month='MONTH')\n",
    "display(monthly_psi)"
   ]
  },
  {
   "cell_type": "code",
   "execution_count": null,
   "metadata": {},
   "outputs": [],
   "source": []
  }
 ],
 "metadata": {
  "kernelspec": {
   "display_name": "Python 3",
   "language": "python",
   "name": "python3"
  },
  "language_info": {
   "codemirror_mode": {
    "name": "ipython",
    "version": 3
   },
   "file_extension": ".py",
   "mimetype": "text/x-python",
   "name": "python",
   "nbconvert_exporter": "python",
   "pygments_lexer": "ipython3",
   "version": "3.7.3"
  },
  "toc": {
   "base_numbering": 1,
   "nav_menu": {},
   "number_sections": true,
   "sideBar": true,
   "skip_h1_title": false,
   "title_cell": "Table of Contents",
   "title_sidebar": "Contents",
   "toc_cell": false,
   "toc_position": {
    "height": "calc(100% - 180px)",
    "left": "10px",
    "top": "150px",
    "width": "384px"
   },
   "toc_section_display": true,
   "toc_window_display": true
  },
  "varInspector": {
   "cols": {
    "lenName": 16,
    "lenType": 16,
    "lenVar": 40
   },
   "kernels_config": {
    "python": {
     "delete_cmd_postfix": "",
     "delete_cmd_prefix": "del ",
     "library": "var_list.py",
     "varRefreshCmd": "print(var_dic_list())"
    },
    "r": {
     "delete_cmd_postfix": ") ",
     "delete_cmd_prefix": "rm(",
     "library": "var_list.r",
     "varRefreshCmd": "cat(var_dic_list()) "
    }
   },
   "position": {
    "height": "638px",
    "left": "1569px",
    "right": "20px",
    "top": "72px",
    "width": "289px"
   },
   "types_to_exclude": [
    "module",
    "function",
    "builtin_function_or_method",
    "instance",
    "_Feature"
   ],
   "window_display": false
  }
 },
 "nbformat": 4,
 "nbformat_minor": 2
}
